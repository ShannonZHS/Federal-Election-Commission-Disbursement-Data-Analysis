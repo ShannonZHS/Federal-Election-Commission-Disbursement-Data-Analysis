{
 "cells": [
  {
   "cell_type": "markdown",
   "metadata": {},
   "source": [
    "# <div class=\"alert alert-block alert-info\"> <center>An Analysis of the House and Senate Campaign Finance</center></div>"
   ]
  },
  {
   "cell_type": "markdown",
   "metadata": {},
   "source": [
    "**Install SpaCy** \n",
    "<br>(import when use)\n",
    "<br>conda config --add channels conda-forge\n",
    "<br>conda install spacy\n",
    "<br>python -m spacy.en.download\n",
    "<br>python -m spacy download en \n",
    "<br><br>**Install Gensim** \n",
    "<br>(import when use)\n",
    "<br>pip install gensim\n",
    "<br><br>**Install pyLDAvis** \n",
    "<br>(import when use)\n",
    "<br>pip install pyldavis "
   ]
  },
  {
   "cell_type": "markdown",
   "metadata": {},
   "source": [
    "## <div class=\"alert alert-block alert-success\"><center>Project Description</center>\n",
    "<br>In the political campaign seasons, analyses abound with the candidates' profiles, political experiences, campaign slogans, signature issues and strategies, advantages and disadvantages, etc. However, **the financial resource they possess is less discussed in the mass media. The economic behaviors of political figures and groups, who have an absolute influence on the economy, are seldom evaluated from a financial angle.**\n",
    "<br><br><li>**Are the campaign strategies in different states similar to each other?**\n",
    "<br><li>**Is politics a money game?** How much difference could money make in an election? If those who spent the most won at last? \n",
    "<br><li>**How did the candidates spend their contributions?** Did they spend the money right in the campaign trail?  \n",
    "<br>Let us take a look at the **disbursements dataset of the senator candidates and representative candidates in 2018 election cycles** to find out the answers to the above questions.\n",
    "    \n",
    "<img src=\"hs.png\" width=70% height=70% />\n",
    "<br>Picture source: https://classic.fec.gov/disclosurehs/hsnational.do"
   ]
  },
  {
   "cell_type": "markdown",
   "metadata": {},
   "source": [
    "## <div class=\"alert alert-block alert-success\"><center>Data Source</center>\n",
    "Campaign committees are required to disclose all specific disbursements, contributions to other federal candidates or parties or other committees, as well as all loan repayments. Operating expenses, contributions to state or local candidates...must be disclosed when the amount paid to any one vendor exceeds $200 in an election cycle. You can learn more about the reporting requirements for candidates by reviewing the FEC's Campaign Guide (https://classic.fec.gov/pdf/candgui.pdf).\n",
    "<br><br>The disbursement datasets are provided by the **Federal Election Commission** online.These files contain **all itemized disbursements reported by a candidate for either the House or Senate during the current election cycle**. This includes any candidate who ran in a regular House or Senate campaign, along with all candidates in special elections in either the odd numbered year or the election year. **Each row in the file contains information about the committee (and the candidate) that filed the report, along with the name and address of the entity that received the payment, the date and amount of the transaction, a description of its purpose along with links to other transactions that might be associated.** In the dataset of **Candidate Summary Action** contains the information of each candidate's general information and political party information and their financial activities. In the dataset of **Election Reuslts** contains the results for the election.\n",
    "<br><br>**The URL of the raw data is:** \n",
    "<br>https://classic.fec.gov/data/CandidateDisbursement.do?format=html \n",
    "<br>https://www.fec.gov/introduction-campaign-finance/election-and-voting-information/<br>https://classic.fec.gov/data/CandidateSummary.do?format=html&election_yr=2018\n",
    "<br><br>**The file name of the downloaded datasets is:** \n",
    "<br>all_house_senate_2018.csv\n",
    "<br>Election_results_2018.xlsx\n",
    "<br>CandidateSummaryAction_2018.csv\n",
    "<br>column_description.csv"
   ]
  },
  {
   "cell_type": "markdown",
   "metadata": {},
   "source": [
    "## <div class=\"alert alert-block alert-success\"><center>Data Description<center>"
   ]
  },
  {
   "cell_type": "markdown",
   "metadata": {},
   "source": [
    "### <li>**Read Files**"
   ]
  },
  {
   "cell_type": "code",
   "execution_count": 1,
   "metadata": {},
   "outputs": [
    {
     "name": "stderr",
     "output_type": "stream",
     "text": [
      "/Users/zhanghuishan/anaconda3/lib/python3.7/site-packages/IPython/core/interactiveshell.py:3057: DtypeWarning: Columns (16,22) have mixed types. Specify dtype option on import or set low_memory=False.\n",
      "  interactivity=interactivity, compiler=compiler, result=result)\n"
     ]
    }
   ],
   "source": [
    "import pandas as pd\n",
    "df_2018=pd.read_csv('all_house_senate_2018.csv')\n",
    "df_2018_candidate_summary=pd.read_csv('CandidateSummaryAction_2018.csv')\n",
    "result_2018_excel = pd.ExcelFile('Election_results_2018.xlsx')\n",
    "df_result_2018_senate = result_2018_excel.parse('2018 US Senate Results by State', usecols='E,I,V')\n",
    "df_result_2018_house = result_2018_excel.parse('2018 US House Results by State', usecols='E,I,V')\n",
    "df_result_2018 = df_result_2018_senate.append(df_result_2018_house)"
   ]
  },
  {
   "cell_type": "markdown",
   "metadata": {},
   "source": [
    "### <li>**Data Size (1,063,910 rows * 26 columns)**"
   ]
  },
  {
   "cell_type": "code",
   "execution_count": 2,
   "metadata": {},
   "outputs": [
    {
     "data": {
      "text/plain": [
       "(1063910, 26)"
      ]
     },
     "execution_count": 2,
     "metadata": {},
     "output_type": "execute_result"
    }
   ],
   "source": [
    "df_2018.shape"
   ]
  },
  {
   "cell_type": "markdown",
   "metadata": {},
   "source": [
    "### <li>**Column Name Explanation**"
   ]
  },
  {
   "cell_type": "code",
   "execution_count": 3,
   "metadata": {
    "scrolled": true
   },
   "outputs": [
    {
     "data": {
      "text/plain": [
       "Index(['com_id', 'com_nam', 'can_id', 'can_nam', 'ele_yea', 'can_off',\n",
       "       'can_off_sta', 'can_off_dis', 'lin_num', 'lin_ima', 'rec_com_id',\n",
       "       'rec_nam', 'rec_str1', 'rec_str2', 'rec_cit', 'rec_sta', 'rec_zip',\n",
       "       'dis_dat', 'dis_amo', 'dis_pur_des', 'mem_cod', 'mem_tex', 'cat_cod',\n",
       "       'cat_des', 'tra_id', 'bac_ref_id'],\n",
       "      dtype='object')"
      ]
     },
     "execution_count": 3,
     "metadata": {},
     "output_type": "execute_result"
    }
   ],
   "source": [
    "df_2018.columns "
   ]
  },
  {
   "cell_type": "markdown",
   "metadata": {},
   "source": [
    "#### **Use the code below to get the explanation of any tag or check the descriptions of all columns below.**"
   ]
  },
  {
   "cell_type": "code",
   "execution_count": 4,
   "metadata": {},
   "outputs": [
    {
     "data": {
      "text/html": [
       "<div>\n",
       "<style scoped>\n",
       "    .dataframe tbody tr th:only-of-type {\n",
       "        vertical-align: middle;\n",
       "    }\n",
       "\n",
       "    .dataframe tbody tr th {\n",
       "        vertical-align: top;\n",
       "    }\n",
       "\n",
       "    .dataframe thead th {\n",
       "        text-align: right;\n",
       "    }\n",
       "</style>\n",
       "<table border=\"1\" class=\"dataframe\">\n",
       "  <thead>\n",
       "    <tr style=\"text-align: right;\">\n",
       "      <th></th>\n",
       "      <th>Tag</th>\n",
       "      <th>Explanation</th>\n",
       "    </tr>\n",
       "  </thead>\n",
       "  <tbody>\n",
       "    <tr>\n",
       "      <th>11</th>\n",
       "      <td>rec_nam</td>\n",
       "      <td>Name of the person or vendor or other entity receiving this payment from the committee</td>\n",
       "    </tr>\n",
       "  </tbody>\n",
       "</table>\n",
       "</div>"
      ],
      "text/plain": [
       "        Tag  \\\n",
       "11  rec_nam   \n",
       "\n",
       "                                                                               Explanation  \n",
       "11  Name of the person or vendor or other entity receiving this payment from the committee  "
      ]
     },
     "execution_count": 4,
     "metadata": {},
     "output_type": "execute_result"
    }
   ],
   "source": [
    "pd.set_option('max_colwidth',1000)\n",
    "cd=pd.read_csv('column_description.csv',index_col=None)\n",
    "cd[cd.Tag == 'rec_nam'][['Tag','Explanation']] # Check what is 'rec_nam'"
   ]
  },
  {
   "cell_type": "code",
   "execution_count": 5,
   "metadata": {
    "scrolled": true
   },
   "outputs": [
    {
     "data": {
      "text/html": [
       "<style  type=\"text/css\" >\n",
       "    #T_a14cbb48_1896_11ea_bdff_8c85903dc421row0_col0 {\n",
       "            text-align:  left;\n",
       "        }    #T_a14cbb48_1896_11ea_bdff_8c85903dc421row0_col1 {\n",
       "            text-align:  left;\n",
       "        }    #T_a14cbb48_1896_11ea_bdff_8c85903dc421row0_col2 {\n",
       "            text-align:  left;\n",
       "        }    #T_a14cbb48_1896_11ea_bdff_8c85903dc421row0_col3 {\n",
       "            text-align:  left;\n",
       "        }    #T_a14cbb48_1896_11ea_bdff_8c85903dc421row0_col4 {\n",
       "            text-align:  left;\n",
       "        }    #T_a14cbb48_1896_11ea_bdff_8c85903dc421row0_col5 {\n",
       "            text-align:  left;\n",
       "        }    #T_a14cbb48_1896_11ea_bdff_8c85903dc421row1_col0 {\n",
       "            text-align:  left;\n",
       "        }    #T_a14cbb48_1896_11ea_bdff_8c85903dc421row1_col1 {\n",
       "            text-align:  left;\n",
       "        }    #T_a14cbb48_1896_11ea_bdff_8c85903dc421row1_col2 {\n",
       "            text-align:  left;\n",
       "        }    #T_a14cbb48_1896_11ea_bdff_8c85903dc421row1_col3 {\n",
       "            text-align:  left;\n",
       "        }    #T_a14cbb48_1896_11ea_bdff_8c85903dc421row1_col4 {\n",
       "            text-align:  left;\n",
       "        }    #T_a14cbb48_1896_11ea_bdff_8c85903dc421row1_col5 {\n",
       "            text-align:  left;\n",
       "        }    #T_a14cbb48_1896_11ea_bdff_8c85903dc421row2_col0 {\n",
       "            text-align:  left;\n",
       "        }    #T_a14cbb48_1896_11ea_bdff_8c85903dc421row2_col1 {\n",
       "            text-align:  left;\n",
       "        }    #T_a14cbb48_1896_11ea_bdff_8c85903dc421row2_col2 {\n",
       "            text-align:  left;\n",
       "        }    #T_a14cbb48_1896_11ea_bdff_8c85903dc421row2_col3 {\n",
       "            text-align:  left;\n",
       "        }    #T_a14cbb48_1896_11ea_bdff_8c85903dc421row2_col4 {\n",
       "            text-align:  left;\n",
       "        }    #T_a14cbb48_1896_11ea_bdff_8c85903dc421row2_col5 {\n",
       "            text-align:  left;\n",
       "        }    #T_a14cbb48_1896_11ea_bdff_8c85903dc421row3_col0 {\n",
       "            text-align:  left;\n",
       "        }    #T_a14cbb48_1896_11ea_bdff_8c85903dc421row3_col1 {\n",
       "            text-align:  left;\n",
       "        }    #T_a14cbb48_1896_11ea_bdff_8c85903dc421row3_col2 {\n",
       "            text-align:  left;\n",
       "        }    #T_a14cbb48_1896_11ea_bdff_8c85903dc421row3_col3 {\n",
       "            text-align:  left;\n",
       "        }    #T_a14cbb48_1896_11ea_bdff_8c85903dc421row3_col4 {\n",
       "            text-align:  left;\n",
       "        }    #T_a14cbb48_1896_11ea_bdff_8c85903dc421row3_col5 {\n",
       "            text-align:  left;\n",
       "        }    #T_a14cbb48_1896_11ea_bdff_8c85903dc421row4_col0 {\n",
       "            text-align:  left;\n",
       "        }    #T_a14cbb48_1896_11ea_bdff_8c85903dc421row4_col1 {\n",
       "            text-align:  left;\n",
       "        }    #T_a14cbb48_1896_11ea_bdff_8c85903dc421row4_col2 {\n",
       "            text-align:  left;\n",
       "        }    #T_a14cbb48_1896_11ea_bdff_8c85903dc421row4_col3 {\n",
       "            text-align:  left;\n",
       "        }    #T_a14cbb48_1896_11ea_bdff_8c85903dc421row4_col4 {\n",
       "            text-align:  left;\n",
       "        }    #T_a14cbb48_1896_11ea_bdff_8c85903dc421row4_col5 {\n",
       "            text-align:  left;\n",
       "        }    #T_a14cbb48_1896_11ea_bdff_8c85903dc421row5_col0 {\n",
       "            text-align:  left;\n",
       "        }    #T_a14cbb48_1896_11ea_bdff_8c85903dc421row5_col1 {\n",
       "            text-align:  left;\n",
       "        }    #T_a14cbb48_1896_11ea_bdff_8c85903dc421row5_col2 {\n",
       "            text-align:  left;\n",
       "        }    #T_a14cbb48_1896_11ea_bdff_8c85903dc421row5_col3 {\n",
       "            text-align:  left;\n",
       "        }    #T_a14cbb48_1896_11ea_bdff_8c85903dc421row5_col4 {\n",
       "            text-align:  left;\n",
       "        }    #T_a14cbb48_1896_11ea_bdff_8c85903dc421row5_col5 {\n",
       "            text-align:  left;\n",
       "        }    #T_a14cbb48_1896_11ea_bdff_8c85903dc421row6_col0 {\n",
       "            text-align:  left;\n",
       "        }    #T_a14cbb48_1896_11ea_bdff_8c85903dc421row6_col1 {\n",
       "            text-align:  left;\n",
       "        }    #T_a14cbb48_1896_11ea_bdff_8c85903dc421row6_col2 {\n",
       "            text-align:  left;\n",
       "        }    #T_a14cbb48_1896_11ea_bdff_8c85903dc421row6_col3 {\n",
       "            text-align:  left;\n",
       "        }    #T_a14cbb48_1896_11ea_bdff_8c85903dc421row6_col4 {\n",
       "            text-align:  left;\n",
       "        }    #T_a14cbb48_1896_11ea_bdff_8c85903dc421row6_col5 {\n",
       "            text-align:  left;\n",
       "        }    #T_a14cbb48_1896_11ea_bdff_8c85903dc421row7_col0 {\n",
       "            text-align:  left;\n",
       "        }    #T_a14cbb48_1896_11ea_bdff_8c85903dc421row7_col1 {\n",
       "            text-align:  left;\n",
       "        }    #T_a14cbb48_1896_11ea_bdff_8c85903dc421row7_col2 {\n",
       "            text-align:  left;\n",
       "        }    #T_a14cbb48_1896_11ea_bdff_8c85903dc421row7_col3 {\n",
       "            text-align:  left;\n",
       "        }    #T_a14cbb48_1896_11ea_bdff_8c85903dc421row7_col4 {\n",
       "            text-align:  left;\n",
       "        }    #T_a14cbb48_1896_11ea_bdff_8c85903dc421row7_col5 {\n",
       "            text-align:  left;\n",
       "        }    #T_a14cbb48_1896_11ea_bdff_8c85903dc421row8_col0 {\n",
       "            text-align:  left;\n",
       "        }    #T_a14cbb48_1896_11ea_bdff_8c85903dc421row8_col1 {\n",
       "            text-align:  left;\n",
       "        }    #T_a14cbb48_1896_11ea_bdff_8c85903dc421row8_col2 {\n",
       "            text-align:  left;\n",
       "        }    #T_a14cbb48_1896_11ea_bdff_8c85903dc421row8_col3 {\n",
       "            text-align:  left;\n",
       "        }    #T_a14cbb48_1896_11ea_bdff_8c85903dc421row8_col4 {\n",
       "            text-align:  left;\n",
       "        }    #T_a14cbb48_1896_11ea_bdff_8c85903dc421row8_col5 {\n",
       "            text-align:  left;\n",
       "        }    #T_a14cbb48_1896_11ea_bdff_8c85903dc421row9_col0 {\n",
       "            text-align:  left;\n",
       "        }    #T_a14cbb48_1896_11ea_bdff_8c85903dc421row9_col1 {\n",
       "            text-align:  left;\n",
       "        }    #T_a14cbb48_1896_11ea_bdff_8c85903dc421row9_col2 {\n",
       "            text-align:  left;\n",
       "        }    #T_a14cbb48_1896_11ea_bdff_8c85903dc421row9_col3 {\n",
       "            text-align:  left;\n",
       "        }    #T_a14cbb48_1896_11ea_bdff_8c85903dc421row9_col4 {\n",
       "            text-align:  left;\n",
       "        }    #T_a14cbb48_1896_11ea_bdff_8c85903dc421row9_col5 {\n",
       "            text-align:  left;\n",
       "        }    #T_a14cbb48_1896_11ea_bdff_8c85903dc421row10_col0 {\n",
       "            text-align:  left;\n",
       "        }    #T_a14cbb48_1896_11ea_bdff_8c85903dc421row10_col1 {\n",
       "            text-align:  left;\n",
       "        }    #T_a14cbb48_1896_11ea_bdff_8c85903dc421row10_col2 {\n",
       "            text-align:  left;\n",
       "        }    #T_a14cbb48_1896_11ea_bdff_8c85903dc421row10_col3 {\n",
       "            text-align:  left;\n",
       "        }    #T_a14cbb48_1896_11ea_bdff_8c85903dc421row10_col4 {\n",
       "            text-align:  left;\n",
       "        }    #T_a14cbb48_1896_11ea_bdff_8c85903dc421row10_col5 {\n",
       "            text-align:  left;\n",
       "        }    #T_a14cbb48_1896_11ea_bdff_8c85903dc421row11_col0 {\n",
       "            text-align:  left;\n",
       "        }    #T_a14cbb48_1896_11ea_bdff_8c85903dc421row11_col1 {\n",
       "            text-align:  left;\n",
       "        }    #T_a14cbb48_1896_11ea_bdff_8c85903dc421row11_col2 {\n",
       "            text-align:  left;\n",
       "        }    #T_a14cbb48_1896_11ea_bdff_8c85903dc421row11_col3 {\n",
       "            text-align:  left;\n",
       "        }    #T_a14cbb48_1896_11ea_bdff_8c85903dc421row11_col4 {\n",
       "            text-align:  left;\n",
       "        }    #T_a14cbb48_1896_11ea_bdff_8c85903dc421row11_col5 {\n",
       "            text-align:  left;\n",
       "        }    #T_a14cbb48_1896_11ea_bdff_8c85903dc421row12_col0 {\n",
       "            text-align:  left;\n",
       "        }    #T_a14cbb48_1896_11ea_bdff_8c85903dc421row12_col1 {\n",
       "            text-align:  left;\n",
       "        }    #T_a14cbb48_1896_11ea_bdff_8c85903dc421row12_col2 {\n",
       "            text-align:  left;\n",
       "        }    #T_a14cbb48_1896_11ea_bdff_8c85903dc421row12_col3 {\n",
       "            text-align:  left;\n",
       "        }    #T_a14cbb48_1896_11ea_bdff_8c85903dc421row12_col4 {\n",
       "            text-align:  left;\n",
       "        }    #T_a14cbb48_1896_11ea_bdff_8c85903dc421row12_col5 {\n",
       "            text-align:  left;\n",
       "        }    #T_a14cbb48_1896_11ea_bdff_8c85903dc421row13_col0 {\n",
       "            text-align:  left;\n",
       "        }    #T_a14cbb48_1896_11ea_bdff_8c85903dc421row13_col1 {\n",
       "            text-align:  left;\n",
       "        }    #T_a14cbb48_1896_11ea_bdff_8c85903dc421row13_col2 {\n",
       "            text-align:  left;\n",
       "        }    #T_a14cbb48_1896_11ea_bdff_8c85903dc421row13_col3 {\n",
       "            text-align:  left;\n",
       "        }    #T_a14cbb48_1896_11ea_bdff_8c85903dc421row13_col4 {\n",
       "            text-align:  left;\n",
       "        }    #T_a14cbb48_1896_11ea_bdff_8c85903dc421row13_col5 {\n",
       "            text-align:  left;\n",
       "        }    #T_a14cbb48_1896_11ea_bdff_8c85903dc421row14_col0 {\n",
       "            text-align:  left;\n",
       "        }    #T_a14cbb48_1896_11ea_bdff_8c85903dc421row14_col1 {\n",
       "            text-align:  left;\n",
       "        }    #T_a14cbb48_1896_11ea_bdff_8c85903dc421row14_col2 {\n",
       "            text-align:  left;\n",
       "        }    #T_a14cbb48_1896_11ea_bdff_8c85903dc421row14_col3 {\n",
       "            text-align:  left;\n",
       "        }    #T_a14cbb48_1896_11ea_bdff_8c85903dc421row14_col4 {\n",
       "            text-align:  left;\n",
       "        }    #T_a14cbb48_1896_11ea_bdff_8c85903dc421row14_col5 {\n",
       "            text-align:  left;\n",
       "        }    #T_a14cbb48_1896_11ea_bdff_8c85903dc421row15_col0 {\n",
       "            text-align:  left;\n",
       "        }    #T_a14cbb48_1896_11ea_bdff_8c85903dc421row15_col1 {\n",
       "            text-align:  left;\n",
       "        }    #T_a14cbb48_1896_11ea_bdff_8c85903dc421row15_col2 {\n",
       "            text-align:  left;\n",
       "        }    #T_a14cbb48_1896_11ea_bdff_8c85903dc421row15_col3 {\n",
       "            text-align:  left;\n",
       "        }    #T_a14cbb48_1896_11ea_bdff_8c85903dc421row15_col4 {\n",
       "            text-align:  left;\n",
       "        }    #T_a14cbb48_1896_11ea_bdff_8c85903dc421row15_col5 {\n",
       "            text-align:  left;\n",
       "        }    #T_a14cbb48_1896_11ea_bdff_8c85903dc421row16_col0 {\n",
       "            text-align:  left;\n",
       "        }    #T_a14cbb48_1896_11ea_bdff_8c85903dc421row16_col1 {\n",
       "            text-align:  left;\n",
       "        }    #T_a14cbb48_1896_11ea_bdff_8c85903dc421row16_col2 {\n",
       "            text-align:  left;\n",
       "        }    #T_a14cbb48_1896_11ea_bdff_8c85903dc421row16_col3 {\n",
       "            text-align:  left;\n",
       "        }    #T_a14cbb48_1896_11ea_bdff_8c85903dc421row16_col4 {\n",
       "            text-align:  left;\n",
       "        }    #T_a14cbb48_1896_11ea_bdff_8c85903dc421row16_col5 {\n",
       "            text-align:  left;\n",
       "        }    #T_a14cbb48_1896_11ea_bdff_8c85903dc421row17_col0 {\n",
       "            text-align:  left;\n",
       "        }    #T_a14cbb48_1896_11ea_bdff_8c85903dc421row17_col1 {\n",
       "            text-align:  left;\n",
       "        }    #T_a14cbb48_1896_11ea_bdff_8c85903dc421row17_col2 {\n",
       "            text-align:  left;\n",
       "        }    #T_a14cbb48_1896_11ea_bdff_8c85903dc421row17_col3 {\n",
       "            text-align:  left;\n",
       "        }    #T_a14cbb48_1896_11ea_bdff_8c85903dc421row17_col4 {\n",
       "            text-align:  left;\n",
       "        }    #T_a14cbb48_1896_11ea_bdff_8c85903dc421row17_col5 {\n",
       "            text-align:  left;\n",
       "        }    #T_a14cbb48_1896_11ea_bdff_8c85903dc421row18_col0 {\n",
       "            text-align:  left;\n",
       "        }    #T_a14cbb48_1896_11ea_bdff_8c85903dc421row18_col1 {\n",
       "            text-align:  left;\n",
       "        }    #T_a14cbb48_1896_11ea_bdff_8c85903dc421row18_col2 {\n",
       "            text-align:  left;\n",
       "        }    #T_a14cbb48_1896_11ea_bdff_8c85903dc421row18_col3 {\n",
       "            text-align:  left;\n",
       "        }    #T_a14cbb48_1896_11ea_bdff_8c85903dc421row18_col4 {\n",
       "            text-align:  left;\n",
       "        }    #T_a14cbb48_1896_11ea_bdff_8c85903dc421row18_col5 {\n",
       "            text-align:  left;\n",
       "        }    #T_a14cbb48_1896_11ea_bdff_8c85903dc421row19_col0 {\n",
       "            text-align:  left;\n",
       "        }    #T_a14cbb48_1896_11ea_bdff_8c85903dc421row19_col1 {\n",
       "            text-align:  left;\n",
       "        }    #T_a14cbb48_1896_11ea_bdff_8c85903dc421row19_col2 {\n",
       "            text-align:  left;\n",
       "        }    #T_a14cbb48_1896_11ea_bdff_8c85903dc421row19_col3 {\n",
       "            text-align:  left;\n",
       "        }    #T_a14cbb48_1896_11ea_bdff_8c85903dc421row19_col4 {\n",
       "            text-align:  left;\n",
       "        }    #T_a14cbb48_1896_11ea_bdff_8c85903dc421row19_col5 {\n",
       "            text-align:  left;\n",
       "        }    #T_a14cbb48_1896_11ea_bdff_8c85903dc421row20_col0 {\n",
       "            text-align:  left;\n",
       "        }    #T_a14cbb48_1896_11ea_bdff_8c85903dc421row20_col1 {\n",
       "            text-align:  left;\n",
       "        }    #T_a14cbb48_1896_11ea_bdff_8c85903dc421row20_col2 {\n",
       "            text-align:  left;\n",
       "        }    #T_a14cbb48_1896_11ea_bdff_8c85903dc421row20_col3 {\n",
       "            text-align:  left;\n",
       "        }    #T_a14cbb48_1896_11ea_bdff_8c85903dc421row20_col4 {\n",
       "            text-align:  left;\n",
       "        }    #T_a14cbb48_1896_11ea_bdff_8c85903dc421row20_col5 {\n",
       "            text-align:  left;\n",
       "        }    #T_a14cbb48_1896_11ea_bdff_8c85903dc421row21_col0 {\n",
       "            text-align:  left;\n",
       "        }    #T_a14cbb48_1896_11ea_bdff_8c85903dc421row21_col1 {\n",
       "            text-align:  left;\n",
       "        }    #T_a14cbb48_1896_11ea_bdff_8c85903dc421row21_col2 {\n",
       "            text-align:  left;\n",
       "        }    #T_a14cbb48_1896_11ea_bdff_8c85903dc421row21_col3 {\n",
       "            text-align:  left;\n",
       "        }    #T_a14cbb48_1896_11ea_bdff_8c85903dc421row21_col4 {\n",
       "            text-align:  left;\n",
       "        }    #T_a14cbb48_1896_11ea_bdff_8c85903dc421row21_col5 {\n",
       "            text-align:  left;\n",
       "        }    #T_a14cbb48_1896_11ea_bdff_8c85903dc421row22_col0 {\n",
       "            text-align:  left;\n",
       "        }    #T_a14cbb48_1896_11ea_bdff_8c85903dc421row22_col1 {\n",
       "            text-align:  left;\n",
       "        }    #T_a14cbb48_1896_11ea_bdff_8c85903dc421row22_col2 {\n",
       "            text-align:  left;\n",
       "        }    #T_a14cbb48_1896_11ea_bdff_8c85903dc421row22_col3 {\n",
       "            text-align:  left;\n",
       "        }    #T_a14cbb48_1896_11ea_bdff_8c85903dc421row22_col4 {\n",
       "            text-align:  left;\n",
       "        }    #T_a14cbb48_1896_11ea_bdff_8c85903dc421row22_col5 {\n",
       "            text-align:  left;\n",
       "        }    #T_a14cbb48_1896_11ea_bdff_8c85903dc421row23_col0 {\n",
       "            text-align:  left;\n",
       "        }    #T_a14cbb48_1896_11ea_bdff_8c85903dc421row23_col1 {\n",
       "            text-align:  left;\n",
       "        }    #T_a14cbb48_1896_11ea_bdff_8c85903dc421row23_col2 {\n",
       "            text-align:  left;\n",
       "        }    #T_a14cbb48_1896_11ea_bdff_8c85903dc421row23_col3 {\n",
       "            text-align:  left;\n",
       "        }    #T_a14cbb48_1896_11ea_bdff_8c85903dc421row23_col4 {\n",
       "            text-align:  left;\n",
       "        }    #T_a14cbb48_1896_11ea_bdff_8c85903dc421row23_col5 {\n",
       "            text-align:  left;\n",
       "        }    #T_a14cbb48_1896_11ea_bdff_8c85903dc421row24_col0 {\n",
       "            text-align:  left;\n",
       "        }    #T_a14cbb48_1896_11ea_bdff_8c85903dc421row24_col1 {\n",
       "            text-align:  left;\n",
       "        }    #T_a14cbb48_1896_11ea_bdff_8c85903dc421row24_col2 {\n",
       "            text-align:  left;\n",
       "        }    #T_a14cbb48_1896_11ea_bdff_8c85903dc421row24_col3 {\n",
       "            text-align:  left;\n",
       "        }    #T_a14cbb48_1896_11ea_bdff_8c85903dc421row24_col4 {\n",
       "            text-align:  left;\n",
       "        }    #T_a14cbb48_1896_11ea_bdff_8c85903dc421row24_col5 {\n",
       "            text-align:  left;\n",
       "        }    #T_a14cbb48_1896_11ea_bdff_8c85903dc421row25_col0 {\n",
       "            text-align:  left;\n",
       "        }    #T_a14cbb48_1896_11ea_bdff_8c85903dc421row25_col1 {\n",
       "            text-align:  left;\n",
       "        }    #T_a14cbb48_1896_11ea_bdff_8c85903dc421row25_col2 {\n",
       "            text-align:  left;\n",
       "        }    #T_a14cbb48_1896_11ea_bdff_8c85903dc421row25_col3 {\n",
       "            text-align:  left;\n",
       "        }    #T_a14cbb48_1896_11ea_bdff_8c85903dc421row25_col4 {\n",
       "            text-align:  left;\n",
       "        }    #T_a14cbb48_1896_11ea_bdff_8c85903dc421row25_col5 {\n",
       "            text-align:  left;\n",
       "        }</style><table id=\"T_a14cbb48_1896_11ea_bdff_8c85903dc421\" ><thead>    <tr>        <th class=\"blank level0\" ></th>        <th class=\"col_heading level0 col0\" >Tag</th>        <th class=\"col_heading level0 col1\" >Field Name</th>        <th class=\"col_heading level0 col2\" >Data Type</th>        <th class=\"col_heading level0 col3\" >Description</th>        <th class=\"col_heading level0 col4\" >Range</th>        <th class=\"col_heading level0 col5\" >Explanation</th>    </tr></thead><tbody>\n",
       "                <tr>\n",
       "                        <th id=\"T_a14cbb48_1896_11ea_bdff_8c85903dc421level0_row0\" class=\"row_heading level0 row0\" >0</th>\n",
       "                        <td id=\"T_a14cbb48_1896_11ea_bdff_8c85903dc421row0_col0\" class=\"data row0 col0\" >com_id</td>\n",
       "                        <td id=\"T_a14cbb48_1896_11ea_bdff_8c85903dc421row0_col1\" class=\"data row0 col1\" >Committee ID</td>\n",
       "                        <td id=\"T_a14cbb48_1896_11ea_bdff_8c85903dc421row0_col2\" class=\"data row0 col2\" >Character</td>\n",
       "                        <td id=\"T_a14cbb48_1896_11ea_bdff_8c85903dc421row0_col3\" class=\"data row0 col3\" >Character C followed by eight digits</td>\n",
       "                        <td id=\"T_a14cbb48_1896_11ea_bdff_8c85903dc421row0_col4\" class=\"data row0 col4\" >9 characters</td>\n",
       "                        <td id=\"T_a14cbb48_1896_11ea_bdff_8c85903dc421row0_col5\" class=\"data row0 col5\" >Unique nine digit identifier used by the Commission to identify each political committee. In general committee id's begin with the letter C which is followed by eight</td>\n",
       "            </tr>\n",
       "            <tr>\n",
       "                        <th id=\"T_a14cbb48_1896_11ea_bdff_8c85903dc421level0_row1\" class=\"row_heading level0 row1\" >1</th>\n",
       "                        <td id=\"T_a14cbb48_1896_11ea_bdff_8c85903dc421row1_col0\" class=\"data row1 col0\" >com_nam</td>\n",
       "                        <td id=\"T_a14cbb48_1896_11ea_bdff_8c85903dc421row1_col1\" class=\"data row1 col1\" >Committee Name</td>\n",
       "                        <td id=\"T_a14cbb48_1896_11ea_bdff_8c85903dc421row1_col2\" class=\"data row1 col2\" >Character</td>\n",
       "                        <td id=\"T_a14cbb48_1896_11ea_bdff_8c85903dc421row1_col3\" class=\"data row1 col3\" >Name of committee or other entity registered with the FEC</td>\n",
       "                        <td id=\"T_a14cbb48_1896_11ea_bdff_8c85903dc421row1_col4\" class=\"data row1 col4\" >Max 90 characters</td>\n",
       "                        <td id=\"T_a14cbb48_1896_11ea_bdff_8c85903dc421row1_col5\" class=\"data row1 col5\" >This is the name of the committee</td>\n",
       "            </tr>\n",
       "            <tr>\n",
       "                        <th id=\"T_a14cbb48_1896_11ea_bdff_8c85903dc421level0_row2\" class=\"row_heading level0 row2\" >2</th>\n",
       "                        <td id=\"T_a14cbb48_1896_11ea_bdff_8c85903dc421row2_col0\" class=\"data row2 col0\" >can_id</td>\n",
       "                        <td id=\"T_a14cbb48_1896_11ea_bdff_8c85903dc421row2_col1\" class=\"data row2 col1\" >Candidate ID</td>\n",
       "                        <td id=\"T_a14cbb48_1896_11ea_bdff_8c85903dc421row2_col2\" class=\"data row2 col2\" >Character</td>\n",
       "                        <td id=\"T_a14cbb48_1896_11ea_bdff_8c85903dc421row2_col3\" class=\"data row2 col3\" >nan</td>\n",
       "                        <td id=\"T_a14cbb48_1896_11ea_bdff_8c85903dc421row2_col4\" class=\"data row2 col4\" >9 characters</td>\n",
       "                        <td id=\"T_a14cbb48_1896_11ea_bdff_8c85903dc421row2_col5\" class=\"data row2 col5\" >First character indicates office sought - H=House, S=Senate, P=Presidential. Columns 3-4 are the state abbreviation for Congressional candidates</td>\n",
       "            </tr>\n",
       "            <tr>\n",
       "                        <th id=\"T_a14cbb48_1896_11ea_bdff_8c85903dc421level0_row3\" class=\"row_heading level0 row3\" >3</th>\n",
       "                        <td id=\"T_a14cbb48_1896_11ea_bdff_8c85903dc421row3_col0\" class=\"data row3 col0\" >can_nam</td>\n",
       "                        <td id=\"T_a14cbb48_1896_11ea_bdff_8c85903dc421row3_col1\" class=\"data row3 col1\" >Candidate name</td>\n",
       "                        <td id=\"T_a14cbb48_1896_11ea_bdff_8c85903dc421row3_col2\" class=\"data row3 col2\" >Character</td>\n",
       "                        <td id=\"T_a14cbb48_1896_11ea_bdff_8c85903dc421row3_col3\" class=\"data row3 col3\" >Name of the candidate</td>\n",
       "                        <td id=\"T_a14cbb48_1896_11ea_bdff_8c85903dc421row3_col4\" class=\"data row3 col4\" >Max 38 characters</td>\n",
       "                        <td id=\"T_a14cbb48_1896_11ea_bdff_8c85903dc421row3_col5\" class=\"data row3 col5\" >List of all disclosure filings for this committee</td>\n",
       "            </tr>\n",
       "            <tr>\n",
       "                        <th id=\"T_a14cbb48_1896_11ea_bdff_8c85903dc421level0_row4\" class=\"row_heading level0 row4\" >4</th>\n",
       "                        <td id=\"T_a14cbb48_1896_11ea_bdff_8c85903dc421row4_col0\" class=\"data row4 col0\" >ele_yea</td>\n",
       "                        <td id=\"T_a14cbb48_1896_11ea_bdff_8c85903dc421row4_col1\" class=\"data row4 col1\" >Election year</td>\n",
       "                        <td id=\"T_a14cbb48_1896_11ea_bdff_8c85903dc421row4_col2\" class=\"data row4 col2\" >Number</td>\n",
       "                        <td id=\"T_a14cbb48_1896_11ea_bdff_8c85903dc421row4_col3\" class=\"data row4 col3\" >nan</td>\n",
       "                        <td id=\"T_a14cbb48_1896_11ea_bdff_8c85903dc421row4_col4\" class=\"data row4 col4\" >4 characters</td>\n",
       "                        <td id=\"T_a14cbb48_1896_11ea_bdff_8c85903dc421row4_col5\" class=\"data row4 col5\" >General election year of the cycle in which this candidate is running</td>\n",
       "            </tr>\n",
       "            <tr>\n",
       "                        <th id=\"T_a14cbb48_1896_11ea_bdff_8c85903dc421level0_row5\" class=\"row_heading level0 row5\" >5</th>\n",
       "                        <td id=\"T_a14cbb48_1896_11ea_bdff_8c85903dc421row5_col0\" class=\"data row5 col0\" >can_off</td>\n",
       "                        <td id=\"T_a14cbb48_1896_11ea_bdff_8c85903dc421row5_col1\" class=\"data row5 col1\" >Candidate Office</td>\n",
       "                        <td id=\"T_a14cbb48_1896_11ea_bdff_8c85903dc421row5_col2\" class=\"data row5 col2\" >Text</td>\n",
       "                        <td id=\"T_a14cbb48_1896_11ea_bdff_8c85903dc421row5_col3\" class=\"data row5 col3\" >Office abbreviation</td>\n",
       "                        <td id=\"T_a14cbb48_1896_11ea_bdff_8c85903dc421row5_col4\" class=\"data row5 col4\" >1 character</td>\n",
       "                        <td id=\"T_a14cbb48_1896_11ea_bdff_8c85903dc421row5_col5\" class=\"data row5 col5\" >P=President; S=Senate; H=House</td>\n",
       "            </tr>\n",
       "            <tr>\n",
       "                        <th id=\"T_a14cbb48_1896_11ea_bdff_8c85903dc421level0_row6\" class=\"row_heading level0 row6\" >6</th>\n",
       "                        <td id=\"T_a14cbb48_1896_11ea_bdff_8c85903dc421row6_col0\" class=\"data row6 col0\" >can_off_sta</td>\n",
       "                        <td id=\"T_a14cbb48_1896_11ea_bdff_8c85903dc421row6_col1\" class=\"data row6 col1\" >Candidate Office State</td>\n",
       "                        <td id=\"T_a14cbb48_1896_11ea_bdff_8c85903dc421row6_col2\" class=\"data row6 col2\" >Character</td>\n",
       "                        <td id=\"T_a14cbb48_1896_11ea_bdff_8c85903dc421row6_col3\" class=\"data row6 col3\" >Postal abbreviation for State</td>\n",
       "                        <td id=\"T_a14cbb48_1896_11ea_bdff_8c85903dc421row6_col4\" class=\"data row6 col4\" >2 characters</td>\n",
       "                        <td id=\"T_a14cbb48_1896_11ea_bdff_8c85903dc421row6_col5\" class=\"data row6 col5\" >nan</td>\n",
       "            </tr>\n",
       "            <tr>\n",
       "                        <th id=\"T_a14cbb48_1896_11ea_bdff_8c85903dc421level0_row7\" class=\"row_heading level0 row7\" >7</th>\n",
       "                        <td id=\"T_a14cbb48_1896_11ea_bdff_8c85903dc421row7_col0\" class=\"data row7 col0\" >can_off_dis</td>\n",
       "                        <td id=\"T_a14cbb48_1896_11ea_bdff_8c85903dc421row7_col1\" class=\"data row7 col1\" >Candidate Office District</td>\n",
       "                        <td id=\"T_a14cbb48_1896_11ea_bdff_8c85903dc421row7_col2\" class=\"data row7 col2\" >Number</td>\n",
       "                        <td id=\"T_a14cbb48_1896_11ea_bdff_8c85903dc421row7_col3\" class=\"data row7 col3\" >District number for House candidates</td>\n",
       "                        <td id=\"T_a14cbb48_1896_11ea_bdff_8c85903dc421row7_col4\" class=\"data row7 col4\" >2 characters</td>\n",
       "                        <td id=\"T_a14cbb48_1896_11ea_bdff_8c85903dc421row7_col5\" class=\"data row7 col5\" >nan</td>\n",
       "            </tr>\n",
       "            <tr>\n",
       "                        <th id=\"T_a14cbb48_1896_11ea_bdff_8c85903dc421level0_row8\" class=\"row_heading level0 row8\" >8</th>\n",
       "                        <td id=\"T_a14cbb48_1896_11ea_bdff_8c85903dc421row8_col0\" class=\"data row8 col0\" >lin_num</td>\n",
       "                        <td id=\"T_a14cbb48_1896_11ea_bdff_8c85903dc421row8_col1\" class=\"data row8 col1\" >Line number from Detailed Summary Page of FEC Form 3</td>\n",
       "                        <td id=\"T_a14cbb48_1896_11ea_bdff_8c85903dc421row8_col2\" class=\"data row8 col2\" >Character</td>\n",
       "                        <td id=\"T_a14cbb48_1896_11ea_bdff_8c85903dc421row8_col3\" class=\"data row8 col3\" >category of disbursement based on detailed summary page of FEC Form 3</td>\n",
       "                        <td id=\"T_a14cbb48_1896_11ea_bdff_8c85903dc421row8_col4\" class=\"data row8 col4\" >max 12 characters</td>\n",
       "                        <td id=\"T_a14cbb48_1896_11ea_bdff_8c85903dc421row8_col5\" class=\"data row8 col5\" >Description of Form 3 (See page 6 of these instructions)</td>\n",
       "            </tr>\n",
       "            <tr>\n",
       "                        <th id=\"T_a14cbb48_1896_11ea_bdff_8c85903dc421level0_row9\" class=\"row_heading level0 row9\" >9</th>\n",
       "                        <td id=\"T_a14cbb48_1896_11ea_bdff_8c85903dc421row9_col0\" class=\"data row9 col0\" >lin_ima</td>\n",
       "                        <td id=\"T_a14cbb48_1896_11ea_bdff_8c85903dc421row9_col1\" class=\"data row9 col1\" >Link to image presentation</td>\n",
       "                        <td id=\"T_a14cbb48_1896_11ea_bdff_8c85903dc421row9_col2\" class=\"data row9 col2\" >URI</td>\n",
       "                        <td id=\"T_a14cbb48_1896_11ea_bdff_8c85903dc421row9_col3\" class=\"data row9 col3\" >Page where transaction may be viewed as image</td>\n",
       "                        <td id=\"T_a14cbb48_1896_11ea_bdff_8c85903dc421row9_col4\" class=\"data row9 col4\" >11 or 18 characters</td>\n",
       "                        <td id=\"T_a14cbb48_1896_11ea_bdff_8c85903dc421row9_col5\" class=\"data row9 col5\" >nan</td>\n",
       "            </tr>\n",
       "            <tr>\n",
       "                        <th id=\"T_a14cbb48_1896_11ea_bdff_8c85903dc421level0_row10\" class=\"row_heading level0 row10\" >10</th>\n",
       "                        <td id=\"T_a14cbb48_1896_11ea_bdff_8c85903dc421row10_col0\" class=\"data row10 col0\" >rec_com_id</td>\n",
       "                        <td id=\"T_a14cbb48_1896_11ea_bdff_8c85903dc421row10_col1\" class=\"data row10 col1\" >Recipient Committee ID</td>\n",
       "                        <td id=\"T_a14cbb48_1896_11ea_bdff_8c85903dc421row10_col2\" class=\"data row10 col2\" >Character</td>\n",
       "                        <td id=\"T_a14cbb48_1896_11ea_bdff_8c85903dc421row10_col3\" class=\"data row10 col3\" >Character C followed by eight digits</td>\n",
       "                        <td id=\"T_a14cbb48_1896_11ea_bdff_8c85903dc421row10_col4\" class=\"data row10 col4\" >9 characters</td>\n",
       "                        <td id=\"T_a14cbb48_1896_11ea_bdff_8c85903dc421row10_col5\" class=\"data row10 col5\" >If the disbursement goes to another committee registered with the FEC, this would be the ID number of the committee receiving the payment</td>\n",
       "            </tr>\n",
       "            <tr>\n",
       "                        <th id=\"T_a14cbb48_1896_11ea_bdff_8c85903dc421level0_row11\" class=\"row_heading level0 row11\" >11</th>\n",
       "                        <td id=\"T_a14cbb48_1896_11ea_bdff_8c85903dc421row11_col0\" class=\"data row11 col0\" >rec_nam</td>\n",
       "                        <td id=\"T_a14cbb48_1896_11ea_bdff_8c85903dc421row11_col1\" class=\"data row11 col1\" >Recipient Name</td>\n",
       "                        <td id=\"T_a14cbb48_1896_11ea_bdff_8c85903dc421row11_col2\" class=\"data row11 col2\" >Text</td>\n",
       "                        <td id=\"T_a14cbb48_1896_11ea_bdff_8c85903dc421row11_col3\" class=\"data row11 col3\" >nan</td>\n",
       "                        <td id=\"T_a14cbb48_1896_11ea_bdff_8c85903dc421row11_col4\" class=\"data row11 col4\" >max 90 characters</td>\n",
       "                        <td id=\"T_a14cbb48_1896_11ea_bdff_8c85903dc421row11_col5\" class=\"data row11 col5\" >Name of the person or vendor or other entity receiving this payment from the committee</td>\n",
       "            </tr>\n",
       "            <tr>\n",
       "                        <th id=\"T_a14cbb48_1896_11ea_bdff_8c85903dc421level0_row12\" class=\"row_heading level0 row12\" >12</th>\n",
       "                        <td id=\"T_a14cbb48_1896_11ea_bdff_8c85903dc421row12_col0\" class=\"data row12 col0\" >rec_str1</td>\n",
       "                        <td id=\"T_a14cbb48_1896_11ea_bdff_8c85903dc421row12_col1\" class=\"data row12 col1\" >Recipient Street Address</td>\n",
       "                        <td id=\"T_a14cbb48_1896_11ea_bdff_8c85903dc421row12_col2\" class=\"data row12 col2\" >Character</td>\n",
       "                        <td id=\"T_a14cbb48_1896_11ea_bdff_8c85903dc421row12_col3\" class=\"data row12 col3\" >Street address of entity being paid</td>\n",
       "                        <td id=\"T_a14cbb48_1896_11ea_bdff_8c85903dc421row12_col4\" class=\"data row12 col4\" >max 34 characters</td>\n",
       "                        <td id=\"T_a14cbb48_1896_11ea_bdff_8c85903dc421row12_col5\" class=\"data row12 col5\" >nan</td>\n",
       "            </tr>\n",
       "            <tr>\n",
       "                        <th id=\"T_a14cbb48_1896_11ea_bdff_8c85903dc421level0_row13\" class=\"row_heading level0 row13\" >13</th>\n",
       "                        <td id=\"T_a14cbb48_1896_11ea_bdff_8c85903dc421row13_col0\" class=\"data row13 col0\" >rec_str2</td>\n",
       "                        <td id=\"T_a14cbb48_1896_11ea_bdff_8c85903dc421row13_col1\" class=\"data row13 col1\" >Apt. number or Suite number for recipient</td>\n",
       "                        <td id=\"T_a14cbb48_1896_11ea_bdff_8c85903dc421row13_col2\" class=\"data row13 col2\" >Character</td>\n",
       "                        <td id=\"T_a14cbb48_1896_11ea_bdff_8c85903dc421row13_col3\" class=\"data row13 col3\" >nan</td>\n",
       "                        <td id=\"T_a14cbb48_1896_11ea_bdff_8c85903dc421row13_col4\" class=\"data row13 col4\" >max 34 characters</td>\n",
       "                        <td id=\"T_a14cbb48_1896_11ea_bdff_8c85903dc421row13_col5\" class=\"data row13 col5\" >nan</td>\n",
       "            </tr>\n",
       "            <tr>\n",
       "                        <th id=\"T_a14cbb48_1896_11ea_bdff_8c85903dc421level0_row14\" class=\"row_heading level0 row14\" >14</th>\n",
       "                        <td id=\"T_a14cbb48_1896_11ea_bdff_8c85903dc421row14_col0\" class=\"data row14 col0\" >rec_cit</td>\n",
       "                        <td id=\"T_a14cbb48_1896_11ea_bdff_8c85903dc421row14_col1\" class=\"data row14 col1\" >recipient city</td>\n",
       "                        <td id=\"T_a14cbb48_1896_11ea_bdff_8c85903dc421row14_col2\" class=\"data row14 col2\" >Text</td>\n",
       "                        <td id=\"T_a14cbb48_1896_11ea_bdff_8c85903dc421row14_col3\" class=\"data row14 col3\" >nan</td>\n",
       "                        <td id=\"T_a14cbb48_1896_11ea_bdff_8c85903dc421row14_col4\" class=\"data row14 col4\" >max 18 characters</td>\n",
       "                        <td id=\"T_a14cbb48_1896_11ea_bdff_8c85903dc421row14_col5\" class=\"data row14 col5\" >nan</td>\n",
       "            </tr>\n",
       "            <tr>\n",
       "                        <th id=\"T_a14cbb48_1896_11ea_bdff_8c85903dc421level0_row15\" class=\"row_heading level0 row15\" >15</th>\n",
       "                        <td id=\"T_a14cbb48_1896_11ea_bdff_8c85903dc421row15_col0\" class=\"data row15 col0\" >rec_sta</td>\n",
       "                        <td id=\"T_a14cbb48_1896_11ea_bdff_8c85903dc421row15_col1\" class=\"data row15 col1\" >recipient state</td>\n",
       "                        <td id=\"T_a14cbb48_1896_11ea_bdff_8c85903dc421row15_col2\" class=\"data row15 col2\" >Text</td>\n",
       "                        <td id=\"T_a14cbb48_1896_11ea_bdff_8c85903dc421row15_col3\" class=\"data row15 col3\" >nan</td>\n",
       "                        <td id=\"T_a14cbb48_1896_11ea_bdff_8c85903dc421row15_col4\" class=\"data row15 col4\" >2 characters</td>\n",
       "                        <td id=\"T_a14cbb48_1896_11ea_bdff_8c85903dc421row15_col5\" class=\"data row15 col5\" >postal state abbreviation</td>\n",
       "            </tr>\n",
       "            <tr>\n",
       "                        <th id=\"T_a14cbb48_1896_11ea_bdff_8c85903dc421level0_row16\" class=\"row_heading level0 row16\" >16</th>\n",
       "                        <td id=\"T_a14cbb48_1896_11ea_bdff_8c85903dc421row16_col0\" class=\"data row16 col0\" >rec_zip</td>\n",
       "                        <td id=\"T_a14cbb48_1896_11ea_bdff_8c85903dc421row16_col1\" class=\"data row16 col1\" >recipient zip</td>\n",
       "                        <td id=\"T_a14cbb48_1896_11ea_bdff_8c85903dc421row16_col2\" class=\"data row16 col2\" >Character</td>\n",
       "                        <td id=\"T_a14cbb48_1896_11ea_bdff_8c85903dc421row16_col3\" class=\"data row16 col3\" >nan</td>\n",
       "                        <td id=\"T_a14cbb48_1896_11ea_bdff_8c85903dc421row16_col4\" class=\"data row16 col4\" >max 9 characters</td>\n",
       "                        <td id=\"T_a14cbb48_1896_11ea_bdff_8c85903dc421row16_col5\" class=\"data row16 col5\" >zip code may be either 5 or 9 digits</td>\n",
       "            </tr>\n",
       "            <tr>\n",
       "                        <th id=\"T_a14cbb48_1896_11ea_bdff_8c85903dc421level0_row17\" class=\"row_heading level0 row17\" >17</th>\n",
       "                        <td id=\"T_a14cbb48_1896_11ea_bdff_8c85903dc421row17_col0\" class=\"data row17 col0\" >dis_dat</td>\n",
       "                        <td id=\"T_a14cbb48_1896_11ea_bdff_8c85903dc421row17_col1\" class=\"data row17 col1\" >date of disbursement</td>\n",
       "                        <td id=\"T_a14cbb48_1896_11ea_bdff_8c85903dc421row17_col2\" class=\"data row17 col2\" >Date</td>\n",
       "                        <td id=\"T_a14cbb48_1896_11ea_bdff_8c85903dc421row17_col3\" class=\"data row17 col3\" >date of specific disbursement</td>\n",
       "                        <td id=\"T_a14cbb48_1896_11ea_bdff_8c85903dc421row17_col4\" class=\"data row17 col4\" >nan</td>\n",
       "                        <td id=\"T_a14cbb48_1896_11ea_bdff_8c85903dc421row17_col5\" class=\"data row17 col5\" >nan</td>\n",
       "            </tr>\n",
       "            <tr>\n",
       "                        <th id=\"T_a14cbb48_1896_11ea_bdff_8c85903dc421level0_row18\" class=\"row_heading level0 row18\" >18</th>\n",
       "                        <td id=\"T_a14cbb48_1896_11ea_bdff_8c85903dc421row18_col0\" class=\"data row18 col0\" >dis_amo</td>\n",
       "                        <td id=\"T_a14cbb48_1896_11ea_bdff_8c85903dc421row18_col1\" class=\"data row18 col1\" >amount of disbursement</td>\n",
       "                        <td id=\"T_a14cbb48_1896_11ea_bdff_8c85903dc421row18_col2\" class=\"data row18 col2\" >Number</td>\n",
       "                        <td id=\"T_a14cbb48_1896_11ea_bdff_8c85903dc421row18_col3\" class=\"data row18 col3\" >amount spent</td>\n",
       "                        <td id=\"T_a14cbb48_1896_11ea_bdff_8c85903dc421row18_col4\" class=\"data row18 col4\" >14.2 characters</td>\n",
       "                        <td id=\"T_a14cbb48_1896_11ea_bdff_8c85903dc421row18_col5\" class=\"data row18 col5\" >nan</td>\n",
       "            </tr>\n",
       "            <tr>\n",
       "                        <th id=\"T_a14cbb48_1896_11ea_bdff_8c85903dc421level0_row19\" class=\"row_heading level0 row19\" >19</th>\n",
       "                        <td id=\"T_a14cbb48_1896_11ea_bdff_8c85903dc421row19_col0\" class=\"data row19 col0\" >dis_pur_des</td>\n",
       "                        <td id=\"T_a14cbb48_1896_11ea_bdff_8c85903dc421row19_col1\" class=\"data row19 col1\" >purpose description</td>\n",
       "                        <td id=\"T_a14cbb48_1896_11ea_bdff_8c85903dc421row19_col2\" class=\"data row19 col2\" >nan</td>\n",
       "                        <td id=\"T_a14cbb48_1896_11ea_bdff_8c85903dc421row19_col3\" class=\"data row19 col3\" >nan</td>\n",
       "                        <td id=\"T_a14cbb48_1896_11ea_bdff_8c85903dc421row19_col4\" class=\"data row19 col4\" >max 100 characters</td>\n",
       "                        <td id=\"T_a14cbb48_1896_11ea_bdff_8c85903dc421row19_col5\" class=\"data row19 col5\" >Open-ended description of the purpose of the disbursement.</td>\n",
       "            </tr>\n",
       "            <tr>\n",
       "                        <th id=\"T_a14cbb48_1896_11ea_bdff_8c85903dc421level0_row20\" class=\"row_heading level0 row20\" >20</th>\n",
       "                        <td id=\"T_a14cbb48_1896_11ea_bdff_8c85903dc421row20_col0\" class=\"data row20 col0\" >mem_cod</td>\n",
       "                        <td id=\"T_a14cbb48_1896_11ea_bdff_8c85903dc421row20_col1\" class=\"data row20 col1\" >memo code</td>\n",
       "                        <td id=\"T_a14cbb48_1896_11ea_bdff_8c85903dc421row20_col2\" class=\"data row20 col2\" >Character</td>\n",
       "                        <td id=\"T_a14cbb48_1896_11ea_bdff_8c85903dc421row20_col3\" class=\"data row20 col3\" >nan</td>\n",
       "                        <td id=\"T_a14cbb48_1896_11ea_bdff_8c85903dc421row20_col4\" class=\"data row20 col4\" >1 Character</td>\n",
       "                        <td id=\"T_a14cbb48_1896_11ea_bdff_8c85903dc421row20_col5\" class=\"data row20 col5\" >record is \"memo\" so not included in totals, e.g. specific charges that are also included in an overall credit card payment</td>\n",
       "            </tr>\n",
       "            <tr>\n",
       "                        <th id=\"T_a14cbb48_1896_11ea_bdff_8c85903dc421level0_row21\" class=\"row_heading level0 row21\" >21</th>\n",
       "                        <td id=\"T_a14cbb48_1896_11ea_bdff_8c85903dc421row21_col0\" class=\"data row21 col0\" >mem_tex</td>\n",
       "                        <td id=\"T_a14cbb48_1896_11ea_bdff_8c85903dc421row21_col1\" class=\"data row21 col1\" >memo text</td>\n",
       "                        <td id=\"T_a14cbb48_1896_11ea_bdff_8c85903dc421row21_col2\" class=\"data row21 col2\" >Character</td>\n",
       "                        <td id=\"T_a14cbb48_1896_11ea_bdff_8c85903dc421row21_col3\" class=\"data row21 col3\" >nan</td>\n",
       "                        <td id=\"T_a14cbb48_1896_11ea_bdff_8c85903dc421row21_col4\" class=\"data row21 col4\" >max 100 characters</td>\n",
       "                        <td id=\"T_a14cbb48_1896_11ea_bdff_8c85903dc421row21_col5\" class=\"data row21 col5\" >explanation for the memo notation</td>\n",
       "            </tr>\n",
       "            <tr>\n",
       "                        <th id=\"T_a14cbb48_1896_11ea_bdff_8c85903dc421level0_row22\" class=\"row_heading level0 row22\" >22</th>\n",
       "                        <td id=\"T_a14cbb48_1896_11ea_bdff_8c85903dc421row22_col0\" class=\"data row22 col0\" >cat_cod</td>\n",
       "                        <td id=\"T_a14cbb48_1896_11ea_bdff_8c85903dc421row22_col1\" class=\"data row22 col1\" >category code</td>\n",
       "                        <td id=\"T_a14cbb48_1896_11ea_bdff_8c85903dc421row22_col2\" class=\"data row22 col2\" >Number</td>\n",
       "                        <td id=\"T_a14cbb48_1896_11ea_bdff_8c85903dc421row22_col3\" class=\"data row22 col3\" >nan</td>\n",
       "                        <td id=\"T_a14cbb48_1896_11ea_bdff_8c85903dc421row22_col4\" class=\"data row22 col4\" >3 characters</td>\n",
       "                        <td id=\"T_a14cbb48_1896_11ea_bdff_8c85903dc421row22_col5\" class=\"data row22 col5\" >see the list of category codes</td>\n",
       "            </tr>\n",
       "            <tr>\n",
       "                        <th id=\"T_a14cbb48_1896_11ea_bdff_8c85903dc421level0_row23\" class=\"row_heading level0 row23\" >23</th>\n",
       "                        <td id=\"T_a14cbb48_1896_11ea_bdff_8c85903dc421row23_col0\" class=\"data row23 col0\" >cat_des</td>\n",
       "                        <td id=\"T_a14cbb48_1896_11ea_bdff_8c85903dc421row23_col1\" class=\"data row23 col1\" >category description</td>\n",
       "                        <td id=\"T_a14cbb48_1896_11ea_bdff_8c85903dc421row23_col2\" class=\"data row23 col2\" >Character</td>\n",
       "                        <td id=\"T_a14cbb48_1896_11ea_bdff_8c85903dc421row23_col3\" class=\"data row23 col3\" >nan</td>\n",
       "                        <td id=\"T_a14cbb48_1896_11ea_bdff_8c85903dc421row23_col4\" class=\"data row23 col4\" >max 40 characters</td>\n",
       "                        <td id=\"T_a14cbb48_1896_11ea_bdff_8c85903dc421row23_col5\" class=\"data row23 col5\" >description of category for disbursement</td>\n",
       "            </tr>\n",
       "            <tr>\n",
       "                        <th id=\"T_a14cbb48_1896_11ea_bdff_8c85903dc421level0_row24\" class=\"row_heading level0 row24\" >24</th>\n",
       "                        <td id=\"T_a14cbb48_1896_11ea_bdff_8c85903dc421row24_col0\" class=\"data row24 col0\" >tra_id</td>\n",
       "                        <td id=\"T_a14cbb48_1896_11ea_bdff_8c85903dc421row24_col1\" class=\"data row24 col1\" >transaction id</td>\n",
       "                        <td id=\"T_a14cbb48_1896_11ea_bdff_8c85903dc421row24_col2\" class=\"data row24 col2\" >Character</td>\n",
       "                        <td id=\"T_a14cbb48_1896_11ea_bdff_8c85903dc421row24_col3\" class=\"data row24 col3\" >unique identifier for the transaction (unique within the specific report)</td>\n",
       "                        <td id=\"T_a14cbb48_1896_11ea_bdff_8c85903dc421row24_col4\" class=\"data row24 col4\" >max 32 characters</td>\n",
       "                        <td id=\"T_a14cbb48_1896_11ea_bdff_8c85903dc421row24_col5\" class=\"data row24 col5\" >nan</td>\n",
       "            </tr>\n",
       "            <tr>\n",
       "                        <th id=\"T_a14cbb48_1896_11ea_bdff_8c85903dc421level0_row25\" class=\"row_heading level0 row25\" >25</th>\n",
       "                        <td id=\"T_a14cbb48_1896_11ea_bdff_8c85903dc421row25_col0\" class=\"data row25 col0\" >bac_ref_id</td>\n",
       "                        <td id=\"T_a14cbb48_1896_11ea_bdff_8c85903dc421row25_col1\" class=\"data row25 col1\" >back reference id</td>\n",
       "                        <td id=\"T_a14cbb48_1896_11ea_bdff_8c85903dc421row25_col2\" class=\"data row25 col2\" >Character</td>\n",
       "                        <td id=\"T_a14cbb48_1896_11ea_bdff_8c85903dc421row25_col3\" class=\"data row25 col3\" >link to another transaction</td>\n",
       "                        <td id=\"T_a14cbb48_1896_11ea_bdff_8c85903dc421row25_col4\" class=\"data row25 col4\" >max 20 characters</td>\n",
       "                        <td id=\"T_a14cbb48_1896_11ea_bdff_8c85903dc421row25_col5\" class=\"data row25 col5\" >\"parent\" transaction id where there is a relationship between two transactions - e.g. a detailed charge that is part of a credit card payment</td>\n",
       "            </tr>\n",
       "    </tbody></table>"
      ],
      "text/plain": [
       "<pandas.io.formats.style.Styler at 0x1097ad3c8>"
      ]
     },
     "execution_count": 5,
     "metadata": {},
     "output_type": "execute_result"
    }
   ],
   "source": [
    "# The full column description file\n",
    "cd.iloc[:26,:].style.set_properties(**{'text-align': 'left'})"
   ]
  },
  {
   "cell_type": "markdown",
   "metadata": {},
   "source": [
    "Important columns in <b> df_2018_candidate_summary </b> are:\n",
    "<ol>\n",
    "<li> can_id: Candidate ID. Which is the key to use when merging to df_2018.</li>\n",
    "<li> can_par_aff: Candidate Party Affiliation. To find out what party each candidate belongs to.</li>\n",
    "</ol>"
   ]
  },
  {
   "cell_type": "markdown",
   "metadata": {},
   "source": [
    "Important columns in <b> df_result_2018 </b> are:\n",
    "<ol>\n",
    "<li> FEC ID#: Candidate's FEC ID. Which is the key to use when merging to df_2018.</li>\n",
    "<li> CANDIDATE NAME: Candidate Name.</li>\n",
    "<li> GE WINNER INDICATOR: The indicator will have 'W' for the winner. To find out which candidate won the election.</li>\n",
    "</ol>"
   ]
  },
  {
   "cell_type": "markdown",
   "metadata": {},
   "source": [
    "## <div class=\"alert alert-block alert-success\"><center>Preparing Work and Data Cleaning<center>"
   ]
  },
  {
   "cell_type": "markdown",
   "metadata": {},
   "source": [
    "### <li>Import Packages"
   ]
  },
  {
   "cell_type": "code",
   "execution_count": 6,
   "metadata": {},
   "outputs": [],
   "source": [
    "pd.set_option('precision', 1) \n",
    "\n",
    "import warnings\n",
    "warnings.filterwarnings('ignore')\n",
    "from IPython.core.interactiveshell import InteractiveShell\n",
    "InteractiveShell.ast_node_interactivity = \"all\"\n",
    "\n",
    "import numpy as np\n",
    "import seaborn as sns\n",
    "import sklearn as sk\n",
    "import sklearn.tree as tree\n",
    "import pydotplus\n",
    "from IPython.display import Image\n",
    "from collections import OrderedDict\n",
    "import matplotlib.pyplot as plt\n",
    "\n",
    "import spacy\n",
    "from spacy.lang.en import English\n",
    "import string\n",
    "import nltk\n",
    "import random\n",
    "from gensim import corpora \n",
    "import pickle\n",
    "import gensim\n",
    "import pyLDAvis.gensim "
   ]
  },
  {
   "cell_type": "markdown",
   "metadata": {},
   "source": [
    "### <li>**Wash Columns**"
   ]
  },
  {
   "cell_type": "markdown",
   "metadata": {},
   "source": [
    "#### Change $amount strings to numbers"
   ]
  },
  {
   "cell_type": "code",
   "execution_count": 7,
   "metadata": {
    "scrolled": true
   },
   "outputs": [
    {
     "data": {
      "text/plain": [
       "2865981216.3499994"
      ]
     },
     "execution_count": 7,
     "metadata": {},
     "output_type": "execute_result"
    }
   ],
   "source": [
    "df_2018.dis_amo.replace({r'\\$':''},regex=True,inplace=True)\n",
    "df_2018.dis_amo.replace({r'\\,':''},regex=True,inplace=True)\n",
    "df_2018.dis_amo.replace({r'\\(':'-'},regex=True,inplace=True)\n",
    "df_2018.dis_amo.replace({r'\\)':''},regex=True,inplace=True)\n",
    "\n",
    "df_2018.dis_amo = pd.to_numeric(df_2018.dis_amo)\n",
    "pd.set_option('display.float_format', '{:.2f}'.format)\n",
    "df_2018.dis_amo.sum()"
   ]
  },
  {
   "cell_type": "markdown",
   "metadata": {},
   "source": [
    "#### Get names' forms unified"
   ]
  },
  {
   "cell_type": "code",
   "execution_count": 8,
   "metadata": {
    "scrolled": true
   },
   "outputs": [],
   "source": [
    "df_2018['can_nam'] = df_2018.can_nam.str.lstrip()\n",
    "df_2018.can_nam.replace({r'\\, ':'-'},regex=True,inplace=True)\n",
    "df_2018.can_nam.replace({r'\\ ':'-'},regex=True,inplace=True)"
   ]
  },
  {
   "cell_type": "markdown",
   "metadata": {},
   "source": [
    "### <li>**Add Columns-Parties and Win**"
   ]
  },
  {
   "cell_type": "code",
   "execution_count": 9,
   "metadata": {},
   "outputs": [],
   "source": [
    "# Add which party a candidate belong to\n",
    "df_2018 = pd.merge(df_2018,df_2018_candidate_summary[['can_id','can_par_aff']],on='can_id', how='left')\n",
    "\n",
    "# Add Win - if a candidate is the election winner\n",
    "list_2018_winner=list(df_result_2018[df_result_2018['GE WINNER INDICATOR']=='W']['FEC ID#'].str.rstrip())\n",
    "df_2018['win'] = df_2018.apply(lambda x: (1 if x.can_id in list_2018_winner else 0),axis=1)"
   ]
  },
  {
   "cell_type": "markdown",
   "metadata": {},
   "source": [
    "### <li> Nan Value Check\n",
    "#### We are only using can_id, can_nam, can_off, can_off_sta, dis_pur_des, cat_des, dis_amo, win and can_par_aff columns. There are only two of them \"dis_pur_des, cat_des\" have nan to be cleaned. This work will be done later in the third part."
   ]
  },
  {
   "cell_type": "code",
   "execution_count": 10,
   "metadata": {},
   "outputs": [
    {
     "data": {
      "text/plain": [
       "com_id               0\n",
       "com_nam              0\n",
       "can_id               0\n",
       "can_nam              0\n",
       "ele_yea              0\n",
       "can_off              0\n",
       "can_off_sta          0\n",
       "can_off_dis          0\n",
       "lin_num              0\n",
       "lin_ima              0\n",
       "rec_com_id     1048517\n",
       "rec_nam            901\n",
       "rec_str1          5509\n",
       "rec_str2        870463\n",
       "rec_cit           4246\n",
       "rec_sta           4432\n",
       "rec_zip           5878\n",
       "dis_dat            111\n",
       "dis_amo              0\n",
       "dis_pur_des       8013\n",
       "mem_cod         805494\n",
       "mem_tex         926421\n",
       "cat_cod         722740\n",
       "cat_des         722868\n",
       "tra_id               0\n",
       "bac_ref_id      860292\n",
       "can_par_aff         22\n",
       "win                  0\n",
       "dtype: int64"
      ]
     },
     "execution_count": 10,
     "metadata": {},
     "output_type": "execute_result"
    }
   ],
   "source": [
    "df_2018.isna().sum()"
   ]
  },
  {
   "cell_type": "markdown",
   "metadata": {},
   "source": [
    "### <li> Drop Invalid Data\n",
    "#### Returned money and negative money amount should be excluded because they are not expense."
   ]
  },
  {
   "cell_type": "code",
   "execution_count": 11,
   "metadata": {},
   "outputs": [
    {
     "data": {
      "text/plain": [
       "973158"
      ]
     },
     "execution_count": 11,
     "metadata": {},
     "output_type": "execute_result"
    }
   ],
   "source": [
    "# There's a cat_des category \"refunds of contribution\" that should be deleted. \n",
    "# It's not the money candidates spent but returned. About 11 millions in total.\n",
    "\n",
    "df_2018_RoC=df_2018[df_2018.cat_des=='Refunds of Contributions']\n",
    "throwout = list(df_2018_RoC.dis_pur_des)\n",
    "wholedata = list(df_2018.dis_pur_des)\n",
    "rest = list(set(wholedata)^set(throwout))\n",
    "df_2018 = df_2018[df_2018.dis_pur_des.isin(rest)]\n",
    "\n",
    "# Also delete dis_pur_des with \"refund|return|memo|void\"\n",
    "df_2018['dis_purpose']=df_2018.dis_pur_des.str.lower()\n",
    "df_2018_RoC2 = df_2018[df_2018.dis_purpose.str.contains('refund|return|memo|void')]\n",
    "throwout2 = list(df_2018_RoC2.dis_purpose)\n",
    "wholedata2 = list(df_2018.dis_purpose)\n",
    "rest2 = list(set(wholedata2)^set(throwout2))\n",
    "df_2018 = df_2018[df_2018.dis_purpose.isin(rest2)]\n",
    "\n",
    "# Delete negative amount in the dataset\n",
    "df_2018_neg = df_2018[df_2018.dis_amo < 0]\n",
    "throwout3 = list(df_2018_neg.dis_amo)\n",
    "wholedata3 = list(df_2018.dis_amo)\n",
    "rest3 = list(set(wholedata3)^set(throwout3))\n",
    "df_2018 = df_2018[df_2018.dis_amo.isin(rest3)]\n",
    "\n",
    "len(df_2018)"
   ]
  },
  {
   "cell_type": "markdown",
   "metadata": {},
   "source": [
    "## <div class=\"alert alert-block alert-success\"><center>Topic One:  How the disbursement amounts vary from state to state<center>"
   ]
  },
  {
   "cell_type": "markdown",
   "metadata": {},
   "source": [
    "## <center><li>Examine the Columns Used in This Part"
   ]
  },
  {
   "cell_type": "code",
   "execution_count": 12,
   "metadata": {},
   "outputs": [],
   "source": [
    "df_state=df_2018[['can_off_sta','can_off','dis_amo']]"
   ]
  },
  {
   "cell_type": "code",
   "execution_count": 13,
   "metadata": {},
   "outputs": [
    {
     "data": {
      "text/html": [
       "<div>\n",
       "<style scoped>\n",
       "    .dataframe tbody tr th:only-of-type {\n",
       "        vertical-align: middle;\n",
       "    }\n",
       "\n",
       "    .dataframe tbody tr th {\n",
       "        vertical-align: top;\n",
       "    }\n",
       "\n",
       "    .dataframe thead th {\n",
       "        text-align: right;\n",
       "    }\n",
       "</style>\n",
       "<table border=\"1\" class=\"dataframe\">\n",
       "  <thead>\n",
       "    <tr style=\"text-align: right;\">\n",
       "      <th></th>\n",
       "      <th>can_off_sta</th>\n",
       "      <th>can_off</th>\n",
       "      <th>dis_amo</th>\n",
       "    </tr>\n",
       "  </thead>\n",
       "  <tbody>\n",
       "    <tr>\n",
       "      <th>0</th>\n",
       "      <td>AK</td>\n",
       "      <td>H</td>\n",
       "      <td>300.00</td>\n",
       "    </tr>\n",
       "    <tr>\n",
       "      <th>1</th>\n",
       "      <td>AK</td>\n",
       "      <td>H</td>\n",
       "      <td>3414.98</td>\n",
       "    </tr>\n",
       "    <tr>\n",
       "      <th>2</th>\n",
       "      <td>AK</td>\n",
       "      <td>H</td>\n",
       "      <td>2.00</td>\n",
       "    </tr>\n",
       "    <tr>\n",
       "      <th>3</th>\n",
       "      <td>AK</td>\n",
       "      <td>H</td>\n",
       "      <td>7000.00</td>\n",
       "    </tr>\n",
       "    <tr>\n",
       "      <th>4</th>\n",
       "      <td>AK</td>\n",
       "      <td>H</td>\n",
       "      <td>1394.47</td>\n",
       "    </tr>\n",
       "  </tbody>\n",
       "</table>\n",
       "</div>"
      ],
      "text/plain": [
       "  can_off_sta can_off  dis_amo\n",
       "0          AK       H   300.00\n",
       "1          AK       H  3414.98\n",
       "2          AK       H     2.00\n",
       "3          AK       H  7000.00\n",
       "4          AK       H  1394.47"
      ]
     },
     "execution_count": 13,
     "metadata": {},
     "output_type": "execute_result"
    }
   ],
   "source": [
    "df_state.head()"
   ]
  },
  {
   "cell_type": "markdown",
   "metadata": {},
   "source": [
    "## <center><li>Machine Learning-Regression"
   ]
  },
  {
   "cell_type": "markdown",
   "metadata": {},
   "source": [
    "### DECISION TREE REGRESSOR"
   ]
  },
  {
   "cell_type": "code",
   "execution_count": 14,
   "metadata": {},
   "outputs": [],
   "source": [
    "#import sklearn.tree as tree\n",
    "#from IPython.display import Image  \n",
    "#import pydotplus"
   ]
  },
  {
   "cell_type": "code",
   "execution_count": 15,
   "metadata": {},
   "outputs": [],
   "source": [
    "dt = tree.DecisionTreeRegressor(max_depth = 3)"
   ]
  },
  {
   "cell_type": "code",
   "execution_count": 16,
   "metadata": {},
   "outputs": [],
   "source": [
    "df2_2018=df_state.copy()"
   ]
  },
  {
   "cell_type": "code",
   "execution_count": 17,
   "metadata": {},
   "outputs": [],
   "source": [
    "df2_2018=pd.get_dummies(columns=['can_off'],data=df2_2018)"
   ]
  },
  {
   "cell_type": "code",
   "execution_count": 18,
   "metadata": {},
   "outputs": [
    {
     "data": {
      "text/html": [
       "<div>\n",
       "<style scoped>\n",
       "    .dataframe tbody tr th:only-of-type {\n",
       "        vertical-align: middle;\n",
       "    }\n",
       "\n",
       "    .dataframe tbody tr th {\n",
       "        vertical-align: top;\n",
       "    }\n",
       "\n",
       "    .dataframe thead th {\n",
       "        text-align: right;\n",
       "    }\n",
       "</style>\n",
       "<table border=\"1\" class=\"dataframe\">\n",
       "  <thead>\n",
       "    <tr style=\"text-align: right;\">\n",
       "      <th></th>\n",
       "      <th>can_off_sta</th>\n",
       "      <th>dis_amo</th>\n",
       "      <th>can_off_H</th>\n",
       "      <th>can_off_S</th>\n",
       "    </tr>\n",
       "  </thead>\n",
       "  <tbody>\n",
       "    <tr>\n",
       "      <th>0</th>\n",
       "      <td>AK</td>\n",
       "      <td>300.00</td>\n",
       "      <td>1</td>\n",
       "      <td>0</td>\n",
       "    </tr>\n",
       "    <tr>\n",
       "      <th>1</th>\n",
       "      <td>AK</td>\n",
       "      <td>3414.98</td>\n",
       "      <td>1</td>\n",
       "      <td>0</td>\n",
       "    </tr>\n",
       "    <tr>\n",
       "      <th>2</th>\n",
       "      <td>AK</td>\n",
       "      <td>2.00</td>\n",
       "      <td>1</td>\n",
       "      <td>0</td>\n",
       "    </tr>\n",
       "    <tr>\n",
       "      <th>3</th>\n",
       "      <td>AK</td>\n",
       "      <td>7000.00</td>\n",
       "      <td>1</td>\n",
       "      <td>0</td>\n",
       "    </tr>\n",
       "    <tr>\n",
       "      <th>4</th>\n",
       "      <td>AK</td>\n",
       "      <td>1394.47</td>\n",
       "      <td>1</td>\n",
       "      <td>0</td>\n",
       "    </tr>\n",
       "  </tbody>\n",
       "</table>\n",
       "</div>"
      ],
      "text/plain": [
       "  can_off_sta  dis_amo  can_off_H  can_off_S\n",
       "0          AK   300.00          1          0\n",
       "1          AK  3414.98          1          0\n",
       "2          AK     2.00          1          0\n",
       "3          AK  7000.00          1          0\n",
       "4          AK  1394.47          1          0"
      ]
     },
     "execution_count": 18,
     "metadata": {},
     "output_type": "execute_result"
    }
   ],
   "source": [
    "df2_2018.head()"
   ]
  },
  {
   "cell_type": "code",
   "execution_count": 19,
   "metadata": {},
   "outputs": [],
   "source": [
    "df2_2018=pd.get_dummies(columns=['can_off_sta'],data=df2_2018)"
   ]
  },
  {
   "cell_type": "code",
   "execution_count": 20,
   "metadata": {},
   "outputs": [
    {
     "data": {
      "text/html": [
       "<div>\n",
       "<style scoped>\n",
       "    .dataframe tbody tr th:only-of-type {\n",
       "        vertical-align: middle;\n",
       "    }\n",
       "\n",
       "    .dataframe tbody tr th {\n",
       "        vertical-align: top;\n",
       "    }\n",
       "\n",
       "    .dataframe thead th {\n",
       "        text-align: right;\n",
       "    }\n",
       "</style>\n",
       "<table border=\"1\" class=\"dataframe\">\n",
       "  <thead>\n",
       "    <tr style=\"text-align: right;\">\n",
       "      <th></th>\n",
       "      <th>dis_amo</th>\n",
       "      <th>can_off_H</th>\n",
       "      <th>can_off_S</th>\n",
       "      <th>can_off_sta_AK</th>\n",
       "      <th>can_off_sta_AL</th>\n",
       "      <th>can_off_sta_AR</th>\n",
       "      <th>can_off_sta_AS</th>\n",
       "      <th>can_off_sta_AZ</th>\n",
       "      <th>can_off_sta_CA</th>\n",
       "      <th>can_off_sta_CO</th>\n",
       "      <th>...</th>\n",
       "      <th>can_off_sta_TN</th>\n",
       "      <th>can_off_sta_TX</th>\n",
       "      <th>can_off_sta_UT</th>\n",
       "      <th>can_off_sta_VA</th>\n",
       "      <th>can_off_sta_VI</th>\n",
       "      <th>can_off_sta_VT</th>\n",
       "      <th>can_off_sta_WA</th>\n",
       "      <th>can_off_sta_WI</th>\n",
       "      <th>can_off_sta_WV</th>\n",
       "      <th>can_off_sta_WY</th>\n",
       "    </tr>\n",
       "  </thead>\n",
       "  <tbody>\n",
       "    <tr>\n",
       "      <th>0</th>\n",
       "      <td>300.00</td>\n",
       "      <td>1</td>\n",
       "      <td>0</td>\n",
       "      <td>1</td>\n",
       "      <td>0</td>\n",
       "      <td>0</td>\n",
       "      <td>0</td>\n",
       "      <td>0</td>\n",
       "      <td>0</td>\n",
       "      <td>0</td>\n",
       "      <td>...</td>\n",
       "      <td>0</td>\n",
       "      <td>0</td>\n",
       "      <td>0</td>\n",
       "      <td>0</td>\n",
       "      <td>0</td>\n",
       "      <td>0</td>\n",
       "      <td>0</td>\n",
       "      <td>0</td>\n",
       "      <td>0</td>\n",
       "      <td>0</td>\n",
       "    </tr>\n",
       "    <tr>\n",
       "      <th>1</th>\n",
       "      <td>3414.98</td>\n",
       "      <td>1</td>\n",
       "      <td>0</td>\n",
       "      <td>1</td>\n",
       "      <td>0</td>\n",
       "      <td>0</td>\n",
       "      <td>0</td>\n",
       "      <td>0</td>\n",
       "      <td>0</td>\n",
       "      <td>0</td>\n",
       "      <td>...</td>\n",
       "      <td>0</td>\n",
       "      <td>0</td>\n",
       "      <td>0</td>\n",
       "      <td>0</td>\n",
       "      <td>0</td>\n",
       "      <td>0</td>\n",
       "      <td>0</td>\n",
       "      <td>0</td>\n",
       "      <td>0</td>\n",
       "      <td>0</td>\n",
       "    </tr>\n",
       "    <tr>\n",
       "      <th>2</th>\n",
       "      <td>2.00</td>\n",
       "      <td>1</td>\n",
       "      <td>0</td>\n",
       "      <td>1</td>\n",
       "      <td>0</td>\n",
       "      <td>0</td>\n",
       "      <td>0</td>\n",
       "      <td>0</td>\n",
       "      <td>0</td>\n",
       "      <td>0</td>\n",
       "      <td>...</td>\n",
       "      <td>0</td>\n",
       "      <td>0</td>\n",
       "      <td>0</td>\n",
       "      <td>0</td>\n",
       "      <td>0</td>\n",
       "      <td>0</td>\n",
       "      <td>0</td>\n",
       "      <td>0</td>\n",
       "      <td>0</td>\n",
       "      <td>0</td>\n",
       "    </tr>\n",
       "    <tr>\n",
       "      <th>3</th>\n",
       "      <td>7000.00</td>\n",
       "      <td>1</td>\n",
       "      <td>0</td>\n",
       "      <td>1</td>\n",
       "      <td>0</td>\n",
       "      <td>0</td>\n",
       "      <td>0</td>\n",
       "      <td>0</td>\n",
       "      <td>0</td>\n",
       "      <td>0</td>\n",
       "      <td>...</td>\n",
       "      <td>0</td>\n",
       "      <td>0</td>\n",
       "      <td>0</td>\n",
       "      <td>0</td>\n",
       "      <td>0</td>\n",
       "      <td>0</td>\n",
       "      <td>0</td>\n",
       "      <td>0</td>\n",
       "      <td>0</td>\n",
       "      <td>0</td>\n",
       "    </tr>\n",
       "    <tr>\n",
       "      <th>4</th>\n",
       "      <td>1394.47</td>\n",
       "      <td>1</td>\n",
       "      <td>0</td>\n",
       "      <td>1</td>\n",
       "      <td>0</td>\n",
       "      <td>0</td>\n",
       "      <td>0</td>\n",
       "      <td>0</td>\n",
       "      <td>0</td>\n",
       "      <td>0</td>\n",
       "      <td>...</td>\n",
       "      <td>0</td>\n",
       "      <td>0</td>\n",
       "      <td>0</td>\n",
       "      <td>0</td>\n",
       "      <td>0</td>\n",
       "      <td>0</td>\n",
       "      <td>0</td>\n",
       "      <td>0</td>\n",
       "      <td>0</td>\n",
       "      <td>0</td>\n",
       "    </tr>\n",
       "  </tbody>\n",
       "</table>\n",
       "<p>5 rows × 58 columns</p>\n",
       "</div>"
      ],
      "text/plain": [
       "   dis_amo  can_off_H  can_off_S  can_off_sta_AK  can_off_sta_AL  \\\n",
       "0   300.00          1          0               1               0   \n",
       "1  3414.98          1          0               1               0   \n",
       "2     2.00          1          0               1               0   \n",
       "3  7000.00          1          0               1               0   \n",
       "4  1394.47          1          0               1               0   \n",
       "\n",
       "   can_off_sta_AR  can_off_sta_AS  can_off_sta_AZ  can_off_sta_CA  \\\n",
       "0               0               0               0               0   \n",
       "1               0               0               0               0   \n",
       "2               0               0               0               0   \n",
       "3               0               0               0               0   \n",
       "4               0               0               0               0   \n",
       "\n",
       "   can_off_sta_CO  ...  can_off_sta_TN  can_off_sta_TX  can_off_sta_UT  \\\n",
       "0               0  ...               0               0               0   \n",
       "1               0  ...               0               0               0   \n",
       "2               0  ...               0               0               0   \n",
       "3               0  ...               0               0               0   \n",
       "4               0  ...               0               0               0   \n",
       "\n",
       "   can_off_sta_VA  can_off_sta_VI  can_off_sta_VT  can_off_sta_WA  \\\n",
       "0               0               0               0               0   \n",
       "1               0               0               0               0   \n",
       "2               0               0               0               0   \n",
       "3               0               0               0               0   \n",
       "4               0               0               0               0   \n",
       "\n",
       "   can_off_sta_WI  can_off_sta_WV  can_off_sta_WY  \n",
       "0               0               0               0  \n",
       "1               0               0               0  \n",
       "2               0               0               0  \n",
       "3               0               0               0  \n",
       "4               0               0               0  \n",
       "\n",
       "[5 rows x 58 columns]"
      ]
     },
     "execution_count": 20,
     "metadata": {},
     "output_type": "execute_result"
    }
   ],
   "source": [
    "df2_2018.head()"
   ]
  },
  {
   "cell_type": "code",
   "execution_count": 21,
   "metadata": {},
   "outputs": [],
   "source": [
    "X = df2_2018.drop('dis_amo',axis=1)\n",
    "Y = df2_2018.dis_amo"
   ]
  },
  {
   "cell_type": "code",
   "execution_count": 22,
   "metadata": {},
   "outputs": [
    {
     "data": {
      "text/html": [
       "<div>\n",
       "<style scoped>\n",
       "    .dataframe tbody tr th:only-of-type {\n",
       "        vertical-align: middle;\n",
       "    }\n",
       "\n",
       "    .dataframe tbody tr th {\n",
       "        vertical-align: top;\n",
       "    }\n",
       "\n",
       "    .dataframe thead th {\n",
       "        text-align: right;\n",
       "    }\n",
       "</style>\n",
       "<table border=\"1\" class=\"dataframe\">\n",
       "  <thead>\n",
       "    <tr style=\"text-align: right;\">\n",
       "      <th></th>\n",
       "      <th>can_off_H</th>\n",
       "      <th>can_off_S</th>\n",
       "      <th>can_off_sta_AK</th>\n",
       "      <th>can_off_sta_AL</th>\n",
       "      <th>can_off_sta_AR</th>\n",
       "      <th>can_off_sta_AS</th>\n",
       "      <th>can_off_sta_AZ</th>\n",
       "      <th>can_off_sta_CA</th>\n",
       "      <th>can_off_sta_CO</th>\n",
       "      <th>can_off_sta_CT</th>\n",
       "      <th>...</th>\n",
       "      <th>can_off_sta_TN</th>\n",
       "      <th>can_off_sta_TX</th>\n",
       "      <th>can_off_sta_UT</th>\n",
       "      <th>can_off_sta_VA</th>\n",
       "      <th>can_off_sta_VI</th>\n",
       "      <th>can_off_sta_VT</th>\n",
       "      <th>can_off_sta_WA</th>\n",
       "      <th>can_off_sta_WI</th>\n",
       "      <th>can_off_sta_WV</th>\n",
       "      <th>can_off_sta_WY</th>\n",
       "    </tr>\n",
       "  </thead>\n",
       "  <tbody>\n",
       "    <tr>\n",
       "      <th>0</th>\n",
       "      <td>1</td>\n",
       "      <td>0</td>\n",
       "      <td>1</td>\n",
       "      <td>0</td>\n",
       "      <td>0</td>\n",
       "      <td>0</td>\n",
       "      <td>0</td>\n",
       "      <td>0</td>\n",
       "      <td>0</td>\n",
       "      <td>0</td>\n",
       "      <td>...</td>\n",
       "      <td>0</td>\n",
       "      <td>0</td>\n",
       "      <td>0</td>\n",
       "      <td>0</td>\n",
       "      <td>0</td>\n",
       "      <td>0</td>\n",
       "      <td>0</td>\n",
       "      <td>0</td>\n",
       "      <td>0</td>\n",
       "      <td>0</td>\n",
       "    </tr>\n",
       "    <tr>\n",
       "      <th>1</th>\n",
       "      <td>1</td>\n",
       "      <td>0</td>\n",
       "      <td>1</td>\n",
       "      <td>0</td>\n",
       "      <td>0</td>\n",
       "      <td>0</td>\n",
       "      <td>0</td>\n",
       "      <td>0</td>\n",
       "      <td>0</td>\n",
       "      <td>0</td>\n",
       "      <td>...</td>\n",
       "      <td>0</td>\n",
       "      <td>0</td>\n",
       "      <td>0</td>\n",
       "      <td>0</td>\n",
       "      <td>0</td>\n",
       "      <td>0</td>\n",
       "      <td>0</td>\n",
       "      <td>0</td>\n",
       "      <td>0</td>\n",
       "      <td>0</td>\n",
       "    </tr>\n",
       "    <tr>\n",
       "      <th>2</th>\n",
       "      <td>1</td>\n",
       "      <td>0</td>\n",
       "      <td>1</td>\n",
       "      <td>0</td>\n",
       "      <td>0</td>\n",
       "      <td>0</td>\n",
       "      <td>0</td>\n",
       "      <td>0</td>\n",
       "      <td>0</td>\n",
       "      <td>0</td>\n",
       "      <td>...</td>\n",
       "      <td>0</td>\n",
       "      <td>0</td>\n",
       "      <td>0</td>\n",
       "      <td>0</td>\n",
       "      <td>0</td>\n",
       "      <td>0</td>\n",
       "      <td>0</td>\n",
       "      <td>0</td>\n",
       "      <td>0</td>\n",
       "      <td>0</td>\n",
       "    </tr>\n",
       "    <tr>\n",
       "      <th>3</th>\n",
       "      <td>1</td>\n",
       "      <td>0</td>\n",
       "      <td>1</td>\n",
       "      <td>0</td>\n",
       "      <td>0</td>\n",
       "      <td>0</td>\n",
       "      <td>0</td>\n",
       "      <td>0</td>\n",
       "      <td>0</td>\n",
       "      <td>0</td>\n",
       "      <td>...</td>\n",
       "      <td>0</td>\n",
       "      <td>0</td>\n",
       "      <td>0</td>\n",
       "      <td>0</td>\n",
       "      <td>0</td>\n",
       "      <td>0</td>\n",
       "      <td>0</td>\n",
       "      <td>0</td>\n",
       "      <td>0</td>\n",
       "      <td>0</td>\n",
       "    </tr>\n",
       "    <tr>\n",
       "      <th>4</th>\n",
       "      <td>1</td>\n",
       "      <td>0</td>\n",
       "      <td>1</td>\n",
       "      <td>0</td>\n",
       "      <td>0</td>\n",
       "      <td>0</td>\n",
       "      <td>0</td>\n",
       "      <td>0</td>\n",
       "      <td>0</td>\n",
       "      <td>0</td>\n",
       "      <td>...</td>\n",
       "      <td>0</td>\n",
       "      <td>0</td>\n",
       "      <td>0</td>\n",
       "      <td>0</td>\n",
       "      <td>0</td>\n",
       "      <td>0</td>\n",
       "      <td>0</td>\n",
       "      <td>0</td>\n",
       "      <td>0</td>\n",
       "      <td>0</td>\n",
       "    </tr>\n",
       "  </tbody>\n",
       "</table>\n",
       "<p>5 rows × 57 columns</p>\n",
       "</div>"
      ],
      "text/plain": [
       "   can_off_H  can_off_S  can_off_sta_AK  can_off_sta_AL  can_off_sta_AR  \\\n",
       "0          1          0               1               0               0   \n",
       "1          1          0               1               0               0   \n",
       "2          1          0               1               0               0   \n",
       "3          1          0               1               0               0   \n",
       "4          1          0               1               0               0   \n",
       "\n",
       "   can_off_sta_AS  can_off_sta_AZ  can_off_sta_CA  can_off_sta_CO  \\\n",
       "0               0               0               0               0   \n",
       "1               0               0               0               0   \n",
       "2               0               0               0               0   \n",
       "3               0               0               0               0   \n",
       "4               0               0               0               0   \n",
       "\n",
       "   can_off_sta_CT  ...  can_off_sta_TN  can_off_sta_TX  can_off_sta_UT  \\\n",
       "0               0  ...               0               0               0   \n",
       "1               0  ...               0               0               0   \n",
       "2               0  ...               0               0               0   \n",
       "3               0  ...               0               0               0   \n",
       "4               0  ...               0               0               0   \n",
       "\n",
       "   can_off_sta_VA  can_off_sta_VI  can_off_sta_VT  can_off_sta_WA  \\\n",
       "0               0               0               0               0   \n",
       "1               0               0               0               0   \n",
       "2               0               0               0               0   \n",
       "3               0               0               0               0   \n",
       "4               0               0               0               0   \n",
       "\n",
       "   can_off_sta_WI  can_off_sta_WV  can_off_sta_WY  \n",
       "0               0               0               0  \n",
       "1               0               0               0  \n",
       "2               0               0               0  \n",
       "3               0               0               0  \n",
       "4               0               0               0  \n",
       "\n",
       "[5 rows x 57 columns]"
      ]
     },
     "execution_count": 22,
     "metadata": {},
     "output_type": "execute_result"
    }
   ],
   "source": [
    "X.head()"
   ]
  },
  {
   "cell_type": "code",
   "execution_count": 23,
   "metadata": {},
   "outputs": [
    {
     "data": {
      "text/plain": [
       "DecisionTreeRegressor(criterion='mse', max_depth=3, max_features=None,\n",
       "                      max_leaf_nodes=None, min_impurity_decrease=0.0,\n",
       "                      min_impurity_split=None, min_samples_leaf=1,\n",
       "                      min_samples_split=2, min_weight_fraction_leaf=0.0,\n",
       "                      presort=False, random_state=None, splitter='best')"
      ]
     },
     "execution_count": 23,
     "metadata": {},
     "output_type": "execute_result"
    }
   ],
   "source": [
    "dt.fit(X,Y)"
   ]
  },
  {
   "cell_type": "code",
   "execution_count": 24,
   "metadata": {},
   "outputs": [
    {
     "data": {
      "image/png": "[encoded data removed]",
      "text/plain": [
       "<IPython.core.display.Image object>"
      ]
     },
     "execution_count": 24,
     "metadata": {},
     "output_type": "execute_result"
    }
   ],
   "source": [
    "import os\n",
    "os.environ[\"PATH\"] += os.pathsep + r'C:\\Users\\SIMRAN\\Anaconda3\\Library\\bin\\graphviz'\n",
    "dt_feature_names = list(X.columns)\n",
    "dt_target_names = [str(s) for s in Y.unique()]\n",
    "tree.export_graphviz(dt, out_file='tree.dot', \n",
    "    feature_names=dt_feature_names, class_names=dt_target_names,\n",
    "    filled=True)  \n",
    "graph = pydotplus.graph_from_dot_file('tree.dot')\n",
    "Image(graph.create_png())"
   ]
  },
  {
   "cell_type": "markdown",
   "metadata": {},
   "source": [
    "## <center><li>Validate the Finding"
   ]
  },
  {
   "cell_type": "code",
   "execution_count": 25,
   "metadata": {},
   "outputs": [
    {
     "data": {
      "text/html": [
       "<div>\n",
       "<style scoped>\n",
       "    .dataframe tbody tr th:only-of-type {\n",
       "        vertical-align: middle;\n",
       "    }\n",
       "\n",
       "    .dataframe tbody tr th {\n",
       "        vertical-align: top;\n",
       "    }\n",
       "\n",
       "    .dataframe thead th {\n",
       "        text-align: right;\n",
       "    }\n",
       "</style>\n",
       "<table border=\"1\" class=\"dataframe\">\n",
       "  <thead>\n",
       "    <tr style=\"text-align: right;\">\n",
       "      <th></th>\n",
       "      <th></th>\n",
       "      <th>average_disbursements</th>\n",
       "      <th>total_disbursements</th>\n",
       "    </tr>\n",
       "    <tr>\n",
       "      <th>can_off_sta</th>\n",
       "      <th>can_off</th>\n",
       "      <th></th>\n",
       "      <th></th>\n",
       "    </tr>\n",
       "  </thead>\n",
       "  <tbody>\n",
       "    <tr>\n",
       "      <th>AK</th>\n",
       "      <th>H</th>\n",
       "      <td>1713.86</td>\n",
       "      <td>3264904.92</td>\n",
       "    </tr>\n",
       "    <tr>\n",
       "      <th>AL</th>\n",
       "      <th>H</th>\n",
       "      <td>1540.80</td>\n",
       "      <td>14109078.20</td>\n",
       "    </tr>\n",
       "  </tbody>\n",
       "</table>\n",
       "</div>"
      ],
      "text/plain": [
       "                     average_disbursements  total_disbursements\n",
       "can_off_sta can_off                                            \n",
       "AK          H                      1713.86           3264904.92\n",
       "AL          H                      1540.80          14109078.20"
      ]
     },
     "execution_count": 25,
     "metadata": {},
     "output_type": "execute_result"
    }
   ],
   "source": [
    "df2=df_2018.groupby(by=['can_off_sta','can_off'])['dis_amo'].agg(['mean','sum']).rename(columns={'mean':'average_disbursements','sum':'total_disbursements'})\n",
    "df2.head(2)"
   ]
  },
  {
   "cell_type": "code",
   "execution_count": 26,
   "metadata": {},
   "outputs": [],
   "source": [
    "df2['total_disbursements']=df2['total_disbursements'].astype(str)"
   ]
  },
  {
   "cell_type": "code",
   "execution_count": 27,
   "metadata": {},
   "outputs": [
    {
     "data": {
      "text/plain": [
       "can_off_sta  can_off\n",
       "FL           S         16384.98\n",
       "NJ           S         12513.12\n",
       "TN           S          8357.52\n",
       "AL           S          8058.76\n",
       "MT           H          7447.19\n",
       "Name: average_disbursements, dtype: float64"
      ]
     },
     "execution_count": 27,
     "metadata": {},
     "output_type": "execute_result"
    }
   ],
   "source": [
    "df2.average_disbursements.nlargest()"
   ]
  },
  {
   "cell_type": "markdown",
   "metadata": {},
   "source": [
    "### HOUSE"
   ]
  },
  {
   "cell_type": "code",
   "execution_count": 28,
   "metadata": {},
   "outputs": [],
   "source": [
    "df_house=df_2018[df_2018.can_off=='H'].groupby('can_off_sta')['dis_amo'].agg(['mean','sum']).rename(columns={'mean':'average_disbursements','sum':'total_disbursements'})"
   ]
  },
  {
   "cell_type": "code",
   "execution_count": 29,
   "metadata": {
    "scrolled": true
   },
   "outputs": [],
   "source": [
    "house_largest=df_house.average_disbursements.nlargest().to_frame()"
   ]
  },
  {
   "cell_type": "code",
   "execution_count": 30,
   "metadata": {},
   "outputs": [
    {
     "data": {
      "text/html": [
       "<div>\n",
       "<style scoped>\n",
       "    .dataframe tbody tr th:only-of-type {\n",
       "        vertical-align: middle;\n",
       "    }\n",
       "\n",
       "    .dataframe tbody tr th {\n",
       "        vertical-align: top;\n",
       "    }\n",
       "\n",
       "    .dataframe thead th {\n",
       "        text-align: right;\n",
       "    }\n",
       "</style>\n",
       "<table border=\"1\" class=\"dataframe\">\n",
       "  <thead>\n",
       "    <tr style=\"text-align: right;\">\n",
       "      <th></th>\n",
       "      <th>average_disbursements</th>\n",
       "    </tr>\n",
       "    <tr>\n",
       "      <th>can_off_sta</th>\n",
       "      <th></th>\n",
       "    </tr>\n",
       "  </thead>\n",
       "  <tbody>\n",
       "    <tr>\n",
       "      <th>MT</th>\n",
       "      <td>7447.19</td>\n",
       "    </tr>\n",
       "    <tr>\n",
       "      <th>GA</th>\n",
       "      <td>3361.49</td>\n",
       "    </tr>\n",
       "    <tr>\n",
       "      <th>ME</th>\n",
       "      <td>3092.02</td>\n",
       "    </tr>\n",
       "    <tr>\n",
       "      <th>NJ</th>\n",
       "      <td>2944.80</td>\n",
       "    </tr>\n",
       "    <tr>\n",
       "      <th>PA</th>\n",
       "      <td>2823.43</td>\n",
       "    </tr>\n",
       "  </tbody>\n",
       "</table>\n",
       "</div>"
      ],
      "text/plain": [
       "             average_disbursements\n",
       "can_off_sta                       \n",
       "MT                         7447.19\n",
       "GA                         3361.49\n",
       "ME                         3092.02\n",
       "NJ                         2944.80\n",
       "PA                         2823.43"
      ]
     },
     "execution_count": 30,
     "metadata": {},
     "output_type": "execute_result"
    }
   ],
   "source": [
    "house_largest"
   ]
  },
  {
   "cell_type": "code",
   "execution_count": 31,
   "metadata": {},
   "outputs": [
    {
     "data": {
      "text/plain": [
       "<matplotlib.axes._subplots.AxesSubplot at 0x135195be0>"
      ]
     },
     "execution_count": 31,
     "metadata": {},
     "output_type": "execute_result"
    },
    {
     "data": {
      "image/png": "[encoded data removed]",
      "text/plain": [
       "<Figure size 432x288 with 1 Axes>"
      ]
     },
     "metadata": {
      "needs_background": "light"
     },
     "output_type": "display_data"
    }
   ],
   "source": [
    "sns.barplot(y=house_largest.index,x='average_disbursements',data=house_largest)"
   ]
  },
  {
   "cell_type": "markdown",
   "metadata": {},
   "source": [
    "### SENATE"
   ]
  },
  {
   "cell_type": "code",
   "execution_count": 32,
   "metadata": {},
   "outputs": [],
   "source": [
    "df_senate=df_2018[df_2018.can_off=='S'].\\\n",
    "groupby('can_off_sta')['dis_amo'].agg(['mean','sum']).\\\n",
    "rename(columns={'mean':'average_disbursements','sum':'total_disbursements'})"
   ]
  },
  {
   "cell_type": "code",
   "execution_count": 33,
   "metadata": {},
   "outputs": [
    {
     "data": {
      "text/html": [
       "<div>\n",
       "<style scoped>\n",
       "    .dataframe tbody tr th:only-of-type {\n",
       "        vertical-align: middle;\n",
       "    }\n",
       "\n",
       "    .dataframe tbody tr th {\n",
       "        vertical-align: top;\n",
       "    }\n",
       "\n",
       "    .dataframe thead th {\n",
       "        text-align: right;\n",
       "    }\n",
       "</style>\n",
       "<table border=\"1\" class=\"dataframe\">\n",
       "  <thead>\n",
       "    <tr style=\"text-align: right;\">\n",
       "      <th></th>\n",
       "      <th>average_disbursements</th>\n",
       "    </tr>\n",
       "    <tr>\n",
       "      <th>can_off_sta</th>\n",
       "      <th></th>\n",
       "    </tr>\n",
       "  </thead>\n",
       "  <tbody>\n",
       "    <tr>\n",
       "      <th>FL</th>\n",
       "      <td>16384.98</td>\n",
       "    </tr>\n",
       "    <tr>\n",
       "      <th>NJ</th>\n",
       "      <td>12513.12</td>\n",
       "    </tr>\n",
       "    <tr>\n",
       "      <th>TN</th>\n",
       "      <td>8357.52</td>\n",
       "    </tr>\n",
       "    <tr>\n",
       "      <th>AL</th>\n",
       "      <td>8058.76</td>\n",
       "    </tr>\n",
       "    <tr>\n",
       "      <th>CA</th>\n",
       "      <td>7392.64</td>\n",
       "    </tr>\n",
       "  </tbody>\n",
       "</table>\n",
       "</div>"
      ],
      "text/plain": [
       "             average_disbursements\n",
       "can_off_sta                       \n",
       "FL                        16384.98\n",
       "NJ                        12513.12\n",
       "TN                         8357.52\n",
       "AL                         8058.76\n",
       "CA                         7392.64"
      ]
     },
     "execution_count": 33,
     "metadata": {},
     "output_type": "execute_result"
    }
   ],
   "source": [
    "df_senate=df_senate.average_disbursements.nlargest().to_frame()\n",
    "df_senate"
   ]
  },
  {
   "cell_type": "code",
   "execution_count": 34,
   "metadata": {},
   "outputs": [
    {
     "data": {
      "text/plain": [
       "<matplotlib.axes._subplots.AxesSubplot at 0x12f620ac8>"
      ]
     },
     "execution_count": 34,
     "metadata": {},
     "output_type": "execute_result"
    },
    {
     "data": {
      "image/png": "[encoded data removed]",
      "text/plain": [
       "<Figure size 432x288 with 1 Axes>"
      ]
     },
     "metadata": {
      "needs_background": "light"
     },
     "output_type": "display_data"
    }
   ],
   "source": [
    "sns.barplot(y=df_senate.index,x='average_disbursements',data=df_senate)"
   ]
  },
  {
   "cell_type": "markdown",
   "metadata": {},
   "source": [
    "### <div class=\"alert alert-block alert-warning\">Conclusion and Managerial Insight:<br><br>In the elections for the House, the candidates from Montana, Georgia and Maine spent more contribution than candidates from Rhode Island and Idaho.<br><br>In the elections for the Senate, the the candidates from Florida, New Jersey(east) are spending more money than states like Illinois and Delaware.<br><br>According to this finding for a candidate to stand in the election at the HOUSE in Montana an average of 7,447 should be spent as disbursement money,while an average of 16384 should be spent for a candidate to stand in the election in Florida<br><br>Typical people would think California or New York might be the one spending the most money but it turns out New Jersey and Montana was spent the most<br><br>According to the findings almost double the amount of disbursement money should be spent for a candidate to stand at the SENATE than the HOUSE<br><br>In the house every state is represented according to its population with larger states getting more representatives than the smaller ones,the population of states like California and New York is much more than Montana and Georgia thus they will have more number of representatives but they are spending less amount of money when compared to Monata and Georgia"
   ]
  },
  {
   "cell_type": "markdown",
   "metadata": {},
   "source": [
    "## <div class=\"alert alert-block alert-success\"><center>Topic Two: Does disbursement amout affect the campaign result?<center>"
   ]
  },
  {
   "cell_type": "markdown",
   "metadata": {},
   "source": [
    "## <center><li>Examine the Columns Used in This Part"
   ]
  },
  {
   "cell_type": "code",
   "execution_count": 35,
   "metadata": {
    "scrolled": false
   },
   "outputs": [
    {
     "data": {
      "text/html": [
       "<div>\n",
       "<style scoped>\n",
       "    .dataframe tbody tr th:only-of-type {\n",
       "        vertical-align: middle;\n",
       "    }\n",
       "\n",
       "    .dataframe tbody tr th {\n",
       "        vertical-align: top;\n",
       "    }\n",
       "\n",
       "    .dataframe thead th {\n",
       "        text-align: right;\n",
       "    }\n",
       "</style>\n",
       "<table border=\"1\" class=\"dataframe\">\n",
       "  <thead>\n",
       "    <tr style=\"text-align: right;\">\n",
       "      <th></th>\n",
       "      <th>can_id</th>\n",
       "      <th>can_nam</th>\n",
       "      <th>can_off</th>\n",
       "      <th>dis_amo</th>\n",
       "      <th>win</th>\n",
       "      <th>can_par_aff</th>\n",
       "    </tr>\n",
       "  </thead>\n",
       "  <tbody>\n",
       "    <tr>\n",
       "      <th>0</th>\n",
       "      <td>H6AK00045</td>\n",
       "      <td>YOUNG-DONALD-E</td>\n",
       "      <td>H</td>\n",
       "      <td>300.00</td>\n",
       "      <td>1</td>\n",
       "      <td>REP</td>\n",
       "    </tr>\n",
       "    <tr>\n",
       "      <th>1</th>\n",
       "      <td>H6AK00045</td>\n",
       "      <td>YOUNG-DONALD-E</td>\n",
       "      <td>H</td>\n",
       "      <td>3414.98</td>\n",
       "      <td>1</td>\n",
       "      <td>REP</td>\n",
       "    </tr>\n",
       "    <tr>\n",
       "      <th>2</th>\n",
       "      <td>H6AK00045</td>\n",
       "      <td>YOUNG-DONALD-E</td>\n",
       "      <td>H</td>\n",
       "      <td>2.00</td>\n",
       "      <td>1</td>\n",
       "      <td>REP</td>\n",
       "    </tr>\n",
       "    <tr>\n",
       "      <th>3</th>\n",
       "      <td>H6AK00045</td>\n",
       "      <td>YOUNG-DONALD-E</td>\n",
       "      <td>H</td>\n",
       "      <td>7000.00</td>\n",
       "      <td>1</td>\n",
       "      <td>REP</td>\n",
       "    </tr>\n",
       "    <tr>\n",
       "      <th>4</th>\n",
       "      <td>H6AK00045</td>\n",
       "      <td>YOUNG-DONALD-E</td>\n",
       "      <td>H</td>\n",
       "      <td>1394.47</td>\n",
       "      <td>1</td>\n",
       "      <td>REP</td>\n",
       "    </tr>\n",
       "  </tbody>\n",
       "</table>\n",
       "</div>"
      ],
      "text/plain": [
       "      can_id         can_nam can_off  dis_amo  win can_par_aff\n",
       "0  H6AK00045  YOUNG-DONALD-E       H   300.00    1         REP\n",
       "1  H6AK00045  YOUNG-DONALD-E       H  3414.98    1         REP\n",
       "2  H6AK00045  YOUNG-DONALD-E       H     2.00    1         REP\n",
       "3  H6AK00045  YOUNG-DONALD-E       H  7000.00    1         REP\n",
       "4  H6AK00045  YOUNG-DONALD-E       H  1394.47    1         REP"
      ]
     },
     "execution_count": 35,
     "metadata": {},
     "output_type": "execute_result"
    },
    {
     "data": {
      "text/plain": [
       "973158"
      ]
     },
     "execution_count": 35,
     "metadata": {},
     "output_type": "execute_result"
    }
   ],
   "source": [
    "# Columns used in this part\n",
    "df_2018_cluster=df_2018[['can_id','can_nam','can_off','dis_amo', 'win', 'can_par_aff']]\n",
    "df_2018_cluster.head()\n",
    "len(df_2018_cluster)"
   ]
  },
  {
   "cell_type": "markdown",
   "metadata": {},
   "source": [
    "## <center><li>Machine Learning-Clustering"
   ]
  },
  {
   "cell_type": "markdown",
   "metadata": {},
   "source": [
    "## Prepare data from clustering"
   ]
  },
  {
   "cell_type": "markdown",
   "metadata": {},
   "source": [
    "<div class=\"alert alert-block alert-warning\">NOTE: Use Democratic and Republican parties to analysis the disbursement amounts on house and senate separately"
   ]
  },
  {
   "cell_type": "code",
   "execution_count": 36,
   "metadata": {},
   "outputs": [],
   "source": [
    "df_2018_house = df_2018_cluster[(df_2018_cluster.can_off=='H') & ((df_2018.can_par_aff == 'DEM') | \\\n",
    "                                                                  (df_2018.can_par_aff == 'REP'))]\\\n",
    "                                                                    .groupby(['can_nam'])[['dis_amo']].sum()"
   ]
  },
  {
   "cell_type": "code",
   "execution_count": 37,
   "metadata": {},
   "outputs": [],
   "source": [
    "df_2018_senate =  df_2018_cluster[(df_2018_cluster.can_off=='S') & ((df_2018.can_par_aff == 'DEM') | \\\n",
    "                                                                    (df_2018.can_par_aff == 'REP'))] \\\n",
    "                                                                    .groupby(['can_nam'])[['dis_amo']].sum()"
   ]
  },
  {
   "cell_type": "code",
   "execution_count": 38,
   "metadata": {},
   "outputs": [],
   "source": [
    "df_2018_house.reset_index(inplace=True)\n",
    "df_2018_senate.reset_index(inplace=True)"
   ]
  },
  {
   "cell_type": "code",
   "execution_count": 39,
   "metadata": {
    "scrolled": true
   },
   "outputs": [
    {
     "data": {
      "text/html": [
       "<div>\n",
       "<style scoped>\n",
       "    .dataframe tbody tr th:only-of-type {\n",
       "        vertical-align: middle;\n",
       "    }\n",
       "\n",
       "    .dataframe tbody tr th {\n",
       "        vertical-align: top;\n",
       "    }\n",
       "\n",
       "    .dataframe thead th {\n",
       "        text-align: right;\n",
       "    }\n",
       "</style>\n",
       "<table border=\"1\" class=\"dataframe\">\n",
       "  <thead>\n",
       "    <tr style=\"text-align: right;\">\n",
       "      <th></th>\n",
       "      <th>can_nam</th>\n",
       "      <th>dis_amo</th>\n",
       "    </tr>\n",
       "  </thead>\n",
       "  <tbody>\n",
       "    <tr>\n",
       "      <th>0</th>\n",
       "      <td>AARESTAD-DAVID</td>\n",
       "      <td>211005.50</td>\n",
       "    </tr>\n",
       "    <tr>\n",
       "      <th>1</th>\n",
       "      <td>ABDULAHI-JAMAL-MR.</td>\n",
       "      <td>95456.90</td>\n",
       "    </tr>\n",
       "    <tr>\n",
       "      <th>2</th>\n",
       "      <td>ABEL-KEVIN</td>\n",
       "      <td>864877.70</td>\n",
       "    </tr>\n",
       "    <tr>\n",
       "      <th>3</th>\n",
       "      <td>ABRAHAM-RALPH-LEE-DR.-JR.</td>\n",
       "      <td>1036466.74</td>\n",
       "    </tr>\n",
       "    <tr>\n",
       "      <th>4</th>\n",
       "      <td>ABRAMS-JOHN-E.</td>\n",
       "      <td>20.00</td>\n",
       "    </tr>\n",
       "  </tbody>\n",
       "</table>\n",
       "</div>"
      ],
      "text/plain": [
       "                     can_nam    dis_amo\n",
       "0             AARESTAD-DAVID  211005.50\n",
       "1         ABDULAHI-JAMAL-MR.   95456.90\n",
       "2                 ABEL-KEVIN  864877.70\n",
       "3  ABRAHAM-RALPH-LEE-DR.-JR. 1036466.74\n",
       "4             ABRAMS-JOHN-E.      20.00"
      ]
     },
     "execution_count": 39,
     "metadata": {},
     "output_type": "execute_result"
    },
    {
     "data": {
      "text/html": [
       "<div>\n",
       "<style scoped>\n",
       "    .dataframe tbody tr th:only-of-type {\n",
       "        vertical-align: middle;\n",
       "    }\n",
       "\n",
       "    .dataframe tbody tr th {\n",
       "        vertical-align: top;\n",
       "    }\n",
       "\n",
       "    .dataframe thead th {\n",
       "        text-align: right;\n",
       "    }\n",
       "</style>\n",
       "<table border=\"1\" class=\"dataframe\">\n",
       "  <thead>\n",
       "    <tr style=\"text-align: right;\">\n",
       "      <th></th>\n",
       "      <th>can_nam</th>\n",
       "      <th>dis_amo</th>\n",
       "    </tr>\n",
       "  </thead>\n",
       "  <tbody>\n",
       "    <tr>\n",
       "      <th>0</th>\n",
       "      <td>ABBOUD-DEEDRA</td>\n",
       "      <td>101013.87</td>\n",
       "    </tr>\n",
       "    <tr>\n",
       "      <th>1</th>\n",
       "      <td>ACKISON-MELISSA</td>\n",
       "      <td>66818.65</td>\n",
       "    </tr>\n",
       "    <tr>\n",
       "      <th>2</th>\n",
       "      <td>ANDERSON-CONSUELO-E</td>\n",
       "      <td>13785.59</td>\n",
       "    </tr>\n",
       "    <tr>\n",
       "      <th>3</th>\n",
       "      <td>ARLETT-ROB</td>\n",
       "      <td>237100.95</td>\n",
       "    </tr>\n",
       "    <tr>\n",
       "      <th>4</th>\n",
       "      <td>ARPAIO-JOE</td>\n",
       "      <td>2788203.49</td>\n",
       "    </tr>\n",
       "  </tbody>\n",
       "</table>\n",
       "</div>"
      ],
      "text/plain": [
       "               can_nam    dis_amo\n",
       "0        ABBOUD-DEEDRA  101013.87\n",
       "1      ACKISON-MELISSA   66818.65\n",
       "2  ANDERSON-CONSUELO-E   13785.59\n",
       "3           ARLETT-ROB  237100.95\n",
       "4           ARPAIO-JOE 2788203.49"
      ]
     },
     "execution_count": 39,
     "metadata": {},
     "output_type": "execute_result"
    }
   ],
   "source": [
    "df_2018_house.head()\n",
    "df_2018_senate.head()"
   ]
  },
  {
   "cell_type": "code",
   "execution_count": 40,
   "metadata": {},
   "outputs": [],
   "source": [
    "df_2018_house = pd.merge(df_2018_house,df_2018[['can_nam','can_id']],\\\n",
    "                                            on='can_nam',how='left')"
   ]
  },
  {
   "cell_type": "code",
   "execution_count": 41,
   "metadata": {},
   "outputs": [],
   "source": [
    "df_2018_senate = pd.merge(df_2018_senate,df_2018[['can_nam','can_id']],\\\n",
    "                                            on='can_nam',how='left')"
   ]
  },
  {
   "cell_type": "code",
   "execution_count": 42,
   "metadata": {},
   "outputs": [],
   "source": [
    "df_2018_house.drop_duplicates(inplace=True)\n",
    "df_2018_senate.drop_duplicates(inplace=True)"
   ]
  },
  {
   "cell_type": "code",
   "execution_count": 43,
   "metadata": {},
   "outputs": [],
   "source": [
    "df_2018_house.reset_index(inplace=True)\n",
    "df_2018_senate.reset_index(inplace=True)"
   ]
  },
  {
   "cell_type": "code",
   "execution_count": 44,
   "metadata": {},
   "outputs": [],
   "source": [
    "df_2018_house=df_2018_house.drop(columns='index',axis=1)\n",
    "df_2018_senate=df_2018_senate.drop(columns='index',axis=1)"
   ]
  },
  {
   "cell_type": "code",
   "execution_count": 45,
   "metadata": {},
   "outputs": [
    {
     "data": {
      "text/html": [
       "<div>\n",
       "<style scoped>\n",
       "    .dataframe tbody tr th:only-of-type {\n",
       "        vertical-align: middle;\n",
       "    }\n",
       "\n",
       "    .dataframe tbody tr th {\n",
       "        vertical-align: top;\n",
       "    }\n",
       "\n",
       "    .dataframe thead th {\n",
       "        text-align: right;\n",
       "    }\n",
       "</style>\n",
       "<table border=\"1\" class=\"dataframe\">\n",
       "  <thead>\n",
       "    <tr style=\"text-align: right;\">\n",
       "      <th></th>\n",
       "      <th>can_nam</th>\n",
       "      <th>dis_amo</th>\n",
       "      <th>can_id</th>\n",
       "    </tr>\n",
       "  </thead>\n",
       "  <tbody>\n",
       "    <tr>\n",
       "      <th>0</th>\n",
       "      <td>AARESTAD-DAVID</td>\n",
       "      <td>211005.50</td>\n",
       "      <td>H8CO06237</td>\n",
       "    </tr>\n",
       "    <tr>\n",
       "      <th>1</th>\n",
       "      <td>ABDULAHI-JAMAL-MR.</td>\n",
       "      <td>95456.90</td>\n",
       "      <td>H8MN05163</td>\n",
       "    </tr>\n",
       "    <tr>\n",
       "      <th>2</th>\n",
       "      <td>ABEL-KEVIN</td>\n",
       "      <td>864877.70</td>\n",
       "      <td>H8GA06377</td>\n",
       "    </tr>\n",
       "    <tr>\n",
       "      <th>3</th>\n",
       "      <td>ABRAHAM-RALPH-LEE-DR.-JR.</td>\n",
       "      <td>1036466.74</td>\n",
       "      <td>H4LA05221</td>\n",
       "    </tr>\n",
       "    <tr>\n",
       "      <th>4</th>\n",
       "      <td>ABRAMS-JOHN-E.</td>\n",
       "      <td>20.00</td>\n",
       "      <td>H8NM01356</td>\n",
       "    </tr>\n",
       "  </tbody>\n",
       "</table>\n",
       "</div>"
      ],
      "text/plain": [
       "                     can_nam    dis_amo     can_id\n",
       "0             AARESTAD-DAVID  211005.50  H8CO06237\n",
       "1         ABDULAHI-JAMAL-MR.   95456.90  H8MN05163\n",
       "2                 ABEL-KEVIN  864877.70  H8GA06377\n",
       "3  ABRAHAM-RALPH-LEE-DR.-JR. 1036466.74  H4LA05221\n",
       "4             ABRAMS-JOHN-E.      20.00  H8NM01356"
      ]
     },
     "execution_count": 45,
     "metadata": {},
     "output_type": "execute_result"
    },
    {
     "data": {
      "text/html": [
       "<div>\n",
       "<style scoped>\n",
       "    .dataframe tbody tr th:only-of-type {\n",
       "        vertical-align: middle;\n",
       "    }\n",
       "\n",
       "    .dataframe tbody tr th {\n",
       "        vertical-align: top;\n",
       "    }\n",
       "\n",
       "    .dataframe thead th {\n",
       "        text-align: right;\n",
       "    }\n",
       "</style>\n",
       "<table border=\"1\" class=\"dataframe\">\n",
       "  <thead>\n",
       "    <tr style=\"text-align: right;\">\n",
       "      <th></th>\n",
       "      <th>can_nam</th>\n",
       "      <th>dis_amo</th>\n",
       "      <th>can_id</th>\n",
       "    </tr>\n",
       "  </thead>\n",
       "  <tbody>\n",
       "    <tr>\n",
       "      <th>0</th>\n",
       "      <td>ABBOUD-DEEDRA</td>\n",
       "      <td>101013.87</td>\n",
       "      <td>S8AZ00122</td>\n",
       "    </tr>\n",
       "    <tr>\n",
       "      <th>1</th>\n",
       "      <td>ACKISON-MELISSA</td>\n",
       "      <td>66818.65</td>\n",
       "      <td>S8OH00094</td>\n",
       "    </tr>\n",
       "    <tr>\n",
       "      <th>2</th>\n",
       "      <td>ANDERSON-CONSUELO-E</td>\n",
       "      <td>13785.59</td>\n",
       "      <td>S8HI00194</td>\n",
       "    </tr>\n",
       "    <tr>\n",
       "      <th>3</th>\n",
       "      <td>ARLETT-ROB</td>\n",
       "      <td>237100.95</td>\n",
       "      <td>S8DE00145</td>\n",
       "    </tr>\n",
       "    <tr>\n",
       "      <th>4</th>\n",
       "      <td>ARPAIO-JOE</td>\n",
       "      <td>2788203.49</td>\n",
       "      <td>S8AZ00247</td>\n",
       "    </tr>\n",
       "  </tbody>\n",
       "</table>\n",
       "</div>"
      ],
      "text/plain": [
       "               can_nam    dis_amo     can_id\n",
       "0        ABBOUD-DEEDRA  101013.87  S8AZ00122\n",
       "1      ACKISON-MELISSA   66818.65  S8OH00094\n",
       "2  ANDERSON-CONSUELO-E   13785.59  S8HI00194\n",
       "3           ARLETT-ROB  237100.95  S8DE00145\n",
       "4           ARPAIO-JOE 2788203.49  S8AZ00247"
      ]
     },
     "execution_count": 45,
     "metadata": {},
     "output_type": "execute_result"
    }
   ],
   "source": [
    "df_2018_house.head()\n",
    "df_2018_senate.head()"
   ]
  },
  {
   "cell_type": "code",
   "execution_count": 46,
   "metadata": {},
   "outputs": [],
   "source": [
    "df_2018_house['win'] = df_2018_house.apply(lambda x: (1 if x.can_id in list_2018_winner else 0),axis=1)\n",
    "df_2018_senate['win'] = df_2018_senate.apply(lambda x: (1 if x.can_id in list_2018_winner else 0),axis=1)"
   ]
  },
  {
   "cell_type": "code",
   "execution_count": 47,
   "metadata": {},
   "outputs": [
    {
     "data": {
      "text/html": [
       "<div>\n",
       "<style scoped>\n",
       "    .dataframe tbody tr th:only-of-type {\n",
       "        vertical-align: middle;\n",
       "    }\n",
       "\n",
       "    .dataframe tbody tr th {\n",
       "        vertical-align: top;\n",
       "    }\n",
       "\n",
       "    .dataframe thead th {\n",
       "        text-align: right;\n",
       "    }\n",
       "</style>\n",
       "<table border=\"1\" class=\"dataframe\">\n",
       "  <thead>\n",
       "    <tr style=\"text-align: right;\">\n",
       "      <th></th>\n",
       "      <th>can_nam</th>\n",
       "      <th>dis_amo</th>\n",
       "      <th>can_id</th>\n",
       "      <th>win</th>\n",
       "    </tr>\n",
       "  </thead>\n",
       "  <tbody>\n",
       "    <tr>\n",
       "      <th>0</th>\n",
       "      <td>AARESTAD-DAVID</td>\n",
       "      <td>211005.50</td>\n",
       "      <td>H8CO06237</td>\n",
       "      <td>0</td>\n",
       "    </tr>\n",
       "    <tr>\n",
       "      <th>1</th>\n",
       "      <td>ABDULAHI-JAMAL-MR.</td>\n",
       "      <td>95456.90</td>\n",
       "      <td>H8MN05163</td>\n",
       "      <td>0</td>\n",
       "    </tr>\n",
       "    <tr>\n",
       "      <th>2</th>\n",
       "      <td>ABEL-KEVIN</td>\n",
       "      <td>864877.70</td>\n",
       "      <td>H8GA06377</td>\n",
       "      <td>0</td>\n",
       "    </tr>\n",
       "    <tr>\n",
       "      <th>3</th>\n",
       "      <td>ABRAHAM-RALPH-LEE-DR.-JR.</td>\n",
       "      <td>1036466.74</td>\n",
       "      <td>H4LA05221</td>\n",
       "      <td>1</td>\n",
       "    </tr>\n",
       "    <tr>\n",
       "      <th>4</th>\n",
       "      <td>ABRAMS-JOHN-E.</td>\n",
       "      <td>20.00</td>\n",
       "      <td>H8NM01356</td>\n",
       "      <td>0</td>\n",
       "    </tr>\n",
       "  </tbody>\n",
       "</table>\n",
       "</div>"
      ],
      "text/plain": [
       "                     can_nam    dis_amo     can_id  win\n",
       "0             AARESTAD-DAVID  211005.50  H8CO06237    0\n",
       "1         ABDULAHI-JAMAL-MR.   95456.90  H8MN05163    0\n",
       "2                 ABEL-KEVIN  864877.70  H8GA06377    0\n",
       "3  ABRAHAM-RALPH-LEE-DR.-JR. 1036466.74  H4LA05221    1\n",
       "4             ABRAMS-JOHN-E.      20.00  H8NM01356    0"
      ]
     },
     "execution_count": 47,
     "metadata": {},
     "output_type": "execute_result"
    },
    {
     "data": {
      "text/html": [
       "<div>\n",
       "<style scoped>\n",
       "    .dataframe tbody tr th:only-of-type {\n",
       "        vertical-align: middle;\n",
       "    }\n",
       "\n",
       "    .dataframe tbody tr th {\n",
       "        vertical-align: top;\n",
       "    }\n",
       "\n",
       "    .dataframe thead th {\n",
       "        text-align: right;\n",
       "    }\n",
       "</style>\n",
       "<table border=\"1\" class=\"dataframe\">\n",
       "  <thead>\n",
       "    <tr style=\"text-align: right;\">\n",
       "      <th></th>\n",
       "      <th>can_nam</th>\n",
       "      <th>dis_amo</th>\n",
       "      <th>can_id</th>\n",
       "      <th>win</th>\n",
       "    </tr>\n",
       "  </thead>\n",
       "  <tbody>\n",
       "    <tr>\n",
       "      <th>0</th>\n",
       "      <td>ABBOUD-DEEDRA</td>\n",
       "      <td>101013.87</td>\n",
       "      <td>S8AZ00122</td>\n",
       "      <td>0</td>\n",
       "    </tr>\n",
       "    <tr>\n",
       "      <th>1</th>\n",
       "      <td>ACKISON-MELISSA</td>\n",
       "      <td>66818.65</td>\n",
       "      <td>S8OH00094</td>\n",
       "      <td>0</td>\n",
       "    </tr>\n",
       "    <tr>\n",
       "      <th>2</th>\n",
       "      <td>ANDERSON-CONSUELO-E</td>\n",
       "      <td>13785.59</td>\n",
       "      <td>S8HI00194</td>\n",
       "      <td>0</td>\n",
       "    </tr>\n",
       "    <tr>\n",
       "      <th>3</th>\n",
       "      <td>ARLETT-ROB</td>\n",
       "      <td>237100.95</td>\n",
       "      <td>S8DE00145</td>\n",
       "      <td>0</td>\n",
       "    </tr>\n",
       "    <tr>\n",
       "      <th>4</th>\n",
       "      <td>ARPAIO-JOE</td>\n",
       "      <td>2788203.49</td>\n",
       "      <td>S8AZ00247</td>\n",
       "      <td>0</td>\n",
       "    </tr>\n",
       "  </tbody>\n",
       "</table>\n",
       "</div>"
      ],
      "text/plain": [
       "               can_nam    dis_amo     can_id  win\n",
       "0        ABBOUD-DEEDRA  101013.87  S8AZ00122    0\n",
       "1      ACKISON-MELISSA   66818.65  S8OH00094    0\n",
       "2  ANDERSON-CONSUELO-E   13785.59  S8HI00194    0\n",
       "3           ARLETT-ROB  237100.95  S8DE00145    0\n",
       "4           ARPAIO-JOE 2788203.49  S8AZ00247    0"
      ]
     },
     "execution_count": 47,
     "metadata": {},
     "output_type": "execute_result"
    }
   ],
   "source": [
    "df_2018_house.head()\n",
    "df_2018_senate.head()"
   ]
  },
  {
   "cell_type": "code",
   "execution_count": 48,
   "metadata": {},
   "outputs": [],
   "source": [
    "df_2018_house=df_2018_house.drop(columns=['can_id','can_nam'],axis=1)\n",
    "df_2018_senate=df_2018_senate.drop(columns=['can_id','can_nam'],axis=1)"
   ]
  },
  {
   "cell_type": "markdown",
   "metadata": {},
   "source": [
    "## Clustering"
   ]
  },
  {
   "cell_type": "markdown",
   "metadata": {},
   "source": [
    "### House"
   ]
  },
  {
   "cell_type": "code",
   "execution_count": 49,
   "metadata": {},
   "outputs": [
    {
     "data": {
      "text/plain": [
       "KMeans(algorithm='auto', copy_x=True, init='k-means++', max_iter=300,\n",
       "       n_clusters=3, n_init=10, n_jobs=None, precompute_distances='auto',\n",
       "       random_state=0, tol=0.0001, verbose=0)"
      ]
     },
     "execution_count": 49,
     "metadata": {},
     "output_type": "execute_result"
    }
   ],
   "source": [
    "from sklearn.cluster import KMeans\n",
    "clu = KMeans(n_clusters=3, random_state=0)\n",
    "clu.fit(df_2018_house)"
   ]
  },
  {
   "cell_type": "code",
   "execution_count": 50,
   "metadata": {},
   "outputs": [],
   "source": [
    "df_2018_house['cluster'] = clu.labels_"
   ]
  },
  {
   "cell_type": "code",
   "execution_count": 51,
   "metadata": {
    "scrolled": true
   },
   "outputs": [
    {
     "data": {
      "text/html": [
       "<div>\n",
       "<style scoped>\n",
       "    .dataframe tbody tr th:only-of-type {\n",
       "        vertical-align: middle;\n",
       "    }\n",
       "\n",
       "    .dataframe tbody tr th {\n",
       "        vertical-align: top;\n",
       "    }\n",
       "\n",
       "    .dataframe thead th {\n",
       "        text-align: right;\n",
       "    }\n",
       "</style>\n",
       "<table border=\"1\" class=\"dataframe\">\n",
       "  <thead>\n",
       "    <tr style=\"text-align: right;\">\n",
       "      <th></th>\n",
       "      <th>dis_amo</th>\n",
       "      <th>win</th>\n",
       "    </tr>\n",
       "    <tr>\n",
       "      <th>cluster</th>\n",
       "      <th></th>\n",
       "      <th></th>\n",
       "    </tr>\n",
       "  </thead>\n",
       "  <tbody>\n",
       "    <tr>\n",
       "      <th>0</th>\n",
       "      <td>244364.93</td>\n",
       "      <td>0.11</td>\n",
       "    </tr>\n",
       "    <tr>\n",
       "      <th>1</th>\n",
       "      <td>7721323.46</td>\n",
       "      <td>0.57</td>\n",
       "    </tr>\n",
       "    <tr>\n",
       "      <th>2</th>\n",
       "      <td>2393284.33</td>\n",
       "      <td>0.63</td>\n",
       "    </tr>\n",
       "  </tbody>\n",
       "</table>\n",
       "</div>"
      ],
      "text/plain": [
       "           dis_amo  win\n",
       "cluster                \n",
       "0        244364.93 0.11\n",
       "1       7721323.46 0.57\n",
       "2       2393284.33 0.63"
      ]
     },
     "execution_count": 51,
     "metadata": {},
     "output_type": "execute_result"
    }
   ],
   "source": [
    "df_2018_house.groupby('cluster').mean()"
   ]
  },
  {
   "cell_type": "markdown",
   "metadata": {},
   "source": [
    "### Senate"
   ]
  },
  {
   "cell_type": "code",
   "execution_count": 52,
   "metadata": {},
   "outputs": [
    {
     "data": {
      "text/plain": [
       "KMeans(algorithm='auto', copy_x=True, init='k-means++', max_iter=300,\n",
       "       n_clusters=3, n_init=10, n_jobs=None, precompute_distances='auto',\n",
       "       random_state=0, tol=0.0001, verbose=0)"
      ]
     },
     "execution_count": 52,
     "metadata": {},
     "output_type": "execute_result"
    }
   ],
   "source": [
    "from sklearn.cluster import KMeans\n",
    "clu = KMeans(n_clusters=3, random_state=0)\n",
    "clu.fit(df_2018_senate)"
   ]
  },
  {
   "cell_type": "code",
   "execution_count": 53,
   "metadata": {},
   "outputs": [],
   "source": [
    "df_2018_senate['cluster'] = clu.labels_"
   ]
  },
  {
   "cell_type": "code",
   "execution_count": 54,
   "metadata": {
    "scrolled": true
   },
   "outputs": [
    {
     "data": {
      "text/html": [
       "<div>\n",
       "<style scoped>\n",
       "    .dataframe tbody tr th:only-of-type {\n",
       "        vertical-align: middle;\n",
       "    }\n",
       "\n",
       "    .dataframe tbody tr th {\n",
       "        vertical-align: top;\n",
       "    }\n",
       "\n",
       "    .dataframe thead th {\n",
       "        text-align: right;\n",
       "    }\n",
       "</style>\n",
       "<table border=\"1\" class=\"dataframe\">\n",
       "  <thead>\n",
       "    <tr style=\"text-align: right;\">\n",
       "      <th></th>\n",
       "      <th>dis_amo</th>\n",
       "      <th>win</th>\n",
       "    </tr>\n",
       "    <tr>\n",
       "      <th>cluster</th>\n",
       "      <th></th>\n",
       "      <th></th>\n",
       "    </tr>\n",
       "  </thead>\n",
       "  <tbody>\n",
       "    <tr>\n",
       "      <th>0</th>\n",
       "      <td>1741632.70</td>\n",
       "      <td>0.11</td>\n",
       "    </tr>\n",
       "    <tr>\n",
       "      <th>1</th>\n",
       "      <td>85331553.38</td>\n",
       "      <td>0.50</td>\n",
       "    </tr>\n",
       "    <tr>\n",
       "      <th>2</th>\n",
       "      <td>26082547.00</td>\n",
       "      <td>0.59</td>\n",
       "    </tr>\n",
       "  </tbody>\n",
       "</table>\n",
       "</div>"
      ],
      "text/plain": [
       "            dis_amo  win\n",
       "cluster                 \n",
       "0        1741632.70 0.11\n",
       "1       85331553.38 0.50\n",
       "2       26082547.00 0.59"
      ]
     },
     "execution_count": 54,
     "metadata": {},
     "output_type": "execute_result"
    }
   ],
   "source": [
    "df_2018_senate.groupby('cluster').mean()"
   ]
  },
  {
   "cell_type": "markdown",
   "metadata": {},
   "source": [
    "## <center><li>Validate the Finding"
   ]
  },
  {
   "cell_type": "markdown",
   "metadata": {},
   "source": [
    "### House"
   ]
  },
  {
   "cell_type": "code",
   "execution_count": 55,
   "metadata": {},
   "outputs": [],
   "source": [
    "df_2018_house_binned = df_2018_house.copy()"
   ]
  },
  {
   "cell_type": "code",
   "execution_count": 56,
   "metadata": {},
   "outputs": [],
   "source": [
    "df_2018_house_binned['dis_amo_binned'] = pd.cut(df_2018_house_binned.dis_amo, \\\n",
    "                                            bins=[250000, 2000000, 3500000, 5000000,10000000])"
   ]
  },
  {
   "cell_type": "code",
   "execution_count": 57,
   "metadata": {},
   "outputs": [
    {
     "data": {
      "text/plain": [
       "<seaborn.axisgrid.FacetGrid at 0x13542af28>"
      ]
     },
     "execution_count": 57,
     "metadata": {},
     "output_type": "execute_result"
    },
    {
     "data": {
      "image/png": "[encoded data removed]",
      "text/plain": [
       "<Figure size 1080x360 with 1 Axes>"
      ]
     },
     "metadata": {
      "needs_background": "light"
     },
     "output_type": "display_data"
    }
   ],
   "source": [
    "sns.catplot(x='dis_amo_binned',y='win',\\\n",
    "               data=df_2018_house_binned, kind='bar', aspect=3)"
   ]
  },
  {
   "cell_type": "markdown",
   "metadata": {},
   "source": [
    "### Senate"
   ]
  },
  {
   "cell_type": "code",
   "execution_count": 58,
   "metadata": {},
   "outputs": [],
   "source": [
    "df_2018_senate_binned = df_2018_senate.copy()"
   ]
  },
  {
   "cell_type": "code",
   "execution_count": 59,
   "metadata": {},
   "outputs": [],
   "source": [
    "df_2018_senate_binned['dis_amo_binned'] = pd.cut(df_2018_senate_binned.dis_amo, \\\n",
    "                                            bins=[200000, 15000000, 25000000, 30000000, 100000000])"
   ]
  },
  {
   "cell_type": "code",
   "execution_count": 60,
   "metadata": {
    "scrolled": true
   },
   "outputs": [
    {
     "data": {
      "text/plain": [
       "<seaborn.axisgrid.FacetGrid at 0x13593f0f0>"
      ]
     },
     "execution_count": 60,
     "metadata": {},
     "output_type": "execute_result"
    },
    {
     "data": {
      "image/png": "[encoded data removed]",
      "text/plain": [
       "<Figure size 1080x360 with 1 Axes>"
      ]
     },
     "metadata": {
      "needs_background": "light"
     },
     "output_type": "display_data"
    }
   ],
   "source": [
    "sns.catplot(x='dis_amo_binned',y='win',\\\n",
    "               data=df_2018_senate_binned, kind='bar', aspect=3)"
   ]
  },
  {
   "cell_type": "markdown",
   "metadata": {},
   "source": [
    "### <div class=\"alert alert-block alert-warning\">Conclusion and Managerial Insight:<br><br>During the election the candidates will have a higher chance to win the seats if they only spend up to certain amount of their disbursement.<br><br>The reason why this might occurred:<br>Candidates might already gain enough popularities from the voters that doesn't need to spend as much as others to win the seat.<br>Also, for the amount differences spent for the Senate or House might be because there are more seats in the House so candidates might not need to spend that much more in order to win the seat.<br><br>The finding is unexpected, usually people would think the more one spend the higher chances to win the election, but it turns out if spend passed certain amount, one will have less chance of winning. For example, if running for Senate and spend passed roughly 86 million dollars, one will have less chance of winning. On the other hand, if running for House and spend passed roughly 7.7 million, one will have less chance to win as well|.<br><br>Therefore,suggested that candidates running for parties other than Democrats and Republicans, one will learn that the more money one spend does not increase the chances of winning, instead spend the money wisely, also try to gain as much as support from the voters."
   ]
  },
  {
   "cell_type": "markdown",
   "metadata": {},
   "source": [
    "## <div class=\"alert alert-block alert-success\"><center>Topic Three: What is the Critical Expense to Win?<center>"
   ]
  },
  {
   "cell_type": "markdown",
   "metadata": {},
   "source": [
    "## <center><li>Examine the Columns Used in This Part"
   ]
  },
  {
   "cell_type": "code",
   "execution_count": 61,
   "metadata": {
    "scrolled": true
   },
   "outputs": [
    {
     "data": {
      "text/html": [
       "<div>\n",
       "<style scoped>\n",
       "    .dataframe tbody tr th:only-of-type {\n",
       "        vertical-align: middle;\n",
       "    }\n",
       "\n",
       "    .dataframe tbody tr th {\n",
       "        vertical-align: top;\n",
       "    }\n",
       "\n",
       "    .dataframe thead th {\n",
       "        text-align: right;\n",
       "    }\n",
       "</style>\n",
       "<table border=\"1\" class=\"dataframe\">\n",
       "  <thead>\n",
       "    <tr style=\"text-align: right;\">\n",
       "      <th></th>\n",
       "      <th>can_nam</th>\n",
       "      <th>can_off</th>\n",
       "      <th>can_off_sta</th>\n",
       "      <th>dis_pur_des</th>\n",
       "      <th>cat_des</th>\n",
       "      <th>dis_amo</th>\n",
       "      <th>win</th>\n",
       "    </tr>\n",
       "  </thead>\n",
       "  <tbody>\n",
       "    <tr>\n",
       "      <th>0</th>\n",
       "      <td>YOUNG-DONALD-E</td>\n",
       "      <td>H</td>\n",
       "      <td>AK</td>\n",
       "      <td>OFFICE JANITORIAL SERVICES</td>\n",
       "      <td>NaN</td>\n",
       "      <td>300.00</td>\n",
       "      <td>1</td>\n",
       "    </tr>\n",
       "    <tr>\n",
       "      <th>1</th>\n",
       "      <td>YOUNG-DONALD-E</td>\n",
       "      <td>H</td>\n",
       "      <td>AK</td>\n",
       "      <td>PAYROLL TAXES</td>\n",
       "      <td>NaN</td>\n",
       "      <td>3414.98</td>\n",
       "      <td>1</td>\n",
       "    </tr>\n",
       "    <tr>\n",
       "      <th>2</th>\n",
       "      <td>YOUNG-DONALD-E</td>\n",
       "      <td>H</td>\n",
       "      <td>AK</td>\n",
       "      <td>BANK CHARGE</td>\n",
       "      <td>NaN</td>\n",
       "      <td>2.00</td>\n",
       "      <td>1</td>\n",
       "    </tr>\n",
       "    <tr>\n",
       "      <th>3</th>\n",
       "      <td>YOUNG-DONALD-E</td>\n",
       "      <td>H</td>\n",
       "      <td>AK</td>\n",
       "      <td>SIGN INSTALLATION</td>\n",
       "      <td>NaN</td>\n",
       "      <td>7000.00</td>\n",
       "      <td>1</td>\n",
       "    </tr>\n",
       "    <tr>\n",
       "      <th>4</th>\n",
       "      <td>YOUNG-DONALD-E</td>\n",
       "      <td>H</td>\n",
       "      <td>AK</td>\n",
       "      <td>MAILING POSTAGE</td>\n",
       "      <td>NaN</td>\n",
       "      <td>1394.47</td>\n",
       "      <td>1</td>\n",
       "    </tr>\n",
       "  </tbody>\n",
       "</table>\n",
       "</div>"
      ],
      "text/plain": [
       "          can_nam can_off can_off_sta                 dis_pur_des cat_des  \\\n",
       "0  YOUNG-DONALD-E       H          AK  OFFICE JANITORIAL SERVICES     NaN   \n",
       "1  YOUNG-DONALD-E       H          AK               PAYROLL TAXES     NaN   \n",
       "2  YOUNG-DONALD-E       H          AK                 BANK CHARGE     NaN   \n",
       "3  YOUNG-DONALD-E       H          AK           SIGN INSTALLATION     NaN   \n",
       "4  YOUNG-DONALD-E       H          AK             MAILING POSTAGE     NaN   \n",
       "\n",
       "   dis_amo  win  \n",
       "0   300.00    1  \n",
       "1  3414.98    1  \n",
       "2     2.00    1  \n",
       "3  7000.00    1  \n",
       "4  1394.47    1  "
      ]
     },
     "execution_count": 61,
     "metadata": {},
     "output_type": "execute_result"
    },
    {
     "data": {
      "text/plain": [
       "973158"
      ]
     },
     "execution_count": 61,
     "metadata": {},
     "output_type": "execute_result"
    }
   ],
   "source": [
    "# Columns used in this part\n",
    "df_2018_main=df_2018[['can_nam','can_off','can_off_sta','dis_pur_des','cat_des','dis_amo', 'win']]\n",
    "df_2018_main.head()\n",
    "len(df_2018_main)"
   ]
  },
  {
   "cell_type": "code",
   "execution_count": 62,
   "metadata": {
    "scrolled": false
   },
   "outputs": [
    {
     "data": {
      "text/plain": [
       "array(['H', 'S'], dtype=object)"
      ]
     },
     "execution_count": 62,
     "metadata": {},
     "output_type": "execute_result"
    }
   ],
   "source": [
    "# Candidats/Winners numbers in House&Senate\n",
    "df_2018_main.can_off.unique()"
   ]
  },
  {
   "cell_type": "code",
   "execution_count": 63,
   "metadata": {},
   "outputs": [
    {
     "data": {
      "text/plain": [
       "array([1, 0])"
      ]
     },
     "execution_count": 63,
     "metadata": {},
     "output_type": "execute_result"
    }
   ],
   "source": [
    "df_2018_main.win.unique()"
   ]
  },
  {
   "cell_type": "code",
   "execution_count": 64,
   "metadata": {},
   "outputs": [
    {
     "data": {
      "text/plain": [
       "2110"
      ]
     },
     "execution_count": 64,
     "metadata": {},
     "output_type": "execute_result"
    },
    {
     "data": {
      "text/plain": [
       "226"
      ]
     },
     "execution_count": 64,
     "metadata": {},
     "output_type": "execute_result"
    }
   ],
   "source": [
    "df_2018_main[df_2018_main.can_off =='H'].can_nam.nunique()\n",
    "df_2018_main[df_2018_main.can_off =='S'].can_nam.nunique()"
   ]
  },
  {
   "cell_type": "code",
   "execution_count": 65,
   "metadata": {},
   "outputs": [
    {
     "data": {
      "text/plain": [
       "433"
      ]
     },
     "execution_count": 65,
     "metadata": {},
     "output_type": "execute_result"
    },
    {
     "data": {
      "text/plain": [
       "35"
      ]
     },
     "execution_count": 65,
     "metadata": {},
     "output_type": "execute_result"
    }
   ],
   "source": [
    "len(df_2018_main.can_nam[(df_2018_main['win'] == 1) & (df_2018_main['can_off']=='H')].unique())\n",
    "len(df_2018_main.can_nam[(df_2018_main['win'] == 1) & (df_2018_main['can_off']=='S')].unique())"
   ]
  },
  {
   "cell_type": "code",
   "execution_count": 66,
   "metadata": {},
   "outputs": [
    {
     "data": {
      "text/plain": [
       "55"
      ]
     },
     "execution_count": 66,
     "metadata": {},
     "output_type": "execute_result"
    },
    {
     "data": {
      "text/plain": [
       "array(['AK', 'WI', 'NJ', 'KY', 'MD', 'OH', 'IN', 'CA', 'IL', 'NC', 'MI',\n",
       "       'GA', 'OR', 'NY', 'MA', 'CT', 'DC', 'MN', 'TX', 'SC', 'VA', 'FL',\n",
       "       'MS', 'OK', 'ID', 'PA', 'WA', 'CO', 'AL', 'RI', 'UT', 'MO', 'DE',\n",
       "       'GU', 'TN', 'IA', 'AZ', 'AS', 'LA', 'NE', 'VT', 'MT', 'KS', 'HI',\n",
       "       'ME', 'NM', 'WY', 'AR', 'NH', 'MP', 'WV', 'NV', 'ND', 'VI', 'SD'],\n",
       "      dtype=object)"
      ]
     },
     "execution_count": 66,
     "metadata": {},
     "output_type": "execute_result"
    }
   ],
   "source": [
    "# Campaign states/territories \n",
    "df_2018_main.can_off_sta.nunique()\n",
    "df_2018_main.can_off_sta.unique()"
   ]
  },
  {
   "cell_type": "code",
   "execution_count": 67,
   "metadata": {
    "scrolled": false
   },
   "outputs": [
    {
     "data": {
      "text/plain": [
       "can_nam             0\n",
       "can_off             0\n",
       "can_off_sta         0\n",
       "dis_pur_des         0\n",
       "cat_des        656649\n",
       "dis_amo             0\n",
       "win                 0\n",
       "dtype: int64"
      ]
     },
     "execution_count": 67,
     "metadata": {},
     "output_type": "execute_result"
    }
   ],
   "source": [
    "# NaN value check\n",
    "df_2018_main.isna().sum()"
   ]
  },
  {
   "cell_type": "code",
   "execution_count": 68,
   "metadata": {
    "scrolled": true
   },
   "outputs": [
    {
     "data": {
      "text/html": [
       "<div>\n",
       "<style scoped>\n",
       "    .dataframe tbody tr th:only-of-type {\n",
       "        vertical-align: middle;\n",
       "    }\n",
       "\n",
       "    .dataframe tbody tr th {\n",
       "        vertical-align: top;\n",
       "    }\n",
       "\n",
       "    .dataframe thead th {\n",
       "        text-align: right;\n",
       "    }\n",
       "</style>\n",
       "<table border=\"1\" class=\"dataframe\">\n",
       "  <thead>\n",
       "    <tr style=\"text-align: right;\">\n",
       "      <th></th>\n",
       "      <th>dis_pur_des</th>\n",
       "      <th>dis_amo</th>\n",
       "    </tr>\n",
       "    <tr>\n",
       "      <th>cat_des</th>\n",
       "      <th></th>\n",
       "      <th></th>\n",
       "    </tr>\n",
       "  </thead>\n",
       "  <tbody>\n",
       "    <tr>\n",
       "      <th>Administrative/Salary/Overhead Expenses</th>\n",
       "      <td>188391</td>\n",
       "      <td>302521583.65</td>\n",
       "    </tr>\n",
       "    <tr>\n",
       "      <th>Advertising Expenses</th>\n",
       "      <td>24705</td>\n",
       "      <td>252840939.15</td>\n",
       "    </tr>\n",
       "    <tr>\n",
       "      <th>Campaign Event Expenses</th>\n",
       "      <td>10302</td>\n",
       "      <td>8893313.54</td>\n",
       "    </tr>\n",
       "    <tr>\n",
       "      <th>Campaign Materials</th>\n",
       "      <td>9641</td>\n",
       "      <td>22549315.60</td>\n",
       "    </tr>\n",
       "    <tr>\n",
       "      <th>Donations</th>\n",
       "      <td>2188</td>\n",
       "      <td>4028827.47</td>\n",
       "    </tr>\n",
       "    <tr>\n",
       "      <th>Loan Repayments</th>\n",
       "      <td>729</td>\n",
       "      <td>13162523.70</td>\n",
       "    </tr>\n",
       "    <tr>\n",
       "      <th>Political Contributions</th>\n",
       "      <td>6201</td>\n",
       "      <td>34937920.47</td>\n",
       "    </tr>\n",
       "    <tr>\n",
       "      <th>Polling Expenses</th>\n",
       "      <td>1339</td>\n",
       "      <td>13484508.29</td>\n",
       "    </tr>\n",
       "    <tr>\n",
       "      <th>Solicitation and Fundraising Expenses</th>\n",
       "      <td>36768</td>\n",
       "      <td>74282610.06</td>\n",
       "    </tr>\n",
       "    <tr>\n",
       "      <th>Transfers</th>\n",
       "      <td>343</td>\n",
       "      <td>4895013.48</td>\n",
       "    </tr>\n",
       "    <tr>\n",
       "      <th>Travel Expenses</th>\n",
       "      <td>35902</td>\n",
       "      <td>17848075.67</td>\n",
       "    </tr>\n",
       "    <tr>\n",
       "      <th>Unknown</th>\n",
       "      <td>656649</td>\n",
       "      <td>2011743793.42</td>\n",
       "    </tr>\n",
       "  </tbody>\n",
       "</table>\n",
       "</div>"
      ],
      "text/plain": [
       "                                          dis_pur_des       dis_amo\n",
       "cat_des                                                            \n",
       "Administrative/Salary/Overhead Expenses        188391  302521583.65\n",
       "Advertising Expenses                            24705  252840939.15\n",
       "Campaign Event Expenses                         10302    8893313.54\n",
       "Campaign Materials                               9641   22549315.60\n",
       "Donations                                        2188    4028827.47\n",
       "Loan Repayments                                   729   13162523.70\n",
       "Political Contributions                          6201   34937920.47\n",
       "Polling Expenses                                 1339   13484508.29\n",
       "Solicitation and Fundraising Expenses           36768   74282610.06\n",
       "Transfers                                         343    4895013.48\n",
       "Travel Expenses                                 35902   17848075.67\n",
       "Unknown                                        656649 2011743793.42"
      ]
     },
     "execution_count": 68,
     "metadata": {},
     "output_type": "execute_result"
    }
   ],
   "source": [
    "# Check the cat_des column, there're 718,950 items uncategorized!\n",
    "df_2018_main.cat_des.fillna('Unknown',inplace=True)\n",
    "df_2018_main.groupby('cat_des').agg({'dis_pur_des':'count','dis_amo':'sum'})"
   ]
  },
  {
   "cell_type": "markdown",
   "metadata": {},
   "source": [
    "<div class=\"alert alert-block alert-warning\">NOTE: <br>Clearly, there's a large part of \"unknown\" items. <br>The available tags in the cat_des column are not accountable either. <br>Using the codes below, we detected many items with misleading tags.<br>For example, printing expenses are found both with \"Advertising Expenses\" tag and \"Campaign Materials\" tag.<br>Transfers could be found in both \"Donations\" and \"Transfers\".\n",
    "<br>Some of the accountants did very sloppy jobs. One entry could be titiled with several accounts in completely different areas. <br>Acually, the classification under \"cat_des\" cannot be used for data analysis.<br>We need to classify all the items by our selves."
   ]
  },
  {
   "cell_type": "code",
   "execution_count": 69,
   "metadata": {},
   "outputs": [],
   "source": [
    "#df_2018_AE=df_2018_main[df_2018_main.cat_des.str.contains('Advertising Expenses')].groupby('dis_pur_des').\\\n",
    " #agg({'dis_pur_des':'count','dis_amo':'sum'}).rename(columns={'dis_pur_des':'count','dis_amo':'$amount'}).\\\n",
    " #sort_values(by=['count'],ascending=False)\n",
    "#df_2018_AE.head(20)\n",
    "\n",
    "#df_2018_CM=df_2018_main[df_2018_main.cat_des=='Campaign Materials'].groupby('dis_pur_des').\\\n",
    " #agg({'dis_pur_des':'count','dis_amo':'sum'}).rename(columns={'dis_pur_des':'count','dis_amo':'$amount'}).\\\n",
    " #sort_values(by=['count'],ascending=False)\n",
    "#df_2018_CM.head(20)\n",
    "\n",
    "#df_2018_T=df_2018_main[df_2018_main.cat_des=='Transfers'].groupby('dis_pur_des').\\\n",
    " #agg({'dis_pur_des':'count','dis_amo':'sum'}).rename(columns={'dis_pur_des':'count','dis_amo':'$amount'}).\\\n",
    " #sort_values(by=['count'],ascending=False)\n",
    "#df_2018_T.head(20)"
   ]
  },
  {
   "cell_type": "markdown",
   "metadata": {},
   "source": [
    "## <center><li>Explore the cate_des Column with Unsupervised Topic Clustering Method"
   ]
  },
  {
   "cell_type": "code",
   "execution_count": 70,
   "metadata": {},
   "outputs": [
    {
     "data": {
      "text/plain": [
       "<spacy.lang.en.English at 0x11b93cc50>"
      ]
     },
     "execution_count": 70,
     "metadata": {},
     "output_type": "execute_result"
    },
    {
     "name": "stderr",
     "output_type": "stream",
     "text": [
      "[nltk_data] Downloading package stopwords to\n",
      "[nltk_data]     /Users/zhanghuishan/nltk_data...\n",
      "[nltk_data]   Package stopwords is already up-to-date!\n"
     ]
    },
    {
     "data": {
      "text/plain": [
       "True"
      ]
     },
     "execution_count": 70,
     "metadata": {},
     "output_type": "execute_result"
    },
    {
     "name": "stderr",
     "output_type": "stream",
     "text": [
      "[nltk_data] Downloading package wordnet to\n",
      "[nltk_data]     /Users/zhanghuishan/nltk_data...\n",
      "[nltk_data]   Package wordnet is already up-to-date!\n"
     ]
    },
    {
     "data": {
      "text/plain": [
       "True"
      ]
     },
     "execution_count": 70,
     "metadata": {},
     "output_type": "execute_result"
    }
   ],
   "source": [
    "# Get token list \"lda_tokens\"\n",
    "import spacy\n",
    "spacy.load('en')\n",
    "from spacy.lang.en import English\n",
    "parser = English()\n",
    "\n",
    "def tokenize(text): \n",
    "    lda_tokens = []\n",
    "    tokens = parser(text)\n",
    "    for token in tokens:\n",
    "        if token.orth_.isspace(): #skip space\n",
    "            continue\n",
    "        elif token.like_num: # delete numbers\n",
    "            continue\n",
    "        else:\n",
    "            lda_tokens.append(token.lower_)\n",
    "    return lda_tokens\n",
    "\n",
    "# Get the puntuations set\n",
    "import string\n",
    "en_punct = set(string.punctuation)\n",
    "\n",
    "# Get the stop words set\n",
    "import nltk\n",
    "nltk.download('stopwords')\n",
    "en_stop = set(nltk.corpus.stopwords.words('english'))\n",
    "\n",
    "# Get the tokens for LDA analysis (function)\n",
    "import nltk\n",
    "nltk.download('wordnet')\n",
    "from nltk.corpus import wordnet as wn\n",
    "from nltk.stem.wordnet import WordNetLemmatizer\n",
    "\n",
    "def get_lemma(word):\n",
    "    return WordNetLemmatizer().lemmatize(word) \n",
    "\n",
    "def prepare_text_for_lda(text):\n",
    "    tokens = tokenize(text)\n",
    "    tokens = [token for token in tokens if token not in en_punct] # delete punctuations\n",
    "    tokens = [token for token in tokens if len(token) > 1] # at least 2 letters consist a word\n",
    "    tokens = [token for token in tokens if token not in en_stop] # delete stop words\n",
    "    tokens = [get_lemma(token) for token in tokens] # delete word variants for accurate result\n",
    "    return tokens\n",
    "\n",
    "# Import data for LDA analysis and return text_data\n",
    "import random\n",
    "text_data = []\n",
    "for line in df_2018_main['dis_pur_des']:\n",
    "    tokens = prepare_text_for_lda(line)\n",
    "    if random.random() > .99:\n",
    "        #print(tokens)\n",
    "        text_data.append(tokens)"
   ]
  },
  {
   "cell_type": "code",
   "execution_count": 105,
   "metadata": {},
   "outputs": [
    {
     "name": "stdout",
     "output_type": "stream",
     "text": [
      "(0, '0.176*\"travel\" + 0.101*\"office\" + 0.100*\"supply\" + 0.065*\"expense\"')\n",
      "(1, '0.103*\"service\" + 0.085*\"consulting\" + 0.072*\"fee\" + 0.067*\"postage\"')\n",
      "(2, '0.084*\"advertising\" + 0.069*\"campaign\" + 0.049*\"service\" + 0.045*\"software\"')\n",
      "(3, '0.215*\"payroll\" + 0.083*\"event\" + 0.063*\"tax\" + 0.043*\"medium\"')\n",
      "(4, '0.244*\"fee\" + 0.144*\"card\" + 0.137*\"credit\" + 0.136*\"processing\"')\n"
     ]
    }
   ],
   "source": [
    "# Cluster topics\n",
    "from gensim import corpora \n",
    "dictionary = corpora.Dictionary(text_data)\n",
    "corpus = [dictionary.doc2bow(text) for text in text_data]\n",
    "\n",
    "import pickle\n",
    "pickle.dump(corpus, open('corpus.pkl', 'wb'))\n",
    "dictionary.save('dictionary.gensim')\n",
    "\n",
    "import gensim # package for topic modeling\n",
    "NUM_TOPICS = 5 # trial number based on understanding of the data file & research aims, we can lock down this number before presentation\n",
    "ldamodel = gensim.models.ldamodel.LdaModel(corpus, num_topics = NUM_TOPICS, id2word=dictionary, passes=20)\n",
    "ldamodel.save('model.gensim')\n",
    "topics = ldamodel.print_topics(num_words=4)\n",
    "for topic in topics:\n",
    "    print(topic)"
   ]
  },
  {
   "cell_type": "markdown",
   "metadata": {},
   "source": [
    "<div class=\"alert alert-block alert-warning\">From the result above, we could see the model returned us 5 topics with different focuses.\n",
    "<br>We could have a rough ideas about the topic classification of all the disbursement items.\n",
    "<br>To validate the result, we bring in pyLDAvis package to analyze the model outcome."
   ]
  },
  {
   "cell_type": "markdown",
   "metadata": {},
   "source": [
    "## <center><li>Topic Visualization"
   ]
  },
  {
   "cell_type": "code",
   "execution_count": 106,
   "metadata": {},
   "outputs": [
    {
     "data": {
      "text/html": [
       "\n",
       "<link rel=\"stylesheet\" type=\"text/css\" href=\"https://cdn.rawgit.com/bmabey/pyLDAvis/files/ldavis.v1.0.0.css\">\n",
       "\n",
       "\n",
       "<div id=\"ldavis_el1679251269203768569125267\"></div>\n",
       "<script type=\"text/javascript\">\n",
       "\n",
       "var ldavis_el1679251269203768569125267_data = {\"mdsDat\": {\"x\": [-0.28408821990953725, 0.19630096165345043, -0.00019101393838373676, -0.1856312520150478, 0.27360952420951806], \"y\": [0.1255473191237649, -0.14212580570170308, -0.284961875512367, 0.04135695464254009, 0.2601834074477651], \"topics\": [1, 2, 3, 4, 5], \"cluster\": [1, 1, 1, 1, 1], \"Freq\": [20.95598602294922, 19.73589324951172, 17.36239242553711, 17.92807388305664, 24.017654418945312]}, \"tinfo\": {\"Category\": [\"Default\", \"Default\", \"Default\", \"Default\", \"Default\", \"Default\", \"Default\", \"Default\", \"Default\", \"Default\", \"Default\", \"Default\", \"Default\", \"Default\", \"Default\", \"Default\", \"Default\", \"Default\", \"Default\", \"Default\", \"Default\", \"Default\", \"Default\", \"Default\", \"Default\", \"Default\", \"Default\", \"Default\", \"Default\", \"Default\", \"Topic1\", \"Topic1\", \"Topic1\", \"Topic1\", \"Topic1\", \"Topic1\", \"Topic1\", \"Topic1\", \"Topic1\", \"Topic1\", \"Topic1\", \"Topic1\", \"Topic1\", \"Topic1\", \"Topic1\", \"Topic1\", \"Topic1\", \"Topic1\", \"Topic1\", \"Topic1\", \"Topic1\", \"Topic1\", \"Topic1\", \"Topic1\", \"Topic1\", \"Topic1\", \"Topic1\", \"Topic1\", \"Topic1\", \"Topic1\", \"Topic1\", \"Topic1\", \"Topic1\", \"Topic2\", \"Topic2\", \"Topic2\", \"Topic2\", \"Topic2\", \"Topic2\", \"Topic2\", \"Topic2\", \"Topic2\", \"Topic2\", \"Topic2\", \"Topic2\", \"Topic2\", \"Topic2\", \"Topic2\", \"Topic2\", \"Topic2\", \"Topic2\", \"Topic2\", \"Topic2\", \"Topic2\", \"Topic2\", \"Topic2\", \"Topic2\", \"Topic2\", \"Topic2\", \"Topic2\", \"Topic2\", \"Topic2\", \"Topic2\", \"Topic2\", \"Topic2\", \"Topic2\", \"Topic2\", \"Topic2\", \"Topic3\", \"Topic3\", \"Topic3\", \"Topic3\", \"Topic3\", \"Topic3\", \"Topic3\", \"Topic3\", \"Topic3\", \"Topic3\", \"Topic3\", \"Topic3\", \"Topic3\", \"Topic3\", \"Topic3\", \"Topic3\", \"Topic3\", \"Topic3\", \"Topic3\", \"Topic3\", \"Topic3\", \"Topic3\", \"Topic3\", \"Topic3\", \"Topic3\", \"Topic3\", \"Topic3\", \"Topic3\", \"Topic3\", \"Topic3\", \"Topic3\", \"Topic3\", \"Topic3\", \"Topic3\", \"Topic3\", \"Topic4\", \"Topic4\", \"Topic4\", \"Topic4\", \"Topic4\", \"Topic4\", \"Topic4\", \"Topic4\", \"Topic4\", \"Topic4\", \"Topic4\", \"Topic4\", \"Topic4\", \"Topic4\", \"Topic4\", \"Topic4\", \"Topic4\", \"Topic4\", \"Topic4\", \"Topic4\", \"Topic4\", \"Topic4\", \"Topic4\", \"Topic4\", \"Topic4\", \"Topic4\", \"Topic4\", \"Topic4\", \"Topic4\", \"Topic4\", \"Topic4\", \"Topic4\", \"Topic4\", \"Topic4\", \"Topic4\", \"Topic4\", \"Topic4\", \"Topic5\", \"Topic5\", \"Topic5\", \"Topic5\", \"Topic5\", \"Topic5\", \"Topic5\", \"Topic5\", \"Topic5\", \"Topic5\", \"Topic5\", \"Topic5\", \"Topic5\", \"Topic5\", \"Topic5\", \"Topic5\", \"Topic5\", \"Topic5\", \"Topic5\", \"Topic5\", \"Topic5\", \"Topic5\", \"Topic5\", \"Topic5\", \"Topic5\", \"Topic5\", \"Topic5\", \"Topic5\", \"Topic5\", \"Topic5\", \"Topic5\", \"Topic5\", \"Topic5\", \"Topic5\"], \"Freq\": [1493.0, 790.0, 758.0, 711.0, 677.0, 671.0, 434.0, 430.0, 594.0, 395.0, 307.0, 302.0, 478.0, 270.0, 251.0, 233.0, 355.0, 381.0, 257.0, 225.0, 197.0, 183.0, 161.0, 171.0, 158.0, 140.0, 152.0, 210.0, 145.0, 123.0, 758.0014038085938, 433.8568115234375, 429.76263427734375, 224.76119995117188, 196.97694396972656, 182.28469848632812, 151.59872436523438, 144.4789276123047, 102.90003967285156, 81.3443832397461, 47.00780487060547, 35.101322174072266, 35.055809020996094, 31.734169006347656, 29.988908767700195, 28.992042541503906, 26.1984806060791, 25.007484436035156, 18.558744430541992, 17.660415649414062, 17.822141647338867, 16.511150360107422, 15.560587882995605, 15.336331367492676, 15.187891006469727, 14.432059288024902, 14.425840377807617, 12.60606575012207, 12.180830955505371, 11.229020118713379, 280.57659912109375, 87.32550048828125, 108.71021270751953, 269.6221923828125, 251.0753173828125, 170.35842895507812, 120.185302734375, 108.6173324584961, 94.56063842773438, 91.84420776367188, 80.89842224121094, 73.19971466064453, 63.388145446777344, 62.115692138671875, 58.755210876464844, 58.947425842285156, 46.16382598876953, 44.09163284301758, 43.87730026245117, 39.562171936035156, 39.32481384277344, 37.06892395019531, 36.91193771362305, 36.10296630859375, 34.63980484008789, 34.13039779663086, 31.45416259765625, 30.219755172729492, 29.386871337890625, 27.798377990722656, 26.267669677734375, 22.50786018371582, 20.60917854309082, 345.99444580078125, 417.6595153808594, 66.68195343017578, 290.08935546875, 69.01724243164062, 301.28875732421875, 160.416259765625, 122.30043029785156, 93.7171859741211, 88.87740325927734, 80.08920288085938, 75.26761627197266, 64.12406921386719, 61.01424026489258, 58.24946212768555, 58.01054382324219, 56.43952941894531, 56.22641372680664, 54.324562072753906, 49.21516036987305, 46.57644271850586, 40.982547760009766, 39.42765808105469, 37.941741943359375, 34.12825393676758, 30.14238166809082, 27.93459129333496, 27.669836044311523, 27.095539093017578, 23.92201805114746, 23.965192794799805, 20.592573165893555, 19.115968704223633, 17.988359451293945, 13.699853897094727, 246.58421325683594, 38.73836898803711, 176.11627197265625, 132.0869140625, 29.27472686767578, 790.2301635742188, 307.1725158691406, 233.14614868164062, 158.23350524902344, 139.43374633789062, 98.8996353149414, 91.5449447631836, 89.25154876708984, 88.0360336303711, 49.24302673339844, 48.236690521240234, 48.03826141357422, 39.02111053466797, 37.31374740600586, 34.5311279296875, 30.204835891723633, 25.512025833129883, 24.190990447998047, 23.18240737915039, 22.978504180908203, 19.215620040893555, 19.288127899169922, 16.69163703918457, 16.10289764404297, 13.689667701721191, 13.374284744262695, 12.257380485534668, 12.080418586730957, 11.70568561553955, 9.061598777770996, 140.74537658691406, 60.6887092590332, 19.394407272338867, 100.31665802001953, 26.321826934814453, 28.902774810791016, 24.043561935424805, 710.3582763671875, 676.903564453125, 671.0053100585938, 394.30877685546875, 257.075439453125, 148.981201171875, 42.73323440551758, 40.934425354003906, 27.85655403137207, 26.884490966796875, 21.00412368774414, 15.515380859375, 13.720901489257812, 13.052732467651367, 13.098676681518555, 9.807908058166504, 9.719053268432617, 9.588358879089355, 9.28600025177002, 8.870415687561035, 8.721364974975586, 8.693970680236816, 8.0895357131958, 7.5678300857543945, 7.5678300857543945, 7.799429416656494, 7.13989782333374, 6.852751731872559, 6.255462646484375, 5.659596920013428, 1202.967041015625, 85.61785125732422, 11.485593795776367, 8.636696815490723], \"Term\": [\"fee\", \"payroll\", \"travel\", \"card\", \"credit\", \"processing\", \"office\", \"supply\", \"service\", \"salary\", \"event\", \"advertising\", \"consulting\", \"postage\", \"fundraising\", \"tax\", \"campaign\", \"expense\", \"merchant\", \"printing\", \"food\", \"kind\", \"software\", \"bank\", \"medium\", \"catering\", \"meal\", \"reimbursement\", \"beverage\", \"online\", \"travel\", \"office\", \"supply\", \"printing\", \"food\", \"kind\", \"meal\", \"beverage\", \"lodging\", \"meeting\", \"material\", \"storage\", \"design\", \"equipment\", \"marketing\", \"facility\", \"car\", \"air\", \"space\", \"election\", \"video\", \"call\", \"banner\", \"volunteer\", \"aggregate\", \"graphic\", \"night\", \"listed\", \"paid\", \"stipend\", \"expense\", \"rental\", \"campaign\", \"postage\", \"fundraising\", \"bank\", \"mileage\", \"transportation\", \"phone\", \"digital\", \"transaction\", \"telephone\", \"sign\", \"cc\", \"field\", \"fuel\", \"communication\", \"canvassing\", \"email\", \"legal\", \"voter\", \"data\", \"auto\", \"database\", \"ground\", \"parking\", \"yard\", \"invoice\", \"charge\", \"registration\", \"cell\", \"list\", \"strategic\", \"consulting\", \"service\", \"consultant\", \"fee\", \"reimbursement\", \"advertising\", \"software\", \"online\", \"pmt\", \"amex\", \"airfare\", \"political\", \"staff\", \"internet\", \"direct\", \"insurance\", \"mail\", \"wage\", \"website\", \"ticket\", \"utility\", \"strategy\", \"subscription\", \"web\", \"gas\", \"delivery\", \"donation\", \"mailing\", \"general\", \"transfer\", \"print\", \"worker\", \"telecommunication\", \"health\", \"newspaper\", \"campaign\", \"management\", \"service\", \"consulting\", \"ad\", \"payroll\", \"event\", \"tax\", \"medium\", \"catering\", \"compliance\", \"see\", \"rent\", \"shipping\", \"cost\", \"production\", \"candidate\", \"itemized\", \"buy\", \"fundraiser\", \"loan\", \"social\", \"repayment\", \"gift\", \"sponsorship\", \"venue\", \"administrative\", \"itemization\", \"deposit\", \"shirt\", \"polling\", \"per\", \"detail\", \"diem\", \"pay\", \"reimbursement\", \"ad\", \"hotel\", \"expense\", \"facebook\", \"consultant\", \"rental\", \"card\", \"credit\", \"processing\", \"salary\", \"merchant\", \"contribution\", \"accounting\", \"advertisement\", \"research\", \"dinner\", \"federal\", \"actblue\", \"check\", \"monthly\", \"work\", \"day\", \"airline\", \"access\", \"non\", \"reception\", \"lincoln\", \"banking\", \"account\", \"blue\", \"act\", \"fund\", \"business\", \"development\", \"licensing\", \"conduit\", \"fee\", \"payment\", \"party\", \"inkind\"], \"Total\": [1493.0, 790.0, 758.0, 711.0, 677.0, 671.0, 434.0, 430.0, 594.0, 395.0, 307.0, 302.0, 478.0, 270.0, 251.0, 233.0, 355.0, 381.0, 257.0, 225.0, 197.0, 183.0, 161.0, 171.0, 158.0, 140.0, 152.0, 210.0, 145.0, 123.0, 758.7574462890625, 434.61212158203125, 430.5179748535156, 225.51731872558594, 197.73228454589844, 183.0472869873047, 152.35382080078125, 145.23333740234375, 103.65521240234375, 82.10052490234375, 47.766536712646484, 35.85639572143555, 35.81451416015625, 32.49032211303711, 30.746685028076172, 29.75128173828125, 26.956632614135742, 25.762699127197266, 19.314895629882812, 18.41898536682129, 18.58863067626953, 17.27086639404297, 16.32246971130371, 16.09296226501465, 15.94355583190918, 15.18720531463623, 15.18181037902832, 13.361661911010742, 12.960700035095215, 11.985745429992676, 381.46270751953125, 111.93586730957031, 355.8600158691406, 270.3719177246094, 251.82540893554688, 171.1068115234375, 120.93592834472656, 109.36609649658203, 95.31059265136719, 92.59650421142578, 81.64807891845703, 73.94871520996094, 64.1407241821289, 62.86458206176758, 59.505699157714844, 59.701690673828125, 46.9141731262207, 44.84040451049805, 44.62776565551758, 40.310081481933594, 40.07387924194336, 37.819847106933594, 37.66459274291992, 36.8525276184082, 35.3893928527832, 34.88085174560547, 32.204254150390625, 30.975812911987305, 30.136098861694336, 28.54903793334961, 27.01548957824707, 23.25846290588379, 21.358360290527344, 478.6399230957031, 594.3348999023438, 96.14634704589844, 1493.617431640625, 210.3252410888672, 302.0314636230469, 161.15890502929688, 123.0445327758789, 94.46353912353516, 89.62154388427734, 80.83099365234375, 76.01089477539062, 64.86910247802734, 61.75703048706055, 58.992210388183594, 58.752750396728516, 57.18233871459961, 56.969051361083984, 55.06718826293945, 49.96049118041992, 47.318580627441406, 41.726097106933594, 40.169551849365234, 38.68441390991211, 34.87046813964844, 30.885204315185547, 28.678239822387695, 28.412609100341797, 27.840038299560547, 24.664257049560547, 24.709636688232422, 21.336254119873047, 19.8572940826416, 18.730525970458984, 14.441422462463379, 355.8600158691406, 56.58040237426758, 594.3348999023438, 478.6399230957031, 90.51744842529297, 790.9750366210938, 307.9202880859375, 233.8898468017578, 158.97947692871094, 140.1797332763672, 99.64794158935547, 92.29186248779297, 89.99742889404297, 88.78170013427734, 49.9908332824707, 48.98298645019531, 48.78911209106445, 39.76899337768555, 38.05879211425781, 35.275909423828125, 30.94929313659668, 26.258228302001953, 24.936071395874023, 23.927465438842773, 23.722742080688477, 19.961254119873047, 20.036712646484375, 17.437393188476562, 16.84832000732422, 14.436125755310059, 14.11811637878418, 13.001428604125977, 12.825020790100098, 12.449586868286133, 9.80755615234375, 210.3252410888672, 90.51744842529297, 25.88511848449707, 381.46270751953125, 46.485572814941406, 96.14634704589844, 111.93586730957031, 711.1027221679688, 677.647705078125, 671.7498779296875, 395.0534362792969, 257.8199157714844, 149.72840881347656, 43.485904693603516, 41.68180465698242, 28.606239318847656, 27.639392852783203, 21.75126838684082, 16.26149559020996, 14.477127075195312, 13.801472663879395, 13.865424156188965, 10.55471420288086, 10.466142654418945, 10.33858585357666, 10.032230377197266, 9.626105308532715, 9.468703269958496, 9.44349479675293, 8.836669921875, 8.312114715576172, 8.312114715576172, 8.576351165771484, 7.887848854064941, 7.614993572235107, 7.00120210647583, 6.405893802642822, 1493.617431640625, 103.81143951416016, 14.842424392700195, 10.27298641204834], \"loglift\": [30.0, 29.0, 28.0, 27.0, 26.0, 25.0, 24.0, 23.0, 22.0, 21.0, 20.0, 19.0, 18.0, 17.0, 16.0, 15.0, 14.0, 13.0, 12.0, 11.0, 10.0, 9.0, 8.0, 7.0, 6.0, 5.0, 4.0, 3.0, 2.0, 1.0, 1.5616999864578247, 1.5609999895095825, 1.5609999895095825, 1.559399962425232, 1.558899998664856, 1.5585999488830566, 1.557800054550171, 1.5575000047683716, 1.555400013923645, 1.5535000562667847, 1.5467000007629395, 1.5414999723434448, 1.5413000583648682, 1.539199948310852, 1.5377999544143677, 1.5369000434875488, 1.5341999530792236, 1.5329999923706055, 1.5227999687194824, 1.5206999778747559, 1.5205999612808228, 1.517799973487854, 1.5148999691009521, 1.5146000385284424, 1.51419997215271, 1.5117000341415405, 1.5117000341415405, 1.5045000314712524, 1.5006999969482422, 1.497499942779541, 1.2555999755859375, 1.3144999742507935, 0.37689998745918274, 1.6200000047683716, 1.6196999549865723, 1.618299961090088, 1.6165000200271606, 1.6159000396728516, 1.614799976348877, 1.6145999431610107, 1.6134999990463257, 1.6125999689102173, 1.6109000444412231, 1.610700011253357, 1.6100000143051147, 1.6100000143051147, 1.606600046157837, 1.6059000492095947, 1.6058000326156616, 1.6039999723434448, 1.6038999557495117, 1.6026999950408936, 1.6024999618530273, 1.6022000312805176, 1.6013000011444092, 1.6009999513626099, 1.5992000102996826, 1.5980000495910645, 1.597599983215332, 1.5960999727249146, 1.5946999788284302, 1.589900016784668, 1.5870000123977661, 1.298200011253357, 1.2699999809265137, 1.2568000555038452, -0.01600000075995922, 0.508400022983551, 1.7483999729156494, 1.7461999654769897, 1.7447999715805054, 1.742900013923645, 1.7424999475479126, 1.7416000366210938, 1.7410000562667847, 1.739300012588501, 1.738800048828125, 1.7381999492645264, 1.7381999492645264, 1.7378000020980835, 1.7376999855041504, 1.7373000383377075, 1.73580002784729, 1.7351000308990479, 1.7329000234603882, 1.732200026512146, 1.7315000295639038, 1.7293000221252441, 1.7265000343322754, 1.7245999574661255, 1.7244000434875488, 1.7237999439239502, 1.7202999591827393, 1.7202999591827393, 1.715399980545044, 1.7128000259399414, 1.7103999853134155, 1.698099970817566, 1.3839999437332153, 1.371999979019165, 0.534600019454956, 0.4634000062942505, 0.621999979019165, 1.717900037765503, 1.7164000272750854, 1.7156000137329102, 1.7141000032424927, 1.7135000228881836, 1.711300015449524, 1.7107000350952148, 1.7105000019073486, 1.7103999853134155, 1.7036999464035034, 1.7034000158309937, 1.7032999992370605, 1.6998000144958496, 1.6990000009536743, 1.6974999904632568, 1.6944999694824219, 1.690000057220459, 1.6885000467300415, 1.6871999502182007, 1.686900019645691, 1.6806999444961548, 1.6806999444961548, 1.6750999689102173, 1.6735999584197998, 1.6656999588012695, 1.6647000312805176, 1.6598999500274658, 1.659000039100647, 1.6571999788284302, 1.6397000551223755, 1.3171000480651855, 1.319000005722046, 1.4300999641418457, 0.3831000030040741, 1.1500999927520752, 0.5169000029563904, 0.18070000410079956, 1.4253000020980835, 1.4253000020980835, 1.4253000020980835, 1.4244999885559082, 1.4234999418258667, 1.4213999509811401, 1.4089000225067139, 1.4083000421524048, 1.3997999429702759, 1.3986999988555908, 1.3913999795913696, 1.3794000148773193, 1.3726999759674072, 1.3705999851226807, 1.3695000410079956, 1.3530000448226929, 1.3523000478744507, 1.3509999513626099, 1.3490999937057495, 1.344599962234497, 1.3442000150680542, 1.3437000513076782, 1.3380000591278076, 1.3325999975204468, 1.3325999975204468, 1.3314000368118286, 1.326799988746643, 1.3208999633789062, 1.3137999773025513, 1.3025000095367432, 1.2100000381469727, 1.2337000370025635, 1.1699999570846558, 1.2529000043869019], \"logprob\": [30.0, 29.0, 28.0, 27.0, 26.0, 25.0, 24.0, 23.0, 22.0, 21.0, 20.0, 19.0, 18.0, 17.0, 16.0, 15.0, 14.0, 13.0, 12.0, 11.0, 10.0, 9.0, 8.0, 7.0, 6.0, 5.0, 4.0, 3.0, 2.0, 1.0, -1.736799955368042, -2.294800043106079, -2.30430006980896, -2.952500104904175, -3.084399938583374, -3.1619999408721924, -3.346299886703491, -3.394399881362915, -3.733799934387207, -3.9688000679016113, -4.517199993133545, -4.809299945831299, -4.8105998039245605, -4.910099983215332, -4.966700077056885, -5.000500202178955, -5.101799964904785, -5.148399829864502, -5.446599960327148, -5.496200084686279, -5.487100124359131, -5.563499927520752, -5.622799873352051, -5.63730001449585, -5.646999835968018, -5.6981000900268555, -5.698500156402588, -5.833399772644043, -5.867700099945068, -5.948999881744385, -2.7307000160217285, -3.897900104522705, -3.678800106048584, -2.7105000019073486, -2.7818000316619873, -3.169600009918213, -3.5185000896453857, -3.6196999549865723, -3.7583000659942627, -3.7874999046325684, -3.914400100708008, -4.014400005340576, -4.158299922943115, -4.178500175476074, -4.2342000007629395, -4.230899810791016, -4.475299835205078, -4.521299839019775, -4.526100158691406, -4.629700183868408, -4.635700225830078, -4.694799900054932, -4.698999881744385, -4.721199989318848, -4.762499809265137, -4.777400016784668, -4.859000205993652, -4.899099826812744, -4.927000045776367, -4.982600212097168, -5.0391998291015625, -5.193699836730957, -5.281799793243408, -2.4611001014709473, -2.272900104522705, -4.107600212097168, -2.637399911880493, -4.073200225830078, -2.471299886703491, -3.101599931716919, -3.3729000091552734, -3.6391000747680664, -3.692199945449829, -3.796299934387207, -3.8584001064300537, -4.018599987030029, -4.068299770355225, -4.114699840545654, -4.118800163269043, -4.146200180053711, -4.150000095367432, -4.1844000816345215, -4.283199787139893, -4.3383002281188965, -4.466300010681152, -4.504899978637695, -4.543399810791016, -4.6493000984191895, -4.773499965667725, -4.8495001792907715, -4.859099864959717, -4.880000114440918, -5.0046000480651855, -5.002799987792969, -5.1545000076293945, -5.228899955749512, -5.289700031280518, -5.561999797821045, -2.6717000007629395, -4.522600173950195, -3.0083000659942627, -3.2960000038146973, -4.802700042724609, -1.539199948310852, -2.484100103378296, -2.7597999572753906, -3.14739990234375, -3.273900032043457, -3.6173999309539795, -3.6946001052856445, -3.7200000286102295, -3.7337000370025635, -4.314700126647949, -4.335400104522705, -4.3394999504089355, -4.547399997711182, -4.592100143432617, -4.669600009918213, -4.803500175476074, -4.972300052642822, -5.0254998207092285, -5.0680999755859375, -5.076900005340576, -5.255799770355225, -5.251999855041504, -5.396599769592285, -5.432499885559082, -5.594799995422363, -5.618100166320801, -5.7052998542785645, -5.719900131225586, -5.751399993896484, -6.007400035858154, -3.2644999027252197, -4.1057000160217285, -5.246500015258789, -3.603100061416626, -4.941100120544434, -4.847499847412109, -5.031599998474121, -1.938099980354309, -1.9864000082015991, -1.9951000213623047, -2.5267999172210693, -2.9544999599456787, -3.5000998973846436, -4.748899936676025, -4.791900157928467, -5.176799774169922, -5.212299823760986, -5.459199905395508, -5.7621002197265625, -5.885000228881836, -5.934899806976318, -5.931399822235107, -6.220699787139893, -6.229800224304199, -6.243299961090088, -6.275400161743164, -6.321199893951416, -6.338099956512451, -6.341300010681152, -6.413300037384033, -6.480000019073486, -6.480000019073486, -6.44980001449585, -6.5381999015808105, -6.57919979095459, -6.670400142669678, -6.770500183105469, -1.4112999439239502, -4.053999900817871, -6.06279993057251, -6.347899913787842]}, \"token.table\": {\"Topic\": [5, 5, 5, 5, 5, 3, 4, 4, 5, 3, 1, 1, 3, 5, 3, 2, 2, 5, 1, 1, 5, 5, 4, 1, 1, 3, 4, 2, 1, 5, 4, 2, 2, 2, 5, 2, 4, 5, 2, 4, 2, 3, 5, 4, 5, 2, 2, 5, 3, 4, 1, 4, 5, 4, 2, 5, 3, 3, 1, 2, 1, 4, 1, 4, 3, 4, 1, 5, 2, 5, 2, 1, 2, 5, 4, 2, 3, 3, 4, 1, 2, 3, 3, 4, 3, 5, 3, 3, 2, 4, 4, 1, 2, 5, 5, 2, 1, 4, 1, 3, 3, 2, 3, 1, 1, 1, 4, 1, 5, 2, 5, 3, 1, 5, 1, 3, 1, 2, 4, 5, 4, 3, 5, 4, 4, 2, 3, 3, 4, 2, 3, 1, 5, 4, 5, 2, 2, 4, 4, 1, 4, 4, 5, 5, 4, 2, 3, 4, 4, 2, 4, 3, 1, 4, 3, 1, 1, 2, 3, 3, 1, 4, 3, 2, 3, 2, 3, 2, 1, 3, 4, 1, 1, 2, 3, 3, 3, 5, 3, 2], \"Freq\": [0.9672502875328064, 0.9053184390068054, 0.9888261556625366, 0.9624506235122681, 0.9839193224906921, 0.32038021087646484, 0.673903226852417, 0.9482593536376953, 0.9836426377296448, 0.9965848922729492, 0.9408189654350281, 0.9703952074050903, 0.9897193908691406, 0.955461859703064, 0.993064820766449, 0.982354998588562, 0.9935314655303955, 0.9530370235443115, 0.9802438020706177, 0.991507887840271, 0.9624506235122681, 0.8874409198760986, 0.9721800684928894, 0.9843165874481201, 0.30630022287368774, 0.6940931677818298, 0.9838260412216187, 0.9812578558921814, 0.9645121693611145, 0.9984492659568787, 0.9915841221809387, 0.9862468838691711, 0.9624108672142029, 0.9623010754585266, 0.9670426845550537, 0.9805139303207397, 0.9934976696968079, 0.9366374611854553, 0.6968543529510498, 0.30162352323532104, 0.7228816151618958, 0.27578142285346985, 0.9951351284980774, 0.9801797270774841, 0.9990441799163818, 0.9783223271369934, 0.9768664836883545, 0.947443962097168, 0.9713388681411743, 0.9496495723724365, 0.9772574305534363, 0.9356709718704224, 0.9192391037940979, 0.9638873934745789, 0.9935580492019653, 0.976866602897644, 0.9831806421279907, 0.9763500094413757, 0.9772525429725647, 0.9859333038330078, 0.9849086999893188, 0.9970113039016724, 0.7366381883621216, 0.26214882731437683, 0.43024101853370667, 0.5593132972717285, 0.974747896194458, 0.9654609560966492, 0.19415949285030365, 0.8054271340370178, 0.9915016889572144, 0.9962965846061707, 0.988246738910675, 0.9327976107597351, 0.9921785593032837, 0.9967222809791565, 0.9750370979309082, 0.9698262810707092, 0.961238443851471, 0.92182856798172, 0.9889969229698181, 0.9609981179237366, 0.23179341852664948, 0.7340124845504761, 0.09734267741441727, 0.8760840892791748, 0.9871878027915955, 0.9877417683601379, 0.9684975743293762, 0.9749163389205933, 0.9806634783744812, 0.994278609752655, 0.9923076033592224, 0.856995701789856, 0.9504997134208679, 0.988887369632721, 0.9729328751564026, 0.969327449798584, 0.9936789274215698, 0.9793233871459961, 0.9854779839515686, 0.3004573881626129, 0.68928462266922, 0.975714921951294, 0.9839524030685425, 0.9976776242256165, 0.9938389658927917, 0.9865953922271729, 0.996819794178009, 0.9922609329223633, 0.9419284462928772, 0.969433605670929, 0.9221561551094055, 0.8971086144447327, 0.9985915422439575, 0.9915109276771545, 0.9258759021759033, 0.974746823310852, 0.20212331414222717, 0.7411187887191772, 0.9176598191261292, 0.17339129745960236, 0.8284250497817993, 0.9987673163414001, 0.922975480556488, 0.9967412352561951, 0.9950929284095764, 0.9867006540298462, 0.9208027124404907, 0.9986244440078735, 0.9712809920310974, 0.9977060556411743, 0.9988837242126465, 0.9799320697784424, 0.9349575638771057, 0.980768620967865, 0.32806333899497986, 0.6703903079032898, 0.9889171123504639, 0.7772307395935059, 0.2144084870815277, 0.9624611735343933, 0.9788074493408203, 0.9973334074020386, 0.9968376159667969, 0.7033071517944336, 0.29612934589385986, 0.9911952614784241, 0.9697892665863037, 0.9822152853012085, 0.9901658296585083, 0.9928089380264282, 0.9836967587471008, 0.9695338010787964, 0.9866021871566772, 0.9177568554878235, 0.9761159420013428, 0.9832215309143066, 0.9825984835624695, 0.9708846211433411, 0.9987968802452087, 0.9961954355239868, 0.9568272233009338, 0.9871706366539001, 0.980774998664856, 0.992062509059906, 0.9730680584907532, 0.9966525435447693, 0.9990017414093018, 0.993267297744751, 0.9518439769744873, 0.9683338403701782, 0.9320844411849976, 0.9732025265693665, 0.9829898476600647, 0.9823077321052551, 0.980620265007019, 0.9375839829444885, 0.9842402338981628, 0.9626057147979736], \"Term\": [\"access\", \"account\", \"accounting\", \"act\", \"actblue\", \"ad\", \"ad\", \"administrative\", \"advertisement\", \"advertising\", \"aggregate\", \"air\", \"airfare\", \"airline\", \"amex\", \"auto\", \"bank\", \"banking\", \"banner\", \"beverage\", \"blue\", \"business\", \"buy\", \"call\", \"campaign\", \"campaign\", \"candidate\", \"canvassing\", \"car\", \"card\", \"catering\", \"cc\", \"cell\", \"charge\", \"check\", \"communication\", \"compliance\", \"conduit\", \"consultant\", \"consultant\", \"consulting\", \"consulting\", \"contribution\", \"cost\", \"credit\", \"data\", \"database\", \"day\", \"delivery\", \"deposit\", \"design\", \"detail\", \"development\", \"diem\", \"digital\", \"dinner\", \"direct\", \"donation\", \"election\", \"email\", \"equipment\", \"event\", \"expense\", \"expense\", \"facebook\", \"facebook\", \"facility\", \"federal\", \"fee\", \"fee\", \"field\", \"food\", \"fuel\", \"fund\", \"fundraiser\", \"fundraising\", \"gas\", \"general\", \"gift\", \"graphic\", \"ground\", \"health\", \"hotel\", \"hotel\", \"inkind\", \"inkind\", \"insurance\", \"internet\", \"invoice\", \"itemization\", \"itemized\", \"kind\", \"legal\", \"licensing\", \"lincoln\", \"list\", \"listed\", \"loan\", \"lodging\", \"mail\", \"mailing\", \"management\", \"management\", \"marketing\", \"material\", \"meal\", \"medium\", \"meeting\", \"merchant\", \"mileage\", \"monthly\", \"newspaper\", \"night\", \"non\", \"office\", \"online\", \"paid\", \"parking\", \"party\", \"party\", \"pay\", \"payment\", \"payment\", \"payroll\", \"per\", \"phone\", \"pmt\", \"political\", \"polling\", \"postage\", \"print\", \"printing\", \"processing\", \"production\", \"reception\", \"registration\", \"reimbursement\", \"reimbursement\", \"rent\", \"rental\", \"rental\", \"repayment\", \"research\", \"salary\", \"see\", \"service\", \"service\", \"shipping\", \"shirt\", \"sign\", \"social\", \"software\", \"space\", \"sponsorship\", \"staff\", \"stipend\", \"storage\", \"strategic\", \"strategy\", \"subscription\", \"supply\", \"tax\", \"telecommunication\", \"telephone\", \"ticket\", \"transaction\", \"transfer\", \"transportation\", \"travel\", \"utility\", \"venue\", \"video\", \"volunteer\", \"voter\", \"wage\", \"web\", \"website\", \"work\", \"worker\", \"yard\"]}, \"R\": 30, \"lambda.step\": 0.01, \"plot.opts\": {\"xlab\": \"PC1\", \"ylab\": \"PC2\"}, \"topic.order\": [1, 2, 3, 4, 5]};\n",
       "\n",
       "function LDAvis_load_lib(url, callback){\n",
       "  var s = document.createElement('script');\n",
       "  s.src = url;\n",
       "  s.async = true;\n",
       "  s.onreadystatechange = s.onload = callback;\n",
       "  s.onerror = function(){console.warn(\"failed to load library \" + url);};\n",
       "  document.getElementsByTagName(\"head\")[0].appendChild(s);\n",
       "}\n",
       "\n",
       "if(typeof(LDAvis) !== \"undefined\"){\n",
       "   // already loaded: just create the visualization\n",
       "   !function(LDAvis){\n",
       "       new LDAvis(\"#\" + \"ldavis_el1679251269203768569125267\", ldavis_el1679251269203768569125267_data);\n",
       "   }(LDAvis);\n",
       "}else if(typeof define === \"function\" && define.amd){\n",
       "   // require.js is available: use it to load d3/LDAvis\n",
       "   require.config({paths: {d3: \"https://cdnjs.cloudflare.com/ajax/libs/d3/3.5.5/d3.min\"}});\n",
       "   require([\"d3\"], function(d3){\n",
       "      window.d3 = d3;\n",
       "      LDAvis_load_lib(\"https://cdn.rawgit.com/bmabey/pyLDAvis/files/ldavis.v1.0.0.js\", function(){\n",
       "        new LDAvis(\"#\" + \"ldavis_el1679251269203768569125267\", ldavis_el1679251269203768569125267_data);\n",
       "      });\n",
       "    });\n",
       "}else{\n",
       "    // require.js not available: dynamically load d3 & LDAvis\n",
       "    LDAvis_load_lib(\"https://cdnjs.cloudflare.com/ajax/libs/d3/3.5.5/d3.min.js\", function(){\n",
       "         LDAvis_load_lib(\"https://cdn.rawgit.com/bmabey/pyLDAvis/files/ldavis.v1.0.0.js\", function(){\n",
       "                 new LDAvis(\"#\" + \"ldavis_el1679251269203768569125267\", ldavis_el1679251269203768569125267_data);\n",
       "            })\n",
       "         });\n",
       "}\n",
       "</script>"
      ],
      "text/plain": [
       "<IPython.core.display.HTML object>"
      ]
     },
     "execution_count": 106,
     "metadata": {},
     "output_type": "execute_result"
    }
   ],
   "source": [
    "# If you still can't see the map after the code is executed, type in this command below in jupiter environment terminal:\n",
    "# pip install jupyter_contrib_nbextensions && jupyter contrib nbextension install --user\n",
    "\n",
    "dictionary = gensim.corpora.Dictionary.load('dictionary.gensim')\n",
    "corpus = pickle.load(open('corpus.pkl', 'rb'))\n",
    "lda = gensim.models.ldamodel.LdaModel.load('model.gensim')\n",
    " \n",
    "lda_display = pyLDAvis.gensim.prepare(lda, corpus, dictionary, sort_topics=False)\n",
    "pyLDAvis.display(lda_display) "
   ]
  },
  {
   "cell_type": "markdown",
   "metadata": {},
   "source": [
    " <div class=\"alert alert-block alert-warning\">From the map above, we could see the model separated the disbursement items quite well.<br>The classification above has less overlaping now than the classification in the original dataset.<br>But we need to notice that if we run the codes several times, each time we get different clustering results.<br>To make the classification more accurate for further prediction research and analysis, I will bring in the rule-based classification method to tag all the items."
   ]
  },
  {
   "cell_type": "markdown",
   "metadata": {},
   "source": [
    "## <center><li>Rule-Based Topic Classification"
   ]
  },
  {
   "cell_type": "markdown",
   "metadata": {},
   "source": [
    "### Based on my personal understanding of the dataset and political campaign activites, <br>I categorized the disbursement items by the following eight tags.<br> I want to find out which element contributes the most to winning the election.\n",
    "### **\"People Business\"**\n",
    "**Networking**:  The effort to find supporters; \n",
    "<br>**Paycheck**:  How much they pay their staff;\n",
    "<br>**Eat**:  As in a bestseller book title, \"don't eat alone\"- does dinning together matter? \n",
    "<br>**Brain**: How much think tank(consultants, researchers, data analysts, polling analysts) matters?   \n",
    "\n",
    "###  **\"Service and Expense\"**\n",
    "**Advertising**: This might be the largest expense during a campaign, is this large expense useful?   \n",
    "**Operation cost**: The daily cost of running a campaign team;\n",
    "<br>**Travel**:  How much visits matters? \n",
    "    \n",
    "###  **\"Capital Game\"** \n",
    "**Finance**: The financial resources candidates can leverage."
   ]
  },
  {
   "cell_type": "markdown",
   "metadata": {},
   "source": [
    "## <center><li>Tag Rows Based on Keywords"
   ]
  },
  {
   "cell_type": "code",
   "execution_count": 73,
   "metadata": {},
   "outputs": [
    {
     "data": {
      "text/html": [
       "<div>\n",
       "<style scoped>\n",
       "    .dataframe tbody tr th:only-of-type {\n",
       "        vertical-align: middle;\n",
       "    }\n",
       "\n",
       "    .dataframe tbody tr th {\n",
       "        vertical-align: top;\n",
       "    }\n",
       "\n",
       "    .dataframe thead th {\n",
       "        text-align: right;\n",
       "    }\n",
       "</style>\n",
       "<table border=\"1\" class=\"dataframe\">\n",
       "  <thead>\n",
       "    <tr style=\"text-align: right;\">\n",
       "      <th></th>\n",
       "      <th>can_nam</th>\n",
       "      <th>can_off</th>\n",
       "      <th>can_off_sta</th>\n",
       "      <th>dis_pur_des</th>\n",
       "      <th>cat_des</th>\n",
       "      <th>dis_amo</th>\n",
       "      <th>win</th>\n",
       "    </tr>\n",
       "  </thead>\n",
       "  <tbody>\n",
       "    <tr>\n",
       "      <th>0</th>\n",
       "      <td>YOUNG-DONALD-E</td>\n",
       "      <td>H</td>\n",
       "      <td>AK</td>\n",
       "      <td>OFFICE JANITORIAL SERVICES</td>\n",
       "      <td>Unknown</td>\n",
       "      <td>300.00</td>\n",
       "      <td>1</td>\n",
       "    </tr>\n",
       "    <tr>\n",
       "      <th>1</th>\n",
       "      <td>YOUNG-DONALD-E</td>\n",
       "      <td>H</td>\n",
       "      <td>AK</td>\n",
       "      <td>PAYROLL TAXES</td>\n",
       "      <td>Unknown</td>\n",
       "      <td>3414.98</td>\n",
       "      <td>1</td>\n",
       "    </tr>\n",
       "    <tr>\n",
       "      <th>2</th>\n",
       "      <td>YOUNG-DONALD-E</td>\n",
       "      <td>H</td>\n",
       "      <td>AK</td>\n",
       "      <td>BANK CHARGE</td>\n",
       "      <td>Unknown</td>\n",
       "      <td>2.00</td>\n",
       "      <td>1</td>\n",
       "    </tr>\n",
       "    <tr>\n",
       "      <th>3</th>\n",
       "      <td>YOUNG-DONALD-E</td>\n",
       "      <td>H</td>\n",
       "      <td>AK</td>\n",
       "      <td>SIGN INSTALLATION</td>\n",
       "      <td>Unknown</td>\n",
       "      <td>7000.00</td>\n",
       "      <td>1</td>\n",
       "    </tr>\n",
       "    <tr>\n",
       "      <th>4</th>\n",
       "      <td>YOUNG-DONALD-E</td>\n",
       "      <td>H</td>\n",
       "      <td>AK</td>\n",
       "      <td>MAILING POSTAGE</td>\n",
       "      <td>Unknown</td>\n",
       "      <td>1394.47</td>\n",
       "      <td>1</td>\n",
       "    </tr>\n",
       "  </tbody>\n",
       "</table>\n",
       "</div>"
      ],
      "text/plain": [
       "          can_nam can_off can_off_sta                 dis_pur_des  cat_des  \\\n",
       "0  YOUNG-DONALD-E       H          AK  OFFICE JANITORIAL SERVICES  Unknown   \n",
       "1  YOUNG-DONALD-E       H          AK               PAYROLL TAXES  Unknown   \n",
       "2  YOUNG-DONALD-E       H          AK                 BANK CHARGE  Unknown   \n",
       "3  YOUNG-DONALD-E       H          AK           SIGN INSTALLATION  Unknown   \n",
       "4  YOUNG-DONALD-E       H          AK             MAILING POSTAGE  Unknown   \n",
       "\n",
       "   dis_amo  win  \n",
       "0   300.00    1  \n",
       "1  3414.98    1  \n",
       "2     2.00    1  \n",
       "3  7000.00    1  \n",
       "4  1394.47    1  "
      ]
     },
     "execution_count": 73,
     "metadata": {},
     "output_type": "execute_result"
    }
   ],
   "source": [
    "df_2018_main.head()"
   ]
  },
  {
   "cell_type": "code",
   "execution_count": 74,
   "metadata": {},
   "outputs": [],
   "source": [
    "df_2018_main['dis_purpose']=df_2018_main.dis_pur_des.str.lower()\n",
    "df_2018_main['networking']=df_2018_main.dis_purpose.str.contains\\\n",
    "                    ('event|catering|gift|gifts|donation|contribution|canvassing|petition|ticket|tickets|sponsorship|membership|vote')*1\n",
    "df_2018_main['paycheck']=df_2018_main.dis_purpose.str.contains\\\n",
    "                    ('payroll|payrolls|salary|salaries|wage|wages|intern|per diem|stipend|staff|worker|manager|analyst|fundraiser|\\\n",
    "                    |labor|representative')*1\n",
    "df_2018_main['eat']=df_2018_main.dis_purpose.str.contains\\\n",
    "                    ('food|beverage|drink|drinks|dinner|breakfast|meal|meals|lunch|refreshment')*1\n",
    "df_2018_main['brain']=df_2018_main.dis_purpose.str.contains\\\n",
    "                    ('polling|poll|survey|consultant|consulting|consult|research|data|legal services|compliance services|\\\n",
    "                    |campaign management|strategy')*1\n",
    "df_2018_main['advertising']=df_2018_main.dis_purpose.str.contains\\\n",
    "                    ('media|advertising|ad|advertisement|ads|online|digital|facebook|face book|direct mail|sign|signs|marketing|\\\n",
    "                    |video production|photography|internet advertising')*1\n",
    "df_2018_main['operationcost']=df_2018_main.dis_purpose.str.contains\\\n",
    "                    ('office|telephone|phone|cellphone|call|calls|rent|rental|printing|print|\\\n",
    "                    |shipping|postage|software|fee|fees|t-shirt|t-shirts|supplies|credit card processing fee|credit card processing fees|\\\n",
    "                    |stickers|design|brochures|flowers|expense|expenses|utilities|subscription|bank charge|internet service|\\\n",
    "                    |email service|delivery|storage|website|internet|web|materials|tax|telecommunication|service charge|stamps|\\\n",
    "                    |cc processing|bank charges|mailing|email hosting|computer|wireless|telecom|security|equipment|processing|\\\n",
    "                    |credit card processing fee|credit card fee|insurance|accounting services|accounting')*1\n",
    "df_2018_main['travel']=df_2018_main.dis_purpose.str.contains\\\n",
    "                    ('travel|hotel|airfare|gas|gasoline|fuel|car|transportation|cab|taxi|parking|mileage|lodging|ride|train|toll')*1\n",
    "df_2018_main['finance']=df_2018_main.dis_purpose.str.contains\\\n",
    "                    ('fundraising|fundraiser|loan|debt|repayment|repay|transfer|transfers')*1                 \n",
    "df_2018_main['sum']=df_2018_main.networking+df_2018_main.paycheck+df_2018_main.eat+df_2018_main.brain\\\n",
    "                    +df_2018_main.advertising+df_2018_main.operationcost+df_2018_main.travel+df_2018_main.finance"
   ]
  },
  {
   "cell_type": "code",
   "execution_count": 75,
   "metadata": {},
   "outputs": [
    {
     "data": {
      "text/plain": [
       "1    703639\n",
       "2    208284\n",
       "0     45194\n",
       "3     14546\n",
       "4      1380\n",
       "5       104\n",
       "6        11\n",
       "Name: sum, dtype: int64"
      ]
     },
     "execution_count": 75,
     "metadata": {},
     "output_type": "execute_result"
    },
    {
     "data": {
      "text/plain": [
       "973158"
      ]
     },
     "execution_count": 75,
     "metadata": {},
     "output_type": "execute_result"
    }
   ],
   "source": [
    "df_2018_main['sum'].value_counts()\n",
    "len(df_2018_main)"
   ]
  },
  {
   "cell_type": "markdown",
   "metadata": {},
   "source": [
    "## <center><li>Data Preparation: Make Adjustments to Make Sure Each Row Only Have One Tag"
   ]
  },
  {
   "cell_type": "code",
   "execution_count": 76,
   "metadata": {},
   "outputs": [
    {
     "data": {
      "text/html": [
       "<div>\n",
       "<style scoped>\n",
       "    .dataframe tbody tr th:only-of-type {\n",
       "        vertical-align: middle;\n",
       "    }\n",
       "\n",
       "    .dataframe tbody tr th {\n",
       "        vertical-align: top;\n",
       "    }\n",
       "\n",
       "    .dataframe thead th {\n",
       "        text-align: right;\n",
       "    }\n",
       "</style>\n",
       "<table border=\"1\" class=\"dataframe\">\n",
       "  <thead>\n",
       "    <tr style=\"text-align: right;\">\n",
       "      <th></th>\n",
       "      <th>count</th>\n",
       "      <th>$amount</th>\n",
       "    </tr>\n",
       "    <tr>\n",
       "      <th>dis_purpose</th>\n",
       "      <th></th>\n",
       "      <th></th>\n",
       "    </tr>\n",
       "  </thead>\n",
       "  <tbody>\n",
       "    <tr>\n",
       "      <th>reimbursement (vendors that aggregate over $200 listed below)</th>\n",
       "      <td>800</td>\n",
       "      <td>681211.63</td>\n",
       "    </tr>\n",
       "    <tr>\n",
       "      <th>see below</th>\n",
       "      <td>690</td>\n",
       "      <td>5066677.78</td>\n",
       "    </tr>\n",
       "    <tr>\n",
       "      <th>reimbursement(vendors that aggregate over $200 listed below)</th>\n",
       "      <td>506</td>\n",
       "      <td>394018.67</td>\n",
       "    </tr>\n",
       "    <tr>\n",
       "      <th>reimbursement - see below if itemized</th>\n",
       "      <td>398</td>\n",
       "      <td>261358.86</td>\n",
       "    </tr>\n",
       "    <tr>\n",
       "      <th>dues</th>\n",
       "      <td>386</td>\n",
       "      <td>2406699.49</td>\n",
       "    </tr>\n",
       "  </tbody>\n",
       "</table>\n",
       "</div>"
      ],
      "text/plain": [
       "                                                               count  \\\n",
       "dis_purpose                                                            \n",
       "reimbursement (vendors that aggregate over $200 listed below)    800   \n",
       "see below                                                        690   \n",
       "reimbursement(vendors that aggregate over $200 listed below)     506   \n",
       "reimbursement - see below if itemized                            398   \n",
       "dues                                                             386   \n",
       "\n",
       "                                                                 $amount  \n",
       "dis_purpose                                                               \n",
       "reimbursement (vendors that aggregate over $200 listed below)  681211.63  \n",
       "see below                                                     5066677.78  \n",
       "reimbursement(vendors that aggregate over $200 listed below)   394018.67  \n",
       "reimbursement - see below if itemized                          261358.86  \n",
       "dues                                                          2406699.49  "
      ]
     },
     "execution_count": 76,
     "metadata": {},
     "output_type": "execute_result"
    },
    {
     "data": {
      "text/html": [
       "<div>\n",
       "<style scoped>\n",
       "    .dataframe tbody tr th:only-of-type {\n",
       "        vertical-align: middle;\n",
       "    }\n",
       "\n",
       "    .dataframe tbody tr th {\n",
       "        vertical-align: top;\n",
       "    }\n",
       "\n",
       "    .dataframe thead th {\n",
       "        text-align: right;\n",
       "    }\n",
       "</style>\n",
       "<table border=\"1\" class=\"dataframe\">\n",
       "  <thead>\n",
       "    <tr style=\"text-align: right;\">\n",
       "      <th></th>\n",
       "      <th>count</th>\n",
       "      <th>$amount</th>\n",
       "    </tr>\n",
       "    <tr>\n",
       "      <th>dis_purpose</th>\n",
       "      <th></th>\n",
       "      <th></th>\n",
       "    </tr>\n",
       "  </thead>\n",
       "  <tbody>\n",
       "    <tr>\n",
       "      <th>fundraiser catering expense</th>\n",
       "      <td>254</td>\n",
       "      <td>194184.28</td>\n",
       "    </tr>\n",
       "    <tr>\n",
       "      <th>fundraiser event meals</th>\n",
       "      <td>82</td>\n",
       "      <td>80220.45</td>\n",
       "    </tr>\n",
       "    <tr>\n",
       "      <th>fundraising event exp-signage, printing</th>\n",
       "      <td>68</td>\n",
       "      <td>70707.32</td>\n",
       "    </tr>\n",
       "    <tr>\n",
       "      <th>fundraising event expense - food &amp; beverage</th>\n",
       "      <td>63</td>\n",
       "      <td>103573.66</td>\n",
       "    </tr>\n",
       "    <tr>\n",
       "      <th>fundraiser meal expense</th>\n",
       "      <td>51</td>\n",
       "      <td>66435.57</td>\n",
       "    </tr>\n",
       "  </tbody>\n",
       "</table>\n",
       "</div>"
      ],
      "text/plain": [
       "                                             count   $amount\n",
       "dis_purpose                                                 \n",
       "fundraiser catering expense                    254 194184.28\n",
       "fundraiser event meals                          82  80220.45\n",
       "fundraising event exp-signage, printing         68  70707.32\n",
       "fundraising event expense - food & beverage     63 103573.66\n",
       "fundraiser meal expense                         51  66435.57"
      ]
     },
     "execution_count": 76,
     "metadata": {},
     "output_type": "execute_result"
    },
    {
     "data": {
      "text/html": [
       "<div>\n",
       "<style scoped>\n",
       "    .dataframe tbody tr th:only-of-type {\n",
       "        vertical-align: middle;\n",
       "    }\n",
       "\n",
       "    .dataframe tbody tr th {\n",
       "        vertical-align: top;\n",
       "    }\n",
       "\n",
       "    .dataframe thead th {\n",
       "        text-align: right;\n",
       "    }\n",
       "</style>\n",
       "<table border=\"1\" class=\"dataframe\">\n",
       "  <thead>\n",
       "    <tr style=\"text-align: right;\">\n",
       "      <th></th>\n",
       "      <th>count</th>\n",
       "      <th>$amount</th>\n",
       "    </tr>\n",
       "    <tr>\n",
       "      <th>dis_purpose</th>\n",
       "      <th></th>\n",
       "      <th></th>\n",
       "    </tr>\n",
       "  </thead>\n",
       "  <tbody>\n",
       "    <tr>\n",
       "      <th>fundraising expenses, travel, catering &amp; meals</th>\n",
       "      <td>5</td>\n",
       "      <td>45309.45</td>\n",
       "    </tr>\n",
       "    <tr>\n",
       "      <th>chase card: fundraiser event - food and beverage</th>\n",
       "      <td>4</td>\n",
       "      <td>2242.85</td>\n",
       "    </tr>\n",
       "    <tr>\n",
       "      <th>fundraising consulting/catering/facility rental/travel</th>\n",
       "      <td>4</td>\n",
       "      <td>45491.08</td>\n",
       "    </tr>\n",
       "    <tr>\n",
       "      <th>fundraising consulting catering shipping transportation</th>\n",
       "      <td>3</td>\n",
       "      <td>31900.70</td>\n",
       "    </tr>\n",
       "    <tr>\n",
       "      <th>fundraising consulting/event catering/travel/shipping</th>\n",
       "      <td>3</td>\n",
       "      <td>44644.41</td>\n",
       "    </tr>\n",
       "  </tbody>\n",
       "</table>\n",
       "</div>"
      ],
      "text/plain": [
       "                                                         count  $amount\n",
       "dis_purpose                                                            \n",
       "fundraising expenses, travel, catering & meals               5 45309.45\n",
       "chase card: fundraiser event - food and beverage             4  2242.85\n",
       "fundraising consulting/catering/facility rental/travel       4 45491.08\n",
       "fundraising consulting catering shipping transportation      3 31900.70\n",
       "fundraising consulting/event catering/travel/shipping        3 44644.41"
      ]
     },
     "execution_count": 76,
     "metadata": {},
     "output_type": "execute_result"
    },
    {
     "data": {
      "text/html": [
       "<div>\n",
       "<style scoped>\n",
       "    .dataframe tbody tr th:only-of-type {\n",
       "        vertical-align: middle;\n",
       "    }\n",
       "\n",
       "    .dataframe tbody tr th {\n",
       "        vertical-align: top;\n",
       "    }\n",
       "\n",
       "    .dataframe thead th {\n",
       "        text-align: right;\n",
       "    }\n",
       "</style>\n",
       "<table border=\"1\" class=\"dataframe\">\n",
       "  <thead>\n",
       "    <tr style=\"text-align: right;\">\n",
       "      <th></th>\n",
       "      <th>count</th>\n",
       "      <th>$amount</th>\n",
       "    </tr>\n",
       "    <tr>\n",
       "      <th>dis_purpose</th>\n",
       "      <th></th>\n",
       "      <th></th>\n",
       "    </tr>\n",
       "  </thead>\n",
       "  <tbody>\n",
       "    <tr>\n",
       "      <th>fundraising consulting/catering/facility rental/travel/office supplies/delivery service/food/beverag</th>\n",
       "      <td>2</td>\n",
       "      <td>56448.52</td>\n",
       "    </tr>\n",
       "    <tr>\n",
       "      <th>airfare, data service, meals with constituents, payroll software, online software and maintenance</th>\n",
       "      <td>1</td>\n",
       "      <td>4045.08</td>\n",
       "    </tr>\n",
       "    <tr>\n",
       "      <th>fundraising consulting / catering / food/beverage / travel / postage</th>\n",
       "      <td>1</td>\n",
       "      <td>23926.22</td>\n",
       "    </tr>\n",
       "    <tr>\n",
       "      <th>fundraising consulting food/beverage shipping transportation event gift</th>\n",
       "      <td>1</td>\n",
       "      <td>23940.58</td>\n",
       "    </tr>\n",
       "    <tr>\n",
       "      <th>fundraising consulting, event meal, postage &amp; travel reimbursements</th>\n",
       "      <td>1</td>\n",
       "      <td>9878.73</td>\n",
       "    </tr>\n",
       "  </tbody>\n",
       "</table>\n",
       "</div>"
      ],
      "text/plain": [
       "                                                                                                      count  \\\n",
       "dis_purpose                                                                                                   \n",
       "fundraising consulting/catering/facility rental/travel/office supplies/delivery service/food/beverag      2   \n",
       "airfare, data service, meals with constituents, payroll software, online software and maintenance         1   \n",
       "fundraising consulting / catering / food/beverage / travel / postage                                      1   \n",
       "fundraising consulting food/beverage shipping transportation event gift                                   1   \n",
       "fundraising consulting, event meal, postage & travel reimbursements                                       1   \n",
       "\n",
       "                                                                                                      $amount  \n",
       "dis_purpose                                                                                                    \n",
       "fundraising consulting/catering/facility rental/travel/office supplies/delivery service/food/beverag 56448.52  \n",
       "airfare, data service, meals with constituents, payroll software, online software and maintenance     4045.08  \n",
       "fundraising consulting / catering / food/beverage / travel / postage                                 23926.22  \n",
       "fundraising consulting food/beverage shipping transportation event gift                              23940.58  \n",
       "fundraising consulting, event meal, postage & travel reimbursements                                   9878.73  "
      ]
     },
     "execution_count": 76,
     "metadata": {},
     "output_type": "execute_result"
    }
   ],
   "source": [
    "# Sum-0 type: add more key words to the tagging codes above (already added above)\n",
    "df_2018_main_0 = df_2018_main[df_2018_main['sum'] == 0]\n",
    "df_2018_main_0.groupby('dis_purpose').agg({'dis_purpose':'count','dis_amo':'sum'}).\\\n",
    "     rename(columns={'dis_purpose':'count','dis_amo':'$amount'}).sort_values(by=['count'],ascending=False).head()\n",
    "\n",
    "# Sum-4/5/6 type: delete them, they put two many disbursement categories under one items, we cannot allocate the $amount to specific uses\n",
    "df_2018_main_4 = df_2018_main[df_2018_main['sum'] == 4]\n",
    "df_2018_main_4.groupby('dis_purpose').agg({'dis_purpose':'count','dis_amo':'sum'}).\\\n",
    "     rename(columns={'dis_purpose':'count','dis_amo':'$amount'}).sort_values(by=['count'],ascending=False).head()\n",
    "\n",
    "df_2018_main_5 = df_2018_main[df_2018_main['sum'] == 5]\n",
    "df_2018_main_5.groupby('dis_purpose').agg({'dis_purpose':'count','dis_amo':'sum'}).\\\n",
    "     rename(columns={'dis_purpose':'count','dis_amo':'$amount'}).sort_values(by=['count'],ascending=False).head()\n",
    "\n",
    "df_2018_main_6 = df_2018_main[df_2018_main['sum'] == 6]\n",
    "df_2018_main_6.groupby('dis_purpose').agg({'dis_purpose':'count','dis_amo':'sum'}).\\\n",
    "     rename(columns={'dis_purpose':'count','dis_amo':'$amount'}).sort_values(by=['count'],ascending=False).head()"
   ]
  },
  {
   "cell_type": "code",
   "execution_count": 77,
   "metadata": {},
   "outputs": [],
   "source": [
    "# Delete unvalid entry records\n",
    "throwout0 = list(df_2018_main_0.dis_purpose)\n",
    "wholedata0 = list(df_2018_main.dis_purpose)\n",
    "rest0 = list(set(wholedata0)^set(throwout0))\n",
    "df_2018_main = df_2018_main[df_2018_main.dis_purpose.isin(rest0)]\n",
    "\n",
    "throwout4 = list(df_2018_main_4.dis_purpose)\n",
    "wholedata4 = list(df_2018_main.dis_purpose)\n",
    "rest4 = list(set(wholedata4)^set(throwout4))\n",
    "df_2018_main = df_2018_main[df_2018_main.dis_purpose.isin(rest4)]\n",
    "\n",
    "throwout5 = list(df_2018_main_5.dis_purpose)\n",
    "wholedata5 = list(df_2018_main.dis_purpose)\n",
    "rest5 = list(set(wholedata5)^set(throwout5))\n",
    "df_2018_main = df_2018_main[df_2018_main.dis_purpose.isin(rest5)]\n",
    "\n",
    "throwout6 = list(df_2018_main_6.dis_purpose)\n",
    "wholedata6 = list(df_2018_main.dis_purpose)\n",
    "rest6 = list(set(wholedata6)^set(throwout6))\n",
    "df_2018_main = df_2018_main[df_2018_main.dis_purpose.isin(rest6)]"
   ]
  },
  {
   "cell_type": "code",
   "execution_count": 78,
   "metadata": {},
   "outputs": [
    {
     "data": {
      "text/html": [
       "<div>\n",
       "<style scoped>\n",
       "    .dataframe tbody tr th:only-of-type {\n",
       "        vertical-align: middle;\n",
       "    }\n",
       "\n",
       "    .dataframe tbody tr th {\n",
       "        vertical-align: top;\n",
       "    }\n",
       "\n",
       "    .dataframe thead th {\n",
       "        text-align: right;\n",
       "    }\n",
       "</style>\n",
       "<table border=\"1\" class=\"dataframe\">\n",
       "  <thead>\n",
       "    <tr style=\"text-align: right;\">\n",
       "      <th></th>\n",
       "      <th>count</th>\n",
       "      <th>$amount</th>\n",
       "    </tr>\n",
       "    <tr>\n",
       "      <th>sum</th>\n",
       "      <th></th>\n",
       "      <th></th>\n",
       "    </tr>\n",
       "  </thead>\n",
       "  <tbody>\n",
       "    <tr>\n",
       "      <th>1</th>\n",
       "      <td>703639</td>\n",
       "      <td>2162680602.02</td>\n",
       "    </tr>\n",
       "    <tr>\n",
       "      <th>2</th>\n",
       "      <td>208284</td>\n",
       "      <td>437448303.73</td>\n",
       "    </tr>\n",
       "    <tr>\n",
       "      <th>3</th>\n",
       "      <td>14546</td>\n",
       "      <td>52721662.63</td>\n",
       "    </tr>\n",
       "  </tbody>\n",
       "</table>\n",
       "</div>"
      ],
      "text/plain": [
       "      count       $amount\n",
       "sum                      \n",
       "1    703639 2162680602.02\n",
       "2    208284  437448303.73\n",
       "3     14546   52721662.63"
      ]
     },
     "execution_count": 78,
     "metadata": {},
     "output_type": "execute_result"
    }
   ],
   "source": [
    "# Result check\n",
    "df_2018_main.groupby('sum').agg({'sum':'count','dis_amo':'sum'}).\\\n",
    "     rename(columns={'sum':'count','dis_amo':'$amount'}).sort_values(by=['count'],ascending=False)"
   ]
  },
  {
   "cell_type": "code",
   "execution_count": 79,
   "metadata": {},
   "outputs": [],
   "source": [
    "# Sum-3 type: manually retag the significant part and \n",
    "# delete the items with more than one purposes/insignificant $amount(less than 100k)/occurrance (less than 10)\n",
    "\n",
    "df_2018_main.loc[df_2018_main['dis_purpose'] == 'internet marketing', 'paycheck'] = 0\n",
    "df_2018_main.loc[df_2018_main['dis_purpose'] == 'internet marketing', 'operationcost'] = 0\n",
    "df_2018_main.loc[df_2018_main['dis_purpose'] == 'internet ads', 'paycheck'] = 0\n",
    "df_2018_main.loc[df_2018_main['dis_purpose'] == 'internet ads', 'operationcost'] = 0\n",
    "\n",
    "df_2018_main.loc[df_2018_main.dis_purpose.str.contains('internet advertising and services'), 'paycheck'] = 0\n",
    "df_2018_main.loc[df_2018_main.dis_purpose.str.contains('internet advertising and services'), 'operationcost'] = 0\n",
    "\n",
    "df_2018_main.loc[df_2018_main.dis_purpose.str.contains('consult'), 'networking'] = 0\n",
    "df_2018_main.loc[df_2018_main.dis_purpose.str.contains('consult'), 'paycheck'] = 0\n",
    "df_2018_main.loc[df_2018_main.dis_purpose.str.contains('consult'), 'eat'] = 0\n",
    "df_2018_main.loc[df_2018_main.dis_purpose.str.contains('consult'), 'finance'] = 0\n",
    "df_2018_main.loc[df_2018_main.dis_purpose.str.contains('consult'), 'advertising'] = 0\n",
    "df_2018_main.loc[df_2018_main.dis_purpose.str.contains('consult'), 'operationcost'] = 0\n",
    "df_2018_main.loc[df_2018_main.dis_purpose.str.contains('consult'), 'travel'] = 0\n",
    "\n",
    "df_2018_main.loc[df_2018_main.dis_purpose.str.contains('fundrais'), 'networking'] = 0\n",
    "df_2018_main.loc[df_2018_main.dis_purpose.str.contains('fundrais'), 'paycheck'] = 0\n",
    "df_2018_main.loc[df_2018_main.dis_purpose.str.contains('fundrais'), 'eat'] = 0\n",
    "df_2018_main.loc[df_2018_main.dis_purpose.str.contains('fundrais'), 'brain'] = 0\n",
    "df_2018_main.loc[df_2018_main.dis_purpose.str.contains('fundrais'), 'advertising'] = 0\n",
    "df_2018_main.loc[df_2018_main.dis_purpose.str.contains('fundrais'), 'operationcost'] = 0\n",
    "df_2018_main.loc[df_2018_main.dis_purpose.str.contains('fundrais'), 'travel'] = 0\n",
    "\n",
    "df_2018_main.loc[df_2018_main.dis_purpose.str.contains('processing'), 'networking'] = 0\n",
    "df_2018_main.loc[df_2018_main.dis_purpose.str.contains('processing'), 'paycheck'] = 0\n",
    "df_2018_main.loc[df_2018_main.dis_purpose.str.contains('processing'), 'eat'] = 0\n",
    "df_2018_main.loc[df_2018_main.dis_purpose.str.contains('processing'), 'brain'] = 0\n",
    "df_2018_main.loc[df_2018_main.dis_purpose.str.contains('processing'), 'advertising'] = 0\n",
    "df_2018_main.loc[df_2018_main.dis_purpose.str.contains('processing'), 'finance'] = 0\n",
    "df_2018_main.loc[df_2018_main.dis_purpose.str.contains('processing'), 'travel'] = 0\n",
    "\n",
    "df_2018_main.loc[df_2018_main.dis_purpose.str.contains('advertis'), 'networking'] = 0\n",
    "df_2018_main.loc[df_2018_main.dis_purpose.str.contains('advertis'), 'paycheck'] = 0\n",
    "df_2018_main.loc[df_2018_main.dis_purpose.str.contains('advertis'), 'eat'] = 0\n",
    "df_2018_main.loc[df_2018_main.dis_purpose.str.contains('advertis'), 'brain'] = 0\n",
    "df_2018_main.loc[df_2018_main.dis_purpose.str.contains('advertis'), 'operationcost'] = 0\n",
    "df_2018_main.loc[df_2018_main.dis_purpose.str.contains('advertis'), 'finance'] = 0\n",
    "df_2018_main.loc[df_2018_main.dis_purpose.str.contains('advertis'), 'travel'] = 0\n",
    "\n",
    "df_2018_main.loc[df_2018_main.dis_purpose.str.contains('internet consulting'), 'paycheck'] = 0\n",
    "df_2018_main.loc[df_2018_main.dis_purpose.str.contains('internet consulting'), 'brain'] = 0\n",
    "\n",
    "df_2018_main.loc[df_2018_main.dis_purpose.str.contains('per diem petition carrier'), 'paycheck'] = 0\n",
    "df_2018_main.loc[df_2018_main.dis_purpose.str.contains('per diem petition carrier'), 'travel'] = 0\n",
    "\n",
    "df_2018_main.loc[df_2018_main.dis_purpose.str.contains('administrative/salary/overhead expenses'), 'paycheck'] = 0\n",
    "df_2018_main.loc[df_2018_main.dis_purpose.str.contains('administrative/salary/overhead expenses'), 'advertising'] = 0\n",
    "\n",
    "df_2018_main.loc[df_2018_main.dis_purpose.str.contains('online contribution fees'), 'networking'] = 0\n",
    "df_2018_main.loc[df_2018_main.dis_purpose.str.contains('online contribution fees'), 'advertising'] = 0\n",
    "\n",
    "df_2018_main.loc[df_2018_main.dis_purpose.str.contains('digital consulting/web service'), 'brain'] = 0\n",
    "df_2018_main.loc[df_2018_main.dis_purpose.str.contains('digital consulting/web service'), 'advertising'] = 0\n",
    "\n",
    "df_2018_main.loc[df_2018_main.dis_purpose.str.contains('food for fundraiser'), 'paycheck'] = 0 ##\n",
    "\n",
    "df_2018_main.loc[df_2018_main.dis_purpose.str.contains('food & beverage'), 'networking'] = 0 ##\n",
    "df_2018_main.loc[df_2018_main.dis_purpose.str.contains('food & beverage'), 'operationcost'] = 0\n",
    "\n",
    "df_2018_main.loc[df_2018_main.dis_purpose.str.contains('event meal expense'), 'networking'] = 0\n",
    "df_2018_main.loc[df_2018_main.dis_purpose.str.contains('event meal expense'), 'operationcost'] = 0\n",
    "\n",
    "df_2018_main.loc[df_2018_main.dis_purpose.str.contains('cable/internet'), 'paycheck'] = 0\n",
    "df_2018_main.loc[df_2018_main.dis_purpose.str.contains('cable/internet'), 'travel'] = 0\n",
    "df_2018_main.loc[df_2018_main.dis_purpose.str.contains('internet/cable'), 'paycheck'] = 0\n",
    "df_2018_main.loc[df_2018_main.dis_purpose.str.contains('internet/cable'), 'travel'] = 0\n",
    "\n",
    "df_2018_main.loc[df_2018_main.dis_purpose.str.contains('online /credit card payment fees'), 'travel'] = 0\n",
    "df_2018_main.loc[df_2018_main.dis_purpose.str.contains('online /credit card payment fees'), 'advertising'] = 0\n",
    "\n",
    "df_2018_main.loc[df_2018_main.dis_purpose.str.contains('payroll administration fees'), 'operationcost'] = 0\n",
    "df_2018_main.loc[df_2018_main.dis_purpose.str.contains('payroll administration fees'), 'advertising'] = 0\n",
    "\n",
    "df_2018_main.loc[df_2018_main.dis_purpose.str.contains('salary/fee - administrative support'), 'operationcost'] = 0\n",
    "df_2018_main.loc[df_2018_main.dis_purpose.str.contains('salary/fee - administrative support'), 'advertising'] = 0\n",
    "\n",
    "df_2018_main.loc[df_2018_main.dis_purpose.str.contains('staff expenses: campaign management'), 'operationcost'] = 0\n",
    "df_2018_main.loc[df_2018_main.dis_purpose.str.contains('staff expenses: campaign management'), 'paycheck'] = 0\n",
    "\n",
    "df_2018_main.loc[df_2018_main.dis_purpose.str.contains('travel expenses - airline tickets'), 'networking'] = 0\n",
    "df_2018_main.loc[df_2018_main.dis_purpose.str.contains('travel expenses - airline tickets'), 'operationcost'] = 0\n",
    "\n",
    "df_2018_main.loc[df_2018_main.dis_purpose.str.contains('voter database software'), 'networking'] = 0\n",
    "df_2018_main.loc[df_2018_main.dis_purpose.str.contains('voter database software'), 'brain'] = 0\n",
    "\n",
    "df_2018_main['sum']=df_2018_main.networking+df_2018_main.paycheck+df_2018_main.eat+df_2018_main.brain\\\n",
    "                    +df_2018_main.advertising+df_2018_main.operationcost+df_2018_main.travel+df_2018_main.finance"
   ]
  },
  {
   "cell_type": "code",
   "execution_count": 80,
   "metadata": {},
   "outputs": [
    {
     "data": {
      "text/html": [
       "<div>\n",
       "<style scoped>\n",
       "    .dataframe tbody tr th:only-of-type {\n",
       "        vertical-align: middle;\n",
       "    }\n",
       "\n",
       "    .dataframe tbody tr th {\n",
       "        vertical-align: top;\n",
       "    }\n",
       "\n",
       "    .dataframe thead th {\n",
       "        text-align: right;\n",
       "    }\n",
       "</style>\n",
       "<table border=\"1\" class=\"dataframe\">\n",
       "  <thead>\n",
       "    <tr style=\"text-align: right;\">\n",
       "      <th></th>\n",
       "      <th>count</th>\n",
       "      <th>$amount</th>\n",
       "    </tr>\n",
       "    <tr>\n",
       "      <th>dis_purpose</th>\n",
       "      <th></th>\n",
       "      <th></th>\n",
       "    </tr>\n",
       "  </thead>\n",
       "  <tbody>\n",
       "  </tbody>\n",
       "</table>\n",
       "</div>"
      ],
      "text/plain": [
       "Empty DataFrame\n",
       "Columns: [count, $amount]\n",
       "Index: []"
      ]
     },
     "execution_count": 80,
     "metadata": {},
     "output_type": "execute_result"
    }
   ],
   "source": [
    "# Result check\n",
    "df_2018_main_3 = df_2018_main[df_2018_main['sum'] == 3]\n",
    "df_2018_main_3_filter=df_2018_main_3.groupby('dis_purpose').agg({'dis_purpose':'count','dis_amo':'sum'}).\\\n",
    "     rename(columns={'dis_purpose':'count','dis_amo':'$amount'})\n",
    "df_2018_main_3_filter[(df_2018_main_3_filter['$amount']>100000)&(df_2018_main_3_filter['count']>10)]"
   ]
  },
  {
   "cell_type": "code",
   "execution_count": 81,
   "metadata": {},
   "outputs": [
    {
     "data": {
      "text/plain": [
       "923417"
      ]
     },
     "execution_count": 81,
     "metadata": {},
     "output_type": "execute_result"
    }
   ],
   "source": [
    "# Delete trivial data\n",
    "throwout3 = list(df_2018_main_3.dis_purpose)\n",
    "wholedata3 = list(df_2018_main.dis_purpose)\n",
    "rest3 = list(set(wholedata3)^set(throwout3))\n",
    "df_2018_main = df_2018_main[df_2018_main.dis_purpose.isin(rest3)]\n",
    "len(df_2018_main)#left rows out of 973,158"
   ]
  },
  {
   "cell_type": "code",
   "execution_count": 82,
   "metadata": {},
   "outputs": [],
   "source": [
    "# Sum-2 type: manually retag the significant part and \n",
    "# delete the items with more than one purposes/insignificant $amount(less than 100k)/occurrance (less than 10)\n",
    "\n",
    "df_2018_main.loc[df_2018_main.dis_purpose.str.contains('accounting'), 'advertising'] = 0\n",
    "df_2018_main.loc[df_2018_main.dis_purpose.str.contains('accounting'), 'brain'] = 0\n",
    "df_2018_main.loc[df_2018_main.dis_purpose.str.contains('accounting'), 'networking'] = 0\n",
    "df_2018_main.loc[df_2018_main.dis_purpose.str.contains('accounting'), 'paycheck'] = 0\n",
    "df_2018_main.loc[df_2018_main.dis_purpose.str.contains('accounting'), 'eat'] = 0\n",
    "df_2018_main.loc[df_2018_main.dis_purpose.str.contains('accounting'), 'finance'] = 0\n",
    "df_2018_main.loc[df_2018_main.dis_purpose.str.contains('accounting'), 'travel'] = 0\n",
    "df_2018_main.loc[df_2018_main.dis_purpose.str.contains('ad expense'), 'operationcost'] = 0\n",
    "df_2018_main.loc[df_2018_main.dis_purpose.str.contains('001 administrative/salary/overhead'), 'paycheck'] = 0\n",
    "df_2018_main.loc[df_2018_main.dis_purpose.str.contains('admin/office expense reimbursement'), 'advertising'] = 0\n",
    "df_2018_main.loc[df_2018_main.dis_purpose.str.contains('payroll'), 'operationcost'] = 0\n",
    "df_2018_main.loc[df_2018_main.dis_purpose.str.contains('credit card fee'), 'operationcost'] = 0\n",
    "df_2018_main.loc[df_2018_main.dis_purpose.str.contains('direct mail'), 'operationcost'] = 0\n",
    "df_2018_main.loc[df_2018_main.dis_purpose.str.contains('travel expense'), 'operationcost'] = 0\n",
    "df_2018_main.loc[df_2018_main.dis_purpose.str.contains('travel'), 'paycheck'] = 0\n",
    "df_2018_main.loc[df_2018_main.dis_purpose.str.contains('event'), 'operationcost'] = 0\n",
    "df_2018_main.loc[df_2018_main.dis_purpose.str.contains('event'), 'eat'] = 0\n",
    "df_2018_main.loc[df_2018_main.dis_purpose.str.contains('credit card merchant fee'), 'travel'] = 0\n",
    "df_2018_main.loc[df_2018_main.dis_purpose.str.contains('media expense'), 'operationcost'] = 0\n",
    "df_2018_main.loc[df_2018_main.dis_purpose.str.contains('polling expense'), 'operationcost'] = 0\n",
    "df_2018_main.loc[df_2018_main.dis_purpose.str.contains('printing & design services'), 'advertising'] = 0\n",
    "df_2018_main.loc[df_2018_main.dis_purpose.str.contains('cable tv ad'), 'travel'] = 0\n",
    "df_2018_main.loc[df_2018_main.dis_purpose.str.contains('catering/meals'), 'networking'] = 0\n",
    "df_2018_main.loc[df_2018_main.dis_purpose.str.contains('catering'), 'operationcost'] = 0\n",
    "df_2018_main.loc[df_2018_main.dis_purpose.str.contains('voter survey'), 'networking'] = 0\n",
    "df_2018_main.loc[df_2018_main.dis_purpose.str.contains('web ads'), 'operationcost'] = 0\n",
    "df_2018_main.loc[df_2018_main.dis_purpose.str.contains('web design'), 'advertising'] = 0\n",
    "df_2018_main.loc[df_2018_main.dis_purpose.str.contains('graphic design'), 'advertising'] = 0\n",
    "df_2018_main.loc[df_2018_main.dis_purpose.str.contains('design services'), 'advertising'] = 0\n",
    "df_2018_main.loc[df_2018_main.dis_purpose.str.contains('car rental'), 'operationcost'] = 0\n",
    "df_2018_main.loc[df_2018_main.dis_purpose.str.contains('rental car'), 'operationcost'] = 0\n",
    "df_2018_main.loc[df_2018_main.dis_purpose.str.contains('media production'), 'operationcost'] = 0\n",
    "df_2018_main.loc[df_2018_main.dis_purpose.str.contains('campaign management fee'), 'operationcost'] = 0\n",
    "df_2018_main.loc[df_2018_main.dis_purpose.str.contains('media strategy'), 'brain'] = 0\n",
    "df_2018_main.loc[df_2018_main.dis_purpose.str.contains('campaign marketing strategy services'), 'brain'] = 0\n",
    "df_2018_main.loc[df_2018_main.dis_purpose.str.contains('voter data'), 'networking'] = 0\n",
    "df_2018_main.loc[df_2018_main.dis_purpose.str.contains('print ad'), 'operationcost'] = 0\n",
    "df_2018_main.loc[df_2018_main.dis_purpose.str.contains('office - net salary'), 'operationcost'] = 0\n",
    "df_2018_main.loc[df_2018_main.dis_purpose.str.contains('contribution made'), 'advertising'] = 0\n",
    "df_2018_main.loc[df_2018_main.dis_purpose.str.contains('design & printing services'), 'advertising'] = 0\n",
    "df_2018_main.loc[df_2018_main.dis_purpose.str.contains('digital media fee'), 'operationcost'] = 0\n",
    "df_2018_main.loc[df_2018_main.dis_purpose.str.contains('internet service'), 'paycheck'] = 0\n",
    "df_2018_main.loc[df_2018_main.dis_purpose.str.contains('candidate and staff travel'), 'paycheck'] = 0\n",
    "df_2018_main.loc[df_2018_main.dis_purpose.str.contains('data subscription'), 'operationcost'] = 0\n",
    "df_2018_main.loc[df_2018_main.dis_purpose.str.contains('meal expense'), 'operationcost'] = 0\n",
    "df_2018_main.loc[df_2018_main.dis_purpose.str.contains('campaign food and beverage expense'), 'operationcost'] = 0\n",
    "df_2018_main.loc[df_2018_main.dis_purpose.str.contains('internet'), 'paycheck'] = 0\n",
    "df_2018_main.loc[df_2018_main.dis_purpose.str.contains('petition signature collection'), 'advertising'] = 0\n",
    "df_2018_main.loc[df_2018_main.dis_purpose.str.contains('website hosting - digital images'), 'advertising'] = 0\n",
    "df_2018_main.loc[df_2018_main.dis_purpose.str.contains('adp wage pay'), 'advertising'] = 0\n",
    "df_2018_main.loc[df_2018_main.dis_purpose.str.contains('database'), 'brain'] = 0\n",
    "df_2018_main.loc[df_2018_main.dis_purpose.str.contains('credit card debt'), 'travel'] = 0\n",
    "df_2018_main.loc[df_2018_main.dis_purpose.str.contains('workers compensation insurance'), 'operationcost'] = 0\n",
    "df_2018_main.loc[df_2018_main.dis_purpose.str.contains('lodging expense'), 'operationcost'] = 0\n",
    "df_2018_main.loc[df_2018_main.dis_purpose.str.contains('gross wages. payment made through idm payroll solutions, 1910 olympic blvd, suite 235, walnut creek,'), 'advertising'] = 0\n",
    "df_2018_main.loc[df_2018_main.dis_purpose.str.contains('office - net wages'), 'operationcost'] = 0\n",
    "df_2018_main.loc[df_2018_main.dis_purpose.str.contains('cartridges'), 'travel'] = 0\n",
    "df_2018_main.loc[df_2018_main.dis_purpose.str.contains('cartridges'), 'operationcost'] = 1\n",
    "df_2018_main.loc[df_2018_main.dis_purpose.str.contains('credit card payment'), 'travel'] = 0\n",
    "df_2018_main.loc[df_2018_main.dis_purpose.str.contains('credit card payment'), 'finance'] = 1\n",
    "df_2018_main.loc[df_2018_main.dis_purpose.str.contains('card print'), 'travel'] = 0\n",
    "df_2018_main.loc[df_2018_main.dis_purpose.str.contains('print card'), 'travel'] = 0\n",
    "df_2018_main.loc[df_2018_main.dis_purpose.str.contains('card print'), 'advertising'] = 0\n",
    "df_2018_main.loc[df_2018_main.dis_purpose.str.contains('website design'), 'advertising'] = 0\n",
    "df_2018_main.loc[df_2018_main.dis_purpose.str.contains('salary'), 'operationcost'] = 0\n",
    "df_2018_main.loc[df_2018_main.dis_purpose.str.contains('web service/media'), 'operationcost'] = 0\n",
    "df_2018_main.loc[df_2018_main.dis_purpose.str.contains('collateral materials- signs'), 'operationcost'] = 0\n",
    "df_2018_main.loc[df_2018_main.dis_purpose.str.contains('staff lodging'), 'paycheck'] = 0\n",
    "df_2018_main['sum']=df_2018_main.networking+df_2018_main.paycheck+df_2018_main.eat+df_2018_main.brain\\\n",
    "                    +df_2018_main.advertising+df_2018_main.operationcost+df_2018_main.travel+df_2018_main.finance"
   ]
  },
  {
   "cell_type": "code",
   "execution_count": 83,
   "metadata": {
    "scrolled": true
   },
   "outputs": [
    {
     "data": {
      "text/html": [
       "<div>\n",
       "<style scoped>\n",
       "    .dataframe tbody tr th:only-of-type {\n",
       "        vertical-align: middle;\n",
       "    }\n",
       "\n",
       "    .dataframe tbody tr th {\n",
       "        vertical-align: top;\n",
       "    }\n",
       "\n",
       "    .dataframe thead th {\n",
       "        text-align: right;\n",
       "    }\n",
       "</style>\n",
       "<table border=\"1\" class=\"dataframe\">\n",
       "  <thead>\n",
       "    <tr style=\"text-align: right;\">\n",
       "      <th></th>\n",
       "      <th>count</th>\n",
       "      <th>$amount</th>\n",
       "    </tr>\n",
       "    <tr>\n",
       "      <th>dis_purpose</th>\n",
       "      <th></th>\n",
       "      <th></th>\n",
       "    </tr>\n",
       "  </thead>\n",
       "  <tbody>\n",
       "    <tr>\n",
       "      <th>federal contribution - 30114(a)(4) transfer</th>\n",
       "      <td>17</td>\n",
       "      <td>557500.00</td>\n",
       "    </tr>\n",
       "  </tbody>\n",
       "</table>\n",
       "</div>"
      ],
      "text/plain": [
       "                                             count   $amount\n",
       "dis_purpose                                                 \n",
       "federal contribution - 30114(a)(4) transfer     17 557500.00"
      ]
     },
     "execution_count": 83,
     "metadata": {},
     "output_type": "execute_result"
    },
    {
     "data": {
      "text/html": [
       "<div>\n",
       "<style scoped>\n",
       "    .dataframe tbody tr th:only-of-type {\n",
       "        vertical-align: middle;\n",
       "    }\n",
       "\n",
       "    .dataframe tbody tr th {\n",
       "        vertical-align: top;\n",
       "    }\n",
       "\n",
       "    .dataframe thead th {\n",
       "        text-align: right;\n",
       "    }\n",
       "</style>\n",
       "<table border=\"1\" class=\"dataframe\">\n",
       "  <thead>\n",
       "    <tr style=\"text-align: right;\">\n",
       "      <th></th>\n",
       "      <th>count</th>\n",
       "      <th>$amount</th>\n",
       "    </tr>\n",
       "    <tr>\n",
       "      <th>sum</th>\n",
       "      <th></th>\n",
       "      <th></th>\n",
       "    </tr>\n",
       "  </thead>\n",
       "  <tbody>\n",
       "    <tr>\n",
       "      <th>1</th>\n",
       "      <td>869580</td>\n",
       "      <td>2457305264.28</td>\n",
       "    </tr>\n",
       "    <tr>\n",
       "      <th>2</th>\n",
       "      <td>28695</td>\n",
       "      <td>75681310.43</td>\n",
       "    </tr>\n",
       "    <tr>\n",
       "      <th>0</th>\n",
       "      <td>25142</td>\n",
       "      <td>114548869.03</td>\n",
       "    </tr>\n",
       "  </tbody>\n",
       "</table>\n",
       "</div>"
      ],
      "text/plain": [
       "      count       $amount\n",
       "sum                      \n",
       "1    869580 2457305264.28\n",
       "2     28695   75681310.43\n",
       "0     25142  114548869.03"
      ]
     },
     "execution_count": 83,
     "metadata": {},
     "output_type": "execute_result"
    }
   ],
   "source": [
    "# Result check\n",
    "df_2018_main_2 = df_2018_main[df_2018_main['sum'] == 2]\n",
    "df_2018_main_2_filter = df_2018_main_2.groupby('dis_purpose').agg({'dis_purpose':'count','dis_amo':'sum'}).\\\n",
    "     rename(columns={'dis_purpose':'count','dis_amo':'$amount'})\n",
    "df_2018_main_2_filter[(df_2018_main_2_filter['$amount']>100000) & (df_2018_main_2_filter['count']>10)].\\\n",
    "sort_values(by='$amount', ascending=False) #unidentifiable items-delete\n",
    "\n",
    "df_2018_main.groupby('sum').agg({'sum':'count','dis_amo':'sum'}).\\\n",
    "     rename(columns={'sum':'count','dis_amo':'$amount'}).sort_values(by=['count'],ascending=False)"
   ]
  },
  {
   "cell_type": "code",
   "execution_count": 84,
   "metadata": {},
   "outputs": [],
   "source": [
    "# Re-adjustment\n",
    "df_2018_main.loc[df_2018_main.dis_purpose.str.contains('fundrais'),'finance'] = 1\n",
    "df_2018_main.loc[df_2018_main.dis_purpose.str.contains('processing'),'finance'] = 1\n",
    "df_2018_main.loc[df_2018_main.dis_purpose.str.contains('database software'),'brain'] = 0\n",
    "df_2018_main.loc[df_2018_main.dis_purpose.str.contains('database'),'operationcost'] = 1\n",
    "df_2018_main.loc[df_2018_main.dis_purpose.str.contains('database software'),'operationcost'] = 1\n",
    "df_2018_main.loc[df_2018_main.dis_purpose.str.contains('database services'),'operationcost'] = 1\n",
    "df_2018_main.loc[df_2018_main.dis_purpose.str.contains('consulting'),'brain'] = 1\n",
    "df_2018_main.loc[df_2018_main.dis_purpose.str.contains('advertising'),'advertising'] = 1\n",
    "df_2018_main.loc[df_2018_main.dis_purpose.str.contains('event expense'),'networking'] = 1\n",
    "\n",
    "df_2018_main['sum']=df_2018_main.networking+df_2018_main.paycheck+df_2018_main.eat+df_2018_main.brain\\\n",
    "                    +df_2018_main.advertising+df_2018_main.operationcost+df_2018_main.travel+df_2018_main.finance"
   ]
  },
  {
   "cell_type": "code",
   "execution_count": 85,
   "metadata": {},
   "outputs": [
    {
     "data": {
      "text/html": [
       "<div>\n",
       "<style scoped>\n",
       "    .dataframe tbody tr th:only-of-type {\n",
       "        vertical-align: middle;\n",
       "    }\n",
       "\n",
       "    .dataframe tbody tr th {\n",
       "        vertical-align: top;\n",
       "    }\n",
       "\n",
       "    .dataframe thead th {\n",
       "        text-align: right;\n",
       "    }\n",
       "</style>\n",
       "<table border=\"1\" class=\"dataframe\">\n",
       "  <thead>\n",
       "    <tr style=\"text-align: right;\">\n",
       "      <th></th>\n",
       "      <th>count</th>\n",
       "      <th>$amount</th>\n",
       "    </tr>\n",
       "    <tr>\n",
       "      <th>sum</th>\n",
       "      <th></th>\n",
       "      <th></th>\n",
       "    </tr>\n",
       "  </thead>\n",
       "  <tbody>\n",
       "    <tr>\n",
       "      <th>1</th>\n",
       "      <td>810443</td>\n",
       "      <td>2452476686.84</td>\n",
       "    </tr>\n",
       "    <tr>\n",
       "      <th>2</th>\n",
       "      <td>112509</td>\n",
       "      <td>193826704.71</td>\n",
       "    </tr>\n",
       "    <tr>\n",
       "      <th>0</th>\n",
       "      <td>462</td>\n",
       "      <td>490993.80</td>\n",
       "    </tr>\n",
       "    <tr>\n",
       "      <th>3</th>\n",
       "      <td>3</td>\n",
       "      <td>741058.39</td>\n",
       "    </tr>\n",
       "  </tbody>\n",
       "</table>\n",
       "</div>"
      ],
      "text/plain": [
       "      count       $amount\n",
       "sum                      \n",
       "1    810443 2452476686.84\n",
       "2    112509  193826704.71\n",
       "0       462     490993.80\n",
       "3         3     741058.39"
      ]
     },
     "execution_count": 85,
     "metadata": {},
     "output_type": "execute_result"
    }
   ],
   "source": [
    "# Result check\n",
    "df_2018_main.groupby('sum').agg({'sum':'count','dis_amo':'sum'}).\\\n",
    "     rename(columns={'sum':'count','dis_amo':'$amount'}).sort_values(by=['count'],ascending=False)"
   ]
  },
  {
   "cell_type": "code",
   "execution_count": 86,
   "metadata": {},
   "outputs": [
    {
     "data": {
      "text/html": [
       "<div>\n",
       "<style scoped>\n",
       "    .dataframe tbody tr th:only-of-type {\n",
       "        vertical-align: middle;\n",
       "    }\n",
       "\n",
       "    .dataframe tbody tr th {\n",
       "        vertical-align: top;\n",
       "    }\n",
       "\n",
       "    .dataframe thead th {\n",
       "        text-align: right;\n",
       "    }\n",
       "</style>\n",
       "<table border=\"1\" class=\"dataframe\">\n",
       "  <thead>\n",
       "    <tr style=\"text-align: right;\">\n",
       "      <th></th>\n",
       "      <th>count</th>\n",
       "      <th>$amount</th>\n",
       "    </tr>\n",
       "    <tr>\n",
       "      <th>dis_purpose</th>\n",
       "      <th></th>\n",
       "      <th></th>\n",
       "    </tr>\n",
       "  </thead>\n",
       "  <tbody>\n",
       "    <tr>\n",
       "      <th>federal contribution - 30114(a)(4) transfer</th>\n",
       "      <td>17</td>\n",
       "      <td>557500.00</td>\n",
       "    </tr>\n",
       "  </tbody>\n",
       "</table>\n",
       "</div>"
      ],
      "text/plain": [
       "                                             count   $amount\n",
       "dis_purpose                                                 \n",
       "federal contribution - 30114(a)(4) transfer     17 557500.00"
      ]
     },
     "execution_count": 86,
     "metadata": {},
     "output_type": "execute_result"
    }
   ],
   "source": [
    "df_2018_main_2_filter = df_2018_main_2.groupby('dis_purpose').agg({'dis_purpose':'count','dis_amo':'sum'}).\\\n",
    "     rename(columns={'dis_purpose':'count','dis_amo':'$amount'})\n",
    "df_2018_main_2_filter[(df_2018_main_2_filter['$amount']>100000) & (df_2018_main_2_filter['count']>10)].\\\n",
    "sort_values(by='$amount', ascending=False)"
   ]
  },
  {
   "cell_type": "code",
   "execution_count": 87,
   "metadata": {},
   "outputs": [],
   "source": [
    "# Delete trivial data\n",
    "df_2018_main_7 = df_2018_main[df_2018_main['sum'] == 2]\n",
    "throwout7 = list(df_2018_main_7.dis_purpose)\n",
    "wholedata7 = list(df_2018_main.dis_purpose)\n",
    "rest7 = list(set(wholedata7)^set(throwout7))\n",
    "df_2018_main = df_2018_main[df_2018_main.dis_purpose.isin(rest7)]\n",
    "\n",
    "df_2018_main_8 = df_2018_main[df_2018_main['sum'] == 0]\n",
    "throwout8 = list(df_2018_main_8.dis_purpose)\n",
    "wholedata8 = list(df_2018_main.dis_purpose)\n",
    "rest8 = list(set(wholedata8)^set(throwout8))\n",
    "df_2018_main = df_2018_main[df_2018_main.dis_purpose.isin(rest8)]\n",
    "\n",
    "df_2018_main_9 = df_2018_main[df_2018_main['sum'] == 3]\n",
    "throwout9= list(df_2018_main_9.dis_purpose)\n",
    "wholedata9 = list(df_2018_main.dis_purpose)\n",
    "rest9 = list(set(wholedata9)^set(throwout9))\n",
    "df_2018_main = df_2018_main[df_2018_main.dis_purpose.isin(rest9)]"
   ]
  },
  {
   "cell_type": "markdown",
   "metadata": {},
   "source": [
    "## <center><li>Final Dataset for Analysis"
   ]
  },
  {
   "cell_type": "code",
   "execution_count": 88,
   "metadata": {},
   "outputs": [
    {
     "data": {
      "text/html": [
       "<div>\n",
       "<style scoped>\n",
       "    .dataframe tbody tr th:only-of-type {\n",
       "        vertical-align: middle;\n",
       "    }\n",
       "\n",
       "    .dataframe tbody tr th {\n",
       "        vertical-align: top;\n",
       "    }\n",
       "\n",
       "    .dataframe thead th {\n",
       "        text-align: right;\n",
       "    }\n",
       "</style>\n",
       "<table border=\"1\" class=\"dataframe\">\n",
       "  <thead>\n",
       "    <tr style=\"text-align: right;\">\n",
       "      <th></th>\n",
       "      <th>count</th>\n",
       "      <th>$amount</th>\n",
       "    </tr>\n",
       "    <tr>\n",
       "      <th>sum</th>\n",
       "      <th></th>\n",
       "      <th></th>\n",
       "    </tr>\n",
       "  </thead>\n",
       "  <tbody>\n",
       "    <tr>\n",
       "      <th>1</th>\n",
       "      <td>810443</td>\n",
       "      <td>2452476686.84</td>\n",
       "    </tr>\n",
       "  </tbody>\n",
       "</table>\n",
       "</div>"
      ],
      "text/plain": [
       "      count       $amount\n",
       "sum                      \n",
       "1    810443 2452476686.84"
      ]
     },
     "execution_count": 88,
     "metadata": {},
     "output_type": "execute_result"
    },
    {
     "data": {
      "text/html": [
       "<div>\n",
       "<style scoped>\n",
       "    .dataframe tbody tr th:only-of-type {\n",
       "        vertical-align: middle;\n",
       "    }\n",
       "\n",
       "    .dataframe tbody tr th {\n",
       "        vertical-align: top;\n",
       "    }\n",
       "\n",
       "    .dataframe thead th {\n",
       "        text-align: right;\n",
       "    }\n",
       "</style>\n",
       "<table border=\"1\" class=\"dataframe\">\n",
       "  <thead>\n",
       "    <tr style=\"text-align: right;\">\n",
       "      <th></th>\n",
       "      <th>can_nam</th>\n",
       "      <th>can_off</th>\n",
       "      <th>can_off_sta</th>\n",
       "      <th>dis_pur_des</th>\n",
       "      <th>cat_des</th>\n",
       "      <th>dis_amo</th>\n",
       "      <th>win</th>\n",
       "      <th>dis_purpose</th>\n",
       "      <th>networking</th>\n",
       "      <th>paycheck</th>\n",
       "      <th>eat</th>\n",
       "      <th>brain</th>\n",
       "      <th>advertising</th>\n",
       "      <th>operationcost</th>\n",
       "      <th>travel</th>\n",
       "      <th>finance</th>\n",
       "      <th>sum</th>\n",
       "    </tr>\n",
       "  </thead>\n",
       "  <tbody>\n",
       "    <tr>\n",
       "      <th>0</th>\n",
       "      <td>YOUNG-DONALD-E</td>\n",
       "      <td>H</td>\n",
       "      <td>AK</td>\n",
       "      <td>OFFICE JANITORIAL SERVICES</td>\n",
       "      <td>Unknown</td>\n",
       "      <td>300.00</td>\n",
       "      <td>1</td>\n",
       "      <td>office janitorial services</td>\n",
       "      <td>0</td>\n",
       "      <td>0</td>\n",
       "      <td>0</td>\n",
       "      <td>0</td>\n",
       "      <td>0</td>\n",
       "      <td>1</td>\n",
       "      <td>0</td>\n",
       "      <td>0</td>\n",
       "      <td>1</td>\n",
       "    </tr>\n",
       "    <tr>\n",
       "      <th>1</th>\n",
       "      <td>YOUNG-DONALD-E</td>\n",
       "      <td>H</td>\n",
       "      <td>AK</td>\n",
       "      <td>PAYROLL TAXES</td>\n",
       "      <td>Unknown</td>\n",
       "      <td>3414.98</td>\n",
       "      <td>1</td>\n",
       "      <td>payroll taxes</td>\n",
       "      <td>0</td>\n",
       "      <td>1</td>\n",
       "      <td>0</td>\n",
       "      <td>0</td>\n",
       "      <td>0</td>\n",
       "      <td>0</td>\n",
       "      <td>0</td>\n",
       "      <td>0</td>\n",
       "      <td>1</td>\n",
       "    </tr>\n",
       "    <tr>\n",
       "      <th>2</th>\n",
       "      <td>YOUNG-DONALD-E</td>\n",
       "      <td>H</td>\n",
       "      <td>AK</td>\n",
       "      <td>BANK CHARGE</td>\n",
       "      <td>Unknown</td>\n",
       "      <td>2.00</td>\n",
       "      <td>1</td>\n",
       "      <td>bank charge</td>\n",
       "      <td>0</td>\n",
       "      <td>0</td>\n",
       "      <td>0</td>\n",
       "      <td>0</td>\n",
       "      <td>0</td>\n",
       "      <td>1</td>\n",
       "      <td>0</td>\n",
       "      <td>0</td>\n",
       "      <td>1</td>\n",
       "    </tr>\n",
       "    <tr>\n",
       "      <th>3</th>\n",
       "      <td>YOUNG-DONALD-E</td>\n",
       "      <td>H</td>\n",
       "      <td>AK</td>\n",
       "      <td>SIGN INSTALLATION</td>\n",
       "      <td>Unknown</td>\n",
       "      <td>7000.00</td>\n",
       "      <td>1</td>\n",
       "      <td>sign installation</td>\n",
       "      <td>0</td>\n",
       "      <td>0</td>\n",
       "      <td>0</td>\n",
       "      <td>0</td>\n",
       "      <td>1</td>\n",
       "      <td>0</td>\n",
       "      <td>0</td>\n",
       "      <td>0</td>\n",
       "      <td>1</td>\n",
       "    </tr>\n",
       "    <tr>\n",
       "      <th>4</th>\n",
       "      <td>YOUNG-DONALD-E</td>\n",
       "      <td>H</td>\n",
       "      <td>AK</td>\n",
       "      <td>MAILING POSTAGE</td>\n",
       "      <td>Unknown</td>\n",
       "      <td>1394.47</td>\n",
       "      <td>1</td>\n",
       "      <td>mailing postage</td>\n",
       "      <td>0</td>\n",
       "      <td>0</td>\n",
       "      <td>0</td>\n",
       "      <td>0</td>\n",
       "      <td>0</td>\n",
       "      <td>1</td>\n",
       "      <td>0</td>\n",
       "      <td>0</td>\n",
       "      <td>1</td>\n",
       "    </tr>\n",
       "  </tbody>\n",
       "</table>\n",
       "</div>"
      ],
      "text/plain": [
       "          can_nam can_off can_off_sta                 dis_pur_des  cat_des  \\\n",
       "0  YOUNG-DONALD-E       H          AK  OFFICE JANITORIAL SERVICES  Unknown   \n",
       "1  YOUNG-DONALD-E       H          AK               PAYROLL TAXES  Unknown   \n",
       "2  YOUNG-DONALD-E       H          AK                 BANK CHARGE  Unknown   \n",
       "3  YOUNG-DONALD-E       H          AK           SIGN INSTALLATION  Unknown   \n",
       "4  YOUNG-DONALD-E       H          AK             MAILING POSTAGE  Unknown   \n",
       "\n",
       "   dis_amo  win                 dis_purpose  networking  paycheck  eat  brain  \\\n",
       "0   300.00    1  office janitorial services           0         0    0      0   \n",
       "1  3414.98    1               payroll taxes           0         1    0      0   \n",
       "2     2.00    1                 bank charge           0         0    0      0   \n",
       "3  7000.00    1           sign installation           0         0    0      0   \n",
       "4  1394.47    1             mailing postage           0         0    0      0   \n",
       "\n",
       "   advertising  operationcost  travel  finance  sum  \n",
       "0            0              1       0        0    1  \n",
       "1            0              0       0        0    1  \n",
       "2            0              1       0        0    1  \n",
       "3            1              0       0        0    1  \n",
       "4            0              1       0        0    1  "
      ]
     },
     "execution_count": 88,
     "metadata": {},
     "output_type": "execute_result"
    }
   ],
   "source": [
    "# Got the dataset ready! \n",
    "# 810443/973158=83.3%\n",
    "# $2.45billion/$2.87billion=85.4%\n",
    "df_2018_main.groupby('sum').agg({'sum':'count','dis_amo':'sum'}).\\\n",
    "     rename(columns={'sum':'count','dis_amo':'$amount'}).sort_values(by=['count'],ascending=False)\n",
    "df_2018_main.head()"
   ]
  },
  {
   "cell_type": "markdown",
   "metadata": {},
   "source": [
    "## <center><li>A Glimpse of Campaign Cost by Category"
   ]
  },
  {
   "cell_type": "code",
   "execution_count": 89,
   "metadata": {
    "scrolled": true
   },
   "outputs": [],
   "source": [
    "# Separate house and senate data\n",
    "df_2018_main_h = df_2018_main[df_2018_main['can_off'] == 'H'][['can_nam','dis_amo','networking', \\\n",
    "                                                               'paycheck', \\\n",
    "                'eat', 'brain', 'advertising', 'operationcost', 'travel', 'finance', 'win']]\n",
    "df_2018_main_s = df_2018_main[df_2018_main['can_off'] == 'S'][['can_nam','dis_amo','networking', 'paycheck', \\\n",
    "                'eat', 'brain', 'advertising', 'operationcost', 'travel', 'finance', 'win']]\n",
    "\n",
    "# Creat new dataframe to show money sum under each category\n",
    "df_2018_main_h_networking = df_2018_main_h[df_2018_main_h.networking==1].groupby('can_nam')\\\n",
    "[['dis_amo']].sum().rename(columns={'dis_amo':'networking_exp'})\n",
    "df_2018_main_h_paycheck = df_2018_main_h[df_2018_main_h.paycheck==1].groupby('can_nam')\\\n",
    "[['dis_amo']].sum().rename(columns={'dis_amo':'paycheck_exp'})\n",
    "df_2018_main_h_eat = df_2018_main_h[df_2018_main_h.eat==1].groupby('can_nam')\\\n",
    "[['dis_amo']].sum().rename(columns={'dis_amo':'eat_exp'})\n",
    "df_2018_main_h_brain = df_2018_main_h[df_2018_main_h.brain==1].groupby('can_nam')\\\n",
    "[['dis_amo']].sum().rename(columns={'dis_amo':'brain_exp'})\n",
    "df_2018_main_h_advertising = df_2018_main_h[df_2018_main_h.advertising==1].groupby('can_nam')\\\n",
    "[['dis_amo']].sum().rename(columns={'dis_amo':'advertising_exp'})\n",
    "df_2018_main_h_operationcost = df_2018_main_h[df_2018_main_h.operationcost==1].groupby('can_nam')\\\n",
    "[['dis_amo']].sum().rename(columns={'dis_amo':'operationcost_exp'})\n",
    "df_2018_main_h_travel = df_2018_main_h[df_2018_main_h.travel==1].groupby('can_nam')\\\n",
    "[['dis_amo']].sum().rename(columns={'dis_amo':'travel_exp'})\n",
    "df_2018_main_h_finance = df_2018_main_h[df_2018_main_h.finance==1].groupby('can_nam')\\\n",
    "[['dis_amo']].sum().rename(columns={'dis_amo':'finance_exp'})\n",
    "df_2018_main_h_win = df_2018_main_h[df_2018_main_h.win==1].groupby('can_nam')\\\n",
    "[['win']].sum().rename(columns={'win':'winnerentries'})\n",
    "df_2018_main_h_win['winner'] = df_2018_main_h_win.winnerentries.apply(lambda x: 1 if x>1 else 0)\n",
    "df_2018_main_h_win.drop(columns='winnerentries',inplace=True)\n",
    "\n",
    "df_2018_main_h_m1 = df_2018_main_h_networking.merge(df_2018_main_h_paycheck, \\\n",
    "                                              left_on='can_nam', right_on='can_nam', how='outer')\n",
    "df_2018_main_h_m2 = df_2018_main_h_m1.merge(df_2018_main_h_eat, \\\n",
    "                                              left_on='can_nam', right_on='can_nam', how='outer')\n",
    "df_2018_main_h_m3 = df_2018_main_h_m2.merge(df_2018_main_h_brain, \\\n",
    "                                              left_on='can_nam', right_on='can_nam', how='outer')\n",
    "df_2018_main_h_m4 = df_2018_main_h_m3.merge(df_2018_main_h_advertising, \\\n",
    "                                              left_on='can_nam', right_on='can_nam', how='outer')\n",
    "df_2018_main_h_m5 = df_2018_main_h_m4.merge(df_2018_main_h_operationcost, \\\n",
    "                                              left_on='can_nam', right_on='can_nam', how='outer')\n",
    "df_2018_main_h_m6 = df_2018_main_h_m5.merge(df_2018_main_h_travel, \\\n",
    "                                              left_on='can_nam', right_on='can_nam', how='outer')\n",
    "df_2018_main_h_m7 = df_2018_main_h_m6.merge(df_2018_main_h_finance, \\\n",
    "                                              left_on='can_nam', right_on='can_nam', how='outer')\n",
    "df_2018_main_h_m8 = df_2018_main_h_m7.merge(df_2018_main_h_win, \\\n",
    "                                              left_on='can_nam', right_on='can_nam', how='outer')\n",
    "df_2018_main_h_m = df_2018_main_h_m8.fillna(0)\n",
    "\n",
    "df_2018_main_h_m.loc['h_sum'] = df_2018_main_h_m.apply(lambda x: x.sum())\n",
    "\n",
    "\n",
    "df_2018_main_s_networking = df_2018_main_s[df_2018_main_s.networking==1].groupby('can_nam')\\\n",
    "[['dis_amo']].sum().rename(columns={'dis_amo':'networking_exp'})\n",
    "df_2018_main_s_paycheck = df_2018_main_s[df_2018_main_s.paycheck==1].groupby('can_nam')\\\n",
    "[['dis_amo']].sum().rename(columns={'dis_amo':'paycheck_exp'})\n",
    "df_2018_main_s_eat = df_2018_main_s[df_2018_main_s.eat==1].groupby('can_nam')\\\n",
    "[['dis_amo']].sum().rename(columns={'dis_amo':'eat_exp'})\n",
    "df_2018_main_s_brain = df_2018_main_s[df_2018_main_s.brain==1].groupby('can_nam')\\\n",
    "[['dis_amo']].sum().rename(columns={'dis_amo':'brain_exp'})\n",
    "df_2018_main_s_advertising = df_2018_main_s[df_2018_main_s.advertising==1].groupby('can_nam')\\\n",
    "[['dis_amo']].sum().rename(columns={'dis_amo':'advertising_exp'})\n",
    "df_2018_main_s_operationcost = df_2018_main_s[df_2018_main_s.operationcost==1].groupby('can_nam')\\\n",
    "[['dis_amo']].sum().rename(columns={'dis_amo':'operationcost_exp'})\n",
    "df_2018_main_s_travel = df_2018_main_s[df_2018_main_s.travel==1].groupby('can_nam')\\\n",
    "[['dis_amo']].sum().rename(columns={'dis_amo':'travel_exp'})\n",
    "df_2018_main_s_finance = df_2018_main_s[df_2018_main_s.finance==1].groupby('can_nam')\\\n",
    "[['dis_amo']].sum().rename(columns={'dis_amo':'finance_exp'})\n",
    "df_2018_main_s_win = df_2018_main_s[df_2018_main_s.win==1].groupby('can_nam')\\\n",
    "[['win']].sum().rename(columns={'win':'winnerentries'})\n",
    "df_2018_main_s_win['winner'] = df_2018_main_s_win.winnerentries.apply(lambda x: 1 if x>1 else 0)\n",
    "df_2018_main_s_win.drop(columns='winnerentries',inplace=True)\n",
    "\n",
    "df_2018_main_s_m1 = df_2018_main_s_networking.merge(df_2018_main_s_paycheck, \\\n",
    "                                              left_on='can_nam', right_on='can_nam', how='outer')\n",
    "df_2018_main_s_m2 = df_2018_main_s_m1.merge(df_2018_main_s_eat, \\\n",
    "                                              left_on='can_nam', right_on='can_nam', how='outer')\n",
    "df_2018_main_s_m3 = df_2018_main_s_m2.merge(df_2018_main_s_brain, \\\n",
    "                                              left_on='can_nam', right_on='can_nam', how='outer')\n",
    "df_2018_main_s_m4 = df_2018_main_s_m3.merge(df_2018_main_s_advertising, \\\n",
    "                                              left_on='can_nam', right_on='can_nam', how='outer')\n",
    "df_2018_main_s_m5 = df_2018_main_s_m4.merge(df_2018_main_s_operationcost, \\\n",
    "                                              left_on='can_nam', right_on='can_nam', how='outer')\n",
    "df_2018_main_s_m6 = df_2018_main_s_m5.merge(df_2018_main_s_travel, \\\n",
    "                                              left_on='can_nam', right_on='can_nam', how='outer')\n",
    "df_2018_main_s_m7 = df_2018_main_s_m6.merge(df_2018_main_s_finance, \\\n",
    "                                              left_on='can_nam', right_on='can_nam', how='outer')\n",
    "df_2018_main_s_m8 = df_2018_main_s_m7.merge(df_2018_main_s_win, \\\n",
    "                                              left_on='can_nam', right_on='can_nam', how='outer')\n",
    "df_2018_main_s_m = df_2018_main_s_m8.fillna(0)\n",
    "\n",
    "df_2018_main_s_m.loc['s_sum'] = df_2018_main_s_m.apply(lambda x: x.sum())"
   ]
  },
  {
   "cell_type": "code",
   "execution_count": 90,
   "metadata": {
    "scrolled": false
   },
   "outputs": [
    {
     "data": {
      "text/plain": [
       "<matplotlib.axes._subplots.AxesSubplot at 0x131974128>"
      ]
     },
     "execution_count": 90,
     "metadata": {},
     "output_type": "execute_result"
    },
    {
     "data": {
      "image/png": "[encoded data removed]",
      "text/plain": [
       "<Figure size 1296x720 with 1 Axes>"
      ]
     },
     "metadata": {
      "needs_background": "light"
     },
     "output_type": "display_data"
    }
   ],
   "source": [
    "# Draw a plot\n",
    "h_sum = pd.DataFrame(df_2018_main_h_m.iloc[2093,:]).reset_index().rename(columns={'index':'category'})\n",
    "s_sum = pd.DataFrame(df_2018_main_s_m.iloc[225,:]).reset_index().rename(columns={'index':'category'})\n",
    "df_2018_catsum = h_sum.merge(s_sum,left_on = 'category', right_on = 'category', how='outer')\n",
    "df_2018_catsum = df_2018_catsum.set_index('category')\n",
    "df_2018_catsum = df_2018_catsum.drop(['winner'],axis=0)\n",
    "\n",
    "plt.rcParams[\"figure.figsize\"] = (18,10)\n",
    "df_2018_catsum.plot.bar(stacked=True) "
   ]
  },
  {
   "cell_type": "markdown",
   "metadata": {},
   "source": [
    "<div class=\"alert alert-block alert-warning\">Both House and Senate candidates spent way more money on advertising than the other expense categories. <br>Is advertising the crucial factor in election? Did the advertising expense pay off?"
   ]
  },
  {
   "cell_type": "markdown",
   "metadata": {},
   "source": [
    "## <center><li>Machine Learning: Decision Tree"
   ]
  },
  {
   "cell_type": "markdown",
   "metadata": {},
   "source": [
    "## What is the Crucial Expense in Campaign?"
   ]
  },
  {
   "cell_type": "markdown",
   "metadata": {},
   "source": [
    "### Run for House:"
   ]
  },
  {
   "cell_type": "code",
   "execution_count": 91,
   "metadata": {
    "scrolled": true
   },
   "outputs": [
    {
     "data": {
      "text/html": [
       "<div>\n",
       "<style scoped>\n",
       "    .dataframe tbody tr th:only-of-type {\n",
       "        vertical-align: middle;\n",
       "    }\n",
       "\n",
       "    .dataframe tbody tr th {\n",
       "        vertical-align: top;\n",
       "    }\n",
       "\n",
       "    .dataframe thead th {\n",
       "        text-align: right;\n",
       "    }\n",
       "</style>\n",
       "<table border=\"1\" class=\"dataframe\">\n",
       "  <thead>\n",
       "    <tr style=\"text-align: right;\">\n",
       "      <th></th>\n",
       "      <th>networking_exp</th>\n",
       "      <th>paycheck_exp</th>\n",
       "      <th>eat_exp</th>\n",
       "      <th>brain_exp</th>\n",
       "      <th>advertising_exp</th>\n",
       "      <th>operationcost_exp</th>\n",
       "      <th>travel_exp</th>\n",
       "      <th>finance_exp</th>\n",
       "      <th>winner</th>\n",
       "    </tr>\n",
       "    <tr>\n",
       "      <th>can_nam</th>\n",
       "      <th></th>\n",
       "      <th></th>\n",
       "      <th></th>\n",
       "      <th></th>\n",
       "      <th></th>\n",
       "      <th></th>\n",
       "      <th></th>\n",
       "      <th></th>\n",
       "      <th></th>\n",
       "    </tr>\n",
       "  </thead>\n",
       "  <tbody>\n",
       "    <tr>\n",
       "      <th>HAULMARK-CHRIS</th>\n",
       "      <td>0.00</td>\n",
       "      <td>0.00</td>\n",
       "      <td>0.00</td>\n",
       "      <td>0.00</td>\n",
       "      <td>0.00</td>\n",
       "      <td>0.00</td>\n",
       "      <td>0.00</td>\n",
       "      <td>1760.00</td>\n",
       "      <td>0.00</td>\n",
       "    </tr>\n",
       "    <tr>\n",
       "      <th>TUTTLE-CHARLES</th>\n",
       "      <td>0.00</td>\n",
       "      <td>0.00</td>\n",
       "      <td>0.00</td>\n",
       "      <td>0.00</td>\n",
       "      <td>0.00</td>\n",
       "      <td>0.00</td>\n",
       "      <td>0.00</td>\n",
       "      <td>750.00</td>\n",
       "      <td>0.00</td>\n",
       "    </tr>\n",
       "    <tr>\n",
       "      <th>VARASTEH-RON</th>\n",
       "      <td>0.00</td>\n",
       "      <td>0.00</td>\n",
       "      <td>0.00</td>\n",
       "      <td>0.00</td>\n",
       "      <td>0.00</td>\n",
       "      <td>0.00</td>\n",
       "      <td>0.00</td>\n",
       "      <td>250000.00</td>\n",
       "      <td>0.00</td>\n",
       "    </tr>\n",
       "    <tr>\n",
       "      <th>WYNN-QUENTIN-ADAM</th>\n",
       "      <td>0.00</td>\n",
       "      <td>0.00</td>\n",
       "      <td>0.00</td>\n",
       "      <td>0.00</td>\n",
       "      <td>0.00</td>\n",
       "      <td>0.00</td>\n",
       "      <td>0.00</td>\n",
       "      <td>4454.29</td>\n",
       "      <td>0.00</td>\n",
       "    </tr>\n",
       "    <tr>\n",
       "      <th>h_sum</th>\n",
       "      <td>88291281.65</td>\n",
       "      <td>151327111.22</td>\n",
       "      <td>9017008.74</td>\n",
       "      <td>202143112.62</td>\n",
       "      <td>693478394.56</td>\n",
       "      <td>158355931.14</td>\n",
       "      <td>42058259.64</td>\n",
       "      <td>158802520.45</td>\n",
       "      <td>433.00</td>\n",
       "    </tr>\n",
       "  </tbody>\n",
       "</table>\n",
       "</div>"
      ],
      "text/plain": [
       "                   networking_exp  paycheck_exp    eat_exp    brain_exp  \\\n",
       "can_nam                                                                   \n",
       "HAULMARK-CHRIS               0.00          0.00       0.00         0.00   \n",
       "TUTTLE-CHARLES               0.00          0.00       0.00         0.00   \n",
       "VARASTEH-RON                 0.00          0.00       0.00         0.00   \n",
       "WYNN-QUENTIN-ADAM            0.00          0.00       0.00         0.00   \n",
       "h_sum                 88291281.65  151327111.22 9017008.74 202143112.62   \n",
       "\n",
       "                   advertising_exp  operationcost_exp  travel_exp  \\\n",
       "can_nam                                                             \n",
       "HAULMARK-CHRIS                0.00               0.00        0.00   \n",
       "TUTTLE-CHARLES                0.00               0.00        0.00   \n",
       "VARASTEH-RON                  0.00               0.00        0.00   \n",
       "WYNN-QUENTIN-ADAM             0.00               0.00        0.00   \n",
       "h_sum                 693478394.56       158355931.14 42058259.64   \n",
       "\n",
       "                   finance_exp  winner  \n",
       "can_nam                                 \n",
       "HAULMARK-CHRIS         1760.00    0.00  \n",
       "TUTTLE-CHARLES          750.00    0.00  \n",
       "VARASTEH-RON         250000.00    0.00  \n",
       "WYNN-QUENTIN-ADAM      4454.29    0.00  \n",
       "h_sum             158802520.45  433.00  "
      ]
     },
     "execution_count": 91,
     "metadata": {},
     "output_type": "execute_result"
    }
   ],
   "source": [
    "df_2018_main_h_m.tail()"
   ]
  },
  {
   "cell_type": "code",
   "execution_count": 92,
   "metadata": {},
   "outputs": [],
   "source": [
    "df_2018_main_h_m.drop(['h_sum'],inplace=True)"
   ]
  },
  {
   "cell_type": "code",
   "execution_count": 93,
   "metadata": {},
   "outputs": [
    {
     "data": {
      "text/html": [
       "<div>\n",
       "<style scoped>\n",
       "    .dataframe tbody tr th:only-of-type {\n",
       "        vertical-align: middle;\n",
       "    }\n",
       "\n",
       "    .dataframe tbody tr th {\n",
       "        vertical-align: top;\n",
       "    }\n",
       "\n",
       "    .dataframe thead th {\n",
       "        text-align: right;\n",
       "    }\n",
       "</style>\n",
       "<table border=\"1\" class=\"dataframe\">\n",
       "  <thead>\n",
       "    <tr style=\"text-align: right;\">\n",
       "      <th></th>\n",
       "      <th>networking_exp</th>\n",
       "      <th>paycheck_exp</th>\n",
       "      <th>eat_exp</th>\n",
       "      <th>brain_exp</th>\n",
       "      <th>advertising_exp</th>\n",
       "      <th>operationcost_exp</th>\n",
       "      <th>travel_exp</th>\n",
       "      <th>finance_exp</th>\n",
       "      <th>winner</th>\n",
       "    </tr>\n",
       "    <tr>\n",
       "      <th>can_nam</th>\n",
       "      <th></th>\n",
       "      <th></th>\n",
       "      <th></th>\n",
       "      <th></th>\n",
       "      <th></th>\n",
       "      <th></th>\n",
       "      <th></th>\n",
       "      <th></th>\n",
       "      <th></th>\n",
       "    </tr>\n",
       "  </thead>\n",
       "  <tbody>\n",
       "    <tr>\n",
       "      <th>EDWARDS-DEJUAN</th>\n",
       "      <td>0.00</td>\n",
       "      <td>0.00</td>\n",
       "      <td>0.00</td>\n",
       "      <td>0.00</td>\n",
       "      <td>0.00</td>\n",
       "      <td>0.00</td>\n",
       "      <td>0.00</td>\n",
       "      <td>619.85</td>\n",
       "      <td>0.00</td>\n",
       "    </tr>\n",
       "    <tr>\n",
       "      <th>HAULMARK-CHRIS</th>\n",
       "      <td>0.00</td>\n",
       "      <td>0.00</td>\n",
       "      <td>0.00</td>\n",
       "      <td>0.00</td>\n",
       "      <td>0.00</td>\n",
       "      <td>0.00</td>\n",
       "      <td>0.00</td>\n",
       "      <td>1760.00</td>\n",
       "      <td>0.00</td>\n",
       "    </tr>\n",
       "    <tr>\n",
       "      <th>TUTTLE-CHARLES</th>\n",
       "      <td>0.00</td>\n",
       "      <td>0.00</td>\n",
       "      <td>0.00</td>\n",
       "      <td>0.00</td>\n",
       "      <td>0.00</td>\n",
       "      <td>0.00</td>\n",
       "      <td>0.00</td>\n",
       "      <td>750.00</td>\n",
       "      <td>0.00</td>\n",
       "    </tr>\n",
       "    <tr>\n",
       "      <th>VARASTEH-RON</th>\n",
       "      <td>0.00</td>\n",
       "      <td>0.00</td>\n",
       "      <td>0.00</td>\n",
       "      <td>0.00</td>\n",
       "      <td>0.00</td>\n",
       "      <td>0.00</td>\n",
       "      <td>0.00</td>\n",
       "      <td>250000.00</td>\n",
       "      <td>0.00</td>\n",
       "    </tr>\n",
       "    <tr>\n",
       "      <th>WYNN-QUENTIN-ADAM</th>\n",
       "      <td>0.00</td>\n",
       "      <td>0.00</td>\n",
       "      <td>0.00</td>\n",
       "      <td>0.00</td>\n",
       "      <td>0.00</td>\n",
       "      <td>0.00</td>\n",
       "      <td>0.00</td>\n",
       "      <td>4454.29</td>\n",
       "      <td>0.00</td>\n",
       "    </tr>\n",
       "  </tbody>\n",
       "</table>\n",
       "</div>"
      ],
      "text/plain": [
       "                   networking_exp  paycheck_exp  eat_exp  brain_exp  \\\n",
       "can_nam                                                               \n",
       "EDWARDS-DEJUAN               0.00          0.00     0.00       0.00   \n",
       "HAULMARK-CHRIS               0.00          0.00     0.00       0.00   \n",
       "TUTTLE-CHARLES               0.00          0.00     0.00       0.00   \n",
       "VARASTEH-RON                 0.00          0.00     0.00       0.00   \n",
       "WYNN-QUENTIN-ADAM            0.00          0.00     0.00       0.00   \n",
       "\n",
       "                   advertising_exp  operationcost_exp  travel_exp  \\\n",
       "can_nam                                                             \n",
       "EDWARDS-DEJUAN                0.00               0.00        0.00   \n",
       "HAULMARK-CHRIS                0.00               0.00        0.00   \n",
       "TUTTLE-CHARLES                0.00               0.00        0.00   \n",
       "VARASTEH-RON                  0.00               0.00        0.00   \n",
       "WYNN-QUENTIN-ADAM             0.00               0.00        0.00   \n",
       "\n",
       "                   finance_exp  winner  \n",
       "can_nam                                 \n",
       "EDWARDS-DEJUAN          619.85    0.00  \n",
       "HAULMARK-CHRIS         1760.00    0.00  \n",
       "TUTTLE-CHARLES          750.00    0.00  \n",
       "VARASTEH-RON         250000.00    0.00  \n",
       "WYNN-QUENTIN-ADAM      4454.29    0.00  "
      ]
     },
     "execution_count": 93,
     "metadata": {},
     "output_type": "execute_result"
    }
   ],
   "source": [
    "df_2018_main_h_m.tail()"
   ]
  },
  {
   "cell_type": "code",
   "execution_count": 94,
   "metadata": {},
   "outputs": [
    {
     "data": {
      "text/plain": [
       "DecisionTreeClassifier(class_weight=None, criterion='gini', max_depth=1,\n",
       "                       max_features=None, max_leaf_nodes=None,\n",
       "                       min_impurity_decrease=0.0, min_impurity_split=None,\n",
       "                       min_samples_leaf=1, min_samples_split=2,\n",
       "                       min_weight_fraction_leaf=0.0, presort=False,\n",
       "                       random_state=None, splitter='best')"
      ]
     },
     "execution_count": 94,
     "metadata": {},
     "output_type": "execute_result"
    }
   ],
   "source": [
    "Y = df_2018_main_h_m.winner\n",
    "X = df_2018_main_h_m.drop('winner', axis=1)\n",
    "dt=tree.DecisionTreeClassifier(max_depth=1)\n",
    "dt.fit(X,Y)"
   ]
  },
  {
   "cell_type": "code",
   "execution_count": 95,
   "metadata": {
    "scrolled": true
   },
   "outputs": [
    {
     "data": {
      "image/png": "[encoded data removed]",
      "text/plain": [
       "<IPython.core.display.Image object>"
      ]
     },
     "execution_count": 95,
     "metadata": {},
     "output_type": "execute_result"
    }
   ],
   "source": [
    "dt_feature_names = list(X.columns)\n",
    "dt_target_names = [str(s) for s in Y.unique()]\n",
    "tree.export_graphviz(dt, out_file='tree.dot', \n",
    "    feature_names=dt_feature_names, class_names=dt_target_names,\n",
    "    filled=True)  \n",
    "graph = pydotplus.graph_from_dot_file('tree.dot')\n",
    "Image(graph.create_png())"
   ]
  },
  {
   "cell_type": "markdown",
   "metadata": {},
   "source": [
    "## Funding Validation"
   ]
  },
  {
   "cell_type": "code",
   "execution_count": 96,
   "metadata": {},
   "outputs": [
    {
     "data": {
      "text/plain": [
       "count      2093.00\n",
       "mean      42184.08\n",
       "std      147503.09\n",
       "min           0.00\n",
       "25%           0.00\n",
       "50%        2500.00\n",
       "75%       19775.94\n",
       "max     3928521.02\n",
       "Name: networking_exp, dtype: float64"
      ]
     },
     "execution_count": 96,
     "metadata": {},
     "output_type": "execute_result"
    }
   ],
   "source": [
    "df_2018_main_h_m.networking_exp.describe()"
   ]
  },
  {
   "cell_type": "code",
   "execution_count": 97,
   "metadata": {},
   "outputs": [
    {
     "data": {
      "text/plain": [
       "<seaborn.axisgrid.FacetGrid at 0x1a6c260320>"
      ]
     },
     "execution_count": 97,
     "metadata": {},
     "output_type": "execute_result"
    },
    {
     "data": {
      "image/png": "[encoded data removed]",
      "text/plain": [
       "<Figure size 1080x360 with 1 Axes>"
      ]
     },
     "metadata": {
      "needs_background": "light"
     },
     "output_type": "display_data"
    }
   ],
   "source": [
    "df_2018_main_h_m['networkingmoney']=pd.cut(df_2018_main_h_m.networking_exp, \\\n",
    "                                           bins=(0,2500,20000,26143,100000, 500000,1000000, 2000000,4000000))\n",
    "sns.factorplot(x='networkingmoney', y='winner', kind = 'bar', data=df_2018_main_h_m, aspect=3) #500,000-0.8; "
   ]
  },
  {
   "cell_type": "markdown",
   "metadata": {},
   "source": [
    "### <div class=\"alert alert-block alert-warning\">Conclusion and Managerial Insight:<br><br>From the decision tree and chart above, we could see that networking is the most critical factor to winning the House election. To secure the election result, at least half a million should be spent on networking activities such as event, gift, donation etc.<br><br>When compared with the expense totals of each category, we find that even thought advertising costs the most in a campaign trial, it's not the critical factor of a candidats's winning!<br><br>Candidates running for an M.H.R. seat better save 1 million dollars for networking and try to cut down advertising cost, think tank cost and operation cost."
   ]
  },
  {
   "cell_type": "markdown",
   "metadata": {},
   "source": [
    "### Run for Senate: "
   ]
  },
  {
   "cell_type": "code",
   "execution_count": 98,
   "metadata": {},
   "outputs": [
    {
     "data": {
      "text/html": [
       "<div>\n",
       "<style scoped>\n",
       "    .dataframe tbody tr th:only-of-type {\n",
       "        vertical-align: middle;\n",
       "    }\n",
       "\n",
       "    .dataframe tbody tr th {\n",
       "        vertical-align: top;\n",
       "    }\n",
       "\n",
       "    .dataframe thead th {\n",
       "        text-align: right;\n",
       "    }\n",
       "</style>\n",
       "<table border=\"1\" class=\"dataframe\">\n",
       "  <thead>\n",
       "    <tr style=\"text-align: right;\">\n",
       "      <th></th>\n",
       "      <th>networking_exp</th>\n",
       "      <th>paycheck_exp</th>\n",
       "      <th>eat_exp</th>\n",
       "      <th>brain_exp</th>\n",
       "      <th>advertising_exp</th>\n",
       "      <th>operationcost_exp</th>\n",
       "      <th>travel_exp</th>\n",
       "      <th>finance_exp</th>\n",
       "      <th>winner</th>\n",
       "    </tr>\n",
       "    <tr>\n",
       "      <th>can_nam</th>\n",
       "      <th></th>\n",
       "      <th></th>\n",
       "      <th></th>\n",
       "      <th></th>\n",
       "      <th></th>\n",
       "      <th></th>\n",
       "      <th></th>\n",
       "      <th></th>\n",
       "      <th></th>\n",
       "    </tr>\n",
       "  </thead>\n",
       "  <tbody>\n",
       "    <tr>\n",
       "      <th>NABLIBA-MARIO</th>\n",
       "      <td>0.00</td>\n",
       "      <td>0.00</td>\n",
       "      <td>0.00</td>\n",
       "      <td>0.00</td>\n",
       "      <td>0.00</td>\n",
       "      <td>294.56</td>\n",
       "      <td>459.57</td>\n",
       "      <td>4430.00</td>\n",
       "      <td>0.00</td>\n",
       "    </tr>\n",
       "    <tr>\n",
       "      <th>PIPER-JOHN-PATRICK</th>\n",
       "      <td>0.00</td>\n",
       "      <td>0.00</td>\n",
       "      <td>0.00</td>\n",
       "      <td>0.00</td>\n",
       "      <td>0.00</td>\n",
       "      <td>331.66</td>\n",
       "      <td>0.00</td>\n",
       "      <td>0.00</td>\n",
       "      <td>0.00</td>\n",
       "    </tr>\n",
       "    <tr>\n",
       "      <th>STOKES-STEVE</th>\n",
       "      <td>0.00</td>\n",
       "      <td>0.00</td>\n",
       "      <td>0.00</td>\n",
       "      <td>0.00</td>\n",
       "      <td>0.00</td>\n",
       "      <td>499.20</td>\n",
       "      <td>0.00</td>\n",
       "      <td>33.75</td>\n",
       "      <td>0.00</td>\n",
       "    </tr>\n",
       "    <tr>\n",
       "      <th>SINGER-JAMES-COURAGE</th>\n",
       "      <td>0.00</td>\n",
       "      <td>0.00</td>\n",
       "      <td>0.00</td>\n",
       "      <td>0.00</td>\n",
       "      <td>0.00</td>\n",
       "      <td>0.00</td>\n",
       "      <td>0.00</td>\n",
       "      <td>376.15</td>\n",
       "      <td>0.00</td>\n",
       "    </tr>\n",
       "    <tr>\n",
       "      <th>s_sum</th>\n",
       "      <td>21408619.69</td>\n",
       "      <td>88087126.21</td>\n",
       "      <td>1871219.50</td>\n",
       "      <td>96204947.95</td>\n",
       "      <td>560920300.37</td>\n",
       "      <td>78198938.75</td>\n",
       "      <td>21901165.13</td>\n",
       "      <td>80410749.22</td>\n",
       "      <td>35.00</td>\n",
       "    </tr>\n",
       "  </tbody>\n",
       "</table>\n",
       "</div>"
      ],
      "text/plain": [
       "                      networking_exp  paycheck_exp    eat_exp   brain_exp  \\\n",
       "can_nam                                                                     \n",
       "NABLIBA-MARIO                   0.00          0.00       0.00        0.00   \n",
       "PIPER-JOHN-PATRICK              0.00          0.00       0.00        0.00   \n",
       "STOKES-STEVE                    0.00          0.00       0.00        0.00   \n",
       "SINGER-JAMES-COURAGE            0.00          0.00       0.00        0.00   \n",
       "s_sum                    21408619.69   88087126.21 1871219.50 96204947.95   \n",
       "\n",
       "                      advertising_exp  operationcost_exp  travel_exp  \\\n",
       "can_nam                                                                \n",
       "NABLIBA-MARIO                    0.00             294.56      459.57   \n",
       "PIPER-JOHN-PATRICK               0.00             331.66        0.00   \n",
       "STOKES-STEVE                     0.00             499.20        0.00   \n",
       "SINGER-JAMES-COURAGE             0.00               0.00        0.00   \n",
       "s_sum                    560920300.37        78198938.75 21901165.13   \n",
       "\n",
       "                      finance_exp  winner  \n",
       "can_nam                                    \n",
       "NABLIBA-MARIO             4430.00    0.00  \n",
       "PIPER-JOHN-PATRICK           0.00    0.00  \n",
       "STOKES-STEVE                33.75    0.00  \n",
       "SINGER-JAMES-COURAGE       376.15    0.00  \n",
       "s_sum                 80410749.22   35.00  "
      ]
     },
     "execution_count": 98,
     "metadata": {},
     "output_type": "execute_result"
    }
   ],
   "source": [
    "df_2018_main_s_m.tail()"
   ]
  },
  {
   "cell_type": "code",
   "execution_count": 99,
   "metadata": {},
   "outputs": [],
   "source": [
    "df_2018_main_s_m.drop(['s_sum'],inplace=True)"
   ]
  },
  {
   "cell_type": "code",
   "execution_count": 100,
   "metadata": {},
   "outputs": [
    {
     "data": {
      "text/html": [
       "<div>\n",
       "<style scoped>\n",
       "    .dataframe tbody tr th:only-of-type {\n",
       "        vertical-align: middle;\n",
       "    }\n",
       "\n",
       "    .dataframe tbody tr th {\n",
       "        vertical-align: top;\n",
       "    }\n",
       "\n",
       "    .dataframe thead th {\n",
       "        text-align: right;\n",
       "    }\n",
       "</style>\n",
       "<table border=\"1\" class=\"dataframe\">\n",
       "  <thead>\n",
       "    <tr style=\"text-align: right;\">\n",
       "      <th></th>\n",
       "      <th>networking_exp</th>\n",
       "      <th>paycheck_exp</th>\n",
       "      <th>eat_exp</th>\n",
       "      <th>brain_exp</th>\n",
       "      <th>advertising_exp</th>\n",
       "      <th>operationcost_exp</th>\n",
       "      <th>travel_exp</th>\n",
       "      <th>finance_exp</th>\n",
       "      <th>winner</th>\n",
       "    </tr>\n",
       "    <tr>\n",
       "      <th>can_nam</th>\n",
       "      <th></th>\n",
       "      <th></th>\n",
       "      <th></th>\n",
       "      <th></th>\n",
       "      <th></th>\n",
       "      <th></th>\n",
       "      <th></th>\n",
       "      <th></th>\n",
       "      <th></th>\n",
       "    </tr>\n",
       "  </thead>\n",
       "  <tbody>\n",
       "    <tr>\n",
       "      <th>MARKS-DOUG</th>\n",
       "      <td>0.00</td>\n",
       "      <td>0.00</td>\n",
       "      <td>0.00</td>\n",
       "      <td>0.00</td>\n",
       "      <td>0.00</td>\n",
       "      <td>162.23</td>\n",
       "      <td>0.00</td>\n",
       "      <td>0.00</td>\n",
       "      <td>0.00</td>\n",
       "    </tr>\n",
       "    <tr>\n",
       "      <th>NABLIBA-MARIO</th>\n",
       "      <td>0.00</td>\n",
       "      <td>0.00</td>\n",
       "      <td>0.00</td>\n",
       "      <td>0.00</td>\n",
       "      <td>0.00</td>\n",
       "      <td>294.56</td>\n",
       "      <td>459.57</td>\n",
       "      <td>4430.00</td>\n",
       "      <td>0.00</td>\n",
       "    </tr>\n",
       "    <tr>\n",
       "      <th>PIPER-JOHN-PATRICK</th>\n",
       "      <td>0.00</td>\n",
       "      <td>0.00</td>\n",
       "      <td>0.00</td>\n",
       "      <td>0.00</td>\n",
       "      <td>0.00</td>\n",
       "      <td>331.66</td>\n",
       "      <td>0.00</td>\n",
       "      <td>0.00</td>\n",
       "      <td>0.00</td>\n",
       "    </tr>\n",
       "    <tr>\n",
       "      <th>STOKES-STEVE</th>\n",
       "      <td>0.00</td>\n",
       "      <td>0.00</td>\n",
       "      <td>0.00</td>\n",
       "      <td>0.00</td>\n",
       "      <td>0.00</td>\n",
       "      <td>499.20</td>\n",
       "      <td>0.00</td>\n",
       "      <td>33.75</td>\n",
       "      <td>0.00</td>\n",
       "    </tr>\n",
       "    <tr>\n",
       "      <th>SINGER-JAMES-COURAGE</th>\n",
       "      <td>0.00</td>\n",
       "      <td>0.00</td>\n",
       "      <td>0.00</td>\n",
       "      <td>0.00</td>\n",
       "      <td>0.00</td>\n",
       "      <td>0.00</td>\n",
       "      <td>0.00</td>\n",
       "      <td>376.15</td>\n",
       "      <td>0.00</td>\n",
       "    </tr>\n",
       "  </tbody>\n",
       "</table>\n",
       "</div>"
      ],
      "text/plain": [
       "                      networking_exp  paycheck_exp  eat_exp  brain_exp  \\\n",
       "can_nam                                                                  \n",
       "MARKS-DOUG                      0.00          0.00     0.00       0.00   \n",
       "NABLIBA-MARIO                   0.00          0.00     0.00       0.00   \n",
       "PIPER-JOHN-PATRICK              0.00          0.00     0.00       0.00   \n",
       "STOKES-STEVE                    0.00          0.00     0.00       0.00   \n",
       "SINGER-JAMES-COURAGE            0.00          0.00     0.00       0.00   \n",
       "\n",
       "                      advertising_exp  operationcost_exp  travel_exp  \\\n",
       "can_nam                                                                \n",
       "MARKS-DOUG                       0.00             162.23        0.00   \n",
       "NABLIBA-MARIO                    0.00             294.56      459.57   \n",
       "PIPER-JOHN-PATRICK               0.00             331.66        0.00   \n",
       "STOKES-STEVE                     0.00             499.20        0.00   \n",
       "SINGER-JAMES-COURAGE             0.00               0.00        0.00   \n",
       "\n",
       "                      finance_exp  winner  \n",
       "can_nam                                    \n",
       "MARKS-DOUG                   0.00    0.00  \n",
       "NABLIBA-MARIO             4430.00    0.00  \n",
       "PIPER-JOHN-PATRICK           0.00    0.00  \n",
       "STOKES-STEVE                33.75    0.00  \n",
       "SINGER-JAMES-COURAGE       376.15    0.00  "
      ]
     },
     "execution_count": 100,
     "metadata": {},
     "output_type": "execute_result"
    }
   ],
   "source": [
    "df_2018_main_s_m.tail()"
   ]
  },
  {
   "cell_type": "code",
   "execution_count": 101,
   "metadata": {},
   "outputs": [
    {
     "data": {
      "text/plain": [
       "DecisionTreeClassifier(class_weight=None, criterion='gini', max_depth=1,\n",
       "                       max_features=None, max_leaf_nodes=None,\n",
       "                       min_impurity_decrease=0.0, min_impurity_split=None,\n",
       "                       min_samples_leaf=1, min_samples_split=2,\n",
       "                       min_weight_fraction_leaf=0.0, presort=False,\n",
       "                       random_state=None, splitter='best')"
      ]
     },
     "execution_count": 101,
     "metadata": {},
     "output_type": "execute_result"
    }
   ],
   "source": [
    "Y = df_2018_main_s_m.winner\n",
    "X = df_2018_main_s_m.drop('winner', axis=1)\n",
    "dt=tree.DecisionTreeClassifier(max_depth=1)\n",
    "dt.fit(X,Y)"
   ]
  },
  {
   "cell_type": "code",
   "execution_count": 102,
   "metadata": {
    "scrolled": true
   },
   "outputs": [
    {
     "data": {
      "image/png": "[encoded data removed]",
      "text/plain": [
       "<IPython.core.display.Image object>"
      ]
     },
     "execution_count": 102,
     "metadata": {},
     "output_type": "execute_result"
    }
   ],
   "source": [
    "dt_feature_names = list(X.columns)\n",
    "dt_target_names = [str(s) for s in Y.unique()]\n",
    "tree.export_graphviz(dt, out_file='tree.dot', \n",
    "    feature_names=dt_feature_names, class_names=dt_target_names,\n",
    "    filled=True)  \n",
    "graph = pydotplus.graph_from_dot_file('tree.dot')\n",
    "Image(graph.create_png())"
   ]
  },
  {
   "cell_type": "markdown",
   "metadata": {},
   "source": [
    "## Funding Validation"
   ]
  },
  {
   "cell_type": "code",
   "execution_count": 103,
   "metadata": {},
   "outputs": [
    {
     "data": {
      "text/plain": [
       "count        225.00\n",
       "mean      391498.34\n",
       "std      1211095.51\n",
       "min            0.00\n",
       "25%            0.00\n",
       "50%          239.93\n",
       "75%       212355.25\n",
       "max     13926912.54\n",
       "Name: paycheck_exp, dtype: float64"
      ]
     },
     "execution_count": 103,
     "metadata": {},
     "output_type": "execute_result"
    }
   ],
   "source": [
    "df_2018_main_s_m.paycheck_exp.describe()"
   ]
  },
  {
   "cell_type": "code",
   "execution_count": 104,
   "metadata": {
    "scrolled": false
   },
   "outputs": [
    {
     "data": {
      "text/plain": [
       "<seaborn.axisgrid.FacetGrid at 0x1344d5f60>"
      ]
     },
     "execution_count": 104,
     "metadata": {},
     "output_type": "execute_result"
    },
    {
     "data": {
      "image/png": "[encoded data removed]",
      "text/plain": [
       "<Figure size 1080x360 with 1 Axes>"
      ]
     },
     "metadata": {
      "needs_background": "light"
     },
     "output_type": "display_data"
    }
   ],
   "source": [
    "df_2018_main_s_m['paycheckmoney']=pd.cut(df_2018_main_s_m.paycheck_exp, \\\n",
    "                                           bins=(0,210000,414500,1000000,3000000,5000000,14000000))\n",
    "sns.factorplot(x='paycheckmoney', y='winner', kind = 'bar', data=df_2018_main_s_m, aspect=3)"
   ]
  },
  {
   "cell_type": "markdown",
   "metadata": {},
   "source": [
    "### <div class=\"alert alert-block alert-warning\">Conclusion and Managerial Insight:<br><br>From the decision tree and chart above, we could see that staff paycheck is the most critical factor to winning the Senate election. To secure the election result, at least 400 thousand dollars should be spent on campaign team paychecks; 3-5 millions could be the most suitable budget. And it's not that the more staff you hire, the better the election result gets. Clearly the campaign team should be kept at a reasonable size. Any candidate spends more than 5 million dollars on paycheck could think of downsizing his/her team."
   ]
  }
 ],
 "metadata": {
  "kernelspec": {
   "display_name": "Python 3",
   "language": "python",
   "name": "python3"
  },
  "language_info": {
   "codemirror_mode": {
    "name": "ipython",
    "version": 3
   },
   "file_extension": ".py",
   "mimetype": "text/x-python",
   "name": "python",
   "nbconvert_exporter": "python",
   "pygments_lexer": "ipython3",
   "version": "3.8.3"
  }
 },
 "nbformat": 4,
 "nbformat_minor": 2
}
