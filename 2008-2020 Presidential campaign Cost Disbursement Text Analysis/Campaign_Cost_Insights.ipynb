{
 "cells": [
  {
   "cell_type": "markdown",
   "metadata": {
    "slideshow": {
     "slide_type": "slide"
    }
   },
   "source": [
    "# <div class=\"alert alert-block alert-success\"><center>Presidential Election<br><br>Expense Disbursement Text Analysis <br><br>2008-2020<center>"
   ]
  },
  {
   "cell_type": "markdown",
   "metadata": {
    "slideshow": {
     "slide_type": "slide"
    }
   },
   "source": [
    "## <div class=\"alert alert-block alert-info\"><center>2008 Election<br><br>Obama Part<center>"
   ]
  },
  {
   "cell_type": "markdown",
   "metadata": {
    "slideshow": {
     "slide_type": "slide"
    }
   },
   "source": [
    "## Data Preparation "
   ]
  },
  {
   "cell_type": "markdown",
   "metadata": {
    "slideshow": {
     "slide_type": "fragment"
    }
   },
   "source": [
    "**<div class=\"alert alert-block alert-warning\">#1  load data**"
   ]
  },
  {
   "cell_type": "code",
   "execution_count": 1,
   "metadata": {
    "slideshow": {
     "slide_type": "fragment"
    }
   },
   "outputs": [
    {
     "name": "stdout",
     "output_type": "stream",
     "text": [
      "Populating the interactive namespace from numpy and matplotlib\n"
     ]
    },
    {
     "name": "stderr",
     "output_type": "stream",
     "text": [
      "/home/ec2-user/anaconda3/envs/python3/lib/python3.6/site-packages/IPython/core/interactiveshell.py:3063: DtypeWarning: Columns (5,14,16,17,47,48,49,51,72,73) have mixed types.Specify dtype option on import or set low_memory=False.\n",
      "  interactivity=interactivity, compiler=compiler, result=result)\n"
     ]
    }
   ],
   "source": [
    "%pylab inline\n",
    "import pandas as pd\n",
    "df_obama=pd.read_csv('obama2008.csv')"
   ]
  },
  {
   "cell_type": "code",
   "execution_count": 2,
   "metadata": {
    "slideshow": {
     "slide_type": "fragment"
    }
   },
   "outputs": [
    {
     "data": {
      "text/plain": [
       "117849"
      ]
     },
     "execution_count": 2,
     "metadata": {},
     "output_type": "execute_result"
    }
   ],
   "source": [
    "len(df_obama)"
   ]
  },
  {
   "cell_type": "code",
   "execution_count": 3,
   "metadata": {
    "slideshow": {
     "slide_type": "fragment"
    }
   },
   "outputs": [],
   "source": [
    "df_obama = df_obama[['committee_id', 'report_year', 'disbursement_date','recipient_name',\\\n",
    "                     'recipient_state','recipient_city',\\\n",
    "                     'disbursement_purpose_category','disbursement_description','disbursement_amount']]"
   ]
  },
  {
   "cell_type": "code",
   "execution_count": 4,
   "metadata": {
    "slideshow": {
     "slide_type": "skip"
    }
   },
   "outputs": [
    {
     "data": {
      "text/plain": [
       "7"
      ]
     },
     "execution_count": 4,
     "metadata": {},
     "output_type": "execute_result"
    }
   ],
   "source": [
    "df_obama.disbursement_purpose_category.nunique()"
   ]
  },
  {
   "cell_type": "code",
   "execution_count": 5,
   "metadata": {
    "scrolled": true,
    "slideshow": {
     "slide_type": "skip"
    }
   },
   "outputs": [
    {
     "data": {
      "text/plain": [
       "array(['REFUNDS', 'OTHER', 'TRAVEL', 'ADVERTISING', 'ADMINISTRATIVE',\n",
       "       'FUNDRAISING', 'MATERIALS'], dtype=object)"
      ]
     },
     "execution_count": 5,
     "metadata": {},
     "output_type": "execute_result"
    }
   ],
   "source": [
    "df_obama.disbursement_purpose_category.unique()"
   ]
  },
  {
   "cell_type": "markdown",
   "metadata": {
    "slideshow": {
     "slide_type": "slide"
    }
   },
   "source": [
    "**<div class=\"alert alert-block alert-warning\">#2 many uncategorized items under 'other'**"
   ]
  },
  {
   "cell_type": "code",
   "execution_count": 6,
   "metadata": {
    "scrolled": false,
    "slideshow": {
     "slide_type": "fragment"
    }
   },
   "outputs": [
    {
     "data": {
      "text/html": [
       "<div>\n",
       "<style scoped>\n",
       "    .dataframe tbody tr th:only-of-type {\n",
       "        vertical-align: middle;\n",
       "    }\n",
       "\n",
       "    .dataframe tbody tr th {\n",
       "        vertical-align: top;\n",
       "    }\n",
       "\n",
       "    .dataframe thead th {\n",
       "        text-align: right;\n",
       "    }\n",
       "</style>\n",
       "<table border=\"1\" class=\"dataframe\">\n",
       "  <thead>\n",
       "    <tr style=\"text-align: right;\">\n",
       "      <th></th>\n",
       "      <th>disbursement_purpose_category</th>\n",
       "      <th>disbursement_amount</th>\n",
       "    </tr>\n",
       "    <tr>\n",
       "      <th>disbursement_purpose_category</th>\n",
       "      <th></th>\n",
       "      <th></th>\n",
       "    </tr>\n",
       "  </thead>\n",
       "  <tbody>\n",
       "    <tr>\n",
       "      <th>ADMINISTRATIVE</th>\n",
       "      <td>4769</td>\n",
       "      <td>2.289567e+07</td>\n",
       "    </tr>\n",
       "    <tr>\n",
       "      <th>ADVERTISING</th>\n",
       "      <td>3722</td>\n",
       "      <td>3.903547e+08</td>\n",
       "    </tr>\n",
       "    <tr>\n",
       "      <th>FUNDRAISING</th>\n",
       "      <td>2206</td>\n",
       "      <td>2.542922e+06</td>\n",
       "    </tr>\n",
       "    <tr>\n",
       "      <th>MATERIALS</th>\n",
       "      <td>28</td>\n",
       "      <td>1.604821e+04</td>\n",
       "    </tr>\n",
       "    <tr>\n",
       "      <th>OTHER</th>\n",
       "      <td>59349</td>\n",
       "      <td>2.312260e+08</td>\n",
       "    </tr>\n",
       "    <tr>\n",
       "      <th>REFUNDS</th>\n",
       "      <td>6433</td>\n",
       "      <td>5.086160e+06</td>\n",
       "    </tr>\n",
       "    <tr>\n",
       "      <th>TRAVEL</th>\n",
       "      <td>41342</td>\n",
       "      <td>7.687753e+07</td>\n",
       "    </tr>\n",
       "  </tbody>\n",
       "</table>\n",
       "</div>"
      ],
      "text/plain": [
       "                               disbursement_purpose_category  \\\n",
       "disbursement_purpose_category                                  \n",
       "ADMINISTRATIVE                                          4769   \n",
       "ADVERTISING                                             3722   \n",
       "FUNDRAISING                                             2206   \n",
       "MATERIALS                                                 28   \n",
       "OTHER                                                  59349   \n",
       "REFUNDS                                                 6433   \n",
       "TRAVEL                                                 41342   \n",
       "\n",
       "                               disbursement_amount  \n",
       "disbursement_purpose_category                       \n",
       "ADMINISTRATIVE                        2.289567e+07  \n",
       "ADVERTISING                           3.903547e+08  \n",
       "FUNDRAISING                           2.542922e+06  \n",
       "MATERIALS                             1.604821e+04  \n",
       "OTHER                                 2.312260e+08  \n",
       "REFUNDS                               5.086160e+06  \n",
       "TRAVEL                                7.687753e+07  "
      ]
     },
     "execution_count": 6,
     "metadata": {},
     "output_type": "execute_result"
    }
   ],
   "source": [
    "df_obama.groupby('disbursement_purpose_category').agg({'disbursement_purpose_category':'count','disbursement_amount':'sum'})"
   ]
  },
  {
   "cell_type": "markdown",
   "metadata": {
    "slideshow": {
     "slide_type": "slide"
    }
   },
   "source": [
    "**<div class=\"alert alert-block alert-warning\">#3 delete irrelevant rows: nan, refunds**"
   ]
  },
  {
   "cell_type": "code",
   "execution_count": 7,
   "metadata": {
    "slideshow": {
     "slide_type": "skip"
    }
   },
   "outputs": [
    {
     "data": {
      "text/plain": [
       "98"
      ]
     },
     "execution_count": 7,
     "metadata": {},
     "output_type": "execute_result"
    }
   ],
   "source": [
    "df_obama.disbursement_description.nunique()"
   ]
  },
  {
   "cell_type": "code",
   "execution_count": 8,
   "metadata": {
    "scrolled": true,
    "slideshow": {
     "slide_type": "skip"
    }
   },
   "outputs": [
    {
     "data": {
      "text/plain": [
       "array(['CONTRIBUTION REFUND', nan, 'PAYROLL', 'UNLIMITED TRANSFER',\n",
       "       'BANK CHARGES/FEES', 'CREDIT CARD FEES', 'PAYROLL TAXES',\n",
       "       'PAYROLL PROCESSING FEE', 'CONS./PROF.SERV. FUNDRAISING',\n",
       "       'TRAVEL/LODGING', 'TELEPHONE', 'PRINTING', 'EQUIPMENT RENTAL',\n",
       "       'DELIVERY', 'CATERING/FACILITIES', 'WEB SITE HOSTING',\n",
       "       'OFFICE SUPPLIES', 'COMPUTER SOFTWARE', 'COMPUTER EQUIP',\n",
       "       'STAGING, SOUND, LIGHTING', 'EQUIPMENT', 'CONS./PROF.SERV. MEDIA',\n",
       "       'CONS./ACCT.SERV.', 'SECURITY', 'PHOTOGRAPHY', 'PER DIEM',\n",
       "       'ADVANCE WORK', 'ON-LINE ADVERTISING', 'TRAVEL AGENCY FEES',\n",
       "       'EVENT SITE RENTAL', 'RESEARCH MATERIALS', 'PRINT ADVERTISING',\n",
       "       'POLLING', 'MEDIA BUY', 'LICENSE FEES', 'INTERPRETING SERVICE',\n",
       "       'EQUIPMENT MAINTENANCE', 'DECORATIONS', 'TELEMARKETING',\n",
       "       'UTILITIES', 'DOMAIN WEBSITES', 'STRATEGY',\n",
       "       'CONS./PROF.SERV. RESEARCH', 'RENT/OCCUPANCY', 'POSTAGE',\n",
       "       'CONS/PROF.SERV. COMPUTER', 'PUBLICATIONS/ SUBSCRIPTIONS',\n",
       "       'INSURANCE', 'MAILING', 'MEDIA PRODUCTION EXP', 'LEGAL SERVICES',\n",
       "       'PARKING', 'CONTRIBUTION', 'TECHNOLOGY CONSULTING',\n",
       "       'WAGE GARNISHMENT', 'CONTRIBUTIONS CHARITABLE',\n",
       "       'LIST RENTAL MARKET VALUE', 'TRAVEL/LODGING IN-KIND',\n",
       "       'CATERING/FACILITIES IN-KIND', 'OFFICE FURNITURE',\n",
       "       'TELEPHONE IN-KIND', 'STATE BUSINESS TAX',\n",
       "       'OFFICE SUPPLIES IN-KIND', 'PRINTING IN-KIND',\n",
       "       'OFFICE EXPENSES IN-KIND', 'EVENT MANAGEMENT SERVICES IN-KIND',\n",
       "       'EQUIPMENT RENTAL IN-KIND', 'ENTERTAINMENT',\n",
       "       'EVENT MANAGEMENT SERVICES', 'POSTAGE IN-KIND',\n",
       "       'EQUIPMENT IN-KIND', 'CONTRIBUTION OF EXCESS FUNDS',\n",
       "       'EVENT SITE RENTAL IN-KIND', 'UTILITIES IN-KIND',\n",
       "       'OFFICE EXPENSES', 'RENT/OCCUPANCY IN-KIND', 'PARKING IN-KIND',\n",
       "       'DECORATIONS IN KIND', 'FLORAL', 'PARADE FEES',\n",
       "       'DOOR-TO-DOOR GET-OUT THE-VOTE', 'TRAVEL REIMBURSEMENT MILEAGE',\n",
       "       'INTERNET EXPENSE IN-KIND', 'PROCESSING CONTRIBUTIONS', 'TAXES',\n",
       "       'USE TAX', 'LICENSE FEES INKIND', 'LEASEHOLD IMPROVEMENTS',\n",
       "       'ACCOUNTING', 'CONSULT/FUNDRAISING PROFESS. SERVICES',\n",
       "       'PROMOTIONAL MATERIALS', 'ADMINISTRATIVE/LEGAL', 'MEALS',\n",
       "       'PHOTOGRAPHY IN-KIND', 'INTERNET EXPENSE',\n",
       "       'CONS./PROF. SERV. COMMUNICATIONS', 'CONS./ADMIN SERV.', 'MEDIA',\n",
       "       'ADVERTISING IN-KIND'], dtype=object)"
      ]
     },
     "execution_count": 8,
     "metadata": {},
     "output_type": "execute_result"
    }
   ],
   "source": [
    "df_obama.disbursement_description.unique()"
   ]
  },
  {
   "cell_type": "code",
   "execution_count": 9,
   "metadata": {
    "slideshow": {
     "slide_type": "fragment"
    }
   },
   "outputs": [],
   "source": [
    "df_obama.drop(df_obama[df_obama['disbursement_purpose_category'] == 'REFUNDS'].index, inplace = True) \n",
    "df_obama.drop(df_obama[df_obama['disbursement_description'] == 'CONTRIBUTION REFUND'].index, inplace = True) \n",
    "df_obama = df_obama[df_obama['disbursement_description'].notna()]"
   ]
  },
  {
   "cell_type": "code",
   "execution_count": 10,
   "metadata": {
    "slideshow": {
     "slide_type": "skip"
    }
   },
   "outputs": [
    {
     "data": {
      "text/plain": [
       "committee_id                       0\n",
       "report_year                        0\n",
       "disbursement_date                  0\n",
       "recipient_name                     0\n",
       "recipient_state                  174\n",
       "recipient_city                   115\n",
       "disbursement_purpose_category      0\n",
       "disbursement_description           0\n",
       "disbursement_amount                0\n",
       "dtype: int64"
      ]
     },
     "execution_count": 10,
     "metadata": {},
     "output_type": "execute_result"
    }
   ],
   "source": [
    "df_obama.isnull().sum()"
   ]
  },
  {
   "cell_type": "code",
   "execution_count": 11,
   "metadata": {
    "scrolled": true,
    "slideshow": {
     "slide_type": "skip"
    }
   },
   "outputs": [],
   "source": [
    "obama_cat_sum = df_obama.groupby('disbursement_description').agg({'disbursement_description':'count','disbursement_amount':'sum'})"
   ]
  },
  {
   "cell_type": "code",
   "execution_count": 12,
   "metadata": {
    "slideshow": {
     "slide_type": "skip"
    }
   },
   "outputs": [],
   "source": [
    "obama_cat_sum.rename(columns={'disbursement_description':'count'}, inplace=True)"
   ]
  },
  {
   "cell_type": "code",
   "execution_count": 13,
   "metadata": {
    "slideshow": {
     "slide_type": "skip"
    }
   },
   "outputs": [],
   "source": [
    "pd.options.display.max_rows = None"
   ]
  },
  {
   "cell_type": "markdown",
   "metadata": {
    "slideshow": {
     "slide_type": "slide"
    }
   },
   "source": [
    "**<div class=\"alert alert-block alert-warning\">#4 a glimpse of the data for further analysis**"
   ]
  },
  {
   "cell_type": "code",
   "execution_count": 14,
   "metadata": {
    "slideshow": {
     "slide_type": "fragment"
    }
   },
   "outputs": [
    {
     "data": {
      "text/html": [
       "<div>\n",
       "<style scoped>\n",
       "    .dataframe tbody tr th:only-of-type {\n",
       "        vertical-align: middle;\n",
       "    }\n",
       "\n",
       "    .dataframe tbody tr th {\n",
       "        vertical-align: top;\n",
       "    }\n",
       "\n",
       "    .dataframe thead th {\n",
       "        text-align: right;\n",
       "    }\n",
       "</style>\n",
       "<table border=\"1\" class=\"dataframe\">\n",
       "  <thead>\n",
       "    <tr style=\"text-align: right;\">\n",
       "      <th></th>\n",
       "      <th>count</th>\n",
       "      <th>disbursement_amount</th>\n",
       "    </tr>\n",
       "    <tr>\n",
       "      <th>disbursement_description</th>\n",
       "      <th></th>\n",
       "      <th></th>\n",
       "    </tr>\n",
       "  </thead>\n",
       "  <tbody>\n",
       "    <tr>\n",
       "      <th>TRAVEL/LODGING</th>\n",
       "      <td>41215</td>\n",
       "      <td>7.683830e+07</td>\n",
       "    </tr>\n",
       "    <tr>\n",
       "      <th>PAYROLL</th>\n",
       "      <td>17920</td>\n",
       "      <td>3.088012e+07</td>\n",
       "    </tr>\n",
       "    <tr>\n",
       "      <th>TRAVEL AGENCY FEES</th>\n",
       "      <td>14734</td>\n",
       "      <td>4.202970e+05</td>\n",
       "    </tr>\n",
       "    <tr>\n",
       "      <th>PER DIEM</th>\n",
       "      <td>7823</td>\n",
       "      <td>2.785564e+06</td>\n",
       "    </tr>\n",
       "    <tr>\n",
       "      <th>STAGING, SOUND, LIGHTING</th>\n",
       "      <td>3406</td>\n",
       "      <td>2.668376e+07</td>\n",
       "    </tr>\n",
       "    <tr>\n",
       "      <th>TELEPHONE</th>\n",
       "      <td>3337</td>\n",
       "      <td>5.261824e+06</td>\n",
       "    </tr>\n",
       "    <tr>\n",
       "      <th>PAYROLL TAXES</th>\n",
       "      <td>2477</td>\n",
       "      <td>3.480334e+06</td>\n",
       "    </tr>\n",
       "    <tr>\n",
       "      <th>ON-LINE ADVERTISING</th>\n",
       "      <td>2334</td>\n",
       "      <td>3.440741e+07</td>\n",
       "    </tr>\n",
       "    <tr>\n",
       "      <th>CATERING/FACILITIES</th>\n",
       "      <td>2046</td>\n",
       "      <td>2.486207e+06</td>\n",
       "    </tr>\n",
       "    <tr>\n",
       "      <th>PRINTING</th>\n",
       "      <td>1862</td>\n",
       "      <td>7.923893e+06</td>\n",
       "    </tr>\n",
       "    <tr>\n",
       "      <th>OFFICE SUPPLIES</th>\n",
       "      <td>1828</td>\n",
       "      <td>8.526314e+05</td>\n",
       "    </tr>\n",
       "    <tr>\n",
       "      <th>ADVANCE WORK</th>\n",
       "      <td>1487</td>\n",
       "      <td>1.088166e+06</td>\n",
       "    </tr>\n",
       "    <tr>\n",
       "      <th>EVENT SITE RENTAL</th>\n",
       "      <td>1088</td>\n",
       "      <td>5.505096e+06</td>\n",
       "    </tr>\n",
       "    <tr>\n",
       "      <th>MEDIA PRODUCTION EXP</th>\n",
       "      <td>944</td>\n",
       "      <td>1.023214e+07</td>\n",
       "    </tr>\n",
       "    <tr>\n",
       "      <th>COMPUTER EQUIP</th>\n",
       "      <td>678</td>\n",
       "      <td>1.292788e+06</td>\n",
       "    </tr>\n",
       "    <tr>\n",
       "      <th>DELIVERY</th>\n",
       "      <td>669</td>\n",
       "      <td>1.116332e+06</td>\n",
       "    </tr>\n",
       "    <tr>\n",
       "      <th>RENT/OCCUPANCY</th>\n",
       "      <td>622</td>\n",
       "      <td>1.347669e+06</td>\n",
       "    </tr>\n",
       "    <tr>\n",
       "      <th>PRINT ADVERTISING</th>\n",
       "      <td>478</td>\n",
       "      <td>2.076970e+07</td>\n",
       "    </tr>\n",
       "    <tr>\n",
       "      <th>CREDIT CARD FEES</th>\n",
       "      <td>420</td>\n",
       "      <td>1.389138e+07</td>\n",
       "    </tr>\n",
       "    <tr>\n",
       "      <th>TELEMARKETING</th>\n",
       "      <td>410</td>\n",
       "      <td>2.099130e+07</td>\n",
       "    </tr>\n",
       "    <tr>\n",
       "      <th>EQUIPMENT RENTAL</th>\n",
       "      <td>347</td>\n",
       "      <td>4.393439e+05</td>\n",
       "    </tr>\n",
       "    <tr>\n",
       "      <th>POSTAGE</th>\n",
       "      <td>327</td>\n",
       "      <td>1.400927e+07</td>\n",
       "    </tr>\n",
       "    <tr>\n",
       "      <th>INTERPRETING SERVICE</th>\n",
       "      <td>276</td>\n",
       "      <td>9.622225e+04</td>\n",
       "    </tr>\n",
       "    <tr>\n",
       "      <th>POLLING</th>\n",
       "      <td>276</td>\n",
       "      <td>1.110540e+07</td>\n",
       "    </tr>\n",
       "    <tr>\n",
       "      <th>UTILITIES</th>\n",
       "      <td>272</td>\n",
       "      <td>2.676754e+05</td>\n",
       "    </tr>\n",
       "    <tr>\n",
       "      <th>RENT/OCCUPANCY IN-KIND</th>\n",
       "      <td>266</td>\n",
       "      <td>2.054763e+05</td>\n",
       "    </tr>\n",
       "    <tr>\n",
       "      <th>CONTRIBUTION</th>\n",
       "      <td>251</td>\n",
       "      <td>4.017698e+07</td>\n",
       "    </tr>\n",
       "    <tr>\n",
       "      <th>COMPUTER SOFTWARE</th>\n",
       "      <td>240</td>\n",
       "      <td>3.164060e+05</td>\n",
       "    </tr>\n",
       "    <tr>\n",
       "      <th>WEB SITE HOSTING</th>\n",
       "      <td>239</td>\n",
       "      <td>9.571551e+05</td>\n",
       "    </tr>\n",
       "    <tr>\n",
       "      <th>MEDIA BUY</th>\n",
       "      <td>233</td>\n",
       "      <td>3.491403e+08</td>\n",
       "    </tr>\n",
       "    <tr>\n",
       "      <th>SECURITY</th>\n",
       "      <td>231</td>\n",
       "      <td>2.886076e+05</td>\n",
       "    </tr>\n",
       "    <tr>\n",
       "      <th>MAILING</th>\n",
       "      <td>190</td>\n",
       "      <td>1.339374e+07</td>\n",
       "    </tr>\n",
       "    <tr>\n",
       "      <th>BANK CHARGES/FEES</th>\n",
       "      <td>163</td>\n",
       "      <td>1.650733e+05</td>\n",
       "    </tr>\n",
       "    <tr>\n",
       "      <th>CATERING/FACILITIES IN-KIND</th>\n",
       "      <td>160</td>\n",
       "      <td>5.671514e+04</td>\n",
       "    </tr>\n",
       "    <tr>\n",
       "      <th>DECORATIONS</th>\n",
       "      <td>158</td>\n",
       "      <td>7.783104e+05</td>\n",
       "    </tr>\n",
       "    <tr>\n",
       "      <th>EQUIPMENT MAINTENANCE</th>\n",
       "      <td>143</td>\n",
       "      <td>2.496657e+05</td>\n",
       "    </tr>\n",
       "    <tr>\n",
       "      <th>PRINTING IN-KIND</th>\n",
       "      <td>129</td>\n",
       "      <td>6.276246e+04</td>\n",
       "    </tr>\n",
       "    <tr>\n",
       "      <th>STRATEGY</th>\n",
       "      <td>129</td>\n",
       "      <td>1.604914e+06</td>\n",
       "    </tr>\n",
       "    <tr>\n",
       "      <th>OFFICE SUPPLIES IN-KIND</th>\n",
       "      <td>116</td>\n",
       "      <td>3.971091e+04</td>\n",
       "    </tr>\n",
       "    <tr>\n",
       "      <th>INSURANCE</th>\n",
       "      <td>84</td>\n",
       "      <td>3.039604e+06</td>\n",
       "    </tr>\n",
       "    <tr>\n",
       "      <th>LICENSE FEES</th>\n",
       "      <td>82</td>\n",
       "      <td>1.589452e+04</td>\n",
       "    </tr>\n",
       "    <tr>\n",
       "      <th>PUBLICATIONS/ SUBSCRIPTIONS</th>\n",
       "      <td>81</td>\n",
       "      <td>1.632703e+05</td>\n",
       "    </tr>\n",
       "    <tr>\n",
       "      <th>DOMAIN WEBSITES</th>\n",
       "      <td>81</td>\n",
       "      <td>3.318648e+06</td>\n",
       "    </tr>\n",
       "    <tr>\n",
       "      <th>CONS./PROF.SERV. FUNDRAISING</th>\n",
       "      <td>79</td>\n",
       "      <td>5.466768e+05</td>\n",
       "    </tr>\n",
       "    <tr>\n",
       "      <th>EVENT SITE RENTAL IN-KIND</th>\n",
       "      <td>79</td>\n",
       "      <td>3.924325e+04</td>\n",
       "    </tr>\n",
       "    <tr>\n",
       "      <th>CONS./PROF.SERV. MEDIA</th>\n",
       "      <td>75</td>\n",
       "      <td>2.215913e+06</td>\n",
       "    </tr>\n",
       "    <tr>\n",
       "      <th>TELEPHONE IN-KIND</th>\n",
       "      <td>73</td>\n",
       "      <td>2.635382e+04</td>\n",
       "    </tr>\n",
       "    <tr>\n",
       "      <th>TECHNOLOGY CONSULTING</th>\n",
       "      <td>70</td>\n",
       "      <td>2.573359e+05</td>\n",
       "    </tr>\n",
       "    <tr>\n",
       "      <th>MEALS</th>\n",
       "      <td>60</td>\n",
       "      <td>5.869290e+03</td>\n",
       "    </tr>\n",
       "    <tr>\n",
       "      <th>PARKING</th>\n",
       "      <td>60</td>\n",
       "      <td>3.332816e+04</td>\n",
       "    </tr>\n",
       "    <tr>\n",
       "      <th>CONS./ACCT.SERV.</th>\n",
       "      <td>58</td>\n",
       "      <td>9.601449e+05</td>\n",
       "    </tr>\n",
       "    <tr>\n",
       "      <th>LIST RENTAL MARKET VALUE</th>\n",
       "      <td>57</td>\n",
       "      <td>4.067470e+05</td>\n",
       "    </tr>\n",
       "    <tr>\n",
       "      <th>CONS./PROF.SERV. RESEARCH</th>\n",
       "      <td>45</td>\n",
       "      <td>1.668951e+05</td>\n",
       "    </tr>\n",
       "    <tr>\n",
       "      <th>PHOTOGRAPHY</th>\n",
       "      <td>44</td>\n",
       "      <td>3.221113e+04</td>\n",
       "    </tr>\n",
       "    <tr>\n",
       "      <th>PAYROLL PROCESSING FEE</th>\n",
       "      <td>40</td>\n",
       "      <td>6.502262e+04</td>\n",
       "    </tr>\n",
       "    <tr>\n",
       "      <th>TRAVEL/LODGING IN-KIND</th>\n",
       "      <td>40</td>\n",
       "      <td>2.682608e+04</td>\n",
       "    </tr>\n",
       "    <tr>\n",
       "      <th>EQUIPMENT</th>\n",
       "      <td>36</td>\n",
       "      <td>3.027789e+04</td>\n",
       "    </tr>\n",
       "    <tr>\n",
       "      <th>OFFICE FURNITURE</th>\n",
       "      <td>30</td>\n",
       "      <td>4.847291e+04</td>\n",
       "    </tr>\n",
       "    <tr>\n",
       "      <th>DOOR-TO-DOOR GET-OUT THE-VOTE</th>\n",
       "      <td>29</td>\n",
       "      <td>8.345467e+05</td>\n",
       "    </tr>\n",
       "    <tr>\n",
       "      <th>TRAVEL REIMBURSEMENT MILEAGE</th>\n",
       "      <td>27</td>\n",
       "      <td>6.527490e+03</td>\n",
       "    </tr>\n",
       "    <tr>\n",
       "      <th>LEGAL SERVICES</th>\n",
       "      <td>26</td>\n",
       "      <td>7.580665e+05</td>\n",
       "    </tr>\n",
       "    <tr>\n",
       "      <th>RESEARCH MATERIALS</th>\n",
       "      <td>22</td>\n",
       "      <td>9.128920e+03</td>\n",
       "    </tr>\n",
       "    <tr>\n",
       "      <th>CONS/PROF.SERV. COMPUTER</th>\n",
       "      <td>19</td>\n",
       "      <td>9.741250e+04</td>\n",
       "    </tr>\n",
       "    <tr>\n",
       "      <th>CONTRIBUTIONS CHARITABLE</th>\n",
       "      <td>18</td>\n",
       "      <td>1.295070e+05</td>\n",
       "    </tr>\n",
       "    <tr>\n",
       "      <th>OFFICE EXPENSES</th>\n",
       "      <td>16</td>\n",
       "      <td>1.046272e+04</td>\n",
       "    </tr>\n",
       "    <tr>\n",
       "      <th>EQUIPMENT IN-KIND</th>\n",
       "      <td>14</td>\n",
       "      <td>3.020510e+03</td>\n",
       "    </tr>\n",
       "    <tr>\n",
       "      <th>CONS./ADMIN SERV.</th>\n",
       "      <td>7</td>\n",
       "      <td>1.826410e+04</td>\n",
       "    </tr>\n",
       "    <tr>\n",
       "      <th>POSTAGE IN-KIND</th>\n",
       "      <td>7</td>\n",
       "      <td>1.645940e+03</td>\n",
       "    </tr>\n",
       "    <tr>\n",
       "      <th>WAGE GARNISHMENT</th>\n",
       "      <td>7</td>\n",
       "      <td>4.573970e+03</td>\n",
       "    </tr>\n",
       "    <tr>\n",
       "      <th>ADVERTISING IN-KIND</th>\n",
       "      <td>6</td>\n",
       "      <td>5.416000e+03</td>\n",
       "    </tr>\n",
       "    <tr>\n",
       "      <th>OFFICE EXPENSES IN-KIND</th>\n",
       "      <td>5</td>\n",
       "      <td>1.050000e+03</td>\n",
       "    </tr>\n",
       "    <tr>\n",
       "      <th>INTERNET EXPENSE IN-KIND</th>\n",
       "      <td>5</td>\n",
       "      <td>3.025500e+03</td>\n",
       "    </tr>\n",
       "    <tr>\n",
       "      <th>PARADE FEES</th>\n",
       "      <td>5</td>\n",
       "      <td>2.600000e+03</td>\n",
       "    </tr>\n",
       "    <tr>\n",
       "      <th>UTILITIES IN-KIND</th>\n",
       "      <td>4</td>\n",
       "      <td>2.304890e+03</td>\n",
       "    </tr>\n",
       "    <tr>\n",
       "      <th>ENTERTAINMENT</th>\n",
       "      <td>4</td>\n",
       "      <td>1.655490e+03</td>\n",
       "    </tr>\n",
       "    <tr>\n",
       "      <th>EVENT MANAGEMENT SERVICES</th>\n",
       "      <td>4</td>\n",
       "      <td>1.650000e+02</td>\n",
       "    </tr>\n",
       "    <tr>\n",
       "      <th>DECORATIONS IN KIND</th>\n",
       "      <td>3</td>\n",
       "      <td>3.811600e+02</td>\n",
       "    </tr>\n",
       "    <tr>\n",
       "      <th>CONS./PROF. SERV. COMMUNICATIONS</th>\n",
       "      <td>3</td>\n",
       "      <td>6.000000e+03</td>\n",
       "    </tr>\n",
       "    <tr>\n",
       "      <th>FLORAL</th>\n",
       "      <td>3</td>\n",
       "      <td>5.909000e+02</td>\n",
       "    </tr>\n",
       "    <tr>\n",
       "      <th>STATE BUSINESS TAX</th>\n",
       "      <td>3</td>\n",
       "      <td>1.894000e+03</td>\n",
       "    </tr>\n",
       "    <tr>\n",
       "      <th>UNLIMITED TRANSFER</th>\n",
       "      <td>3</td>\n",
       "      <td>7.500000e+06</td>\n",
       "    </tr>\n",
       "    <tr>\n",
       "      <th>TAXES</th>\n",
       "      <td>3</td>\n",
       "      <td>3.461502e+05</td>\n",
       "    </tr>\n",
       "    <tr>\n",
       "      <th>USE TAX</th>\n",
       "      <td>2</td>\n",
       "      <td>1.334200e+03</td>\n",
       "    </tr>\n",
       "    <tr>\n",
       "      <th>ACCOUNTING</th>\n",
       "      <td>2</td>\n",
       "      <td>8.542440e+03</td>\n",
       "    </tr>\n",
       "    <tr>\n",
       "      <th>PROCESSING CONTRIBUTIONS</th>\n",
       "      <td>2</td>\n",
       "      <td>2.980856e+05</td>\n",
       "    </tr>\n",
       "    <tr>\n",
       "      <th>PARKING IN-KIND</th>\n",
       "      <td>2</td>\n",
       "      <td>2.375000e+03</td>\n",
       "    </tr>\n",
       "    <tr>\n",
       "      <th>INTERNET EXPENSE</th>\n",
       "      <td>2</td>\n",
       "      <td>1.509990e+03</td>\n",
       "    </tr>\n",
       "    <tr>\n",
       "      <th>EQUIPMENT RENTAL IN-KIND</th>\n",
       "      <td>2</td>\n",
       "      <td>3.550000e+02</td>\n",
       "    </tr>\n",
       "    <tr>\n",
       "      <th>PROMOTIONAL MATERIALS</th>\n",
       "      <td>1</td>\n",
       "      <td>1.325485e+05</td>\n",
       "    </tr>\n",
       "    <tr>\n",
       "      <th>PHOTOGRAPHY IN-KIND</th>\n",
       "      <td>1</td>\n",
       "      <td>5.000000e+02</td>\n",
       "    </tr>\n",
       "    <tr>\n",
       "      <th>ADMINISTRATIVE/LEGAL</th>\n",
       "      <td>1</td>\n",
       "      <td>6.000000e+02</td>\n",
       "    </tr>\n",
       "    <tr>\n",
       "      <th>LICENSE FEES INKIND</th>\n",
       "      <td>1</td>\n",
       "      <td>7.000000e+01</td>\n",
       "    </tr>\n",
       "    <tr>\n",
       "      <th>LEASEHOLD IMPROVEMENTS</th>\n",
       "      <td>1</td>\n",
       "      <td>1.075000e+03</td>\n",
       "    </tr>\n",
       "    <tr>\n",
       "      <th>EVENT MANAGEMENT SERVICES IN-KIND</th>\n",
       "      <td>1</td>\n",
       "      <td>2.300000e+03</td>\n",
       "    </tr>\n",
       "    <tr>\n",
       "      <th>CONTRIBUTION OF EXCESS FUNDS</th>\n",
       "      <td>1</td>\n",
       "      <td>1.200000e+03</td>\n",
       "    </tr>\n",
       "    <tr>\n",
       "      <th>CONSULT/FUNDRAISING PROFESS. SERVICES</th>\n",
       "      <td>1</td>\n",
       "      <td>7.000000e+03</td>\n",
       "    </tr>\n",
       "    <tr>\n",
       "      <th>MEDIA</th>\n",
       "      <td>1</td>\n",
       "      <td>1.000000e+04</td>\n",
       "    </tr>\n",
       "  </tbody>\n",
       "</table>\n",
       "</div>"
      ],
      "text/plain": [
       "                                       count  disbursement_amount\n",
       "disbursement_description                                         \n",
       "TRAVEL/LODGING                         41215         7.683830e+07\n",
       "PAYROLL                                17920         3.088012e+07\n",
       "TRAVEL AGENCY FEES                     14734         4.202970e+05\n",
       "PER DIEM                                7823         2.785564e+06\n",
       "STAGING, SOUND, LIGHTING                3406         2.668376e+07\n",
       "TELEPHONE                               3337         5.261824e+06\n",
       "PAYROLL TAXES                           2477         3.480334e+06\n",
       "ON-LINE ADVERTISING                     2334         3.440741e+07\n",
       "CATERING/FACILITIES                     2046         2.486207e+06\n",
       "PRINTING                                1862         7.923893e+06\n",
       "OFFICE SUPPLIES                         1828         8.526314e+05\n",
       "ADVANCE WORK                            1487         1.088166e+06\n",
       "EVENT SITE RENTAL                       1088         5.505096e+06\n",
       "MEDIA PRODUCTION EXP                     944         1.023214e+07\n",
       "COMPUTER EQUIP                           678         1.292788e+06\n",
       "DELIVERY                                 669         1.116332e+06\n",
       "RENT/OCCUPANCY                           622         1.347669e+06\n",
       "PRINT ADVERTISING                        478         2.076970e+07\n",
       "CREDIT CARD FEES                         420         1.389138e+07\n",
       "TELEMARKETING                            410         2.099130e+07\n",
       "EQUIPMENT RENTAL                         347         4.393439e+05\n",
       "POSTAGE                                  327         1.400927e+07\n",
       "INTERPRETING SERVICE                     276         9.622225e+04\n",
       "POLLING                                  276         1.110540e+07\n",
       "UTILITIES                                272         2.676754e+05\n",
       "RENT/OCCUPANCY IN-KIND                   266         2.054763e+05\n",
       "CONTRIBUTION                             251         4.017698e+07\n",
       "COMPUTER SOFTWARE                        240         3.164060e+05\n",
       "WEB SITE HOSTING                         239         9.571551e+05\n",
       "MEDIA BUY                                233         3.491403e+08\n",
       "SECURITY                                 231         2.886076e+05\n",
       "MAILING                                  190         1.339374e+07\n",
       "BANK CHARGES/FEES                        163         1.650733e+05\n",
       "CATERING/FACILITIES IN-KIND              160         5.671514e+04\n",
       "DECORATIONS                              158         7.783104e+05\n",
       "EQUIPMENT MAINTENANCE                    143         2.496657e+05\n",
       "PRINTING IN-KIND                         129         6.276246e+04\n",
       "STRATEGY                                 129         1.604914e+06\n",
       "OFFICE SUPPLIES IN-KIND                  116         3.971091e+04\n",
       "INSURANCE                                 84         3.039604e+06\n",
       "LICENSE FEES                              82         1.589452e+04\n",
       "PUBLICATIONS/ SUBSCRIPTIONS               81         1.632703e+05\n",
       "DOMAIN WEBSITES                           81         3.318648e+06\n",
       "CONS./PROF.SERV. FUNDRAISING              79         5.466768e+05\n",
       "EVENT SITE RENTAL IN-KIND                 79         3.924325e+04\n",
       "CONS./PROF.SERV. MEDIA                    75         2.215913e+06\n",
       "TELEPHONE IN-KIND                         73         2.635382e+04\n",
       "TECHNOLOGY CONSULTING                     70         2.573359e+05\n",
       "MEALS                                     60         5.869290e+03\n",
       "PARKING                                   60         3.332816e+04\n",
       "CONS./ACCT.SERV.                          58         9.601449e+05\n",
       "LIST RENTAL MARKET VALUE                  57         4.067470e+05\n",
       "CONS./PROF.SERV. RESEARCH                 45         1.668951e+05\n",
       "PHOTOGRAPHY                               44         3.221113e+04\n",
       "PAYROLL PROCESSING FEE                    40         6.502262e+04\n",
       "TRAVEL/LODGING IN-KIND                    40         2.682608e+04\n",
       "EQUIPMENT                                 36         3.027789e+04\n",
       "OFFICE FURNITURE                          30         4.847291e+04\n",
       "DOOR-TO-DOOR GET-OUT THE-VOTE             29         8.345467e+05\n",
       "TRAVEL REIMBURSEMENT MILEAGE              27         6.527490e+03\n",
       "LEGAL SERVICES                            26         7.580665e+05\n",
       "RESEARCH MATERIALS                        22         9.128920e+03\n",
       "CONS/PROF.SERV. COMPUTER                  19         9.741250e+04\n",
       "CONTRIBUTIONS CHARITABLE                  18         1.295070e+05\n",
       "OFFICE EXPENSES                           16         1.046272e+04\n",
       "EQUIPMENT IN-KIND                         14         3.020510e+03\n",
       "CONS./ADMIN SERV.                          7         1.826410e+04\n",
       "POSTAGE IN-KIND                            7         1.645940e+03\n",
       "WAGE GARNISHMENT                           7         4.573970e+03\n",
       "ADVERTISING IN-KIND                        6         5.416000e+03\n",
       "OFFICE EXPENSES IN-KIND                    5         1.050000e+03\n",
       "INTERNET EXPENSE IN-KIND                   5         3.025500e+03\n",
       "PARADE FEES                                5         2.600000e+03\n",
       "UTILITIES IN-KIND                          4         2.304890e+03\n",
       "ENTERTAINMENT                              4         1.655490e+03\n",
       "EVENT MANAGEMENT SERVICES                  4         1.650000e+02\n",
       "DECORATIONS IN KIND                        3         3.811600e+02\n",
       "CONS./PROF. SERV. COMMUNICATIONS           3         6.000000e+03\n",
       "FLORAL                                     3         5.909000e+02\n",
       "STATE BUSINESS TAX                         3         1.894000e+03\n",
       "UNLIMITED TRANSFER                         3         7.500000e+06\n",
       "TAXES                                      3         3.461502e+05\n",
       "USE TAX                                    2         1.334200e+03\n",
       "ACCOUNTING                                 2         8.542440e+03\n",
       "PROCESSING CONTRIBUTIONS                   2         2.980856e+05\n",
       "PARKING IN-KIND                            2         2.375000e+03\n",
       "INTERNET EXPENSE                           2         1.509990e+03\n",
       "EQUIPMENT RENTAL IN-KIND                   2         3.550000e+02\n",
       "PROMOTIONAL MATERIALS                      1         1.325485e+05\n",
       "PHOTOGRAPHY IN-KIND                        1         5.000000e+02\n",
       "ADMINISTRATIVE/LEGAL                       1         6.000000e+02\n",
       "LICENSE FEES INKIND                        1         7.000000e+01\n",
       "LEASEHOLD IMPROVEMENTS                     1         1.075000e+03\n",
       "EVENT MANAGEMENT SERVICES IN-KIND          1         2.300000e+03\n",
       "CONTRIBUTION OF EXCESS FUNDS               1         1.200000e+03\n",
       "CONSULT/FUNDRAISING PROFESS. SERVICES      1         7.000000e+03\n",
       "MEDIA                                      1         1.000000e+04"
      ]
     },
     "execution_count": 14,
     "metadata": {},
     "output_type": "execute_result"
    }
   ],
   "source": [
    "obama_cat_sum.sort_values('count',ascending=False,na_position='first')"
   ]
  },
  {
   "cell_type": "code",
   "execution_count": 15,
   "metadata": {
    "slideshow": {
     "slide_type": "fragment"
    }
   },
   "outputs": [
    {
     "data": {
      "text/plain": [
       "111362"
      ]
     },
     "execution_count": 15,
     "metadata": {},
     "output_type": "execute_result"
    }
   ],
   "source": [
    "len(df_obama)"
   ]
  },
  {
   "cell_type": "markdown",
   "metadata": {
    "slideshow": {
     "slide_type": "slide"
    }
   },
   "source": [
    "## Text Clustering "
   ]
  },
  {
   "cell_type": "code",
   "execution_count": 17,
   "metadata": {
    "slideshow": {
     "slide_type": "fragment"
    }
   },
   "outputs": [],
   "source": [
    "# Get tokens \n",
    "import spacy\n",
    "spacy.load('en')\n",
    "from spacy.lang.en import English\n",
    "parser = English()\n",
    "\n",
    "def tokenize(text): \n",
    "    lda_tokens = []\n",
    "    tokens = parser(text)\n",
    "    for token in tokens:\n",
    "        if token.orth_.isspace(): #skip space\n",
    "            continue\n",
    "        elif token.like_num: # delete numbers\n",
    "            continue\n",
    "        else:\n",
    "            lda_tokens.append(token.lower_)\n",
    "    return lda_tokens"
   ]
  },
  {
   "cell_type": "code",
   "execution_count": 18,
   "metadata": {
    "slideshow": {
     "slide_type": "slide"
    }
   },
   "outputs": [
    {
     "name": "stderr",
     "output_type": "stream",
     "text": [
      "[nltk_data] Downloading package stopwords to\n",
      "[nltk_data]     /home/ec2-user/nltk_data...\n",
      "[nltk_data]   Package stopwords is already up-to-date!\n",
      "[nltk_data] Downloading package wordnet to /home/ec2-user/nltk_data...\n",
      "[nltk_data]   Package wordnet is already up-to-date!\n"
     ]
    }
   ],
   "source": [
    "# Get the puntuations set\n",
    "import string\n",
    "en_punct = set(string.punctuation)\n",
    "\n",
    "# Get the stop words set\n",
    "import nltk\n",
    "nltk.download('stopwords')\n",
    "en_stop = set(nltk.corpus.stopwords.words('english'))\n",
    "\n",
    "# Get Lemmas for LDA analysis (function)\n",
    "import nltk\n",
    "nltk.download('wordnet')\n",
    "from nltk.corpus import wordnet as wn\n",
    "from nltk.stem.wordnet import WordNetLemmatizer\n",
    "\n",
    "def get_lemma(word):\n",
    "    return WordNetLemmatizer().lemmatize(word) "
   ]
  },
  {
   "cell_type": "code",
   "execution_count": 19,
   "metadata": {
    "slideshow": {
     "slide_type": "slide"
    }
   },
   "outputs": [],
   "source": [
    "#Combine functions \n",
    "def prepare_text_for_lda(text):\n",
    "    tokens = tokenize(text)\n",
    "    tokens = [token for token in tokens if token not in en_punct] # delete punctuations\n",
    "    tokens = [token for token in tokens if len(token) > 1] # at least 2 letters consist a word\n",
    "    tokens = [token for token in tokens if token not in en_stop] # delete stop words\n",
    "    tokens = [get_lemma(token) for token in tokens] # delete word variants for accurate result\n",
    "    return tokens"
   ]
  },
  {
   "cell_type": "code",
   "execution_count": 54,
   "metadata": {
    "slideshow": {
     "slide_type": "slide"
    }
   },
   "outputs": [],
   "source": [
    "# Import data for LDA analysis and return text_data\n",
    "import random\n",
    "text_data = []\n",
    "for line in df_obama['disbursement_description']:\n",
    "    tokens = prepare_text_for_lda(line)\n",
    "    if random.random() > .99:\n",
    "        #print(tokens)\n",
    "        text_data.append(tokens)"
   ]
  },
  {
   "cell_type": "code",
   "execution_count": 55,
   "metadata": {
    "slideshow": {
     "slide_type": "slide"
    }
   },
   "outputs": [],
   "source": [
    "# Cluster topics\n",
    "from gensim import corpora \n",
    "dictionary = corpora.Dictionary(text_data)\n",
    "corpus = [dictionary.doc2bow(text) for text in text_data]"
   ]
  },
  {
   "cell_type": "code",
   "execution_count": 56,
   "metadata": {
    "slideshow": {
     "slide_type": "fragment"
    }
   },
   "outputs": [],
   "source": [
    "import pickle\n",
    "pickle.dump(corpus, open('corpus.pkl', 'wb'))\n",
    "dictionary.save('dictionary.gensim')"
   ]
  },
  {
   "cell_type": "code",
   "execution_count": 70,
   "metadata": {
    "slideshow": {
     "slide_type": "slide"
    }
   },
   "outputs": [
    {
     "name": "stdout",
     "output_type": "stream",
     "text": [
      "(0, '0.418*\"travel\" + 0.307*\"lodging\" + 0.112*\"agency\" + 0.112*\"fee\" + 0.019*\"facility\" + 0.019*\"catering\"')\n",
      "(1, '0.758*\"payroll\" + 0.080*\"tax\" + 0.033*\"computer\" + 0.021*\"equip\" + 0.017*\"contribution\" + 0.013*\"software\"')\n",
      "(2, '0.177*\"sound\" + 0.177*\"lighting\" + 0.177*\"staging\" + 0.075*\"rental\" + 0.075*\"site\" + 0.060*\"event\"')\n",
      "(3, '0.185*\"advertising\" + 0.126*\"line\" + 0.112*\"medium\" + 0.090*\"production\" + 0.090*\"exp\" + 0.061*\"fee\"')\n",
      "(4, '0.241*\"per\" + 0.241*\"diem\" + 0.129*\"telephone\" + 0.058*\"printing\" + 0.041*\"office\" + 0.041*\"supply\"')\n"
     ]
    }
   ],
   "source": [
    "import gensim # package for topic modeling\n",
    "NUM_TOPICS = 5 # trial number based on understanding of the data file & research aims, we can lock down this number before presentation\n",
    "ldamodel = gensim.models.ldamodel.LdaModel(corpus, num_topics = NUM_TOPICS, id2word=dictionary, passes=20)\n",
    "ldamodel.save('model.gensim')\n",
    "topics = ldamodel.print_topics(num_words=6)\n",
    "for topic in topics:\n",
    "    print(topic)"
   ]
  },
  {
   "cell_type": "code",
   "execution_count": 26,
   "metadata": {
    "slideshow": {
     "slide_type": "skip"
    }
   },
   "outputs": [],
   "source": [
    "import pyLDAvis "
   ]
  },
  {
   "cell_type": "code",
   "execution_count": 27,
   "metadata": {
    "slideshow": {
     "slide_type": "slide"
    }
   },
   "outputs": [],
   "source": [
    "import pyLDAvis.gensim"
   ]
  },
  {
   "cell_type": "code",
   "execution_count": 69,
   "metadata": {
    "scrolled": false,
    "slideshow": {
     "slide_type": "skip"
    }
   },
   "outputs": [
    {
     "data": {
      "text/html": [
       "\n",
       "<link rel=\"stylesheet\" type=\"text/css\" href=\"https://cdn.rawgit.com/bmabey/pyLDAvis/files/ldavis.v1.0.0.css\">\n",
       "\n",
       "\n",
       "<div id=\"ldavis_el24061399239592196883958561665\"></div>\n",
       "<script type=\"text/javascript\">\n",
       "\n",
       "var ldavis_el24061399239592196883958561665_data = {\"mdsDat\": {\"x\": [-0.2816567311934488, 0.24762501175063345, 0.2631504772141468, -0.2291187577713318], \"y\": [-0.27215782694523094, -0.015051359671404953, -0.01446968087027287, 0.30167886748690853], \"topics\": [1, 2, 3, 4], \"cluster\": [1, 1, 1, 1], \"Freq\": [14.694952964782715, 28.575462341308594, 42.019344329833984, 14.710247039794922]}, \"tinfo\": {\"Term\": [\"payroll\", \"lodging\", \"fee\", \"agency\", \"travel\", \"facility\", \"catering\", \"advertising\", \"tax\", \"line\", \"diem\", \"per\", \"staging\", \"sound\", \"lighting\", \"rental\", \"event\", \"site\", \"advance\", \"work\", \"delivery\", \"occupancy\", \"rent\", \"print\", \"telephone\", \"credit\", \"card\", \"postage\", \"cons./prof.serv\", \"contribution\", \"payroll\", \"advance\", \"work\", \"occupancy\", \"rent\", \"postage\", \"telemarketing\", \"hosting\", \"web\", \"internet\", \"expense\", \"strategy\", \"kind\", \"site\", \"service\", \"interpreting\", \"cons./acct.serv\", \"photography\", \"parking\", \"technology\", \"consulting\", \"bank\", \"charge\", \"utility\", \"charitable\", \"research\", \"list\", \"market\", \"value\", \"security\", \"decoration\", \"tax\", \"polling\", \"insurance\", \"travel\", \"fee\", \"agency\", \"lodging\", \"telephone\", \"printing\", \"diem\", \"per\", \"catering\", \"fee\", \"agency\", \"staging\", \"sound\", \"lighting\", \"computer\", \"equip\", \"software\", \"maintenance\", \"insurance\", \"charge\", \"bank\", \"consulting\", \"technology\", \"photography\", \"parking\", \"cons./acct.serv\", \"equipment\", \"travel\", \"service\", \"interpreting\", \"strategy\", \"expense\", \"internet\", \"utility\", \"research\", \"charitable\", \"market\", \"list\", \"value\", \"security\", \"decoration\", \"payroll\", \"medium\", \"printing\", \"exp\", \"production\", \"lodging\", \"card\", \"credit\", \"telephone\", \"occupancy\", \"rent\", \"lodging\", \"diem\", \"per\", \"telephone\", \"printing\", \"supply\", \"office\", \"production\", \"exp\", \"polling\", \"travel\", \"security\", \"decoration\", \"medium\", \"interpreting\", \"service\", \"kind\", \"photography\", \"cons./acct.serv\", \"parking\", \"technology\", \"consulting\", \"bank\", \"charge\", \"strategy\", \"expense\", \"internet\", \"utility\", \"research\", \"charitable\", \"facility\", \"catering\", \"delivery\", \"payroll\", \"agency\", \"fee\", \"insurance\", \"line\", \"staging\", \"tax\", \"facility\", \"catering\", \"advertising\", \"tax\", \"line\", \"rental\", \"event\", \"delivery\", \"print\", \"credit\", \"card\", \"cons./prof.serv\", \"contribution\", \"fundraising\", \"mailing\", \"buy\", \"site\", \"value\", \"market\", \"list\", \"research\", \"charitable\", \"utility\", \"equipment\", \"medium\", \"kind\", \"service\", \"interpreting\", \"parking\", \"cons./acct.serv\", \"payroll\", \"fee\", \"travel\", \"lodging\"], \"Freq\": [222.0, 338.0, 163.0, 155.0, 493.0, 37.0, 37.0, 36.0, 29.0, 25.0, 58.0, 58.0, 34.0, 34.0, 34.0, 20.0, 16.0, 20.0, 13.0, 13.0, 13.0, 12.0, 12.0, 12.0, 31.0, 10.0, 10.0, 6.0, 6.0, 6.0, 222.04869079589844, 13.131166458129883, 13.131118774414062, 11.96311092376709, 11.96310043334961, 6.128350734710693, 4.960906505584717, 3.793849468231201, 3.7938389778137207, 1.459031343460083, 1.4590290784835815, 1.4584572315216064, 2.6867520809173584, 3.591963768005371, 0.29262909293174744, 0.2926277816295624, 0.2927897274494171, 0.29278847575187683, 0.2927868366241455, 0.2922808527946472, 0.2922763228416443, 0.29212912917137146, 0.29212841391563416, 0.29221680760383606, 0.29202359914779663, 0.29202157258987427, 0.2919415235519409, 0.29193994402885437, 0.29193973541259766, 0.2934015393257141, 0.2933962643146515, 0.3110220432281494, 0.2933374345302582, 0.29270264506340027, 0.3069264590740204, 0.3014329671859741, 0.3010714650154114, 0.29500675201416016, 0.29384148120880127, 0.2933216094970703, 0.2928391993045807, 0.2928061783313751, 0.2927490472793579, 162.26162719726562, 154.18313598632812, 33.673377990722656, 33.67339324951172, 33.67338943481445, 8.353775024414062, 5.315553188323975, 3.2905778884887695, 2.277313709259033, 2.2767555713653564, 1.2652771472930908, 1.2652758359909058, 1.2649476528167725, 1.264941930770874, 1.2638137340545654, 1.2638134956359863, 1.263810634613037, 2.178863286972046, 155.40420532226562, 0.25348180532455444, 0.2534797191619873, 0.25335416197776794, 0.25323769450187683, 0.25323712825775146, 0.2533278167247772, 0.2532513439655304, 0.2532505691051483, 0.2532199025154114, 0.25321951508522034, 0.25321897864341736, 0.25378572940826416, 0.2537841796875, 0.26742085814476013, 0.2569214701652527, 0.25678935647010803, 0.25622817873954773, 0.25620293617248535, 0.2561943531036377, 0.2558775842189789, 0.25586915016174316, 0.2540908455848694, 0.2538067102432251, 0.2537864148616791, 338.0346984863281, 57.5853271484375, 57.585262298583984, 30.911556243896484, 13.936910629272461, 9.899675369262695, 9.899600982666016, 9.897723197937012, 9.897706031799316, 2.6238491535186768, 337.05987548828125, 1.8154948949813843, 1.8154864311218262, 9.847620964050293, 1.0087162256240845, 1.0087134838104248, 5.743893146514893, 0.20221738517284393, 0.20221750438213348, 0.20221631228923798, 0.20213139057159424, 0.2021312713623047, 0.20210589468479156, 0.2021050751209259, 0.20213299989700317, 0.2020847350358963, 0.2020842581987381, 0.2021239846944809, 0.20208987593650818, 0.2020895779132843, 0.20694707334041595, 0.2069435864686966, 0.20371611416339874, 0.20312084257602692, 0.20241941511631012, 0.2023981362581253, 0.20221228897571564, 0.2021910548210144, 0.20217770338058472, 0.2021680623292923, 36.96462631225586, 36.96456527709961, 35.565216064453125, 28.499452590942383, 24.29669761657715, 20.071483612060547, 15.84583854675293, 13.02538013458252, 11.620057106018066, 10.207231521606445, 10.207218170166016, 5.985959053039551, 5.98563814163208, 3.1688640117645264, 3.1684558391571045, 3.1681625843048096, 16.089895248413086, 1.7604800462722778, 1.7604782581329346, 1.7604753971099854, 1.7602976560592651, 1.7602969408035278, 1.759872555732727, 3.3070712089538574, 4.664558410644531, 3.298044443130493, 0.35324668884277344, 0.35324642062187195, 0.35347867012023926, 0.35347726941108704, 0.40635132789611816, 0.3854790925979614, 0.3699742257595062, 0.3672470152378082], \"Total\": [222.0, 338.0, 163.0, 155.0, 493.0, 37.0, 37.0, 36.0, 29.0, 25.0, 58.0, 58.0, 34.0, 34.0, 34.0, 20.0, 16.0, 20.0, 13.0, 13.0, 13.0, 12.0, 12.0, 12.0, 31.0, 10.0, 10.0, 6.0, 6.0, 6.0, 222.92559814453125, 13.941895484924316, 13.941887855529785, 12.774328231811523, 12.774345397949219, 6.936566352844238, 5.7690935134887695, 4.601661682128906, 4.601659774780273, 2.2666819095611572, 2.266681671142578, 2.266681671142578, 11.982178688049316, 20.13728904724121, 1.9080710411071777, 1.9080702066421509, 2.112295150756836, 2.1122939586639404, 2.112295150756836, 2.112086296081543, 2.1120851039886475, 2.112025499343872, 2.112025499343872, 2.5075411796569824, 2.5076606273651123, 2.507660388946533, 2.507711410522461, 2.507711887359619, 2.5077126026153564, 2.7170493602752686, 2.7170569896698, 29.266023635864258, 3.525249481201172, 3.1250269412994385, 493.1409606933594, 163.15093994140625, 155.0397491455078, 338.9531555175781, 31.814138412475586, 14.841246604919434, 58.48526382446289, 58.4853401184082, 37.71762466430664, 163.15093994140625, 155.0397491455078, 34.52030563354492, 34.52032470703125, 34.520328521728516, 9.201601028442383, 6.163323402404785, 4.137592315673828, 3.1250133514404297, 3.1250269412994385, 2.112025499343872, 2.112025499343872, 2.1120851039886475, 2.112086296081543, 2.1122939586639404, 2.112295150756836, 2.112295150756836, 5.980484962463379, 493.1409606933594, 1.9080710411071777, 1.9080702066421509, 2.266681671142578, 2.266681671142578, 2.2666819095611572, 2.5075411796569824, 2.507660388946533, 2.5076606273651123, 2.507711887359619, 2.507711410522461, 2.5077126026153564, 2.7170493602752686, 2.7170569896698, 222.92559814453125, 15.061563491821289, 14.841246604919434, 10.79907512664795, 10.799072265625, 338.9531555175781, 10.95779800415039, 10.957802772521973, 31.814138412475586, 12.774328231811523, 12.774345397949219, 338.9531555175781, 58.48526382446289, 58.4853401184082, 31.814138412475586, 14.841246604919434, 10.798640251159668, 10.798673629760742, 10.799072265625, 10.79907512664795, 3.525249481201172, 493.1409606933594, 2.7170493602752686, 2.7170569896698, 15.061563491821289, 1.9080702066421509, 1.9080710411071777, 11.982178688049316, 2.1122939586639404, 2.112295150756836, 2.112295150756836, 2.112086296081543, 2.1120851039886475, 2.112025499343872, 2.112025499343872, 2.266681671142578, 2.266681671142578, 2.2666819095611572, 2.5075411796569824, 2.507660388946533, 2.5076606273651123, 37.71763610839844, 37.71762466430664, 13.774738311767578, 222.92559814453125, 155.0397491455078, 163.15093994140625, 3.1250269412994385, 25.044343948364258, 34.52030563354492, 29.266023635864258, 37.71763610839844, 37.71762466430664, 36.31277847290039, 29.266023635864258, 25.044343948364258, 20.81882667541504, 16.593175888061523, 13.774738311767578, 12.367486000061035, 10.957802772521973, 10.95779800415039, 6.73331880569458, 6.733223915100098, 3.9162192344665527, 3.9161038398742676, 3.916020154953003, 20.13728904724121, 2.5077126026153564, 2.507711887359619, 2.507711410522461, 2.507660388946533, 2.5076606273651123, 2.5075411796569824, 5.980484962463379, 15.061563491821289, 11.982178688049316, 1.9080710411071777, 1.9080702066421509, 2.112295150756836, 2.112295150756836, 222.92559814453125, 163.15093994140625, 493.1409606933594, 338.9531555175781], \"Category\": [\"Default\", \"Default\", \"Default\", \"Default\", \"Default\", \"Default\", \"Default\", \"Default\", \"Default\", \"Default\", \"Default\", \"Default\", \"Default\", \"Default\", \"Default\", \"Default\", \"Default\", \"Default\", \"Default\", \"Default\", \"Default\", \"Default\", \"Default\", \"Default\", \"Default\", \"Default\", \"Default\", \"Default\", \"Default\", \"Default\", \"Topic1\", \"Topic1\", \"Topic1\", \"Topic1\", \"Topic1\", \"Topic1\", \"Topic1\", \"Topic1\", \"Topic1\", \"Topic1\", \"Topic1\", \"Topic1\", \"Topic1\", \"Topic1\", \"Topic1\", \"Topic1\", \"Topic1\", \"Topic1\", \"Topic1\", \"Topic1\", \"Topic1\", \"Topic1\", \"Topic1\", \"Topic1\", \"Topic1\", \"Topic1\", \"Topic1\", \"Topic1\", \"Topic1\", \"Topic1\", \"Topic1\", \"Topic1\", \"Topic1\", \"Topic1\", \"Topic1\", \"Topic1\", \"Topic1\", \"Topic1\", \"Topic1\", \"Topic1\", \"Topic1\", \"Topic1\", \"Topic1\", \"Topic2\", \"Topic2\", \"Topic2\", \"Topic2\", \"Topic2\", \"Topic2\", \"Topic2\", \"Topic2\", \"Topic2\", \"Topic2\", \"Topic2\", \"Topic2\", \"Topic2\", \"Topic2\", \"Topic2\", \"Topic2\", \"Topic2\", \"Topic2\", \"Topic2\", \"Topic2\", \"Topic2\", \"Topic2\", \"Topic2\", \"Topic2\", \"Topic2\", \"Topic2\", \"Topic2\", \"Topic2\", \"Topic2\", \"Topic2\", \"Topic2\", \"Topic2\", \"Topic2\", \"Topic2\", \"Topic2\", \"Topic2\", \"Topic2\", \"Topic2\", \"Topic2\", \"Topic2\", \"Topic2\", \"Topic2\", \"Topic2\", \"Topic3\", \"Topic3\", \"Topic3\", \"Topic3\", \"Topic3\", \"Topic3\", \"Topic3\", \"Topic3\", \"Topic3\", \"Topic3\", \"Topic3\", \"Topic3\", \"Topic3\", \"Topic3\", \"Topic3\", \"Topic3\", \"Topic3\", \"Topic3\", \"Topic3\", \"Topic3\", \"Topic3\", \"Topic3\", \"Topic3\", \"Topic3\", \"Topic3\", \"Topic3\", \"Topic3\", \"Topic3\", \"Topic3\", \"Topic3\", \"Topic3\", \"Topic3\", \"Topic3\", \"Topic3\", \"Topic3\", \"Topic3\", \"Topic3\", \"Topic3\", \"Topic3\", \"Topic3\", \"Topic4\", \"Topic4\", \"Topic4\", \"Topic4\", \"Topic4\", \"Topic4\", \"Topic4\", \"Topic4\", \"Topic4\", \"Topic4\", \"Topic4\", \"Topic4\", \"Topic4\", \"Topic4\", \"Topic4\", \"Topic4\", \"Topic4\", \"Topic4\", \"Topic4\", \"Topic4\", \"Topic4\", \"Topic4\", \"Topic4\", \"Topic4\", \"Topic4\", \"Topic4\", \"Topic4\", \"Topic4\", \"Topic4\", \"Topic4\", \"Topic4\", \"Topic4\", \"Topic4\", \"Topic4\"], \"logprob\": [30.0, 29.0, 28.0, 27.0, 26.0, 25.0, 24.0, 23.0, 22.0, 21.0, 20.0, 19.0, 18.0, 17.0, 16.0, 15.0, 14.0, 13.0, 12.0, 11.0, 10.0, 9.0, 8.0, 7.0, 6.0, 5.0, 4.0, 3.0, 2.0, 1.0, -0.35910001397132874, -3.1870999336242676, -3.1870999336242676, -3.2802000045776367, -3.2802000045776367, -3.9491000175476074, -4.1605000495910645, -4.428699970245361, -4.428699970245361, -5.384300231933594, -5.384300231933594, -5.384699821472168, -4.77370023727417, -4.48330020904541, -6.990900039672852, -6.990900039672852, -6.990300178527832, -6.9903998374938965, -6.9903998374938965, -6.992099761962891, -6.992099761962891, -6.992599964141846, -6.992599964141846, -6.992300033569336, -6.993000030517578, -6.993000030517578, -6.993199825286865, -6.993299961090088, -6.993299961090088, -6.98829984664917, -6.98829984664917, -6.929900169372559, -6.988500118255615, -6.990600109100342, -6.94320011138916, -6.961299896240234, -6.962500095367432, -6.982800006866455, -6.986800193786621, -6.988500118255615, -6.990200042724609, -6.990300178527832, -6.990499973297119, -1.3379000425338745, -1.3889000415802002, -2.910399913787842, -2.910399913787842, -2.910399913787842, -4.3043999671936035, -4.756499767303467, -5.236000061035156, -5.604100227355957, -5.604300022125244, -6.191800117492676, -6.191800117492676, -6.1921000480651855, -6.1921000480651855, -6.192999839782715, -6.192999839782715, -6.192999839782715, -5.6483001708984375, -1.381100058555603, -7.799600124359131, -7.799600124359131, -7.800099849700928, -7.80049991607666, -7.80049991607666, -7.80019998550415, -7.80049991607666, -7.80049991607666, -7.800600051879883, -7.800600051879883, -7.800600051879883, -7.798399925231934, -7.798399925231934, -7.745999813079834, -7.786099910736084, -7.786600112915039, -7.78879976272583, -7.788899898529053, -7.788899898529053, -7.79010009765625, -7.790200233459473, -7.7972002029418945, -7.798299789428711, -7.798399925231934, -0.9894999861717224, -2.759399890899658, -2.759399890899658, -3.381500005722046, -4.178100109100342, -4.520199775695801, -4.520199775695801, -4.520400047302246, -4.520400047302246, -5.8480000495910645, -0.9923999905586243, -6.216300010681152, -6.216300010681152, -4.525400161743164, -6.803999900817871, -6.803999900817871, -5.064499855041504, -8.411100387573242, -8.411100387573242, -8.411100387573242, -8.411499977111816, -8.411499977111816, -8.411600112915039, -8.411600112915039, -8.411499977111816, -8.411700248718262, -8.411700248718262, -8.411499977111816, -8.411700248718262, -8.411700248718262, -8.387999534606934, -8.387999534606934, -8.40369987487793, -8.406599998474121, -8.410099983215332, -8.410200119018555, -8.411100387573242, -8.411199569702148, -8.411299705505371, -8.411299705505371, -2.15310001373291, -2.15310001373291, -2.191699981689453, -2.4131999015808105, -2.572700023651123, -2.7637999057769775, -3.000200033187866, -3.196199893951416, -3.3104000091552734, -3.440000057220459, -3.440000057220459, -3.9737000465393066, -3.9737000465393066, -4.6097002029418945, -4.609799861907959, -4.609899997711182, -2.9848999977111816, -5.197500228881836, -5.197500228881836, -5.197500228881836, -5.1975998878479, -5.1975998878479, -5.197800159454346, -4.566999912261963, -4.223100185394287, -4.569799900054932, -6.803699970245361, -6.803699970245361, -6.802999973297119, -6.802999973297119, -6.663599967956543, -6.716400146484375, -6.757400035858154, -6.764800071716309], \"loglift\": [30.0, 29.0, 28.0, 27.0, 26.0, 25.0, 24.0, 23.0, 22.0, 21.0, 20.0, 19.0, 18.0, 17.0, 16.0, 15.0, 14.0, 13.0, 12.0, 11.0, 10.0, 9.0, 8.0, 7.0, 6.0, 5.0, 4.0, 3.0, 2.0, 1.0, 1.913699984550476, 1.857800006866455, 1.857800006866455, 1.8521000146865845, 1.8521000146865845, 1.7937999963760376, 1.766700029373169, 1.7245999574661255, 1.7245999574661255, 1.4771000146865845, 1.4771000146865845, 1.476699948310852, 0.42260000109672546, 0.19380000233650208, 0.04270000010728836, 0.04270000010728836, -0.058400001376867294, -0.058400001376867294, -0.058400001376867294, -0.060100000351667404, -0.060100000351667404, -0.060499999672174454, -0.060499999672174454, -0.23190000653266907, -0.23260000348091125, -0.23260000348091125, -0.2328999936580658, -0.2328999936580658, -0.2328999936580658, -0.30809998512268066, -0.30809998512268066, -2.626699924468994, -0.5687000155448914, -0.4503999948501587, -5.464300155639648, -4.376200199127197, -4.326399803161621, -5.129000186920166, -2.7669999599456787, -2.006200075149536, -3.379199981689453, -3.3794000148773193, -2.9409000873565674, 1.2472000122070312, 1.2470999956130981, 1.2278000116348267, 1.2278000116348267, 1.2278000116348267, 1.156000018119812, 1.104599952697754, 1.0235999822616577, 0.9362000226974487, 0.9358999729156494, 0.7402999997138977, 0.7402999997138977, 0.7400000095367432, 0.7400000095367432, 0.7390000224113464, 0.7390000224113464, 0.7390000224113464, 0.24289999902248383, 0.09790000319480896, -0.7659000158309937, -0.7659000158309937, -0.9387000203132629, -0.9391000270843506, -0.9391000270843506, -1.0398000478744507, -1.0400999784469604, -1.0400999784469604, -1.0401999950408936, -1.0401999950408936, -1.0401999950408936, -1.1181999444961548, -1.1181999444961548, -5.473100185394287, -2.81850004196167, -2.80430006980896, -2.4885001182556152, -2.488600015640259, -5.935100078582764, -2.504499912261963, -2.504499912261963, -3.577399969100952, -2.6659998893737793, -2.666100025177002, 0.864300012588501, 0.8514999747276306, 0.8514999747276306, 0.8382999897003174, 0.8041999936103821, 0.7800999879837036, 0.7800999879837036, 0.7799000144004822, 0.7799000144004822, 0.5716999769210815, 0.48649999499320984, 0.46389999985694885, 0.46380001306533813, 0.44209998846054077, 0.2295999974012375, 0.2295999974012375, 0.13179999589920044, -1.479099988937378, -1.479099988937378, -1.479200005531311, -1.4795000553131104, -1.4795000553131104, -1.479599952697754, -1.479599952697754, -1.5500999689102173, -1.5503000020980835, -1.5503000020980835, -1.6511000394821167, -1.6513999700546265, -1.6513999700546265, -4.338399887084961, -4.338399887084961, -3.3468000888824463, -6.133800029754639, -5.774099826812744, -5.825200080871582, -1.8708000183105469, -3.952199935913086, -4.273099899291992, -4.107999801635742, 1.8964999914169312, 1.8964999914169312, 1.895799994468689, 1.8901000022888184, 1.886299967765808, 1.8801000118255615, 1.8704999685287476, 1.860700011253357, 1.8543000221252441, 1.8457000255584717, 1.8457000255584717, 1.7990000247955322, 1.7989000082015991, 1.7049000263214111, 1.704800009727478, 1.704699993133545, 1.692199945449829, 1.5628000497817993, 1.5628000497817993, 1.5628000497817993, 1.5628000497817993, 1.5628000497817993, 1.562600016593933, 1.3242000341415405, 0.7444999814033508, 0.6265000104904175, 0.22990000247955322, 0.22990000247955322, 0.12890000641345978, 0.12890000641345978, -4.390699863433838, -4.13129997253418, -5.278500080108643, -4.910999774932861]}, \"token.table\": {\"Topic\": [1, 4, 2, 2, 4, 4, 4, 2, 4, 2, 2, 4, 2, 4, 4, 3, 4, 3, 2, 2, 4, 4, 3, 1, 4, 2, 4, 1, 2, 1, 3, 1, 3, 4, 2, 4, 4, 3, 4, 2, 4, 3, 4, 1, 3, 2, 1, 3, 2, 3, 1, 4, 3, 3, 1, 4, 4, 3, 3, 1, 4, 2, 2, 2, 1, 3, 4, 2, 1, 3, 2, 3, 4, 4, 1, 1], \"Freq\": [0.9324413537979126, 0.9913865327835083, 0.9932936429977417, 0.47347912192344666, 0.7660838961601257, 0.9125921130180359, 0.9809737801551819, 0.47347912192344666, 0.7975561022758484, 0.8694139122962952, 0.4734186828136444, 0.8910910487174988, 0.47346577048301697, 0.8911035656929016, 0.9125916957855225, 0.7360905408859253, 0.9437565803527832, 0.9917027950286865, 0.811250627040863, 0.3344210386276245, 0.5016315579414368, 0.9642518162727356, 0.9260052442550659, 0.4411735534667969, 0.980973482131958, 0.9929455518722534, 0.7660449743270874, 0.8692511916160583, 0.6399945020675659, 0.4411734938621521, 0.5240897536277771, 0.2503718435764313, 0.5007436871528625, 0.2503718435764313, 0.9849268794059753, 0.9583002328872681, 0.7975399494171143, 0.9971879720687866, 0.7660675048828125, 0.6399972438812256, 0.7975397706031799, 0.6639416813850403, 0.33197084069252014, 0.9393840432167053, 0.9260396361351013, 0.4734186828136444, 0.9958479404449463, 0.9917014837265015, 0.4734189510345459, 0.8510035872459412, 0.8649812936782837, 0.9702861309051514, 0.9433169960975647, 0.926005482673645, 0.939382791519165, 0.9606689214706421, 0.7975561618804932, 0.7360926270484924, 0.524089515209198, 0.1986364722251892, 0.7945458889007568, 0.7250593304634094, 0.9849269986152649, 0.9849275350570679, 0.4411735534667969, 0.9260424971580505, 0.9567408561706543, 0.4734655022621155, 0.8666872978210449, 0.9744095206260681, 0.3143117427825928, 0.6833745837211609, 0.7975940704345703, 0.7975395321846008, 0.869251549243927, 0.9324418902397156], \"Term\": [\"advance\", \"advertising\", \"agency\", \"bank\", \"buy\", \"card\", \"catering\", \"charge\", \"charitable\", \"computer\", \"cons./acct.serv\", \"cons./prof.serv\", \"consulting\", \"contribution\", \"credit\", \"decoration\", \"delivery\", \"diem\", \"equip\", \"equipment\", \"equipment\", \"event\", \"exp\", \"expense\", \"facility\", \"fee\", \"fundraising\", \"hosting\", \"insurance\", \"internet\", \"interpreting\", \"kind\", \"kind\", \"kind\", \"lighting\", \"line\", \"list\", \"lodging\", \"mailing\", \"maintenance\", \"market\", \"medium\", \"medium\", \"occupancy\", \"office\", \"parking\", \"payroll\", \"per\", \"photography\", \"polling\", \"postage\", \"print\", \"printing\", \"production\", \"rent\", \"rental\", \"research\", \"security\", \"service\", \"site\", \"site\", \"software\", \"sound\", \"staging\", \"strategy\", \"supply\", \"tax\", \"technology\", \"telemarketing\", \"telephone\", \"travel\", \"travel\", \"utility\", \"value\", \"web\", \"work\"]}, \"R\": 30, \"lambda.step\": 0.01, \"plot.opts\": {\"xlab\": \"PC1\", \"ylab\": \"PC2\"}, \"topic.order\": [1, 2, 3, 4]};\n",
       "\n",
       "function LDAvis_load_lib(url, callback){\n",
       "  var s = document.createElement('script');\n",
       "  s.src = url;\n",
       "  s.async = true;\n",
       "  s.onreadystatechange = s.onload = callback;\n",
       "  s.onerror = function(){console.warn(\"failed to load library \" + url);};\n",
       "  document.getElementsByTagName(\"head\")[0].appendChild(s);\n",
       "}\n",
       "\n",
       "if(typeof(LDAvis) !== \"undefined\"){\n",
       "   // already loaded: just create the visualization\n",
       "   !function(LDAvis){\n",
       "       new LDAvis(\"#\" + \"ldavis_el24061399239592196883958561665\", ldavis_el24061399239592196883958561665_data);\n",
       "   }(LDAvis);\n",
       "}else if(typeof define === \"function\" && define.amd){\n",
       "   // require.js is available: use it to load d3/LDAvis\n",
       "   require.config({paths: {d3: \"https://cdnjs.cloudflare.com/ajax/libs/d3/3.5.5/d3.min\"}});\n",
       "   require([\"d3\"], function(d3){\n",
       "      window.d3 = d3;\n",
       "      LDAvis_load_lib(\"https://cdn.rawgit.com/bmabey/pyLDAvis/files/ldavis.v1.0.0.js\", function(){\n",
       "        new LDAvis(\"#\" + \"ldavis_el24061399239592196883958561665\", ldavis_el24061399239592196883958561665_data);\n",
       "      });\n",
       "    });\n",
       "}else{\n",
       "    // require.js not available: dynamically load d3 & LDAvis\n",
       "    LDAvis_load_lib(\"https://cdnjs.cloudflare.com/ajax/libs/d3/3.5.5/d3.min.js\", function(){\n",
       "         LDAvis_load_lib(\"https://cdn.rawgit.com/bmabey/pyLDAvis/files/ldavis.v1.0.0.js\", function(){\n",
       "                 new LDAvis(\"#\" + \"ldavis_el24061399239592196883958561665\", ldavis_el24061399239592196883958561665_data);\n",
       "            })\n",
       "         });\n",
       "}\n",
       "</script>"
      ],
      "text/plain": [
       "<IPython.core.display.HTML object>"
      ]
     },
     "execution_count": 69,
     "metadata": {},
     "output_type": "execute_result"
    }
   ],
   "source": [
    "dictionary = gensim.corpora.Dictionary.load('dictionary.gensim')\n",
    "corpus = pickle.load(open('corpus.pkl', 'rb'))\n",
    "lda = gensim.models.ldamodel.LdaModel.load('model.gensim')\n",
    "lda_display = pyLDAvis.gensim.prepare(lda, corpus, dictionary, sort_topics=False)\n",
    "pyLDAvis.display(lda_display) "
   ]
  },
  {
   "cell_type": "markdown",
   "metadata": {
    "slideshow": {
     "slide_type": "fragment"
    }
   },
   "source": [
    "<img src=\"2008_Obama.png\">"
   ]
  },
  {
   "cell_type": "markdown",
   "metadata": {
    "slideshow": {
     "slide_type": "slide"
    }
   },
   "source": [
    "## <div class=\"alert alert-block alert-danger\"><center>2008 Election<br><br>Mccain Part<center>"
   ]
  },
  {
   "cell_type": "markdown",
   "metadata": {
    "slideshow": {
     "slide_type": "fragment"
    }
   },
   "source": [
    "## Data Preparation "
   ]
  },
  {
   "cell_type": "code",
   "execution_count": 29,
   "metadata": {
    "scrolled": false,
    "slideshow": {
     "slide_type": "fragment"
    }
   },
   "outputs": [
    {
     "name": "stderr",
     "output_type": "stream",
     "text": [
      "/home/ec2-user/anaconda3/envs/python3/lib/python3.6/site-packages/IPython/core/interactiveshell.py:3063: DtypeWarning: Columns (5,16,17,23,24,26,27,28,29,31,33,34,47,48,49,66,72,73) have mixed types.Specify dtype option on import or set low_memory=False.\n",
      "  interactivity=interactivity, compiler=compiler, result=result)\n"
     ]
    },
    {
     "data": {
      "text/plain": [
       "36905"
      ]
     },
     "execution_count": 29,
     "metadata": {},
     "output_type": "execute_result"
    }
   ],
   "source": [
    "import pandas as pd\n",
    "df_mccain=pd.read_csv('mccain2008.csv')\n",
    "len(df_mccain)"
   ]
  },
  {
   "cell_type": "code",
   "execution_count": 30,
   "metadata": {
    "slideshow": {
     "slide_type": "skip"
    }
   },
   "outputs": [],
   "source": [
    "df_mccain = df_mccain[['committee_id', 'report_year', 'disbursement_date','recipient_name',\\\n",
    "                     'recipient_state','recipient_city',\\\n",
    "                     'disbursement_purpose_category','disbursement_description','disbursement_amount']]"
   ]
  },
  {
   "cell_type": "code",
   "execution_count": 31,
   "metadata": {
    "slideshow": {
     "slide_type": "skip"
    }
   },
   "outputs": [],
   "source": [
    "df_mccain.drop(df_mccain[df_mccain['disbursement_purpose_category'] == 'REFUNDS'].index, inplace = True) \n",
    "df_mccain.drop(df_mccain[df_mccain['disbursement_description'] == 'CONTRIBUTION REFUND'].index, inplace = True) \n",
    "df_mccain = df_mccain[df_mccain['disbursement_description'].notna()]"
   ]
  },
  {
   "cell_type": "code",
   "execution_count": 32,
   "metadata": {
    "slideshow": {
     "slide_type": "fragment"
    }
   },
   "outputs": [
    {
     "data": {
      "text/html": [
       "<div>\n",
       "<style scoped>\n",
       "    .dataframe tbody tr th:only-of-type {\n",
       "        vertical-align: middle;\n",
       "    }\n",
       "\n",
       "    .dataframe tbody tr th {\n",
       "        vertical-align: top;\n",
       "    }\n",
       "\n",
       "    .dataframe thead th {\n",
       "        text-align: right;\n",
       "    }\n",
       "</style>\n",
       "<table border=\"1\" class=\"dataframe\">\n",
       "  <thead>\n",
       "    <tr style=\"text-align: right;\">\n",
       "      <th></th>\n",
       "      <th>disbursement_purpose_category</th>\n",
       "      <th>disbursement_amount</th>\n",
       "    </tr>\n",
       "    <tr>\n",
       "      <th>disbursement_purpose_category</th>\n",
       "      <th></th>\n",
       "      <th></th>\n",
       "    </tr>\n",
       "  </thead>\n",
       "  <tbody>\n",
       "    <tr>\n",
       "      <th>ADMINISTRATIVE</th>\n",
       "      <td>1931</td>\n",
       "      <td>2.829597e+07</td>\n",
       "    </tr>\n",
       "    <tr>\n",
       "      <th>ADVERTISING</th>\n",
       "      <td>836</td>\n",
       "      <td>1.291919e+08</td>\n",
       "    </tr>\n",
       "    <tr>\n",
       "      <th>FUNDRAISING</th>\n",
       "      <td>716</td>\n",
       "      <td>3.170042e+06</td>\n",
       "    </tr>\n",
       "    <tr>\n",
       "      <th>LOAN-REPAYMENTS</th>\n",
       "      <td>11</td>\n",
       "      <td>9.896459e+06</td>\n",
       "    </tr>\n",
       "    <tr>\n",
       "      <th>MATERIALS</th>\n",
       "      <td>32</td>\n",
       "      <td>6.420286e+06</td>\n",
       "    </tr>\n",
       "    <tr>\n",
       "      <th>OTHER</th>\n",
       "      <td>20225</td>\n",
       "      <td>1.499796e+08</td>\n",
       "    </tr>\n",
       "    <tr>\n",
       "      <th>TRANSFERS</th>\n",
       "      <td>26</td>\n",
       "      <td>1.591220e+07</td>\n",
       "    </tr>\n",
       "  </tbody>\n",
       "</table>\n",
       "</div>"
      ],
      "text/plain": [
       "                               disbursement_purpose_category  \\\n",
       "disbursement_purpose_category                                  \n",
       "ADMINISTRATIVE                                          1931   \n",
       "ADVERTISING                                              836   \n",
       "FUNDRAISING                                              716   \n",
       "LOAN-REPAYMENTS                                           11   \n",
       "MATERIALS                                                 32   \n",
       "OTHER                                                  20225   \n",
       "TRANSFERS                                                 26   \n",
       "\n",
       "                               disbursement_amount  \n",
       "disbursement_purpose_category                       \n",
       "ADMINISTRATIVE                        2.829597e+07  \n",
       "ADVERTISING                           1.291919e+08  \n",
       "FUNDRAISING                           3.170042e+06  \n",
       "LOAN-REPAYMENTS                       9.896459e+06  \n",
       "MATERIALS                             6.420286e+06  \n",
       "OTHER                                 1.499796e+08  \n",
       "TRANSFERS                             1.591220e+07  "
      ]
     },
     "execution_count": 32,
     "metadata": {},
     "output_type": "execute_result"
    }
   ],
   "source": [
    "df_mccain.groupby('disbursement_purpose_category').agg({'disbursement_purpose_category':'count','disbursement_amount':'sum'})"
   ]
  },
  {
   "cell_type": "markdown",
   "metadata": {
    "slideshow": {
     "slide_type": "slide"
    }
   },
   "source": [
    "## Text Clustering "
   ]
  },
  {
   "cell_type": "code",
   "execution_count": 33,
   "metadata": {
    "slideshow": {
     "slide_type": "skip"
    }
   },
   "outputs": [],
   "source": [
    "# Import data for LDA analysis and return text_data\n",
    "import random\n",
    "text_data = []\n",
    "for line in df_mccain['disbursement_description']:\n",
    "    tokens = prepare_text_for_lda(line)\n",
    "    if random.random() > .99:\n",
    "        #print(tokens)\n",
    "        text_data.append(tokens)"
   ]
  },
  {
   "cell_type": "code",
   "execution_count": 34,
   "metadata": {
    "slideshow": {
     "slide_type": "skip"
    }
   },
   "outputs": [],
   "source": [
    "from gensim import corpora \n",
    "dictionary = corpora.Dictionary(text_data)\n",
    "corpus = [dictionary.doc2bow(text) for text in text_data]\n",
    "import pickle\n",
    "pickle.dump(corpus, open('corpus.pkl', 'wb'))\n",
    "dictionary.save('dictionary.gensim')"
   ]
  },
  {
   "cell_type": "code",
   "execution_count": 35,
   "metadata": {
    "slideshow": {
     "slide_type": "fragment"
    }
   },
   "outputs": [
    {
     "name": "stdout",
     "output_type": "stream",
     "text": [
      "(0, '0.255*\"transfer\" + 0.106*\"catering\" + 0.072*\"staging\" + 0.060*\"postage\"')\n",
      "(1, '0.644*\"travel\" + 0.080*\"rental\" + 0.045*\"equipment\" + 0.037*\"facility\"')\n",
      "(2, '0.372*\"payroll\" + 0.071*\"printing\" + 0.047*\"fee\" + 0.036*\"support\"')\n",
      "(3, '0.124*\"service\" + 0.099*\"food\" + 0.099*\"beverage\" + 0.059*\"equipment\"')\n"
     ]
    }
   ],
   "source": [
    "import gensim # package for topic modeling\n",
    "NUM_TOPICS = 4 # trial number based on understanding of the data file & research aims, we can lock down this number before presentation\n",
    "ldamodel = gensim.models.ldamodel.LdaModel(corpus, num_topics = NUM_TOPICS, id2word=dictionary, passes=20)\n",
    "ldamodel.save('model.gensim')\n",
    "topics = ldamodel.print_topics(num_words=4)\n",
    "for topic in topics:\n",
    "    print(topic)"
   ]
  },
  {
   "cell_type": "code",
   "execution_count": 36,
   "metadata": {
    "slideshow": {
     "slide_type": "skip"
    }
   },
   "outputs": [],
   "source": [
    "import pyLDAvis.gensim"
   ]
  },
  {
   "cell_type": "code",
   "execution_count": 37,
   "metadata": {
    "slideshow": {
     "slide_type": "skip"
    }
   },
   "outputs": [
    {
     "data": {
      "text/html": [
       "\n",
       "<link rel=\"stylesheet\" type=\"text/css\" href=\"https://cdn.rawgit.com/bmabey/pyLDAvis/files/ldavis.v1.0.0.css\">\n",
       "\n",
       "\n",
       "<div id=\"ldavis_el24061399239592194485093801442\"></div>\n",
       "<script type=\"text/javascript\">\n",
       "\n",
       "var ldavis_el24061399239592194485093801442_data = {\"mdsDat\": {\"x\": [-0.14029119443631544, 0.3154606739238677, -0.1158489251057172, -0.059320554381834936], \"y\": [0.25017686740331413, 0.030863307939023518, -0.15372798667688328, -0.12731218866545477], \"topics\": [1, 2, 3, 4], \"cluster\": [1, 1, 1, 1], \"Freq\": [23.462020874023438, 28.59262466430664, 25.0670108795166, 22.878345489501953]}, \"tinfo\": {\"Term\": [\"travel\", \"payroll\", \"transfer\", \"service\", \"catering\", \"food\", \"beverage\", \"rental\", \"staging\", \"postage\", \"printing\", \"supply\", \"office\", \"phone\", \"credit\", \"consulting\", \"fee\", \"purchase\", \"research\", \"survey\", \"gotv\", \"kind-\", \"equipment\", \"support\", \"computer\", \"facility\", \"personnel\", \"call\", \"svc\", \"void\", \"transfer\", \"catering\", \"staging\", \"postage\", \"consulting\", \"research\", \"survey\", \"gotv\", \"kind-\", \"svc\", \"void\", \"check\", \"rent\", \"management\", \"list\", \"finance\", \"transportation\", \"printing\", \"usss\", \"adjustment\", \"bank\", \"utility\", \"decoration\", \"registration\", \"refund\", \"rusel\", \"golnik\", \"bermel\", \"benjamin\", \"message\", \"subsriptions\", \"facility\", \"travel\", \"food\", \"beverage\", \"rental\", \"payroll\", \"equipment\", \"medium\", \"travel\", \"rental\", \"facility\", \"line\", \"transportation\", \"adjustment\", \"usss\", \"bank\", \"equipment\", \"finance\", \"list\", \"management\", \"refund\", \"delivery\", \"utility\", \"decoration\", \"registration\", \"golnik\", \"benjamin\", \"rusel\", \"bermel\", \"message\", \"subsriptions\", \"interpreting\", \"web\", \"payment\", \"fundraising\", \"check\", \"void\", \"rent\", \"service\", \"merchant\", \"kind-\", \"fee\", \"gotv\", \"catering\", \"phone\", \"consulting\", \"credit\", \"card\", \"transfer\", \"medium\", \"purchase\", \"payroll\", \"printing\", \"postage\", \"payroll\", \"fee\", \"support\", \"computer\", \"cash-\", \"petty\", \"tax\", \"merchant\", \"medium\", \"printing\", \"bermel\", \"benjamin\", \"rusel\", \"golnik\", \"registration\", \"decoration\", \"utility\", \"refund\", \"card\", \"credit\", \"equipment\", \"bank\", \"message\", \"usss\", \"adjustment\", \"subsriptions\", \"finance\", \"list\", \"management\", \"delivery\", \"call\", \"phone\", \"travel\", \"office\", \"supply\", \"transportation\", \"service\", \"food\", \"beverage\", \"supply\", \"office\", \"phone\", \"purchase\", \"personnel\", \"call\", \"fundraising\", \"payment\", \"web\", \"interpreting\", \"delivery\", \"subsriptions\", \"message\", \"credit\", \"equipment\", \"card\", \"usss\", \"adjustment\", \"bank\", \"finance\", \"list\", \"management\", \"utility\", \"decoration\", \"registration\", \"refund\", \"golnik\", \"transportation\", \"printing\", \"transfer\", \"postage\", \"travel\", \"payroll\", \"catering\", \"medium\"], \"Freq\": [56.0, 28.0, 18.0, 9.0, 8.0, 7.0, 7.0, 7.0, 5.0, 4.0, 7.0, 4.0, 4.0, 4.0, 6.0, 4.0, 4.0, 3.0, 3.0, 3.0, 3.0, 3.0, 10.0, 3.0, 3.0, 3.0, 2.0, 2.0, 2.0, 2.0, 18.21494483947754, 7.569849491119385, 5.116827964782715, 4.297091960906982, 3.4779393672943115, 2.660825490951538, 2.6608214378356934, 2.658597469329834, 2.6570873260498047, 1.8420202732086182, 1.8415839672088623, 1.8415781259536743, 1.8415577411651611, 1.0232789516448975, 1.0232783555984497, 1.0231395959854126, 1.0095713138580322, 1.7479660511016846, 0.20478704571723938, 0.20478640496730804, 0.20511366426944733, 0.20500551164150238, 0.20500096678733826, 0.20483803749084473, 0.20475564897060394, 0.2047690600156784, 0.20476897060871124, 0.20476889610290527, 0.20476855337619781, 0.2048165202140808, 0.2049705684185028, 0.20677435398101807, 0.2071709930896759, 0.2064974009990692, 0.2064916491508484, 0.20565180480480194, 0.20518344640731812, 0.2049989551305771, 0.20498350262641907, 55.93681335449219, 6.968220233917236, 3.1999871730804443, 1.695023536682129, 2.433753252029419, 0.941556990146637, 0.9415558576583862, 0.8961935639381409, 3.935176372528076, 0.18845051527023315, 0.18841880559921265, 0.18841859698295593, 0.19023853540420532, 0.20044223964214325, 0.1885666847229004, 0.1885654628276825, 0.18845270574092865, 0.18840518593788147, 0.18840497732162476, 0.1884046494960785, 0.1884043961763382, 0.18843795359134674, 0.18852591514587402, 0.18843673169612885, 0.18843567371368408, 0.18841034173965454, 0.18840846419334412, 0.1888272911310196, 0.1888228803873062, 0.18854476511478424, 0.3275146186351776, 0.18920767307281494, 0.19166332483291626, 0.19204081594944, 0.1904842108488083, 0.19171477854251862, 0.19054117798805237, 0.19001606106758118, 0.1893426477909088, 0.18925166130065918, 0.18912358582019806, 0.18893353641033173, 0.1888120472431183, 0.18877547979354858, 0.18865197896957397, 0.1885673552751541, 28.312341690063477, 3.614619255065918, 2.767252206802368, 2.7672464847564697, 1.9157929420471191, 1.9157906770706177, 1.9155887365341187, 1.9148786067962646, 1.9146790504455566, 5.413006782531738, 1.0642300844192505, 1.064229130744934, 1.0642286539077759, 1.0642272233963013, 1.0640133619308472, 1.0635048151016235, 1.0634981393814087, 1.0621715784072876, 1.921157717704773, 1.9179986715316772, 2.7588183879852295, 0.26345255970954895, 0.2548348307609558, 0.21296776831150055, 0.2129674106836319, 0.23048068583011627, 0.21301817893981934, 0.2129700630903244, 0.21297000348567963, 0.21297384798526764, 0.21786721050739288, 0.21629346907138824, 0.21650831401348114, 0.21385090053081512, 0.21384713053703308, 0.21334290504455566, 8.631919860839844, 6.901377201080322, 6.901366233825684, 4.045694828033447, 4.0456929206848145, 4.040334224700928, 3.0939369201660156, 2.1422483921051025, 2.136810064315796, 1.1900644302368164, 1.1900384426116943, 1.1899402141571045, 1.1899356842041016, 1.1748120784759521, 1.170071005821228, 1.1431392431259155, 4.04319953918457, 4.082149505615234, 1.183211088180542, 0.23817135393619537, 0.2381710559129715, 0.23863165080547333, 0.23823875188827515, 0.23817305266857147, 0.23817262053489685, 0.23847408592700958, 0.23847344517707825, 0.2382432371377945, 0.2381419986486435, 0.23814699053764343, 0.2726099491119385, 0.2458503246307373, 0.24125021696090698, 0.23949648439884186, 0.23928631842136383, 0.23876971006393433, 0.23845790326595306, 0.23844851553440094], \"Total\": [56.0, 28.0, 18.0, 9.0, 8.0, 7.0, 7.0, 7.0, 5.0, 4.0, 7.0, 4.0, 4.0, 4.0, 6.0, 4.0, 4.0, 3.0, 3.0, 3.0, 3.0, 3.0, 10.0, 3.0, 3.0, 3.0, 2.0, 2.0, 2.0, 2.0, 18.858566284179688, 8.213205337524414, 5.7569990158081055, 4.938321590423584, 4.119187831878662, 3.3004982471466064, 3.300499677658081, 3.300320625305176, 3.3002302646636963, 2.4816672801971436, 2.481639862060547, 2.481639862060547, 2.481694459915161, 1.6628402471542358, 1.6628401279449463, 1.6628470420837402, 3.9292774200439453, 7.595475196838379, 1.5974819660186768, 1.5974818468093872, 1.603391408920288, 1.6955444812774658, 1.695544719696045, 1.695547342300415, 1.695307731628418, 1.6955485343933105, 1.695548415184021, 1.695548415184021, 1.6955485343933105, 1.7912285327911377, 1.7940481901168823, 3.857990264892578, 56.59977722167969, 7.509316444396973, 7.509315013885498, 7.625131607055664, 28.945070266723633, 10.9811429977417, 2.5470447540283203, 56.59977722167969, 7.625131607055664, 3.857990264892578, 2.3509249687194824, 3.9292774200439453, 1.5974818468093872, 1.5974819660186768, 1.603391408920288, 10.9811429977417, 1.6628470420837402, 1.6628401279449463, 1.6628402471542358, 1.695307731628418, 1.7930200099945068, 1.6955444812774658, 1.695544719696045, 1.695547342300415, 1.695548415184021, 1.6955485343933105, 1.6955485343933105, 1.695548415184021, 1.7912285327911377, 1.7940481901168823, 1.7961828708648682, 1.7961838245391846, 1.7962000370025635, 1.7962031364440918, 2.481639862060547, 2.481639862060547, 2.481694459915161, 9.377346992492676, 2.546992778778076, 3.3002302646636963, 4.249722480773926, 3.300320625305176, 8.213205337524414, 4.651949882507324, 4.119187831878662, 6.355481147766113, 3.498448610305786, 18.858566284179688, 2.5470447540283203, 3.7005558013916016, 28.945070266723633, 7.595475196838379, 4.938321590423584, 28.945070266723633, 4.249722480773926, 3.3986458778381348, 3.3986458778381348, 2.5470972061157227, 2.5470969676971436, 2.547095775604248, 2.546992778778076, 2.5470447540283203, 7.595475196838379, 1.695548415184021, 1.6955485343933105, 1.6955485343933105, 1.695548415184021, 1.695547342300415, 1.695544719696045, 1.6955444812774658, 1.695307731628418, 3.498448610305786, 6.355481147766113, 10.9811429977417, 1.603391408920288, 1.7912285327911377, 1.5974819660186768, 1.5974818468093872, 1.7940481901168823, 1.6628470420837402, 1.6628401279449463, 1.6628402471542358, 1.7930200099945068, 2.7478582859039307, 4.651949882507324, 56.59977722167969, 4.6527886390686035, 4.6527886390686035, 3.9292774200439453, 9.377346992492676, 7.509316444396973, 7.509315013885498, 4.6527886390686035, 4.6527886390686035, 4.651949882507324, 3.7005558013916016, 2.7484307289123535, 2.7478582859039307, 1.7962031364440918, 1.7962000370025635, 1.7961838245391846, 1.7961828708648682, 1.7930200099945068, 1.7940481901168823, 1.7912285327911377, 6.355481147766113, 10.9811429977417, 3.498448610305786, 1.5974819660186768, 1.5974818468093872, 1.603391408920288, 1.6628470420837402, 1.6628401279449463, 1.6628402471542358, 1.6955444812774658, 1.695544719696045, 1.695547342300415, 1.695307731628418, 1.695548415184021, 3.9292774200439453, 7.595475196838379, 18.858566284179688, 4.938321590423584, 56.59977722167969, 28.945070266723633, 8.213205337524414, 2.5470447540283203], \"Category\": [\"Default\", \"Default\", \"Default\", \"Default\", \"Default\", \"Default\", \"Default\", \"Default\", \"Default\", \"Default\", \"Default\", \"Default\", \"Default\", \"Default\", \"Default\", \"Default\", \"Default\", \"Default\", \"Default\", \"Default\", \"Default\", \"Default\", \"Default\", \"Default\", \"Default\", \"Default\", \"Default\", \"Default\", \"Default\", \"Default\", \"Topic1\", \"Topic1\", \"Topic1\", \"Topic1\", \"Topic1\", \"Topic1\", \"Topic1\", \"Topic1\", \"Topic1\", \"Topic1\", \"Topic1\", \"Topic1\", \"Topic1\", \"Topic1\", \"Topic1\", \"Topic1\", \"Topic1\", \"Topic1\", \"Topic1\", \"Topic1\", \"Topic1\", \"Topic1\", \"Topic1\", \"Topic1\", \"Topic1\", \"Topic1\", \"Topic1\", \"Topic1\", \"Topic1\", \"Topic1\", \"Topic1\", \"Topic1\", \"Topic1\", \"Topic1\", \"Topic1\", \"Topic1\", \"Topic1\", \"Topic1\", \"Topic1\", \"Topic2\", \"Topic2\", \"Topic2\", \"Topic2\", \"Topic2\", \"Topic2\", \"Topic2\", \"Topic2\", \"Topic2\", \"Topic2\", \"Topic2\", \"Topic2\", \"Topic2\", \"Topic2\", \"Topic2\", \"Topic2\", \"Topic2\", \"Topic2\", \"Topic2\", \"Topic2\", \"Topic2\", \"Topic2\", \"Topic2\", \"Topic2\", \"Topic2\", \"Topic2\", \"Topic2\", \"Topic2\", \"Topic2\", \"Topic2\", \"Topic2\", \"Topic2\", \"Topic2\", \"Topic2\", \"Topic2\", \"Topic2\", \"Topic2\", \"Topic2\", \"Topic2\", \"Topic2\", \"Topic2\", \"Topic2\", \"Topic2\", \"Topic2\", \"Topic2\", \"Topic2\", \"Topic3\", \"Topic3\", \"Topic3\", \"Topic3\", \"Topic3\", \"Topic3\", \"Topic3\", \"Topic3\", \"Topic3\", \"Topic3\", \"Topic3\", \"Topic3\", \"Topic3\", \"Topic3\", \"Topic3\", \"Topic3\", \"Topic3\", \"Topic3\", \"Topic3\", \"Topic3\", \"Topic3\", \"Topic3\", \"Topic3\", \"Topic3\", \"Topic3\", \"Topic3\", \"Topic3\", \"Topic3\", \"Topic3\", \"Topic3\", \"Topic3\", \"Topic3\", \"Topic3\", \"Topic3\", \"Topic3\", \"Topic3\", \"Topic4\", \"Topic4\", \"Topic4\", \"Topic4\", \"Topic4\", \"Topic4\", \"Topic4\", \"Topic4\", \"Topic4\", \"Topic4\", \"Topic4\", \"Topic4\", \"Topic4\", \"Topic4\", \"Topic4\", \"Topic4\", \"Topic4\", \"Topic4\", \"Topic4\", \"Topic4\", \"Topic4\", \"Topic4\", \"Topic4\", \"Topic4\", \"Topic4\", \"Topic4\", \"Topic4\", \"Topic4\", \"Topic4\", \"Topic4\", \"Topic4\", \"Topic4\", \"Topic4\", \"Topic4\", \"Topic4\", \"Topic4\", \"Topic4\", \"Topic4\"], \"logprob\": [30.0, 29.0, 28.0, 27.0, 26.0, 25.0, 24.0, 23.0, 22.0, 21.0, 20.0, 19.0, 18.0, 17.0, 16.0, 15.0, 14.0, 13.0, 12.0, 11.0, 10.0, 9.0, 8.0, 7.0, 6.0, 5.0, 4.0, 3.0, 2.0, 1.0, -1.3650000095367432, -2.2430999279022217, -2.634700059890747, -2.809299945831299, -3.0208001136779785, -3.288599967956543, -3.288599967956543, -3.289400100708008, -3.2899999618530273, -3.656399965286255, -3.656599998474121, -3.656599998474121, -3.656599998474121, -4.244200229644775, -4.244200229644775, -4.2444000244140625, -4.257699966430664, -3.7088000774383545, -5.853000164031982, -5.853000164031982, -5.851399898529053, -5.8520002365112305, -5.8520002365112305, -5.852799892425537, -5.8531999588012695, -5.853099822998047, -5.853099822998047, -5.853099822998047, -5.853099822998047, -5.85290002822876, -5.852099895477295, -5.843400001525879, -5.8414998054504395, -5.844699859619141, -5.844699859619141, -5.848800182342529, -5.851099967956543, -5.8520002365112305, -5.852099895477295, -0.4408000111579895, -2.5236001014709473, -3.3018999099731445, -3.937299966812134, -3.5755999088287354, -4.525199890136719, -4.525199890136719, -4.5746002197265625, -3.095099925994873, -6.133900165557861, -6.134099960327148, -6.134099960327148, -6.124499797821045, -6.072199821472168, -6.133299827575684, -6.133299827575684, -6.133900165557861, -6.134200096130371, -6.134200096130371, -6.134200096130371, -6.134200096130371, -6.133999824523926, -6.133500099182129, -6.133999824523926, -6.133999824523926, -6.134099960327148, -6.134099960327148, -6.131899833679199, -6.131999969482422, -6.133399963378906, -5.581200122833252, -6.129899978637695, -6.117000102996826, -6.115099906921387, -6.123199939727783, -6.116799831390381, -6.122900009155273, -6.125699996948242, -6.129199981689453, -6.129700183868408, -6.13040018081665, -6.131400108337402, -6.131999969482422, -6.132199764251709, -6.132900238037109, -6.133299827575684, -0.9901000261306763, -3.0483999252319336, -3.3155999183654785, -3.3155999183654785, -3.683300018310547, -3.683300018310547, -3.6833999156951904, -3.683799982070923, -3.6839001178741455, -2.6445999145507812, -4.271200180053711, -4.271200180053711, -4.271200180053711, -4.271200180053711, -4.271399974822998, -4.2718000411987305, -4.2718000411987305, -4.273099899291992, -3.680500030517578, -3.6821000576019287, -3.3185999393463135, -5.667300224304199, -5.700500011444092, -5.880000114440918, -5.880000114440918, -5.801000118255615, -5.879799842834473, -5.880000114440918, -5.880000114440918, -5.880000114440918, -5.8572998046875, -5.864500045776367, -5.863500118255615, -5.875899791717529, -5.875899791717529, -5.878300189971924, -2.0866000652313232, -2.31030011177063, -2.31030011177063, -2.844399929046631, -2.844399929046631, -2.8457000255584717, -3.112600088119507, -3.4802000522613525, -3.4827001094818115, -4.067999839782715, -4.0680999755859375, -4.0680999755859375, -4.0680999755859375, -4.080900192260742, -4.085000038146973, -4.10830020904541, -2.8450000286102295, -2.835400104522705, -4.073800086975098, -5.676799774169922, -5.676799774169922, -5.674900054931641, -5.676499843597412, -5.676799774169922, -5.676799774169922, -5.67549991607666, -5.67549991607666, -5.676499843597412, -5.6768999099731445, -5.6768999099731445, -5.541800022125244, -5.645100116729736, -5.664000034332275, -5.671299934387207, -5.672100067138672, -5.674300193786621, -5.675600051879883, -5.675600051879883], \"loglift\": [30.0, 29.0, 28.0, 27.0, 26.0, 25.0, 24.0, 23.0, 22.0, 21.0, 20.0, 19.0, 18.0, 17.0, 16.0, 15.0, 14.0, 13.0, 12.0, 11.0, 10.0, 9.0, 8.0, 7.0, 6.0, 5.0, 4.0, 3.0, 2.0, 1.0, 1.4150999784469604, 1.3681999444961548, 1.3319000005722046, 1.3107000589370728, 1.2805999517440796, 1.2344000339508057, 1.2343000173568726, 1.2336000204086304, 1.2330000400543213, 1.1517000198364258, 1.1514999866485596, 1.1514999866485596, 1.1514999866485596, 0.9642999768257141, 0.9642999768257141, 0.9641000032424927, 0.0908999964594841, -0.019300000742077827, -0.6043999791145325, -0.6043999791145325, -0.6065000295639038, -0.6628999710083008, -0.6629999876022339, -0.6638000011444092, -0.6639999747276306, -0.6640999913215637, -0.6640999913215637, -0.6640999913215637, -0.6640999913215637, -0.7188000082969666, -0.7196000218391418, -1.4765000343322754, -4.160399913787842, -2.1438000202178955, -2.143899917602539, -2.1631999015808105, -3.499500036239624, -2.531100034713745, -1.0700000524520874, 1.2402000427246094, 1.1619000434875488, 1.065000057220459, 0.9248999953269958, 0.7730000019073486, 0.7233999967575073, 0.7233999967575073, 0.6703000068664551, 0.22579999268054962, -0.9254000186920166, -0.925599992275238, -0.925599992275238, -0.9352999925613403, -0.9391000270843506, -0.9442999958992004, -0.9442999958992004, -0.9448999762535095, -0.9451000094413757, -0.9451000094413757, -0.9451000094413757, -0.9451000094413757, -0.9998999834060669, -1.0010000467300415, -1.0025999546051025, -1.0025999546051025, -1.0027999877929688, -1.0027999877929688, -1.323799967765808, -1.323799967765808, -1.3252999782562256, -2.1024999618530273, -1.3478000164031982, -1.593999981880188, -1.8449000120162964, -1.6002000570297241, -2.505500078201294, -1.9431999921798706, -1.8243000507354736, -2.2614998817443848, -1.6649999618530273, -3.3503000736236572, -1.3493000268936157, -1.7235000133514404, -3.780600070953369, -2.4433999061584473, -2.0132999420166016, 1.3615000247955322, 1.2217999696731567, 1.1780999898910522, 1.1780999898910522, 1.0987999439239502, 1.0987999439239502, 1.0987000465393066, 1.0983999967575073, 1.0981999635696411, 1.0448999404907227, 0.917900025844574, 0.917900025844574, 0.917900025844574, 0.917900025844574, 0.9176999926567078, 0.9172000288963318, 0.9172000288963318, 0.916100025177002, 0.7842000126838684, 0.18559999763965607, 0.002199999988079071, -0.42239999771118164, -0.5663999915122986, -0.6313999891281128, -0.6313999891281128, -0.66839998960495, -0.6712999939918518, -0.671500027179718, -0.671500027179718, -0.7469000220298767, -1.1511000394821167, -1.6848000288009644, -4.182499885559082, -1.6963000297546387, -1.6963000297546387, -1.5297000408172607, 1.3920999765396118, 1.3905999660491943, 1.3905999660491943, 1.3351999521255493, 1.3351999521255493, 1.3339999914169312, 1.2958999872207642, 1.2258000373840332, 1.2235000133514404, 1.0633000135421753, 1.0633000135421753, 1.0631999969482422, 1.0631999969482422, 1.0521999597549438, 1.0476000308990479, 1.0259000062942505, 1.0226999521255493, 0.48539999127388, 0.39089998602867126, -0.42820000648498535, -0.42820000648498535, -0.4300000071525574, -0.46799999475479126, -0.4683000147342682, -0.4683000147342682, -0.48649999499320984, -0.48649999499320984, -0.48750001192092896, -0.4878000020980835, -0.4878999888896942, -1.1931999921798706, -1.9556000232696533, -2.8838999271392822, -1.551300048828125, -3.9911000728607178, -3.322700023651123, -2.064300060272217, -0.8935999870300293]}, \"token.table\": {\"Topic\": [2, 2, 3, 3, 4, 4, 3, 4, 3, 1, 1, 3, 1, 3, 4, 3, 4, 2, 3, 4, 2, 3, 1, 4, 4, 3, 1, 4, 1, 2, 1, 1, 3, 3, 4, 4, 4, 3, 4, 3, 4, 1, 1, 3, 4, 3, 3, 1, 2, 1, 3, 4, 1, 4, 4, 3, 1, 1, 3, 1, 1, 2, 2, 2, 3, 1, 4], \"Freq\": [0.6259852051734924, 0.6236780285835266, 0.5897796154022217, 0.5897796750068665, 0.9321755766868591, 0.7278395891189575, 0.5716819763183594, 0.2858409881591797, 0.7852075695991516, 0.9740411639213562, 0.8059186935424805, 0.882704496383667, 0.7282989025115967, 0.3146890103816986, 0.6293780207633972, 0.5897809863090515, 0.5577182769775391, 0.36426079273223877, 0.2731955945491791, 0.36426079273223877, 0.7776069641113281, 0.9412379264831543, 0.6013782024383545, 0.9321753978729248, 0.5567299127578735, 0.5897796750068665, 0.9090026021003723, 0.556736171245575, 0.9090274572372437, 0.8507289886474609, 0.6013807058334351, 0.6013807058334351, 0.7852237224578857, 0.7852397561073303, 0.5582760572433472, 0.8596994876861572, 0.5567308664321899, 0.9673495292663574, 0.7276879549026489, 0.7852076292037964, 0.859854519367218, 0.8099917769432068, 0.2633146643638611, 0.6582866311073303, 0.8106890320777893, 0.5898634195327759, 0.5897800326347351, 0.8059009909629822, 0.9180169701576233, 0.9089536666870117, 0.5897796154022217, 0.9597597122192383, 0.8685080409049988, 0.5573986172676086, 0.8596994876861572, 0.882704496383667, 0.9089532494544983, 0.8059098124504089, 0.785207986831665, 0.9544734358787537, 0.25449973344802856, 0.5089994668960571, 0.9894031882286072, 0.6259851455688477, 0.5897810459136963, 0.8059186935424805, 0.5567358732223511], \"Term\": [\"adjustment\", \"bank\", \"benjamin\", \"bermel\", \"beverage\", \"call\", \"card\", \"card\", \"cash-\", \"catering\", \"check\", \"computer\", \"consulting\", \"credit\", \"credit\", \"decoration\", \"delivery\", \"equipment\", \"equipment\", \"equipment\", \"facility\", \"fee\", \"finance\", \"food\", \"fundraising\", \"golnik\", \"gotv\", \"interpreting\", \"kind-\", \"line\", \"list\", \"management\", \"medium\", \"merchant\", \"message\", \"office\", \"payment\", \"payroll\", \"personnel\", \"petty\", \"phone\", \"postage\", \"printing\", \"printing\", \"purchase\", \"refund\", \"registration\", \"rent\", \"rental\", \"research\", \"rusel\", \"service\", \"staging\", \"subsriptions\", \"supply\", \"support\", \"survey\", \"svc\", \"tax\", \"transfer\", \"transportation\", \"transportation\", \"travel\", \"usss\", \"utility\", \"void\", \"web\"]}, \"R\": 30, \"lambda.step\": 0.01, \"plot.opts\": {\"xlab\": \"PC1\", \"ylab\": \"PC2\"}, \"topic.order\": [1, 2, 3, 4]};\n",
       "\n",
       "function LDAvis_load_lib(url, callback){\n",
       "  var s = document.createElement('script');\n",
       "  s.src = url;\n",
       "  s.async = true;\n",
       "  s.onreadystatechange = s.onload = callback;\n",
       "  s.onerror = function(){console.warn(\"failed to load library \" + url);};\n",
       "  document.getElementsByTagName(\"head\")[0].appendChild(s);\n",
       "}\n",
       "\n",
       "if(typeof(LDAvis) !== \"undefined\"){\n",
       "   // already loaded: just create the visualization\n",
       "   !function(LDAvis){\n",
       "       new LDAvis(\"#\" + \"ldavis_el24061399239592194485093801442\", ldavis_el24061399239592194485093801442_data);\n",
       "   }(LDAvis);\n",
       "}else if(typeof define === \"function\" && define.amd){\n",
       "   // require.js is available: use it to load d3/LDAvis\n",
       "   require.config({paths: {d3: \"https://cdnjs.cloudflare.com/ajax/libs/d3/3.5.5/d3.min\"}});\n",
       "   require([\"d3\"], function(d3){\n",
       "      window.d3 = d3;\n",
       "      LDAvis_load_lib(\"https://cdn.rawgit.com/bmabey/pyLDAvis/files/ldavis.v1.0.0.js\", function(){\n",
       "        new LDAvis(\"#\" + \"ldavis_el24061399239592194485093801442\", ldavis_el24061399239592194485093801442_data);\n",
       "      });\n",
       "    });\n",
       "}else{\n",
       "    // require.js not available: dynamically load d3 & LDAvis\n",
       "    LDAvis_load_lib(\"https://cdnjs.cloudflare.com/ajax/libs/d3/3.5.5/d3.min.js\", function(){\n",
       "         LDAvis_load_lib(\"https://cdn.rawgit.com/bmabey/pyLDAvis/files/ldavis.v1.0.0.js\", function(){\n",
       "                 new LDAvis(\"#\" + \"ldavis_el24061399239592194485093801442\", ldavis_el24061399239592194485093801442_data);\n",
       "            })\n",
       "         });\n",
       "}\n",
       "</script>"
      ],
      "text/plain": [
       "<IPython.core.display.HTML object>"
      ]
     },
     "execution_count": 37,
     "metadata": {},
     "output_type": "execute_result"
    }
   ],
   "source": [
    "import pyLDAvis \n",
    "dictionary = gensim.corpora.Dictionary.load('dictionary.gensim')\n",
    "corpus = pickle.load(open('corpus.pkl', 'rb'))\n",
    "lda = gensim.models.ldamodel.LdaModel.load('model.gensim')\n",
    "lda_display = pyLDAvis.gensim.prepare(lda, corpus, dictionary, sort_topics=False)\n",
    "pyLDAvis.display(lda_display) "
   ]
  },
  {
   "cell_type": "markdown",
   "metadata": {
    "slideshow": {
     "slide_type": "slide"
    }
   },
   "source": [
    "<img src=\"2008_Mccain.png\">"
   ]
  },
  {
   "cell_type": "markdown",
   "metadata": {
    "slideshow": {
     "slide_type": "slide"
    }
   },
   "source": [
    "## <div class=\"alert alert-block alert-success\"><center>Keyword Conparison and Conclusion</div><center>"
   ]
  },
  {
   "cell_type": "code",
   "execution_count": 37,
   "metadata": {
    "scrolled": false,
    "slideshow": {
     "slide_type": "slide"
    }
   },
   "outputs": [
    {
     "data": {
      "text/plain": [
       "([<matplotlib.axis.XTick at 0x7ff282684e50>,\n",
       "  <matplotlib.axis.XTick at 0x7ff282684eb0>,\n",
       "  <matplotlib.axis.XTick at 0x7ff2821e76d0>,\n",
       "  <matplotlib.axis.XTick at 0x7ff281e67550>,\n",
       "  <matplotlib.axis.XTick at 0x7ff281e67700>],\n",
       " [Text(0, 0, 'Topic 1'),\n",
       "  Text(0, 0, 'Topic 2'),\n",
       "  Text(0, 0, 'Topic 3'),\n",
       "  Text(0, 0, 'Topic 4'),\n",
       "  Text(0, 0, 'Topic 5')])"
      ]
     },
     "execution_count": 37,
     "metadata": {},
     "output_type": "execute_result"
    },
    {
     "data": {
      "image/png": "[encoded data removed]",
      "text/plain": [
       "<Figure size 720x864 with 1 Axes>"
      ]
     },
     "metadata": {
      "needs_background": "light"
     },
     "output_type": "display_data"
    }
   ],
   "source": [
    "import seaborn as sns\n",
    "import matplotlib.pyplot as plt\n",
    "fig = plt.gcf()\n",
    "sns.scatterplot(y='item', x='topic',hue='candidate', data=dt08, size = 'total_weight' )\n",
    "fig.set_size_inches(10, 12)\n",
    "plt.grid(axis=\"y\")\n",
    "plt.xticks([0,1,2,3,4], ['Topic 1', 'Topic 2', 'Topic 3', 'Topic 4', 'Topic 5'])"
   ]
  },
  {
   "cell_type": "markdown",
   "metadata": {
    "slideshow": {
     "slide_type": "slide"
    }
   },
   "source": [
    "**<div class=\"alert alert-block alert-warning\">Top Expense Keywords<br><br><li>Obama:<br><br>Payroll | Travel, Lodging | Per diem | Advertising | Lighting, Sound, Staging<br><br><li>Mccain:<br><br>Travel | Payroll | Consulting | Catering**"
   ]
  },
  {
   "cell_type": "markdown",
   "metadata": {
    "slideshow": {
     "slide_type": "slide"
    }
   },
   "source": [
    "## 2012 Obama v.s. Romney"
   ]
  },
  {
   "cell_type": "code",
   "execution_count": 36,
   "metadata": {
    "scrolled": false,
    "slideshow": {
     "slide_type": "slide"
    }
   },
   "outputs": [
    {
     "data": {
      "image/png": "[encoded data removed]",
      "text/plain": [
       "<Figure size 720x864 with 1 Axes>"
      ]
     },
     "metadata": {
      "needs_background": "light"
     },
     "output_type": "display_data"
    }
   ],
   "source": [
    "dt12 = ew_data[ew_data.term ==2012]\n",
    "sns.scatterplot(y='item', x='topic',hue='candidate', data=dt12, size = 'total_weight' )\n",
    "plt.xticks([0,1,2,3,4,5], ['Topic 1', 'Topic 2', 'Topic 3', 'Topic 4', 'Topic 5','Topic 6'])\n",
    "fig = plt.gcf()\n",
    "plt.grid(axis=\"y\")\n",
    "fig.set_size_inches(10, 12)"
   ]
  },
  {
   "cell_type": "markdown",
   "metadata": {
    "slideshow": {
     "slide_type": "slide"
    }
   },
   "source": [
    "**<div class=\"alert alert-block alert-warning\">Top Expense Keywords<br><br><li>Obama:<br><br>Payroll | Lodging,Travel | Fee, Travel, Agency | Printing, Medium | Supply, Office | Computer, Equipment<br><br><li>Romney:<br><br>Air, Lodging | Payroll, Service | Bank, Fee | Travel, Food**"
   ]
  },
  {
   "cell_type": "markdown",
   "metadata": {
    "slideshow": {
     "slide_type": "slide"
    }
   },
   "source": [
    "## 2016 Trump v.s. Hillary"
   ]
  },
  {
   "cell_type": "code",
   "execution_count": 38,
   "metadata": {
    "slideshow": {
     "slide_type": "slide"
    }
   },
   "outputs": [
    {
     "data": {
      "image/png": "[encoded data removed]",
      "text/plain": [
       "<Figure size 720x864 with 1 Axes>"
      ]
     },
     "metadata": {
      "needs_background": "light"
     },
     "output_type": "display_data"
    }
   ],
   "source": [
    "dt16 = ew_data[ew_data.term ==2016]\n",
    "sns.scatterplot(y='item', x='topic',hue='candidate', data=dt16, size = 'total_weight' )\n",
    "plt.xticks([0,1,2,3,4], ['Topic 1', 'Topic 2', 'Topic 3', 'Topic 4', 'Topic 5'])\n",
    "fig = plt.gcf()\n",
    "plt.grid(axis=\"y\")\n",
    "fig.set_size_inches(10, 12)"
   ]
  },
  {
   "cell_type": "markdown",
   "metadata": {
    "slideshow": {
     "slide_type": "slide"
    }
   },
   "source": [
    "**<div class=\"alert alert-block alert-warning\">Top Topic Keywords<br><br><li>Trump:<br><br>Travel | Payroll | Transfer | Supply, Office | Rental, Catering<br><br><li>Hillary:<br><br>Travel | Payroll, Phone | Supply, Event | Service, Printing**"
   ]
  },
  {
   "cell_type": "markdown",
   "metadata": {
    "slideshow": {
     "slide_type": "slide"
    }
   },
   "source": [
    "## 2020 Biden v.s. Trump"
   ]
  },
  {
   "cell_type": "code",
   "execution_count": 39,
   "metadata": {
    "slideshow": {
     "slide_type": "slide"
    }
   },
   "outputs": [
    {
     "data": {
      "image/png": "[encoded data removed]",
      "text/plain": [
       "<Figure size 720x864 with 1 Axes>"
      ]
     },
     "metadata": {
      "needs_background": "light"
     },
     "output_type": "display_data"
    }
   ],
   "source": [
    "dt20 = ew_data[ew_data.term ==2020]\n",
    "sns.scatterplot(y='item', x='topic',hue='candidate', data=dt20, size = 'total_weight' )\n",
    "plt.xticks([0,1,2,3,4], ['Topic 1', 'Topic 2', 'Topic 3', 'Topic 4', 'Topic 5'])\n",
    "fig = plt.gcf()\n",
    "plt.grid(axis=\"y\")\n",
    "fig.set_size_inches(10, 12)"
   ]
  },
  {
   "cell_type": "markdown",
   "metadata": {
    "slideshow": {
     "slide_type": "slide"
    }
   },
   "source": [
    "**<div class=\"alert alert-block alert-warning\">Top Topic Keywords<br><br><li>Biden:<br><br>Payroll | Travel, Lodging | Supply, Office | Credit, Consulting | Service, Parking<br><br><li>Trump:<br><br>Air | Payroll | Fee, Transaction | Lodging | Ground, Transportation, Rental, Car**"
   ]
  },
  {
   "cell_type": "markdown",
   "metadata": {
    "slideshow": {
     "slide_type": "slide"
    }
   },
   "source": [
    "## Disbursement Text Wordnet (2008 Obama v.s. Mccain as Example) "
   ]
  },
  {
   "cell_type": "code",
   "execution_count": 1,
   "metadata": {
    "slideshow": {
     "slide_type": "fragment"
    }
   },
   "outputs": [],
   "source": [
    "from pyvis.network import Network\n",
    "import pandas as pd"
   ]
  },
  {
   "cell_type": "code",
   "execution_count": 2,
   "metadata": {
    "slideshow": {
     "slide_type": "fragment"
    }
   },
   "outputs": [],
   "source": [
    "ew_data = pd.read_csv(\"ew_data.csv\")\n",
    "dt08 = ew_data[ew_data.term ==2008]"
   ]
  },
  {
   "cell_type": "code",
   "execution_count": 3,
   "metadata": {
    "slideshow": {
     "slide_type": "fragment"
    }
   },
   "outputs": [],
   "source": [
    "wn2008 = Network(height=\"750px\", width=\"100%\", bgcolor=\"#123456\", font_color=\"white\", notebook =True, heading ='2008 Election Expense Wordnet')\n",
    "wn2008.barnes_hut()"
   ]
  },
  {
   "cell_type": "code",
   "execution_count": 4,
   "metadata": {
    "slideshow": {
     "slide_type": "slide"
    }
   },
   "outputs": [],
   "source": [
    "#define nodes \n",
    "candidate = dt08['candidate']\n",
    "topic = dt08['topic_code']\n",
    "word = dt08['item']\n",
    "weight = dt08['total_weight']\n",
    "edge_data = zip(candidate, topic, word, weight)\n",
    "#add node and edge to the net\n",
    "for e in edge_data:\n",
    "    nm = e[0]\n",
    "    tpc = e[1]\n",
    "    w = e[2]\n",
    "    wt = e[3]\n",
    "# name-topic\n",
    "    wn2008.add_node(nm,nm,color=\"red\")\n",
    "    wn2008.add_node(tpc,tpc)\n",
    "    wn2008.add_edge(nm,tpc)\n",
    "# topic-word\n",
    "    wn2008.add_node(w,w)\n",
    "    wn2008.add_edge(tpc,w,value=wt)"
   ]
  },
  {
   "cell_type": "code",
   "execution_count": 5,
   "metadata": {
    "slideshow": {
     "slide_type": "slide"
    }
   },
   "outputs": [
    {
     "data": {
      "text/html": [
       "\n",
       "        <iframe\n",
       "            width=\"100%\"\n",
       "            height=\"750px\"\n",
       "            src=\"2008_Election_Expense_Wordnet.html\"\n",
       "            frameborder=\"0\"\n",
       "            allowfullscreen\n",
       "        ></iframe>\n",
       "        "
      ],
      "text/plain": [
       "<IPython.lib.display.IFrame at 0x7fcbc53e0fa0>"
      ]
     },
     "execution_count": 5,
     "metadata": {},
     "output_type": "execute_result"
    }
   ],
   "source": [
    "#wn2008.show_buttons()\n",
    "wn2008.show('2008_Election_Expense_Wordnet.html')"
   ]
  }
 ],
 "metadata": {
  "celltoolbar": "Slideshow",
  "kernelspec": {
   "display_name": "Python 3",
   "language": "python",
   "name": "python3"
  },
  "language_info": {
   "codemirror_mode": {
    "name": "ipython",
    "version": 3
   },
   "file_extension": ".py",
   "mimetype": "text/x-python",
   "name": "python",
   "nbconvert_exporter": "python",
   "pygments_lexer": "ipython3",
   "version": "3.8.3"
  }
 },
 "nbformat": 4,
 "nbformat_minor": 4
}
