{
 "cells": [
  {
   "cell_type": "markdown",
   "metadata": {},
   "source": [
    "## <div class=\"alert alert-block alert-success\"><center>Data Preparation - Obama Part<center>"
   ]
  },
  {
   "cell_type": "code",
   "execution_count": 1,
   "metadata": {},
   "outputs": [
    {
     "name": "stdout",
     "output_type": "stream",
     "text": [
      "Populating the interactive namespace from numpy and matplotlib\n"
     ]
    },
    {
     "name": "stderr",
     "output_type": "stream",
     "text": [
      "/Users/zhanghuishan/opt/anaconda3/lib/python3.8/site-packages/IPython/core/interactiveshell.py:3071: DtypeWarning: Columns (5,14,16,17,47,48,49,51,72,73) have mixed types.Specify dtype option on import or set low_memory=False.\n",
      "  has_raised = await self.run_ast_nodes(code_ast.body, cell_name,\n"
     ]
    }
   ],
   "source": [
    "%pylab inline\n",
    "import pandas as pd\n",
    "df_obama=pd.read_csv('obama2008.csv')"
   ]
  },
  {
   "cell_type": "code",
   "execution_count": 2,
   "metadata": {},
   "outputs": [],
   "source": [
    "df_obama = df_obama[['committee_id', 'report_year', 'disbursement_date','recipient_name',\\\n",
    "                     'recipient_state','recipient_city',\\\n",
    "                     'disbursement_purpose_category','disbursement_description','disbursement_amount']]"
   ]
  },
  {
   "cell_type": "code",
   "execution_count": 3,
   "metadata": {
    "scrolled": true
   },
   "outputs": [
    {
     "data": {
      "text/html": [
       "<div>\n",
       "<style scoped>\n",
       "    .dataframe tbody tr th:only-of-type {\n",
       "        vertical-align: middle;\n",
       "    }\n",
       "\n",
       "    .dataframe tbody tr th {\n",
       "        vertical-align: top;\n",
       "    }\n",
       "\n",
       "    .dataframe thead th {\n",
       "        text-align: right;\n",
       "    }\n",
       "</style>\n",
       "<table border=\"1\" class=\"dataframe\">\n",
       "  <thead>\n",
       "    <tr style=\"text-align: right;\">\n",
       "      <th></th>\n",
       "      <th>disbursement_purpose_category</th>\n",
       "      <th>disbursement_amount</th>\n",
       "    </tr>\n",
       "    <tr>\n",
       "      <th>disbursement_purpose_category</th>\n",
       "      <th></th>\n",
       "      <th></th>\n",
       "    </tr>\n",
       "  </thead>\n",
       "  <tbody>\n",
       "    <tr>\n",
       "      <th>ADMINISTRATIVE</th>\n",
       "      <td>4769</td>\n",
       "      <td>2.289567e+07</td>\n",
       "    </tr>\n",
       "    <tr>\n",
       "      <th>ADVERTISING</th>\n",
       "      <td>3722</td>\n",
       "      <td>3.903547e+08</td>\n",
       "    </tr>\n",
       "    <tr>\n",
       "      <th>FUNDRAISING</th>\n",
       "      <td>2206</td>\n",
       "      <td>2.542922e+06</td>\n",
       "    </tr>\n",
       "    <tr>\n",
       "      <th>MATERIALS</th>\n",
       "      <td>28</td>\n",
       "      <td>1.604821e+04</td>\n",
       "    </tr>\n",
       "    <tr>\n",
       "      <th>OTHER</th>\n",
       "      <td>59349</td>\n",
       "      <td>2.312260e+08</td>\n",
       "    </tr>\n",
       "    <tr>\n",
       "      <th>REFUNDS</th>\n",
       "      <td>6433</td>\n",
       "      <td>5.086160e+06</td>\n",
       "    </tr>\n",
       "    <tr>\n",
       "      <th>TRAVEL</th>\n",
       "      <td>41342</td>\n",
       "      <td>7.687753e+07</td>\n",
       "    </tr>\n",
       "  </tbody>\n",
       "</table>\n",
       "</div>"
      ],
      "text/plain": [
       "                               disbursement_purpose_category  \\\n",
       "disbursement_purpose_category                                  \n",
       "ADMINISTRATIVE                                          4769   \n",
       "ADVERTISING                                             3722   \n",
       "FUNDRAISING                                             2206   \n",
       "MATERIALS                                                 28   \n",
       "OTHER                                                  59349   \n",
       "REFUNDS                                                 6433   \n",
       "TRAVEL                                                 41342   \n",
       "\n",
       "                               disbursement_amount  \n",
       "disbursement_purpose_category                       \n",
       "ADMINISTRATIVE                        2.289567e+07  \n",
       "ADVERTISING                           3.903547e+08  \n",
       "FUNDRAISING                           2.542922e+06  \n",
       "MATERIALS                             1.604821e+04  \n",
       "OTHER                                 2.312260e+08  \n",
       "REFUNDS                               5.086160e+06  \n",
       "TRAVEL                                7.687753e+07  "
      ]
     },
     "execution_count": 3,
     "metadata": {},
     "output_type": "execute_result"
    }
   ],
   "source": [
    "# many uncategorized items under 'other'\n",
    "df_obama.groupby('disbursement_purpose_category').agg({'disbursement_purpose_category':'count','disbursement_amount':'sum'})"
   ]
  },
  {
   "cell_type": "markdown",
   "metadata": {},
   "source": [
    "**<div class=\"alert alert-block alert-warning\">Delete irrelevant rows: nan, refunds**"
   ]
  },
  {
   "cell_type": "code",
   "execution_count": 4,
   "metadata": {},
   "outputs": [],
   "source": [
    "df_obama.drop(df_obama[df_obama['disbursement_purpose_category'] == 'REFUNDS'].index, inplace = True) \n",
    "df_obama.drop(df_obama[df_obama['disbursement_description'] == 'CONTRIBUTION REFUND'].index, inplace = True) "
   ]
  },
  {
   "cell_type": "code",
   "execution_count": 5,
   "metadata": {},
   "outputs": [],
   "source": [
    "df_obama = df_obama[df_obama['disbursement_description'].notna()]"
   ]
  },
  {
   "cell_type": "code",
   "execution_count": 9,
   "metadata": {},
   "outputs": [
    {
     "data": {
      "text/plain": [
       "committee_id                       0\n",
       "report_year                        0\n",
       "disbursement_date                  0\n",
       "recipient_name                     0\n",
       "recipient_state                  174\n",
       "recipient_city                   115\n",
       "disbursement_purpose_category      0\n",
       "disbursement_description           0\n",
       "disbursement_amount                0\n",
       "dtype: int64"
      ]
     },
     "execution_count": 9,
     "metadata": {},
     "output_type": "execute_result"
    }
   ],
   "source": [
    "df_obama.isnull().sum()"
   ]
  },
  {
   "cell_type": "code",
   "execution_count": 10,
   "metadata": {
    "scrolled": true
   },
   "outputs": [],
   "source": [
    "obama_cat_sum = df_obama.groupby('disbursement_description').agg({'disbursement_description':'count','disbursement_amount':'sum'})"
   ]
  },
  {
   "cell_type": "code",
   "execution_count": 11,
   "metadata": {},
   "outputs": [],
   "source": [
    "obama_cat_sum.rename(columns={'disbursement_description':'count'}, inplace=True)"
   ]
  },
  {
   "cell_type": "code",
   "execution_count": 12,
   "metadata": {},
   "outputs": [],
   "source": [
    "pd.options.display.max_rows = None"
   ]
  },
  {
   "cell_type": "code",
   "execution_count": 13,
   "metadata": {},
   "outputs": [
    {
     "data": {
      "text/html": [
       "<div>\n",
       "<style scoped>\n",
       "    .dataframe tbody tr th:only-of-type {\n",
       "        vertical-align: middle;\n",
       "    }\n",
       "\n",
       "    .dataframe tbody tr th {\n",
       "        vertical-align: top;\n",
       "    }\n",
       "\n",
       "    .dataframe thead th {\n",
       "        text-align: right;\n",
       "    }\n",
       "</style>\n",
       "<table border=\"1\" class=\"dataframe\">\n",
       "  <thead>\n",
       "    <tr style=\"text-align: right;\">\n",
       "      <th></th>\n",
       "      <th>count</th>\n",
       "      <th>disbursement_amount</th>\n",
       "    </tr>\n",
       "    <tr>\n",
       "      <th>disbursement_description</th>\n",
       "      <th></th>\n",
       "      <th></th>\n",
       "    </tr>\n",
       "  </thead>\n",
       "  <tbody>\n",
       "    <tr>\n",
       "      <th>TRAVEL/LODGING</th>\n",
       "      <td>41215</td>\n",
       "      <td>7.683830e+07</td>\n",
       "    </tr>\n",
       "    <tr>\n",
       "      <th>PAYROLL</th>\n",
       "      <td>17920</td>\n",
       "      <td>3.088012e+07</td>\n",
       "    </tr>\n",
       "    <tr>\n",
       "      <th>TRAVEL AGENCY FEES</th>\n",
       "      <td>14734</td>\n",
       "      <td>4.202970e+05</td>\n",
       "    </tr>\n",
       "    <tr>\n",
       "      <th>PER DIEM</th>\n",
       "      <td>7823</td>\n",
       "      <td>2.785564e+06</td>\n",
       "    </tr>\n",
       "    <tr>\n",
       "      <th>STAGING, SOUND, LIGHTING</th>\n",
       "      <td>3406</td>\n",
       "      <td>2.668376e+07</td>\n",
       "    </tr>\n",
       "    <tr>\n",
       "      <th>TELEPHONE</th>\n",
       "      <td>3337</td>\n",
       "      <td>5.261824e+06</td>\n",
       "    </tr>\n",
       "    <tr>\n",
       "      <th>PAYROLL TAXES</th>\n",
       "      <td>2477</td>\n",
       "      <td>3.480334e+06</td>\n",
       "    </tr>\n",
       "    <tr>\n",
       "      <th>ON-LINE ADVERTISING</th>\n",
       "      <td>2334</td>\n",
       "      <td>3.440741e+07</td>\n",
       "    </tr>\n",
       "    <tr>\n",
       "      <th>CATERING/FACILITIES</th>\n",
       "      <td>2046</td>\n",
       "      <td>2.486207e+06</td>\n",
       "    </tr>\n",
       "    <tr>\n",
       "      <th>PRINTING</th>\n",
       "      <td>1862</td>\n",
       "      <td>7.923893e+06</td>\n",
       "    </tr>\n",
       "    <tr>\n",
       "      <th>OFFICE SUPPLIES</th>\n",
       "      <td>1828</td>\n",
       "      <td>8.526314e+05</td>\n",
       "    </tr>\n",
       "    <tr>\n",
       "      <th>ADVANCE WORK</th>\n",
       "      <td>1487</td>\n",
       "      <td>1.088166e+06</td>\n",
       "    </tr>\n",
       "    <tr>\n",
       "      <th>EVENT SITE RENTAL</th>\n",
       "      <td>1088</td>\n",
       "      <td>5.505096e+06</td>\n",
       "    </tr>\n",
       "    <tr>\n",
       "      <th>MEDIA PRODUCTION EXP</th>\n",
       "      <td>944</td>\n",
       "      <td>1.023214e+07</td>\n",
       "    </tr>\n",
       "    <tr>\n",
       "      <th>COMPUTER EQUIP</th>\n",
       "      <td>678</td>\n",
       "      <td>1.292788e+06</td>\n",
       "    </tr>\n",
       "    <tr>\n",
       "      <th>DELIVERY</th>\n",
       "      <td>669</td>\n",
       "      <td>1.116332e+06</td>\n",
       "    </tr>\n",
       "    <tr>\n",
       "      <th>RENT/OCCUPANCY</th>\n",
       "      <td>622</td>\n",
       "      <td>1.347669e+06</td>\n",
       "    </tr>\n",
       "    <tr>\n",
       "      <th>PRINT ADVERTISING</th>\n",
       "      <td>478</td>\n",
       "      <td>2.076970e+07</td>\n",
       "    </tr>\n",
       "    <tr>\n",
       "      <th>CREDIT CARD FEES</th>\n",
       "      <td>420</td>\n",
       "      <td>1.389138e+07</td>\n",
       "    </tr>\n",
       "    <tr>\n",
       "      <th>TELEMARKETING</th>\n",
       "      <td>410</td>\n",
       "      <td>2.099130e+07</td>\n",
       "    </tr>\n",
       "    <tr>\n",
       "      <th>EQUIPMENT RENTAL</th>\n",
       "      <td>347</td>\n",
       "      <td>4.393439e+05</td>\n",
       "    </tr>\n",
       "    <tr>\n",
       "      <th>POSTAGE</th>\n",
       "      <td>327</td>\n",
       "      <td>1.400927e+07</td>\n",
       "    </tr>\n",
       "    <tr>\n",
       "      <th>INTERPRETING SERVICE</th>\n",
       "      <td>276</td>\n",
       "      <td>9.622225e+04</td>\n",
       "    </tr>\n",
       "    <tr>\n",
       "      <th>POLLING</th>\n",
       "      <td>276</td>\n",
       "      <td>1.110540e+07</td>\n",
       "    </tr>\n",
       "    <tr>\n",
       "      <th>UTILITIES</th>\n",
       "      <td>272</td>\n",
       "      <td>2.676754e+05</td>\n",
       "    </tr>\n",
       "    <tr>\n",
       "      <th>RENT/OCCUPANCY IN-KIND</th>\n",
       "      <td>266</td>\n",
       "      <td>2.054763e+05</td>\n",
       "    </tr>\n",
       "    <tr>\n",
       "      <th>CONTRIBUTION</th>\n",
       "      <td>251</td>\n",
       "      <td>4.017698e+07</td>\n",
       "    </tr>\n",
       "    <tr>\n",
       "      <th>COMPUTER SOFTWARE</th>\n",
       "      <td>240</td>\n",
       "      <td>3.164060e+05</td>\n",
       "    </tr>\n",
       "    <tr>\n",
       "      <th>WEB SITE HOSTING</th>\n",
       "      <td>239</td>\n",
       "      <td>9.571551e+05</td>\n",
       "    </tr>\n",
       "    <tr>\n",
       "      <th>MEDIA BUY</th>\n",
       "      <td>233</td>\n",
       "      <td>3.491403e+08</td>\n",
       "    </tr>\n",
       "    <tr>\n",
       "      <th>SECURITY</th>\n",
       "      <td>231</td>\n",
       "      <td>2.886076e+05</td>\n",
       "    </tr>\n",
       "    <tr>\n",
       "      <th>MAILING</th>\n",
       "      <td>190</td>\n",
       "      <td>1.339374e+07</td>\n",
       "    </tr>\n",
       "    <tr>\n",
       "      <th>BANK CHARGES/FEES</th>\n",
       "      <td>163</td>\n",
       "      <td>1.650733e+05</td>\n",
       "    </tr>\n",
       "    <tr>\n",
       "      <th>CATERING/FACILITIES IN-KIND</th>\n",
       "      <td>160</td>\n",
       "      <td>5.671514e+04</td>\n",
       "    </tr>\n",
       "    <tr>\n",
       "      <th>DECORATIONS</th>\n",
       "      <td>158</td>\n",
       "      <td>7.783104e+05</td>\n",
       "    </tr>\n",
       "    <tr>\n",
       "      <th>EQUIPMENT MAINTENANCE</th>\n",
       "      <td>143</td>\n",
       "      <td>2.496657e+05</td>\n",
       "    </tr>\n",
       "    <tr>\n",
       "      <th>PRINTING IN-KIND</th>\n",
       "      <td>129</td>\n",
       "      <td>6.276246e+04</td>\n",
       "    </tr>\n",
       "    <tr>\n",
       "      <th>STRATEGY</th>\n",
       "      <td>129</td>\n",
       "      <td>1.604914e+06</td>\n",
       "    </tr>\n",
       "    <tr>\n",
       "      <th>OFFICE SUPPLIES IN-KIND</th>\n",
       "      <td>116</td>\n",
       "      <td>3.971091e+04</td>\n",
       "    </tr>\n",
       "    <tr>\n",
       "      <th>INSURANCE</th>\n",
       "      <td>84</td>\n",
       "      <td>3.039604e+06</td>\n",
       "    </tr>\n",
       "    <tr>\n",
       "      <th>LICENSE FEES</th>\n",
       "      <td>82</td>\n",
       "      <td>1.589452e+04</td>\n",
       "    </tr>\n",
       "    <tr>\n",
       "      <th>PUBLICATIONS/ SUBSCRIPTIONS</th>\n",
       "      <td>81</td>\n",
       "      <td>1.632703e+05</td>\n",
       "    </tr>\n",
       "    <tr>\n",
       "      <th>DOMAIN WEBSITES</th>\n",
       "      <td>81</td>\n",
       "      <td>3.318648e+06</td>\n",
       "    </tr>\n",
       "    <tr>\n",
       "      <th>CONS./PROF.SERV. FUNDRAISING</th>\n",
       "      <td>79</td>\n",
       "      <td>5.466768e+05</td>\n",
       "    </tr>\n",
       "    <tr>\n",
       "      <th>EVENT SITE RENTAL IN-KIND</th>\n",
       "      <td>79</td>\n",
       "      <td>3.924325e+04</td>\n",
       "    </tr>\n",
       "    <tr>\n",
       "      <th>CONS./PROF.SERV. MEDIA</th>\n",
       "      <td>75</td>\n",
       "      <td>2.215913e+06</td>\n",
       "    </tr>\n",
       "    <tr>\n",
       "      <th>TELEPHONE IN-KIND</th>\n",
       "      <td>73</td>\n",
       "      <td>2.635382e+04</td>\n",
       "    </tr>\n",
       "    <tr>\n",
       "      <th>TECHNOLOGY CONSULTING</th>\n",
       "      <td>70</td>\n",
       "      <td>2.573359e+05</td>\n",
       "    </tr>\n",
       "    <tr>\n",
       "      <th>MEALS</th>\n",
       "      <td>60</td>\n",
       "      <td>5.869290e+03</td>\n",
       "    </tr>\n",
       "    <tr>\n",
       "      <th>PARKING</th>\n",
       "      <td>60</td>\n",
       "      <td>3.332816e+04</td>\n",
       "    </tr>\n",
       "    <tr>\n",
       "      <th>CONS./ACCT.SERV.</th>\n",
       "      <td>58</td>\n",
       "      <td>9.601449e+05</td>\n",
       "    </tr>\n",
       "    <tr>\n",
       "      <th>LIST RENTAL MARKET VALUE</th>\n",
       "      <td>57</td>\n",
       "      <td>4.067470e+05</td>\n",
       "    </tr>\n",
       "    <tr>\n",
       "      <th>CONS./PROF.SERV. RESEARCH</th>\n",
       "      <td>45</td>\n",
       "      <td>1.668951e+05</td>\n",
       "    </tr>\n",
       "    <tr>\n",
       "      <th>PHOTOGRAPHY</th>\n",
       "      <td>44</td>\n",
       "      <td>3.221113e+04</td>\n",
       "    </tr>\n",
       "    <tr>\n",
       "      <th>PAYROLL PROCESSING FEE</th>\n",
       "      <td>40</td>\n",
       "      <td>6.502262e+04</td>\n",
       "    </tr>\n",
       "    <tr>\n",
       "      <th>TRAVEL/LODGING IN-KIND</th>\n",
       "      <td>40</td>\n",
       "      <td>2.682608e+04</td>\n",
       "    </tr>\n",
       "    <tr>\n",
       "      <th>EQUIPMENT</th>\n",
       "      <td>36</td>\n",
       "      <td>3.027789e+04</td>\n",
       "    </tr>\n",
       "    <tr>\n",
       "      <th>OFFICE FURNITURE</th>\n",
       "      <td>30</td>\n",
       "      <td>4.847291e+04</td>\n",
       "    </tr>\n",
       "    <tr>\n",
       "      <th>DOOR-TO-DOOR GET-OUT THE-VOTE</th>\n",
       "      <td>29</td>\n",
       "      <td>8.345467e+05</td>\n",
       "    </tr>\n",
       "    <tr>\n",
       "      <th>TRAVEL REIMBURSEMENT MILEAGE</th>\n",
       "      <td>27</td>\n",
       "      <td>6.527490e+03</td>\n",
       "    </tr>\n",
       "    <tr>\n",
       "      <th>LEGAL SERVICES</th>\n",
       "      <td>26</td>\n",
       "      <td>7.580665e+05</td>\n",
       "    </tr>\n",
       "    <tr>\n",
       "      <th>RESEARCH MATERIALS</th>\n",
       "      <td>22</td>\n",
       "      <td>9.128920e+03</td>\n",
       "    </tr>\n",
       "    <tr>\n",
       "      <th>CONS/PROF.SERV. COMPUTER</th>\n",
       "      <td>19</td>\n",
       "      <td>9.741250e+04</td>\n",
       "    </tr>\n",
       "    <tr>\n",
       "      <th>CONTRIBUTIONS CHARITABLE</th>\n",
       "      <td>18</td>\n",
       "      <td>1.295070e+05</td>\n",
       "    </tr>\n",
       "    <tr>\n",
       "      <th>OFFICE EXPENSES</th>\n",
       "      <td>16</td>\n",
       "      <td>1.046272e+04</td>\n",
       "    </tr>\n",
       "    <tr>\n",
       "      <th>EQUIPMENT IN-KIND</th>\n",
       "      <td>14</td>\n",
       "      <td>3.020510e+03</td>\n",
       "    </tr>\n",
       "    <tr>\n",
       "      <th>CONS./ADMIN SERV.</th>\n",
       "      <td>7</td>\n",
       "      <td>1.826410e+04</td>\n",
       "    </tr>\n",
       "    <tr>\n",
       "      <th>POSTAGE IN-KIND</th>\n",
       "      <td>7</td>\n",
       "      <td>1.645940e+03</td>\n",
       "    </tr>\n",
       "    <tr>\n",
       "      <th>WAGE GARNISHMENT</th>\n",
       "      <td>7</td>\n",
       "      <td>4.573970e+03</td>\n",
       "    </tr>\n",
       "    <tr>\n",
       "      <th>ADVERTISING IN-KIND</th>\n",
       "      <td>6</td>\n",
       "      <td>5.416000e+03</td>\n",
       "    </tr>\n",
       "    <tr>\n",
       "      <th>OFFICE EXPENSES IN-KIND</th>\n",
       "      <td>5</td>\n",
       "      <td>1.050000e+03</td>\n",
       "    </tr>\n",
       "    <tr>\n",
       "      <th>INTERNET EXPENSE IN-KIND</th>\n",
       "      <td>5</td>\n",
       "      <td>3.025500e+03</td>\n",
       "    </tr>\n",
       "    <tr>\n",
       "      <th>PARADE FEES</th>\n",
       "      <td>5</td>\n",
       "      <td>2.600000e+03</td>\n",
       "    </tr>\n",
       "    <tr>\n",
       "      <th>UTILITIES IN-KIND</th>\n",
       "      <td>4</td>\n",
       "      <td>2.304890e+03</td>\n",
       "    </tr>\n",
       "    <tr>\n",
       "      <th>ENTERTAINMENT</th>\n",
       "      <td>4</td>\n",
       "      <td>1.655490e+03</td>\n",
       "    </tr>\n",
       "    <tr>\n",
       "      <th>EVENT MANAGEMENT SERVICES</th>\n",
       "      <td>4</td>\n",
       "      <td>1.650000e+02</td>\n",
       "    </tr>\n",
       "    <tr>\n",
       "      <th>DECORATIONS IN KIND</th>\n",
       "      <td>3</td>\n",
       "      <td>3.811600e+02</td>\n",
       "    </tr>\n",
       "    <tr>\n",
       "      <th>CONS./PROF. SERV. COMMUNICATIONS</th>\n",
       "      <td>3</td>\n",
       "      <td>6.000000e+03</td>\n",
       "    </tr>\n",
       "    <tr>\n",
       "      <th>FLORAL</th>\n",
       "      <td>3</td>\n",
       "      <td>5.909000e+02</td>\n",
       "    </tr>\n",
       "    <tr>\n",
       "      <th>STATE BUSINESS TAX</th>\n",
       "      <td>3</td>\n",
       "      <td>1.894000e+03</td>\n",
       "    </tr>\n",
       "    <tr>\n",
       "      <th>UNLIMITED TRANSFER</th>\n",
       "      <td>3</td>\n",
       "      <td>7.500000e+06</td>\n",
       "    </tr>\n",
       "    <tr>\n",
       "      <th>TAXES</th>\n",
       "      <td>3</td>\n",
       "      <td>3.461502e+05</td>\n",
       "    </tr>\n",
       "    <tr>\n",
       "      <th>USE TAX</th>\n",
       "      <td>2</td>\n",
       "      <td>1.334200e+03</td>\n",
       "    </tr>\n",
       "    <tr>\n",
       "      <th>ACCOUNTING</th>\n",
       "      <td>2</td>\n",
       "      <td>8.542440e+03</td>\n",
       "    </tr>\n",
       "    <tr>\n",
       "      <th>PROCESSING CONTRIBUTIONS</th>\n",
       "      <td>2</td>\n",
       "      <td>2.980856e+05</td>\n",
       "    </tr>\n",
       "    <tr>\n",
       "      <th>PARKING IN-KIND</th>\n",
       "      <td>2</td>\n",
       "      <td>2.375000e+03</td>\n",
       "    </tr>\n",
       "    <tr>\n",
       "      <th>INTERNET EXPENSE</th>\n",
       "      <td>2</td>\n",
       "      <td>1.509990e+03</td>\n",
       "    </tr>\n",
       "    <tr>\n",
       "      <th>EQUIPMENT RENTAL IN-KIND</th>\n",
       "      <td>2</td>\n",
       "      <td>3.550000e+02</td>\n",
       "    </tr>\n",
       "    <tr>\n",
       "      <th>PROMOTIONAL MATERIALS</th>\n",
       "      <td>1</td>\n",
       "      <td>1.325485e+05</td>\n",
       "    </tr>\n",
       "    <tr>\n",
       "      <th>PHOTOGRAPHY IN-KIND</th>\n",
       "      <td>1</td>\n",
       "      <td>5.000000e+02</td>\n",
       "    </tr>\n",
       "    <tr>\n",
       "      <th>ADMINISTRATIVE/LEGAL</th>\n",
       "      <td>1</td>\n",
       "      <td>6.000000e+02</td>\n",
       "    </tr>\n",
       "    <tr>\n",
       "      <th>LICENSE FEES INKIND</th>\n",
       "      <td>1</td>\n",
       "      <td>7.000000e+01</td>\n",
       "    </tr>\n",
       "    <tr>\n",
       "      <th>LEASEHOLD IMPROVEMENTS</th>\n",
       "      <td>1</td>\n",
       "      <td>1.075000e+03</td>\n",
       "    </tr>\n",
       "    <tr>\n",
       "      <th>EVENT MANAGEMENT SERVICES IN-KIND</th>\n",
       "      <td>1</td>\n",
       "      <td>2.300000e+03</td>\n",
       "    </tr>\n",
       "    <tr>\n",
       "      <th>CONTRIBUTION OF EXCESS FUNDS</th>\n",
       "      <td>1</td>\n",
       "      <td>1.200000e+03</td>\n",
       "    </tr>\n",
       "    <tr>\n",
       "      <th>CONSULT/FUNDRAISING PROFESS. SERVICES</th>\n",
       "      <td>1</td>\n",
       "      <td>7.000000e+03</td>\n",
       "    </tr>\n",
       "    <tr>\n",
       "      <th>MEDIA</th>\n",
       "      <td>1</td>\n",
       "      <td>1.000000e+04</td>\n",
       "    </tr>\n",
       "  </tbody>\n",
       "</table>\n",
       "</div>"
      ],
      "text/plain": [
       "                                       count  disbursement_amount\n",
       "disbursement_description                                         \n",
       "TRAVEL/LODGING                         41215         7.683830e+07\n",
       "PAYROLL                                17920         3.088012e+07\n",
       "TRAVEL AGENCY FEES                     14734         4.202970e+05\n",
       "PER DIEM                                7823         2.785564e+06\n",
       "STAGING, SOUND, LIGHTING                3406         2.668376e+07\n",
       "TELEPHONE                               3337         5.261824e+06\n",
       "PAYROLL TAXES                           2477         3.480334e+06\n",
       "ON-LINE ADVERTISING                     2334         3.440741e+07\n",
       "CATERING/FACILITIES                     2046         2.486207e+06\n",
       "PRINTING                                1862         7.923893e+06\n",
       "OFFICE SUPPLIES                         1828         8.526314e+05\n",
       "ADVANCE WORK                            1487         1.088166e+06\n",
       "EVENT SITE RENTAL                       1088         5.505096e+06\n",
       "MEDIA PRODUCTION EXP                     944         1.023214e+07\n",
       "COMPUTER EQUIP                           678         1.292788e+06\n",
       "DELIVERY                                 669         1.116332e+06\n",
       "RENT/OCCUPANCY                           622         1.347669e+06\n",
       "PRINT ADVERTISING                        478         2.076970e+07\n",
       "CREDIT CARD FEES                         420         1.389138e+07\n",
       "TELEMARKETING                            410         2.099130e+07\n",
       "EQUIPMENT RENTAL                         347         4.393439e+05\n",
       "POSTAGE                                  327         1.400927e+07\n",
       "INTERPRETING SERVICE                     276         9.622225e+04\n",
       "POLLING                                  276         1.110540e+07\n",
       "UTILITIES                                272         2.676754e+05\n",
       "RENT/OCCUPANCY IN-KIND                   266         2.054763e+05\n",
       "CONTRIBUTION                             251         4.017698e+07\n",
       "COMPUTER SOFTWARE                        240         3.164060e+05\n",
       "WEB SITE HOSTING                         239         9.571551e+05\n",
       "MEDIA BUY                                233         3.491403e+08\n",
       "SECURITY                                 231         2.886076e+05\n",
       "MAILING                                  190         1.339374e+07\n",
       "BANK CHARGES/FEES                        163         1.650733e+05\n",
       "CATERING/FACILITIES IN-KIND              160         5.671514e+04\n",
       "DECORATIONS                              158         7.783104e+05\n",
       "EQUIPMENT MAINTENANCE                    143         2.496657e+05\n",
       "PRINTING IN-KIND                         129         6.276246e+04\n",
       "STRATEGY                                 129         1.604914e+06\n",
       "OFFICE SUPPLIES IN-KIND                  116         3.971091e+04\n",
       "INSURANCE                                 84         3.039604e+06\n",
       "LICENSE FEES                              82         1.589452e+04\n",
       "PUBLICATIONS/ SUBSCRIPTIONS               81         1.632703e+05\n",
       "DOMAIN WEBSITES                           81         3.318648e+06\n",
       "CONS./PROF.SERV. FUNDRAISING              79         5.466768e+05\n",
       "EVENT SITE RENTAL IN-KIND                 79         3.924325e+04\n",
       "CONS./PROF.SERV. MEDIA                    75         2.215913e+06\n",
       "TELEPHONE IN-KIND                         73         2.635382e+04\n",
       "TECHNOLOGY CONSULTING                     70         2.573359e+05\n",
       "MEALS                                     60         5.869290e+03\n",
       "PARKING                                   60         3.332816e+04\n",
       "CONS./ACCT.SERV.                          58         9.601449e+05\n",
       "LIST RENTAL MARKET VALUE                  57         4.067470e+05\n",
       "CONS./PROF.SERV. RESEARCH                 45         1.668951e+05\n",
       "PHOTOGRAPHY                               44         3.221113e+04\n",
       "PAYROLL PROCESSING FEE                    40         6.502262e+04\n",
       "TRAVEL/LODGING IN-KIND                    40         2.682608e+04\n",
       "EQUIPMENT                                 36         3.027789e+04\n",
       "OFFICE FURNITURE                          30         4.847291e+04\n",
       "DOOR-TO-DOOR GET-OUT THE-VOTE             29         8.345467e+05\n",
       "TRAVEL REIMBURSEMENT MILEAGE              27         6.527490e+03\n",
       "LEGAL SERVICES                            26         7.580665e+05\n",
       "RESEARCH MATERIALS                        22         9.128920e+03\n",
       "CONS/PROF.SERV. COMPUTER                  19         9.741250e+04\n",
       "CONTRIBUTIONS CHARITABLE                  18         1.295070e+05\n",
       "OFFICE EXPENSES                           16         1.046272e+04\n",
       "EQUIPMENT IN-KIND                         14         3.020510e+03\n",
       "CONS./ADMIN SERV.                          7         1.826410e+04\n",
       "POSTAGE IN-KIND                            7         1.645940e+03\n",
       "WAGE GARNISHMENT                           7         4.573970e+03\n",
       "ADVERTISING IN-KIND                        6         5.416000e+03\n",
       "OFFICE EXPENSES IN-KIND                    5         1.050000e+03\n",
       "INTERNET EXPENSE IN-KIND                   5         3.025500e+03\n",
       "PARADE FEES                                5         2.600000e+03\n",
       "UTILITIES IN-KIND                          4         2.304890e+03\n",
       "ENTERTAINMENT                              4         1.655490e+03\n",
       "EVENT MANAGEMENT SERVICES                  4         1.650000e+02\n",
       "DECORATIONS IN KIND                        3         3.811600e+02\n",
       "CONS./PROF. SERV. COMMUNICATIONS           3         6.000000e+03\n",
       "FLORAL                                     3         5.909000e+02\n",
       "STATE BUSINESS TAX                         3         1.894000e+03\n",
       "UNLIMITED TRANSFER                         3         7.500000e+06\n",
       "TAXES                                      3         3.461502e+05\n",
       "USE TAX                                    2         1.334200e+03\n",
       "ACCOUNTING                                 2         8.542440e+03\n",
       "PROCESSING CONTRIBUTIONS                   2         2.980856e+05\n",
       "PARKING IN-KIND                            2         2.375000e+03\n",
       "INTERNET EXPENSE                           2         1.509990e+03\n",
       "EQUIPMENT RENTAL IN-KIND                   2         3.550000e+02\n",
       "PROMOTIONAL MATERIALS                      1         1.325485e+05\n",
       "PHOTOGRAPHY IN-KIND                        1         5.000000e+02\n",
       "ADMINISTRATIVE/LEGAL                       1         6.000000e+02\n",
       "LICENSE FEES INKIND                        1         7.000000e+01\n",
       "LEASEHOLD IMPROVEMENTS                     1         1.075000e+03\n",
       "EVENT MANAGEMENT SERVICES IN-KIND          1         2.300000e+03\n",
       "CONTRIBUTION OF EXCESS FUNDS               1         1.200000e+03\n",
       "CONSULT/FUNDRAISING PROFESS. SERVICES      1         7.000000e+03\n",
       "MEDIA                                      1         1.000000e+04"
      ]
     },
     "execution_count": 13,
     "metadata": {},
     "output_type": "execute_result"
    }
   ],
   "source": [
    "obama_cat_sum.sort_values('count',ascending=False,na_position='first')"
   ]
  },
  {
   "cell_type": "code",
   "execution_count": 6,
   "metadata": {},
   "outputs": [
    {
     "data": {
      "text/plain": [
       "111362"
      ]
     },
     "execution_count": 6,
     "metadata": {},
     "output_type": "execute_result"
    }
   ],
   "source": [
    "len(df_obama)"
   ]
  },
  {
   "cell_type": "markdown",
   "metadata": {},
   "source": [
    "## <div class=\"alert alert-block alert-success\"><center>Text Clustering - Obama Part<center>"
   ]
  },
  {
   "cell_type": "markdown",
   "metadata": {},
   "source": [
    "import sys\n",
    "!{sys.executable} -m pip install spacy\n",
    "!{sys.executable} -m spacy download en"
   ]
  },
  {
   "cell_type": "code",
   "execution_count": 7,
   "metadata": {},
   "outputs": [],
   "source": [
    "# Get token list \"lda_tokens\"\n",
    "import spacy\n",
    "spacy.load('en')\n",
    "from spacy.lang.en import English\n",
    "parser = English()\n",
    "\n",
    "def tokenize(text): \n",
    "    lda_tokens = []\n",
    "    tokens = parser(text)\n",
    "    for token in tokens:\n",
    "        if token.orth_.isspace(): #skip space\n",
    "            continue\n",
    "        elif token.like_num: # delete numbers\n",
    "            continue\n",
    "        else:\n",
    "            lda_tokens.append(token.lower_)\n",
    "    return lda_tokens"
   ]
  },
  {
   "cell_type": "code",
   "execution_count": 8,
   "metadata": {},
   "outputs": [
    {
     "name": "stderr",
     "output_type": "stream",
     "text": [
      "[nltk_data] Downloading package stopwords to\n",
      "[nltk_data]     /Users/zhanghuishan/nltk_data...\n",
      "[nltk_data]   Package stopwords is already up-to-date!\n",
      "[nltk_data] Downloading package wordnet to\n",
      "[nltk_data]     /Users/zhanghuishan/nltk_data...\n",
      "[nltk_data]   Package wordnet is already up-to-date!\n"
     ]
    }
   ],
   "source": [
    "# Get the puntuations set\n",
    "import string\n",
    "en_punct = set(string.punctuation)\n",
    "\n",
    "# Get the stop words set\n",
    "import nltk\n",
    "nltk.download('stopwords')\n",
    "en_stop = set(nltk.corpus.stopwords.words('english'))\n",
    "\n",
    "# Get the tokens for LDA analysis (function)\n",
    "import nltk\n",
    "nltk.download('wordnet')\n",
    "from nltk.corpus import wordnet as wn\n",
    "from nltk.stem.wordnet import WordNetLemmatizer\n",
    "\n",
    "def get_lemma(word):\n",
    "    return WordNetLemmatizer().lemmatize(word) "
   ]
  },
  {
   "cell_type": "code",
   "execution_count": 9,
   "metadata": {},
   "outputs": [],
   "source": [
    "def prepare_text_for_lda(text):\n",
    "    tokens = tokenize(text)\n",
    "    tokens = [token for token in tokens if token not in en_punct] # delete punctuations\n",
    "    tokens = [token for token in tokens if len(token) > 1] # at least 2 letters consist a word\n",
    "    tokens = [token for token in tokens if token not in en_stop] # delete stop words\n",
    "    tokens = [get_lemma(token) for token in tokens] # delete word variants for accurate result\n",
    "    return tokens"
   ]
  },
  {
   "cell_type": "code",
   "execution_count": 10,
   "metadata": {},
   "outputs": [],
   "source": [
    "# Import data for LDA analysis and return text_data\n",
    "import random\n",
    "text_data = []\n",
    "for line in df_obama['disbursement_description']:\n",
    "    tokens = prepare_text_for_lda(line)\n",
    "    if random.random() > .99:\n",
    "        #print(tokens)\n",
    "        text_data.append(tokens)"
   ]
  },
  {
   "cell_type": "markdown",
   "metadata": {
    "scrolled": true
   },
   "source": [
    "pip install gensim"
   ]
  },
  {
   "cell_type": "code",
   "execution_count": 11,
   "metadata": {},
   "outputs": [],
   "source": [
    "# Cluster topics\n",
    "from gensim import corpora \n",
    "dictionary = corpora.Dictionary(text_data)\n",
    "corpus = [dictionary.doc2bow(text) for text in text_data]"
   ]
  },
  {
   "cell_type": "code",
   "execution_count": 12,
   "metadata": {},
   "outputs": [],
   "source": [
    "import pickle\n",
    "pickle.dump(corpus, open('corpus.pkl', 'wb'))\n",
    "dictionary.save('dictionary.gensim')"
   ]
  },
  {
   "cell_type": "code",
   "execution_count": 13,
   "metadata": {},
   "outputs": [
    {
     "name": "stdout",
     "output_type": "stream",
     "text": [
      "(0, '0.692*\"payroll\" + 0.094*\"tax\" + 0.044*\"catering\" + 0.044*\"facility\" + 0.029*\"rent\" + 0.029*\"occupancy\"')\n",
      "(1, '0.284*\"per\" + 0.284*\"diem\" + 0.084*\"advertising\" + 0.081*\"line\" + 0.059*\"advance\" + 0.059*\"work\"')\n",
      "(2, '0.230*\"fee\" + 0.222*\"agency\" + 0.222*\"travel\" + 0.073*\"lighting\" + 0.073*\"staging\" + 0.073*\"sound\"')\n",
      "(3, '0.243*\"telephone\" + 0.153*\"office\" + 0.153*\"supply\" + 0.153*\"printing\" + 0.050*\"delivery\" + 0.029*\"medium\"')\n",
      "(4, '0.472*\"travel\" + 0.472*\"lodging\" + 0.011*\"rental\" + 0.008*\"event\" + 0.008*\"site\" + 0.005*\"postage\"')\n"
     ]
    }
   ],
   "source": [
    "import gensim # package for topic modeling\n",
    "NUM_TOPICS = 5 # trial number based on understanding of the data file & research aims\n",
    "ldamodel = gensim.models.ldamodel.LdaModel(corpus, num_topics = NUM_TOPICS, id2word=dictionary, passes=20)\n",
    "ldamodel.save('model.gensim')\n",
    "topics = ldamodel.print_topics(num_words=6)\n",
    "for topic in topics:\n",
    "    print(topic)"
   ]
  },
  {
   "cell_type": "markdown",
   "metadata": {},
   "source": [
    "pip install pyldavis "
   ]
  },
  {
   "cell_type": "code",
   "execution_count": 28,
   "metadata": {},
   "outputs": [],
   "source": [
    "import pyLDAvis "
   ]
  },
  {
   "cell_type": "markdown",
   "metadata": {},
   "source": [
    "pip install jupyter_contrib_nbextensions && jupyter contrib nbextension install --user"
   ]
  },
  {
   "cell_type": "code",
   "execution_count": 14,
   "metadata": {},
   "outputs": [],
   "source": [
    "import pyLDAvis.gensim"
   ]
  },
  {
   "cell_type": "code",
   "execution_count": 29,
   "metadata": {
    "scrolled": false
   },
   "outputs": [
    {
     "data": {
      "text/html": [
       "\n",
       "<link rel=\"stylesheet\" type=\"text/css\" href=\"https://cdn.rawgit.com/bmabey/pyLDAvis/files/ldavis.v1.0.0.css\">\n",
       "\n",
       "\n",
       "<div id=\"ldavis_el249901402359635548324768210062\"></div>\n",
       "<script type=\"text/javascript\">\n",
       "\n",
       "var ldavis_el249901402359635548324768210062_data = {\"mdsDat\": {\"x\": [-0.23079569403449882, 0.2941168395204977, -0.17978308982820057, 0.31274504456990887, -0.19628310022770726], \"y\": [0.2716371689356733, 0.007487231095394216, 0.05738599117551233, 0.009343876549204386, -0.34585426775578404], \"topics\": [1, 2, 3, 4, 5], \"cluster\": [1, 1, 1, 1, 1], \"Freq\": [18.75732421875, 23.498445510864258, 10.308320999145508, 34.222808837890625, 13.213096618652344]}, \"tinfo\": {\"Term\": [\"lodging\", \"payroll\", \"travel\", \"fee\", \"agency\", \"per\", \"diem\", \"telephone\", \"office\", \"supply\", \"tax\", \"site\", \"rental\", \"lighting\", \"staging\", \"sound\", \"event\", \"line\", \"advertising\", \"advance\", \"work\", \"delivery\", \"medium\", \"kind\", \"security\", \"telemarketing\", \"exp\", \"production\", \"rent\", \"occupancy\", \"payroll\", \"lighting\", \"staging\", \"sound\", \"line\", \"medium\", \"exp\", \"production\", \"rent\", \"occupancy\", \"computer\", \"equip\", \"advertising\", \"buy\", \"meal\", \"insurance\", \"furniture\", \"mailing\", \"maintenance\", \"polling\", \"interpreting\", \"service\", \"charge\", \"bank\", \"credit\", \"card\", \"web\", \"hosting\", \"contribution\", \"postage\", \"telephone\", \"kind\", \"utility\", \"lodging\", \"travel\", \"tax\", \"advance\", \"work\", \"telemarketing\", \"diem\", \"fee\", \"agency\", \"printing\", \"fee\", \"agency\", \"equipment\", \"credit\", \"card\", \"bank\", \"charge\", \"web\", \"hosting\", \"maintenance\", \"travel\", \"insurance\", \"meal\", \"furniture\", \"mailing\", \"polling\", \"service\", \"interpreting\", \"buy\", \"postage\", \"contribution\", \"domain\", \"website\", \"utility\", \"print\", \"telemarketing\", \"security\", \"equip\", \"computer\", \"occupancy\", \"lighting\", \"sound\", \"staging\", \"site\", \"payroll\", \"office\", \"supply\", \"lodging\", \"kind\", \"work\", \"advance\", \"facility\", \"catering\", \"rental\", \"diem\", \"printing\", \"telephone\", \"telephone\", \"office\", \"supply\", \"site\", \"rental\", \"event\", \"security\", \"telemarketing\", \"print\", \"utility\", \"postage\", \"contribution\", \"furniture\", \"kind\", \"advertising\", \"insurance\", \"meal\", \"mailing\", \"maintenance\", \"polling\", \"interpreting\", \"service\", \"buy\", \"hosting\", \"web\", \"charge\", \"bank\", \"card\", \"credit\", \"equipment\", \"payroll\", \"printing\", \"tax\", \"line\", \"medium\", \"production\", \"exp\", \"occupancy\", \"rent\", \"travel\", \"lodging\", \"lodging\", \"printing\", \"catering\", \"facility\", \"website\", \"domain\", \"travel\", \"mailing\", \"insurance\", \"kind\", \"meal\", \"furniture\", \"maintenance\", \"polling\", \"interpreting\", \"service\", \"buy\", \"charge\", \"bank\", \"card\", \"credit\", \"hosting\", \"web\", \"contribution\", \"postage\", \"equipment\", \"print\", \"utility\", \"telemarketing\", \"security\", \"delivery\", \"per\", \"diem\", \"fee\", \"payroll\", \"advertising\", \"rental\", \"agency\", \"line\", \"supply\", \"office\", \"telephone\", \"tax\", \"staging\", \"sound\", \"lighting\", \"per\", \"diem\", \"tax\", \"advance\", \"work\", \"delivery\", \"service\", \"interpreting\", \"polling\", \"insurance\", \"meal\", \"furniture\", \"mailing\", \"maintenance\", \"buy\", \"bank\", \"charge\", \"card\", \"credit\", \"hosting\", \"web\", \"contribution\", \"postage\", \"website\", \"domain\", \"equipment\", \"utility\", \"print\", \"telemarketing\", \"security\", \"payroll\", \"event\", \"rental\", \"site\", \"travel\", \"telephone\", \"advertising\", \"line\", \"agency\", \"fee\", \"lodging\", \"printing\", \"facility\", \"catering\"], \"Freq\": [339.0, 192.0, 496.0, 163.0, 157.0, 98.0, 98.0, 46.0, 28.0, 26.0, 30.0, 25.0, 23.0, 33.0, 33.0, 33.0, 20.0, 22.0, 27.0, 15.0, 15.0, 11.0, 13.0, 10.0, 7.0, 7.0, 10.0, 10.0, 9.0, 9.0, 190.40415954589844, 32.795433044433594, 32.7954216003418, 32.79541015625, 21.627643585205078, 12.305754661560059, 9.508749008178711, 9.508746147155762, 8.576570510864258, 8.57656478881836, 7.644983291625977, 7.644972801208496, 21.631689071655273, 2.9832959175109863, 1.1183950901031494, 0.18656040728092194, 0.18647505342960358, 0.1865527480840683, 0.18648898601531982, 0.1864929497241974, 0.18647947907447815, 0.18647871911525726, 0.18648305535316467, 0.18648262321949005, 0.18648216128349304, 0.18648207187652588, 0.18648824095726013, 0.18648846447467804, 0.1864868402481079, 0.18648400902748108, 0.1944127082824707, 0.18899816274642944, 0.1874135434627533, 0.19429665803909302, 0.19428466260433197, 0.18902742862701416, 0.18789750337600708, 0.18788854777812958, 0.18695004284381866, 0.18661057949066162, 0.18657979369163513, 0.18657612800598145, 0.18657585978507996, 162.4229278564453, 156.34042358398438, 4.241430759429932, 3.2442786693573, 3.244276523590088, 3.2432572841644287, 3.2432563304901123, 3.2320339679718018, 3.2320241928100586, 2.2303168773651123, 156.75523376464844, 0.2028658390045166, 0.2028210461139679, 0.20278513431549072, 0.2028592973947525, 0.20280487835407257, 0.20279014110565186, 0.2027900218963623, 0.2027980089187622, 0.20279563963413239, 0.20279434323310852, 0.20332741737365723, 0.20332516729831696, 0.20279784500598907, 0.2027871161699295, 0.20280614495277405, 0.20280210673809052, 0.20280635356903076, 0.20280155539512634, 0.20280401408672333, 0.22752149403095245, 0.22750376164913177, 0.22749753296375275, 0.20703274011611938, 0.2106715887784958, 0.20482933521270752, 0.20480608940124512, 0.20392248034477234, 0.20384205877780914, 0.20382554829120636, 0.20380526781082153, 0.20334114134311676, 0.20333917438983917, 0.20299917459487915, 0.2029353231191635, 0.20288795232772827, 0.2028801590204239, 45.36880874633789, 27.6772403717041, 26.067842483520508, 24.44928550720215, 22.84473419189453, 19.627952575683594, 6.759202480316162, 6.757611274719238, 5.149127960205078, 5.148235321044922, 3.5404701232910156, 3.540461778640747, 1.931161642074585, 6.490632057189941, 5.143916130065918, 0.3223764896392822, 0.3221130073070526, 0.32231444120407104, 0.3219829797744751, 0.321996808052063, 0.3219302296638489, 0.3219280540943146, 0.321964830160141, 0.3412749171257019, 0.3412622809410095, 0.3219439685344696, 0.3219430446624756, 0.3219452202320099, 0.32194268703460693, 0.3466632068157196, 0.324860543012619, 0.3239259421825409, 0.32369375228881836, 0.32363876700401306, 0.3235936760902405, 0.3235926330089569, 0.3235859274864197, 0.3232662081718445, 0.3232610821723938, 0.3232091963291168, 0.32314085960388184, 338.8671875, 16.366914749145508, 13.936725616455078, 13.93671703338623, 4.212910175323486, 4.21290922164917, 338.53759765625, 1.7820051908493042, 0.9715921878814697, 3.5354228019714355, 0.1620839238166809, 0.16206736862659454, 0.16207438707351685, 0.16207748651504517, 0.16207078099250793, 0.1620691865682602, 0.16207557916641235, 0.16288554668426514, 0.1628854125738144, 0.162071093916893, 0.16207066178321838, 0.16207394003868103, 0.16207297146320343, 0.1620737463235855, 0.16207219660282135, 0.16289658844470978, 0.1624724417924881, 0.16207686066627502, 0.16208094358444214, 0.16207925975322723, 0.16369129717350006, 0.16964872181415558, 0.1696396917104721, 0.16338084638118744, 0.16305842995643616, 0.16291536390781403, 0.16288553178310394, 0.1625669151544571, 0.16249878704547882, 0.16249439120292664, 0.16247990727424622, 0.16215087473392487, 0.16209936141967773, 0.16209083795547485, 0.16209068894386292, 0.16208620369434357, 97.8994140625, 97.8992919921875, 29.91238021850586, 15.079044342041016, 15.079010963439941, 10.134529113769531, 2.719628095626831, 2.719622850418091, 2.7195029258728027, 0.24747830629348755, 0.24736067652702332, 0.2472674548625946, 0.2474505603313446, 0.24730095267295837, 0.24729226529598236, 0.2472827136516571, 0.2472822368144989, 0.24728195369243622, 0.24728156626224518, 0.2472984790802002, 0.24729764461517334, 0.2472885698080063, 0.24728666245937347, 0.24733681976795197, 0.24733401834964752, 0.24733002483844757, 0.24729226529598236, 0.2472693920135498, 0.24789968132972717, 0.24729539453983307, 1.4429614543914795, 0.2522219121456146, 0.25224390625953674, 0.2522670328617096, 0.24897967278957367, 0.24863332509994507, 0.24858829379081726, 0.24857741594314575, 0.24808348715305328, 0.2480660229921341, 0.2480057030916214, 0.2474800944328308, 0.24734967947006226, 0.2473466992378235], \"Total\": [339.0, 192.0, 496.0, 163.0, 157.0, 98.0, 98.0, 46.0, 28.0, 26.0, 30.0, 25.0, 23.0, 33.0, 33.0, 33.0, 20.0, 22.0, 27.0, 15.0, 15.0, 11.0, 13.0, 10.0, 7.0, 7.0, 10.0, 10.0, 9.0, 9.0, 192.54571533203125, 33.75429916381836, 33.754310607910156, 33.75431442260742, 22.565187454223633, 13.2415189743042, 10.444497108459473, 10.444500923156738, 9.512015342712402, 9.51201343536377, 8.579133033752441, 8.579134941101074, 27.389944076538086, 3.917426347732544, 2.0527737140655518, 1.930873155593872, 2.7297565937042236, 2.741182327270508, 3.1481637954711914, 3.5928750038146973, 3.592893362045288, 3.5928940773010254, 4.161850929260254, 4.161850929260254, 4.162055969238281, 4.1620564460754395, 4.169155120849609, 4.169159889221191, 4.339105606079102, 4.339108943939209, 46.17688751220703, 10.666221618652344, 5.947815895080566, 339.8365783691406, 496.059326171875, 30.79001808166504, 15.9547700881958, 15.954767227172852, 7.557347774505615, 98.78059387207031, 163.34310913085938, 157.2598114013672, 17.32778549194336, 163.34310913085938, 157.2598114013672, 5.184821605682373, 4.162055969238281, 4.1620564460754395, 4.161850929260254, 4.161850929260254, 4.169155120849609, 4.169159889221191, 3.1481637954711914, 496.059326171875, 1.930873155593872, 2.0527737140655518, 2.7297565937042236, 2.741182327270508, 3.5928750038146973, 3.5928940773010254, 3.592893362045288, 3.917426347732544, 4.339108943939209, 4.339105606079102, 5.172133922576904, 5.172133922576904, 5.947815895080566, 5.9481353759765625, 7.557347774505615, 7.557868957519531, 8.579134941101074, 8.579133033752441, 9.51201343536377, 33.75429916381836, 33.75431442260742, 33.754310607910156, 25.25714874267578, 192.54571533203125, 28.478328704833984, 26.868934631347656, 339.8365783691406, 10.666221618652344, 15.954767227172852, 15.9547700881958, 14.896000862121582, 14.896000862121582, 23.64934730529785, 98.78059387207031, 17.32778549194336, 46.17688751220703, 46.17688751220703, 28.478328704833984, 26.868934631347656, 25.25714874267578, 23.64934730529785, 20.431520462036133, 7.557868957519531, 7.557347774505615, 5.9481353759765625, 5.947815895080566, 4.339108943939209, 4.339105606079102, 2.7297565937042236, 10.666221618652344, 27.389944076538086, 1.930873155593872, 2.0527737140655518, 2.741182327270508, 3.1481637954711914, 3.5928750038146973, 3.592893362045288, 3.5928940773010254, 3.917426347732544, 4.169159889221191, 4.169155120849609, 4.161850929260254, 4.161850929260254, 4.1620564460754395, 4.162055969238281, 5.184821605682373, 192.54571533203125, 17.32778549194336, 30.79001808166504, 22.565187454223633, 13.2415189743042, 10.444500923156738, 10.444497108459473, 9.51201343536377, 9.512015342712402, 496.059326171875, 339.8365783691406, 339.8365783691406, 17.32778549194336, 14.896000862121582, 14.896000862121582, 5.172133922576904, 5.172133922576904, 496.059326171875, 2.741182327270508, 1.930873155593872, 10.666221618652344, 2.0527737140655518, 2.7297565937042236, 3.1481637954711914, 3.5928750038146973, 3.592893362045288, 3.5928940773010254, 3.917426347732544, 4.161850929260254, 4.161850929260254, 4.1620564460754395, 4.162055969238281, 4.169159889221191, 4.169155120849609, 4.339105606079102, 4.339108943939209, 5.184821605682373, 5.9481353759765625, 5.947815895080566, 7.557347774505615, 7.557868957519531, 11.009566307067871, 98.78054809570312, 98.78059387207031, 163.34310913085938, 192.54571533203125, 27.389944076538086, 23.64934730529785, 157.2598114013672, 22.565187454223633, 26.868934631347656, 28.478328704833984, 46.17688751220703, 30.79001808166504, 33.754310607910156, 33.75431442260742, 33.75429916381836, 98.78054809570312, 98.78059387207031, 30.79001808166504, 15.9547700881958, 15.954767227172852, 11.009566307067871, 3.5928940773010254, 3.592893362045288, 3.5928750038146973, 1.930873155593872, 2.0527737140655518, 2.7297565937042236, 2.741182327270508, 3.1481637954711914, 3.917426347732544, 4.161850929260254, 4.161850929260254, 4.1620564460754395, 4.162055969238281, 4.169159889221191, 4.169155120849609, 4.339105606079102, 4.339108943939209, 5.172133922576904, 5.172133922576904, 5.184821605682373, 5.947815895080566, 5.9481353759765625, 7.557347774505615, 7.557868957519531, 192.54571533203125, 20.431520462036133, 23.64934730529785, 25.25714874267578, 496.059326171875, 46.17688751220703, 27.389944076538086, 22.565187454223633, 157.2598114013672, 163.34310913085938, 339.8365783691406, 17.32778549194336, 14.896000862121582, 14.896000862121582], \"Category\": [\"Default\", \"Default\", \"Default\", \"Default\", \"Default\", \"Default\", \"Default\", \"Default\", \"Default\", \"Default\", \"Default\", \"Default\", \"Default\", \"Default\", \"Default\", \"Default\", \"Default\", \"Default\", \"Default\", \"Default\", \"Default\", \"Default\", \"Default\", \"Default\", \"Default\", \"Default\", \"Default\", \"Default\", \"Default\", \"Default\", \"Topic1\", \"Topic1\", \"Topic1\", \"Topic1\", \"Topic1\", \"Topic1\", \"Topic1\", \"Topic1\", \"Topic1\", \"Topic1\", \"Topic1\", \"Topic1\", \"Topic1\", \"Topic1\", \"Topic1\", \"Topic1\", \"Topic1\", \"Topic1\", \"Topic1\", \"Topic1\", \"Topic1\", \"Topic1\", \"Topic1\", \"Topic1\", \"Topic1\", \"Topic1\", \"Topic1\", \"Topic1\", \"Topic1\", \"Topic1\", \"Topic1\", \"Topic1\", \"Topic1\", \"Topic1\", \"Topic1\", \"Topic1\", \"Topic1\", \"Topic1\", \"Topic1\", \"Topic1\", \"Topic1\", \"Topic1\", \"Topic1\", \"Topic2\", \"Topic2\", \"Topic2\", \"Topic2\", \"Topic2\", \"Topic2\", \"Topic2\", \"Topic2\", \"Topic2\", \"Topic2\", \"Topic2\", \"Topic2\", \"Topic2\", \"Topic2\", \"Topic2\", \"Topic2\", \"Topic2\", \"Topic2\", \"Topic2\", \"Topic2\", \"Topic2\", \"Topic2\", \"Topic2\", \"Topic2\", \"Topic2\", \"Topic2\", \"Topic2\", \"Topic2\", \"Topic2\", \"Topic2\", \"Topic2\", \"Topic2\", \"Topic2\", \"Topic2\", \"Topic2\", \"Topic2\", \"Topic2\", \"Topic2\", \"Topic2\", \"Topic2\", \"Topic2\", \"Topic2\", \"Topic2\", \"Topic2\", \"Topic2\", \"Topic2\", \"Topic2\", \"Topic3\", \"Topic3\", \"Topic3\", \"Topic3\", \"Topic3\", \"Topic3\", \"Topic3\", \"Topic3\", \"Topic3\", \"Topic3\", \"Topic3\", \"Topic3\", \"Topic3\", \"Topic3\", \"Topic3\", \"Topic3\", \"Topic3\", \"Topic3\", \"Topic3\", \"Topic3\", \"Topic3\", \"Topic3\", \"Topic3\", \"Topic3\", \"Topic3\", \"Topic3\", \"Topic3\", \"Topic3\", \"Topic3\", \"Topic3\", \"Topic3\", \"Topic3\", \"Topic3\", \"Topic3\", \"Topic3\", \"Topic3\", \"Topic3\", \"Topic3\", \"Topic3\", \"Topic3\", \"Topic3\", \"Topic4\", \"Topic4\", \"Topic4\", \"Topic4\", \"Topic4\", \"Topic4\", \"Topic4\", \"Topic4\", \"Topic4\", \"Topic4\", \"Topic4\", \"Topic4\", \"Topic4\", \"Topic4\", \"Topic4\", \"Topic4\", \"Topic4\", \"Topic4\", \"Topic4\", \"Topic4\", \"Topic4\", \"Topic4\", \"Topic4\", \"Topic4\", \"Topic4\", \"Topic4\", \"Topic4\", \"Topic4\", \"Topic4\", \"Topic4\", \"Topic4\", \"Topic4\", \"Topic4\", \"Topic4\", \"Topic4\", \"Topic4\", \"Topic4\", \"Topic4\", \"Topic4\", \"Topic4\", \"Topic4\", \"Topic4\", \"Topic4\", \"Topic4\", \"Topic4\", \"Topic4\", \"Topic5\", \"Topic5\", \"Topic5\", \"Topic5\", \"Topic5\", \"Topic5\", \"Topic5\", \"Topic5\", \"Topic5\", \"Topic5\", \"Topic5\", \"Topic5\", \"Topic5\", \"Topic5\", \"Topic5\", \"Topic5\", \"Topic5\", \"Topic5\", \"Topic5\", \"Topic5\", \"Topic5\", \"Topic5\", \"Topic5\", \"Topic5\", \"Topic5\", \"Topic5\", \"Topic5\", \"Topic5\", \"Topic5\", \"Topic5\", \"Topic5\", \"Topic5\", \"Topic5\", \"Topic5\", \"Topic5\", \"Topic5\", \"Topic5\", \"Topic5\", \"Topic5\", \"Topic5\", \"Topic5\", \"Topic5\", \"Topic5\", \"Topic5\"], \"logprob\": [30.0, 29.0, 28.0, 27.0, 26.0, 25.0, 24.0, 23.0, 22.0, 21.0, 20.0, 19.0, 18.0, 17.0, 16.0, 15.0, 14.0, 13.0, 12.0, 11.0, 10.0, 9.0, 8.0, 7.0, 6.0, 5.0, 4.0, 3.0, 2.0, 1.0, -0.7616000175476074, -2.520400047302246, -2.520400047302246, -2.520400047302246, -2.936800003051758, -3.500699996948242, -3.758500099182129, -3.758500099182129, -3.8617000579833984, -3.8617000579833984, -3.9767000675201416, -3.9767000675201416, -2.9365999698638916, -4.917699813842773, -5.898799896240234, -7.689700126647949, -7.690199851989746, -7.689799785614014, -7.690100193023682, -7.690100193023682, -7.690199851989746, -7.690199851989746, -7.690199851989746, -7.690199851989746, -7.690199851989746, -7.690199851989746, -7.690100193023682, -7.690100193023682, -7.690100193023682, -7.690100193023682, -7.648499965667725, -7.676799774169922, -7.685200214385986, -7.649099826812744, -7.649199962615967, -7.676599979400635, -7.682600021362305, -7.682600021362305, -7.687699794769287, -7.689499855041504, -7.689599990844727, -7.689700126647949, -7.689700126647949, -1.145900011062622, -1.1841000318527222, -4.791200160980225, -5.059199810028076, -5.059199810028076, -5.059500217437744, -5.059500217437744, -5.063000202178955, -5.063000202178955, -5.433899879455566, -1.181399941444397, -7.831299781799316, -7.831500053405762, -7.831699848175049, -7.831299781799316, -7.831600189208984, -7.831699848175049, -7.831699848175049, -7.831600189208984, -7.831600189208984, -7.831600189208984, -7.828999996185303, -7.828999996185303, -7.831600189208984, -7.831699848175049, -7.831600189208984, -7.831600189208984, -7.831600189208984, -7.831600189208984, -7.831600189208984, -7.716599941253662, -7.716700077056885, -7.716700077056885, -7.810999870300293, -7.793499946594238, -7.821700096130371, -7.821800231933594, -7.826099872589111, -7.826499938964844, -7.826600074768066, -7.826700210571289, -7.828999996185303, -7.828999996185303, -7.830599784851074, -7.830999851226807, -7.831200122833252, -7.831200122833252, -1.5973000526428223, -2.0915000438690186, -2.151400089263916, -2.2155001163482666, -2.283400058746338, -2.4351000785827637, -3.501199960708618, -3.5013999938964844, -3.7732999324798584, -3.773400068283081, -4.147799968719482, -4.147799968719482, -4.754000186920166, -3.5416998863220215, -3.7743000984191895, -6.544099807739258, -6.545000076293945, -6.544300079345703, -6.545400142669678, -6.545300006866455, -6.545499801635742, -6.545499801635742, -6.545400142669678, -6.487199783325195, -6.487199783325195, -6.545499801635742, -6.545499801635742, -6.545499801635742, -6.545499801635742, -6.471499919891357, -6.536499977111816, -6.539299964904785, -6.54010009765625, -6.540200233459473, -6.54040002822876, -6.54040002822876, -6.54040002822876, -6.541399955749512, -6.541399955749512, -6.541600227355957, -6.541800022125244, -0.7864000201225281, -3.816800117492676, -3.9774999618530273, -3.9774999618530273, -5.173900127410889, -5.173900127410889, -0.7874000072479248, -6.034299850463867, -6.640900135040283, -5.3491997718811035, -8.431699752807617, -8.43179988861084, -8.431699752807617, -8.431699752807617, -8.43179988861084, -8.43179988861084, -8.431699752807617, -8.426799774169922, -8.426799774169922, -8.43179988861084, -8.43179988861084, -8.431699752807617, -8.43179988861084, -8.431699752807617, -8.43179988861084, -8.4266996383667, -8.429300308227539, -8.431699752807617, -8.431699752807617, -8.431699752807617, -8.421799659729004, -8.386099815368652, -8.386099815368652, -8.423700332641602, -8.425700187683105, -8.426600456237793, -8.426799774169922, -8.42870044708252, -8.429100036621094, -8.429200172424316, -8.429200172424316, -8.431300163269043, -8.431599617004395, -8.431599617004395, -8.431599617004395, -8.431699752807617, -1.0764000415802002, -1.0764000415802002, -2.2620999813079834, -2.9470999240875244, -2.9470999240875244, -3.344399929046631, -4.659900188446045, -4.659900188446045, -4.659900188446045, -7.05679988861084, -7.057300090789795, -7.057600021362305, -7.0569000244140625, -7.057499885559082, -7.057499885559082, -7.057600021362305, -7.057600021362305, -7.057600021362305, -7.057600021362305, -7.057499885559082, -7.057499885559082, -7.057600021362305, -7.057600021362305, -7.057400226593018, -7.057400226593018, -7.057400226593018, -7.057499885559082, -7.057600021362305, -7.055099964141846, -7.057499885559082, -5.293700218200684, -7.037799835205078, -7.037700176239014, -7.037600040435791, -7.0507001876831055, -7.05210018157959, -7.052299976348877, -7.0524001121521, -7.0543999671936035, -7.0543999671936035, -7.054699897766113, -7.05679988861084, -7.057300090789795, -7.057300090789795], \"loglift\": [30.0, 29.0, 28.0, 27.0, 26.0, 25.0, 24.0, 23.0, 22.0, 21.0, 20.0, 19.0, 18.0, 17.0, 16.0, 15.0, 14.0, 13.0, 12.0, 11.0, 10.0, 9.0, 8.0, 7.0, 6.0, 5.0, 4.0, 3.0, 2.0, 1.0, 1.6624000072479248, 1.6447999477386475, 1.6447999477386475, 1.6447999477386475, 1.631100058555603, 1.6002999544143677, 1.579699993133545, 1.579699993133545, 1.570099949836731, 1.570099949836731, 1.5583000183105469, 1.5583000183105469, 1.437600016593933, 1.4012000560760498, 1.0663000345230103, -0.6633999943733215, -1.01010000705719, -1.013800024986267, -1.1526000499725342, -1.2847000360488892, -1.2848000526428223, -1.2848000526428223, -1.4318000078201294, -1.4318000078201294, -1.4318000078201294, -1.4318000078201294, -1.433500051498413, -1.433500051498413, -1.4735000133514404, -1.4735000133514404, -3.7967000007629395, -2.359499931335449, -1.7839000225067139, -5.7932000160217285, -6.171500205993652, -3.4195001125335693, -2.7679998874664307, -2.7681000232696533, -2.0257999897003174, -4.5980000495910645, -5.101200103759766, -5.063199996948242, -2.857599973678589, 1.4426000118255615, 1.4423999786376953, 1.2474000453948975, 1.1991000175476074, 1.1991000175476074, 1.1988999843597412, 1.1988999843597412, 1.193600058555603, 1.193600058555603, 1.103600025177002, 0.2962000072002411, -0.8048999905586243, -0.8664000034332275, -1.1516000032424927, -1.155400037765503, -1.426200032234192, -1.426300048828125, -1.426300048828125, -1.5126999616622925, -1.6150000095367432, -1.6150000095367432, -1.7879999876022339, -1.7879999876022339, -1.930299997329712, -1.930400013923645, -2.169800043106079, -2.1698999404907227, -2.296600103378296, -2.296600103378296, -2.3998000621795654, -3.5513999462127686, -3.551500082015991, -3.551500082015991, -3.355799913406372, -5.36959981918335, -3.4865000247955322, -3.4284000396728516, -5.970200061798096, -2.5092999935150146, -2.9119999408721924, -2.912100076675415, -2.8457000255584717, -2.8457000255584717, -3.3097000122070312, -4.739500045776367, -2.9992001056671143, -3.9793999195098877, 2.2546000480651855, 2.2437000274658203, 2.242000102996826, 2.2397000789642334, 2.237600088119507, 2.232100009918213, 2.1605000495910645, 2.160399913787842, 2.128000020980835, 2.1277999877929688, 2.0687999725341797, 2.0687999725341797, 1.9261000156402588, 1.7755000591278076, 0.5999000072479248, 0.4821999967098236, 0.420199990272522, 0.1316000074148178, -0.007899999618530273, -0.13989999890327454, -0.14020000398159027, -0.14020000398159027, -0.226500004529953, -0.2305999994277954, -0.2305999994277954, -0.2870999872684479, -0.2870999872684479, -0.287200003862381, -0.287200003862381, -0.43290001153945923, -4.112500190734863, -1.7072999477386475, -2.282900094985962, -1.9723000526428223, -1.4393999576568604, -1.2021000385284424, -1.2021000385284424, -1.1095999479293823, -1.1095999479293823, -5.063899993896484, -4.6859002113342285, 1.0693999528884888, 1.0152000188827515, 1.0056999921798706, 1.0056999921798706, 0.8671000003814697, 0.8671000003814697, 0.6901999711990356, 0.6416000127792358, 0.3855000138282776, -0.03200000151991844, -1.466599941253662, -1.7517000436782837, -1.8941999673843384, -2.026400089263916, -2.026400089263916, -2.026400089263916, -2.112799882888794, -2.1684000492095947, -2.1684000492095947, -2.1735000610351562, -2.1735000610351562, -2.175100088119507, -2.175100088119507, -2.215100049972534, -2.215100049972534, -2.3880999088287354, -2.5280001163482666, -2.530400037765503, -2.76990008354187, -2.7699999809265137, -3.1363000869750977, -5.294600009918213, -5.2947001457214355, -5.83519983291626, -6.001699924468994, -4.0524001121521, -3.9058001041412354, -5.802299976348877, -3.8612000942230225, -4.035799980163574, -4.094099998474121, -4.579400062561035, -4.174499988555908, -4.26639986038208, -4.26639986038208, -4.266499996185303, 2.015000104904175, 2.015000104904175, 1.9950000047683716, 1.9674999713897705, 1.9674999713897705, 1.941100001335144, 1.7454999685287476, 1.7454999685287476, 1.7454999685287476, -0.030400000512599945, -0.09210000187158585, -0.3774999976158142, -0.38100001215934753, -0.5199999809265137, -0.7386999726295471, -0.7991999983787537, -0.7991999983787537, -0.7993000149726868, -0.7993000149726868, -0.8008999824523926, -0.8008999824523926, -0.8409000039100647, -0.8409000039100647, -1.0162999629974365, -1.0162999629974365, -1.0188000202178955, -1.1562000513076782, -1.1563999652862549, -1.3933000564575195, -1.395799994468689, -2.8696999549865723, -2.3705999851226807, -2.516700029373169, -2.58240008354187, -5.5731000900268555, -3.2002999782562256, -2.6782000064849854, -2.4844000339508057, -4.4278998374938965, -4.466000080108643, -5.198800086975098, -2.2248001098632812, -2.0741000175476074, -2.0741000175476074]}, \"token.table\": {\"Topic\": [5, 1, 3, 2, 2, 1, 2, 4, 2, 1, 3, 2, 5, 5, 4, 1, 2, 3, 1, 4, 2, 3, 2, 4, 5, 3, 4, 1, 1, 4, 4, 2, 1, 1, 1, 3, 1, 5, 5, 5, 3, 3, 4, 1, 1, 3, 3, 5, 3, 1, 1, 3, 5, 3, 3, 2, 4, 3, 2, 4, 5], \"Freq\": [0.9401577115058899, 0.8032144904136658, 0.18254874646663666, 0.9919889569282532, 0.7208331227302551, 0.7658088803291321, 0.7207975387573242, 0.9398495554924011, 0.7208331227302551, 0.9324951767921448, 0.9218489527702332, 0.720797598361969, 0.9083009958267212, 0.9920976758003235, 0.7733751535415649, 0.9324949383735657, 0.7714826464653015, 0.9788796901702881, 0.9574419856071472, 0.9398495554924011, 0.9917773604393005, 0.7326660752296448, 0.7195694446563721, 0.5179004073143005, 0.8349816203117371, 0.5625234842300415, 0.37501564621925354, 0.9776532649993896, 0.9749531149864197, 0.9975382685661316, 0.7296121716499329, 0.6352909803390503, 0.4871457517147064, 0.9062404632568359, 0.9461719393730164, 0.9832037687301636, 0.9867786169052124, 0.005193572025746107, 0.9920981526374817, 0.8349859118461609, 0.9218482375144958, 0.840599536895752, 0.9233724474906921, 0.9574416279792786, 0.9461717009544373, 0.9725427031517029, 0.9261869788169861, 0.8349815011024475, 0.9502260088920593, 0.9776527881622314, 0.977652907371521, 0.9676602482795715, 0.9743417501449585, 0.9262508749961853, 0.9745134711265564, 0.3164944052696228, 0.6833860278129578, 0.8406447172164917, 0.7195702791213989, 0.7733751535415649, 0.9401578903198242], \"Term\": [\"advance\", \"advertising\", \"advertising\", \"agency\", \"bank\", \"buy\", \"card\", \"catering\", \"charge\", \"computer\", \"contribution\", \"credit\", \"delivery\", \"diem\", \"domain\", \"equip\", \"equipment\", \"event\", \"exp\", \"facility\", \"fee\", \"furniture\", \"hosting\", \"insurance\", \"interpreting\", \"kind\", \"kind\", \"lighting\", \"line\", \"lodging\", \"mailing\", \"maintenance\", \"meal\", \"medium\", \"occupancy\", \"office\", \"payroll\", \"payroll\", \"per\", \"polling\", \"postage\", \"print\", \"printing\", \"production\", \"rent\", \"rental\", \"security\", \"service\", \"site\", \"sound\", \"staging\", \"supply\", \"tax\", \"telemarketing\", \"telephone\", \"travel\", \"travel\", \"utility\", \"web\", \"website\", \"work\"]}, \"R\": 30, \"lambda.step\": 0.01, \"plot.opts\": {\"xlab\": \"PC1\", \"ylab\": \"PC2\"}, \"topic.order\": [1, 2, 3, 4, 5]};\n",
       "\n",
       "function LDAvis_load_lib(url, callback){\n",
       "  var s = document.createElement('script');\n",
       "  s.src = url;\n",
       "  s.async = true;\n",
       "  s.onreadystatechange = s.onload = callback;\n",
       "  s.onerror = function(){console.warn(\"failed to load library \" + url);};\n",
       "  document.getElementsByTagName(\"head\")[0].appendChild(s);\n",
       "}\n",
       "\n",
       "if(typeof(LDAvis) !== \"undefined\"){\n",
       "   // already loaded: just create the visualization\n",
       "   !function(LDAvis){\n",
       "       new LDAvis(\"#\" + \"ldavis_el249901402359635548324768210062\", ldavis_el249901402359635548324768210062_data);\n",
       "   }(LDAvis);\n",
       "}else if(typeof define === \"function\" && define.amd){\n",
       "   // require.js is available: use it to load d3/LDAvis\n",
       "   require.config({paths: {d3: \"https://cdnjs.cloudflare.com/ajax/libs/d3/3.5.5/d3.min\"}});\n",
       "   require([\"d3\"], function(d3){\n",
       "      window.d3 = d3;\n",
       "      LDAvis_load_lib(\"https://cdn.rawgit.com/bmabey/pyLDAvis/files/ldavis.v1.0.0.js\", function(){\n",
       "        new LDAvis(\"#\" + \"ldavis_el249901402359635548324768210062\", ldavis_el249901402359635548324768210062_data);\n",
       "      });\n",
       "    });\n",
       "}else{\n",
       "    // require.js not available: dynamically load d3 & LDAvis\n",
       "    LDAvis_load_lib(\"https://cdnjs.cloudflare.com/ajax/libs/d3/3.5.5/d3.min.js\", function(){\n",
       "         LDAvis_load_lib(\"https://cdn.rawgit.com/bmabey/pyLDAvis/files/ldavis.v1.0.0.js\", function(){\n",
       "                 new LDAvis(\"#\" + \"ldavis_el249901402359635548324768210062\", ldavis_el249901402359635548324768210062_data);\n",
       "            })\n",
       "         });\n",
       "}\n",
       "</script>"
      ],
      "text/plain": [
       "<IPython.core.display.HTML object>"
      ]
     },
     "execution_count": 29,
     "metadata": {},
     "output_type": "execute_result"
    }
   ],
   "source": [
    "#import gensim\n",
    "dictionary = gensim.corpora.Dictionary.load('dictionary.gensim')\n",
    "corpus = pickle.load(open('corpus.pkl', 'rb'))\n",
    "lda = gensim.models.ldamodel.LdaModel.load('model.gensim')\n",
    "lda_display = pyLDAvis.gensim.prepare(lda, corpus, dictionary, sort_topics=False)\n",
    "pyLDAvis.display(lda_display) "
   ]
  },
  {
   "cell_type": "code",
   "execution_count": null,
   "metadata": {},
   "outputs": [],
   "source": []
  },
  {
   "cell_type": "markdown",
   "metadata": {},
   "source": [
    "## <div class=\"alert alert-block alert-success\"><center>Data Preparation - Mccain Part<center>"
   ]
  },
  {
   "cell_type": "code",
   "execution_count": 33,
   "metadata": {},
   "outputs": [
    {
     "name": "stderr",
     "output_type": "stream",
     "text": [
      "/Users/zhanghuishan/opt/anaconda3/lib/python3.8/site-packages/IPython/core/interactiveshell.py:3071: DtypeWarning: Columns (5,16,17,23,24,26,27,28,29,31,33,34,47,48,49,66,72,73) have mixed types.Specify dtype option on import or set low_memory=False.\n",
      "  has_raised = await self.run_ast_nodes(code_ast.body, cell_name,\n"
     ]
    },
    {
     "data": {
      "text/plain": [
       "36905"
      ]
     },
     "execution_count": 33,
     "metadata": {},
     "output_type": "execute_result"
    }
   ],
   "source": [
    "df_mccain=pd.read_csv('mccain2008.csv')\n",
    "len(df_mccain)"
   ]
  },
  {
   "cell_type": "code",
   "execution_count": 34,
   "metadata": {},
   "outputs": [],
   "source": [
    "df_mccain = df_mccain[df_mccain.report_year == 2008]"
   ]
  },
  {
   "cell_type": "code",
   "execution_count": 35,
   "metadata": {},
   "outputs": [
    {
     "data": {
      "text/plain": [
       "36905"
      ]
     },
     "execution_count": 35,
     "metadata": {},
     "output_type": "execute_result"
    }
   ],
   "source": [
    "len(df_mccain)"
   ]
  },
  {
   "cell_type": "code",
   "execution_count": 36,
   "metadata": {},
   "outputs": [],
   "source": [
    "df_mccain = df_mccain[['committee_id', 'report_year', 'disbursement_date','recipient_name',\\\n",
    "                     'recipient_state','recipient_city',\\\n",
    "                     'disbursement_purpose_category','disbursement_description','disbursement_amount']]"
   ]
  },
  {
   "cell_type": "code",
   "execution_count": null,
   "metadata": {},
   "outputs": [],
   "source": [
    "df_mccain.disbursement_purpose_category.nunique()"
   ]
  },
  {
   "cell_type": "code",
   "execution_count": null,
   "metadata": {
    "scrolled": true
   },
   "outputs": [],
   "source": [
    "df_mccain.disbursement_purpose_category.unique()"
   ]
  },
  {
   "cell_type": "code",
   "execution_count": null,
   "metadata": {},
   "outputs": [],
   "source": [
    "df_mccain.disbursement_description.nunique()"
   ]
  },
  {
   "cell_type": "code",
   "execution_count": 37,
   "metadata": {},
   "outputs": [],
   "source": [
    "df_mccain.drop(df_mccain[df_mccain['disbursement_purpose_category'] == 'REFUNDS'].index, inplace = True) \n",
    "df_mccain.drop(df_mccain[df_mccain['disbursement_description'] == 'CONTRIBUTION REFUND'].index, inplace = True) \n",
    "df_mccain = df_mccain[df_mccain['disbursement_description'].notna()]"
   ]
  },
  {
   "cell_type": "code",
   "execution_count": 38,
   "metadata": {
    "scrolled": true
   },
   "outputs": [
    {
     "data": {
      "text/plain": [
       "committee_id                      0\n",
       "report_year                       0\n",
       "disbursement_date                 0\n",
       "recipient_name                    0\n",
       "recipient_state                  10\n",
       "recipient_city                    0\n",
       "disbursement_purpose_category     0\n",
       "disbursement_description          0\n",
       "disbursement_amount               0\n",
       "dtype: int64"
      ]
     },
     "execution_count": 38,
     "metadata": {},
     "output_type": "execute_result"
    }
   ],
   "source": [
    "df_mccain.isnull().sum()"
   ]
  },
  {
   "cell_type": "markdown",
   "metadata": {},
   "source": [
    "## <div class=\"alert alert-block alert-success\"><center>Text Clustering - Mccain Part<center>"
   ]
  },
  {
   "cell_type": "code",
   "execution_count": 39,
   "metadata": {},
   "outputs": [],
   "source": [
    "# Import data for LDA analysis and return text_data\n",
    "import random\n",
    "text_data = []\n",
    "for line in df_mccain['disbursement_description']:\n",
    "    tokens = prepare_text_for_lda(line)\n",
    "    if random.random() > .99:\n",
    "        #print(tokens)\n",
    "        text_data.append(tokens)"
   ]
  },
  {
   "cell_type": "code",
   "execution_count": 40,
   "metadata": {},
   "outputs": [],
   "source": [
    "from gensim import corpora \n",
    "dictionary = corpora.Dictionary(text_data)\n",
    "corpus = [dictionary.doc2bow(text) for text in text_data]\n",
    "import pickle\n",
    "pickle.dump(corpus, open('corpus.pkl', 'wb'))\n",
    "dictionary.save('dictionary.gensim')"
   ]
  },
  {
   "cell_type": "code",
   "execution_count": 43,
   "metadata": {},
   "outputs": [
    {
     "name": "stdout",
     "output_type": "stream",
     "text": [
      "(0, '0.370*\"payroll\" + 0.066*\"tax\" + 0.066*\"printing\" + 0.053*\"credit\"')\n",
      "(1, '0.110*\"catering\" + 0.089*\"equipment\" + 0.085*\"petty\" + 0.085*\"cash-\"')\n",
      "(2, '0.517*\"travel\" + 0.164*\"transfer\" + 0.030*\"beverage\" + 0.030*\"food\"')\n",
      "(3, '0.148*\"consulting\" + 0.094*\"gotv\" + 0.058*\"staging\" + 0.042*\"phone\"')\n"
     ]
    }
   ],
   "source": [
    "import gensim # package for topic modeling\n",
    "NUM_TOPICS = 4 # trial number based on understanding of the data file & research aims\n",
    "ldamodel = gensim.models.ldamodel.LdaModel(corpus, num_topics = NUM_TOPICS, id2word=dictionary, passes=20)\n",
    "ldamodel.save('model.gensim')\n",
    "topics = ldamodel.print_topics(num_words=4)\n",
    "for topic in topics:\n",
    "    print(topic)"
   ]
  },
  {
   "cell_type": "code",
   "execution_count": 44,
   "metadata": {},
   "outputs": [
    {
     "data": {
      "text/html": [
       "\n",
       "<link rel=\"stylesheet\" type=\"text/css\" href=\"https://cdn.rawgit.com/bmabey/pyLDAvis/files/ldavis.v1.0.0.css\">\n",
       "\n",
       "\n",
       "<div id=\"ldavis_el119731404259235288482655759987\"></div>\n",
       "<script type=\"text/javascript\">\n",
       "\n",
       "var ldavis_el119731404259235288482655759987_data = {\"mdsDat\": {\"x\": [-0.1930004956827929, -0.07916865920940748, 0.3133368329577504, -0.04116767806554968], \"y\": [-0.21652289263150218, 0.21908071731084966, -0.0692515832548908, 0.0666937585755435], \"topics\": [1, 2, 3, 4], \"cluster\": [1, 1, 1, 1], \"Freq\": [32.551368713378906, 23.644620895385742, 27.543895721435547, 16.260116577148438]}, \"tinfo\": {\"Term\": [\"travel\", \"payroll\", \"transfer\", \"consulting\", \"catering\", \"gotv\", \"equipment\", \"petty\", \"cash-\", \"purchase\", \"tax\", \"printing\", \"staging\", \"credit\", \"office\", \"supply\", \"call\", \"message\", \"contribution\", \"kind\", \"phone\", \"merchant\", \"card\", \"fee\", \"list\", \"management\", \"service\", \"postage\", \"beverage\", \"food\", \"payroll\", \"tax\", \"printing\", \"credit\", \"merchant\", \"card\", \"fee\", \"postage\", \"rental\", \"facility\", \"service\", \"transportation\", \"entry\", \"data\", \"publication\", \"adam\", \"jon\", \"evelyn\", \"mccafferty\", \"yoder\", \"brooke\", \"phone\", \"svc\", \"insur\", \"personnel\", \"interest\", \"parking\", \"loan\", \"refund\", \"furniture\", \"petty\", \"cash-\", \"kind-\", \"compliance\", \"legal\", \"travel\", \"catering\", \"equipment\", \"purchase\", \"petty\", \"cash-\", \"office\", \"supply\", \"list\", \"management\", \"support\", \"computer\", \"medium\", \"utility\", \"victoria\", \"harrison\", \"samuel\", \"ward\", \"mason\", \"lahood\", \"lammers\", \"andrew\", \"furniture\", \"refund\", \"service\", \"personnel\", \"brooke\", \"yoder\", \"mccafferty\", \"evelyn\", \"jon\", \"travel\", \"transfer\", \"beverage\", \"food\", \"research\", \"survey\", \"photography\", \"rent\", \"loan\", \"interest\", \"parking\", \"insur\", \"svc\", \"personnel\", \"publication\", \"data\", \"entry\", \"brooke\", \"evelyn\", \"yoder\", \"mccafferty\", \"jon\", \"adam\", \"refund\", \"furniture\", \"mason\", \"andrew\", \"ward\", \"samuel\", \"victoria\", \"harrison\", \"lahood\", \"fund\", \"payroll\", \"facility\", \"service\", \"rental\", \"postage\", \"equipment\", \"printing\", \"catering\", \"transportation\", \"utility\", \"medium\", \"phone\", \"tax\", \"consulting\", \"gotv\", \"staging\", \"call\", \"message\", \"contribution\", \"kind\", \"air\", \"finance\", \"charter\", \"legal\", \"compliance\", \"kind-\", \"fund\", \"john\", \"scharer\", \"phone\", \"transportation\", \"svc\", \"parking\", \"interest\", \"loan\", \"insur\", \"personnel\", \"publication\", \"data\", \"entry\", \"brooke\", \"jon\", \"evelyn\", \"mccafferty\", \"yoder\", \"cash-\", \"petty\", \"printing\", \"credit\", \"transfer\", \"travel\", \"payroll\", \"service\", \"rent\"], \"Freq\": [53.0, 45.0, 17.0, 9.0, 10.0, 6.0, 8.0, 8.0, 8.0, 6.0, 8.0, 8.0, 4.0, 7.0, 4.0, 4.0, 3.0, 3.0, 3.0, 3.0, 4.0, 5.0, 5.0, 5.0, 3.0, 3.0, 7.0, 4.0, 3.0, 3.0, 44.61311721801758, 7.989736557006836, 7.980785369873047, 6.426260471343994, 4.871483325958252, 4.8714799880981445, 4.8714728355407715, 4.091216087341309, 3.301037073135376, 2.527432680130005, 4.476452350616455, 2.525315046310425, 0.9740270972251892, 0.9740268588066101, 0.9728713035583496, 0.9371046423912048, 0.9371027946472168, 0.9370945692062378, 0.937091588973999, 0.9370895624160767, 0.9370866417884827, 1.658922791481018, 1.031125783920288, 0.20326979458332062, 0.20348146557807922, 0.19500167667865753, 0.19500188529491425, 0.19499976933002472, 0.19505168497562408, 0.19495932757854462, 0.43200841546058655, 0.4319959878921509, 0.20063833892345428, 0.20004373788833618, 0.20003563165664673, 0.2049126774072647, 9.640316009521484, 7.760458946228027, 5.880211353302002, 7.46116304397583, 7.461156845092773, 3.998406410217285, 3.9983980655670166, 3.0577328205108643, 3.057730197906494, 2.116762399673462, 2.1167569160461426, 2.116122245788574, 2.116119861602783, 1.1759105920791626, 1.1759105920791626, 1.1759105920791626, 1.1759099960327148, 1.1759092807769775, 1.1759092807769775, 1.1759092807769775, 1.1759077310562134, 1.175686001777649, 1.1603518724441528, 2.5893614292144775, 0.28344258666038513, 0.279710054397583, 0.27970796823501587, 0.2797055244445801, 0.27970167994499207, 0.2796926200389862, 52.69942092895508, 16.72389030456543, 3.0578856468200684, 3.057884454727173, 2.338226079940796, 2.3382227420806885, 1.6185739040374756, 1.6175787448883057, 0.898934543132782, 0.8989323377609253, 0.8989096879959106, 0.8912370800971985, 3.00080943107605, 0.8539326190948486, 0.18018241226673126, 0.17999374866485596, 0.1799934357404709, 0.1800212562084198, 0.18002086877822876, 0.18002071976661682, 0.18002067506313324, 0.1800200641155243, 0.1800197809934616, 0.191367045044899, 0.1799769252538681, 0.1799389123916626, 0.17993885278701782, 0.17993879318237305, 0.1799386739730835, 0.17993859946727753, 0.17993862926959991, 0.17993853986263275, 0.18596689403057098, 0.19328248500823975, 0.1819634884595871, 0.18331952393054962, 0.18198248744010925, 0.18045669794082642, 0.18035565316677094, 0.18019449710845947, 0.18010227382183075, 0.18008536100387573, 0.18005752563476562, 0.1800561547279358, 0.18005569279193878, 0.180034339427948, 8.876998901367188, 5.649740219116211, 3.496339797973633, 2.421504259109497, 2.4214987754821777, 2.420881509780884, 2.4208807945251465, 1.3451191186904907, 1.3451170921325684, 1.3451130390167236, 1.3380457162857056, 1.3380372524261475, 1.3370246887207031, 1.335905909538269, 1.3304349184036255, 1.3304336071014404, 2.5522687435150146, 1.3554229736328125, 1.3526484966278076, 0.2695363759994507, 0.2695002853870392, 0.26949986815452576, 0.26956453919410706, 0.27015212178230286, 0.27013450860977173, 0.26934248208999634, 0.2693420946598053, 0.26952090859413147, 0.269520103931427, 0.2695198357105255, 0.2695199251174927, 0.2695198655128479, 0.28622037172317505, 0.28620320558547974, 0.2812526524066925, 0.2755793631076813, 0.2733665406703949, 0.27093982696533203, 0.27046480774879456, 0.269992858171463, 0.26994574069976807], \"Total\": [53.0, 45.0, 17.0, 9.0, 10.0, 6.0, 8.0, 8.0, 8.0, 6.0, 8.0, 8.0, 4.0, 7.0, 4.0, 4.0, 3.0, 3.0, 3.0, 3.0, 4.0, 5.0, 5.0, 5.0, 3.0, 3.0, 7.0, 4.0, 3.0, 3.0, 45.3128547668457, 8.67471981048584, 8.677993774414062, 7.11729621887207, 5.5565948486328125, 5.556596755981445, 5.556597709655762, 4.7770233154296875, 3.9991748332977295, 3.218390464782715, 7.5191264152526855, 4.296908378601074, 1.6587053537368774, 1.658705711364746, 1.658970832824707, 1.6663352251052856, 1.6663355827331543, 1.666337013244629, 1.6663377285003662, 1.6663382053375244, 1.6663388013839722, 4.626799583435059, 5.620211601257324, 1.5995358228683472, 1.6110087633132935, 1.598886489868164, 1.5988980531692505, 1.598886251449585, 1.8164691925048828, 1.8199703693389893, 8.35933780670166, 8.359339714050293, 1.9530881643295288, 1.9533653259277344, 1.9533674716949463, 53.412879943847656, 10.287567138671875, 8.405985832214355, 6.52447509765625, 8.35933780670166, 8.359339714050293, 4.642673015594482, 4.642672538757324, 3.7017786502838135, 3.7017781734466553, 2.760875701904297, 2.7608752250671387, 2.760861873626709, 2.760862350463867, 1.8199741840362549, 1.819974422454834, 1.8199743032455444, 1.8199741840362549, 1.8199739456176758, 1.8199740648269653, 1.8199741840362549, 1.8199741840362549, 1.8199703693389893, 1.8164691925048828, 7.5191264152526855, 1.6110087633132935, 1.6663388013839722, 1.6663382053375244, 1.6663377285003662, 1.666337013244629, 1.6663355827331543, 53.412879943847656, 17.43284034729004, 3.757694959640503, 3.757695198059082, 3.0380947589874268, 3.038095474243164, 2.3184962272644043, 2.318739891052246, 1.598886251449585, 1.598886489868164, 1.5988980531692505, 1.5995358228683472, 5.620211601257324, 1.6110087633132935, 1.658970832824707, 1.658705711364746, 1.6587053537368774, 1.6663388013839722, 1.666337013244629, 1.6663382053375244, 1.6663377285003662, 1.6663355827331543, 1.6663352251052856, 1.8164691925048828, 1.8199703693389893, 1.8199739456176758, 1.8199741840362549, 1.8199741840362549, 1.8199743032455444, 1.8199741840362549, 1.819974422454834, 1.8199740648269653, 1.9522831439971924, 45.3128547668457, 3.218390464782715, 7.5191264152526855, 3.9991748332977295, 4.7770233154296875, 8.405985832214355, 8.677993774414062, 10.287567138671875, 4.296908378601074, 2.760862350463867, 2.760861873626709, 4.626799583435059, 8.67471981048584, 9.488853454589844, 6.260419845581055, 4.107539176940918, 3.031632900238037, 3.0316312313079834, 3.0315446853637695, 3.0315449237823486, 1.9553172588348389, 1.9553170204162598, 1.9553158283233643, 1.9533674716949463, 1.9533653259277344, 1.9530881643295288, 1.9522831439971924, 1.9534616470336914, 1.9534616470336914, 4.626799583435059, 4.296908378601074, 5.620211601257324, 1.5988980531692505, 1.598886489868164, 1.598886251449585, 1.5995358228683472, 1.6110087633132935, 1.658970832824707, 1.658705711364746, 1.6587053537368774, 1.6663388013839722, 1.6663355827331543, 1.666337013244629, 1.6663377285003662, 1.6663382053375244, 8.359339714050293, 8.35933780670166, 8.677993774414062, 7.11729621887207, 17.43284034729004, 53.412879943847656, 45.3128547668457, 7.5191264152526855, 2.318739891052246], \"Category\": [\"Default\", \"Default\", \"Default\", \"Default\", \"Default\", \"Default\", \"Default\", \"Default\", \"Default\", \"Default\", \"Default\", \"Default\", \"Default\", \"Default\", \"Default\", \"Default\", \"Default\", \"Default\", \"Default\", \"Default\", \"Default\", \"Default\", \"Default\", \"Default\", \"Default\", \"Default\", \"Default\", \"Default\", \"Default\", \"Default\", \"Topic1\", \"Topic1\", \"Topic1\", \"Topic1\", \"Topic1\", \"Topic1\", \"Topic1\", \"Topic1\", \"Topic1\", \"Topic1\", \"Topic1\", \"Topic1\", \"Topic1\", \"Topic1\", \"Topic1\", \"Topic1\", \"Topic1\", \"Topic1\", \"Topic1\", \"Topic1\", \"Topic1\", \"Topic1\", \"Topic1\", \"Topic1\", \"Topic1\", \"Topic1\", \"Topic1\", \"Topic1\", \"Topic1\", \"Topic1\", \"Topic1\", \"Topic1\", \"Topic1\", \"Topic1\", \"Topic1\", \"Topic1\", \"Topic2\", \"Topic2\", \"Topic2\", \"Topic2\", \"Topic2\", \"Topic2\", \"Topic2\", \"Topic2\", \"Topic2\", \"Topic2\", \"Topic2\", \"Topic2\", \"Topic2\", \"Topic2\", \"Topic2\", \"Topic2\", \"Topic2\", \"Topic2\", \"Topic2\", \"Topic2\", \"Topic2\", \"Topic2\", \"Topic2\", \"Topic2\", \"Topic2\", \"Topic2\", \"Topic2\", \"Topic2\", \"Topic2\", \"Topic2\", \"Topic3\", \"Topic3\", \"Topic3\", \"Topic3\", \"Topic3\", \"Topic3\", \"Topic3\", \"Topic3\", \"Topic3\", \"Topic3\", \"Topic3\", \"Topic3\", \"Topic3\", \"Topic3\", \"Topic3\", \"Topic3\", \"Topic3\", \"Topic3\", \"Topic3\", \"Topic3\", \"Topic3\", \"Topic3\", \"Topic3\", \"Topic3\", \"Topic3\", \"Topic3\", \"Topic3\", \"Topic3\", \"Topic3\", \"Topic3\", \"Topic3\", \"Topic3\", \"Topic3\", \"Topic3\", \"Topic3\", \"Topic3\", \"Topic3\", \"Topic3\", \"Topic3\", \"Topic3\", \"Topic3\", \"Topic3\", \"Topic3\", \"Topic3\", \"Topic3\", \"Topic3\", \"Topic4\", \"Topic4\", \"Topic4\", \"Topic4\", \"Topic4\", \"Topic4\", \"Topic4\", \"Topic4\", \"Topic4\", \"Topic4\", \"Topic4\", \"Topic4\", \"Topic4\", \"Topic4\", \"Topic4\", \"Topic4\", \"Topic4\", \"Topic4\", \"Topic4\", \"Topic4\", \"Topic4\", \"Topic4\", \"Topic4\", \"Topic4\", \"Topic4\", \"Topic4\", \"Topic4\", \"Topic4\", \"Topic4\", \"Topic4\", \"Topic4\", \"Topic4\", \"Topic4\", \"Topic4\", \"Topic4\", \"Topic4\", \"Topic4\", \"Topic4\", \"Topic4\", \"Topic4\", \"Topic4\"], \"logprob\": [30.0, 29.0, 28.0, 27.0, 26.0, 25.0, 24.0, 23.0, 22.0, 21.0, 20.0, 19.0, 18.0, 17.0, 16.0, 15.0, 14.0, 13.0, 12.0, 11.0, 10.0, 9.0, 8.0, 7.0, 6.0, 5.0, 4.0, 3.0, 2.0, 1.0, -0.9930999875068665, -2.7130000591278076, -2.714099884033203, -2.930799961090088, -3.2077999114990234, -3.2077999114990234, -3.2077999114990234, -3.3822999000549316, -3.59689998626709, -3.8638999462127686, -3.29229998588562, -3.864799976348877, -4.817500114440918, -4.817500114440918, -4.818699836730957, -4.856100082397461, -4.856100082397461, -4.856100082397461, -4.856100082397461, -4.856100082397461, -4.856100082397461, -4.284999847412109, -4.760499954223633, -6.384399890899658, -6.383299827575684, -6.425899982452393, -6.425899982452393, -6.425899982452393, -6.425600051879883, -6.42609977722168, -5.630499839782715, -5.630499839782715, -6.39739990234375, -6.400400161743164, -6.400400161743164, -6.376299858093262, -2.2054998874664307, -2.4223999977111816, -2.699899911880493, -2.4618000984191895, -2.4618000984191895, -3.085599899291992, -3.085599899291992, -3.353800058364868, -3.353800058364868, -3.72160005569458, -3.72160005569458, -3.72189998626709, -3.72189998626709, -4.3094000816345215, -4.3094000816345215, -4.3094000816345215, -4.3094000816345215, -4.3094000816345215, -4.3094000816345215, -4.3094000816345215, -4.3094000816345215, -4.309599876403809, -4.322700023651123, -3.5201001167297363, -5.7322001457214355, -5.745500087738037, -5.745500087738037, -5.745500087738037, -5.745500087738037, -5.745500087738037, -0.659500002861023, -1.8072999715805054, -3.5064001083374023, -3.5064001083374023, -3.7746999263763428, -3.7746999263763428, -4.142600059509277, -4.143199920654297, -4.7307000160217285, -4.7307000160217285, -4.7307000160217285, -4.739299774169922, -3.5251998901367188, -4.7820000648498535, -6.337900161743164, -6.338900089263916, -6.338900089263916, -6.338799953460693, -6.338799953460693, -6.338799953460693, -6.338799953460693, -6.338799953460693, -6.338799953460693, -6.277699947357178, -6.339000225067139, -6.339300155639648, -6.339300155639648, -6.339300155639648, -6.339300155639648, -6.339300155639648, -6.339300155639648, -6.339300155639648, -6.306300163269043, -6.2677001953125, -6.328100204467773, -6.3206000328063965, -6.328000068664551, -6.336400032043457, -6.336900234222412, -6.337800025939941, -6.3383002281188965, -6.338399887084961, -6.338600158691406, -6.338600158691406, -6.338600158691406, -6.338699817657471, -1.913599967956543, -2.3654000759124756, -2.8452999591827393, -3.2126998901367188, -3.2126998901367188, -3.212899923324585, -3.212899923324585, -3.800600051879883, -3.800600051879883, -3.800600051879883, -3.805799961090088, -3.805799961090088, -3.8066000938415527, -3.8073999881744385, -3.811500072479248, -3.811500072479248, -3.160099983215332, -3.7929000854492188, -3.7950000762939453, -5.408100128173828, -5.408199787139893, -5.408199787139893, -5.4079999923706055, -5.405799865722656, -5.405900001525879, -5.40880012512207, -5.40880012512207, -5.408199787139893, -5.408199787139893, -5.408199787139893, -5.408199787139893, -5.408199787139893, -5.3480000495910645, -5.348100185394287, -5.365499973297119, -5.385900020599365, -5.394000053405762, -5.402900218963623, -5.404699802398682, -5.406400203704834, -5.406599998474121], \"loglift\": [30.0, 29.0, 28.0, 27.0, 26.0, 25.0, 24.0, 23.0, 22.0, 21.0, 20.0, 19.0, 18.0, 17.0, 16.0, 15.0, 14.0, 13.0, 12.0, 11.0, 10.0, 9.0, 8.0, 7.0, 6.0, 5.0, 4.0, 3.0, 2.0, 1.0, 1.1067999601364136, 1.0400999784469604, 1.038599967956543, 1.0202000141143799, 0.9908000230789185, 0.9908000230789185, 0.9908000230789185, 0.9674000144004822, 0.9304999709129333, 0.8806999921798706, 0.6036999821662903, 0.5907999873161316, 0.5899999737739563, 0.5899999737739563, 0.5885999798774719, 0.5468000173568726, 0.5468000173568726, 0.5468000173568726, 0.5467000007629395, 0.5467000007629395, 0.5467000007629395, 0.09669999778270721, -0.5734000205993652, -0.9405999779701233, -0.9466999769210815, -0.9817000031471252, -0.9817000031471252, -0.9817000031471252, -1.1089999675750732, -1.1114000082015991, -1.8402999639511108, -1.840399980545044, -1.1533000469207764, -1.1563999652862549, -1.156499981880188, -4.440899848937988, 1.3770999908447266, 1.3621000051498413, 1.3380999565124512, 1.3284000158309937, 1.3284000158309937, 1.2926000356674194, 1.2926000356674194, 1.2509000301361084, 1.2509000301361084, 1.1763999462127686, 1.1763999462127686, 1.1761000156402588, 1.1761000156402588, 1.0053000450134277, 1.0053000450134277, 1.0053000450134277, 1.0053000450134277, 1.0053000450134277, 1.0053000450134277, 1.0053000450134277, 1.0053000450134277, 1.0051000118255615, 0.9939000010490417, 0.37599998712539673, -0.2955999970436096, -0.3425999879837036, -0.3425999879837036, -0.3425999879837036, -0.3425999879837036, -0.3427000045776367, 1.2759000062942505, 1.2479000091552734, 1.083299994468689, 1.083299994468689, 1.0276000499725342, 1.027500033378601, 0.9300000071525574, 0.9293000102043152, 0.7135000228881836, 0.7135000228881836, 0.7135000228881836, 0.7045000195503235, 0.661899983882904, 0.6546000242233276, -0.9305999875068665, -0.9315000176429749, -0.9315000176429749, -0.9358999729156494, -0.9358999729156494, -0.9358999729156494, -0.9358999729156494, -0.9358999729156494, -0.9358999729156494, -0.9610999822616577, -1.024399995803833, -1.0246000289916992, -1.0246000289916992, -1.0246000289916992, -1.0246000289916992, -1.0246000289916992, -1.0246000289916992, -1.0246000289916992, -1.0618000030517578, -4.167799949645996, -1.583400011062622, -2.4245998859405518, -1.8005000352859497, -1.9867000579833984, -2.5524001121520996, -2.585099935531616, -2.7558000087738037, -1.8827999830245972, -1.440600037574768, -1.440600037574768, -1.9570000171661377, -2.585599899291992, 1.7497999668121338, 1.7137999534606934, 1.6553000211715698, 1.5916999578475952, 1.5916999578475952, 1.5915000438690186, 1.5915000438690186, 1.4423999786376953, 1.4423999786376953, 1.4423999786376953, 1.438099980354309, 1.438099980354309, 1.4375, 1.4371000528335571, 1.4323999881744385, 1.4323999881744385, 1.22160005569458, 0.6626999974250793, 0.3921999931335449, 0.03610000014305115, 0.035999998450279236, 0.035999998450279236, 0.03579999879002571, 0.030799999833106995, 0.00139999995008111, -0.00139999995008111, -0.00139999995008111, -0.0052999998442828655, -0.0052999998442828655, -0.0052999998442828655, -0.0052999998442828655, -0.0052999998442828655, -1.5578999519348145, -1.5579999685287476, -1.6128000020980835, -1.434999942779541, -2.3387999534606934, -3.4674999713897705, -3.3046998977661133, -1.5104000568389893, -0.33410000801086426]}, \"token.table\": {\"Topic\": [1, 4, 2, 3, 1, 4, 1, 2, 2, 4, 4, 2, 4, 4, 1, 1, 1, 2, 1, 1, 1, 4, 3, 4, 2, 4, 2, 3, 3, 4, 1, 4, 4, 2, 2, 4, 2, 3, 2, 2, 1, 2, 1, 4, 2, 3, 1, 3, 2, 1, 4, 3, 1, 1, 1, 2, 2, 3, 1, 3, 2, 4, 1, 2, 4, 2, 2, 3, 1, 3, 4, 1, 3, 1, 4, 3, 2, 2, 2, 1], \"Freq\": [0.6001193523406982, 0.5114259719848633, 0.5494583249092102, 0.7983617782592773, 0.6001180410385132, 0.6597104668617249, 0.8998313546180725, 0.8373867273330688, 0.9720470905303955, 0.5114263296127319, 0.5119370222091675, 0.724407970905304, 0.9484813213348389, 0.6597296595573425, 0.8430167436599731, 0.6028797030448914, 0.6028798222541809, 0.9517027735710144, 0.6001186966896057, 0.932142972946167, 0.8998311758041382, 0.5114260315895081, 0.7983617186546326, 0.5122207999229431, 0.5494595170021057, 0.958402156829834, 0.5494582653045654, 0.6251813769340515, 0.6254352927207947, 0.5119117498397827, 0.6001192331314087, 0.6597295999526978, 0.5120096802711487, 0.549458384513855, 0.5494583249092102, 0.5119364261627197, 0.8104212284088135, 0.6254353523254395, 0.810421347618103, 0.5494584441184998, 0.6001184582710266, 0.7244114875793457, 0.8998316526412964, 0.6597108244895935, 0.8615726232528687, 0.6254307627677917, 0.9930956959724426, 0.6207290887832642, 0.8373869061470032, 0.4322642385959625, 0.648396372795105, 0.8626281023025513, 0.8373415470123291, 0.921872079372406, 0.6027833819389343, 0.9196141958236694, 0.5505185723304749, 0.8625374436378479, 0.7501547336578369, 0.6583073139190674, 0.5494583249092102, 0.5119117498397827, 0.5319766998291016, 0.39898252487182617, 0.7303643226623535, 0.8615727424621582, 0.7244078516960144, 0.6583071351051331, 0.17792923748493195, 0.533787727355957, 0.17792923748493195, 0.92221999168396, 0.9751709699630737, 0.698176383972168, 0.23272547125816345, 0.9922700524330139, 0.7244113683700562, 0.5494583249092102, 0.5494583249092102, 0.6001182794570923], \"Term\": [\"adam\", \"air\", \"andrew\", \"beverage\", \"brooke\", \"call\", \"card\", \"cash-\", \"catering\", \"charter\", \"compliance\", \"computer\", \"consulting\", \"contribution\", \"credit\", \"data\", \"entry\", \"equipment\", \"evelyn\", \"facility\", \"fee\", \"finance\", \"food\", \"fund\", \"furniture\", \"gotv\", \"harrison\", \"insur\", \"interest\", \"john\", \"jon\", \"kind\", \"kind-\", \"lahood\", \"lammers\", \"legal\", \"list\", \"loan\", \"management\", \"mason\", \"mccafferty\", \"medium\", \"merchant\", \"message\", \"office\", \"parking\", \"payroll\", \"personnel\", \"petty\", \"phone\", \"phone\", \"photography\", \"postage\", \"printing\", \"publication\", \"purchase\", \"refund\", \"rent\", \"rental\", \"research\", \"samuel\", \"scharer\", \"service\", \"service\", \"staging\", \"supply\", \"support\", \"survey\", \"svc\", \"svc\", \"svc\", \"tax\", \"transfer\", \"transportation\", \"transportation\", \"travel\", \"utility\", \"victoria\", \"ward\", \"yoder\"]}, \"R\": 30, \"lambda.step\": 0.01, \"plot.opts\": {\"xlab\": \"PC1\", \"ylab\": \"PC2\"}, \"topic.order\": [1, 2, 3, 4]};\n",
       "\n",
       "function LDAvis_load_lib(url, callback){\n",
       "  var s = document.createElement('script');\n",
       "  s.src = url;\n",
       "  s.async = true;\n",
       "  s.onreadystatechange = s.onload = callback;\n",
       "  s.onerror = function(){console.warn(\"failed to load library \" + url);};\n",
       "  document.getElementsByTagName(\"head\")[0].appendChild(s);\n",
       "}\n",
       "\n",
       "if(typeof(LDAvis) !== \"undefined\"){\n",
       "   // already loaded: just create the visualization\n",
       "   !function(LDAvis){\n",
       "       new LDAvis(\"#\" + \"ldavis_el119731404259235288482655759987\", ldavis_el119731404259235288482655759987_data);\n",
       "   }(LDAvis);\n",
       "}else if(typeof define === \"function\" && define.amd){\n",
       "   // require.js is available: use it to load d3/LDAvis\n",
       "   require.config({paths: {d3: \"https://cdnjs.cloudflare.com/ajax/libs/d3/3.5.5/d3.min\"}});\n",
       "   require([\"d3\"], function(d3){\n",
       "      window.d3 = d3;\n",
       "      LDAvis_load_lib(\"https://cdn.rawgit.com/bmabey/pyLDAvis/files/ldavis.v1.0.0.js\", function(){\n",
       "        new LDAvis(\"#\" + \"ldavis_el119731404259235288482655759987\", ldavis_el119731404259235288482655759987_data);\n",
       "      });\n",
       "    });\n",
       "}else{\n",
       "    // require.js not available: dynamically load d3 & LDAvis\n",
       "    LDAvis_load_lib(\"https://cdnjs.cloudflare.com/ajax/libs/d3/3.5.5/d3.min.js\", function(){\n",
       "         LDAvis_load_lib(\"https://cdn.rawgit.com/bmabey/pyLDAvis/files/ldavis.v1.0.0.js\", function(){\n",
       "                 new LDAvis(\"#\" + \"ldavis_el119731404259235288482655759987\", ldavis_el119731404259235288482655759987_data);\n",
       "            })\n",
       "         });\n",
       "}\n",
       "</script>"
      ],
      "text/plain": [
       "<IPython.core.display.HTML object>"
      ]
     },
     "execution_count": 44,
     "metadata": {},
     "output_type": "execute_result"
    }
   ],
   "source": [
    "import pyLDAvis \n",
    "dictionary = gensim.corpora.Dictionary.load('dictionary.gensim')\n",
    "corpus = pickle.load(open('corpus.pkl', 'rb'))\n",
    "lda = gensim.models.ldamodel.LdaModel.load('model.gensim')\n",
    "lda_display = pyLDAvis.gensim.prepare(lda, corpus, dictionary, sort_topics=False)\n",
    "pyLDAvis.display(lda_display) "
   ]
  },
  {
   "cell_type": "code",
   "execution_count": null,
   "metadata": {},
   "outputs": [],
   "source": []
  }
 ],
 "metadata": {
  "kernelspec": {
   "display_name": "Python 3",
   "language": "python",
   "name": "python3"
  },
  "language_info": {
   "codemirror_mode": {
    "name": "ipython",
    "version": 3
   },
   "file_extension": ".py",
   "mimetype": "text/x-python",
   "name": "python",
   "nbconvert_exporter": "python",
   "pygments_lexer": "ipython3",
   "version": "3.8.3"
  }
 },
 "nbformat": 4,
 "nbformat_minor": 4
}
