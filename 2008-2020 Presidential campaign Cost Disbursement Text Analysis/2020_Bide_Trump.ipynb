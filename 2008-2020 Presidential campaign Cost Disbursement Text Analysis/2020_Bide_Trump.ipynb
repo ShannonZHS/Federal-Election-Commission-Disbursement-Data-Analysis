{
 "cells": [
  {
   "cell_type": "markdown",
   "metadata": {},
   "source": [
    "## <div class=\"alert alert-block alert-success\"><center>2020 - Data Preparation - Trump Part<center>"
   ]
  },
  {
   "cell_type": "code",
   "execution_count": 12,
   "metadata": {},
   "outputs": [
    {
     "name": "stdout",
     "output_type": "stream",
     "text": [
      "Populating the interactive namespace from numpy and matplotlib\n"
     ]
    },
    {
     "name": "stderr",
     "output_type": "stream",
     "text": [
      "/Users/zhanghuishan/opt/anaconda3/lib/python3.8/site-packages/IPython/core/interactiveshell.py:3071: DtypeWarning: Columns (14,25,26,28,29,30,31,35,36,75) have mixed types.Specify dtype option on import or set low_memory=False.\n",
      "  has_raised = await self.run_ast_nodes(code_ast.body, cell_name,\n"
     ]
    }
   ],
   "source": [
    "%pylab inline\n",
    "import pandas as pd\n",
    "df_trump2=pd.read_csv('trump2020.csv')"
   ]
  },
  {
   "cell_type": "code",
   "execution_count": 13,
   "metadata": {},
   "outputs": [
    {
     "data": {
      "text/plain": [
       "28125"
      ]
     },
     "execution_count": 13,
     "metadata": {},
     "output_type": "execute_result"
    }
   ],
   "source": [
    "len(df_trump2)"
   ]
  },
  {
   "cell_type": "code",
   "execution_count": 14,
   "metadata": {},
   "outputs": [],
   "source": [
    "df_trump2 = df_trump2[['committee_id', 'report_year', 'disbursement_date','recipient_name',\\\n",
    "                     'recipient_state','recipient_city',\\\n",
    "                     'disbursement_purpose_category','disbursement_description','disbursement_amount']]"
   ]
  },
  {
   "cell_type": "code",
   "execution_count": 15,
   "metadata": {},
   "outputs": [
    {
     "data": {
      "text/plain": [
       "8"
      ]
     },
     "execution_count": 15,
     "metadata": {},
     "output_type": "execute_result"
    }
   ],
   "source": [
    "df_trump2.disbursement_purpose_category.nunique()"
   ]
  },
  {
   "cell_type": "code",
   "execution_count": 16,
   "metadata": {
    "scrolled": true
   },
   "outputs": [
    {
     "data": {
      "text/plain": [
       "array(['OTHER', 'MATERIALS', 'ADMINISTRATIVE', 'TRAVEL', 'ADVERTISING',\n",
       "       'TRANSFERS', 'FUNDRAISING', 'REFUNDS', nan], dtype=object)"
      ]
     },
     "execution_count": 16,
     "metadata": {},
     "output_type": "execute_result"
    }
   ],
   "source": [
    "df_trump2.disbursement_purpose_category.unique()"
   ]
  },
  {
   "cell_type": "code",
   "execution_count": 17,
   "metadata": {
    "scrolled": true
   },
   "outputs": [
    {
     "data": {
      "text/html": [
       "<div>\n",
       "<style scoped>\n",
       "    .dataframe tbody tr th:only-of-type {\n",
       "        vertical-align: middle;\n",
       "    }\n",
       "\n",
       "    .dataframe tbody tr th {\n",
       "        vertical-align: top;\n",
       "    }\n",
       "\n",
       "    .dataframe thead th {\n",
       "        text-align: right;\n",
       "    }\n",
       "</style>\n",
       "<table border=\"1\" class=\"dataframe\">\n",
       "  <thead>\n",
       "    <tr style=\"text-align: right;\">\n",
       "      <th></th>\n",
       "      <th>disbursement_purpose_category</th>\n",
       "      <th>disbursement_amount</th>\n",
       "    </tr>\n",
       "    <tr>\n",
       "      <th>disbursement_purpose_category</th>\n",
       "      <th></th>\n",
       "      <th></th>\n",
       "    </tr>\n",
       "  </thead>\n",
       "  <tbody>\n",
       "    <tr>\n",
       "      <th>ADMINISTRATIVE</th>\n",
       "      <td>3021</td>\n",
       "      <td>1.531636e+07</td>\n",
       "    </tr>\n",
       "    <tr>\n",
       "      <th>ADVERTISING</th>\n",
       "      <td>295</td>\n",
       "      <td>2.160343e+08</td>\n",
       "    </tr>\n",
       "    <tr>\n",
       "      <th>FUNDRAISING</th>\n",
       "      <td>50</td>\n",
       "      <td>7.320373e+04</td>\n",
       "    </tr>\n",
       "    <tr>\n",
       "      <th>MATERIALS</th>\n",
       "      <td>570</td>\n",
       "      <td>1.933671e+07</td>\n",
       "    </tr>\n",
       "    <tr>\n",
       "      <th>OTHER</th>\n",
       "      <td>21187</td>\n",
       "      <td>1.879842e+08</td>\n",
       "    </tr>\n",
       "    <tr>\n",
       "      <th>REFUNDS</th>\n",
       "      <td>33</td>\n",
       "      <td>9.077017e+04</td>\n",
       "    </tr>\n",
       "    <tr>\n",
       "      <th>TRANSFERS</th>\n",
       "      <td>60</td>\n",
       "      <td>1.540046e+07</td>\n",
       "    </tr>\n",
       "    <tr>\n",
       "      <th>TRAVEL</th>\n",
       "      <td>2908</td>\n",
       "      <td>2.991812e+06</td>\n",
       "    </tr>\n",
       "  </tbody>\n",
       "</table>\n",
       "</div>"
      ],
      "text/plain": [
       "                               disbursement_purpose_category  \\\n",
       "disbursement_purpose_category                                  \n",
       "ADMINISTRATIVE                                          3021   \n",
       "ADVERTISING                                              295   \n",
       "FUNDRAISING                                               50   \n",
       "MATERIALS                                                570   \n",
       "OTHER                                                  21187   \n",
       "REFUNDS                                                   33   \n",
       "TRANSFERS                                                 60   \n",
       "TRAVEL                                                  2908   \n",
       "\n",
       "                               disbursement_amount  \n",
       "disbursement_purpose_category                       \n",
       "ADMINISTRATIVE                        1.531636e+07  \n",
       "ADVERTISING                           2.160343e+08  \n",
       "FUNDRAISING                           7.320373e+04  \n",
       "MATERIALS                             1.933671e+07  \n",
       "OTHER                                 1.879842e+08  \n",
       "REFUNDS                               9.077017e+04  \n",
       "TRANSFERS                             1.540046e+07  \n",
       "TRAVEL                                2.991812e+06  "
      ]
     },
     "execution_count": 17,
     "metadata": {},
     "output_type": "execute_result"
    }
   ],
   "source": [
    "# many uncategorized items under 'other'\n",
    "df_trump2.groupby('disbursement_purpose_category').agg({'disbursement_purpose_category':'count','disbursement_amount':'sum'})"
   ]
  },
  {
   "cell_type": "code",
   "execution_count": 18,
   "metadata": {},
   "outputs": [
    {
     "data": {
      "text/plain": [
       "301"
      ]
     },
     "execution_count": 18,
     "metadata": {},
     "output_type": "execute_result"
    }
   ],
   "source": [
    "df_trump2.disbursement_description.nunique()"
   ]
  },
  {
   "cell_type": "code",
   "execution_count": 19,
   "metadata": {
    "scrolled": true
   },
   "outputs": [
    {
     "data": {
      "text/plain": [
       "1                    : BAGGAGE FEE\n",
       "2                    : BAGGAGE FEE\n",
       "3              : DELIVERY SERVICES\n",
       "4                            : AIR\n",
       "5          : GROUND TRANSPORTATION\n",
       "6                            : AIR\n",
       "7                    : CREDIT: AIR\n",
       "8                    : CREDIT: AIR\n",
       "9                : PARKING EXPENSE\n",
       "10                           : AIR\n",
       "11                    : CAR RENTAL\n",
       "12                    : CAR RENTAL\n",
       "13                          : FOOD\n",
       "14            : ADVANCE CONSULTING\n",
       "15         : GROUND TRANSPORTATION\n",
       "16                       : MILEAGE\n",
       "17                    : CAR RENTAL\n",
       "18               : OFFICE SUPPLIES\n",
       "19                           : AIR\n",
       "20                           : AIR\n",
       "21                    : CAR RENTAL\n",
       "22             : DELIVERY SERVICES\n",
       "23             : DELIVERY SERVICES\n",
       "24             : DELIVERY SERVICES\n",
       "25                       : LODGING\n",
       "26                           : FEE\n",
       "27                           : AIR\n",
       "28                      : SOFTWARE\n",
       "29                           : AIR\n",
       "30                           : AIR\n",
       "31                           : AIR\n",
       "32                           : AIR\n",
       "33                           : AIR\n",
       "34                           : AIR\n",
       "35                           : AIR\n",
       "36                           : AIR\n",
       "37                           : AIR\n",
       "38                     : INSURANCE\n",
       "39                     : INSURANCE\n",
       "40                     : INSURANCE\n",
       "41                     : INSURANCE\n",
       "42                           : AIR\n",
       "43                           : AIR\n",
       "44                           : AIR\n",
       "45                       : LODGING\n",
       "46                 : SUBSCRIPTIONS\n",
       "47                           : FEE\n",
       "48    : PRINTING & DESIGN SERVICES\n",
       "49                           : FEE\n",
       "Name: disbursement_description, dtype: object"
      ]
     },
     "execution_count": 19,
     "metadata": {},
     "output_type": "execute_result"
    }
   ],
   "source": [
    "df_trump2.disbursement_description[1:50]"
   ]
  },
  {
   "cell_type": "markdown",
   "metadata": {},
   "source": [
    "**<div class=\"alert alert-block alert-warning\">Delete irrelevant rows: nan, refunds**"
   ]
  },
  {
   "cell_type": "code",
   "execution_count": 20,
   "metadata": {},
   "outputs": [],
   "source": [
    "df_trump2.drop(df_trump2[df_trump2['disbursement_purpose_category'] == 'REFUNDS'].index, inplace = True) "
   ]
  },
  {
   "cell_type": "code",
   "execution_count": 21,
   "metadata": {},
   "outputs": [],
   "source": [
    "df_trump2.drop(df_trump2[df_trump2['disbursement_description'].str.contains('refund')].index, inplace = True) "
   ]
  },
  {
   "cell_type": "code",
   "execution_count": 22,
   "metadata": {},
   "outputs": [],
   "source": [
    "df_trump2 = df_trump2[df_trump2['disbursement_description'].notna()]"
   ]
  },
  {
   "cell_type": "code",
   "execution_count": 23,
   "metadata": {},
   "outputs": [
    {
     "data": {
      "text/plain": [
       "committee_id                     1\n",
       "report_year                      1\n",
       "disbursement_date                1\n",
       "recipient_name                   1\n",
       "recipient_state                  1\n",
       "recipient_city                   1\n",
       "disbursement_purpose_category    1\n",
       "disbursement_description         0\n",
       "disbursement_amount              1\n",
       "dtype: int64"
      ]
     },
     "execution_count": 23,
     "metadata": {},
     "output_type": "execute_result"
    }
   ],
   "source": [
    "df_trump2.isnull().sum()"
   ]
  },
  {
   "cell_type": "code",
   "execution_count": 24,
   "metadata": {
    "scrolled": true
   },
   "outputs": [],
   "source": [
    "cat_sum = df_trump2.groupby('disbursement_description').agg({'disbursement_description':'count','disbursement_amount':'sum'})"
   ]
  },
  {
   "cell_type": "code",
   "execution_count": 25,
   "metadata": {},
   "outputs": [],
   "source": [
    "cat_sum.rename(columns={'disbursement_description':'count'}, inplace=True)"
   ]
  },
  {
   "cell_type": "code",
   "execution_count": 26,
   "metadata": {},
   "outputs": [
    {
     "data": {
      "text/html": [
       "<div>\n",
       "<style scoped>\n",
       "    .dataframe tbody tr th:only-of-type {\n",
       "        vertical-align: middle;\n",
       "    }\n",
       "\n",
       "    .dataframe tbody tr th {\n",
       "        vertical-align: top;\n",
       "    }\n",
       "\n",
       "    .dataframe thead th {\n",
       "        text-align: right;\n",
       "    }\n",
       "</style>\n",
       "<table border=\"1\" class=\"dataframe\">\n",
       "  <thead>\n",
       "    <tr style=\"text-align: right;\">\n",
       "      <th></th>\n",
       "      <th>count</th>\n",
       "      <th>disbursement_amount</th>\n",
       "    </tr>\n",
       "    <tr>\n",
       "      <th>disbursement_description</th>\n",
       "      <th></th>\n",
       "      <th></th>\n",
       "    </tr>\n",
       "  </thead>\n",
       "  <tbody>\n",
       "    <tr>\n",
       "      <th>: AIR</th>\n",
       "      <td>4291</td>\n",
       "      <td>1981976.72</td>\n",
       "    </tr>\n",
       "    <tr>\n",
       "      <th>: GROUND TRANSPORTATION</th>\n",
       "      <td>3359</td>\n",
       "      <td>216625.82</td>\n",
       "    </tr>\n",
       "    <tr>\n",
       "      <th>PAYROLL</th>\n",
       "      <td>3034</td>\n",
       "      <td>10304479.10</td>\n",
       "    </tr>\n",
       "    <tr>\n",
       "      <th>: LODGING</th>\n",
       "      <td>2214</td>\n",
       "      <td>2358965.05</td>\n",
       "    </tr>\n",
       "    <tr>\n",
       "      <th>: CAR RENTAL</th>\n",
       "      <td>1571</td>\n",
       "      <td>606234.37</td>\n",
       "    </tr>\n",
       "    <tr>\n",
       "      <th>: OFFICE SUPPLIES</th>\n",
       "      <td>1033</td>\n",
       "      <td>697287.40</td>\n",
       "    </tr>\n",
       "    <tr>\n",
       "      <th>MERCHANT FEES</th>\n",
       "      <td>675</td>\n",
       "      <td>11691253.13</td>\n",
       "    </tr>\n",
       "    <tr>\n",
       "      <th>: FOOD</th>\n",
       "      <td>652</td>\n",
       "      <td>16537.78</td>\n",
       "    </tr>\n",
       "    <tr>\n",
       "      <th>: DELIVERY SERVICES</th>\n",
       "      <td>469</td>\n",
       "      <td>211004.55</td>\n",
       "    </tr>\n",
       "    <tr>\n",
       "      <th>: CREDIT: AIR</th>\n",
       "      <td>394</td>\n",
       "      <td>-206213.44</td>\n",
       "    </tr>\n",
       "    <tr>\n",
       "      <th>TRAVEL REIMBURSEMENT: SEE ITEMIZATION(S) IF REQUIRED</th>\n",
       "      <td>391</td>\n",
       "      <td>380427.37</td>\n",
       "    </tr>\n",
       "    <tr>\n",
       "      <th>: TOLLS</th>\n",
       "      <td>378</td>\n",
       "      <td>6790.24</td>\n",
       "    </tr>\n",
       "    <tr>\n",
       "      <th>ADVANCE CONSULTING</th>\n",
       "      <td>351</td>\n",
       "      <td>972060.53</td>\n",
       "    </tr>\n",
       "    <tr>\n",
       "      <th>: SOFTWARE SERVICES</th>\n",
       "      <td>255</td>\n",
       "      <td>158332.47</td>\n",
       "    </tr>\n",
       "    <tr>\n",
       "      <th>: PER DIEM</th>\n",
       "      <td>179</td>\n",
       "      <td>38275.70</td>\n",
       "    </tr>\n",
       "    <tr>\n",
       "      <th>: FUEL</th>\n",
       "      <td>176</td>\n",
       "      <td>5279.58</td>\n",
       "    </tr>\n",
       "    <tr>\n",
       "      <th>: FEE</th>\n",
       "      <td>175</td>\n",
       "      <td>3040.06</td>\n",
       "    </tr>\n",
       "    <tr>\n",
       "      <th>: BAGGAGE FEE</th>\n",
       "      <td>162</td>\n",
       "      <td>7875.60</td>\n",
       "    </tr>\n",
       "    <tr>\n",
       "      <th>: INTERNET</th>\n",
       "      <td>155</td>\n",
       "      <td>4099.48</td>\n",
       "    </tr>\n",
       "  </tbody>\n",
       "</table>\n",
       "</div>"
      ],
      "text/plain": [
       "                                                    count  disbursement_amount\n",
       "disbursement_description                                                      \n",
       ": AIR                                                4291           1981976.72\n",
       ": GROUND TRANSPORTATION                              3359            216625.82\n",
       "PAYROLL                                              3034          10304479.10\n",
       ": LODGING                                            2214           2358965.05\n",
       ": CAR RENTAL                                         1571            606234.37\n",
       ": OFFICE SUPPLIES                                    1033            697287.40\n",
       "MERCHANT FEES                                         675          11691253.13\n",
       ": FOOD                                                652             16537.78\n",
       ": DELIVERY SERVICES                                   469            211004.55\n",
       ": CREDIT: AIR                                         394           -206213.44\n",
       "TRAVEL REIMBURSEMENT: SEE ITEMIZATION(S) IF REQ...    391            380427.37\n",
       ": TOLLS                                               378              6790.24\n",
       "ADVANCE CONSULTING                                    351            972060.53\n",
       ": SOFTWARE SERVICES                                   255            158332.47\n",
       ": PER DIEM                                            179             38275.70\n",
       ": FUEL                                                176              5279.58\n",
       ": FEE                                                 175              3040.06\n",
       ": BAGGAGE FEE                                         162              7875.60\n",
       ": INTERNET                                            155              4099.48"
      ]
     },
     "execution_count": 26,
     "metadata": {},
     "output_type": "execute_result"
    }
   ],
   "source": [
    "cat_sum.sort_values('count',ascending=False,na_position='first')[1:20]"
   ]
  },
  {
   "cell_type": "code",
   "execution_count": 27,
   "metadata": {},
   "outputs": [
    {
     "data": {
      "text/plain": [
       "28092"
      ]
     },
     "execution_count": 27,
     "metadata": {},
     "output_type": "execute_result"
    }
   ],
   "source": [
    "len(df_trump2)"
   ]
  },
  {
   "cell_type": "code",
   "execution_count": 28,
   "metadata": {},
   "outputs": [
    {
     "data": {
      "text/plain": [
       "457137085.62"
      ]
     },
     "execution_count": 28,
     "metadata": {},
     "output_type": "execute_result"
    }
   ],
   "source": [
    "df_trump2.disbursement_amount.sum()"
   ]
  },
  {
   "cell_type": "markdown",
   "metadata": {},
   "source": [
    "## <div class=\"alert alert-block alert-success\"><center>Text Clustering - Trump Part<center>"
   ]
  },
  {
   "cell_type": "code",
   "execution_count": 29,
   "metadata": {},
   "outputs": [],
   "source": [
    "# Get token list \"lda_tokens\"\n",
    "import spacy\n",
    "spacy.load('en')\n",
    "from spacy.lang.en import English\n",
    "parser = English()\n",
    "\n",
    "def tokenize(text): \n",
    "    lda_tokens = []\n",
    "    tokens = parser(text)\n",
    "    for token in tokens:\n",
    "        if token.orth_.isspace(): #skip space\n",
    "            continue\n",
    "        elif token.like_num: # delete numbers\n",
    "            continue\n",
    "        else:\n",
    "            lda_tokens.append(token.lower_)\n",
    "    return lda_tokens"
   ]
  },
  {
   "cell_type": "code",
   "execution_count": 30,
   "metadata": {},
   "outputs": [
    {
     "name": "stderr",
     "output_type": "stream",
     "text": [
      "[nltk_data] Downloading package stopwords to\n",
      "[nltk_data]     /Users/zhanghuishan/nltk_data...\n",
      "[nltk_data]   Package stopwords is already up-to-date!\n",
      "[nltk_data] Downloading package wordnet to\n",
      "[nltk_data]     /Users/zhanghuishan/nltk_data...\n",
      "[nltk_data]   Package wordnet is already up-to-date!\n"
     ]
    }
   ],
   "source": [
    "# Get the puntuations set\n",
    "import string\n",
    "en_punct = set(string.punctuation)\n",
    "\n",
    "# Get the stop words set\n",
    "import nltk\n",
    "nltk.download('stopwords')\n",
    "en_stop = set(nltk.corpus.stopwords.words('english'))\n",
    "\n",
    "# Get the tokens for LDA analysis (function)\n",
    "import nltk\n",
    "nltk.download('wordnet')\n",
    "from nltk.corpus import wordnet as wn\n",
    "from nltk.stem.wordnet import WordNetLemmatizer\n",
    "\n",
    "def get_lemma(word):\n",
    "    return WordNetLemmatizer().lemmatize(word) "
   ]
  },
  {
   "cell_type": "code",
   "execution_count": 31,
   "metadata": {},
   "outputs": [],
   "source": [
    "def prepare_text_for_lda(text):\n",
    "    tokens = tokenize(text)\n",
    "    tokens = [token for token in tokens if token not in en_punct] # delete punctuations\n",
    "    tokens = [token for token in tokens if len(token) > 1] # at least 2 letters consist a word\n",
    "    tokens = [token for token in tokens if token not in en_stop] # delete stop words\n",
    "    tokens = [get_lemma(token) for token in tokens] # delete word variants for accurate result\n",
    "    return tokens"
   ]
  },
  {
   "cell_type": "code",
   "execution_count": 32,
   "metadata": {},
   "outputs": [],
   "source": [
    "# Import data for LDA analysis and return text_data\n",
    "import random\n",
    "text_data = []\n",
    "for line in df_trump2['disbursement_description']:\n",
    "    tokens = prepare_text_for_lda(line)\n",
    "    if random.random() > .99:\n",
    "        #print(tokens)\n",
    "        text_data.append(tokens)"
   ]
  },
  {
   "cell_type": "code",
   "execution_count": 33,
   "metadata": {},
   "outputs": [],
   "source": [
    "# Cluster topics\n",
    "from gensim import corpora \n",
    "dictionary = corpora.Dictionary(text_data)\n",
    "corpus = [dictionary.doc2bow(text) for text in text_data]"
   ]
  },
  {
   "cell_type": "code",
   "execution_count": 34,
   "metadata": {},
   "outputs": [],
   "source": [
    "import pickle\n",
    "pickle.dump(corpus, open('corpus.pkl', 'wb'))\n",
    "dictionary.save('dictionary.gensim')"
   ]
  },
  {
   "cell_type": "code",
   "execution_count": 37,
   "metadata": {},
   "outputs": [
    {
     "name": "stdout",
     "output_type": "stream",
     "text": [
      "(0, '0.301*\"fee\" + 0.272*\"transaction\" + 0.115*\"office\" + 0.108*\"supply\" + 0.030*\"travel\" + 0.016*\"required\"')\n",
      "(1, '0.501*\"air\" + 0.082*\"food\" + 0.061*\"credit\" + 0.052*\"expense\" + 0.042*\"meeting\" + 0.042*\"meal\"')\n",
      "(2, '0.457*\"payroll\" + 0.107*\"consulting\" + 0.082*\"service\" + 0.066*\"software\" + 0.066*\"advance\" + 0.019*\"processing\"')\n",
      "(3, '0.191*\"ground\" + 0.191*\"transportation\" + 0.183*\"rental\" + 0.167*\"car\" + 0.043*\"toll\" + 0.035*\"fuel\"')\n",
      "(4, '0.235*\"lodging\" + 0.102*\"merchant\" + 0.101*\"fee\" + 0.078*\"expense\" + 0.047*\"service\" + 0.047*\"delivery\"')\n"
     ]
    }
   ],
   "source": [
    "import gensim # package for topic modeling\n",
    "NUM_TOPICS = 5 # trial number based on understanding of the data file & research aims\n",
    "ldamodel = gensim.models.ldamodel.LdaModel(corpus, num_topics = NUM_TOPICS, id2word=dictionary, passes=20)\n",
    "ldamodel.save('model.gensim')\n",
    "topics = ldamodel.print_topics(num_words=6)\n",
    "for topic in topics:\n",
    "    print(topic)"
   ]
  },
  {
   "cell_type": "code",
   "execution_count": 38,
   "metadata": {
    "scrolled": false
   },
   "outputs": [
    {
     "data": {
      "text/html": [
       "\n",
       "<link rel=\"stylesheet\" type=\"text/css\" href=\"https://cdn.rawgit.com/bmabey/pyLDAvis/files/ldavis.v1.0.0.css\">\n",
       "\n",
       "\n",
       "<div id=\"ldavis_el124031405323764527845292320872\"></div>\n",
       "<script type=\"text/javascript\">\n",
       "\n",
       "var ldavis_el124031405323764527845292320872_data = {\"mdsDat\": {\"x\": [0.26883949485965775, 0.00811234822044966, -0.09402018426142099, -0.2878245228859849, 0.10489286406729835], \"y\": [0.17703181447863833, -0.3021916873716029, -0.00952656769843594, 0.15320176171229025, -0.0185153211208898], \"topics\": [1, 2, 3, 4, 5], \"cluster\": [1, 1, 1, 1, 1], \"Freq\": [26.195167541503906, 18.53804588317871, 13.843883514404297, 23.029844284057617, 18.393054962158203]}, \"tinfo\": {\"Term\": [\"air\", \"payroll\", \"transaction\", \"fee\", \"lodging\", \"ground\", \"transportation\", \"rental\", \"car\", \"office\", \"supply\", \"merchant\", \"consulting\", \"food\", \"expense\", \"service\", \"software\", \"advance\", \"credit\", \"delivery\", \"toll\", \"meeting\", \"meal\", \"collateral\", \"fuel\", \"travel\", \"production\", \"video\", \"hat\", \"event\", \"transaction\", \"office\", \"supply\", \"travel\", \"fee\", \"reimbursement\", \"itemization(s\", \"internet\", \"per\", \"furniture\", \"diem\", \"required\", \"see\", \"advertising\", \"online\", \"payment\", \"itemization\", \"card\", \"strategy\", \"rent\", \"insurance\", \"polling\", \"rally\", \"sign\", \"freight\", \"legal\", \"fundraising\", \"withholding\", \"tax\", \"processing\", \"expense\", \"baggage\", \"air\", \"car\", \"rental\", \"lodging\", \"service\", \"fuel\", \"credit\", \"software\", \"staging\", \"delivery\", \"phone\", \"mobile\", \"air\", \"food\", \"meeting\", \"meal\", \"baggage\", \"credit\", \"card\", \"itemization\", \"payment\", \"online\", \"advertising\", \"strategy\", \"catering\", \"expense\", \"see\", \"required\", \"furniture\", \"diem\", \"per\", \"rent\", \"insurance\", \"polling\", \"rally\", \"sign\", \"freight\", \"legal\", \"fundraising\", \"withholding\", \"processing\", \"tax\", \"consulting\", \"fee\", \"transaction\", \"service\", \"video\", \"production\", \"car\", \"rental\", \"payroll\", \"lodging\", \"toll\", \"internet\", \"fuel\", \"supply\", \"payroll\", \"consulting\", \"software\", \"advance\", \"processing\", \"tax\", \"withholding\", \"service\", \"strategy\", \"advertising\", \"online\", \"payment\", \"itemization\", \"card\", \"diem\", \"furniture\", \"per\", \"fundraising\", \"legal\", \"rent\", \"insurance\", \"polling\", \"sign\", \"rally\", \"freight\", \"baggage\", \"internet\", \"itemization(s\", \"reimbursement\", \"catering\", \"lodging\", \"fee\", \"toll\", \"food\", \"office\", \"supply\", \"transportation\", \"ground\", \"car\", \"rental\", \"delivery\", \"air\", \"fuel\", \"transaction\", \"credit\", \"expense\", \"ground\", \"transportation\", \"rental\", \"car\", \"toll\", \"fuel\", \"production\", \"video\", \"facility\", \"catering\", \"service\", \"advertising\", \"online\", \"payment\", \"card\", \"itemization\", \"strategy\", \"furniture\", \"diem\", \"per\", \"rent\", \"insurance\", \"polling\", \"sign\", \"freight\", \"rally\", \"fundraising\", \"legal\", \"tax\", \"withholding\", \"credit\", \"air\", \"payroll\", \"consulting\", \"advance\", \"fee\", \"lodging\", \"transaction\", \"internet\", \"food\", \"office\", \"supply\", \"expense\", \"baggage\", \"merchant\", \"lodging\", \"merchant\", \"delivery\", \"collateral\", \"hat\", \"event\", \"staging\", \"mobile\", \"phone\", \"freight\", \"rally\", \"sign\", \"polling\", \"insurance\", \"rent\", \"legal\", \"fundraising\", \"expense\", \"credit\", \"service\", \"fee\", \"advertising\", \"online\", \"payment\", \"itemization\", \"card\", \"strategy\", \"diem\", \"furniture\", \"per\", \"consulting\", \"travel\", \"air\", \"payroll\", \"food\", \"internet\", \"toll\", \"transaction\", \"fuel\"], \"Freq\": [43.0, 29.0, 33.0, 44.0, 20.0, 20.0, 20.0, 19.0, 18.0, 14.0, 13.0, 9.0, 7.0, 7.0, 11.0, 12.0, 4.0, 4.0, 8.0, 4.0, 5.0, 4.0, 4.0, 3.0, 4.0, 4.0, 3.0, 3.0, 2.0, 2.0, 32.4218864440918, 13.748412132263184, 12.899643898010254, 3.5612337589263916, 35.86594772338867, 1.8672118186950684, 1.8672113418579102, 1.866999864578247, 1.018371343612671, 1.0183700323104858, 1.0183696746826172, 1.8673912286758423, 1.867390513420105, 0.16976507008075714, 0.1697649508714676, 0.16975624859333038, 0.16975615918636322, 0.1697559803724289, 0.16978062689304352, 0.1697794646024704, 0.16976386308670044, 0.16976377367973328, 0.1697574108839035, 0.16975738108158112, 0.16975732147693634, 0.16977447271347046, 0.16977423429489136, 0.1702745109796524, 0.17027422785758972, 0.17027388513088226, 0.301821768283844, 0.173747256398201, 0.17329958081245422, 0.1714925318956375, 0.1714925765991211, 0.17109504342079163, 0.17064683139324188, 0.17064377665519714, 0.17021143436431885, 0.17018458247184753, 0.17018432915210724, 0.17018431425094604, 0.17018403112888336, 0.17018266022205353, 42.27911376953125, 6.906121730804443, 3.5379984378814697, 3.5379951000213623, 1.848700761795044, 5.18406867980957, 1.010835886001587, 1.0108356475830078, 1.0108351707458496, 1.0107800960540771, 1.0107791423797607, 0.9971351027488708, 1.0106450319290161, 4.3823699951171875, 1.0106717348098755, 1.0106714963912964, 0.1685040146112442, 0.16850394010543823, 0.1685037910938263, 0.16851642727851868, 0.16849780082702637, 0.16849592328071594, 0.16848671436309814, 0.16848665475845337, 0.16848640143871307, 0.16851042211055756, 0.16851019859313965, 0.1684846729040146, 0.16848444938659668, 0.16848430037498474, 0.17078393697738647, 0.17009469866752625, 0.16897539794445038, 0.1689574122428894, 0.16891680657863617, 0.16891507804393768, 0.16862444579601288, 0.1686171591281891, 0.1685558408498764, 0.1685534417629242, 0.16853266954421997, 0.16853183507919312, 0.16852805018424988, 0.1685260683298111, 28.76959800720215, 6.753244876861572, 4.137874126434326, 4.137380123138428, 1.1817713975906372, 1.1817708015441895, 1.181769847869873, 5.147017002105713, 0.21296091377735138, 0.19710059463977814, 0.19710057973861694, 0.19707848131656647, 0.19707824289798737, 0.19707806408405304, 0.1971137970685959, 0.19711370766162872, 0.19711293280124664, 0.20536355674266815, 0.20536182820796967, 0.1971368044614792, 0.197097510099411, 0.1970975250005722, 0.19708244502544403, 0.19708219170570374, 0.19708195328712463, 0.19764387607574463, 0.19716311991214752, 0.19708366692066193, 0.19708333909511566, 0.19712521135807037, 0.20175378024578094, 0.20326338708400726, 0.19888490438461304, 0.19865737855434418, 0.198636993765831, 0.198629692196846, 0.19762885570526123, 0.1976272016763687, 0.19762544333934784, 0.19761833548545837, 0.19758464395999908, 0.19723846018314362, 0.19715221226215363, 0.19714421033859253, 0.19713212549686432, 0.1971273273229599, 20.052610397338867, 20.05257797241211, 19.18640899658203, 17.457672119140625, 4.492916107177734, 3.629211902618408, 2.7654471397399902, 2.765446186065674, 1.9015034437179565, 1.0373185873031616, 2.7450077533721924, 0.17288821935653687, 0.1728876233100891, 0.1728775054216385, 0.1728774458169937, 0.17287735641002655, 0.1729065179824829, 0.17289404571056366, 0.17289403080940247, 0.17289403080940247, 0.1729053407907486, 0.172886461019516, 0.17288631200790405, 0.17287929356098175, 0.17287929356098175, 0.17287921905517578, 0.1728993058204651, 0.17289918661117554, 0.17287738621234894, 0.17287738621234894, 0.21897009015083313, 0.1782815009355545, 0.17468143999576569, 0.17377029359340668, 0.17375029623508453, 0.17295752465724945, 0.17295020818710327, 0.17293012142181396, 0.17291659116744995, 0.1729123890399933, 0.1729099154472351, 0.17290839552879333, 0.17290498316287994, 0.1729036420583725, 0.1728973090648651, 19.644346237182617, 8.527413368225098, 3.89200496673584, 2.9660532474517822, 2.0391457080841064, 2.038670539855957, 2.0386698246002197, 2.0386695861816406, 2.038668155670166, 1.1122370958328247, 1.1122366189956665, 1.1122362613677979, 1.1121941804885864, 1.1121917963027954, 1.1120893955230713, 1.1043591499328613, 1.1043579578399658, 6.527257919311523, 2.9587364196777344, 3.8920669555664062, 8.46701717376709, 0.1854030340909958, 0.18540287017822266, 0.1853880137205124, 0.18538798391819, 0.18538789451122284, 0.1854306161403656, 0.18541167676448822, 0.18541142344474792, 0.18541108071804047, 0.5028226971626282, 0.1891200691461563, 0.18555335700511932, 0.18548151850700378, 0.18544581532478333, 0.18544453382492065, 0.18544231355190277, 0.1854402720928192, 0.18543857336044312], \"Total\": [43.0, 29.0, 33.0, 44.0, 20.0, 20.0, 20.0, 19.0, 18.0, 14.0, 13.0, 9.0, 7.0, 7.0, 11.0, 12.0, 4.0, 4.0, 8.0, 4.0, 5.0, 4.0, 4.0, 3.0, 4.0, 4.0, 3.0, 3.0, 2.0, 2.0, 33.14637756347656, 14.473894119262695, 13.625131607055664, 4.288877487182617, 44.87928009033203, 2.5910542011260986, 2.5910542011260986, 2.5910561084747314, 1.742293119430542, 1.7422932386398315, 1.742293119430542, 3.4334378242492676, 3.4334380626678467, 1.7359360456466675, 1.735936164855957, 1.7359354496002197, 1.7359353303909302, 1.7359352111816406, 1.7382138967514038, 1.820427417755127, 1.8204374313354492, 1.8204376697540283, 1.8204421997070312, 1.8204419612884521, 1.8204419612884521, 1.820905089378357, 1.8209052085876465, 1.87879478931427, 1.87879478931427, 1.87879478931427, 11.58148193359375, 2.5784225463867188, 43.013484954833984, 18.180831909179688, 19.909561157226562, 20.35869789123535, 12.123696327209473, 4.3509745597839355, 8.729118347167969, 4.834835052490234, 2.747309684753418, 4.601150989532471, 2.747309446334839, 2.747309923171997, 43.013484954833984, 7.632931709289551, 4.263123989105225, 4.263124465942383, 2.5784225463867188, 8.729118347167969, 1.7359352111816406, 1.7359353303909302, 1.7359354496002197, 1.735936164855957, 1.7359360456466675, 1.7382138967514038, 2.600285291671753, 11.58148193359375, 3.4334380626678467, 3.4334378242492676, 1.7422932386398315, 1.742293119430542, 1.742293119430542, 1.820427417755127, 1.8204374313354492, 1.8204376697540283, 1.8204421997070312, 1.8204419612884521, 1.8204419612884521, 1.820905089378357, 1.8209052085876465, 1.87879478931427, 1.87879478931427, 1.87879478931427, 7.770394802093506, 44.87928009033203, 33.14637756347656, 12.123696327209473, 3.4866175651550293, 3.4866180419921875, 18.180831909179688, 19.909561157226562, 29.46817398071289, 20.35869789123535, 5.215567111968994, 2.5910561084747314, 4.3509745597839355, 13.625131607055664, 29.46817398071289, 7.770394802093506, 4.834835052490234, 4.83478307723999, 1.87879478931427, 1.87879478931427, 1.87879478931427, 12.123696327209473, 1.7382138967514038, 1.7359360456466675, 1.735936164855957, 1.7359354496002197, 1.7359353303909302, 1.7359352111816406, 1.742293119430542, 1.7422932386398315, 1.742293119430542, 1.8209052085876465, 1.820905089378357, 1.820427417755127, 1.8204374313354492, 1.8204376697540283, 1.8204419612884521, 1.8204421997070312, 1.8204419612884521, 2.5784225463867188, 2.5910561084747314, 2.5910542011260986, 2.5910542011260986, 2.600285291671753, 20.35869789123535, 44.87928009033203, 5.215567111968994, 7.632931709289551, 14.473894119262695, 13.625131607055664, 20.77396011352539, 20.773956298828125, 18.180831909179688, 19.909561157226562, 4.601150989532471, 43.013484954833984, 4.3509745597839355, 33.14637756347656, 8.729118347167969, 11.58148193359375, 20.773956298828125, 20.77396011352539, 19.909561157226562, 18.180831909179688, 5.215567111968994, 4.3509745597839355, 3.4866180419921875, 3.4866175651550293, 2.6222639083862305, 2.600285291671753, 12.123696327209473, 1.7359360456466675, 1.735936164855957, 1.7359354496002197, 1.7359352111816406, 1.7359353303909302, 1.7382138967514038, 1.7422932386398315, 1.742293119430542, 1.742293119430542, 1.820427417755127, 1.8204374313354492, 1.8204376697540283, 1.8204419612884521, 1.8204419612884521, 1.8204421997070312, 1.8209052085876465, 1.820905089378357, 1.87879478931427, 1.87879478931427, 8.729118347167969, 43.013484954833984, 29.46817398071289, 7.770394802093506, 4.83478307723999, 44.87928009033203, 20.35869789123535, 33.14637756347656, 2.5910561084747314, 7.632931709289551, 14.473894119262695, 13.625131607055664, 11.58148193359375, 2.5784225463867188, 9.235686302185059, 20.35869789123535, 9.235686302185059, 4.601150989532471, 3.6742570400238037, 2.7473504543304443, 2.747309923171997, 2.747309684753418, 2.747309923171997, 2.747309446334839, 1.8204419612884521, 1.8204421997070312, 1.8204419612884521, 1.8204376697540283, 1.8204374313354492, 1.820427417755127, 1.820905089378357, 1.8209052085876465, 11.58148193359375, 8.729118347167969, 12.123696327209473, 44.87928009033203, 1.7359360456466675, 1.735936164855957, 1.7359354496002197, 1.7359353303909302, 1.7359352111816406, 1.7382138967514038, 1.742293119430542, 1.7422932386398315, 1.742293119430542, 7.770394802093506, 4.288877487182617, 43.013484954833984, 29.46817398071289, 7.632931709289551, 2.5910561084747314, 5.215567111968994, 33.14637756347656, 4.3509745597839355], \"Category\": [\"Default\", \"Default\", \"Default\", \"Default\", \"Default\", \"Default\", \"Default\", \"Default\", \"Default\", \"Default\", \"Default\", \"Default\", \"Default\", \"Default\", \"Default\", \"Default\", \"Default\", \"Default\", \"Default\", \"Default\", \"Default\", \"Default\", \"Default\", \"Default\", \"Default\", \"Default\", \"Default\", \"Default\", \"Default\", \"Default\", \"Topic1\", \"Topic1\", \"Topic1\", \"Topic1\", \"Topic1\", \"Topic1\", \"Topic1\", \"Topic1\", \"Topic1\", \"Topic1\", \"Topic1\", \"Topic1\", \"Topic1\", \"Topic1\", \"Topic1\", \"Topic1\", \"Topic1\", \"Topic1\", \"Topic1\", \"Topic1\", \"Topic1\", \"Topic1\", \"Topic1\", \"Topic1\", \"Topic1\", \"Topic1\", \"Topic1\", \"Topic1\", \"Topic1\", \"Topic1\", \"Topic1\", \"Topic1\", \"Topic1\", \"Topic1\", \"Topic1\", \"Topic1\", \"Topic1\", \"Topic1\", \"Topic1\", \"Topic1\", \"Topic1\", \"Topic1\", \"Topic1\", \"Topic1\", \"Topic2\", \"Topic2\", \"Topic2\", \"Topic2\", \"Topic2\", \"Topic2\", \"Topic2\", \"Topic2\", \"Topic2\", \"Topic2\", \"Topic2\", \"Topic2\", \"Topic2\", \"Topic2\", \"Topic2\", \"Topic2\", \"Topic2\", \"Topic2\", \"Topic2\", \"Topic2\", \"Topic2\", \"Topic2\", \"Topic2\", \"Topic2\", \"Topic2\", \"Topic2\", \"Topic2\", \"Topic2\", \"Topic2\", \"Topic2\", \"Topic2\", \"Topic2\", \"Topic2\", \"Topic2\", \"Topic2\", \"Topic2\", \"Topic2\", \"Topic2\", \"Topic2\", \"Topic2\", \"Topic2\", \"Topic2\", \"Topic2\", \"Topic2\", \"Topic3\", \"Topic3\", \"Topic3\", \"Topic3\", \"Topic3\", \"Topic3\", \"Topic3\", \"Topic3\", \"Topic3\", \"Topic3\", \"Topic3\", \"Topic3\", \"Topic3\", \"Topic3\", \"Topic3\", \"Topic3\", \"Topic3\", \"Topic3\", \"Topic3\", \"Topic3\", \"Topic3\", \"Topic3\", \"Topic3\", \"Topic3\", \"Topic3\", \"Topic3\", \"Topic3\", \"Topic3\", \"Topic3\", \"Topic3\", \"Topic3\", \"Topic3\", \"Topic3\", \"Topic3\", \"Topic3\", \"Topic3\", \"Topic3\", \"Topic3\", \"Topic3\", \"Topic3\", \"Topic3\", \"Topic3\", \"Topic3\", \"Topic3\", \"Topic3\", \"Topic3\", \"Topic4\", \"Topic4\", \"Topic4\", \"Topic4\", \"Topic4\", \"Topic4\", \"Topic4\", \"Topic4\", \"Topic4\", \"Topic4\", \"Topic4\", \"Topic4\", \"Topic4\", \"Topic4\", \"Topic4\", \"Topic4\", \"Topic4\", \"Topic4\", \"Topic4\", \"Topic4\", \"Topic4\", \"Topic4\", \"Topic4\", \"Topic4\", \"Topic4\", \"Topic4\", \"Topic4\", \"Topic4\", \"Topic4\", \"Topic4\", \"Topic4\", \"Topic4\", \"Topic4\", \"Topic4\", \"Topic4\", \"Topic4\", \"Topic4\", \"Topic4\", \"Topic4\", \"Topic4\", \"Topic4\", \"Topic4\", \"Topic4\", \"Topic4\", \"Topic4\", \"Topic5\", \"Topic5\", \"Topic5\", \"Topic5\", \"Topic5\", \"Topic5\", \"Topic5\", \"Topic5\", \"Topic5\", \"Topic5\", \"Topic5\", \"Topic5\", \"Topic5\", \"Topic5\", \"Topic5\", \"Topic5\", \"Topic5\", \"Topic5\", \"Topic5\", \"Topic5\", \"Topic5\", \"Topic5\", \"Topic5\", \"Topic5\", \"Topic5\", \"Topic5\", \"Topic5\", \"Topic5\", \"Topic5\", \"Topic5\", \"Topic5\", \"Topic5\", \"Topic5\", \"Topic5\", \"Topic5\", \"Topic5\", \"Topic5\", \"Topic5\", \"Topic5\"], \"logprob\": [30.0, 29.0, 28.0, 27.0, 26.0, 25.0, 24.0, 23.0, 22.0, 21.0, 20.0, 19.0, 18.0, 17.0, 16.0, 15.0, 14.0, 13.0, 12.0, 11.0, 10.0, 9.0, 8.0, 7.0, 6.0, 5.0, 4.0, 3.0, 2.0, 1.0, -1.301900029182434, -2.1598000526428223, -2.2235000133514404, -3.5106000900268555, -1.2008999586105347, -4.156300067901611, -4.156300067901611, -4.156400203704834, -4.762499809265137, -4.762499809265137, -4.762499809265137, -4.156199932098389, -4.156199932098389, -6.553999900817871, -6.553999900817871, -6.554100036621094, -6.554100036621094, -6.554100036621094, -6.553999900817871, -6.553999900817871, -6.553999900817871, -6.553999900817871, -6.554100036621094, -6.554100036621094, -6.554100036621094, -6.553999900817871, -6.553999900817871, -6.551000118255615, -6.551000118255615, -6.551000118255615, -5.978600025177002, -6.530900001525879, -6.533400058746338, -6.543900012969971, -6.543900012969971, -6.546199798583984, -6.548900127410889, -6.548900127410889, -6.551400184631348, -6.551599979400635, -6.551599979400635, -6.551599979400635, -6.551599979400635, -6.551599979400635, -0.6906999945640564, -2.502500057220459, -3.1714000701904297, -3.1714000701904297, -3.820499897003174, -2.789400100708008, -4.424200057983398, -4.424200057983398, -4.424200057983398, -4.424200057983398, -4.424200057983398, -4.43779993057251, -4.4243998527526855, -2.95740008354187, -4.424300193786621, -4.424300193786621, -6.215700149536133, -6.215700149536133, -6.215700149536133, -6.215700149536133, -6.215799808502197, -6.215799808502197, -6.21589994430542, -6.21589994430542, -6.21589994430542, -6.215700149536133, -6.215700149536133, -6.21589994430542, -6.21589994430542, -6.21589994430542, -6.202300071716309, -6.206399917602539, -6.2129998207092285, -6.213099956512451, -6.2133002281188965, -6.2133002281188965, -6.215000152587891, -6.215099811553955, -6.215400218963623, -6.2154998779296875, -6.21560001373291, -6.21560001373291, -6.21560001373291, -6.21560001373291, -0.7836999893188477, -2.2328999042510986, -2.7228000164031982, -2.722899913787842, -3.9760000705718994, -3.9760000705718994, -3.9760000705718994, -2.5046000480651855, -5.689599990844727, -5.767000198364258, -5.767000198364258, -5.767099857330322, -5.767099857330322, -5.767099857330322, -5.766900062561035, -5.766900062561035, -5.766900062561035, -5.725900173187256, -5.72599983215332, -5.7667999267578125, -5.767000198364258, -5.767000198364258, -5.767099857330322, -5.767099857330322, -5.767099857330322, -5.7642998695373535, -5.76669979095459, -5.767099857330322, -5.767099857330322, -5.766900062561035, -5.74370002746582, -5.736199855804443, -5.757999897003174, -5.759099960327148, -5.759200096130371, -5.759300231933594, -5.7642998695373535, -5.7642998695373535, -5.764400005340576, -5.764400005340576, -5.764599800109863, -5.766300201416016, -5.76669979095459, -5.7667999267578125, -5.766900062561035, -5.766900062561035, -1.6535999774932861, -1.6535999774932861, -1.697700023651123, -1.792099952697754, -3.149399995803833, -3.3629000186920166, -3.634700059890747, -3.634700059890747, -4.009300231933594, -4.615300178527832, -3.6421000957489014, -6.4070000648498535, -6.4070000648498535, -6.407100200653076, -6.407100200653076, -6.407100200653076, -6.406899929046631, -6.4070000648498535, -6.4070000648498535, -6.4070000648498535, -6.406899929046631, -6.4070000648498535, -6.4070000648498535, -6.407100200653076, -6.407100200653076, -6.407100200653076, -6.4070000648498535, -6.4070000648498535, -6.407100200653076, -6.407100200653076, -6.1707000732421875, -6.376299858093262, -6.396699905395508, -6.401899814605713, -6.402100086212158, -6.406599998474121, -6.406700134277344, -6.406799793243408, -6.406899929046631, -6.406899929046631, -6.406899929046631, -6.406899929046631, -6.406899929046631, -6.406899929046631, -6.4070000648498535, -1.4493000507354736, -2.283799886703491, -3.06820011138916, -3.339900016784668, -3.714600086212158, -3.7147998809814453, -3.7147998809814453, -3.7147998809814453, -3.7147998809814453, -4.320700168609619, -4.320700168609619, -4.320700168609619, -4.320799827575684, -4.320799827575684, -4.320899963378906, -4.3277997970581055, -4.3277997970581055, -2.551100015640259, -3.3422999382019043, -3.06820011138916, -2.2908999919891357, -6.112299919128418, -6.112299919128418, -6.112400054931641, -6.112400054931641, -6.112400054931641, -6.112199783325195, -6.112299919128418, -6.112299919128418, -6.112299919128418, -5.11460018157959, -6.09250020980835, -6.111499786376953, -6.1118998527526855, -6.112100124359131, -6.112100124359131, -6.112100124359131, -6.112100124359131, -6.112100124359131], \"loglift\": [30.0, 29.0, 28.0, 27.0, 26.0, 25.0, 24.0, 23.0, 22.0, 21.0, 20.0, 19.0, 18.0, 17.0, 16.0, 15.0, 14.0, 13.0, 12.0, 11.0, 10.0, 9.0, 8.0, 7.0, 6.0, 5.0, 4.0, 3.0, 2.0, 1.0, 1.3174999952316284, 1.2882000207901, 1.2848999500274658, 1.1536999940872192, 1.115399956703186, 1.0119999647140503, 1.0119999647140503, 1.0118999481201172, 0.8026000261306763, 0.8026000261306763, 0.8026000261306763, 0.7305999994277954, 0.7305999994277954, -0.9853000044822693, -0.9853000044822693, -0.9853000044822693, -0.9853000044822693, -0.9853000044822693, -0.9865000247955322, -1.0326999425888062, -1.0327999591827393, -1.0327999591827393, -1.0328999757766724, -1.0328999757766724, -1.0328999757766724, -1.0329999923706055, -1.0329999923706055, -1.061400055885315, -1.061400055885315, -1.061400055885315, -2.3076999187469482, -1.357699990272522, -4.174699783325195, -3.3239998817443848, -3.414799928665161, -3.4393999576568604, -2.9237000942230225, -1.8990000486373901, -2.5978000164031982, -2.0071001052856445, -1.4419000148773193, -1.9575999975204468, -1.4419000148773193, -1.4419000148773193, 1.6680999994277954, 1.5852999687194824, 1.498900055885315, 1.498900055885315, 1.3526999950408936, 1.1642999649047852, 1.1446000337600708, 1.1446000337600708, 1.1446000337600708, 1.1445000171661377, 1.1445000171661377, 1.1296000480651855, 0.7402999997138977, 0.7135000228881836, 0.46239998936653137, 0.46239998936653137, -0.6506999731063843, -0.6506999731063843, -0.6506999731063843, -0.6944000124931335, -0.694599986076355, -0.694599986076355, -0.694599986076355, -0.694599986076355, -0.694599986076355, -0.6947000026702881, -0.6947000026702881, -0.7261999845504761, -0.7261999845504761, -0.7261999845504761, -2.1322999000549316, -3.890000104904175, -3.593600034713745, -2.587899923324585, -1.3418999910354614, -1.3418999910354614, -2.9951000213623047, -3.0859999656677246, -3.4784998893737793, -3.1087000370025635, -1.746899962425232, -1.0473999977111816, -1.5657000541687012, -2.707200050354004, 1.9532999992370605, 1.8370000123977661, 1.8216999769210815, 1.8215999603271484, 1.513700008392334, 1.513700008392334, 1.513700008392334, 1.1205999851226807, -0.12219999730587006, -0.19830000400543213, -0.19830000400543213, -0.19840000569820404, -0.19840000569820404, -0.19840000569820404, -0.20180000364780426, -0.20190000534057617, -0.20190000534057617, -0.20499999821186066, -0.20499999821186066, -0.24560000002384186, -0.24580000340938568, -0.24580000340938568, -0.2459000051021576, -0.2459000051021576, -0.2459000051021576, -0.5910999774932861, -0.5985000133514404, -0.5989000201225281, -0.5989000201225281, -0.6021999716758728, -2.636899948120117, -3.4198999404907227, -1.2893999814987183, -1.6713000535964966, -2.311300039291382, -2.2509000301361084, -2.6777000427246094, -2.6777000427246094, -2.5443999767303467, -2.6352999210357666, -1.1706000566482544, -3.4075000286102295, -1.1168999671936035, -3.14739990234375, -1.8131999969482422, -2.0959999561309814, 1.4329999685287476, 1.4329999685287476, 1.431399941444397, 1.4278000593185425, 1.319200038909912, 1.2869999408721924, 1.2366000413894653, 1.2366000413894653, 1.1469999551773071, 0.5493999719619751, -0.017000000923871994, -0.8382999897003174, -0.8382999897003174, -0.8382999897003174, -0.8382999897003174, -0.8382999897003174, -0.8395000100135803, -0.8418999910354614, -0.8418999910354614, -0.8418999910354614, -0.885699987411499, -0.8858000040054321, -0.8858000040054321, -0.8859000205993652, -0.8859000205993652, -0.8859000205993652, -0.8859999775886536, -0.8859999775886536, -0.9174000024795532, -0.9174000024795532, -2.217099905014038, -4.017499923706055, -3.6596999168395996, -2.3320000171661377, -1.8575999736785889, -4.0903000831604, -3.2999000549316406, -3.787400007247925, -1.2386000156402588, -2.3190999031066895, -2.9590001106262207, -2.8984999656677246, -2.7360000610351562, -1.2338000535964966, -2.5097999572753906, 1.6575000286102295, 1.6133999824523926, 1.5257999897003174, 1.479099988937378, 1.3950999975204468, 1.3948999643325806, 1.3948999643325806, 1.3948999643325806, 1.3948999643325806, 1.2005000114440918, 1.2005000114440918, 1.2005000114440918, 1.2005000114440918, 1.2005000114440918, 1.2003999948501587, 1.1930999755859375, 1.1930999755859375, 1.1197999715805054, 0.611299991607666, 0.5569999814033508, 0.02539999969303608, -0.5436000227928162, -0.5436000227928162, -0.5436999797821045, -0.5436999797821045, -0.5436999797821045, -0.544700026512146, -0.5472000241279602, -0.5472000241279602, -0.5472000241279602, -1.044600009918213, -1.4282000064849854, -3.752700090408325, -3.3749001026153564, -2.0243000984191895, -0.9438999891281128, -1.6434999704360962, -3.492799997329712, -1.4622000455856323]}, \"token.table\": {\"Topic\": [3, 2, 2, 2, 4, 2, 2, 4, 5, 3, 5, 2, 5, 5, 1, 5, 2, 5, 4, 1, 5, 2, 5, 4, 5, 1, 4, 5, 5, 1, 2, 1, 5, 5, 2, 2, 5, 5, 1, 2, 2, 3, 1, 5, 5, 3, 4, 5, 1, 5, 4, 1, 2, 1, 2, 3, 4, 5, 5, 3, 5, 2, 1, 3, 4, 1, 4, 1, 4, 3], \"Freq\": [0.8273380398750305, 0.5760580897331238, 0.9764379858970642, 0.7756680250167847, 0.9350507259368896, 0.5760583877563477, 0.38457319140434265, 0.38457319140434265, 0.8164916038513184, 0.9008551239967346, 0.1286935955286026, 0.5727955102920532, 0.3436773121356964, 0.8693476915359497, 0.5739562511444092, 0.7279848456382751, 0.34537893533706665, 0.6044131517410278, 0.7626997232437134, 0.8021519184112549, 0.17825597524642944, 0.9170787930488586, 0.5493171811103821, 0.9193342924118042, 0.5491774082183838, 0.5739561915397644, 0.9627439379692078, 0.7279741168022156, 0.5493185520172119, 0.7718860507011414, 0.5760583281517029, 0.7718865871429443, 0.5491774678230286, 0.9823811054229736, 0.9382789731025696, 0.9382790923118591, 0.974480926990509, 0.7279848456382751, 0.9672586917877197, 0.576058030128479, 0.5760582685470581, 0.984112560749054, 0.5739562511444092, 0.7279849648475647, 0.5493184328079224, 0.5322561264038086, 0.8604326248168945, 0.5493170619010925, 0.7718865871429443, 0.5493215322494507, 0.9543153643608093, 0.582506537437439, 0.2912532687187195, 0.5825064778327942, 0.2912532389163971, 0.412415474653244, 0.24744927883148193, 0.32993239164352417, 0.5493171811103821, 0.827329158782959, 0.7279849052429199, 0.5753031969070435, 0.9541192054748535, 0.5322561264038086, 0.7669348120689392, 0.9654147028923035, 0.9627437591552734, 0.9326449632644653, 0.8604327440261841, 0.5322561264038086], \"Term\": [\"advance\", \"advertising\", \"air\", \"baggage\", \"car\", \"card\", \"catering\", \"catering\", \"collateral\", \"consulting\", \"consulting\", \"credit\", \"credit\", \"delivery\", \"diem\", \"event\", \"expense\", \"expense\", \"facility\", \"fee\", \"fee\", \"food\", \"freight\", \"fuel\", \"fundraising\", \"furniture\", \"ground\", \"hat\", \"insurance\", \"internet\", \"itemization\", \"itemization(s\", \"legal\", \"lodging\", \"meal\", \"meeting\", \"merchant\", \"mobile\", \"office\", \"online\", \"payment\", \"payroll\", \"per\", \"phone\", \"polling\", \"processing\", \"production\", \"rally\", \"reimbursement\", \"rent\", \"rental\", \"required\", \"required\", \"see\", \"see\", \"service\", \"service\", \"service\", \"sign\", \"software\", \"staging\", \"strategy\", \"supply\", \"tax\", \"toll\", \"transaction\", \"transportation\", \"travel\", \"video\", \"withholding\"]}, \"R\": 30, \"lambda.step\": 0.01, \"plot.opts\": {\"xlab\": \"PC1\", \"ylab\": \"PC2\"}, \"topic.order\": [1, 2, 3, 4, 5]};\n",
       "\n",
       "function LDAvis_load_lib(url, callback){\n",
       "  var s = document.createElement('script');\n",
       "  s.src = url;\n",
       "  s.async = true;\n",
       "  s.onreadystatechange = s.onload = callback;\n",
       "  s.onerror = function(){console.warn(\"failed to load library \" + url);};\n",
       "  document.getElementsByTagName(\"head\")[0].appendChild(s);\n",
       "}\n",
       "\n",
       "if(typeof(LDAvis) !== \"undefined\"){\n",
       "   // already loaded: just create the visualization\n",
       "   !function(LDAvis){\n",
       "       new LDAvis(\"#\" + \"ldavis_el124031405323764527845292320872\", ldavis_el124031405323764527845292320872_data);\n",
       "   }(LDAvis);\n",
       "}else if(typeof define === \"function\" && define.amd){\n",
       "   // require.js is available: use it to load d3/LDAvis\n",
       "   require.config({paths: {d3: \"https://cdnjs.cloudflare.com/ajax/libs/d3/3.5.5/d3.min\"}});\n",
       "   require([\"d3\"], function(d3){\n",
       "      window.d3 = d3;\n",
       "      LDAvis_load_lib(\"https://cdn.rawgit.com/bmabey/pyLDAvis/files/ldavis.v1.0.0.js\", function(){\n",
       "        new LDAvis(\"#\" + \"ldavis_el124031405323764527845292320872\", ldavis_el124031405323764527845292320872_data);\n",
       "      });\n",
       "    });\n",
       "}else{\n",
       "    // require.js not available: dynamically load d3 & LDAvis\n",
       "    LDAvis_load_lib(\"https://cdnjs.cloudflare.com/ajax/libs/d3/3.5.5/d3.min.js\", function(){\n",
       "         LDAvis_load_lib(\"https://cdn.rawgit.com/bmabey/pyLDAvis/files/ldavis.v1.0.0.js\", function(){\n",
       "                 new LDAvis(\"#\" + \"ldavis_el124031405323764527845292320872\", ldavis_el124031405323764527845292320872_data);\n",
       "            })\n",
       "         });\n",
       "}\n",
       "</script>"
      ],
      "text/plain": [
       "<IPython.core.display.HTML object>"
      ]
     },
     "execution_count": 38,
     "metadata": {},
     "output_type": "execute_result"
    }
   ],
   "source": [
    "import pyLDAvis.gensim\n",
    "dictionary = gensim.corpora.Dictionary.load('dictionary.gensim')\n",
    "corpus = pickle.load(open('corpus.pkl', 'rb'))\n",
    "lda = gensim.models.ldamodel.LdaModel.load('model.gensim')\n",
    "lda_display = pyLDAvis.gensim.prepare(lda, corpus, dictionary, sort_topics=False)\n",
    "pyLDAvis.display(lda_display) "
   ]
  },
  {
   "cell_type": "code",
   "execution_count": null,
   "metadata": {},
   "outputs": [],
   "source": []
  },
  {
   "cell_type": "markdown",
   "metadata": {},
   "source": [
    "## <div class=\"alert alert-block alert-success\"><center>Data Preparation - Hillary Part<center>"
   ]
  },
  {
   "cell_type": "code",
   "execution_count": 39,
   "metadata": {},
   "outputs": [
    {
     "name": "stderr",
     "output_type": "stream",
     "text": [
      "/Users/zhanghuishan/opt/anaconda3/lib/python3.8/site-packages/IPython/core/interactiveshell.py:3071: DtypeWarning: Columns (23,24,26,27,28,29,30,33,34) have mixed types.Specify dtype option on import or set low_memory=False.\n",
      "  has_raised = await self.run_ast_nodes(code_ast.body, cell_name,\n"
     ]
    },
    {
     "data": {
      "text/plain": [
       "54234"
      ]
     },
     "execution_count": 39,
     "metadata": {},
     "output_type": "execute_result"
    }
   ],
   "source": [
    "df_biden=pd.read_csv('biden2020.csv')\n",
    "len(df_biden)"
   ]
  },
  {
   "cell_type": "code",
   "execution_count": 40,
   "metadata": {},
   "outputs": [],
   "source": [
    "df_biden = df_biden[['committee_id', 'report_year', 'disbursement_date','recipient_name',\\\n",
    "                     'recipient_state','recipient_city',\\\n",
    "                     'disbursement_purpose_category','disbursement_description','disbursement_amount']]"
   ]
  },
  {
   "cell_type": "code",
   "execution_count": 41,
   "metadata": {},
   "outputs": [],
   "source": [
    "df_biden.drop(df_biden[df_biden['disbursement_purpose_category'] == 'REFUNDS'].index, inplace = True) \n",
    "df_biden.drop(df_biden[df_biden['disbursement_description'].str.contains('refund')].index, inplace = True) \n",
    "df_biden = df_biden[df_biden['disbursement_description'].notna()]"
   ]
  },
  {
   "cell_type": "code",
   "execution_count": 42,
   "metadata": {
    "scrolled": false
   },
   "outputs": [
    {
     "data": {
      "text/plain": [
       "committee_id                     0\n",
       "report_year                      0\n",
       "disbursement_date                0\n",
       "recipient_name                   0\n",
       "recipient_state                  1\n",
       "recipient_city                   2\n",
       "disbursement_purpose_category    0\n",
       "disbursement_description         0\n",
       "disbursement_amount              0\n",
       "dtype: int64"
      ]
     },
     "execution_count": 42,
     "metadata": {},
     "output_type": "execute_result"
    }
   ],
   "source": [
    "df_biden.isnull().sum()"
   ]
  },
  {
   "cell_type": "code",
   "execution_count": 43,
   "metadata": {
    "scrolled": true
   },
   "outputs": [
    {
     "data": {
      "text/html": [
       "<div>\n",
       "<style scoped>\n",
       "    .dataframe tbody tr th:only-of-type {\n",
       "        vertical-align: middle;\n",
       "    }\n",
       "\n",
       "    .dataframe tbody tr th {\n",
       "        vertical-align: top;\n",
       "    }\n",
       "\n",
       "    .dataframe thead th {\n",
       "        text-align: right;\n",
       "    }\n",
       "</style>\n",
       "<table border=\"1\" class=\"dataframe\">\n",
       "  <thead>\n",
       "    <tr style=\"text-align: right;\">\n",
       "      <th></th>\n",
       "      <th>disbursement_purpose_category</th>\n",
       "      <th>disbursement_amount</th>\n",
       "    </tr>\n",
       "    <tr>\n",
       "      <th>disbursement_purpose_category</th>\n",
       "      <th></th>\n",
       "      <th></th>\n",
       "    </tr>\n",
       "  </thead>\n",
       "  <tbody>\n",
       "    <tr>\n",
       "      <th>ADMINISTRATIVE</th>\n",
       "      <td>3123</td>\n",
       "      <td>4.454786e+06</td>\n",
       "    </tr>\n",
       "    <tr>\n",
       "      <th>ADVERTISING</th>\n",
       "      <td>1061</td>\n",
       "      <td>4.267981e+08</td>\n",
       "    </tr>\n",
       "    <tr>\n",
       "      <th>CONTRIBUTIONS</th>\n",
       "      <td>2</td>\n",
       "      <td>6.030000e+03</td>\n",
       "    </tr>\n",
       "    <tr>\n",
       "      <th>EVENTS</th>\n",
       "      <td>37</td>\n",
       "      <td>2.442112e+05</td>\n",
       "    </tr>\n",
       "    <tr>\n",
       "      <th>FUNDRAISING</th>\n",
       "      <td>216</td>\n",
       "      <td>8.133166e+06</td>\n",
       "    </tr>\n",
       "    <tr>\n",
       "      <th>MATERIALS</th>\n",
       "      <td>93</td>\n",
       "      <td>1.930777e+04</td>\n",
       "    </tr>\n",
       "    <tr>\n",
       "      <th>OTHER</th>\n",
       "      <td>21197</td>\n",
       "      <td>3.136080e+08</td>\n",
       "    </tr>\n",
       "    <tr>\n",
       "      <th>TRANSFERS</th>\n",
       "      <td>1</td>\n",
       "      <td>2.750000e+05</td>\n",
       "    </tr>\n",
       "    <tr>\n",
       "      <th>TRAVEL</th>\n",
       "      <td>2198</td>\n",
       "      <td>1.123009e+06</td>\n",
       "    </tr>\n",
       "  </tbody>\n",
       "</table>\n",
       "</div>"
      ],
      "text/plain": [
       "                               disbursement_purpose_category  \\\n",
       "disbursement_purpose_category                                  \n",
       "ADMINISTRATIVE                                          3123   \n",
       "ADVERTISING                                             1061   \n",
       "CONTRIBUTIONS                                              2   \n",
       "EVENTS                                                    37   \n",
       "FUNDRAISING                                              216   \n",
       "MATERIALS                                                 93   \n",
       "OTHER                                                  21197   \n",
       "TRANSFERS                                                  1   \n",
       "TRAVEL                                                  2198   \n",
       "\n",
       "                               disbursement_amount  \n",
       "disbursement_purpose_category                       \n",
       "ADMINISTRATIVE                        4.454786e+06  \n",
       "ADVERTISING                           4.267981e+08  \n",
       "CONTRIBUTIONS                         6.030000e+03  \n",
       "EVENTS                                2.442112e+05  \n",
       "FUNDRAISING                           8.133166e+06  \n",
       "MATERIALS                             1.930777e+04  \n",
       "OTHER                                 3.136080e+08  \n",
       "TRANSFERS                             2.750000e+05  \n",
       "TRAVEL                                1.123009e+06  "
      ]
     },
     "execution_count": 43,
     "metadata": {},
     "output_type": "execute_result"
    }
   ],
   "source": [
    "df_biden.groupby('disbursement_purpose_category').agg({'disbursement_purpose_category':'count','disbursement_amount':'sum'})"
   ]
  },
  {
   "cell_type": "code",
   "execution_count": 59,
   "metadata": {},
   "outputs": [
    {
     "data": {
      "text/plain": [
       "754661617.3299999"
      ]
     },
     "execution_count": 59,
     "metadata": {},
     "output_type": "execute_result"
    }
   ],
   "source": [
    "df_biden.disbursement_amount.sum()"
   ]
  },
  {
   "cell_type": "markdown",
   "metadata": {},
   "source": [
    "## <div class=\"alert alert-block alert-success\"><center>Text Clustering - biden Part<center>"
   ]
  },
  {
   "cell_type": "code",
   "execution_count": 44,
   "metadata": {},
   "outputs": [],
   "source": [
    "# Import data for LDA analysis and return text_data\n",
    "import random\n",
    "text_data = []\n",
    "for line in df_biden['disbursement_description']:\n",
    "    tokens = prepare_text_for_lda(line)\n",
    "    if random.random() > .99:\n",
    "        #print(tokens)\n",
    "        text_data.append(tokens)"
   ]
  },
  {
   "cell_type": "code",
   "execution_count": 45,
   "metadata": {},
   "outputs": [],
   "source": [
    "from gensim import corpora \n",
    "dictionary = corpora.Dictionary(text_data)\n",
    "corpus = [dictionary.doc2bow(text) for text in text_data]\n",
    "import pickle\n",
    "pickle.dump(corpus, open('corpus.pkl', 'wb'))\n",
    "dictionary.save('dictionary.gensim')"
   ]
  },
  {
   "cell_type": "code",
   "execution_count": 57,
   "metadata": {},
   "outputs": [
    {
     "name": "stdout",
     "output_type": "stream",
     "text": [
      "(0, '0.163*\"credit\" + 0.117*\"consulting\" + 0.073*\"lodging\" + 0.072*\"utility\" + 0.050*\"strategic\" + 0.027*\"food\"')\n",
      "(1, '0.281*\"supply\" + 0.246*\"office\" + 0.084*\"fee\" + 0.084*\"processing\" + 0.049*\"subscription\" + 0.049*\"event\"')\n",
      "(2, '0.312*\"travel\" + 0.168*\"lodging\" + 0.062*\"rental\" + 0.047*\"medium\" + 0.047*\"vehicle\" + 0.047*\"production\"')\n",
      "(3, '0.689*\"payroll\" + 0.058*\"printing\" + 0.050*\"copying\" + 0.018*\"license\" + 0.018*\"internet\" + 0.018*\"polling\"')\n",
      "(4, '0.139*\"service\" + 0.105*\"parking\" + 0.054*\"per\" + 0.054*\"diem\" + 0.054*\"fee\" + 0.037*\"event\"')\n"
     ]
    }
   ],
   "source": [
    "import gensim # package for topic modeling\n",
    "NUM_TOPICS = 5 # trial number based on understanding of the data file & research aims\n",
    "ldamodel = gensim.models.ldamodel.LdaModel(corpus, num_topics = NUM_TOPICS, id2word=dictionary, passes=20)\n",
    "ldamodel.save('model.gensim')\n",
    "topics = ldamodel.print_topics(num_words=6)\n",
    "for topic in topics:\n",
    "    print(topic)"
   ]
  },
  {
   "cell_type": "code",
   "execution_count": 58,
   "metadata": {
    "scrolled": false
   },
   "outputs": [
    {
     "data": {
      "text/html": [
       "\n",
       "<link rel=\"stylesheet\" type=\"text/css\" href=\"https://cdn.rawgit.com/bmabey/pyLDAvis/files/ldavis.v1.0.0.css\">\n",
       "\n",
       "\n",
       "<div id=\"ldavis_el124031405323764525605218085506\"></div>\n",
       "<script type=\"text/javascript\">\n",
       "\n",
       "var ldavis_el124031405323764525605218085506_data = {\"mdsDat\": {\"x\": [-0.07324713177045361, -0.05085548744534804, -0.17363630577052697, 0.35352158782508625, -0.05578266283875739], \"y\": [-0.04612437821052373, 0.2739805378813403, -0.23670425682971266, -0.07342202493834732, 0.08227012209724371], \"topics\": [1, 2, 3, 4, 5], \"cluster\": [1, 1, 1, 1, 1], \"Freq\": [13.44658088684082, 20.8897705078125, 25.86561393737793, 23.730804443359375, 16.067228317260742]}, \"tinfo\": {\"Term\": [\"payroll\", \"travel\", \"supply\", \"office\", \"lodging\", \"credit\", \"service\", \"consulting\", \"parking\", \"fee\", \"processing\", \"utility\", \"rental\", \"printing\", \"per\", \"diem\", \"event\", \"strategic\", \"subscription\", \"copying\", \"vehicle\", \"production\", \"shipping\", \"medium\", \"equipment\", \"planning\", \"transporation\", \"video\", \"postage\", \"food\", \"credit\", \"consulting\", \"utility\", \"strategic\", \"food\", \"reimbursement\", \"cinematographer\", \"expense\", \"testing\", \"beverage\", \"production/\", \"lab\", \"advertising\", \"rent\", \"technology\", \"creative\", \"lodging\", \"security\", \"insurance\", \"music\", \"donor\", \"gift\", \"communication\", \"software\", \"research\", \"tax\", \"database\", \"phone\", \"photography\", \"buy\", \"office\", \"supply\", \"parking\", \"payroll\", \"travel\", \"transportation\", \"polling\", \"fuel\", \"internet\", \"supply\", \"office\", \"processing\", \"subscription\", \"fee\", \"database\", \"tax\", \"research\", \"phone\", \"communication\", \"event\", \"security\", \"insurance\", \"gift\", \"music\", \"donor\", \"software\", \"creative\", \"technology\", \"photography\", \"bank\", \"buy\", \"legal\", \"fundraising\", \"text\", \"rebate\", \"point\", \"messaging\", \"digital\", \"rent\", \"payroll\", \"credit\", \"polling\", \"travel\", \"consulting\", \"service\", \"lodging\", \"fuel\", \"transportation\", \"internet\", \"medium\", \"shipping\", \"parking\", \"travel\", \"rental\", \"vehicle\", \"production\", \"shipping\", \"postage\", \"computer\", \"lodging\", \"fuel\", \"medium\", \"hardware\", \"transportation\", \"software\", \"equipment\", \"creative\", \"technology\", \"insurance\", \"security\", \"gift\", \"donor\", \"music\", \"research\", \"tax\", \"database\", \"phone\", \"communication\", \"photography\", \"buy\", \"legal\", \"text\", \"digital\", \"consulting\", \"transporation\", \"payroll\", \"credit\", \"office\", \"internet\", \"polling\", \"parking\", \"supply\", \"fee\", \"payroll\", \"printing\", \"copying\", \"license\", \"internet\", \"polling\", \"donor\", \"gift\", \"music\", \"insurance\", \"security\", \"photo\", \"photography\", \"software\", \"creative\", \"technology\", \"research\", \"tax\", \"database\", \"phone\", \"communication\", \"buy\", \"text\", \"fundraising\", \"rebate\", \"legal\", \"point\", \"messaging\", \"digital\", \"bank\", \"video\", \"equipment\", \"computer\", \"diem\", \"per\", \"travel\", \"lodging\", \"fuel\", \"transportation\", \"office\", \"parking\", \"shipping\", \"supply\", \"service\", \"parking\", \"per\", \"diem\", \"planning\", \"transporation\", \"video\", \"point\", \"messaging\", \"digital\", \"rebate\", \"fundraising\", \"text\", \"bank\", \"legal\", \"buy\", \"photography\", \"photo\", \"equipment\", \"event\", \"fee\", \"medium\", \"security\", \"insurance\", \"music\", \"gift\", \"donor\", \"software\", \"creative\", \"technology\", \"phone\", \"office\", \"supply\", \"printing\", \"copying\", \"lodging\", \"rental\", \"processing\"], \"Freq\": [62.0, 31.0, 22.0, 20.0, 20.0, 8.0, 9.0, 6.0, 7.0, 10.0, 7.0, 4.0, 6.0, 5.0, 3.0, 3.0, 6.0, 3.0, 4.0, 5.0, 5.0, 5.0, 5.0, 6.0, 5.0, 2.0, 2.0, 2.0, 4.0, 2.0, 8.225372314453125, 5.922928810119629, 3.6584508419036865, 2.5152249336242676, 1.3719128370285034, 1.3719125986099243, 1.3719125986099243, 1.3719122409820557, 1.371911883354187, 1.371911644935608, 1.3719115257263184, 1.3719112873077393, 1.3718448877334595, 1.3676457405090332, 0.307445228099823, 0.30738380551338196, 3.693511962890625, 0.2288161665201187, 0.2288154661655426, 0.22873009741306305, 0.22872860729694366, 0.228728249669075, 0.25577402114868164, 0.22882139682769775, 0.22876839339733124, 0.2287680208683014, 0.22870831191539764, 0.2287682741880417, 0.22874236106872559, 0.22869592905044556, 0.27924221754074097, 0.24117548763751984, 0.22931337356567383, 0.22913609445095062, 0.22892393171787262, 0.22880686819553375, 0.22880207002162933, 0.2288004457950592, 0.2287997305393219, 22.107749938964844, 19.335229873657227, 6.580358505249023, 3.838693618774414, 6.5842671394348145, 1.0967142581939697, 1.0965869426727295, 1.0965855121612549, 1.083107352256775, 1.074981689453125, 3.8363654613494873, 0.18286877870559692, 0.18286751210689545, 0.18283194303512573, 0.1828317642211914, 0.1828315109014511, 0.18287073075771332, 0.18287424743175507, 0.1828746646642685, 0.18283711373806, 0.1828194111585617, 0.18281851708889008, 0.18281804025173187, 0.18281783163547516, 0.18281757831573486, 0.1828174591064453, 0.18281742930412292, 0.18281744420528412, 0.18281717598438263, 0.18618029356002808, 0.19640742242336273, 0.1876734346151352, 0.18332698941230774, 0.18579846620559692, 0.18431437015533447, 0.18381842970848083, 0.18293267488479614, 0.18286634981632233, 0.18286603689193726, 0.18286330997943878, 0.18284966051578522, 0.1828475296497345, 0.18284747004508972, 30.388961791992188, 6.048348903656006, 4.573397636413574, 4.573395252227783, 4.573334217071533, 3.835702657699585, 3.097698450088501, 16.352922439575195, 2.3602545261383057, 4.580020904541016, 1.622734546661377, 1.6225858926773071, 0.884894847869873, 3.0906965732574463, 0.8341726660728455, 0.8341317772865295, 0.1475677341222763, 0.1475672721862793, 0.14754806458950043, 0.14754794538021088, 0.14754800498485565, 0.14755798876285553, 0.1475578248500824, 0.14754348993301392, 0.14755643904209137, 0.14755675196647644, 0.14755184948444366, 0.14754383265972137, 0.14754095673561096, 0.1475408971309662, 0.1475408375263214, 0.16065292060375214, 0.14791633188724518, 0.14774060249328613, 0.14773420989513397, 0.14756914973258972, 0.14756612479686737, 0.14756599068641663, 0.1475590020418167, 0.14755859971046448, 0.14755722880363464, 61.433876037597656, 5.131441116333008, 4.418643474578857, 1.5680879354476929, 1.5679540634155273, 1.5675902366638184, 0.8552568554878235, 0.8552566170692444, 0.8552550077438354, 0.855106770992279, 0.8551048636436462, 0.850273609161377, 0.26712000370025635, 0.1426004022359848, 0.1426018923521042, 0.14260216057300568, 0.1425890326499939, 0.1425885111093521, 0.14257493615150452, 0.1425882875919342, 0.1425880342721939, 0.14257296919822693, 0.1425723433494568, 0.14257225394248962, 0.1425720602273941, 0.14257201552391052, 0.1425718069076538, 0.14257179200649261, 0.14257174730300903, 0.14257165789604187, 0.15161776542663574, 0.1520957350730896, 0.14293774962425232, 0.14292828738689423, 0.14292758703231812, 0.1426820158958435, 0.1426437795162201, 0.14260129630565643, 0.14259932935237885, 0.14259344339370728, 0.14259140193462372, 0.14259086549282074, 0.14258986711502075, 8.420014381408691, 6.366548538208008, 3.2857460975646973, 3.2857425212860107, 2.2593023777008057, 2.258683204650879, 2.2462613582611084, 1.2322973012924194, 1.2322973012924194, 1.2322970628738403, 1.2322968244552612, 1.2322953939437866, 1.232295036315918, 1.232295036315918, 1.2322942018508911, 1.2322875261306763, 1.0527387857437134, 1.2395509481430054, 2.2559075355529785, 2.2620458602905273, 3.2824361324310303, 1.2231237888336182, 0.20550093054771423, 0.20549942553043365, 0.20544198155403137, 0.20544108748435974, 0.20544102787971497, 0.20550529658794403, 0.20551182329654694, 0.2055126428604126, 0.2205970138311386, 0.20701974630355835, 0.207012340426445, 0.20649629831314087, 0.2064877450466156, 0.20610521733760834, 0.20596212148666382, 0.20594832301139832], \"Total\": [62.0, 31.0, 22.0, 20.0, 20.0, 8.0, 9.0, 6.0, 7.0, 10.0, 7.0, 4.0, 6.0, 5.0, 3.0, 3.0, 6.0, 3.0, 4.0, 5.0, 5.0, 5.0, 5.0, 6.0, 5.0, 2.0, 2.0, 2.0, 4.0, 2.0, 8.908780097961426, 6.6158976554870605, 4.336850643157959, 3.193561553955078, 2.050248861312866, 2.050248622894287, 2.050248861312866, 2.050248622894287, 2.050248622894287, 2.050248384475708, 2.050248622894287, 2.050248622894287, 2.050230026245117, 2.04938006401062, 1.672566533088684, 1.6725443601608276, 20.578113555908203, 1.6198580265045166, 1.619856834411621, 1.6198067665100098, 1.619805932044983, 1.619805932044983, 1.826369047164917, 1.6446926593780518, 1.8209701776504517, 1.8209702968597412, 1.8209679126739502, 1.8226172924041748, 1.8789901733398438, 1.933918833732605, 20.11165428161621, 22.846084594726562, 7.068860054016113, 62.212890625, 31.151941299438477, 2.3823533058166504, 2.332775831222534, 3.1200177669525146, 2.332672357559204, 22.846084594726562, 20.11165428161621, 7.305144309997559, 4.563029766082764, 10.38558292388916, 1.8209679126739502, 1.8209702968597412, 1.8209701776504517, 1.8226172924041748, 1.826369047164917, 6.617270469665527, 1.6198580265045166, 1.619856834411621, 1.619805932044983, 1.6198067665100098, 1.619805932044983, 1.6446926593780518, 1.6725443601608276, 1.672566533088684, 1.8789901733398438, 1.9339203834533691, 1.933918833732605, 1.9339206218719482, 1.9339205026626587, 1.93392014503479, 1.9339205026626587, 1.9339206218719482, 1.9339208602905273, 1.9339206218719482, 2.04938006401062, 62.212890625, 8.908780097961426, 2.332775831222534, 31.151941299438477, 6.6158976554870605, 9.122649192810059, 20.578113555908203, 3.1200177669525146, 2.3823533058166504, 2.332672357559204, 6.357338905334473, 5.332992076873779, 7.068860054016113, 31.151941299438477, 6.8084540367126465, 5.332973957061768, 5.332974433898926, 5.332992076873779, 4.595316410064697, 3.8576292991638184, 20.578113555908203, 3.1200177669525146, 6.357338905334473, 2.382310628890991, 2.3823533058166504, 1.6446926593780518, 5.910287857055664, 1.6725443601608276, 1.672566533088684, 1.619856834411621, 1.6198580265045166, 1.619805932044983, 1.619805932044983, 1.6198067665100098, 1.8209701776504517, 1.8209702968597412, 1.8209679126739502, 1.8226172924041748, 1.826369047164917, 1.8789901733398438, 1.933918833732605, 1.9339206218719482, 1.93392014503479, 1.9339206218719482, 6.6158976554870605, 2.9607462882995605, 62.212890625, 8.908780097961426, 20.11165428161621, 2.332672357559204, 2.332775831222534, 7.068860054016113, 22.846084594726562, 10.38558292388916, 62.212890625, 5.897067070007324, 5.184237480163574, 2.332627296447754, 2.332672357559204, 2.332775831222534, 1.619805932044983, 1.619805932044983, 1.6198067665100098, 1.619856834411621, 1.6198580265045166, 2.648968458175659, 1.8789901733398438, 1.6446926593780518, 1.6725443601608276, 1.672566533088684, 1.8209701776504517, 1.8209702968597412, 1.8209679126739502, 1.8226172924041748, 1.826369047164917, 1.933918833732605, 1.93392014503479, 1.9339205026626587, 1.9339205026626587, 1.9339206218719482, 1.9339206218719482, 1.9339208602905273, 1.9339206218719482, 1.9339203834533691, 2.9569151401519775, 5.910287857055664, 3.8576292991638184, 3.9877238273620605, 3.9877235889434814, 31.151941299438477, 20.578113555908203, 3.1200177669525146, 2.3823533058166504, 20.11165428161621, 7.068860054016113, 5.332992076873779, 22.846084594726562, 9.122649192810059, 7.068860054016113, 3.9877235889434814, 3.9877238273620605, 2.960904121398926, 2.9607462882995605, 2.9569151401519775, 1.9339206218719482, 1.9339208602905273, 1.9339206218719482, 1.9339205026626587, 1.9339205026626587, 1.93392014503479, 1.9339203834533691, 1.9339206218719482, 1.933918833732605, 1.8789901733398438, 2.648968458175659, 5.910287857055664, 6.617270469665527, 10.38558292388916, 6.357338905334473, 1.6198580265045166, 1.619856834411621, 1.6198067665100098, 1.619805932044983, 1.619805932044983, 1.6446926593780518, 1.6725443601608276, 1.672566533088684, 1.8226172924041748, 20.11165428161621, 22.846084594726562, 5.897067070007324, 5.184237480163574, 20.578113555908203, 6.8084540367126465, 7.305144309997559], \"Category\": [\"Default\", \"Default\", \"Default\", \"Default\", \"Default\", \"Default\", \"Default\", \"Default\", \"Default\", \"Default\", \"Default\", \"Default\", \"Default\", \"Default\", \"Default\", \"Default\", \"Default\", \"Default\", \"Default\", \"Default\", \"Default\", \"Default\", \"Default\", \"Default\", \"Default\", \"Default\", \"Default\", \"Default\", \"Default\", \"Default\", \"Topic1\", \"Topic1\", \"Topic1\", \"Topic1\", \"Topic1\", \"Topic1\", \"Topic1\", \"Topic1\", \"Topic1\", \"Topic1\", \"Topic1\", \"Topic1\", \"Topic1\", \"Topic1\", \"Topic1\", \"Topic1\", \"Topic1\", \"Topic1\", \"Topic1\", \"Topic1\", \"Topic1\", \"Topic1\", \"Topic1\", \"Topic1\", \"Topic1\", \"Topic1\", \"Topic1\", \"Topic1\", \"Topic1\", \"Topic1\", \"Topic1\", \"Topic1\", \"Topic1\", \"Topic1\", \"Topic1\", \"Topic1\", \"Topic1\", \"Topic1\", \"Topic1\", \"Topic2\", \"Topic2\", \"Topic2\", \"Topic2\", \"Topic2\", \"Topic2\", \"Topic2\", \"Topic2\", \"Topic2\", \"Topic2\", \"Topic2\", \"Topic2\", \"Topic2\", \"Topic2\", \"Topic2\", \"Topic2\", \"Topic2\", \"Topic2\", \"Topic2\", \"Topic2\", \"Topic2\", \"Topic2\", \"Topic2\", \"Topic2\", \"Topic2\", \"Topic2\", \"Topic2\", \"Topic2\", \"Topic2\", \"Topic2\", \"Topic2\", \"Topic2\", \"Topic2\", \"Topic2\", \"Topic2\", \"Topic2\", \"Topic2\", \"Topic2\", \"Topic2\", \"Topic2\", \"Topic2\", \"Topic2\", \"Topic2\", \"Topic3\", \"Topic3\", \"Topic3\", \"Topic3\", \"Topic3\", \"Topic3\", \"Topic3\", \"Topic3\", \"Topic3\", \"Topic3\", \"Topic3\", \"Topic3\", \"Topic3\", \"Topic3\", \"Topic3\", \"Topic3\", \"Topic3\", \"Topic3\", \"Topic3\", \"Topic3\", \"Topic3\", \"Topic3\", \"Topic3\", \"Topic3\", \"Topic3\", \"Topic3\", \"Topic3\", \"Topic3\", \"Topic3\", \"Topic3\", \"Topic3\", \"Topic3\", \"Topic3\", \"Topic3\", \"Topic3\", \"Topic3\", \"Topic3\", \"Topic3\", \"Topic3\", \"Topic3\", \"Topic3\", \"Topic4\", \"Topic4\", \"Topic4\", \"Topic4\", \"Topic4\", \"Topic4\", \"Topic4\", \"Topic4\", \"Topic4\", \"Topic4\", \"Topic4\", \"Topic4\", \"Topic4\", \"Topic4\", \"Topic4\", \"Topic4\", \"Topic4\", \"Topic4\", \"Topic4\", \"Topic4\", \"Topic4\", \"Topic4\", \"Topic4\", \"Topic4\", \"Topic4\", \"Topic4\", \"Topic4\", \"Topic4\", \"Topic4\", \"Topic4\", \"Topic4\", \"Topic4\", \"Topic4\", \"Topic4\", \"Topic4\", \"Topic4\", \"Topic4\", \"Topic4\", \"Topic4\", \"Topic4\", \"Topic4\", \"Topic4\", \"Topic4\", \"Topic5\", \"Topic5\", \"Topic5\", \"Topic5\", \"Topic5\", \"Topic5\", \"Topic5\", \"Topic5\", \"Topic5\", \"Topic5\", \"Topic5\", \"Topic5\", \"Topic5\", \"Topic5\", \"Topic5\", \"Topic5\", \"Topic5\", \"Topic5\", \"Topic5\", \"Topic5\", \"Topic5\", \"Topic5\", \"Topic5\", \"Topic5\", \"Topic5\", \"Topic5\", \"Topic5\", \"Topic5\", \"Topic5\", \"Topic5\", \"Topic5\", \"Topic5\", \"Topic5\", \"Topic5\", \"Topic5\", \"Topic5\", \"Topic5\", \"Topic5\"], \"logprob\": [30.0, 29.0, 28.0, 27.0, 26.0, 25.0, 24.0, 23.0, 22.0, 21.0, 20.0, 19.0, 18.0, 17.0, 16.0, 15.0, 14.0, 13.0, 12.0, 11.0, 10.0, 9.0, 8.0, 7.0, 6.0, 5.0, 4.0, 3.0, 2.0, 1.0, -1.8158999681472778, -2.1442999839782715, -2.6261000633239746, -3.0007998943328857, -3.6068999767303467, -3.6068999767303467, -3.6068999767303467, -3.6068999767303467, -3.6068999767303467, -3.6068999767303467, -3.6068999767303467, -3.6068999767303467, -3.6070001125335693, -3.610100030899048, -5.10260009765625, -5.102799892425537, -2.6166000366210938, -5.3979997634887695, -5.3979997634887695, -5.398399829864502, -5.398399829864502, -5.398399829864502, -5.286600112915039, -5.3979997634887695, -5.398200035095215, -5.398200035095215, -5.398499965667725, -5.398200035095215, -5.3983001708984375, -5.398499965667725, -5.198800086975098, -5.345399856567383, -5.3958001136779785, -5.396599769592285, -5.397500038146973, -5.3979997634887695, -5.3979997634887695, -5.3979997634887695, -5.398099899291992, -1.267799973487854, -1.4017000198364258, -2.479599952697754, -3.0185000896453857, -2.4790000915527344, -4.271399974822998, -4.271500110626221, -4.271500110626221, -4.28380012512207, -4.291399955749512, -3.019200086593628, -6.062699794769287, -6.062699794769287, -6.062900066375732, -6.062900066375732, -6.062900066375732, -6.062699794769287, -6.062600135803223, -6.062600135803223, -6.06279993057251, -6.062900066375732, -6.062900066375732, -6.062900066375732, -6.062900066375732, -6.062900066375732, -6.062900066375732, -6.062900066375732, -6.062900066375732, -6.062900066375732, -6.0447001457214355, -5.991199970245361, -6.0366997718811035, -6.060200214385986, -6.046800136566162, -6.054800033569336, -6.057499885559082, -6.062300205230713, -6.062699794769287, -6.062699794769287, -6.062699794769287, -6.06279993057251, -6.06279993057251, -6.06279993057251, -1.1633000373840332, -2.7774999141693115, -3.0571000576019287, -3.0571000576019287, -3.0571000576019287, -3.2330000400543213, -3.446700096130371, -1.7828999757766724, -3.718600034713745, -3.0555999279022217, -4.093200206756592, -4.093299865722656, -4.6996002197265625, -3.448899984359741, -4.758600234985352, -4.758699893951416, -6.490799903869629, -6.490799903869629, -6.490900039672852, -6.490900039672852, -6.490900039672852, -6.490900039672852, -6.490900039672852, -6.491000175476074, -6.490900039672852, -6.490900039672852, -6.490900039672852, -6.491000175476074, -6.491000175476074, -6.491000175476074, -6.491000175476074, -6.405799865722656, -6.488399982452393, -6.48960018157959, -6.489699840545654, -6.490799903869629, -6.490799903869629, -6.490799903869629, -6.490900039672852, -6.490900039672852, -6.490900039672852, -0.373199999332428, -2.855799913406372, -3.0053999423980713, -4.041299819946289, -4.041399955749512, -4.0416998863220215, -4.647500038146973, -4.647500038146973, -4.647500038146973, -4.64769983291626, -4.64769983291626, -4.65339994430542, -5.811299800872803, -6.438899993896484, -6.438899993896484, -6.438899993896484, -6.439000129699707, -6.439000129699707, -6.4390997886657715, -6.439000129699707, -6.439000129699707, -6.4390997886657715, -6.4390997886657715, -6.4390997886657715, -6.4390997886657715, -6.4390997886657715, -6.4390997886657715, -6.4390997886657715, -6.4390997886657715, -6.4390997886657715, -6.377600193023682, -6.3744001388549805, -6.436500072479248, -6.436600208282471, -6.436600208282471, -6.438300132751465, -6.438600063323975, -6.438899993896484, -6.438899993896484, -6.439000129699707, -6.439000129699707, -6.439000129699707, -6.439000129699707, -1.9706000089645386, -2.2500998973846436, -2.911600112915039, -2.911600112915039, -3.286099910736084, -3.286400079727173, -3.2918999195098877, -3.8922998905181885, -3.8922998905181885, -3.8922998905181885, -3.8922998905181885, -3.8922998905181885, -3.8922998905181885, -3.8922998905181885, -3.8922998905181885, -3.8922998905181885, -4.049799919128418, -3.8864998817443848, -3.287600040435791, -3.284899950027466, -2.912600040435791, -3.8998000621795654, -5.683499813079834, -5.683499813079834, -5.683800220489502, -5.683800220489502, -5.683800220489502, -5.683499813079834, -5.683499813079834, -5.6834001541137695, -5.612599849700928, -5.67609977722168, -5.676199913024902, -5.678699970245361, -5.678699970245361, -5.680600166320801, -5.681300163269043, -5.681300163269043], \"loglift\": [30.0, 29.0, 28.0, 27.0, 26.0, 25.0, 24.0, 23.0, 22.0, 21.0, 20.0, 19.0, 18.0, 17.0, 16.0, 15.0, 14.0, 13.0, 12.0, 11.0, 10.0, 9.0, 8.0, 7.0, 6.0, 5.0, 4.0, 3.0, 2.0, 1.0, 1.9265999794006348, 1.895799994468689, 1.836300015449524, 1.767699956893921, 1.604699969291687, 1.604699969291687, 1.604699969291687, 1.604699969291687, 1.604699969291687, 1.604699969291687, 1.604699969291687, 1.604699969291687, 1.604599952697754, 1.6019999980926514, 0.3125999867916107, 0.3124000132083893, 0.2888000011444092, 0.049300000071525574, 0.049300000071525574, 0.048900000751018524, 0.048900000751018524, 0.048900000751018524, 0.040699999779462814, 0.0340999998152256, -0.06800000369548798, -0.06800000369548798, -0.0681999996304512, -0.06889999657869339, -0.09939999878406525, -0.12849999964237213, -2.2704999446868896, -2.544600009918213, -1.4219000339508057, -3.597599983215332, -2.9068000316619873, -0.33649998903274536, -0.3154999911785126, -0.6062999963760376, -0.3154999911785126, 1.5331000089645386, 1.5264999866485596, 1.461400032043457, 1.3931000232696533, 1.110200047492981, 1.058899998664856, 1.0586999654769897, 1.0586999654769897, 1.0455000400543213, 1.0358999967575073, 1.020799994468689, -0.6154000163078308, -0.6154000163078308, -0.6155999898910522, -0.6155999898910522, -0.6155999898910522, -0.6305999755859375, -0.6474000215530396, -0.6474000215530396, -0.7639999985694885, -0.792900025844574, -0.792900025844574, -0.792900025844574, -0.792900025844574, -0.792900025844574, -0.792900025844574, -0.792900025844574, -0.792900025844574, -0.792900025844574, -0.8327000141143799, -4.192200183868408, -2.2941999435424805, -0.9775999784469604, -3.5560998916625977, -2.014699935913086, -2.33870005607605, -3.1570000648498535, -1.270900011062622, -1.0011999607086182, -0.9800999760627747, -1.982800006866455, -1.8071000576019287, -2.088900089263916, 1.3274999856948853, 1.2338999509811401, 1.1986000537872314, 1.1986000537872314, 1.1986000537872314, 1.1715999841690063, 1.1328999996185303, 1.1224000453948975, 1.073199987411499, 1.0242999792099, 0.9682999849319458, 0.9682000279426575, 0.7324000000953674, 0.7039999961853027, 0.6565999984741211, 0.656499981880188, -1.0434999465942383, -1.0435999631881714, -1.0436999797821045, -1.0436999797821045, -1.0436999797821045, -1.160599946975708, -1.160599946975708, -1.1606999635696411, -1.1615999937057495, -1.163599967956543, -1.1921000480651855, -1.220900058746338, -1.220900058746338, -1.220900058746338, -1.220900058746338, -2.3657000064849854, -1.6442999839782715, -4.6905999183654785, -2.7471001148223877, -3.5625, -1.4082000255584717, -1.4083000421524048, -2.5169999599456787, -3.6900999546051025, -2.901700019836426, 1.4257999658584595, 1.299299955368042, 1.2785999774932861, 1.0413000583648682, 1.041200041770935, 1.0408999919891357, 0.7997000217437744, 0.7997000217437744, 0.7997000217437744, 0.7994999885559082, 0.7994999885559082, 0.3019999861717224, -0.5123999714851379, -1.0068999528884888, -1.0235999822616577, -1.0236999988555908, -1.1088000535964966, -1.1088000535964966, -1.1088999509811401, -1.1096999645233154, -1.1117000579833984, -1.169100046157837, -1.169100046157837, -1.169100046157837, -1.169100046157837, -1.169100046157837, -1.169100046157837, -1.169100046157837, -1.169100046157837, -1.169100046157837, -1.532099962234497, -2.2214999198913574, -1.8569999933242798, -1.8902000188827515, -1.8902000188827515, -3.9475998878479004, -3.5332000255584717, -1.6470999717712402, -1.3774000406265259, -3.510699987411499, -2.465100049972534, -2.183300018310547, -3.638200044631958, 1.7482000589370728, 1.7237000465393066, 1.6347999572753906, 1.6347999572753906, 1.5579999685287476, 1.5577000379562378, 1.5535000562667847, 1.3776999711990356, 1.3776999711990356, 1.3776999711990356, 1.3776999711990356, 1.3776999711990356, 1.3776999711990356, 1.3776999711990356, 1.3776999711990356, 1.3776999711990356, 1.2489999532699585, 1.069000005722046, 0.8651999831199646, 0.7549999952316284, 0.6765999794006348, 0.18019999563694, -0.2363000065088272, -0.2363000065088272, -0.23649999499320984, -0.23649999499320984, -0.23649999499320984, -0.2513999938964844, -0.26820001006126404, -0.26820001006126404, -0.2833000123500824, -2.7479000091552734, -2.8754000663757324, -1.5234999656677246, -1.394700050354004, -2.7751998901367188, -1.669800043106079, -1.7403000593185425]}, \"token.table\": {\"Topic\": [1, 5, 1, 5, 1, 2, 3, 1, 4, 3, 1, 2, 5, 5, 4, 3, 5, 2, 5, 1, 2, 5, 1, 3, 5, 4, 3, 4, 4, 1, 5, 4, 1, 3, 3, 5, 5, 4, 2, 5, 4, 5, 2, 4, 5, 5, 5, 5, 4, 3, 4, 2, 3, 1, 5, 1, 1, 3, 2, 4, 5, 3, 3, 1, 2, 2, 2, 3, 1, 5, 5, 3, 3, 1, 3, 5], \"Freq\": [0.4877501428127289, 0.5170843601226807, 0.4877457916736603, 0.5170847773551941, 0.4877456724643707, 0.5475344657897949, 0.7776796817779541, 0.9069064259529114, 0.7715696096420288, 0.5978914499282837, 0.8979905247688293, 0.54915851354599, 0.7523088455200195, 0.5170843005180359, 0.6173579096794128, 0.5075895190238953, 0.3383930027484894, 0.6044788360595703, 0.30223941802978516, 0.4877457320690155, 0.6740112900733948, 0.2888619899749756, 0.4877456724643707, 0.6410219669342041, 0.5170843601226807, 0.6173579096794128, 0.8395211100578308, 0.6173384785652161, 0.8573857545852661, 0.4877457320690155, 0.5170843005180359, 0.8574023246765137, 0.19438128173351288, 0.7775251269340515, 0.7864925861358643, 0.1572985202074051, 0.5170842409133911, 0.617357611656189, 0.9447258710861206, 0.8487931489944458, 0.9805042147636414, 0.7523089051246643, 0.5486615300178528, 0.37750545144081116, 0.37750545144081116, 0.5322007536888123, 0.6754693388938904, 0.5170843005180359, 0.8573477268218994, 0.8704515099525452, 0.8478791117668152, 0.9582288265228271, 0.9375631213188171, 0.4877457320690155, 0.5170843601226807, 0.4877457320690155, 0.48795244097709656, 0.8812573552131653, 0.5491577982902527, 0.6173380613327026, 0.8769382238388062, 0.937559962272644, 0.608016312122345, 0.9393900632858276, 0.876610517501831, 0.9629659056663513, 0.5491577982902527, 0.5978835225105286, 0.4877457320690155, 0.5170844197273254, 0.6755053400993347, 0.8395060300827026, 0.9630218744277954, 0.9223282933235168, 0.9375631809234619, 0.6763805747032166], \"Term\": [\"advertising\", \"bank\", \"beverage\", \"buy\", \"cinematographer\", \"communication\", \"computer\", \"consulting\", \"copying\", \"creative\", \"credit\", \"database\", \"diem\", \"digital\", \"donor\", \"equipment\", \"equipment\", \"event\", \"event\", \"expense\", \"fee\", \"fee\", \"food\", \"fuel\", \"fundraising\", \"gift\", \"hardware\", \"insurance\", \"internet\", \"lab\", \"legal\", \"license\", \"lodging\", \"lodging\", \"medium\", \"medium\", \"messaging\", \"music\", \"office\", \"parking\", \"payroll\", \"per\", \"phone\", \"photo\", \"photo\", \"photography\", \"planning\", \"point\", \"polling\", \"postage\", \"printing\", \"processing\", \"production\", \"production/\", \"rebate\", \"reimbursement\", \"rent\", \"rental\", \"research\", \"security\", \"service\", \"shipping\", \"software\", \"strategic\", \"subscription\", \"supply\", \"tax\", \"technology\", \"testing\", \"text\", \"transporation\", \"transportation\", \"travel\", \"utility\", \"vehicle\", \"video\"]}, \"R\": 30, \"lambda.step\": 0.01, \"plot.opts\": {\"xlab\": \"PC1\", \"ylab\": \"PC2\"}, \"topic.order\": [1, 2, 3, 4, 5]};\n",
       "\n",
       "function LDAvis_load_lib(url, callback){\n",
       "  var s = document.createElement('script');\n",
       "  s.src = url;\n",
       "  s.async = true;\n",
       "  s.onreadystatechange = s.onload = callback;\n",
       "  s.onerror = function(){console.warn(\"failed to load library \" + url);};\n",
       "  document.getElementsByTagName(\"head\")[0].appendChild(s);\n",
       "}\n",
       "\n",
       "if(typeof(LDAvis) !== \"undefined\"){\n",
       "   // already loaded: just create the visualization\n",
       "   !function(LDAvis){\n",
       "       new LDAvis(\"#\" + \"ldavis_el124031405323764525605218085506\", ldavis_el124031405323764525605218085506_data);\n",
       "   }(LDAvis);\n",
       "}else if(typeof define === \"function\" && define.amd){\n",
       "   // require.js is available: use it to load d3/LDAvis\n",
       "   require.config({paths: {d3: \"https://cdnjs.cloudflare.com/ajax/libs/d3/3.5.5/d3.min\"}});\n",
       "   require([\"d3\"], function(d3){\n",
       "      window.d3 = d3;\n",
       "      LDAvis_load_lib(\"https://cdn.rawgit.com/bmabey/pyLDAvis/files/ldavis.v1.0.0.js\", function(){\n",
       "        new LDAvis(\"#\" + \"ldavis_el124031405323764525605218085506\", ldavis_el124031405323764525605218085506_data);\n",
       "      });\n",
       "    });\n",
       "}else{\n",
       "    // require.js not available: dynamically load d3 & LDAvis\n",
       "    LDAvis_load_lib(\"https://cdnjs.cloudflare.com/ajax/libs/d3/3.5.5/d3.min.js\", function(){\n",
       "         LDAvis_load_lib(\"https://cdn.rawgit.com/bmabey/pyLDAvis/files/ldavis.v1.0.0.js\", function(){\n",
       "                 new LDAvis(\"#\" + \"ldavis_el124031405323764525605218085506\", ldavis_el124031405323764525605218085506_data);\n",
       "            })\n",
       "         });\n",
       "}\n",
       "</script>"
      ],
      "text/plain": [
       "<IPython.core.display.HTML object>"
      ]
     },
     "execution_count": 58,
     "metadata": {},
     "output_type": "execute_result"
    }
   ],
   "source": [
    "import pyLDAvis.gensim \n",
    "dictionary = gensim.corpora.Dictionary.load('dictionary.gensim')\n",
    "corpus = pickle.load(open('corpus.pkl', 'rb'))\n",
    "lda = gensim.models.ldamodel.LdaModel.load('model.gensim')\n",
    "lda_display = pyLDAvis.gensim.prepare(lda, corpus, dictionary, sort_topics=False)\n",
    "pyLDAvis.display(lda_display) "
   ]
  },
  {
   "cell_type": "code",
   "execution_count": null,
   "metadata": {},
   "outputs": [],
   "source": []
  }
 ],
 "metadata": {
  "kernelspec": {
   "display_name": "Python 3",
   "language": "python",
   "name": "python3"
  },
  "language_info": {
   "codemirror_mode": {
    "name": "ipython",
    "version": 3
   },
   "file_extension": ".py",
   "mimetype": "text/x-python",
   "name": "python",
   "nbconvert_exporter": "python",
   "pygments_lexer": "ipython3",
   "version": "3.8.3"
  }
 },
 "nbformat": 4,
 "nbformat_minor": 4
}
