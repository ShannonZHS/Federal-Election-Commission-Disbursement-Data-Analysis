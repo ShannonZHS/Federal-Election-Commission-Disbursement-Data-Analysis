{
 "cells": [
  {
   "cell_type": "markdown",
   "metadata": {},
   "source": [
    "## <div class=\"alert alert-block alert-success\"><center>Data Preparation - Obama Part<center>"
   ]
  },
  {
   "cell_type": "code",
   "execution_count": 1,
   "metadata": {
    "scrolled": true
   },
   "outputs": [
    {
     "name": "stdout",
     "output_type": "stream",
     "text": [
      "Populating the interactive namespace from numpy and matplotlib\n"
     ]
    },
    {
     "name": "stderr",
     "output_type": "stream",
     "text": [
      "/Users/zhanghuishan/opt/anaconda3/lib/python3.8/site-packages/IPython/core/interactiveshell.py:3071: DtypeWarning: Columns (10,11,14,64) have mixed types.Specify dtype option on import or set low_memory=False.\n",
      "  has_raised = await self.run_ast_nodes(code_ast.body, cell_name,\n"
     ]
    }
   ],
   "source": [
    "%pylab inline\n",
    "import pandas as pd\n",
    "df_obama2=pd.read_csv('obama2012.csv')"
   ]
  },
  {
   "cell_type": "code",
   "execution_count": 2,
   "metadata": {},
   "outputs": [
    {
     "data": {
      "text/plain": [
       "118455"
      ]
     },
     "execution_count": 2,
     "metadata": {},
     "output_type": "execute_result"
    }
   ],
   "source": [
    "len(df_obama2)"
   ]
  },
  {
   "cell_type": "code",
   "execution_count": 3,
   "metadata": {},
   "outputs": [],
   "source": [
    "df_obama2 = df_obama2[['committee_id', 'report_year', 'disbursement_date','recipient_name',\\\n",
    "                     'recipient_state','recipient_city',\\\n",
    "                     'disbursement_purpose_category','disbursement_description','disbursement_amount']]"
   ]
  },
  {
   "cell_type": "code",
   "execution_count": 4,
   "metadata": {
    "scrolled": true
   },
   "outputs": [
    {
     "data": {
      "text/html": [
       "<div>\n",
       "<style scoped>\n",
       "    .dataframe tbody tr th:only-of-type {\n",
       "        vertical-align: middle;\n",
       "    }\n",
       "\n",
       "    .dataframe tbody tr th {\n",
       "        vertical-align: top;\n",
       "    }\n",
       "\n",
       "    .dataframe thead th {\n",
       "        text-align: right;\n",
       "    }\n",
       "</style>\n",
       "<table border=\"1\" class=\"dataframe\">\n",
       "  <thead>\n",
       "    <tr style=\"text-align: right;\">\n",
       "      <th></th>\n",
       "      <th>committee_id</th>\n",
       "      <th>report_year</th>\n",
       "      <th>disbursement_date</th>\n",
       "      <th>recipient_name</th>\n",
       "      <th>recipient_state</th>\n",
       "      <th>recipient_city</th>\n",
       "      <th>disbursement_purpose_category</th>\n",
       "      <th>disbursement_description</th>\n",
       "      <th>disbursement_amount</th>\n",
       "    </tr>\n",
       "  </thead>\n",
       "  <tbody>\n",
       "    <tr>\n",
       "      <th>0</th>\n",
       "      <td>C00431445</td>\n",
       "      <td>2012</td>\n",
       "      <td>12/31/12 0:00</td>\n",
       "      <td>ZISMAN, PARVIN A.</td>\n",
       "      <td>NY</td>\n",
       "      <td>NEW YORK</td>\n",
       "      <td>REFUNDS</td>\n",
       "      <td>CHARGEBACK</td>\n",
       "      <td>25.00</td>\n",
       "    </tr>\n",
       "    <tr>\n",
       "      <th>1</th>\n",
       "      <td>C00431445</td>\n",
       "      <td>2012</td>\n",
       "      <td>12/31/12 0:00</td>\n",
       "      <td>ZEHNER, CORNELIA G MS.</td>\n",
       "      <td>TX</td>\n",
       "      <td>DALLAS</td>\n",
       "      <td>OTHER</td>\n",
       "      <td>DISGORGED TO US TREASURY</td>\n",
       "      <td>360.87</td>\n",
       "    </tr>\n",
       "    <tr>\n",
       "      <th>2</th>\n",
       "      <td>C00431445</td>\n",
       "      <td>2012</td>\n",
       "      <td>12/31/12 0:00</td>\n",
       "      <td>ZEHNER, CORNELIA G MS.</td>\n",
       "      <td>TX</td>\n",
       "      <td>DALLAS</td>\n",
       "      <td>OTHER</td>\n",
       "      <td>CONTRIBUTION REFUND</td>\n",
       "      <td>-360.87</td>\n",
       "    </tr>\n",
       "    <tr>\n",
       "      <th>3</th>\n",
       "      <td>C00431445</td>\n",
       "      <td>2012</td>\n",
       "      <td>12/31/12 0:00</td>\n",
       "      <td>YOUNGSTEIN, KENNETH</td>\n",
       "      <td>NaN</td>\n",
       "      <td>SWITZERLAND</td>\n",
       "      <td>OTHER</td>\n",
       "      <td>CONTRIBUTION REFUND</td>\n",
       "      <td>250.00</td>\n",
       "    </tr>\n",
       "    <tr>\n",
       "      <th>4</th>\n",
       "      <td>C00431445</td>\n",
       "      <td>2012</td>\n",
       "      <td>12/31/12 0:00</td>\n",
       "      <td>YEAGER, BETH ANNE MS</td>\n",
       "      <td>WI</td>\n",
       "      <td>MADISON</td>\n",
       "      <td>REFUNDS</td>\n",
       "      <td>VOIDED CHECK</td>\n",
       "      <td>-200.00</td>\n",
       "    </tr>\n",
       "  </tbody>\n",
       "</table>\n",
       "</div>"
      ],
      "text/plain": [
       "  committee_id  report_year disbursement_date          recipient_name  \\\n",
       "0    C00431445         2012     12/31/12 0:00       ZISMAN, PARVIN A.   \n",
       "1    C00431445         2012     12/31/12 0:00  ZEHNER, CORNELIA G MS.   \n",
       "2    C00431445         2012     12/31/12 0:00  ZEHNER, CORNELIA G MS.   \n",
       "3    C00431445         2012     12/31/12 0:00     YOUNGSTEIN, KENNETH   \n",
       "4    C00431445         2012     12/31/12 0:00    YEAGER, BETH ANNE MS   \n",
       "\n",
       "  recipient_state recipient_city disbursement_purpose_category  \\\n",
       "0              NY       NEW YORK                       REFUNDS   \n",
       "1              TX         DALLAS                         OTHER   \n",
       "2              TX         DALLAS                         OTHER   \n",
       "3             NaN    SWITZERLAND                         OTHER   \n",
       "4              WI        MADISON                       REFUNDS   \n",
       "\n",
       "   disbursement_description  disbursement_amount  \n",
       "0                CHARGEBACK                25.00  \n",
       "1  DISGORGED TO US TREASURY               360.87  \n",
       "2       CONTRIBUTION REFUND              -360.87  \n",
       "3       CONTRIBUTION REFUND               250.00  \n",
       "4              VOIDED CHECK              -200.00  "
      ]
     },
     "execution_count": 4,
     "metadata": {},
     "output_type": "execute_result"
    }
   ],
   "source": [
    "df_obama2.head() "
   ]
  },
  {
   "cell_type": "code",
   "execution_count": 2,
   "metadata": {},
   "outputs": [],
   "source": [
    "df_obama2.drop(df_obama2[df_obama2['disbursement_purpose_category'] == 'REFUNDS'].index, inplace = True) \n",
    "df_obama2.drop(df_obama2[df_obama2['disbursement_description'] == 'CONTRIBUTION REFUND'].index, inplace = True) \n",
    "df_obama2 = df_obama2[df_obama2['disbursement_description'].notna()]"
   ]
  },
  {
   "cell_type": "code",
   "execution_count": 6,
   "metadata": {
    "scrolled": true
   },
   "outputs": [
    {
     "data": {
      "text/plain": [
       "committee_id                      0\n",
       "report_year                       0\n",
       "disbursement_date                 0\n",
       "recipient_name                    0\n",
       "recipient_state                  45\n",
       "recipient_city                   20\n",
       "disbursement_purpose_category     0\n",
       "disbursement_description          0\n",
       "disbursement_amount               0\n",
       "dtype: int64"
      ]
     },
     "execution_count": 6,
     "metadata": {},
     "output_type": "execute_result"
    }
   ],
   "source": [
    "df_obama2.isnull().sum()"
   ]
  },
  {
   "cell_type": "code",
   "execution_count": 7,
   "metadata": {},
   "outputs": [
    {
     "data": {
      "text/plain": [
       "114"
      ]
     },
     "execution_count": 7,
     "metadata": {},
     "output_type": "execute_result"
    }
   ],
   "source": [
    "df_obama2.disbursement_description.nunique()"
   ]
  },
  {
   "cell_type": "code",
   "execution_count": 8,
   "metadata": {},
   "outputs": [
    {
     "data": {
      "text/plain": [
       "array(['DISGORGED TO US TREASURY', 'CHARGEBACK', 'VOIDED CHECK',\n",
       "       'CREDIT CARD FEES', 'PAYROLL TAXES', 'UTILITIES', 'RENT/OCCUPANCY',\n",
       "       'EQUIPMENT MAINTENANCE', 'DISGORGEMENT', 'LICENSE FEES',\n",
       "       'INSURANCE', 'TRAVEL/LODGING', 'PARKING', 'OFFICE SUPPLIES',\n",
       "       'PRINTING', 'POSTAGE', 'CATERING/FACILITIES', 'DELIVERY',\n",
       "       'MEDIA BUY', 'INTERPRETING SERVICE', 'EQUIPMENT RENTAL',\n",
       "       'EVENT SITE RENTAL', 'TELEMARKETING', 'TELEPHONE',\n",
       "       'WEB SITE HOSTING', 'TECHNOLOGY CONSULTING',\n",
       "       'STAGING, SOUND, LIGHTING', 'EVENT PLANNING SERV.', 'PAYROLL',\n",
       "       'REVENUE PROCESSING FEES', 'COMPUTER EQUIPMENT',\n",
       "       'PAYROLL PROCESSING FEE', 'MEDIA PRODUCTION',\n",
       "       'CONS./PROF.SERV. MEDIA', 'STRATEGIC CONSULTING SERVICES',\n",
       "       'VIDEO PRODUCTION', 'PRINT ADVERTISING', 'SECURITY',\n",
       "       'COMPUTER SOFTWARE', 'ON-LINE ADVERTISING',\n",
       "       'PUBLICATIONS/ SUBSCRIPTIONS', 'POLLING', 'TECHNOLOGY SERVICES',\n",
       "       'EVENT PLANNING SERVICES', 'TEXT MESSAGES', 'PHOTOGRAPHY',\n",
       "       'OFFICE FURNITURE', 'TRAVEL AGENCY FEES',\n",
       "       'UNLIMITED TRANSFER STATE PARTY COMM.', 'WAGE GARNISHMENT',\n",
       "       'LEGAL SERVICES', 'RESEARCH MATERIALS', 'DECORATIONS',\n",
       "       'CONS./ACCT.SERV.', 'MEDIA CONSULTING', 'DEPOSIT ON ACCOUNT',\n",
       "       'FUEL COSTS', 'CONS./PROF.SERV. RESEARCH',\n",
       "       'EVENT SITE RENTAL IN-KIND', 'CONS./PROF.SERV. FUNDRAISING',\n",
       "       'EVENT SITE SUPPLIES', 'CAMPAIGN STORE MERCHANDISE',\n",
       "       'ADVANCE DEPOSIT', 'BANK CHARGES/FEES', 'FEC FEES', 'EQUIPMENT',\n",
       "       'TELEPHONE IN-KIND', 'UNLIMITED TRANSFER NATIONAL PARTY',\n",
       "       'STAFF AND BENEFITS IN-KIND', 'RENT/OCCUPANCY IN-KIND',\n",
       "       'CONFERENCE AND TRAINING FEES', 'UTILITIES IN-KIND',\n",
       "       'COMPUTER EQUIP. IN-KIND', 'TRANSLATION', 'RESEARCH SERVICES',\n",
       "       'MAILING', 'SECURITY DEPOSIT', 'CONTRIBUTION PROCESSING FEES',\n",
       "       'TRANSPORTATION', 'OFFICE SUPPLIES IN-KIND',\n",
       "       'CATERING/FACILITIES IN-KIND', 'INTERNET', 'DECORATIONS IN KIND',\n",
       "       'TRAVEL/LODGING IN-KIND', 'TRANSFER', 'POSTAGE IN-KIND',\n",
       "       'INTERNET IN-KIND', 'LIST RENTAL MARKET VALUE',\n",
       "       'CONSULT/FUNDRAISING PROFESS. SERVICES', 'STORAGE',\n",
       "       'PRINTING IN-KIND', 'CONS./FUNDRAISING REIMBURSEMENT', 'TAXES',\n",
       "       'DOMAIN WEBSITES', 'STATE & LOCAL TAXES & FEES',\n",
       "       'EQUIPMENT IN-KIND', 'CONFERENCE FEES', 'RENT', 'PER DIEM',\n",
       "       'CATERING/FACILITIES REFUND', 'CONS./PROF. SERV. COMMUNICATIONS',\n",
       "       'ENTERTAINMENT', 'VENUE RENTAL', 'FEC FEE - BIDEN RESOLUTION',\n",
       "       'VENUE PAYMENT', 'OFFICE EXPENSES', 'TRAVEL EXPENSES', 'FLORAL',\n",
       "       'OFFICE RENT', 'BUS RENTAL', 'EVENT CONSULTING', 'CONTRIBUTION',\n",
       "       'COMPUTER EQUIP', 'PHONEBANKING'], dtype=object)"
      ]
     },
     "execution_count": 8,
     "metadata": {},
     "output_type": "execute_result"
    }
   ],
   "source": [
    "df_obama2.disbursement_description.unique()"
   ]
  },
  {
   "cell_type": "code",
   "execution_count": 9,
   "metadata": {},
   "outputs": [
    {
     "data": {
      "text/plain": [
       "84116"
      ]
     },
     "execution_count": 9,
     "metadata": {},
     "output_type": "execute_result"
    }
   ],
   "source": [
    "len(df_obama2)"
   ]
  },
  {
   "cell_type": "code",
   "execution_count": 10,
   "metadata": {},
   "outputs": [],
   "source": [
    "catsum = df_obama2.groupby('disbursement_description').agg({'disbursement_description':'count','disbursement_amount':'sum'})"
   ]
  },
  {
   "cell_type": "code",
   "execution_count": 11,
   "metadata": {},
   "outputs": [],
   "source": [
    "catsum.rename(columns={'disbursement_description':'count'}, inplace=True)"
   ]
  },
  {
   "cell_type": "code",
   "execution_count": 12,
   "metadata": {
    "scrolled": true
   },
   "outputs": [
    {
     "data": {
      "text/html": [
       "<div>\n",
       "<style scoped>\n",
       "    .dataframe tbody tr th:only-of-type {\n",
       "        vertical-align: middle;\n",
       "    }\n",
       "\n",
       "    .dataframe tbody tr th {\n",
       "        vertical-align: top;\n",
       "    }\n",
       "\n",
       "    .dataframe thead th {\n",
       "        text-align: right;\n",
       "    }\n",
       "</style>\n",
       "<table border=\"1\" class=\"dataframe\">\n",
       "  <thead>\n",
       "    <tr style=\"text-align: right;\">\n",
       "      <th></th>\n",
       "      <th>count</th>\n",
       "      <th>disbursement_amount</th>\n",
       "    </tr>\n",
       "    <tr>\n",
       "      <th>disbursement_description</th>\n",
       "      <th></th>\n",
       "      <th></th>\n",
       "    </tr>\n",
       "  </thead>\n",
       "  <tbody>\n",
       "    <tr>\n",
       "      <th>TRAVEL/LODGING</th>\n",
       "      <td>29867</td>\n",
       "      <td>2.272525e+07</td>\n",
       "    </tr>\n",
       "    <tr>\n",
       "      <th>PAYROLL</th>\n",
       "      <td>16156</td>\n",
       "      <td>3.064731e+07</td>\n",
       "    </tr>\n",
       "    <tr>\n",
       "      <th>TRAVEL AGENCY FEES</th>\n",
       "      <td>9805</td>\n",
       "      <td>1.771490e+05</td>\n",
       "    </tr>\n",
       "    <tr>\n",
       "      <th>TELEPHONE</th>\n",
       "      <td>3523</td>\n",
       "      <td>2.342954e+06</td>\n",
       "    </tr>\n",
       "    <tr>\n",
       "      <th>PRINTING</th>\n",
       "      <td>3264</td>\n",
       "      <td>1.072391e+07</td>\n",
       "    </tr>\n",
       "    <tr>\n",
       "      <th>...</th>\n",
       "      <td>...</td>\n",
       "      <td>...</td>\n",
       "    </tr>\n",
       "    <tr>\n",
       "      <th>EQUIPMENT IN-KIND</th>\n",
       "      <td>1</td>\n",
       "      <td>2.600000e+02</td>\n",
       "    </tr>\n",
       "    <tr>\n",
       "      <th>DEPOSIT ON ACCOUNT</th>\n",
       "      <td>1</td>\n",
       "      <td>-4.189585e+06</td>\n",
       "    </tr>\n",
       "    <tr>\n",
       "      <th>DECORATIONS IN KIND</th>\n",
       "      <td>1</td>\n",
       "      <td>2.597000e+02</td>\n",
       "    </tr>\n",
       "    <tr>\n",
       "      <th>CONTRIBUTION PROCESSING FEES</th>\n",
       "      <td>1</td>\n",
       "      <td>4.000000e+03</td>\n",
       "    </tr>\n",
       "    <tr>\n",
       "      <th>OFFICE EXPENSES</th>\n",
       "      <td>1</td>\n",
       "      <td>1.532000e+01</td>\n",
       "    </tr>\n",
       "  </tbody>\n",
       "</table>\n",
       "<p>114 rows × 2 columns</p>\n",
       "</div>"
      ],
      "text/plain": [
       "                              count  disbursement_amount\n",
       "disbursement_description                                \n",
       "TRAVEL/LODGING                29867         2.272525e+07\n",
       "PAYROLL                       16156         3.064731e+07\n",
       "TRAVEL AGENCY FEES             9805         1.771490e+05\n",
       "TELEPHONE                      3523         2.342954e+06\n",
       "PRINTING                       3264         1.072391e+07\n",
       "...                             ...                  ...\n",
       "EQUIPMENT IN-KIND                 1         2.600000e+02\n",
       "DEPOSIT ON ACCOUNT                1        -4.189585e+06\n",
       "DECORATIONS IN KIND               1         2.597000e+02\n",
       "CONTRIBUTION PROCESSING FEES      1         4.000000e+03\n",
       "OFFICE EXPENSES                   1         1.532000e+01\n",
       "\n",
       "[114 rows x 2 columns]"
      ]
     },
     "execution_count": 12,
     "metadata": {},
     "output_type": "execute_result"
    }
   ],
   "source": [
    "catsum.sort_values('count',ascending=False,na_position='first')"
   ]
  },
  {
   "cell_type": "code",
   "execution_count": 13,
   "metadata": {
    "scrolled": true
   },
   "outputs": [
    {
     "data": {
      "text/html": [
       "<div>\n",
       "<style scoped>\n",
       "    .dataframe tbody tr th:only-of-type {\n",
       "        vertical-align: middle;\n",
       "    }\n",
       "\n",
       "    .dataframe tbody tr th {\n",
       "        vertical-align: top;\n",
       "    }\n",
       "\n",
       "    .dataframe thead th {\n",
       "        text-align: right;\n",
       "    }\n",
       "</style>\n",
       "<table border=\"1\" class=\"dataframe\">\n",
       "  <thead>\n",
       "    <tr style=\"text-align: right;\">\n",
       "      <th></th>\n",
       "      <th>disbursement_purpose_category</th>\n",
       "      <th>disbursement_amount</th>\n",
       "    </tr>\n",
       "    <tr>\n",
       "      <th>disbursement_purpose_category</th>\n",
       "      <th></th>\n",
       "      <th></th>\n",
       "    </tr>\n",
       "  </thead>\n",
       "  <tbody>\n",
       "    <tr>\n",
       "      <th>ADMINISTRATIVE</th>\n",
       "      <td>4286</td>\n",
       "      <td>2.577538e+07</td>\n",
       "    </tr>\n",
       "    <tr>\n",
       "      <th>ADVERTISING</th>\n",
       "      <td>4729</td>\n",
       "      <td>4.190138e+08</td>\n",
       "    </tr>\n",
       "    <tr>\n",
       "      <th>FUNDRAISING</th>\n",
       "      <td>1428</td>\n",
       "      <td>1.454805e+06</td>\n",
       "    </tr>\n",
       "    <tr>\n",
       "      <th>MATERIALS</th>\n",
       "      <td>3</td>\n",
       "      <td>1.915320e+03</td>\n",
       "    </tr>\n",
       "    <tr>\n",
       "      <th>OTHER</th>\n",
       "      <td>43802</td>\n",
       "      <td>2.301702e+08</td>\n",
       "    </tr>\n",
       "    <tr>\n",
       "      <th>TRAVEL</th>\n",
       "      <td>29868</td>\n",
       "      <td>2.272535e+07</td>\n",
       "    </tr>\n",
       "  </tbody>\n",
       "</table>\n",
       "</div>"
      ],
      "text/plain": [
       "                               disbursement_purpose_category  \\\n",
       "disbursement_purpose_category                                  \n",
       "ADMINISTRATIVE                                          4286   \n",
       "ADVERTISING                                             4729   \n",
       "FUNDRAISING                                             1428   \n",
       "MATERIALS                                                  3   \n",
       "OTHER                                                  43802   \n",
       "TRAVEL                                                 29868   \n",
       "\n",
       "                               disbursement_amount  \n",
       "disbursement_purpose_category                       \n",
       "ADMINISTRATIVE                        2.577538e+07  \n",
       "ADVERTISING                           4.190138e+08  \n",
       "FUNDRAISING                           1.454805e+06  \n",
       "MATERIALS                             1.915320e+03  \n",
       "OTHER                                 2.301702e+08  \n",
       "TRAVEL                                2.272535e+07  "
      ]
     },
     "execution_count": 13,
     "metadata": {},
     "output_type": "execute_result"
    }
   ],
   "source": [
    "# many uncategorized items under 'other'\n",
    "df_obama2.groupby('disbursement_purpose_category').agg({'disbursement_purpose_category':'count','disbursement_amount':'sum'})"
   ]
  },
  {
   "cell_type": "code",
   "execution_count": 3,
   "metadata": {},
   "outputs": [
    {
     "data": {
      "text/plain": [
       "699141504.0099999"
      ]
     },
     "execution_count": 3,
     "metadata": {},
     "output_type": "execute_result"
    }
   ],
   "source": [
    "df_obama2.disbursement_amount.sum()"
   ]
  },
  {
   "cell_type": "markdown",
   "metadata": {},
   "source": [
    "## <div class=\"alert alert-block alert-success\"><center>Text Clustering - Obama Part<center>"
   ]
  },
  {
   "cell_type": "code",
   "execution_count": 14,
   "metadata": {},
   "outputs": [
    {
     "name": "stderr",
     "output_type": "stream",
     "text": [
      "[nltk_data] Downloading package stopwords to\n",
      "[nltk_data]     /Users/zhanghuishan/nltk_data...\n",
      "[nltk_data]   Package stopwords is already up-to-date!\n",
      "[nltk_data] Downloading package wordnet to\n",
      "[nltk_data]     /Users/zhanghuishan/nltk_data...\n",
      "[nltk_data]   Package wordnet is already up-to-date!\n"
     ]
    }
   ],
   "source": [
    "# Get token list \"lda_tokens\"\n",
    "import spacy\n",
    "spacy.load('en')\n",
    "from spacy.lang.en import English\n",
    "parser = English()\n",
    "\n",
    "def tokenize(text): \n",
    "    lda_tokens = []\n",
    "    tokens = parser(text)\n",
    "    for token in tokens:\n",
    "        if token.orth_.isspace(): #skip space\n",
    "            continue\n",
    "        elif token.like_num: # delete numbers\n",
    "            continue\n",
    "        else:\n",
    "            lda_tokens.append(token.lower_)\n",
    "    return lda_tokens\n",
    "\n",
    "# Get the puntuations set\n",
    "import string\n",
    "en_punct = set(string.punctuation)\n",
    "\n",
    "# Get the stop words set\n",
    "import nltk\n",
    "nltk.download('stopwords')\n",
    "en_stop = set(nltk.corpus.stopwords.words('english'))\n",
    "\n",
    "# Get the tokens for LDA analysis (function)\n",
    "import nltk\n",
    "nltk.download('wordnet')\n",
    "from nltk.corpus import wordnet as wn\n",
    "from nltk.stem.wordnet import WordNetLemmatizer\n",
    "\n",
    "def get_lemma(word):\n",
    "    return WordNetLemmatizer().lemmatize(word) \n",
    "\n",
    "def prepare_text_for_lda(text):\n",
    "    tokens = tokenize(text)\n",
    "    tokens = [token for token in tokens if token not in en_punct] # delete punctuations\n",
    "    tokens = [token for token in tokens if len(token) > 1] # at least 2 letters consist a word\n",
    "    tokens = [token for token in tokens if token not in en_stop] # delete stop words\n",
    "    tokens = [get_lemma(token) for token in tokens] # delete word variants for accurate result\n",
    "    return tokens"
   ]
  },
  {
   "cell_type": "code",
   "execution_count": 15,
   "metadata": {},
   "outputs": [],
   "source": [
    "import random\n",
    "text_data = []\n",
    "for line in df_obama2['disbursement_description']:\n",
    "    tokens = prepare_text_for_lda(line)\n",
    "    if random.random() > .99:\n",
    "        #print(tokens)\n",
    "        text_data.append(tokens)"
   ]
  },
  {
   "cell_type": "code",
   "execution_count": 16,
   "metadata": {},
   "outputs": [],
   "source": [
    "# Cluster topics\n",
    "from gensim import corpora \n",
    "dictionary = corpora.Dictionary(text_data)\n",
    "corpus = [dictionary.doc2bow(text) for text in text_data]\n",
    "\n",
    "import pickle\n",
    "pickle.dump(corpus, open('corpus.pkl', 'wb'))\n",
    "dictionary.save('dictionary.gensim')"
   ]
  },
  {
   "cell_type": "code",
   "execution_count": 25,
   "metadata": {},
   "outputs": [
    {
     "name": "stdout",
     "output_type": "stream",
     "text": [
      "(0, '0.311*\"fee\" + 0.308*\"travel\" + 0.307*\"agency\" + 0.011*\"parking\"')\n",
      "(1, '0.194*\"computer\" + 0.169*\"chargeback\" + 0.169*\"equipment\" + 0.068*\"sound\"')\n",
      "(2, '0.748*\"payroll\" + 0.074*\"tax\" + 0.033*\"planning\" + 0.029*\"service\"')\n",
      "(3, '0.250*\"printing\" + 0.101*\"medium\" + 0.086*\"fee\" + 0.079*\"production\"')\n",
      "(4, '0.425*\"lodging\" + 0.425*\"travel\" + 0.044*\"telephone\" + 0.020*\"event\"')\n",
      "(5, '0.206*\"supply\" + 0.191*\"office\" + 0.108*\"catering\" + 0.108*\"facility\"')\n"
     ]
    }
   ],
   "source": [
    "import gensim # package for topic modeling\n",
    "NUM_TOPICS = 6 # trial number based on understanding of the data file & research aims\n",
    "ldamodel = gensim.models.ldamodel.LdaModel(corpus, num_topics = NUM_TOPICS, id2word=dictionary, passes=20)\n",
    "ldamodel.save('model.gensim')\n",
    "topics = ldamodel.print_topics(num_words=4)\n",
    "for topic in topics:\n",
    "    print(topic)"
   ]
  },
  {
   "cell_type": "code",
   "execution_count": 26,
   "metadata": {},
   "outputs": [
    {
     "data": {
      "text/html": [
       "\n",
       "<link rel=\"stylesheet\" type=\"text/css\" href=\"https://cdn.rawgit.com/bmabey/pyLDAvis/files/ldavis.v1.0.0.css\">\n",
       "\n",
       "\n",
       "<div id=\"ldavis_el120771405794495338246528377160\"></div>\n",
       "<script type=\"text/javascript\">\n",
       "\n",
       "var ldavis_el120771405794495338246528377160_data = {\"mdsDat\": {\"x\": [-0.2823641385952146, 0.1891793991394351, 0.1539141185558076, 0.09398968136781265, -0.3311443452561363, 0.17642528478829528], \"y\": [-0.05868430143994632, -0.150558336663846, 0.37299807950135005, -0.19058730329808554, 0.06367216287890672, -0.03684030097837893], \"topics\": [1, 2, 3, 4, 5, 6], \"cluster\": [1, 1, 1, 1, 1, 1], \"Freq\": [19.092971801757812, 10.08709716796875, 13.866564750671387, 10.825675964355469, 35.516700744628906, 10.61098861694336]}, \"tinfo\": {\"Term\": [\"payroll\", \"lodging\", \"travel\", \"agency\", \"fee\", \"printing\", \"supply\", \"office\", \"computer\", \"chargeback\", \"equipment\", \"catering\", \"facility\", \"medium\", \"tax\", \"production\", \"cost\", \"fuel\", \"lighting\", \"staging\", \"sound\", \"credit\", \"card\", \"equip\", \"telephone\", \"occupancy\", \"rent\", \"telemarketing\", \"planning\", \"event\", \"agency\", \"fee\", \"parking\", \"print\", \"postage\", \"furniture\", \"advertising\", \"travel\", \"delivery\", \"insurance\", \"publications/\", \"subscription\", \"legal\", \"cons./fundraising\", \"video\", \"reimbursement\", \"web\", \"hosting\", \"maintenance\", \"charge\", \"bank\", \"cons./acct.serv\", \"polling\", \"internet\", \"campaign\", \"store\", \"merchandise\", \"voided\", \"check\", \"u\", \"lodging\", \"diem\", \"per\", \"decoration\", \"technology\", \"consulting\", \"telephone\", \"facility\", \"catering\", \"office\", \"printing\", \"service\", \"payroll\", \"chargeback\", \"computer\", \"software\", \"event\", \"supply\", \"equipment\", \"tax\", \"chargeback\", \"equipment\", \"sound\", \"staging\", \"lighting\", \"rent\", \"occupancy\", \"line\", \"computer\", \"disgorged\", \"u\", \"treasury\", \"voided\", \"check\", \"advertising\", \"delivery\", \"insurance\", \"subscription\", \"publications/\", \"postage\", \"furniture\", \"maintenance\", \"legal\", \"reimbursement\", \"video\", \"cons./fundraising\", \"hosting\", \"web\", \"charge\", \"bank\", \"internet\", \"cons./acct.serv\", \"software\", \"travel\", \"lodging\", \"payroll\", \"tax\", \"facility\", \"catering\", \"printing\", \"event\", \"site\", \"rental\", \"equip\", \"telephone\", \"fee\", \"payroll\", \"tax\", \"planning\", \"service\", \"technology\", \"consulting\", \"subscription\", \"publications/\", \"insurance\", \"delivery\", \"event\", \"postage\", \"furniture\", \"legal\", \"reimbursement\", \"video\", \"cons./fundraising\", \"hosting\", \"web\", \"maintenance\", \"charge\", \"bank\", \"cons./acct.serv\", \"internet\", \"polling\", \"campaign\", \"store\", \"merchandise\", \"check\", \"voided\", \"serv\", \"medium\", \"travel\", \"fee\", \"agency\", \"production\", \"lodging\", \"staging\", \"lighting\", \"sound\", \"buy\", \"telephone\", \"printing\", \"chargeback\", \"computer\", \"software\", \"supply\", \"office\", \"printing\", \"medium\", \"production\", \"credit\", \"card\", \"equip\", \"telemarketing\", \"processing\", \"revenue\", \"buy\", \"hosting\", \"web\", \"video\", \"cons./fundraising\", \"reimbursement\", \"legal\", \"maintenance\", \"computer\", \"fee\", \"site\", \"delivery\", \"insurance\", \"publications/\", \"subscription\", \"postage\", \"furniture\", \"charge\", \"bank\", \"cons./acct.serv\", \"polling\", \"internet\", \"service\", \"equipment\", \"travel\", \"lodging\", \"telephone\", \"agency\", \"event\", \"office\", \"supply\", \"planning\", \"lodging\", \"telephone\", \"rental\", \"site\", \"software\", \"unlimited\", \"state\", \"transfer\", \"party\", \"comm\", \"serv\", \"travel\", \"per\", \"diem\", \"event\", \"insurance\", \"delivery\", \"subscription\", \"publications/\", \"postage\", \"furniture\", \"legal\", \"cons./fundraising\", \"reimbursement\", \"video\", \"web\", \"hosting\", \"maintenance\", \"bank\", \"charge\", \"planning\", \"polling\", \"internet\", \"fuel\", \"cost\", \"chargeback\", \"supply\", \"computer\", \"office\", \"medium\", \"advertising\", \"buy\", \"line\", \"payroll\", \"agency\", \"printing\", \"fee\", \"supply\", \"office\", \"facility\", \"catering\", \"cost\", \"fuel\", \"decoration\", \"text\", \"message\", \"security\", \"merchandise\", \"store\", \"campaign\", \"internet\", \"polling\", \"cons./acct.serv\", \"charge\", \"bank\", \"delivery\", \"insurance\", \"subscription\", \"publications/\", \"furniture\", \"postage\", \"legal\", \"reimbursement\", \"video\", \"cons./fundraising\", \"web\", \"hosting\", \"site\", \"maintenance\", \"event\", \"fee\", \"travel\", \"payroll\", \"agency\", \"computer\", \"tax\", \"lodging\", \"printing\", \"equip\"], \"Freq\": [163.0, 237.0, 329.0, 92.0, 108.0, 43.0, 35.0, 32.0, 39.0, 27.0, 27.0, 18.0, 18.0, 18.0, 16.0, 14.0, 12.0, 12.0, 11.0, 11.0, 11.0, 10.0, 10.0, 9.0, 25.0, 7.0, 7.0, 7.0, 8.0, 18.0, 92.00009155273438, 93.02245330810547, 3.195681571960449, 2.186530828475952, 1.1772451400756836, 1.1695669889450073, 2.1814494132995605, 92.24815368652344, 0.16820760071277618, 0.16820746660232544, 0.16820427775382996, 0.16820400953292847, 0.16820460557937622, 0.16820310056209564, 0.16820307075977325, 0.16820307075977325, 0.1682024449110031, 0.16820243000984192, 0.16820482909679413, 0.1686779111623764, 0.16867780685424805, 0.16820542514324188, 0.1682054102420807, 0.16820500791072845, 0.1682024747133255, 0.1682024598121643, 0.16820243000984192, 0.1682029813528061, 0.16820290684700012, 0.16820234060287476, 0.2638580799102783, 0.16871462762355804, 0.16871348023414612, 0.17079246044158936, 0.16921685636043549, 0.16870877146720886, 0.17129996418952942, 0.1692182868719101, 0.16921794414520264, 0.16877047717571259, 0.16874869167804718, 0.16871003806591034, 0.1683807373046875, 0.16822324693202972, 0.16822049021720886, 0.1682146191596985, 0.16821379959583282, 0.16821326315402985, 0.16821229457855225, 0.16821211576461792, 26.68962287902832, 26.6866512298584, 10.809036254882812, 10.809033393859863, 10.809036254882812, 6.839184761047363, 6.839186191558838, 2.8673577308654785, 30.6953067779541, 1.5443021059036255, 1.5443017482757568, 1.5443018674850464, 1.5442923307418823, 1.5442923307418823, 2.8740313053131104, 0.22063922882080078, 0.2206382304430008, 0.22062844038009644, 0.22062844038009644, 0.22064244747161865, 0.2206418663263321, 0.22500061988830566, 0.22063055634498596, 0.22062548995018005, 0.22062520682811737, 0.22062517702579498, 0.22062362730503082, 0.22062355279922485, 0.2206248641014099, 0.22062481939792633, 0.22063130140304565, 0.22063091397285461, 0.2538396418094635, 0.2276068478822708, 0.22727638483047485, 0.2256050854921341, 0.22331105172634125, 0.2219613790512085, 0.22195962071418762, 0.2213422656059265, 0.22131454944610596, 0.2213132232427597, 0.2213011384010315, 0.2212921679019928, 0.22070194780826569, 0.22066867351531982, 162.73178100585938, 16.04969024658203, 7.156843185424805, 6.299222946166992, 2.7972636222839355, 1.9140615463256836, 1.0308489799499512, 1.0308486223220825, 1.0308027267456055, 1.0308018922805786, 6.155668258666992, 0.14728187024593353, 0.14728133380413055, 0.14851114153862, 0.1472761183977127, 0.14727602899074554, 0.14727599918842316, 0.14727553725242615, 0.14727547764778137, 0.1472780853509903, 0.1472758650779724, 0.14727583527565002, 0.14727860689163208, 0.14727814495563507, 0.14727801084518433, 0.14727552235126495, 0.14727550745010376, 0.1472754180431366, 0.14727599918842316, 0.1472759246826172, 0.15503384172916412, 0.15038594603538513, 0.1522420048713684, 0.14998236298561096, 0.1499643474817276, 0.14993923902511597, 0.14943629503250122, 0.1477205455303192, 0.1477193534374237, 0.1477191001176834, 0.14771895110607147, 0.14731860160827637, 0.14730308949947357, 0.1472967118024826, 0.14728842675685883, 0.14728830754756927, 0.1472860872745514, 0.14728549122810364, 42.50959396362305, 17.120872497558594, 13.495450973510742, 9.871867179870605, 9.871865272521973, 8.661758422851562, 6.245789527893066, 5.036959648132324, 5.036958694458008, 5.035736083984375, 1.4103142023086548, 1.4103142023086548, 1.4103044271469116, 1.4103046655654907, 1.4103038311004639, 1.4085488319396973, 1.4062408208847046, 8.631945610046387, 14.689852714538574, 1.4106907844543457, 0.20149415731430054, 0.20149382948875427, 0.20148621499538422, 0.20148594677448273, 0.2014969140291214, 0.20149657130241394, 0.20148344337940216, 0.2014833390712738, 0.20148847997188568, 0.20148822665214539, 0.20148786902427673, 0.24672047793865204, 0.20849932730197906, 0.21180403232574463, 0.21032916009426117, 0.2034187763929367, 0.202723428606987, 0.20210763812065125, 0.2021041363477707, 0.2020990401506424, 0.20209716260433197, 236.89683532714844, 24.278345108032227, 7.920567512512207, 10.187604904174805, 3.226473093032837, 2.4671201705932617, 2.4671201705932617, 2.4671194553375244, 2.4671196937561035, 2.4671201705932617, 2.4600963592529297, 236.77865600585938, 1.6875500679016113, 1.687549114227295, 11.159911155700684, 0.12985637784004211, 0.129856139421463, 0.12985484302043915, 0.12985488772392273, 0.12985669076442719, 0.1298561990261078, 0.12985512614250183, 0.12985460460186005, 0.12985453009605408, 0.1298545002937317, 0.12985442578792572, 0.12985433638095856, 0.12985526025295258, 0.12985444068908691, 0.12985441088676453, 0.18194741010665894, 0.12985552847385406, 0.1298554688692093, 0.13220012187957764, 0.1321972906589508, 0.1329730898141861, 0.13208580017089844, 0.13192316889762878, 0.1314198523759842, 0.13024844229221344, 0.13024649024009705, 0.13024556636810303, 0.13024497032165527, 0.12999491393566132, 0.12987934052944183, 0.12987378239631653, 0.1298726201057434, 34.35350036621094, 31.824472427368164, 17.913427352905273, 17.913427352905273, 11.589282035827637, 11.589274406433105, 5.266276836395264, 4.00485372543335, 4.004853248596191, 2.7401134967803955, 1.4754459857940674, 1.4754457473754883, 1.4754455089569092, 1.4754009246826172, 1.475400686264038, 1.475399374961853, 1.4748256206512451, 1.4748258590698242, 0.2108004093170166, 0.21080031991004944, 0.21079131960868835, 0.21079133450984955, 0.22033849358558655, 0.21080312132835388, 0.21079310774803162, 0.21078886091709137, 0.2107885479927063, 0.21078842878341675, 0.21078704297542572, 0.21078701317310333, 0.3245472013950348, 0.21079331636428833, 0.26416006684303284, 0.21687783300876617, 0.21471475064754486, 0.2142244577407837, 0.21310526132583618, 0.21271900832653046, 0.21271587908267975, 0.21225495636463165, 0.21210792660713196, 0.21206194162368774], \"Total\": [163.0, 237.0, 329.0, 92.0, 108.0, 43.0, 35.0, 32.0, 39.0, 27.0, 27.0, 18.0, 18.0, 18.0, 16.0, 14.0, 12.0, 12.0, 11.0, 11.0, 11.0, 10.0, 10.0, 9.0, 25.0, 7.0, 7.0, 7.0, 8.0, 18.0, 92.91641235351562, 108.42970275878906, 4.1057634353637695, 3.0965709686279297, 2.0873262882232666, 2.089181423187256, 5.745294094085693, 329.83319091796875, 1.9617993831634521, 1.961798906326294, 1.9618138074874878, 1.9618135690689087, 2.286543369293213, 2.2870521545410156, 2.2870516777038574, 2.2870519161224365, 2.2870571613311768, 2.2870571613311768, 2.2873728275299072, 2.3427419662475586, 2.3427419662475586, 2.34285831451416, 2.3428587913513184, 2.3428587913513184, 2.342883586883545, 2.342883825302124, 2.342883825302124, 2.4018969535827637, 2.4018971920013428, 2.401902437210083, 237.95999145507812, 2.6364803314208984, 2.6364803314208984, 6.1363325119018555, 3.7292428016662598, 2.8455305099487305, 25.232589721679688, 18.783842086791992, 18.783843994140625, 32.69469451904297, 43.388973236083984, 7.275929927825928, 163.67166137695312, 27.550437927246094, 39.987403869628906, 4.2081475257873535, 18.171375274658203, 35.22382354736328, 27.55194091796875, 16.985286712646484, 27.550437927246094, 27.55194091796875, 11.667722702026367, 11.66772174835205, 11.667723655700684, 7.69679594039917, 7.696796894073486, 3.7253530025482178, 39.987403869628906, 2.401902437210083, 2.401902437210083, 2.401902437210083, 2.4018969535827637, 2.4018971920013428, 5.745294094085693, 1.9617993831634521, 1.961798906326294, 1.9618135690689087, 1.9618138074874878, 2.0873262882232666, 2.089181423187256, 2.2873728275299072, 2.286543369293213, 2.2870519161224365, 2.2870516777038574, 2.2870521545410156, 2.2870571613311768, 2.2870571613311768, 2.3427419662475586, 2.3427419662475586, 2.3428587913513184, 2.34285831451416, 4.2081475257873535, 329.83319091796875, 237.95999145507812, 163.67166137695312, 16.985286712646484, 18.783842086791992, 18.783843994140625, 43.388973236083984, 18.171375274658203, 12.459648132324219, 8.869644165039062, 9.540454864501953, 25.232589721679688, 108.42970275878906, 163.67166137695312, 16.985286712646484, 8.14051342010498, 7.275929927825928, 3.7292428016662598, 2.8455305099487305, 1.9618135690689087, 1.9618138074874878, 1.961798906326294, 1.9617993831634521, 18.171375274658203, 2.0873262882232666, 2.089181423187256, 2.286543369293213, 2.2870519161224365, 2.2870516777038574, 2.2870521545410156, 2.2870571613311768, 2.2870571613311768, 2.2873728275299072, 2.3427419662475586, 2.3427419662475586, 2.34285831451416, 2.3428587913513184, 2.3428587913513184, 2.342883586883545, 2.342883825302124, 2.342883825302124, 2.4018971920013428, 2.4018969535827637, 3.416295051574707, 18.001140594482422, 329.83319091796875, 108.42970275878906, 92.91641235351562, 14.37488079071045, 237.95999145507812, 11.66772174835205, 11.667723655700684, 11.667722702026367, 5.913322448730469, 25.232589721679688, 43.388973236083984, 27.550437927246094, 39.987403869628906, 4.2081475257873535, 35.22382354736328, 32.69469451904297, 43.388973236083984, 18.001140594482422, 14.37488079071045, 10.749253273010254, 10.749253273010254, 9.540454864501953, 7.12256383895874, 5.913705348968506, 5.913704872131348, 5.913322448730469, 2.2870571613311768, 2.2870571613311768, 2.2870516777038574, 2.2870521545410156, 2.2870519161224365, 2.286543369293213, 2.2873728275299072, 39.987403869628906, 108.42970275878906, 12.459648132324219, 1.9617993831634521, 1.961798906326294, 1.9618138074874878, 1.9618135690689087, 2.0873262882232666, 2.089181423187256, 2.3427419662475586, 2.3427419662475586, 2.34285831451416, 2.3428587913513184, 2.3428587913513184, 7.275929927825928, 27.55194091796875, 329.83319091796875, 237.95999145507812, 25.232589721679688, 92.91641235351562, 18.171375274658203, 32.69469451904297, 35.22382354736328, 8.14051342010498, 237.95999145507812, 25.232589721679688, 8.869644165039062, 12.459648132324219, 4.2081475257873535, 3.4155032634735107, 3.41550350189209, 3.41550350189209, 3.415503740310669, 3.415503978729248, 3.416295051574707, 329.83319091796875, 2.6364803314208984, 2.6364803314208984, 18.171375274658203, 1.961798906326294, 1.9617993831634521, 1.9618135690689087, 1.9618138074874878, 2.0873262882232666, 2.089181423187256, 2.286543369293213, 2.2870521545410156, 2.2870519161224365, 2.2870516777038574, 2.2870571613311768, 2.2870571613311768, 2.2873728275299072, 2.3427419662475586, 2.3427419662475586, 8.14051342010498, 2.3428587913513184, 2.3428587913513184, 12.459075927734375, 12.459078788757324, 27.550437927246094, 35.22382354736328, 39.987403869628906, 32.69469451904297, 18.001140594482422, 5.745294094085693, 5.913322448730469, 3.7253530025482178, 163.67166137695312, 92.91641235351562, 43.388973236083984, 108.42970275878906, 35.22382354736328, 32.69469451904297, 18.783842086791992, 18.783843994140625, 12.459078788757324, 12.459075927734375, 6.1363325119018555, 4.872298240661621, 4.8722991943359375, 3.6075732707977295, 2.342883825302124, 2.342883825302124, 2.342883586883545, 2.3428587913513184, 2.3428587913513184, 2.34285831451416, 2.3427419662475586, 2.3427419662475586, 1.9617993831634521, 1.961798906326294, 1.9618135690689087, 1.9618138074874878, 2.089181423187256, 2.0873262882232666, 2.286543369293213, 2.2870519161224365, 2.2870516777038574, 2.2870521545410156, 2.2870571613311768, 2.2870571613311768, 12.459648132324219, 2.2873728275299072, 18.171375274658203, 108.42970275878906, 329.83319091796875, 163.67166137695312, 92.91641235351562, 39.987403869628906, 16.985286712646484, 237.95999145507812, 43.388973236083984, 9.540454864501953], \"Category\": [\"Default\", \"Default\", \"Default\", \"Default\", \"Default\", \"Default\", \"Default\", \"Default\", \"Default\", \"Default\", \"Default\", \"Default\", \"Default\", \"Default\", \"Default\", \"Default\", \"Default\", \"Default\", \"Default\", \"Default\", \"Default\", \"Default\", \"Default\", \"Default\", \"Default\", \"Default\", \"Default\", \"Default\", \"Default\", \"Default\", \"Topic1\", \"Topic1\", \"Topic1\", \"Topic1\", \"Topic1\", \"Topic1\", \"Topic1\", \"Topic1\", \"Topic1\", \"Topic1\", \"Topic1\", \"Topic1\", \"Topic1\", \"Topic1\", \"Topic1\", \"Topic1\", \"Topic1\", \"Topic1\", \"Topic1\", \"Topic1\", \"Topic1\", \"Topic1\", \"Topic1\", \"Topic1\", \"Topic1\", \"Topic1\", \"Topic1\", \"Topic1\", \"Topic1\", \"Topic1\", \"Topic1\", \"Topic1\", \"Topic1\", \"Topic1\", \"Topic1\", \"Topic1\", \"Topic1\", \"Topic1\", \"Topic1\", \"Topic1\", \"Topic1\", \"Topic1\", \"Topic1\", \"Topic1\", \"Topic1\", \"Topic1\", \"Topic1\", \"Topic1\", \"Topic1\", \"Topic1\", \"Topic2\", \"Topic2\", \"Topic2\", \"Topic2\", \"Topic2\", \"Topic2\", \"Topic2\", \"Topic2\", \"Topic2\", \"Topic2\", \"Topic2\", \"Topic2\", \"Topic2\", \"Topic2\", \"Topic2\", \"Topic2\", \"Topic2\", \"Topic2\", \"Topic2\", \"Topic2\", \"Topic2\", \"Topic2\", \"Topic2\", \"Topic2\", \"Topic2\", \"Topic2\", \"Topic2\", \"Topic2\", \"Topic2\", \"Topic2\", \"Topic2\", \"Topic2\", \"Topic2\", \"Topic2\", \"Topic2\", \"Topic2\", \"Topic2\", \"Topic2\", \"Topic2\", \"Topic2\", \"Topic2\", \"Topic2\", \"Topic2\", \"Topic2\", \"Topic2\", \"Topic2\", \"Topic3\", \"Topic3\", \"Topic3\", \"Topic3\", \"Topic3\", \"Topic3\", \"Topic3\", \"Topic3\", \"Topic3\", \"Topic3\", \"Topic3\", \"Topic3\", \"Topic3\", \"Topic3\", \"Topic3\", \"Topic3\", \"Topic3\", \"Topic3\", \"Topic3\", \"Topic3\", \"Topic3\", \"Topic3\", \"Topic3\", \"Topic3\", \"Topic3\", \"Topic3\", \"Topic3\", \"Topic3\", \"Topic3\", \"Topic3\", \"Topic3\", \"Topic3\", \"Topic3\", \"Topic3\", \"Topic3\", \"Topic3\", \"Topic3\", \"Topic3\", \"Topic3\", \"Topic3\", \"Topic3\", \"Topic3\", \"Topic3\", \"Topic3\", \"Topic3\", \"Topic3\", \"Topic3\", \"Topic3\", \"Topic4\", \"Topic4\", \"Topic4\", \"Topic4\", \"Topic4\", \"Topic4\", \"Topic4\", \"Topic4\", \"Topic4\", \"Topic4\", \"Topic4\", \"Topic4\", \"Topic4\", \"Topic4\", \"Topic4\", \"Topic4\", \"Topic4\", \"Topic4\", \"Topic4\", \"Topic4\", \"Topic4\", \"Topic4\", \"Topic4\", \"Topic4\", \"Topic4\", \"Topic4\", \"Topic4\", \"Topic4\", \"Topic4\", \"Topic4\", \"Topic4\", \"Topic4\", \"Topic4\", \"Topic4\", \"Topic4\", \"Topic4\", \"Topic4\", \"Topic4\", \"Topic4\", \"Topic4\", \"Topic4\", \"Topic5\", \"Topic5\", \"Topic5\", \"Topic5\", \"Topic5\", \"Topic5\", \"Topic5\", \"Topic5\", \"Topic5\", \"Topic5\", \"Topic5\", \"Topic5\", \"Topic5\", \"Topic5\", \"Topic5\", \"Topic5\", \"Topic5\", \"Topic5\", \"Topic5\", \"Topic5\", \"Topic5\", \"Topic5\", \"Topic5\", \"Topic5\", \"Topic5\", \"Topic5\", \"Topic5\", \"Topic5\", \"Topic5\", \"Topic5\", \"Topic5\", \"Topic5\", \"Topic5\", \"Topic5\", \"Topic5\", \"Topic5\", \"Topic5\", \"Topic5\", \"Topic5\", \"Topic5\", \"Topic5\", \"Topic5\", \"Topic5\", \"Topic5\", \"Topic5\", \"Topic5\", \"Topic5\", \"Topic6\", \"Topic6\", \"Topic6\", \"Topic6\", \"Topic6\", \"Topic6\", \"Topic6\", \"Topic6\", \"Topic6\", \"Topic6\", \"Topic6\", \"Topic6\", \"Topic6\", \"Topic6\", \"Topic6\", \"Topic6\", \"Topic6\", \"Topic6\", \"Topic6\", \"Topic6\", \"Topic6\", \"Topic6\", \"Topic6\", \"Topic6\", \"Topic6\", \"Topic6\", \"Topic6\", \"Topic6\", \"Topic6\", \"Topic6\", \"Topic6\", \"Topic6\", \"Topic6\", \"Topic6\", \"Topic6\", \"Topic6\", \"Topic6\", \"Topic6\", \"Topic6\", \"Topic6\", \"Topic6\", \"Topic6\"], \"logprob\": [30.0, 29.0, 28.0, 27.0, 26.0, 25.0, 24.0, 23.0, 22.0, 21.0, 20.0, 19.0, 18.0, 17.0, 16.0, 15.0, 14.0, 13.0, 12.0, 11.0, 10.0, 9.0, 8.0, 7.0, 6.0, 5.0, 4.0, 3.0, 2.0, 1.0, -1.1806000471115112, -1.1694999933242798, -4.540500164031982, -4.920000076293945, -5.5391998291015625, -5.5457000732421875, -4.922399997711182, -1.177899956703186, -7.484899997711182, -7.484899997711182, -7.484899997711182, -7.484899997711182, -7.484899997711182, -7.484899997711182, -7.484899997711182, -7.484899997711182, -7.484899997711182, -7.484899997711182, -7.484899997711182, -7.482100009918213, -7.482100009918213, -7.484899997711182, -7.484899997711182, -7.484899997711182, -7.484899997711182, -7.484899997711182, -7.484899997711182, -7.484899997711182, -7.484899997711182, -7.484899997711182, -7.0346999168396, -7.481900215148926, -7.481900215148926, -7.469600200653076, -7.478899955749512, -7.481900215148926, -7.466700077056885, -7.478899955749512, -7.478899955749512, -7.481599807739258, -7.4816999435424805, -7.481900215148926, -7.48390007019043, -7.484799861907959, -7.484799861907959, -7.484899997711182, -7.484899997711182, -7.484899997711182, -7.484899997711182, -7.484899997711182, -1.7799999713897705, -1.7800999879837036, -2.6839001178741455, -2.6839001178741455, -2.6839001178741455, -3.1415998935699463, -3.1415998935699463, -4.010900020599365, -1.6402000188827515, -4.629700183868408, -4.629700183868408, -4.629700183868408, -4.629700183868408, -4.629700183868408, -4.008600234985352, -6.575500011444092, -6.575500011444092, -6.5756001472473145, -6.5756001472473145, -6.575500011444092, -6.575500011444092, -6.5559000968933105, -6.575500011444092, -6.5756001472473145, -6.5756001472473145, -6.5756001472473145, -6.5756001472473145, -6.5756001472473145, -6.5756001472473145, -6.5756001472473145, -6.575500011444092, -6.575500011444092, -6.435299873352051, -6.544400215148926, -6.545899868011475, -6.553299903869629, -6.563499927520752, -6.569499969482422, -6.569499969482422, -6.572299957275391, -6.572500228881836, -6.572500228881836, -6.572500228881836, -6.5725998878479, -6.575200080871582, -6.575399875640869, -0.2903999984264374, -2.606800079345703, -3.414400100708008, -3.542099952697754, -4.353899955749512, -4.73330020904541, -5.352099895477295, -5.352099895477295, -5.352200031280518, -5.352200031280518, -3.5650999546051025, -7.297900199890137, -7.297900199890137, -7.289599895477295, -7.297999858856201, -7.297999858856201, -7.297999858856201, -7.297999858856201, -7.297999858856201, -7.297900199890137, -7.297999858856201, -7.297999858856201, -7.297900199890137, -7.297900199890137, -7.297900199890137, -7.297999858856201, -7.297999858856201, -7.297999858856201, -7.297999858856201, -7.297999858856201, -7.246600151062012, -7.277100086212158, -7.264800071716309, -7.279699802398682, -7.279900074005127, -7.28000020980835, -7.283400058746338, -7.294899940490723, -7.294899940490723, -7.294899940490723, -7.294899940490723, -7.297699928283691, -7.297800064086914, -7.297800064086914, -7.297900199890137, -7.297900199890137, -7.297900199890137, -7.297900199890137, -1.385200023651123, -2.294600009918213, -2.532599925994873, -2.8452999591827393, -2.8452999591827393, -2.9760000705718994, -3.302999973297119, -3.5181000232696533, -3.5181000232696533, -3.518399953842163, -4.791100025177002, -4.791100025177002, -4.791100025177002, -4.791100025177002, -4.791100025177002, -4.792399883270264, -4.794000148773193, -2.9795000553131104, -2.4477999210357666, -4.790900230407715, -6.7368998527526855, -6.7368998527526855, -6.736999988555908, -6.736999988555908, -6.7368998527526855, -6.7368998527526855, -6.736999988555908, -6.736999988555908, -6.736999988555908, -6.736999988555908, -6.736999988555908, -6.53439998626709, -6.7027997970581055, -6.686999797821045, -6.693999767303467, -6.727399826049805, -6.730899810791016, -6.73390007019043, -6.73390007019043, -6.73390007019043, -6.734000205993652, -0.855400025844574, -3.1333999633789062, -4.253600120544434, -4.0019001960754395, -5.151599884033203, -5.420000076293945, -5.420000076293945, -5.420000076293945, -5.420000076293945, -5.420000076293945, -5.422800064086914, -0.85589998960495, -5.799699783325195, -5.799699783325195, -3.9107000827789307, -8.364399909973145, -8.364399909973145, -8.364399909973145, -8.364399909973145, -8.364399909973145, -8.364399909973145, -8.364399909973145, -8.364399909973145, -8.364399909973145, -8.364399909973145, -8.364399909973145, -8.364399909973145, -8.364399909973145, -8.364399909973145, -8.364399909973145, -8.027099609375, -8.364399909973145, -8.364399909973145, -8.346500396728516, -8.346500396728516, -8.34060001373291, -8.347299575805664, -8.348600387573242, -8.352399826049805, -8.361300468444824, -8.36139965057373, -8.36139965057373, -8.36139965057373, -8.363300323486328, -8.3641996383667, -8.3641996383667, -8.3641996383667, -1.5781999826431274, -1.6547000408172607, -2.2293999195098877, -2.2293999195098877, -2.664799928665161, -2.664799928665161, -3.4535999298095703, -3.727400064468384, -3.727400064468384, -4.106900215148926, -4.72599983215332, -4.72599983215332, -4.72599983215332, -4.72599983215332, -4.72599983215332, -4.72599983215332, -4.726399898529053, -4.726399898529053, -6.671800136566162, -6.671800136566162, -6.671800136566162, -6.671800136566162, -6.627500057220459, -6.6717000007629395, -6.671800136566162, -6.671800136566162, -6.671800136566162, -6.671800136566162, -6.671800136566162, -6.671800136566162, -6.240200042724609, -6.671800136566162, -6.446100234985352, -6.6433000564575195, -6.65339994430542, -6.655600070953369, -6.660900115966797, -6.662700176239014, -6.662700176239014, -6.664899826049805, -6.665599822998047, -6.665800094604492], \"loglift\": [30.0, 29.0, 28.0, 27.0, 26.0, 25.0, 24.0, 23.0, 22.0, 21.0, 20.0, 19.0, 18.0, 17.0, 16.0, 15.0, 14.0, 13.0, 12.0, 11.0, 10.0, 9.0, 8.0, 7.0, 6.0, 5.0, 4.0, 3.0, 2.0, 1.0, 1.645900011062622, 1.5025999546051025, 1.4053000211715698, 1.3078999519348145, 1.0830999612808228, 1.075700044631958, 0.6875, 0.3817000091075897, -0.800599992275238, -0.800599992275238, -0.800599992275238, -0.800599992275238, -0.9538000226020813, -0.9539999961853027, -0.9539999961853027, -0.9539999961853027, -0.9539999961853027, -0.9539999961853027, -0.9541000127792358, -0.9751999974250793, -0.9751999974250793, -0.9781000018119812, -0.9781000018119812, -0.9781000018119812, -0.9781000018119812, -0.9781000018119812, -0.9781000018119812, -1.003000020980835, -1.003000020980835, -1.003000020980835, -5.148600101470947, -1.0930999517440796, -1.0930999517440796, -1.9256999492645264, -1.436900019645691, -1.1694999933242798, -3.3366000652313232, -3.0536999702453613, -3.0536999702453613, -3.610599994659424, -3.893699884414673, -2.108299970626831, -5.223499774932861, -3.4426000118255615, -3.815200090408325, -1.5636999607086182, -3.0264999866485596, -3.6884000301361084, -3.4428000450134277, -2.9590001106262207, 2.262200117111206, 2.26200008392334, 2.2174999713897705, 2.2174999713897705, 2.2174999713897705, 2.175800085067749, 2.175800085067749, 2.032099962234497, 2.0295000076293945, 1.8522000312805176, 1.8522000312805176, 1.8522000312805176, 1.8522000312805176, 1.8522000312805176, 1.601199984550476, 0.1088000014424324, 0.1088000014424324, 0.1088000014424324, 0.1088000014424324, 0.046799998730421066, 0.045899998396635056, -0.025100000202655792, -0.04439999908208847, -0.044599998742341995, -0.044599998742341995, -0.044599998742341995, -0.044599998742341995, -0.04470000043511391, -0.06870000064373016, -0.06870000064373016, -0.06870000064373016, -0.06870000064373016, -0.51419997215271, -4.984799861907959, -4.659800052642822, -4.292900085449219, -2.037600040435791, -2.1442999839782715, -2.1442999839782715, -2.984299898147583, -2.1140999794006348, -1.736799955368042, -1.3969999551773071, -1.4699000120162964, -2.445199966430664, -3.9033000469207764, 1.9699000120162964, 1.9190000295639038, 1.8468999862670898, 1.8315000534057617, 1.688099980354309, 1.579200029373169, 1.332200050354004, 1.332200050354004, 1.332200050354004, 1.332200050354004, 0.8931999802589417, -0.675599992275238, -0.6765000224113464, -0.758400022983551, -0.7670000195503235, -0.7670000195503235, -0.7670000195503235, -0.7670000195503235, -0.7670000195503235, -0.7670999765396118, -0.791100025177002, -0.791100025177002, -0.791100025177002, -0.791100025177002, -0.791100025177002, -0.791100025177002, -0.791100025177002, -0.791100025177002, -0.8159999847412109, -0.8159999847412109, -1.1169999837875366, -2.809299945831299, -5.7052001953125, -4.607600212097168, -4.453400135040283, -2.5873000621795654, -5.397299766540527, -2.3935999870300293, -2.3935999870300293, -2.3935999870300293, -1.7139999866485596, -3.16759991645813, -3.7098000049591064, -3.2555999755859375, -3.628200054168701, -1.3767000436782837, -3.5013999938964844, -3.4268999099731445, 2.2028000354766846, 2.173099994659424, 2.160099983215332, 2.1380999088287354, 2.1380999088287354, 2.1266000270843506, 2.091900110244751, 2.0627999305725098, 2.0627999305725098, 2.0625998973846436, 1.739799976348877, 1.739799976348877, 1.739799976348877, 1.739799976348877, 1.739799976348877, 1.738800048828125, 1.736799955368042, 0.6901999711990356, 0.22429999709129333, 0.04479999840259552, -0.05260000005364418, -0.05260000005364418, -0.05270000174641609, -0.05270000174641609, -0.11460000276565552, -0.11550000309944153, -0.23010000586509705, -0.23010000586509705, -0.23010000586509705, -0.23010000586509705, -0.23010000586509705, -1.1607999801635742, -2.660599946975708, -5.127399921417236, -4.8078999519348145, -2.597399950027466, -3.904400110244751, -2.275599956512451, -2.8629000186920166, -2.9375, -1.472599983215332, 1.0306999683380127, 0.9965999722480774, 0.921999990940094, 0.8338000178337097, 0.7695000171661377, 0.7099000215530396, 0.7099000215530396, 0.7099000215530396, 0.7099000215530396, 0.7099000215530396, 0.7067999839782715, 0.7037000060081482, 0.5889999866485596, 0.5889999866485596, 0.5475999712944031, -1.6799999475479126, -1.6799999475479126, -1.6799999475479126, -1.6799999475479126, -1.7419999837875366, -1.742900013923645, -1.8331999778747559, -1.833400011062622, -1.833400011062622, -1.833400011062622, -1.833400011062622, -1.833400011062622, -1.8336000442504883, -1.8574999570846558, -1.8574999570846558, -2.765700101852417, -1.8574999570846558, -1.8574999570846558, -3.510699987411499, -3.510699987411499, -4.298500061035156, -4.550899982452393, -4.678899765014648, -4.481400012969971, -3.8935999870300293, -2.751499891281128, -2.780400037765503, -2.3183000087738037, -6.103000164031982, -5.537700176239014, -4.776199817657471, -5.6921000480651855, 2.2183001041412354, 2.2163000106811523, 2.1958000659942627, 2.1958000659942627, 2.1709001064300537, 2.1709001064300537, 2.090399980545044, 2.0471999645233154, 2.0471999645233154, 1.9681999683380127, 1.780900001525879, 1.780900001525879, 1.780900001525879, 1.7807999849319458, 1.7807999849319458, 1.7807999849319458, 1.780500054359436, 1.780500054359436, 0.012600000016391277, 0.012600000016391277, 0.012500000186264515, 0.012500000186264515, -0.006099999882280827, -0.049400001764297485, -0.14059999585151672, -0.14090000092983246, -0.14090000092983246, -0.14090000092983246, -0.14090000092983246, -0.14090000092983246, -1.4045000076293945, -0.14100000262260437, -1.9878000020980835, -3.9711999893188477, -5.093800067901611, -4.395299911499023, -3.834399938583374, -2.9930999279022217, -2.136899948120117, -4.778800010681152, -3.0776000022888184, -1.563099980354309]}, \"token.table\": {\"Topic\": [1, 2, 1, 6, 4, 6, 4, 6, 6, 2, 2, 5, 2, 4, 6, 4, 3, 6, 4, 6, 3, 5, 2, 4, 2, 3, 5, 6, 1, 4, 6, 1, 4, 3, 6, 4, 2, 2, 5, 4, 4, 6, 6, 2, 6, 1, 5, 3, 5, 3, 6, 1, 1, 4, 4, 4, 3, 4, 2, 5, 4, 6, 5, 3, 4, 5, 5, 2, 2, 5, 6, 3, 6, 3, 3, 4, 5, 6, 5, 1, 5, 2, 2, 5, 4, 2, 4], \"Freq\": [0.34811097383499146, 0.5221664905548096, 0.9901372194290161, 0.42685025930404663, 0.8455483317375183, 0.4268244504928589, 0.9302971959114075, 0.9582703113555908, 0.42685025930404663, 0.9800207018852234, 0.8326750993728638, 0.5855651497840881, 0.7752441167831421, 0.22507087886333466, 0.4268290400505066, 0.43724408745765686, 0.7028566598892212, 0.963153064250946, 0.9302971959114075, 0.8148189187049866, 0.5097361207008362, 0.758587121963501, 0.8326733112335205, 0.9433512687683105, 0.9799672365188599, 0.33018964529037476, 0.6053476929664612, 0.9582704305648804, 0.8576985597610474, 0.13833847641944885, 0.9631533026695251, 0.4786563813686371, 0.43724310398101807, 0.5097362399101257, 0.4268289804458618, 0.4373413622379303, 0.9427717328071594, 0.8052927851676941, 0.9959657192230225, 0.43718278408050537, 0.9443845748901367, 0.4268244206905365, 0.8209676742553711, 0.9094692468643188, 0.978752076625824, 0.7306801676750183, 0.5855651497840881, 0.9958962798118591, 0.758587121963501, 0.8598966002464294, 0.4268289804458618, 0.47908177971839905, 0.6458756923675537, 0.9910352230072021, 0.8454936146736145, 0.9043553471565247, 0.5097323656082153, 0.43724411725997925, 0.9094693660736084, 0.9019527435302734, 0.8454936742782593, 0.8315839171409607, 0.5854295492172241, 0.8246368765830994, 0.08025908470153809, 0.8025909066200256, 0.7129027843475342, 0.9427717924118042, 0.9427719116210938, 0.5855652093887329, 0.4268244206905365, 0.5097324252128601, 0.9652557969093323, 0.9419917464256287, 0.8044528365135193, 0.8423932790756226, 0.9511508941650391, 0.8209677934646606, 0.5855652093887329, 0.27892887592315674, 0.7185450196266174, 0.8326733112335205, 0.8326733112335205, 0.5855652689933777, 0.437244176864624, 0.8326752185821533, 0.43724310398101807], \"Term\": [\"advertising\", \"advertising\", \"agency\", \"bank\", \"buy\", \"campaign\", \"card\", \"catering\", \"charge\", \"chargeback\", \"check\", \"comm\", \"computer\", \"computer\", \"cons./acct.serv\", \"cons./fundraising\", \"consulting\", \"cost\", \"credit\", \"decoration\", \"delivery\", \"diem\", \"disgorged\", \"equip\", \"equipment\", \"event\", \"event\", \"facility\", \"fee\", \"fee\", \"fuel\", \"furniture\", \"hosting\", \"insurance\", \"internet\", \"legal\", \"lighting\", \"line\", \"lodging\", \"maintenance\", \"medium\", \"merchandise\", \"message\", \"occupancy\", \"office\", \"parking\", \"party\", \"payroll\", \"per\", \"planning\", \"polling\", \"postage\", \"print\", \"printing\", \"processing\", \"production\", \"publications/\", \"reimbursement\", \"rent\", \"rental\", \"revenue\", \"security\", \"serv\", \"service\", \"site\", \"site\", \"software\", \"sound\", \"staging\", \"state\", \"store\", \"subscription\", \"supply\", \"tax\", \"technology\", \"telemarketing\", \"telephone\", \"text\", \"transfer\", \"travel\", \"travel\", \"treasury\", \"u\", \"unlimited\", \"video\", \"voided\", \"web\"]}, \"R\": 30, \"lambda.step\": 0.01, \"plot.opts\": {\"xlab\": \"PC1\", \"ylab\": \"PC2\"}, \"topic.order\": [1, 2, 3, 4, 5, 6]};\n",
       "\n",
       "function LDAvis_load_lib(url, callback){\n",
       "  var s = document.createElement('script');\n",
       "  s.src = url;\n",
       "  s.async = true;\n",
       "  s.onreadystatechange = s.onload = callback;\n",
       "  s.onerror = function(){console.warn(\"failed to load library \" + url);};\n",
       "  document.getElementsByTagName(\"head\")[0].appendChild(s);\n",
       "}\n",
       "\n",
       "if(typeof(LDAvis) !== \"undefined\"){\n",
       "   // already loaded: just create the visualization\n",
       "   !function(LDAvis){\n",
       "       new LDAvis(\"#\" + \"ldavis_el120771405794495338246528377160\", ldavis_el120771405794495338246528377160_data);\n",
       "   }(LDAvis);\n",
       "}else if(typeof define === \"function\" && define.amd){\n",
       "   // require.js is available: use it to load d3/LDAvis\n",
       "   require.config({paths: {d3: \"https://cdnjs.cloudflare.com/ajax/libs/d3/3.5.5/d3.min\"}});\n",
       "   require([\"d3\"], function(d3){\n",
       "      window.d3 = d3;\n",
       "      LDAvis_load_lib(\"https://cdn.rawgit.com/bmabey/pyLDAvis/files/ldavis.v1.0.0.js\", function(){\n",
       "        new LDAvis(\"#\" + \"ldavis_el120771405794495338246528377160\", ldavis_el120771405794495338246528377160_data);\n",
       "      });\n",
       "    });\n",
       "}else{\n",
       "    // require.js not available: dynamically load d3 & LDAvis\n",
       "    LDAvis_load_lib(\"https://cdnjs.cloudflare.com/ajax/libs/d3/3.5.5/d3.min.js\", function(){\n",
       "         LDAvis_load_lib(\"https://cdn.rawgit.com/bmabey/pyLDAvis/files/ldavis.v1.0.0.js\", function(){\n",
       "                 new LDAvis(\"#\" + \"ldavis_el120771405794495338246528377160\", ldavis_el120771405794495338246528377160_data);\n",
       "            })\n",
       "         });\n",
       "}\n",
       "</script>"
      ],
      "text/plain": [
       "<IPython.core.display.HTML object>"
      ]
     },
     "execution_count": 26,
     "metadata": {},
     "output_type": "execute_result"
    }
   ],
   "source": [
    "import pyLDAvis.gensim \n",
    "dictionary = gensim.corpora.Dictionary.load('dictionary.gensim')\n",
    "corpus = pickle.load(open('corpus.pkl', 'rb'))\n",
    "lda = gensim.models.ldamodel.LdaModel.load('model.gensim')\n",
    "lda_display = pyLDAvis.gensim.prepare(lda, corpus, dictionary, sort_topics=False)\n",
    "pyLDAvis.display(lda_display) "
   ]
  },
  {
   "cell_type": "markdown",
   "metadata": {},
   "source": [
    "## <div class=\"alert alert-block alert-success\"><center>Data Preparation - Romney Part<center>"
   ]
  },
  {
   "cell_type": "code",
   "execution_count": 34,
   "metadata": {},
   "outputs": [
    {
     "name": "stderr",
     "output_type": "stream",
     "text": [
      "/Users/zhanghuishan/opt/anaconda3/lib/python3.8/site-packages/IPython/core/interactiveshell.py:3071: DtypeWarning: Columns (5,10,11,14,16,17,19,23,24,26,27,33,34,44,45,47,48,49,50,51,66,72,73) have mixed types.Specify dtype option on import or set low_memory=False.\n",
      "  has_raised = await self.run_ast_nodes(code_ast.body, cell_name,\n"
     ]
    }
   ],
   "source": [
    "df_romney=pd.read_csv('romney2012.csv')"
   ]
  },
  {
   "cell_type": "code",
   "execution_count": 35,
   "metadata": {},
   "outputs": [
    {
     "data": {
      "text/plain": [
       "77246"
      ]
     },
     "execution_count": 35,
     "metadata": {},
     "output_type": "execute_result"
    }
   ],
   "source": [
    "len(df_romney)"
   ]
  },
  {
   "cell_type": "code",
   "execution_count": 36,
   "metadata": {},
   "outputs": [],
   "source": [
    "df_romney = df_romney[['committee_id', 'report_year', 'disbursement_date','recipient_name',\\\n",
    "                     'recipient_state','recipient_city',\\\n",
    "                     'disbursement_purpose_category','disbursement_description','disbursement_amount']]"
   ]
  },
  {
   "cell_type": "code",
   "execution_count": 37,
   "metadata": {},
   "outputs": [],
   "source": [
    "df_romney.drop(df_romney[df_romney['disbursement_purpose_category'] == 'REFUNDS'].index, inplace = True) \n",
    "df_romney.drop(df_romney[df_romney['disbursement_description'] == 'CONTRIBUTION REFUND'].index, inplace = True) \n",
    "df_romney = df_romney[df_romney['disbursement_description'].notna()]"
   ]
  },
  {
   "cell_type": "code",
   "execution_count": 38,
   "metadata": {},
   "outputs": [
    {
     "data": {
      "text/html": [
       "<div>\n",
       "<style scoped>\n",
       "    .dataframe tbody tr th:only-of-type {\n",
       "        vertical-align: middle;\n",
       "    }\n",
       "\n",
       "    .dataframe tbody tr th {\n",
       "        vertical-align: top;\n",
       "    }\n",
       "\n",
       "    .dataframe thead th {\n",
       "        text-align: right;\n",
       "    }\n",
       "</style>\n",
       "<table border=\"1\" class=\"dataframe\">\n",
       "  <thead>\n",
       "    <tr style=\"text-align: right;\">\n",
       "      <th></th>\n",
       "      <th>disbursement_purpose_category</th>\n",
       "      <th>disbursement_amount</th>\n",
       "    </tr>\n",
       "    <tr>\n",
       "      <th>disbursement_purpose_category</th>\n",
       "      <th></th>\n",
       "      <th></th>\n",
       "    </tr>\n",
       "  </thead>\n",
       "  <tbody>\n",
       "    <tr>\n",
       "      <th>ADMINISTRATIVE</th>\n",
       "      <td>9834</td>\n",
       "      <td>3.419669e+07</td>\n",
       "    </tr>\n",
       "    <tr>\n",
       "      <th>ADVERTISING</th>\n",
       "      <td>876</td>\n",
       "      <td>2.033062e+08</td>\n",
       "    </tr>\n",
       "    <tr>\n",
       "      <th>FUNDRAISING</th>\n",
       "      <td>130</td>\n",
       "      <td>4.059917e+07</td>\n",
       "    </tr>\n",
       "    <tr>\n",
       "      <th>LOAN-REPAYMENTS</th>\n",
       "      <td>11</td>\n",
       "      <td>1.880000e+07</td>\n",
       "    </tr>\n",
       "    <tr>\n",
       "      <th>MATERIALS</th>\n",
       "      <td>1439</td>\n",
       "      <td>6.084943e+06</td>\n",
       "    </tr>\n",
       "    <tr>\n",
       "      <th>OTHER</th>\n",
       "      <td>50702</td>\n",
       "      <td>3.066074e+08</td>\n",
       "    </tr>\n",
       "    <tr>\n",
       "      <th>TRANSFERS</th>\n",
       "      <td>116</td>\n",
       "      <td>3.130808e+08</td>\n",
       "    </tr>\n",
       "    <tr>\n",
       "      <th>TRAVEL</th>\n",
       "      <td>10528</td>\n",
       "      <td>6.969824e+06</td>\n",
       "    </tr>\n",
       "  </tbody>\n",
       "</table>\n",
       "</div>"
      ],
      "text/plain": [
       "                               disbursement_purpose_category  \\\n",
       "disbursement_purpose_category                                  \n",
       "ADMINISTRATIVE                                          9834   \n",
       "ADVERTISING                                              876   \n",
       "FUNDRAISING                                              130   \n",
       "LOAN-REPAYMENTS                                           11   \n",
       "MATERIALS                                               1439   \n",
       "OTHER                                                  50702   \n",
       "TRANSFERS                                                116   \n",
       "TRAVEL                                                 10528   \n",
       "\n",
       "                               disbursement_amount  \n",
       "disbursement_purpose_category                       \n",
       "ADMINISTRATIVE                        3.419669e+07  \n",
       "ADVERTISING                           2.033062e+08  \n",
       "FUNDRAISING                           4.059917e+07  \n",
       "LOAN-REPAYMENTS                       1.880000e+07  \n",
       "MATERIALS                             6.084943e+06  \n",
       "OTHER                                 3.066074e+08  \n",
       "TRANSFERS                             3.130808e+08  \n",
       "TRAVEL                                6.969824e+06  "
      ]
     },
     "execution_count": 38,
     "metadata": {},
     "output_type": "execute_result"
    }
   ],
   "source": [
    "df_romney.groupby('disbursement_purpose_category').agg({'disbursement_purpose_category':'count','disbursement_amount':'sum'})"
   ]
  },
  {
   "cell_type": "code",
   "execution_count": 39,
   "metadata": {},
   "outputs": [
    {
     "data": {
      "text/html": [
       "<div>\n",
       "<style scoped>\n",
       "    .dataframe tbody tr th:only-of-type {\n",
       "        vertical-align: middle;\n",
       "    }\n",
       "\n",
       "    .dataframe tbody tr th {\n",
       "        vertical-align: top;\n",
       "    }\n",
       "\n",
       "    .dataframe thead th {\n",
       "        text-align: right;\n",
       "    }\n",
       "</style>\n",
       "<table border=\"1\" class=\"dataframe\">\n",
       "  <thead>\n",
       "    <tr style=\"text-align: right;\">\n",
       "      <th></th>\n",
       "      <th>disbursement_description</th>\n",
       "      <th>disbursement_amount</th>\n",
       "    </tr>\n",
       "    <tr>\n",
       "      <th>disbursement_description</th>\n",
       "      <th></th>\n",
       "      <th></th>\n",
       "    </tr>\n",
       "  </thead>\n",
       "  <tbody>\n",
       "    <tr>\n",
       "      <th>AIR</th>\n",
       "      <td>12048</td>\n",
       "      <td>2.108534e+07</td>\n",
       "    </tr>\n",
       "    <tr>\n",
       "      <th>AIR  (6/7/12)</th>\n",
       "      <td>1</td>\n",
       "      <td>9.194250e+03</td>\n",
       "    </tr>\n",
       "    <tr>\n",
       "      <th>AIR (05/30/12)</th>\n",
       "      <td>1</td>\n",
       "      <td>2.478680e+03</td>\n",
       "    </tr>\n",
       "    <tr>\n",
       "      <th>AIR (06/20/2012)</th>\n",
       "      <td>1</td>\n",
       "      <td>1.779013e+04</td>\n",
       "    </tr>\n",
       "    <tr>\n",
       "      <th>AIR (07/13/12)</th>\n",
       "      <td>1</td>\n",
       "      <td>1.677419e+04</td>\n",
       "    </tr>\n",
       "    <tr>\n",
       "      <th>...</th>\n",
       "      <td>...</td>\n",
       "      <td>...</td>\n",
       "    </tr>\n",
       "    <tr>\n",
       "      <th>VOIDED CHECK - ORIGINAL DATE: 09/24/2012</th>\n",
       "      <td>1</td>\n",
       "      <td>-2.885000e+03</td>\n",
       "    </tr>\n",
       "    <tr>\n",
       "      <th>VOIDED CHECK - ORIGINAL DATE: 10/16/2012</th>\n",
       "      <td>1</td>\n",
       "      <td>-3.374400e+03</td>\n",
       "    </tr>\n",
       "    <tr>\n",
       "      <th>WEB DEVELOPMENT</th>\n",
       "      <td>1</td>\n",
       "      <td>3.990000e+02</td>\n",
       "    </tr>\n",
       "    <tr>\n",
       "      <th>WEB HOSTING</th>\n",
       "      <td>8</td>\n",
       "      <td>3.356667e+04</td>\n",
       "    </tr>\n",
       "    <tr>\n",
       "      <th>WIRING INFRASTRUCTURE</th>\n",
       "      <td>5</td>\n",
       "      <td>3.843222e+04</td>\n",
       "    </tr>\n",
       "  </tbody>\n",
       "</table>\n",
       "<p>514 rows × 2 columns</p>\n",
       "</div>"
      ],
      "text/plain": [
       "                                          disbursement_description  \\\n",
       "disbursement_description                                             \n",
       " AIR                                                         12048   \n",
       " AIR  (6/7/12)                                                   1   \n",
       " AIR (05/30/12)                                                  1   \n",
       " AIR (06/20/2012)                                                1   \n",
       " AIR (07/13/12)                                                  1   \n",
       "...                                                            ...   \n",
       "VOIDED CHECK - ORIGINAL DATE: 09/24/2012                         1   \n",
       "VOIDED CHECK - ORIGINAL DATE: 10/16/2012                         1   \n",
       "WEB DEVELOPMENT                                                  1   \n",
       "WEB HOSTING                                                      8   \n",
       "WIRING INFRASTRUCTURE                                            5   \n",
       "\n",
       "                                          disbursement_amount  \n",
       "disbursement_description                                       \n",
       " AIR                                             2.108534e+07  \n",
       " AIR  (6/7/12)                                   9.194250e+03  \n",
       " AIR (05/30/12)                                  2.478680e+03  \n",
       " AIR (06/20/2012)                                1.779013e+04  \n",
       " AIR (07/13/12)                                  1.677419e+04  \n",
       "...                                                       ...  \n",
       "VOIDED CHECK - ORIGINAL DATE: 09/24/2012        -2.885000e+03  \n",
       "VOIDED CHECK - ORIGINAL DATE: 10/16/2012        -3.374400e+03  \n",
       "WEB DEVELOPMENT                                  3.990000e+02  \n",
       "WEB HOSTING                                      3.356667e+04  \n",
       "WIRING INFRASTRUCTURE                            3.843222e+04  \n",
       "\n",
       "[514 rows x 2 columns]"
      ]
     },
     "execution_count": 39,
     "metadata": {},
     "output_type": "execute_result"
    }
   ],
   "source": [
    "df_romney.groupby('disbursement_description').agg({'disbursement_description':'count','disbursement_amount':'sum'})"
   ]
  },
  {
   "cell_type": "code",
   "execution_count": 40,
   "metadata": {},
   "outputs": [
    {
     "data": {
      "text/plain": [
       "73636"
      ]
     },
     "execution_count": 40,
     "metadata": {},
     "output_type": "execute_result"
    }
   ],
   "source": [
    "len(df_romney)"
   ]
  },
  {
   "cell_type": "markdown",
   "metadata": {},
   "source": [
    "## <div class=\"alert alert-block alert-success\"><center>Text Clustering - Romney Part<center>"
   ]
  },
  {
   "cell_type": "code",
   "execution_count": 41,
   "metadata": {},
   "outputs": [],
   "source": [
    "# Import data for LDA analysis and return text_data\n",
    "import random\n",
    "text_data = []\n",
    "for line in df_romney['disbursement_description']:\n",
    "    tokens = prepare_text_for_lda(line)\n",
    "    if random.random() > .99:\n",
    "        #print(tokens)\n",
    "        text_data.append(tokens)"
   ]
  },
  {
   "cell_type": "code",
   "execution_count": 42,
   "metadata": {},
   "outputs": [],
   "source": [
    "from gensim import corpora \n",
    "dictionary = corpora.Dictionary(text_data)\n",
    "corpus = [dictionary.doc2bow(text) for text in text_data]\n",
    "import pickle\n",
    "pickle.dump(corpus, open('corpus.pkl', 'wb'))\n",
    "dictionary.save('dictionary.gensim')"
   ]
  },
  {
   "cell_type": "code",
   "execution_count": 63,
   "metadata": {},
   "outputs": [
    {
     "name": "stdout",
     "output_type": "stream",
     "text": [
      "(0, '0.379*\"payroll\" + 0.223*\"service\" + 0.058*\"catering\" + 0.035*\"printing\" + 0.035*\"design\"')\n",
      "(1, '0.459*\"air\" + 0.298*\"lodging\" + 0.065*\"credit\" + 0.027*\"purchase\" + 0.018*\"office\"')\n",
      "(2, '0.121*\"travel\" + 0.121*\"food\" + 0.098*\"ground\" + 0.098*\"transportation\" + 0.092*\"consulting\"')\n",
      "(3, '0.318*\"fee\" + 0.302*\"bank\" + 0.100*\"rental\" + 0.088*\"car\" + 0.027*\"expense\"')\n"
     ]
    }
   ],
   "source": [
    "import gensim # package for topic modeling\n",
    "NUM_TOPICS = 4 # trial number based on understanding of the data file & research aims\n",
    "ldamodel = gensim.models.ldamodel.LdaModel(corpus, num_topics = NUM_TOPICS, id2word=dictionary, passes=20)\n",
    "ldamodel.save('model.gensim')\n",
    "topics = ldamodel.print_topics(num_words=5)\n",
    "for topic in topics:\n",
    "    print(topic)"
   ]
  },
  {
   "cell_type": "code",
   "execution_count": 64,
   "metadata": {},
   "outputs": [
    {
     "data": {
      "text/html": [
       "\n",
       "<link rel=\"stylesheet\" type=\"text/css\" href=\"https://cdn.rawgit.com/bmabey/pyLDAvis/files/ldavis.v1.0.0.css\">\n",
       "\n",
       "\n",
       "<div id=\"ldavis_el12077140579547140720694471945\"></div>\n",
       "<script type=\"text/javascript\">\n",
       "\n",
       "var ldavis_el12077140579547140720694471945_data = {\"mdsDat\": {\"x\": [0.05555885086082441, -0.35588052441182305, 0.054637116779009176, 0.24568455677198936], \"y\": [-0.2742570174252502, 0.12302463121624171, -0.11444284847231498, 0.2656752346813236], \"topics\": [1, 2, 3, 4], \"cluster\": [1, 1, 1, 1], \"Freq\": [18.092248916625977, 24.09671401977539, 17.46148681640625, 40.34954833984375]}, \"tinfo\": {\"Term\": [\"air\", \"payroll\", \"fee\", \"bank\", \"lodging\", \"service\", \"travel\", \"food\", \"ground\", \"transportation\", \"car\", \"consulting\", \"rental\", \"event\", \"credit\", \"catering\", \"kind\", \"delivery\", \"design\", \"printing\", \"equipment\", \"broadband\", \"purchase\", \"software\", \"expense\", \"meeting\", \"supply\", \"security\", \"photography\", \"merchant\", \"payroll\", \"printing\", \"design\", \"service\", \"broadband\", \"software\", \"photography\", \"catering\", \"medium\", \"fuel\", \"legal\", \"staff\", \"jfc\", \"fundraising\", \"expe\", \"/travel\", \"reimb\", \"data\", \"telemarketing\", \"management\", \"placed\", \"production\", \"registration\", \"mobile\", \"phone\", \"storage\", \"file\", \"transaction\", \"floral\", \"meal\", \"rental/\", \"parking\", \"facility\", \"audio\", \"visual\", \"air\", \"lodging\", \"credit\", \"purchase\", \"merchant\", \"rail\", \"subscription\", \"domain\", \"online\", \"equipment\", \"office\", \"file\", \"storage\", \"transaction\", \"floral\", \"meal\", \"filing\", \"phone\", \"mobile\", \"mail\", \"direct\", \"communication\", \"policy\", \"advertising\", \"parking\", \"licensing\", \"support\", \"network\", \"music\", \"registration\", \"placed\", \"fee\", \"bank\", \"rental\", \"food\", \"travel\", \"service\", \"car\", \"expense\", \"payroll\", \"meeting\", \"broadband\", \"delivery\", \"consulting\", \"legal\", \"kind\", \"utility\", \"rent\", \"list\", \"tax\", \"travel\", \"food\", \"ground\", \"transportation\", \"consulting\", \"event\", \"kind\", \"delivery\", \"security\", \"list\", \"rent\", \"utility\", \"contribution\", \"digital\", \"network\", \"music\", \"support\", \"licensing\", \"advertising\", \"policy\", \"communication\", \"parking\", \"equipment\", \"postage\", \"online\", \"mail\", \"direct\", \"storage\", \"file\", \"floral\", \"rental\", \"service\", \"legal\", \"supply\", \"fee\", \"bank\", \"car\", \"expense\", \"meeting\", \"supply\", \"facility\", \"rental\", \"visual\", \"audio\", \"rental/\", \"tax\", \"office\", \"filing\", \"meal\", \"floral\", \"transaction\", \"file\", \"storage\", \"phone\", \"mobile\", \"direct\", \"mail\", \"postage\", \"catering\", \"communication\", \"policy\", \"registration\", \"parking\", \"advertising\", \"service\", \"digital\", \"merchant\", \"consulting\", \"kind\"], \"Freq\": [132.0, 82.0, 153.0, 145.0, 86.0, 52.0, 25.0, 25.0, 21.0, 21.0, 43.0, 19.0, 57.0, 16.0, 19.0, 15.0, 9.0, 9.0, 8.0, 8.0, 11.0, 6.0, 8.0, 5.0, 13.0, 11.0, 11.0, 4.0, 4.0, 6.0, 81.59767150878906, 7.472306728363037, 7.472305774688721, 48.01939010620117, 6.275146484375, 5.080765247344971, 3.8853681087493896, 12.53073501586914, 2.689762830734253, 2.689361810684204, 2.6765074729919434, 1.4943760633468628, 1.4943759441375732, 1.494375228881836, 1.4943748712539673, 1.4943746328353882, 1.4943748712539673, 1.4943174123764038, 1.4943169355392456, 1.494313359260559, 1.4941335916519165, 1.4941301345825195, 1.4911060333251953, 0.3502007722854614, 0.35019806027412415, 0.29953616857528687, 0.29953476786613464, 0.2995297610759735, 0.2995271682739258, 0.2993025481700897, 0.38581138849258423, 0.3154544532299042, 0.38000574707984924, 0.3306314945220947, 0.3306262195110321, 131.64633178710938, 85.60285949707031, 18.614707946777344, 7.743793487548828, 5.222742080688477, 3.557281494140625, 3.556929111480713, 2.720163583755493, 3.575221061706543, 5.206488609313965, 5.275822639465332, 0.20953617990016937, 0.20953623950481415, 0.20953573286533356, 0.2095339447259903, 0.2094559669494629, 0.20941965281963348, 0.20953093469142914, 0.209530308842659, 0.20956158638000488, 0.20956085622310638, 0.2094016671180725, 0.20940087735652924, 0.2094365656375885, 0.2094389945268631, 0.20938661694526672, 0.20938564836978912, 0.20938532054424286, 0.20938506722450256, 0.20938284695148468, 0.20938505232334137, 0.22284521162509918, 0.2149522602558136, 0.21058715879917145, 0.21045871078968048, 0.210231751203537, 0.2100403904914856, 0.21001112461090088, 0.20997941493988037, 0.20996613800525665, 0.20995700359344482, 0.20995628833770752, 0.20986530184745789, 0.20984917879104614, 0.20983664691448212, 0.20983007550239563, 0.20980304479599, 0.2097928822040558, 0.20977863669395447, 0.20976167917251587, 25.070905685424805, 25.07010269165039, 20.353046417236328, 20.353012084960938, 19.14863395690918, 15.628289222717285, 8.538058280944824, 8.540438652038574, 3.8303308486938477, 2.6539628505706787, 2.6538572311401367, 2.65384578704834, 2.6538329124450684, 2.5691702365875244, 1.4745033979415894, 1.4745017290115356, 1.4745010137557983, 1.4745004177093506, 1.4744212627410889, 1.4618964195251465, 1.4617599248886108, 1.4582021236419678, 6.230469703674316, 1.486904501914978, 1.4491677284240723, 0.4276524484157562, 0.42764127254486084, 0.29557788372039795, 0.2955764830112457, 0.2955728769302368, 8.506489753723145, 3.126735210418701, 0.3062101900577545, 0.32020366191864014, 152.5951690673828, 145.0263671875, 42.30760955810547, 12.83642864227295, 11.152005195617676, 11.137195587158203, 8.572746276855469, 48.23008346557617, 3.5554964542388916, 3.5554914474487305, 2.6746699810028076, 1.89216148853302, 10.262795448303223, 1.0518372058868408, 1.0517147779464722, 1.0513132810592651, 1.0513094663619995, 1.0513030290603638, 1.051301121711731, 1.015578031539917, 1.0155770778656006, 0.9569257497787476, 0.9569172859191895, 1.0430234670639038, 2.541917324066162, 0.21957772970199585, 0.21948304772377014, 0.21266360580921173, 0.21057642996311188, 0.21054595708847046, 1.6301624774932861, 0.27123817801475525, 0.21962131559848785, 0.2267988920211792, 0.22100169956684113], \"Total\": [132.0, 82.0, 153.0, 145.0, 86.0, 52.0, 25.0, 25.0, 21.0, 21.0, 43.0, 19.0, 57.0, 16.0, 19.0, 15.0, 9.0, 9.0, 8.0, 8.0, 11.0, 6.0, 8.0, 5.0, 13.0, 11.0, 11.0, 4.0, 4.0, 6.0, 82.31468963623047, 8.187296867370605, 8.187295913696289, 52.986328125, 6.991240501403809, 5.796020030975342, 4.6004438400268555, 15.577373504638672, 3.404832601547241, 3.404763698577881, 3.4040563106536865, 2.2092597484588623, 2.2092597484588623, 2.2092597484588623, 2.209259510040283, 2.209259510040283, 2.2092597484588623, 2.209249258041382, 2.2092490196228027, 2.2092485427856445, 2.209216356277466, 2.209216594696045, 2.2083089351654053, 1.8709018230438232, 1.8709012269973755, 1.8559514284133911, 1.8559504747390747, 1.8559479713439941, 1.8559472560882568, 1.855830430984497, 3.5653910636901855, 2.1936721801757812, 9.457677841186523, 4.391107559204102, 4.3911051750183105, 132.468994140625, 86.417236328125, 19.436050415039062, 8.54918384552002, 6.037631511688232, 4.3630595207214355, 4.362904071807861, 3.5256130695343018, 5.535280227661133, 11.947543144226074, 16.1442813873291, 1.8559504747390747, 1.8559514284133911, 1.8559479713439941, 1.8559472560882568, 1.855830430984497, 1.8558013439178467, 1.8709012269973755, 1.8709018230438232, 1.8937398195266724, 1.8937366008758545, 2.1898865699768066, 2.189925193786621, 2.1935055255889893, 2.1936721801757812, 2.193528175354004, 2.193528175354004, 2.193528890609741, 2.193528652191162, 2.2083089351654053, 2.209216356277466, 153.4165802001953, 145.8382568359375, 57.256229400634766, 25.791194915771484, 25.79140853881836, 52.986328125, 43.11439895629883, 13.64492416381836, 82.31468963623047, 11.961103439331055, 6.991240501403809, 9.272802352905273, 19.885604858398438, 3.4040563106536865, 9.268649101257324, 3.3732800483703613, 3.373283624649048, 3.3732962608337402, 2.6982927322387695, 25.79140853881836, 25.791194915771484, 21.07219886779785, 21.072181701660156, 19.885604858398438, 16.351064682006836, 9.268649101257324, 9.272802352905273, 4.553404808044434, 3.3732962608337402, 3.373283624649048, 3.3732800483703613, 3.3734593391418457, 3.349050998687744, 2.193528890609741, 2.193528652191162, 2.193528175354004, 2.193528175354004, 2.1935055255889893, 2.189925193786621, 2.1898865699768066, 2.1936721801757812, 11.947543144226074, 3.03913950920105, 5.535280227661133, 1.8937398195266724, 1.8937366008758545, 1.8559514284133911, 1.8559504747390747, 1.8559472560882568, 57.256229400634766, 52.986328125, 3.4040563106536865, 11.967202186584473, 153.4165802001953, 145.8382568359375, 43.11439895629883, 13.64492416381836, 11.961103439331055, 11.967202186584473, 9.457677841186523, 57.256229400634766, 4.3911051750183105, 4.391107559204102, 3.5653910636901855, 2.6982927322387695, 16.1442813873291, 1.8558013439178467, 1.855830430984497, 1.8559472560882568, 1.8559479713439941, 1.8559504747390747, 1.8559514284133911, 1.8709012269973755, 1.8709018230438232, 1.8937366008758545, 1.8937398195266724, 3.03913950920105, 15.577373504638672, 2.1898865699768066, 2.189925193786621, 2.2083089351654053, 2.1936721801757812, 2.1935055255889893, 52.986328125, 3.349050998687744, 6.037631511688232, 19.885604858398438, 9.268649101257324], \"Category\": [\"Default\", \"Default\", \"Default\", \"Default\", \"Default\", \"Default\", \"Default\", \"Default\", \"Default\", \"Default\", \"Default\", \"Default\", \"Default\", \"Default\", \"Default\", \"Default\", \"Default\", \"Default\", \"Default\", \"Default\", \"Default\", \"Default\", \"Default\", \"Default\", \"Default\", \"Default\", \"Default\", \"Default\", \"Default\", \"Default\", \"Topic1\", \"Topic1\", \"Topic1\", \"Topic1\", \"Topic1\", \"Topic1\", \"Topic1\", \"Topic1\", \"Topic1\", \"Topic1\", \"Topic1\", \"Topic1\", \"Topic1\", \"Topic1\", \"Topic1\", \"Topic1\", \"Topic1\", \"Topic1\", \"Topic1\", \"Topic1\", \"Topic1\", \"Topic1\", \"Topic1\", \"Topic1\", \"Topic1\", \"Topic1\", \"Topic1\", \"Topic1\", \"Topic1\", \"Topic1\", \"Topic1\", \"Topic1\", \"Topic1\", \"Topic1\", \"Topic1\", \"Topic2\", \"Topic2\", \"Topic2\", \"Topic2\", \"Topic2\", \"Topic2\", \"Topic2\", \"Topic2\", \"Topic2\", \"Topic2\", \"Topic2\", \"Topic2\", \"Topic2\", \"Topic2\", \"Topic2\", \"Topic2\", \"Topic2\", \"Topic2\", \"Topic2\", \"Topic2\", \"Topic2\", \"Topic2\", \"Topic2\", \"Topic2\", \"Topic2\", \"Topic2\", \"Topic2\", \"Topic2\", \"Topic2\", \"Topic2\", \"Topic2\", \"Topic2\", \"Topic2\", \"Topic2\", \"Topic2\", \"Topic2\", \"Topic2\", \"Topic2\", \"Topic2\", \"Topic2\", \"Topic2\", \"Topic2\", \"Topic2\", \"Topic2\", \"Topic2\", \"Topic2\", \"Topic2\", \"Topic2\", \"Topic2\", \"Topic2\", \"Topic3\", \"Topic3\", \"Topic3\", \"Topic3\", \"Topic3\", \"Topic3\", \"Topic3\", \"Topic3\", \"Topic3\", \"Topic3\", \"Topic3\", \"Topic3\", \"Topic3\", \"Topic3\", \"Topic3\", \"Topic3\", \"Topic3\", \"Topic3\", \"Topic3\", \"Topic3\", \"Topic3\", \"Topic3\", \"Topic3\", \"Topic3\", \"Topic3\", \"Topic3\", \"Topic3\", \"Topic3\", \"Topic3\", \"Topic3\", \"Topic3\", \"Topic3\", \"Topic3\", \"Topic3\", \"Topic4\", \"Topic4\", \"Topic4\", \"Topic4\", \"Topic4\", \"Topic4\", \"Topic4\", \"Topic4\", \"Topic4\", \"Topic4\", \"Topic4\", \"Topic4\", \"Topic4\", \"Topic4\", \"Topic4\", \"Topic4\", \"Topic4\", \"Topic4\", \"Topic4\", \"Topic4\", \"Topic4\", \"Topic4\", \"Topic4\", \"Topic4\", \"Topic4\", \"Topic4\", \"Topic4\", \"Topic4\", \"Topic4\", \"Topic4\", \"Topic4\", \"Topic4\", \"Topic4\", \"Topic4\", \"Topic4\"], \"logprob\": [30.0, 29.0, 28.0, 27.0, 26.0, 25.0, 24.0, 23.0, 22.0, 21.0, 20.0, 19.0, 18.0, 17.0, 16.0, 15.0, 14.0, 13.0, 12.0, 11.0, 10.0, 9.0, 8.0, 7.0, 6.0, 5.0, 4.0, 3.0, 2.0, 1.0, -0.9710999727249146, -3.3617000579833984, -3.3617000579833984, -1.5012999773025513, -3.53629994392395, -3.7474000453948975, -4.015600204467773, -2.8447000980377197, -4.383399963378906, -4.383600234985352, -4.388299942016602, -4.971199989318848, -4.971199989318848, -4.971199989318848, -4.971199989318848, -4.971199989318848, -4.971199989318848, -4.971199989318848, -4.971199989318848, -4.971199989318848, -4.97130012512207, -4.97130012512207, -4.973299980163574, -6.422100067138672, -6.422100067138672, -6.578400135040283, -6.578400135040283, -6.578400135040283, -6.578400135040283, -6.57919979095459, -6.325300216674805, -6.526599884033203, -6.340400218963623, -6.479599952697754, -6.479599952697754, -0.7792999744415283, -1.2096999883651733, -2.7355000972747803, -3.612600088119507, -4.006400108337402, -4.390500068664551, -4.390600204467773, -4.65880012512207, -4.38539981842041, -4.009500026702881, -3.996299982070923, -7.222300052642822, -7.222300052642822, -7.222300052642822, -7.222300052642822, -7.222700119018555, -7.222899913787842, -7.222300052642822, -7.222300052642822, -7.2221999168396, -7.2221999168396, -7.2230000495910645, -7.2230000495910645, -7.222799777984619, -7.222799777984619, -7.2230000495910645, -7.2230000495910645, -7.2230000495910645, -7.2230000495910645, -7.2230000495910645, -7.2230000495910645, -7.160699844360352, -7.196800231933594, -7.217299938201904, -7.217899799346924, -7.218999862670898, -7.219900131225586, -7.21999979019165, -7.220200061798096, -7.220300197601318, -7.220300197601318, -7.220300197601318, -7.220699787139893, -7.220799922943115, -7.220900058746338, -7.220900058746338, -7.2210001945495605, -7.221099853515625, -7.221199989318848, -7.221199989318848, -2.1157000064849854, -2.1157000064849854, -2.3241000175476074, -2.3241000175476074, -2.3850998878479004, -2.5882999897003174, -3.1928000450134277, -3.1926000118255615, -3.9944000244140625, -4.361299991607666, -4.361400127410889, -4.361400127410889, -4.361400127410889, -4.393799781799316, -4.949100017547607, -4.949100017547607, -4.949100017547607, -4.949100017547607, -4.949100017547607, -4.957600116729736, -4.957699775695801, -4.96019983291626, -3.5078999996185303, -4.940700054168701, -4.966400146484375, -6.186800003051758, -6.186800003051758, -6.55620002746582, -6.55620002746582, -6.55620002746582, -3.196500062942505, -4.197400093078613, -6.520899772644043, -6.476200103759766, -1.1471999883651733, -1.1979999542236328, -2.430000066757202, -3.6226999759674072, -3.7632999420166016, -3.764699935913086, -4.026400089263916, -2.2990000247955322, -4.906499862670898, -4.906499862670898, -5.191100120544434, -5.537199974060059, -3.846400022506714, -6.1244001388549805, -6.124499797821045, -6.124899864196777, -6.124899864196777, -6.124899864196777, -6.124899864196777, -6.1595001220703125, -6.1595001220703125, -6.218999862670898, -6.218999862670898, -6.132800102233887, -5.242000102996826, -7.690999984741211, -7.691400051116943, -7.7230000495910645, -7.732900142669678, -7.732999801635742, -5.686299800872803, -7.479700088500977, -7.690800189971924, -7.658699989318848, -7.684500217437744], \"loglift\": [30.0, 29.0, 28.0, 27.0, 26.0, 25.0, 24.0, 23.0, 22.0, 21.0, 20.0, 19.0, 18.0, 17.0, 16.0, 15.0, 14.0, 13.0, 12.0, 11.0, 10.0, 9.0, 8.0, 7.0, 6.0, 5.0, 4.0, 3.0, 2.0, 1.0, 1.7008999586105347, 1.618299961090088, 1.618299961090088, 1.611299991607666, 1.6016000509262085, 1.5779999494552612, 1.5407999753952026, 1.4921000003814697, 1.4738999605178833, 1.4737999439239502, 1.4692000150680542, 1.3186999559402466, 1.3186999559402466, 1.3186999559402466, 1.3186999559402466, 1.3186999559402466, 1.3186999559402466, 1.3186999559402466, 1.3186999559402466, 1.3186999559402466, 1.318600058555603, 1.318600058555603, 1.3170000314712524, 0.03400000184774399, 0.03400000184774399, -0.11420000344514847, -0.11420000344514847, -0.11429999768733978, -0.11429999768733978, -0.11490000039339066, -0.5139999985694885, -0.2295999974012375, -1.504699945449829, -0.8766000270843506, -0.8766999840736389, 1.4169000387191772, 1.413599967956543, 1.3798999786376953, 1.3242000341415405, 1.2781000137329102, 1.2188999652862549, 1.2188999652862549, 1.163699984550476, 0.9860000014305115, 0.5924999713897705, 0.30469998717308044, -0.7581999897956848, -0.7581999897956848, -0.7581999897956848, -0.7581999897956848, -0.7584999799728394, -0.7585999965667725, -0.7662000060081482, -0.7662000060081482, -0.7781999707221985, -0.7781999707221985, -0.9243000149726868, -0.9243000149726868, -0.9257000088691711, -0.9258000254631042, -0.9259999990463257, -0.9259999990463257, -0.9259999990463257, -0.9259999990463257, -0.932699978351593, -0.9330999851226807, -5.111299991607666, -5.096700191497803, -4.182300090789795, -3.3854000568389893, -3.3864998817443848, -4.107399940490723, -3.901400089263916, -2.750999927520752, -4.548299789428711, -2.6194000244140625, -2.08240008354187, -2.365299940109253, -3.1282999515533447, -1.3632999658584595, -2.365000009536743, -1.3544000387191772, -1.3544000387191772, -1.3545000553131104, -1.1312999725341797, 1.7167999744415283, 1.7167999744415283, 1.7103999853134155, 1.7103999853134155, 1.7073999643325806, 1.7000000476837158, 1.663100004196167, 1.6628999710083008, 1.5721999406814575, 1.5053000450134277, 1.5053000450134277, 1.5053000450134277, 1.5052000284194946, 1.4801000356674194, 1.3480000495910645, 1.3480000495910645, 1.3480000495910645, 1.3480000495910645, 1.3479000329971313, 1.340999960899353, 1.340999960899353, 1.3367999792099, 1.094099998474121, 1.0303000211715698, 0.4050000011920929, 0.2572000026702881, 0.257099986076355, -0.09200000017881393, -0.09210000187158585, -0.09210000187158585, -0.1615000069141388, -1.0849000215530396, -0.6632999777793884, -1.8758000135421753, 0.9021999835968018, 0.9020000100135803, 0.888700008392334, 0.8464999794960022, 0.8374999761581421, 0.8356999754905701, 0.8094000220298767, 0.7360000014305115, 0.6965000033378601, 0.6965000033378601, 0.6201000213623047, 0.5526999831199646, 0.4544999897480011, 0.33980000019073486, 0.33970001339912415, 0.3391999900341034, 0.3391999900341034, 0.3391999900341034, 0.3391999900341034, 0.29660001397132874, 0.29660001397132874, 0.22499999403953552, 0.22499999403953552, -0.16189999878406525, -0.9053000211715698, -1.392300009727478, -1.392799973487854, -1.4327000379562378, -1.4358999729156494, -1.4359999895095825, -2.5738000869750977, -1.6058000326156616, -2.4063000679016113, -3.5660998821258545, -2.8285999298095703]}, \"token.table\": {\"Topic\": [1, 3, 2, 4, 4, 1, 4, 1, 4, 3, 3, 3, 2, 1, 3, 1, 3, 4, 2, 2, 3, 3, 1, 4, 4, 4, 4, 4, 4, 3, 1, 1, 3, 1, 3, 1, 3, 3, 2, 4, 1, 4, 1, 4, 2, 4, 3, 3, 2, 4, 2, 3, 3, 1, 4, 1, 1, 3, 3, 4, 1, 1, 2, 2, 1, 1, 3, 3, 4, 4, 3, 1, 3, 4, 1, 1, 4, 2, 4, 3, 4, 1, 4, 3, 3, 3, 4], \"Freq\": [0.4526403546333313, 0.4558912515640259, 0.9964596033096313, 0.9109318852424622, 0.9942521452903748, 0.8582168221473694, 0.9741525053977966, 0.834543764591217, 0.1925870180130005, 0.4566446542739868, 0.9554650187492371, 0.8892948627471924, 0.9775648713111877, 0.45264244079589844, 0.9705803990364075, 0.8549831509590149, 0.8957761526107788, 0.5280565619468689, 0.8509158492088318, 0.4184960722923279, 0.5021952986717224, 0.9785295724868774, 0.4526403546333313, 0.9527352452278137, 0.9516078233718872, 0.9972846508026123, 0.5388074517250061, 0.5388507843017578, 0.5388084053993225, 0.9693230390548706, 0.8811184167861938, 0.4526402950286865, 0.9491178393363953, 0.4526402950286865, 0.9710152745246887, 0.8813015222549438, 0.4558865427970886, 0.8893378376960754, 0.995171844959259, 0.5280556678771973, 0.4526425898075104, 0.5388423204421997, 0.881100594997406, 0.9196475744247437, 0.8281393051147461, 0.5345016121864319, 0.45588645339012146, 0.4558863937854767, 0.3097071945667267, 0.6194143891334534, 0.7226372957229614, 0.18065932393074036, 0.4558566212654114, 0.9961770176887512, 0.5345017313957214, 0.8694813251495361, 0.45264920592308044, 0.45663660764694214, 0.3290404975414276, 0.3290404975414276, 0.8549830317497253, 0.45264914631843567, 0.9357618689537048, 0.91678786277771, 0.45283520221710205, 0.4526402950286865, 0.8893411755561829, 0.15718813240528107, 0.838336706161499, 0.841422438621521, 0.8784635066986084, 0.9058940410614014, 0.056618377566337585, 0.03774558752775192, 0.8626609444618225, 0.4526402950286865, 0.538807213306427, 0.9168205261230469, 0.9191789031028748, 0.4558865427970886, 0.7412094473838806, 0.4526425004005432, 0.5388082265853882, 0.9491186141967773, 0.9693150520324707, 0.8893421292304993, 0.9109324216842651], \"Term\": [\"/travel\", \"advertising\", \"air\", \"audio\", \"bank\", \"broadband\", \"car\", \"catering\", \"catering\", \"communication\", \"consulting\", \"contribution\", \"credit\", \"data\", \"delivery\", \"design\", \"digital\", \"direct\", \"domain\", \"equipment\", \"equipment\", \"event\", \"expe\", \"expense\", \"facility\", \"fee\", \"file\", \"filing\", \"floral\", \"food\", \"fuel\", \"fundraising\", \"ground\", \"jfc\", \"kind\", \"legal\", \"licensing\", \"list\", \"lodging\", \"mail\", \"management\", \"meal\", \"medium\", \"meeting\", \"merchant\", \"mobile\", \"music\", \"network\", \"office\", \"office\", \"online\", \"online\", \"parking\", \"payroll\", \"phone\", \"photography\", \"placed\", \"policy\", \"postage\", \"postage\", \"printing\", \"production\", \"purchase\", \"rail\", \"registration\", \"reimb\", \"rent\", \"rental\", \"rental\", \"rental/\", \"security\", \"service\", \"service\", \"service\", \"software\", \"staff\", \"storage\", \"subscription\", \"supply\", \"support\", \"tax\", \"telemarketing\", \"transaction\", \"transportation\", \"travel\", \"utility\", \"visual\"]}, \"R\": 30, \"lambda.step\": 0.01, \"plot.opts\": {\"xlab\": \"PC1\", \"ylab\": \"PC2\"}, \"topic.order\": [1, 2, 3, 4]};\n",
       "\n",
       "function LDAvis_load_lib(url, callback){\n",
       "  var s = document.createElement('script');\n",
       "  s.src = url;\n",
       "  s.async = true;\n",
       "  s.onreadystatechange = s.onload = callback;\n",
       "  s.onerror = function(){console.warn(\"failed to load library \" + url);};\n",
       "  document.getElementsByTagName(\"head\")[0].appendChild(s);\n",
       "}\n",
       "\n",
       "if(typeof(LDAvis) !== \"undefined\"){\n",
       "   // already loaded: just create the visualization\n",
       "   !function(LDAvis){\n",
       "       new LDAvis(\"#\" + \"ldavis_el12077140579547140720694471945\", ldavis_el12077140579547140720694471945_data);\n",
       "   }(LDAvis);\n",
       "}else if(typeof define === \"function\" && define.amd){\n",
       "   // require.js is available: use it to load d3/LDAvis\n",
       "   require.config({paths: {d3: \"https://cdnjs.cloudflare.com/ajax/libs/d3/3.5.5/d3.min\"}});\n",
       "   require([\"d3\"], function(d3){\n",
       "      window.d3 = d3;\n",
       "      LDAvis_load_lib(\"https://cdn.rawgit.com/bmabey/pyLDAvis/files/ldavis.v1.0.0.js\", function(){\n",
       "        new LDAvis(\"#\" + \"ldavis_el12077140579547140720694471945\", ldavis_el12077140579547140720694471945_data);\n",
       "      });\n",
       "    });\n",
       "}else{\n",
       "    // require.js not available: dynamically load d3 & LDAvis\n",
       "    LDAvis_load_lib(\"https://cdnjs.cloudflare.com/ajax/libs/d3/3.5.5/d3.min.js\", function(){\n",
       "         LDAvis_load_lib(\"https://cdn.rawgit.com/bmabey/pyLDAvis/files/ldavis.v1.0.0.js\", function(){\n",
       "                 new LDAvis(\"#\" + \"ldavis_el12077140579547140720694471945\", ldavis_el12077140579547140720694471945_data);\n",
       "            })\n",
       "         });\n",
       "}\n",
       "</script>"
      ],
      "text/plain": [
       "<IPython.core.display.HTML object>"
      ]
     },
     "execution_count": 64,
     "metadata": {},
     "output_type": "execute_result"
    }
   ],
   "source": [
    "import pyLDAvis.gensim \n",
    "dictionary = gensim.corpora.Dictionary.load('dictionary.gensim')\n",
    "corpus = pickle.load(open('corpus.pkl', 'rb'))\n",
    "lda = gensim.models.ldamodel.LdaModel.load('model.gensim')\n",
    "lda_display = pyLDAvis.gensim.prepare(lda, corpus, dictionary, sort_topics=False)\n",
    "pyLDAvis.display(lda_display) "
   ]
  },
  {
   "cell_type": "code",
   "execution_count": null,
   "metadata": {},
   "outputs": [],
   "source": []
  }
 ],
 "metadata": {
  "kernelspec": {
   "display_name": "Python 3",
   "language": "python",
   "name": "python3"
  },
  "language_info": {
   "codemirror_mode": {
    "name": "ipython",
    "version": 3
   },
   "file_extension": ".py",
   "mimetype": "text/x-python",
   "name": "python",
   "nbconvert_exporter": "python",
   "pygments_lexer": "ipython3",
   "version": "3.8.3"
  }
 },
 "nbformat": 4,
 "nbformat_minor": 4
}
