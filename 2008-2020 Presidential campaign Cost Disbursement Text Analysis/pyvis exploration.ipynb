{
 "cells": [
  {
   "cell_type": "markdown",
   "metadata": {},
   "source": [
    "## <div class=\"alert alert-block alert-info\"><center>Expense Wordnet Visualization</div><center>"
   ]
  },
  {
   "cell_type": "code",
   "execution_count": 1,
   "metadata": {
    "scrolled": true
   },
   "outputs": [],
   "source": [
    "#pip install pyvis"
   ]
  },
  {
   "cell_type": "code",
   "execution_count": 2,
   "metadata": {},
   "outputs": [],
   "source": [
    "from pyvis.network import Network\n",
    "import pandas as pd"
   ]
  },
  {
   "cell_type": "code",
   "execution_count": 3,
   "metadata": {},
   "outputs": [],
   "source": [
    "expense_wordnet = Network(height=\"750px\", width=\"100%\", bgcolor=\"#123456\", font_color=\"white\", notebook =True, heading ='Election Expense Wordnet')\n",
    "expense_wordnet.barnes_hut()\n",
    "ew_data = pd.read_csv(\"ew_data.csv\")"
   ]
  },
  {
   "cell_type": "code",
   "execution_count": 4,
   "metadata": {},
   "outputs": [],
   "source": [
    "#define nodes \n",
    "term = ew_data['term']\n",
    "candidate = ew_data['candidate']\n",
    "topic = ew_data['topic_code']\n",
    "word = ew_data['item']\n",
    "weight = ew_data['total_weight']"
   ]
  },
  {
   "cell_type": "code",
   "execution_count": 5,
   "metadata": {},
   "outputs": [],
   "source": [
    "edge_data = zip(term, candidate, topic, word, weight)"
   ]
  },
  {
   "cell_type": "code",
   "execution_count": 6,
   "metadata": {},
   "outputs": [],
   "source": [
    "#add node and edge to the net\n",
    "for e in edge_data:\n",
    "    y = e[0]\n",
    "    nm = e[1]\n",
    "    tpc = e[2]\n",
    "    w = e[3]\n",
    "    wt = e[4]\n",
    "# year-name\n",
    "    expense_wordnet.add_node(y,y, titile = 'Election Year')\n",
    "    expense_wordnet.add_node(nm,nm, titile = 'Candidate')\n",
    "    expense_wordnet.add_edge(y,nm)\n",
    "# name-topic\n",
    "    expense_wordnet.add_node(tpc,tpc, titile = 'Topic')\n",
    "    expense_wordnet.add_edge(nm,tpc)\n",
    "# topic-word\n",
    "    expense_wordnet.add_node(w,w, titile = 'Word', value = wt)\n",
    "    expense_wordnet.add_edge(tpc,w)"
   ]
  },
  {
   "cell_type": "code",
   "execution_count": 7,
   "metadata": {
    "scrolled": false
   },
   "outputs": [],
   "source": [
    "#expense_wordnet.show_buttons()\n",
    "#expense_wordnet.show('Election_Expense.html')"
   ]
  },
  {
   "cell_type": "markdown",
   "metadata": {},
   "source": [
    "### the result is not so clear, better use four instead of one"
   ]
  },
  {
   "cell_type": "markdown",
   "metadata": {},
   "source": [
    "## <div class=\"alert alert-block alert-info\"><center>2008 Expense Wordnet</div><center>"
   ]
  },
  {
   "cell_type": "code",
   "execution_count": 8,
   "metadata": {},
   "outputs": [],
   "source": [
    "wn2008 = Network(height=\"750px\", width=\"100%\", bgcolor=\"#123456\", font_color=\"white\", notebook =True, heading ='2008 Election Expense Wordnet')\n",
    "wn2008.barnes_hut()"
   ]
  },
  {
   "cell_type": "code",
   "execution_count": 9,
   "metadata": {},
   "outputs": [],
   "source": [
    "dt08 = ew_data[ew_data.term ==2008]"
   ]
  },
  {
   "cell_type": "code",
   "execution_count": 10,
   "metadata": {},
   "outputs": [
    {
     "data": {
      "text/html": [
       "<div>\n",
       "<style scoped>\n",
       "    .dataframe tbody tr th:only-of-type {\n",
       "        vertical-align: middle;\n",
       "    }\n",
       "\n",
       "    .dataframe tbody tr th {\n",
       "        vertical-align: top;\n",
       "    }\n",
       "\n",
       "    .dataframe thead th {\n",
       "        text-align: right;\n",
       "    }\n",
       "</style>\n",
       "<table border=\"1\" class=\"dataframe\">\n",
       "  <thead>\n",
       "    <tr style=\"text-align: right;\">\n",
       "      <th></th>\n",
       "      <th>term</th>\n",
       "      <th>candidate</th>\n",
       "      <th>topic</th>\n",
       "      <th>topic_code</th>\n",
       "      <th>item</th>\n",
       "      <th>word_weight</th>\n",
       "      <th>expense_weight</th>\n",
       "      <th>add_weight</th>\n",
       "      <th>total_weight</th>\n",
       "    </tr>\n",
       "  </thead>\n",
       "  <tbody>\n",
       "    <tr>\n",
       "      <th>0</th>\n",
       "      <td>2008</td>\n",
       "      <td>obama</td>\n",
       "      <td>0</td>\n",
       "      <td>O0</td>\n",
       "      <td>travel</td>\n",
       "      <td>0.418</td>\n",
       "      <td>1.0</td>\n",
       "      <td>0.418</td>\n",
       "      <td>418000000</td>\n",
       "    </tr>\n",
       "    <tr>\n",
       "      <th>1</th>\n",
       "      <td>2008</td>\n",
       "      <td>obama</td>\n",
       "      <td>0</td>\n",
       "      <td>O0</td>\n",
       "      <td>lodging</td>\n",
       "      <td>0.307</td>\n",
       "      <td>1.0</td>\n",
       "      <td>0.307</td>\n",
       "      <td>307000000</td>\n",
       "    </tr>\n",
       "    <tr>\n",
       "      <th>2</th>\n",
       "      <td>2008</td>\n",
       "      <td>obama</td>\n",
       "      <td>0</td>\n",
       "      <td>O0</td>\n",
       "      <td>agency</td>\n",
       "      <td>0.112</td>\n",
       "      <td>1.0</td>\n",
       "      <td>0.112</td>\n",
       "      <td>112000000</td>\n",
       "    </tr>\n",
       "    <tr>\n",
       "      <th>3</th>\n",
       "      <td>2008</td>\n",
       "      <td>obama</td>\n",
       "      <td>0</td>\n",
       "      <td>O0</td>\n",
       "      <td>fee</td>\n",
       "      <td>0.112</td>\n",
       "      <td>1.0</td>\n",
       "      <td>0.112</td>\n",
       "      <td>112000000</td>\n",
       "    </tr>\n",
       "    <tr>\n",
       "      <th>4</th>\n",
       "      <td>2008</td>\n",
       "      <td>obama</td>\n",
       "      <td>0</td>\n",
       "      <td>O0</td>\n",
       "      <td>facility</td>\n",
       "      <td>0.019</td>\n",
       "      <td>1.0</td>\n",
       "      <td>0.019</td>\n",
       "      <td>19000000</td>\n",
       "    </tr>\n",
       "  </tbody>\n",
       "</table>\n",
       "</div>"
      ],
      "text/plain": [
       "   term candidate  topic topic_code      item  word_weight  expense_weight  \\\n",
       "0  2008     obama      0         O0    travel        0.418             1.0   \n",
       "1  2008     obama      0         O0   lodging        0.307             1.0   \n",
       "2  2008     obama      0         O0    agency        0.112             1.0   \n",
       "3  2008     obama      0         O0       fee        0.112             1.0   \n",
       "4  2008     obama      0         O0  facility        0.019             1.0   \n",
       "\n",
       "   add_weight  total_weight  \n",
       "0       0.418     418000000  \n",
       "1       0.307     307000000  \n",
       "2       0.112     112000000  \n",
       "3       0.112     112000000  \n",
       "4       0.019      19000000  "
      ]
     },
     "execution_count": 10,
     "metadata": {},
     "output_type": "execute_result"
    }
   ],
   "source": [
    "dt08.head()"
   ]
  },
  {
   "cell_type": "code",
   "execution_count": 11,
   "metadata": {},
   "outputs": [],
   "source": [
    "#define nodes \n",
    "candidate = dt08['candidate']\n",
    "topic = dt08['topic_code']\n",
    "word = dt08['item']\n",
    "weight = dt08['total_weight']\n",
    "edge_data = zip(candidate, topic, word, weight)\n",
    "#add node and edge to the net\n",
    "for e in edge_data:\n",
    "    nm = e[0]\n",
    "    tpc = e[1]\n",
    "    w = e[2]\n",
    "    wt = e[3]\n",
    "# name-topic\n",
    "    wn2008.add_node(nm,nm)\n",
    "    wn2008.add_node(tpc,tpc)\n",
    "    wn2008.add_edge(nm,tpc)\n",
    "# topic-word\n",
    "    wn2008.add_node(w,w)\n",
    "    wn2008.add_edge(tpc,w,value=wt)"
   ]
  },
  {
   "cell_type": "code",
   "execution_count": 12,
   "metadata": {
    "scrolled": false
   },
   "outputs": [
    {
     "data": {
      "text/html": [
       "\n",
       "        <iframe\n",
       "            width=\"100%\"\n",
       "            height=\"750px\"\n",
       "            src=\"2008_Election_Expense_Wordnet.html\"\n",
       "            frameborder=\"0\"\n",
       "            allowfullscreen\n",
       "        ></iframe>\n",
       "        "
      ],
      "text/plain": [
       "<IPython.lib.display.IFrame at 0x7f9a63d0a130>"
      ]
     },
     "execution_count": 12,
     "metadata": {},
     "output_type": "execute_result"
    }
   ],
   "source": [
    "#wn2008.show_buttons()\n",
    "wn2008.show('2008_Election_Expense_Wordnet.html')"
   ]
  },
  {
   "cell_type": "code",
   "execution_count": null,
   "metadata": {},
   "outputs": [],
   "source": []
  }
 ],
 "metadata": {
  "kernelspec": {
   "display_name": "Python 3",
   "language": "python",
   "name": "python3"
  },
  "language_info": {
   "codemirror_mode": {
    "name": "ipython",
    "version": 3
   },
   "file_extension": ".py",
   "mimetype": "text/x-python",
   "name": "python",
   "nbconvert_exporter": "python",
   "pygments_lexer": "ipython3",
   "version": "3.8.3"
  }
 },
 "nbformat": 4,
 "nbformat_minor": 4
}
