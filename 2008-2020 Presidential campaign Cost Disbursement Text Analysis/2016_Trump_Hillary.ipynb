{
 "cells": [
  {
   "cell_type": "markdown",
   "metadata": {},
   "source": [
    "## <div class=\"alert alert-block alert-success\"><center>2016 - Data Preparation - Trump Part<center>"
   ]
  },
  {
   "cell_type": "code",
   "execution_count": 1,
   "metadata": {},
   "outputs": [
    {
     "name": "stdout",
     "output_type": "stream",
     "text": [
      "Populating the interactive namespace from numpy and matplotlib\n"
     ]
    },
    {
     "name": "stderr",
     "output_type": "stream",
     "text": [
      "/Users/zhanghuishan/opt/anaconda3/lib/python3.8/site-packages/IPython/core/interactiveshell.py:3071: DtypeWarning: Columns (10,11,31,38,39) have mixed types.Specify dtype option on import or set low_memory=False.\n",
      "  has_raised = await self.run_ast_nodes(code_ast.body, cell_name,\n"
     ]
    }
   ],
   "source": [
    "%pylab inline\n",
    "import pandas as pd\n",
    "df_trump=pd.read_csv('trump2016.csv')"
   ]
  },
  {
   "cell_type": "code",
   "execution_count": 2,
   "metadata": {},
   "outputs": [
    {
     "data": {
      "text/plain": [
       "27016"
      ]
     },
     "execution_count": 2,
     "metadata": {},
     "output_type": "execute_result"
    }
   ],
   "source": [
    "len(df_trump)"
   ]
  },
  {
   "cell_type": "code",
   "execution_count": 3,
   "metadata": {},
   "outputs": [],
   "source": [
    "df_trump = df_trump[['committee_id', 'report_year', 'disbursement_date','recipient_name',\\\n",
    "                     'recipient_state','recipient_city',\\\n",
    "                     'disbursement_purpose_category','disbursement_description','disbursement_amount']]"
   ]
  },
  {
   "cell_type": "code",
   "execution_count": 4,
   "metadata": {},
   "outputs": [
    {
     "data": {
      "text/plain": [
       "9"
      ]
     },
     "execution_count": 4,
     "metadata": {},
     "output_type": "execute_result"
    }
   ],
   "source": [
    "df_trump.disbursement_purpose_category.nunique()"
   ]
  },
  {
   "cell_type": "code",
   "execution_count": 5,
   "metadata": {
    "scrolled": true
   },
   "outputs": [
    {
     "data": {
      "text/plain": [
       "array(['OTHER', 'TRAVEL', 'ADMINISTRATIVE', 'ADVERTISING', 'MATERIALS',\n",
       "       'REFUNDS', 'FUNDRAISING', 'TRANSFERS', 'CONTRIBUTIONS'],\n",
       "      dtype=object)"
      ]
     },
     "execution_count": 5,
     "metadata": {},
     "output_type": "execute_result"
    }
   ],
   "source": [
    "df_trump.disbursement_purpose_category.unique()"
   ]
  },
  {
   "cell_type": "code",
   "execution_count": 6,
   "metadata": {
    "scrolled": true
   },
   "outputs": [
    {
     "data": {
      "text/html": [
       "<div>\n",
       "<style scoped>\n",
       "    .dataframe tbody tr th:only-of-type {\n",
       "        vertical-align: middle;\n",
       "    }\n",
       "\n",
       "    .dataframe tbody tr th {\n",
       "        vertical-align: top;\n",
       "    }\n",
       "\n",
       "    .dataframe thead th {\n",
       "        text-align: right;\n",
       "    }\n",
       "</style>\n",
       "<table border=\"1\" class=\"dataframe\">\n",
       "  <thead>\n",
       "    <tr style=\"text-align: right;\">\n",
       "      <th></th>\n",
       "      <th>disbursement_purpose_category</th>\n",
       "      <th>disbursement_amount</th>\n",
       "    </tr>\n",
       "    <tr>\n",
       "      <th>disbursement_purpose_category</th>\n",
       "      <th></th>\n",
       "      <th></th>\n",
       "    </tr>\n",
       "  </thead>\n",
       "  <tbody>\n",
       "    <tr>\n",
       "      <th>ADMINISTRATIVE</th>\n",
       "      <td>3920</td>\n",
       "      <td>1.443060e+07</td>\n",
       "    </tr>\n",
       "    <tr>\n",
       "      <th>ADVERTISING</th>\n",
       "      <td>545</td>\n",
       "      <td>1.113694e+08</td>\n",
       "    </tr>\n",
       "    <tr>\n",
       "      <th>CONTRIBUTIONS</th>\n",
       "      <td>1</td>\n",
       "      <td>1.377694e+04</td>\n",
       "    </tr>\n",
       "    <tr>\n",
       "      <th>FUNDRAISING</th>\n",
       "      <td>60</td>\n",
       "      <td>2.717770e+05</td>\n",
       "    </tr>\n",
       "    <tr>\n",
       "      <th>MATERIALS</th>\n",
       "      <td>1091</td>\n",
       "      <td>5.732981e+06</td>\n",
       "    </tr>\n",
       "    <tr>\n",
       "      <th>OTHER</th>\n",
       "      <td>14760</td>\n",
       "      <td>2.088901e+08</td>\n",
       "    </tr>\n",
       "    <tr>\n",
       "      <th>REFUNDS</th>\n",
       "      <td>845</td>\n",
       "      <td>1.477020e+06</td>\n",
       "    </tr>\n",
       "    <tr>\n",
       "      <th>TRANSFERS</th>\n",
       "      <td>1</td>\n",
       "      <td>8.023320e+03</td>\n",
       "    </tr>\n",
       "    <tr>\n",
       "      <th>TRAVEL</th>\n",
       "      <td>5793</td>\n",
       "      <td>7.865029e+06</td>\n",
       "    </tr>\n",
       "  </tbody>\n",
       "</table>\n",
       "</div>"
      ],
      "text/plain": [
       "                               disbursement_purpose_category  \\\n",
       "disbursement_purpose_category                                  \n",
       "ADMINISTRATIVE                                          3920   \n",
       "ADVERTISING                                              545   \n",
       "CONTRIBUTIONS                                              1   \n",
       "FUNDRAISING                                               60   \n",
       "MATERIALS                                               1091   \n",
       "OTHER                                                  14760   \n",
       "REFUNDS                                                  845   \n",
       "TRANSFERS                                                  1   \n",
       "TRAVEL                                                  5793   \n",
       "\n",
       "                               disbursement_amount  \n",
       "disbursement_purpose_category                       \n",
       "ADMINISTRATIVE                        1.443060e+07  \n",
       "ADVERTISING                           1.113694e+08  \n",
       "CONTRIBUTIONS                         1.377694e+04  \n",
       "FUNDRAISING                           2.717770e+05  \n",
       "MATERIALS                             5.732981e+06  \n",
       "OTHER                                 2.088901e+08  \n",
       "REFUNDS                               1.477020e+06  \n",
       "TRANSFERS                             8.023320e+03  \n",
       "TRAVEL                                7.865029e+06  "
      ]
     },
     "execution_count": 6,
     "metadata": {},
     "output_type": "execute_result"
    }
   ],
   "source": [
    "# many uncategorized items under 'other'\n",
    "df_trump.groupby('disbursement_purpose_category').agg({'disbursement_purpose_category':'count','disbursement_amount':'sum'})"
   ]
  },
  {
   "cell_type": "code",
   "execution_count": 7,
   "metadata": {},
   "outputs": [
    {
     "data": {
      "text/plain": [
       "357"
      ]
     },
     "execution_count": 7,
     "metadata": {},
     "output_type": "execute_result"
    }
   ],
   "source": [
    "df_trump.disbursement_description.nunique()"
   ]
  },
  {
   "cell_type": "code",
   "execution_count": 8,
   "metadata": {
    "scrolled": true
   },
   "outputs": [
    {
     "data": {
      "text/plain": [
       "1                                   AIR \n",
       "2                                   AIR \n",
       "3                                   AIR \n",
       "4                               MILEAGE \n",
       "5                                 MEALS \n",
       "6                                   AIR \n",
       "7                                 MEALS \n",
       "8                                 MEALS \n",
       "9                                 MEALS \n",
       "10                                MEALS \n",
       "11                                MEALS \n",
       "12                              LODGING \n",
       "13                                  AIR \n",
       "14                                  AIR \n",
       "15                     RENT & UTILITIES \n",
       "16                              LODGING \n",
       "17    FACILITY RENTAL/CATERING SERVICES \n",
       "18                            UTILITIES \n",
       "19                      OFFICE SUPPLIES \n",
       "20                                  AIR \n",
       "21                      OFFICE SUPPLIES \n",
       "22                           CAR RENTAL \n",
       "23                           CAR RENTAL \n",
       "24                    BROADBAND SERVICE \n",
       "25                                  AIR \n",
       "26                                  AIR \n",
       "27                                  AIR \n",
       "28                              LODGING \n",
       "29                              LODGING \n",
       "30                              LODGING \n",
       "31                              LODGING \n",
       "32                              LODGING \n",
       "33                              LODGING \n",
       "34                      OFFICE SUPPLIES \n",
       "35                      OFFICE SUPPLIES \n",
       "36                    BROADBAND SERVICE \n",
       "37                              MILEAGE \n",
       "38                                  AIR \n",
       "39                              LODGING \n",
       "40                              LODGING \n",
       "41                              LODGING \n",
       "42                              LODGING \n",
       "43                              LODGING \n",
       "44               EVENT REGISTRATION FEE \n",
       "45                                  AIR \n",
       "46             DATA MANAGEMENT SERVICES \n",
       "47                  ONLINE SUBSCRIPTION \n",
       "48                              LODGING \n",
       "49                  ONLINE SUBSCRIPTION \n",
       "Name: disbursement_description, dtype: object"
      ]
     },
     "execution_count": 8,
     "metadata": {},
     "output_type": "execute_result"
    }
   ],
   "source": [
    "df_trump.disbursement_description[1:50]"
   ]
  },
  {
   "cell_type": "markdown",
   "metadata": {},
   "source": [
    "**<div class=\"alert alert-block alert-warning\">Delete irrelevant rows: nan, refunds**"
   ]
  },
  {
   "cell_type": "code",
   "execution_count": 2,
   "metadata": {},
   "outputs": [],
   "source": [
    "df_trump.drop(df_trump[df_trump['disbursement_purpose_category'] == 'REFUNDS'].index, inplace = True) "
   ]
  },
  {
   "cell_type": "code",
   "execution_count": 3,
   "metadata": {},
   "outputs": [],
   "source": [
    "df_trump.drop(df_trump[df_trump['disbursement_description'].str.contains('refund')].index, inplace = True) "
   ]
  },
  {
   "cell_type": "code",
   "execution_count": 4,
   "metadata": {},
   "outputs": [],
   "source": [
    "df_trump = df_trump[df_trump['disbursement_description'].notna()]"
   ]
  },
  {
   "cell_type": "code",
   "execution_count": 12,
   "metadata": {},
   "outputs": [
    {
     "data": {
      "text/plain": [
       "committee_id                     0\n",
       "report_year                      0\n",
       "disbursement_date                0\n",
       "recipient_name                   0\n",
       "recipient_state                  0\n",
       "recipient_city                   0\n",
       "disbursement_purpose_category    0\n",
       "disbursement_description         0\n",
       "disbursement_amount              0\n",
       "dtype: int64"
      ]
     },
     "execution_count": 12,
     "metadata": {},
     "output_type": "execute_result"
    }
   ],
   "source": [
    "df_trump.isnull().sum()"
   ]
  },
  {
   "cell_type": "code",
   "execution_count": 13,
   "metadata": {
    "scrolled": true
   },
   "outputs": [],
   "source": [
    "cat_sum = df_trump.groupby('disbursement_description').agg({'disbursement_description':'count','disbursement_amount':'sum'})"
   ]
  },
  {
   "cell_type": "code",
   "execution_count": 14,
   "metadata": {},
   "outputs": [],
   "source": [
    "cat_sum.rename(columns={'disbursement_description':'count'}, inplace=True)"
   ]
  },
  {
   "cell_type": "code",
   "execution_count": 15,
   "metadata": {},
   "outputs": [
    {
     "data": {
      "text/html": [
       "<div>\n",
       "<style scoped>\n",
       "    .dataframe tbody tr th:only-of-type {\n",
       "        vertical-align: middle;\n",
       "    }\n",
       "\n",
       "    .dataframe tbody tr th {\n",
       "        vertical-align: top;\n",
       "    }\n",
       "\n",
       "    .dataframe thead th {\n",
       "        text-align: right;\n",
       "    }\n",
       "</style>\n",
       "<table border=\"1\" class=\"dataframe\">\n",
       "  <thead>\n",
       "    <tr style=\"text-align: right;\">\n",
       "      <th></th>\n",
       "      <th>count</th>\n",
       "      <th>disbursement_amount</th>\n",
       "    </tr>\n",
       "    <tr>\n",
       "      <th>disbursement_description</th>\n",
       "      <th></th>\n",
       "      <th></th>\n",
       "    </tr>\n",
       "  </thead>\n",
       "  <tbody>\n",
       "    <tr>\n",
       "      <th>LODGING</th>\n",
       "      <td>4675</td>\n",
       "      <td>6037775.31</td>\n",
       "    </tr>\n",
       "    <tr>\n",
       "      <th>PAYROLL</th>\n",
       "      <td>2469</td>\n",
       "      <td>5854896.42</td>\n",
       "    </tr>\n",
       "    <tr>\n",
       "      <th>CAR RENTAL</th>\n",
       "      <td>1681</td>\n",
       "      <td>1069615.07</td>\n",
       "    </tr>\n",
       "    <tr>\n",
       "      <th>FIELD CONSULTING</th>\n",
       "      <td>964</td>\n",
       "      <td>7924240.74</td>\n",
       "    </tr>\n",
       "    <tr>\n",
       "      <th>AIR -</th>\n",
       "      <td>818</td>\n",
       "      <td>497669.40</td>\n",
       "    </tr>\n",
       "    <tr>\n",
       "      <th>LODGING -</th>\n",
       "      <td>762</td>\n",
       "      <td>1340012.67</td>\n",
       "    </tr>\n",
       "    <tr>\n",
       "      <th>TRAVEL EXPENSE REIMBURSEMENT: ITEMIZATION BELOW IF REQUIRED</th>\n",
       "      <td>596</td>\n",
       "      <td>775510.44</td>\n",
       "    </tr>\n",
       "    <tr>\n",
       "      <th>EVENT CONSULTING</th>\n",
       "      <td>578</td>\n",
       "      <td>3085075.24</td>\n",
       "    </tr>\n",
       "    <tr>\n",
       "      <th>OFFICE SUPPLIES</th>\n",
       "      <td>519</td>\n",
       "      <td>434390.86</td>\n",
       "    </tr>\n",
       "    <tr>\n",
       "      <th>MERCHANT FEE</th>\n",
       "      <td>497</td>\n",
       "      <td>3635397.73</td>\n",
       "    </tr>\n",
       "    <tr>\n",
       "      <th>FACILITY RENTAL</th>\n",
       "      <td>442</td>\n",
       "      <td>4323810.41</td>\n",
       "    </tr>\n",
       "    <tr>\n",
       "      <th>GROUND TRANSPORTATION</th>\n",
       "      <td>357</td>\n",
       "      <td>371340.90</td>\n",
       "    </tr>\n",
       "    <tr>\n",
       "      <th>CAR RENTAL -</th>\n",
       "      <td>341</td>\n",
       "      <td>259372.29</td>\n",
       "    </tr>\n",
       "    <tr>\n",
       "      <th>RAIL</th>\n",
       "      <td>305</td>\n",
       "      <td>119898.40</td>\n",
       "    </tr>\n",
       "    <tr>\n",
       "      <th>DELIVERY SERVICES</th>\n",
       "      <td>302</td>\n",
       "      <td>190374.31</td>\n",
       "    </tr>\n",
       "    <tr>\n",
       "      <th>MILEAGE</th>\n",
       "      <td>252</td>\n",
       "      <td>257899.13</td>\n",
       "    </tr>\n",
       "    <tr>\n",
       "      <th>PLACED MEDIA</th>\n",
       "      <td>252</td>\n",
       "      <td>186820.60</td>\n",
       "    </tr>\n",
       "    <tr>\n",
       "      <th>AUDIO VISUAL SERVICES</th>\n",
       "      <td>247</td>\n",
       "      <td>5601411.89</td>\n",
       "    </tr>\n",
       "    <tr>\n",
       "      <th>MERCHANT FEES</th>\n",
       "      <td>240</td>\n",
       "      <td>1113800.11</td>\n",
       "    </tr>\n",
       "  </tbody>\n",
       "</table>\n",
       "</div>"
      ],
      "text/plain": [
       "                                                    count  disbursement_amount\n",
       "disbursement_description                                                      \n",
       " LODGING                                             4675           6037775.31\n",
       "PAYROLL                                              2469           5854896.42\n",
       " CAR RENTAL                                          1681           1069615.07\n",
       "FIELD CONSULTING                                      964           7924240.74\n",
       " AIR -                                                818            497669.40\n",
       " LODGING -                                            762           1340012.67\n",
       "TRAVEL EXPENSE REIMBURSEMENT: ITEMIZATION BELOW...    596            775510.44\n",
       "EVENT CONSULTING                                      578           3085075.24\n",
       "OFFICE SUPPLIES                                       519            434390.86\n",
       "MERCHANT FEE                                          497           3635397.73\n",
       "FACILITY RENTAL                                       442           4323810.41\n",
       " GROUND TRANSPORTATION                                357            371340.90\n",
       " CAR RENTAL -                                         341            259372.29\n",
       " RAIL                                                 305            119898.40\n",
       "DELIVERY SERVICES                                     302            190374.31\n",
       " MILEAGE                                              252            257899.13\n",
       "PLACED MEDIA                                          252            186820.60\n",
       "AUDIO VISUAL SERVICES                                 247           5601411.89\n",
       "MERCHANT FEES                                         240           1113800.11"
      ]
     },
     "execution_count": 15,
     "metadata": {},
     "output_type": "execute_result"
    }
   ],
   "source": [
    "cat_sum.sort_values('count',ascending=False,na_position='first')[1:20]"
   ]
  },
  {
   "cell_type": "code",
   "execution_count": 16,
   "metadata": {
    "scrolled": true
   },
   "outputs": [
    {
     "data": {
      "text/plain": [
       "26171"
      ]
     },
     "execution_count": 16,
     "metadata": {},
     "output_type": "execute_result"
    }
   ],
   "source": [
    "len(df_trump)"
   ]
  },
  {
   "cell_type": "code",
   "execution_count": 5,
   "metadata": {},
   "outputs": [
    {
     "data": {
      "text/plain": [
       "348581777.1"
      ]
     },
     "execution_count": 5,
     "metadata": {},
     "output_type": "execute_result"
    }
   ],
   "source": [
    "df_trump.disbursement_amount.sum()"
   ]
  },
  {
   "cell_type": "markdown",
   "metadata": {},
   "source": [
    "## <div class=\"alert alert-block alert-success\"><center>Text Clustering - Trump Part<center>"
   ]
  },
  {
   "cell_type": "code",
   "execution_count": 17,
   "metadata": {},
   "outputs": [],
   "source": [
    "# Get token list \"lda_tokens\"\n",
    "import spacy\n",
    "spacy.load('en')\n",
    "from spacy.lang.en import English\n",
    "parser = English()\n",
    "\n",
    "def tokenize(text): \n",
    "    lda_tokens = []\n",
    "    tokens = parser(text)\n",
    "    for token in tokens:\n",
    "        if token.orth_.isspace(): #skip space\n",
    "            continue\n",
    "        elif token.like_num: # delete numbers\n",
    "            continue\n",
    "        else:\n",
    "            lda_tokens.append(token.lower_)\n",
    "    return lda_tokens"
   ]
  },
  {
   "cell_type": "code",
   "execution_count": 18,
   "metadata": {},
   "outputs": [
    {
     "name": "stderr",
     "output_type": "stream",
     "text": [
      "[nltk_data] Downloading package stopwords to\n",
      "[nltk_data]     /Users/zhanghuishan/nltk_data...\n",
      "[nltk_data]   Package stopwords is already up-to-date!\n",
      "[nltk_data] Downloading package wordnet to\n",
      "[nltk_data]     /Users/zhanghuishan/nltk_data...\n",
      "[nltk_data]   Package wordnet is already up-to-date!\n"
     ]
    }
   ],
   "source": [
    "# Get the puntuations set\n",
    "import string\n",
    "en_punct = set(string.punctuation)\n",
    "\n",
    "# Get the stop words set\n",
    "import nltk\n",
    "nltk.download('stopwords')\n",
    "en_stop = set(nltk.corpus.stopwords.words('english'))\n",
    "\n",
    "# Get the tokens for LDA analysis (function)\n",
    "import nltk\n",
    "nltk.download('wordnet')\n",
    "from nltk.corpus import wordnet as wn\n",
    "from nltk.stem.wordnet import WordNetLemmatizer\n",
    "\n",
    "def get_lemma(word):\n",
    "    return WordNetLemmatizer().lemmatize(word) "
   ]
  },
  {
   "cell_type": "code",
   "execution_count": 19,
   "metadata": {},
   "outputs": [],
   "source": [
    "def prepare_text_for_lda(text):\n",
    "    tokens = tokenize(text)\n",
    "    tokens = [token for token in tokens if token not in en_punct] # delete punctuations\n",
    "    tokens = [token for token in tokens if len(token) > 1] # at least 2 letters consist a word\n",
    "    tokens = [token for token in tokens if token not in en_stop] # delete stop words\n",
    "    tokens = [get_lemma(token) for token in tokens] # delete word variants for accurate result\n",
    "    return tokens"
   ]
  },
  {
   "cell_type": "code",
   "execution_count": 20,
   "metadata": {},
   "outputs": [],
   "source": [
    "# Import data for LDA analysis and return text_data\n",
    "import random\n",
    "text_data = []\n",
    "for line in df_trump['disbursement_description']:\n",
    "    tokens = prepare_text_for_lda(line)\n",
    "    if random.random() > .99:\n",
    "        #print(tokens)\n",
    "        text_data.append(tokens)"
   ]
  },
  {
   "cell_type": "code",
   "execution_count": 21,
   "metadata": {},
   "outputs": [],
   "source": [
    "# Cluster topics\n",
    "from gensim import corpora \n",
    "dictionary = corpora.Dictionary(text_data)\n",
    "corpus = [dictionary.doc2bow(text) for text in text_data]"
   ]
  },
  {
   "cell_type": "code",
   "execution_count": 22,
   "metadata": {},
   "outputs": [],
   "source": [
    "import pickle\n",
    "pickle.dump(corpus, open('corpus.pkl', 'wb'))\n",
    "dictionary.save('dictionary.gensim')"
   ]
  },
  {
   "cell_type": "code",
   "execution_count": 41,
   "metadata": {},
   "outputs": [
    {
     "name": "stdout",
     "output_type": "stream",
     "text": [
      "(0, '0.155*\"rental\" + 0.155*\"catering\" + 0.105*\"service\" + 0.088*\"equipment\"')\n",
      "(1, '0.395*\"transfer\" + 0.092*\"staging\" + 0.075*\"food\" + 0.075*\"beverage\"')\n",
      "(2, '0.674*\"travel\" + 0.058*\"purchase\" + 0.058*\"equipment\" + 0.049*\"gotv\"')\n",
      "(3, '0.166*\"supply\" + 0.166*\"office\" + 0.112*\"svc\" + 0.086*\"transportation\"')\n",
      "(4, '0.507*\"payroll\" + 0.101*\"tax\" + 0.101*\"printing\" + 0.064*\"consulting\"')\n"
     ]
    }
   ],
   "source": [
    "import gensim # package for topic modeling\n",
    "NUM_TOPICS = 5 # trial number based on understanding of the data file & research aims\n",
    "ldamodel = gensim.models.ldamodel.LdaModel(corpus, num_topics = NUM_TOPICS, id2word=dictionary, passes=20)\n",
    "ldamodel.save('model.gensim')\n",
    "topics = ldamodel.print_topics(num_words=4)\n",
    "for topic in topics:\n",
    "    print(topic)"
   ]
  },
  {
   "cell_type": "code",
   "execution_count": 25,
   "metadata": {},
   "outputs": [],
   "source": [
    "import pyLDAvis "
   ]
  },
  {
   "cell_type": "code",
   "execution_count": 26,
   "metadata": {},
   "outputs": [],
   "source": [
    "import pyLDAvis.gensim"
   ]
  },
  {
   "cell_type": "code",
   "execution_count": 42,
   "metadata": {
    "scrolled": false
   },
   "outputs": [
    {
     "data": {
      "text/html": [
       "\n",
       "<link rel=\"stylesheet\" type=\"text/css\" href=\"https://cdn.rawgit.com/bmabey/pyLDAvis/files/ldavis.v1.0.0.css\">\n",
       "\n",
       "\n",
       "<div id=\"ldavis_el11809140237837925616566425843\"></div>\n",
       "<script type=\"text/javascript\">\n",
       "\n",
       "var ldavis_el11809140237837925616566425843_data = {\"mdsDat\": {\"x\": [0.04061613172795358, 0.1911105058300529, -0.3341900828464751, 0.06273006550173091, 0.03973337978673807], \"y\": [0.13941976791914104, 0.10885452053332155, 0.04691112572178372, 0.04087602151151849, -0.33606143568576463], \"topics\": [1, 2, 3, 4, 5], \"cluster\": [1, 1, 1, 1, 1], \"Freq\": [19.599143981933594, 17.405895233154297, 26.513111114501953, 14.665712356567383, 21.816143035888672]}, \"tinfo\": {\"Term\": [\"travel\", \"payroll\", \"transfer\", \"supply\", \"office\", \"rental\", \"catering\", \"transportation\", \"svc\", \"service\", \"tax\", \"printing\", \"staging\", \"credit\", \"equipment\", \"food\", \"beverage\", \"postage\", \"finance\", \"consulting\", \"phone\", \"facility\", \"purchase\", \"subscription\", \"gotv\", \"survey\", \"research\", \"kind-\", \"call\", \"message\", \"rental\", \"catering\", \"service\", \"phone\", \"facility\", \"call\", \"message\", \"chadwick\", \"fauskee\", \"cash-\", \"petty\", \"bank\", \"transportation\", \"equipment\", \"fee\", \"rent\", \"void\", \"check\", \"photography\", \"medium\", \"furniture\", \"delivery\", \"registration\", \"compliance\", \"legal\", \"kind-\", \"survey\", \"research\", \"subscription\", \"credit\", \"staging\", \"travel\", \"payroll\", \"transfer\", \"consulting\", \"printing\", \"tax\", \"postage\", \"purchase\", \"transfer\", \"staging\", \"food\", \"beverage\", \"postage\", \"survey\", \"research\", \"kind-\", \"delivery\", \"furniture\", \"rent\", \"void\", \"check\", \"photography\", \"medium\", \"bank\", \"cash-\", \"petty\", \"fauskee\", \"chadwick\", \"registration\", \"compliance\", \"legal\", \"message\", \"call\", \"fee\", \"facility\", \"phone\", \"subscription\", \"credit\", \"catering\", \"printing\", \"rental\", \"tax\", \"travel\", \"payroll\", \"consulting\", \"equipment\", \"transportation\", \"purchase\", \"gotv\", \"travel\", \"purchase\", \"gotv\", \"check\", \"void\", \"rent\", \"photography\", \"equipment\", \"consulting\", \"medium\", \"delivery\", \"furniture\", \"bank\", \"cash-\", \"petty\", \"chadwick\", \"fauskee\", \"compliance\", \"legal\", \"registration\", \"kind-\", \"research\", \"survey\", \"message\", \"call\", \"fee\", \"phone\", \"facility\", \"subscription\", \"credit\", \"svc\", \"office\", \"supply\", \"staging\", \"service\", \"catering\", \"payroll\", \"transfer\", \"printing\", \"tax\", \"postage\", \"transportation\", \"rental\", \"finance\", \"supply\", \"office\", \"svc\", \"credit\", \"legal\", \"registration\", \"compliance\", \"fee\", \"transportation\", \"consulting\", \"photography\", \"rent\", \"void\", \"check\", \"medium\", \"delivery\", \"furniture\", \"bank\", \"cash-\", \"petty\", \"chadwick\", \"fauskee\", \"kind-\", \"research\", \"survey\", \"message\", \"call\", \"facility\", \"phone\", \"subscription\", \"purchase\", \"travel\", \"equipment\", \"printing\", \"rental\", \"payroll\", \"transfer\", \"catering\", \"staging\", \"postage\", \"tax\", \"payroll\", \"tax\", \"printing\", \"finance\", \"subscription\", \"medium\", \"consulting\", \"rent\", \"check\", \"void\", \"photography\", \"delivery\", \"furniture\", \"bank\", \"fauskee\", \"cash-\", \"petty\", \"chadwick\", \"compliance\", \"legal\", \"registration\", \"kind-\", \"research\", \"survey\", \"message\", \"call\", \"fee\", \"phone\", \"facility\", \"credit\", \"postage\", \"food\", \"beverage\", \"transportation\", \"equipment\", \"rental\", \"service\", \"svc\", \"travel\", \"transfer\", \"catering\", \"staging\", \"gotv\", \"purchase\"], \"Freq\": [53.0, 33.0, 21.0, 7.0, 7.0, 9.0, 9.0, 9.0, 5.0, 6.0, 7.0, 7.0, 5.0, 4.0, 10.0, 4.0, 4.0, 4.0, 4.0, 10.0, 3.0, 3.0, 5.0, 4.0, 4.0, 2.0, 2.0, 2.0, 2.0, 2.0, 8.980592727661133, 8.97179889678955, 6.053877353668213, 3.124584913253784, 3.124067544937134, 2.148477554321289, 2.148475408554077, 1.1718796491622925, 1.1718792915344238, 1.1718788146972656, 1.1718791723251343, 1.1718254089355469, 5.073897361755371, 5.097337245941162, 1.1684530973434448, 0.1954048126935959, 0.1953580677509308, 0.1953578144311905, 0.19541406631469727, 0.19538526237010956, 0.20310229063034058, 0.19536715745925903, 0.1953354775905609, 0.19533471763134003, 0.1953343003988266, 0.19534696638584137, 0.19534052908420563, 0.19533993303775787, 0.19538399577140808, 0.19535565376281738, 0.19697096943855286, 0.19628320634365082, 0.19545912742614746, 0.1954169124364853, 0.19539636373519897, 0.19539067149162292, 0.1953703761100769, 0.19536757469177246, 0.19536098837852478, 20.2806453704834, 4.7482991218566895, 3.8359527587890625, 3.835949420928955, 3.8350071907043457, 2.0097501277923584, 2.009746551513672, 2.0077767372131348, 1.0960875749588013, 1.0888441801071167, 0.18279382586479187, 0.18274764716625214, 0.182747483253479, 0.1828029602766037, 0.18277521431446075, 0.18273256719112396, 0.18272118270397186, 0.18272119760513306, 0.18272103369235992, 0.18272097408771515, 0.1827247142791748, 0.1827245056629181, 0.18272431194782257, 0.18272365629673004, 0.1827232986688614, 0.18274489045143127, 0.1831892728805542, 0.18272650241851807, 0.18277592957019806, 0.18274356424808502, 0.19437934458255768, 0.18659986555576324, 0.18562088906764984, 0.18413805961608887, 0.1830294281244278, 0.18284830451011658, 0.18278755247592926, 0.18276531994342804, 0.18274717032909393, 0.18274500966072083, 0.18274465203285217, 52.74710464477539, 4.528056621551514, 3.7993967533111572, 0.8766764998435974, 0.876676082611084, 0.876514196395874, 0.8000066876411438, 4.513453006744385, 3.7839441299438477, 0.14616385102272034, 0.14615598320960999, 0.14615437388420105, 0.14614544808864594, 0.14613991975784302, 0.14613987505435944, 0.14613975584506989, 0.1461397111415863, 0.14614199101924896, 0.14614155888557434, 0.14614154398441315, 0.14614726603031158, 0.14614500105381012, 0.1461438536643982, 0.14614154398441315, 0.14614106714725494, 0.1461508572101593, 0.14650577306747437, 0.14614495635032654, 0.14653165638446808, 0.1461498886346817, 0.14720414578914642, 0.14684787392616272, 0.14684593677520752, 0.14657120406627655, 0.14651377499103546, 0.14640939235687256, 0.14623141288757324, 0.14620305597782135, 0.14616724848747253, 0.146161749958992, 0.14615926146507263, 0.1461532860994339, 0.14615227282047272, 0.14615049958229065, 7.1821064949035645, 7.18210506439209, 4.86376428604126, 3.7073657512664795, 1.3902531862258911, 1.3902524709701538, 1.3902517557144165, 1.3943177461624146, 3.7115068435668945, 2.5671699047088623, 0.3531273901462555, 0.23187614977359772, 0.23178763687610626, 0.2317875772714615, 0.23183849453926086, 0.23180299997329712, 0.2318023294210434, 0.23176394402980804, 0.2317371815443039, 0.23173709213733673, 0.23173704743385315, 0.23173698782920837, 0.2317664921283722, 0.23175452649593353, 0.23175270855426788, 0.23174160718917847, 0.23174075782299042, 0.2323412150144577, 0.2317473441362381, 0.23242799937725067, 0.2349766343832016, 0.24223172664642334, 0.23501329123973846, 0.23242488503456116, 0.23235207796096802, 0.2318914383649826, 0.23184983432292938, 0.23181337118148804, 0.23180004954338074, 0.2317945510149002, 0.23179428279399872, 32.6512451171875, 6.4972710609436035, 6.49467658996582, 4.12097692489624, 3.3275344371795654, 0.9507808685302734, 4.125341892242432, 0.15855462849140167, 0.15852539241313934, 0.15852537751197815, 0.1585584133863449, 0.15853075683116913, 0.15853002667427063, 0.15851660072803497, 0.15850941836833954, 0.15850932896137238, 0.15850920975208282, 0.15850909054279327, 0.158512145280838, 0.1585121750831604, 0.15851140022277832, 0.1602030098438263, 0.1585157960653305, 0.15851478278636932, 0.15851134061813354, 0.15851086378097534, 0.15852360427379608, 0.1585131585597992, 0.15851594507694244, 0.15852433443069458, 0.1600559800863266, 0.15931080281734467, 0.15931065380573273, 0.15932288765907288, 0.1589423418045044, 0.15891848504543304, 0.15891487896442413, 0.1589115411043167, 0.1587444692850113, 0.15855693817138672, 0.15854191780090332, 0.15853416919708252, 0.15852665901184082, 0.1585262268781662], \"Total\": [53.0, 33.0, 21.0, 7.0, 7.0, 9.0, 9.0, 9.0, 5.0, 6.0, 7.0, 7.0, 5.0, 4.0, 10.0, 4.0, 4.0, 4.0, 4.0, 10.0, 3.0, 3.0, 5.0, 4.0, 4.0, 2.0, 2.0, 2.0, 2.0, 2.0, 9.70363712310791, 9.702942848205566, 6.7738037109375, 3.8440778255462646, 3.8442587852478027, 2.86759352684021, 2.867593765258789, 1.8909865617752075, 1.890986442565918, 1.8909863233566284, 1.890986680984497, 1.890984058380127, 9.273628234863281, 10.187511444091797, 3.050189971923828, 1.6451436281204224, 1.6450947523117065, 1.645094633102417, 1.6899094581604004, 1.7069436311721802, 1.8284331560134888, 1.8279445171356201, 2.072965621948242, 2.072965145111084, 2.072965621948242, 2.7412405014038086, 2.741502046585083, 2.741501808166504, 4.084653854370117, 4.390139579772949, 5.482175350189209, 53.52739715576172, 33.407676696777344, 21.012672424316406, 10.854639053344727, 7.2552595138549805, 7.254735469818115, 4.568384170532227, 5.299665927886963, 21.012672424316406, 5.482175350189209, 4.5684967041015625, 4.568497180938721, 4.568384170532227, 2.741502046585083, 2.741501808166504, 2.7412405014038086, 1.8279445171356201, 1.8284331560134888, 1.6451436281204224, 1.6450947523117065, 1.645094633102417, 1.6899094581604004, 1.7069436311721802, 1.890984058380127, 1.8909863233566284, 1.890986680984497, 1.890986442565918, 1.8909865617752075, 2.072965621948242, 2.072965145111084, 2.072965621948242, 2.867593765258789, 2.86759352684021, 3.050189971923828, 3.8442587852478027, 3.8440778255462646, 4.084653854370117, 4.390139579772949, 9.702942848205566, 7.2552595138549805, 9.70363712310791, 7.254735469818115, 53.52739715576172, 33.407676696777344, 10.854639053344727, 10.187511444091797, 9.273628234863281, 5.299665927886963, 4.567808151245117, 53.52739715576172, 5.299665927886963, 4.567808151245117, 1.645094633102417, 1.6450947523117065, 1.6451436281204224, 1.6899094581604004, 10.187511444091797, 10.854639053344727, 1.7069436311721802, 1.8279445171356201, 1.8284331560134888, 1.890984058380127, 1.8909863233566284, 1.890986680984497, 1.8909865617752075, 1.890986442565918, 2.072965145111084, 2.072965621948242, 2.072965621948242, 2.7412405014038086, 2.741501808166504, 2.741502046585083, 2.867593765258789, 2.86759352684021, 3.050189971923828, 3.8440778255462646, 3.8442587852478027, 4.084653854370117, 4.390139579772949, 5.547948360443115, 7.865535259246826, 7.865535736083984, 5.482175350189209, 6.7738037109375, 9.702942848205566, 33.407676696777344, 21.012672424316406, 7.2552595138549805, 7.254735469818115, 4.568384170532227, 9.273628234863281, 9.70363712310791, 4.876990795135498, 7.865535736083984, 7.865535259246826, 5.547948360443115, 4.390139579772949, 2.072965621948242, 2.072965621948242, 2.072965145111084, 3.050189971923828, 9.273628234863281, 10.854639053344727, 1.6899094581604004, 1.6451436281204224, 1.6450947523117065, 1.645094633102417, 1.7069436311721802, 1.8279445171356201, 1.8284331560134888, 1.890984058380127, 1.8909863233566284, 1.890986680984497, 1.8909865617752075, 1.890986442565918, 2.7412405014038086, 2.741501808166504, 2.741502046585083, 2.867593765258789, 2.86759352684021, 3.8442587852478027, 3.8440778255462646, 4.084653854370117, 5.299665927886963, 53.52739715576172, 10.187511444091797, 7.2552595138549805, 9.70363712310791, 33.407676696777344, 21.012672424316406, 9.702942848205566, 5.482175350189209, 4.568384170532227, 7.254735469818115, 33.407676696777344, 7.254735469818115, 7.2552595138549805, 4.876990795135498, 4.084653854370117, 1.7069436311721802, 10.854639053344727, 1.6451436281204224, 1.645094633102417, 1.6450947523117065, 1.6899094581604004, 1.8279445171356201, 1.8284331560134888, 1.890984058380127, 1.890986442565918, 1.8909863233566284, 1.890986680984497, 1.8909865617752075, 2.072965145111084, 2.072965621948242, 2.072965621948242, 2.7412405014038086, 2.741501808166504, 2.741502046585083, 2.867593765258789, 2.86759352684021, 3.050189971923828, 3.8440778255462646, 3.8442587852478027, 4.390139579772949, 4.568384170532227, 4.5684967041015625, 4.568497180938721, 9.273628234863281, 10.187511444091797, 9.70363712310791, 6.7738037109375, 5.547948360443115, 53.52739715576172, 21.012672424316406, 9.702942848205566, 5.482175350189209, 4.567808151245117, 5.299665927886963], \"Category\": [\"Default\", \"Default\", \"Default\", \"Default\", \"Default\", \"Default\", \"Default\", \"Default\", \"Default\", \"Default\", \"Default\", \"Default\", \"Default\", \"Default\", \"Default\", \"Default\", \"Default\", \"Default\", \"Default\", \"Default\", \"Default\", \"Default\", \"Default\", \"Default\", \"Default\", \"Default\", \"Default\", \"Default\", \"Default\", \"Default\", \"Topic1\", \"Topic1\", \"Topic1\", \"Topic1\", \"Topic1\", \"Topic1\", \"Topic1\", \"Topic1\", \"Topic1\", \"Topic1\", \"Topic1\", \"Topic1\", \"Topic1\", \"Topic1\", \"Topic1\", \"Topic1\", \"Topic1\", \"Topic1\", \"Topic1\", \"Topic1\", \"Topic1\", \"Topic1\", \"Topic1\", \"Topic1\", \"Topic1\", \"Topic1\", \"Topic1\", \"Topic1\", \"Topic1\", \"Topic1\", \"Topic1\", \"Topic1\", \"Topic1\", \"Topic1\", \"Topic1\", \"Topic1\", \"Topic1\", \"Topic1\", \"Topic1\", \"Topic2\", \"Topic2\", \"Topic2\", \"Topic2\", \"Topic2\", \"Topic2\", \"Topic2\", \"Topic2\", \"Topic2\", \"Topic2\", \"Topic2\", \"Topic2\", \"Topic2\", \"Topic2\", \"Topic2\", \"Topic2\", \"Topic2\", \"Topic2\", \"Topic2\", \"Topic2\", \"Topic2\", \"Topic2\", \"Topic2\", \"Topic2\", \"Topic2\", \"Topic2\", \"Topic2\", \"Topic2\", \"Topic2\", \"Topic2\", \"Topic2\", \"Topic2\", \"Topic2\", \"Topic2\", \"Topic2\", \"Topic2\", \"Topic2\", \"Topic2\", \"Topic2\", \"Topic2\", \"Topic2\", \"Topic3\", \"Topic3\", \"Topic3\", \"Topic3\", \"Topic3\", \"Topic3\", \"Topic3\", \"Topic3\", \"Topic3\", \"Topic3\", \"Topic3\", \"Topic3\", \"Topic3\", \"Topic3\", \"Topic3\", \"Topic3\", \"Topic3\", \"Topic3\", \"Topic3\", \"Topic3\", \"Topic3\", \"Topic3\", \"Topic3\", \"Topic3\", \"Topic3\", \"Topic3\", \"Topic3\", \"Topic3\", \"Topic3\", \"Topic3\", \"Topic3\", \"Topic3\", \"Topic3\", \"Topic3\", \"Topic3\", \"Topic3\", \"Topic3\", \"Topic3\", \"Topic3\", \"Topic3\", \"Topic3\", \"Topic3\", \"Topic3\", \"Topic3\", \"Topic4\", \"Topic4\", \"Topic4\", \"Topic4\", \"Topic4\", \"Topic4\", \"Topic4\", \"Topic4\", \"Topic4\", \"Topic4\", \"Topic4\", \"Topic4\", \"Topic4\", \"Topic4\", \"Topic4\", \"Topic4\", \"Topic4\", \"Topic4\", \"Topic4\", \"Topic4\", \"Topic4\", \"Topic4\", \"Topic4\", \"Topic4\", \"Topic4\", \"Topic4\", \"Topic4\", \"Topic4\", \"Topic4\", \"Topic4\", \"Topic4\", \"Topic4\", \"Topic4\", \"Topic4\", \"Topic4\", \"Topic4\", \"Topic4\", \"Topic4\", \"Topic4\", \"Topic4\", \"Topic4\", \"Topic5\", \"Topic5\", \"Topic5\", \"Topic5\", \"Topic5\", \"Topic5\", \"Topic5\", \"Topic5\", \"Topic5\", \"Topic5\", \"Topic5\", \"Topic5\", \"Topic5\", \"Topic5\", \"Topic5\", \"Topic5\", \"Topic5\", \"Topic5\", \"Topic5\", \"Topic5\", \"Topic5\", \"Topic5\", \"Topic5\", \"Topic5\", \"Topic5\", \"Topic5\", \"Topic5\", \"Topic5\", \"Topic5\", \"Topic5\", \"Topic5\", \"Topic5\", \"Topic5\", \"Topic5\", \"Topic5\", \"Topic5\", \"Topic5\", \"Topic5\", \"Topic5\", \"Topic5\", \"Topic5\", \"Topic5\", \"Topic5\", \"Topic5\"], \"logprob\": [30.0, 29.0, 28.0, 27.0, 26.0, 25.0, 24.0, 23.0, 22.0, 21.0, 20.0, 19.0, 18.0, 17.0, 16.0, 15.0, 14.0, 13.0, 12.0, 11.0, 10.0, 9.0, 8.0, 7.0, 6.0, 5.0, 4.0, 3.0, 2.0, 1.0, -1.8622000217437744, -1.8631999492645264, -2.2565999031066895, -2.9179999828338623, -2.9182000160217285, -3.2925000190734863, -3.2925000190734863, -3.898699998855591, -3.898699998855591, -3.898699998855591, -3.898699998855591, -3.898699998855591, -2.433199882507324, -2.4286000728607178, -3.901599884033203, -5.690000057220459, -5.690199851989746, -5.690199851989746, -5.689899921417236, -5.690100193023682, -5.651299953460693, -5.690199851989746, -5.690299987792969, -5.690299987792969, -5.690299987792969, -5.690299987792969, -5.690299987792969, -5.690299987792969, -5.690100193023682, -5.690199851989746, -5.682000160217285, -5.685500144958496, -5.689700126647949, -5.689899921417236, -5.690000057220459, -5.690000057220459, -5.690100193023682, -5.690199851989746, -5.690199851989746, -0.9289000034332275, -2.3808000087738037, -2.5941998958587646, -2.5941998958587646, -2.594399929046631, -3.240600109100342, -3.240600109100342, -3.2416000366210938, -3.84689998626709, -3.8534998893737793, -5.638000011444092, -5.638299942016602, -5.638299942016602, -5.638000011444092, -5.6381001472473145, -5.638299942016602, -5.638400077819824, -5.638400077819824, -5.638400077819824, -5.638400077819824, -5.638400077819824, -5.638400077819824, -5.638400077819824, -5.638400077819824, -5.638400077819824, -5.638299942016602, -5.635799884796143, -5.638400077819824, -5.6381001472473145, -5.638299942016602, -5.576600074768066, -5.617400169372559, -5.622700214385986, -5.63070011138916, -5.63670015335083, -5.637700080871582, -5.638000011444092, -5.638199806213379, -5.638299942016602, -5.638299942016602, -5.638299942016602, -0.3939000070095062, -2.8492000102996826, -3.024600028991699, -4.491099834442139, -4.491099834442139, -4.491199970245361, -4.582600116729736, -2.852400064468384, -3.028700113296509, -6.28249979019165, -6.28249979019165, -6.28249979019165, -6.282599925994873, -6.282599925994873, -6.282599925994873, -6.282599925994873, -6.282599925994873, -6.282599925994873, -6.282599925994873, -6.282599925994873, -6.282599925994873, -6.282599925994873, -6.282599925994873, -6.282599925994873, -6.282599925994873, -6.282599925994873, -6.280099868774414, -6.282599925994873, -6.28000020980835, -6.282599925994873, -6.275400161743164, -6.2778000831604, -6.2778000831604, -6.279699802398682, -6.280099868774414, -6.280799865722656, -6.2820000648498535, -6.282199859619141, -6.282400131225586, -6.28249979019165, -6.28249979019165, -6.28249979019165, -6.282599925994873, -6.282599925994873, -1.795699954032898, -1.795699954032898, -2.185499906539917, -2.4570000171661377, -3.4377999305725098, -3.4377999305725098, -3.4377999305725098, -3.4349000453948975, -2.455899953842163, -2.82450008392334, -4.808199882507324, -5.228899955749512, -5.229300022125244, -5.229300022125244, -5.229000091552734, -5.2291998863220215, -5.2291998863220215, -5.229400157928467, -5.229499816894531, -5.229499816894531, -5.229499816894531, -5.229499816894531, -5.229300022125244, -5.229400157928467, -5.229400157928467, -5.229499816894531, -5.229499816894531, -5.226900100708008, -5.229400157928467, -5.226500034332275, -5.21560001373291, -5.185200214385986, -5.215400218963623, -5.226500034332275, -5.226799964904785, -5.228799819946289, -5.229000091552734, -5.229100227355957, -5.2291998863220215, -5.2291998863220215, -5.2291998863220215, -0.678600013256073, -2.293100118637085, -2.2934999465942383, -2.7483999729156494, -2.9621999263763428, -4.214900016784668, -2.747299909591675, -6.006100177764893, -6.00629997253418, -6.00629997253418, -6.006100177764893, -6.00629997253418, -6.00629997253418, -6.006400108337402, -6.006400108337402, -6.006400108337402, -6.006400108337402, -6.006400108337402, -6.006400108337402, -6.006400108337402, -6.006400108337402, -5.995800018310547, -6.006400108337402, -6.006400108337402, -6.006400108337402, -6.006400108337402, -6.00629997253418, -6.006400108337402, -6.006400108337402, -6.00629997253418, -5.996699810028076, -6.001399993896484, -6.001399993896484, -6.001299858093262, -6.003699779510498, -6.003799915313721, -6.003799915313721, -6.003900051116943, -6.004899978637695, -6.006100177764893, -6.006199836730957, -6.006199836730957, -6.00629997253418, -6.00629997253418], \"loglift\": [30.0, 29.0, 28.0, 27.0, 26.0, 25.0, 24.0, 23.0, 22.0, 21.0, 20.0, 19.0, 18.0, 17.0, 16.0, 15.0, 14.0, 13.0, 12.0, 11.0, 10.0, 9.0, 8.0, 7.0, 6.0, 5.0, 4.0, 3.0, 2.0, 1.0, 1.5521999597549438, 1.551300048828125, 1.517300009727478, 1.4225000143051147, 1.4221999645233154, 1.340999960899353, 1.340999960899353, 1.1512000560760498, 1.1512000560760498, 1.1512000560760498, 1.1512000560760498, 1.1511000394821167, 1.0266000032424927, 0.9372000098228455, 0.670199990272522, -0.5008000135421753, -0.5009999871253967, -0.5009999871253967, -0.5275999903678894, -0.5378000140190125, -0.567799985408783, -0.6064000129699707, -0.7322999835014343, -0.7322999835014343, -0.7322999835014343, -1.0117000341415405, -1.0118000507354736, -1.0118000507354736, -1.4103000164031982, -1.4825999736785889, -1.6964999437332153, -3.9786999225616455, -3.5114998817443848, -3.048099994659424, -2.3875999450683594, -1.9847999811172485, -1.9847999811172485, -1.5223000049591064, -1.6708999872207642, 1.7129000425338745, 1.604599952697754, 1.5736000537872314, 1.5736000537872314, 1.5734000205993652, 1.4378999471664429, 1.4378999471664429, 1.437000036239624, 1.236899971961975, 1.2300000190734863, -0.4489000141620636, -0.44909998774528503, -0.44909998774528503, -0.4756999909877777, -0.48579999804496765, -0.5885000228881836, -0.5885000228881836, -0.5885000228881836, -0.5885000228881836, -0.5885000228881836, -0.680400013923645, -0.680400013923645, -0.680400013923645, -1.0048999786376953, -1.0048999786376953, -1.066499948501587, -1.2955000400543213, -1.2978999614715576, -1.3583999872207642, -1.4306999444961548, -2.1619999408721924, -1.9121999740600586, -2.208199977874756, -1.9254000186920166, -3.9298999309539795, -3.4595000743865967, -2.335700035095215, -2.27239990234375, -2.178499937057495, -1.618899941444397, -1.4702999591827393, 1.3128000497817993, 1.170199990272522, 1.1433000564575195, 0.6980999708175659, 0.6980999708175659, 0.6978999972343445, 0.5796999931335449, 0.5134000182151794, 0.2736999988555908, -1.1302000284194946, -1.198699951171875, -1.1990000009536743, -1.232699990272522, -1.232800006866455, -1.232800006866455, -1.232800006866455, -1.232800006866455, -1.3245999813079834, -1.3245999813079834, -1.3245999813079834, -1.6039999723434448, -1.604099988937378, -1.604099988937378, -1.6490999460220337, -1.6490999460220337, -1.710800051689148, -1.9397000074386597, -1.942199945449829, -2.000200033187866, -2.075000047683716, -2.301800012588501, -2.6533000469207764, -2.6533000469207764, -2.2941999435424805, -2.506200075149536, -2.8661999702453613, -4.103799819946289, -3.640399932861328, -2.577199935913086, -2.577199935913086, -2.1147000789642334, -2.822700023651123, -2.8680999279022217, -2.1800999641418457, 1.8287999629974365, 1.8287999629974365, 1.7879999876022339, 1.750599980354309, 1.5202000141143799, 1.5202000141143799, 1.5202000141143799, 1.1368999481201172, 1.0039000511169434, 0.4778999984264374, 0.35409998893737793, -0.03970000147819519, -0.04010000079870224, -0.04010000079870224, -0.07680000364780426, -0.1454000025987625, -0.14569999277591705, -0.17949999868869781, -0.17960000038146973, -0.17960000038146973, -0.17960000038146973, -0.17960000038146973, -0.5508000254631042, -0.5508999824523926, -0.5508999824523926, -0.5958999991416931, -0.5960000157356262, -0.8865000009536743, -0.8889999985694885, -0.9467999935150146, -1.1963000297546387, -3.4783999919891357, -1.8495999574661255, -1.521299958229065, -1.8122999668121338, -3.050600051879883, -2.587100028991699, -1.8145999908447266, -1.2437000274658203, -1.061400055885315, -1.523900032043457, 1.4996000528335571, 1.4121999740600586, 1.4118000268936157, 1.354099988937378, 1.3174999952316284, 0.9373000264167786, 0.5551000237464905, -0.8169999718666077, -0.8170999884605408, -0.8170999884605408, -0.8438000082969666, -0.9225000143051147, -0.9228000044822693, -0.9564999938011169, -0.9564999938011169, -0.9564999938011169, -0.9564999938011169, -0.9564999938011169, -1.0484000444412231, -1.0484000444412231, -1.0484000444412231, -1.317199945449829, -1.3279000520706177, -1.3279000520706177, -1.3729000091552734, -1.3729000091552734, -1.434499979019165, -1.6658999919891357, -1.6660000085830688, -1.798699975013733, -1.8288999795913696, -1.8336000442504883, -1.8336000442504883, -2.5415000915527344, -2.6379001140594482, -2.5892999172210693, -2.2298998832702637, -2.0302999019622803, -4.298099994659424, -3.3642001152038574, -2.591599941253662, -2.0208001136779785, -1.8382999897003174, -1.9869999885559082]}, \"token.table\": {\"Topic\": [1, 2, 1, 1, 1, 1, 3, 4, 3, 4, 5, 4, 2, 1, 3, 1, 1, 1, 4, 5, 2, 2, 3, 2, 4, 5, 1, 4, 5, 1, 1, 3, 2, 5, 3, 4, 3, 1, 2, 1, 2, 5, 4, 2, 4, 5, 2, 1, 4, 3, 3], \"Freq\": [0.5288251638412476, 0.8755614757537842, 0.6974489092826843, 0.5288245677947998, 0.927553653717041, 0.528824508190155, 0.6078677773475647, 0.4824007749557495, 0.3685060441493988, 0.2763795256614685, 0.3685060441493988, 0.9111327528953552, 0.5470625758171082, 0.4907969832420349, 0.4907969832420349, 0.7803844809532166, 0.528824508190155, 0.3278484344482422, 0.3278484344482422, 0.8201779127120972, 0.875561535358429, 0.5469163656234741, 0.8756935000419617, 0.7295966744422913, 0.48240065574645996, 0.5858424305915833, 0.6974488496780396, 0.8899585008621216, 0.9877969026565552, 0.5288244485855103, 0.780421257019043, 0.5917477011680603, 0.8755831122398376, 0.8269862532615662, 0.943455696105957, 0.48240065574645996, 0.607849657535553, 0.9274872541427612, 0.7295271754264832, 0.8857652544975281, 0.9120467305183411, 0.7344563603401184, 0.8899584412574768, 0.7295271158218384, 0.9012340307235718, 0.8270459771156311, 0.9518066048622131, 0.5391632914543152, 0.4313306510448456, 0.9901471734046936, 0.6078677177429199], \"Term\": [\"bank\", \"beverage\", \"call\", \"cash-\", \"catering\", \"chadwick\", \"check\", \"compliance\", \"consulting\", \"consulting\", \"consulting\", \"credit\", \"delivery\", \"equipment\", \"equipment\", \"facility\", \"fauskee\", \"fee\", \"fee\", \"finance\", \"food\", \"furniture\", \"gotv\", \"kind-\", \"legal\", \"medium\", \"message\", \"office\", \"payroll\", \"petty\", \"phone\", \"photography\", \"postage\", \"printing\", \"purchase\", \"registration\", \"rent\", \"rental\", \"research\", \"service\", \"staging\", \"subscription\", \"supply\", \"survey\", \"svc\", \"tax\", \"transfer\", \"transportation\", \"transportation\", \"travel\", \"void\"]}, \"R\": 30, \"lambda.step\": 0.01, \"plot.opts\": {\"xlab\": \"PC1\", \"ylab\": \"PC2\"}, \"topic.order\": [1, 2, 3, 4, 5]};\n",
       "\n",
       "function LDAvis_load_lib(url, callback){\n",
       "  var s = document.createElement('script');\n",
       "  s.src = url;\n",
       "  s.async = true;\n",
       "  s.onreadystatechange = s.onload = callback;\n",
       "  s.onerror = function(){console.warn(\"failed to load library \" + url);};\n",
       "  document.getElementsByTagName(\"head\")[0].appendChild(s);\n",
       "}\n",
       "\n",
       "if(typeof(LDAvis) !== \"undefined\"){\n",
       "   // already loaded: just create the visualization\n",
       "   !function(LDAvis){\n",
       "       new LDAvis(\"#\" + \"ldavis_el11809140237837925616566425843\", ldavis_el11809140237837925616566425843_data);\n",
       "   }(LDAvis);\n",
       "}else if(typeof define === \"function\" && define.amd){\n",
       "   // require.js is available: use it to load d3/LDAvis\n",
       "   require.config({paths: {d3: \"https://cdnjs.cloudflare.com/ajax/libs/d3/3.5.5/d3.min\"}});\n",
       "   require([\"d3\"], function(d3){\n",
       "      window.d3 = d3;\n",
       "      LDAvis_load_lib(\"https://cdn.rawgit.com/bmabey/pyLDAvis/files/ldavis.v1.0.0.js\", function(){\n",
       "        new LDAvis(\"#\" + \"ldavis_el11809140237837925616566425843\", ldavis_el11809140237837925616566425843_data);\n",
       "      });\n",
       "    });\n",
       "}else{\n",
       "    // require.js not available: dynamically load d3 & LDAvis\n",
       "    LDAvis_load_lib(\"https://cdnjs.cloudflare.com/ajax/libs/d3/3.5.5/d3.min.js\", function(){\n",
       "         LDAvis_load_lib(\"https://cdn.rawgit.com/bmabey/pyLDAvis/files/ldavis.v1.0.0.js\", function(){\n",
       "                 new LDAvis(\"#\" + \"ldavis_el11809140237837925616566425843\", ldavis_el11809140237837925616566425843_data);\n",
       "            })\n",
       "         });\n",
       "}\n",
       "</script>"
      ],
      "text/plain": [
       "<IPython.core.display.HTML object>"
      ]
     },
     "execution_count": 42,
     "metadata": {},
     "output_type": "execute_result"
    }
   ],
   "source": [
    "dictionary = gensim.corpora.Dictionary.load('dictionary.gensim')\n",
    "corpus = pickle.load(open('corpus.pkl', 'rb'))\n",
    "lda = gensim.models.ldamodel.LdaModel.load('model.gensim')\n",
    "lda_display = pyLDAvis.gensim.prepare(lda, corpus, dictionary, sort_topics=False)\n",
    "pyLDAvis.display(lda_display) "
   ]
  },
  {
   "cell_type": "code",
   "execution_count": null,
   "metadata": {},
   "outputs": [],
   "source": []
  },
  {
   "cell_type": "markdown",
   "metadata": {},
   "source": [
    "## <div class=\"alert alert-block alert-success\"><center>Data Preparation - Hillary Part<center>"
   ]
  },
  {
   "cell_type": "code",
   "execution_count": 6,
   "metadata": {},
   "outputs": [
    {
     "name": "stderr",
     "output_type": "stream",
     "text": [
      "/Users/zhanghuishan/opt/anaconda3/lib/python3.8/site-packages/IPython/core/interactiveshell.py:3071: DtypeWarning: Columns (10,11,14,19,23,24,26,27,28,29,30,33,34,44,45,64,72,73) have mixed types.Specify dtype option on import or set low_memory=False.\n",
      "  has_raised = await self.run_ast_nodes(code_ast.body, cell_name,\n"
     ]
    },
    {
     "data": {
      "text/plain": [
       "147564"
      ]
     },
     "execution_count": 6,
     "metadata": {},
     "output_type": "execute_result"
    }
   ],
   "source": [
    "df_hillary=pd.read_csv('hillary2016.csv')\n",
    "len(df_hillary)"
   ]
  },
  {
   "cell_type": "code",
   "execution_count": 44,
   "metadata": {},
   "outputs": [],
   "source": [
    "df_hillary = df_hillary[['committee_id', 'report_year', 'disbursement_date','recipient_name',\\\n",
    "                     'recipient_state','recipient_city',\\\n",
    "                     'disbursement_purpose_category','disbursement_description','disbursement_amount']]"
   ]
  },
  {
   "cell_type": "code",
   "execution_count": 7,
   "metadata": {},
   "outputs": [],
   "source": [
    "df_hillary.drop(df_hillary[df_hillary['disbursement_purpose_category'] == 'REFUNDS'].index, inplace = True) \n",
    "df_hillary.drop(df_hillary[df_hillary['disbursement_description'].str.contains('refund')].index, inplace = True) \n",
    "df_hillary = df_hillary[df_hillary['disbursement_description'].notna()]"
   ]
  },
  {
   "cell_type": "code",
   "execution_count": 48,
   "metadata": {
    "scrolled": false
   },
   "outputs": [
    {
     "data": {
      "text/plain": [
       "committee_id                       0\n",
       "report_year                        0\n",
       "disbursement_date                  0\n",
       "recipient_name                     0\n",
       "recipient_state                  220\n",
       "recipient_city                    55\n",
       "disbursement_purpose_category      0\n",
       "disbursement_description           0\n",
       "disbursement_amount                0\n",
       "dtype: int64"
      ]
     },
     "execution_count": 48,
     "metadata": {},
     "output_type": "execute_result"
    }
   ],
   "source": [
    "df_hillary.isnull().sum()"
   ]
  },
  {
   "cell_type": "code",
   "execution_count": 51,
   "metadata": {
    "scrolled": true
   },
   "outputs": [
    {
     "data": {
      "text/html": [
       "<div>\n",
       "<style scoped>\n",
       "    .dataframe tbody tr th:only-of-type {\n",
       "        vertical-align: middle;\n",
       "    }\n",
       "\n",
       "    .dataframe tbody tr th {\n",
       "        vertical-align: top;\n",
       "    }\n",
       "\n",
       "    .dataframe thead th {\n",
       "        text-align: right;\n",
       "    }\n",
       "</style>\n",
       "<table border=\"1\" class=\"dataframe\">\n",
       "  <thead>\n",
       "    <tr style=\"text-align: right;\">\n",
       "      <th></th>\n",
       "      <th>disbursement_purpose_category</th>\n",
       "      <th>disbursement_amount</th>\n",
       "    </tr>\n",
       "    <tr>\n",
       "      <th>disbursement_purpose_category</th>\n",
       "      <th></th>\n",
       "      <th></th>\n",
       "    </tr>\n",
       "  </thead>\n",
       "  <tbody>\n",
       "    <tr>\n",
       "      <th>ADMINISTRATIVE</th>\n",
       "      <td>3350</td>\n",
       "      <td>4.876015e+06</td>\n",
       "    </tr>\n",
       "    <tr>\n",
       "      <th>ADVERTISING</th>\n",
       "      <td>2526</td>\n",
       "      <td>3.074348e+08</td>\n",
       "    </tr>\n",
       "    <tr>\n",
       "      <th>CONTRIBUTIONS</th>\n",
       "      <td>21</td>\n",
       "      <td>3.258712e+05</td>\n",
       "    </tr>\n",
       "    <tr>\n",
       "      <th>FUNDRAISING</th>\n",
       "      <td>3599</td>\n",
       "      <td>7.175135e+06</td>\n",
       "    </tr>\n",
       "    <tr>\n",
       "      <th>MATERIALS</th>\n",
       "      <td>2</td>\n",
       "      <td>5.030000e+02</td>\n",
       "    </tr>\n",
       "    <tr>\n",
       "      <th>OTHER</th>\n",
       "      <td>107911</td>\n",
       "      <td>2.057227e+08</td>\n",
       "    </tr>\n",
       "    <tr>\n",
       "      <th>TRAVEL</th>\n",
       "      <td>29</td>\n",
       "      <td>2.244641e+04</td>\n",
       "    </tr>\n",
       "  </tbody>\n",
       "</table>\n",
       "</div>"
      ],
      "text/plain": [
       "                               disbursement_purpose_category  \\\n",
       "disbursement_purpose_category                                  \n",
       "ADMINISTRATIVE                                          3350   \n",
       "ADVERTISING                                             2526   \n",
       "CONTRIBUTIONS                                             21   \n",
       "FUNDRAISING                                             3599   \n",
       "MATERIALS                                                  2   \n",
       "OTHER                                                 107911   \n",
       "TRAVEL                                                    29   \n",
       "\n",
       "                               disbursement_amount  \n",
       "disbursement_purpose_category                       \n",
       "ADMINISTRATIVE                        4.876015e+06  \n",
       "ADVERTISING                           3.074348e+08  \n",
       "CONTRIBUTIONS                         3.258712e+05  \n",
       "FUNDRAISING                           7.175135e+06  \n",
       "MATERIALS                             5.030000e+02  \n",
       "OTHER                                 2.057227e+08  \n",
       "TRAVEL                                2.244641e+04  "
      ]
     },
     "execution_count": 51,
     "metadata": {},
     "output_type": "execute_result"
    }
   ],
   "source": [
    "df_hillary.groupby('disbursement_purpose_category').agg({'disbursement_purpose_category':'count','disbursement_amount':'sum'})"
   ]
  },
  {
   "cell_type": "code",
   "execution_count": 9,
   "metadata": {},
   "outputs": [
    {
     "data": {
      "text/plain": [
       "525557426.2"
      ]
     },
     "execution_count": 9,
     "metadata": {},
     "output_type": "execute_result"
    }
   ],
   "source": [
    "df_hillary.disbursement_amount.sum()"
   ]
  },
  {
   "cell_type": "markdown",
   "metadata": {},
   "source": [
    "## <div class=\"alert alert-block alert-success\"><center>Text Clustering - Hillary Part<center>"
   ]
  },
  {
   "cell_type": "code",
   "execution_count": 49,
   "metadata": {},
   "outputs": [],
   "source": [
    "# Import data for LDA analysis and return text_data\n",
    "import random\n",
    "text_data = []\n",
    "for line in df_hillary['disbursement_description']:\n",
    "    tokens = prepare_text_for_lda(line)\n",
    "    if random.random() > .99:\n",
    "        #print(tokens)\n",
    "        text_data.append(tokens)"
   ]
  },
  {
   "cell_type": "code",
   "execution_count": 50,
   "metadata": {},
   "outputs": [],
   "source": [
    "from gensim import corpora \n",
    "dictionary = corpora.Dictionary(text_data)\n",
    "corpus = [dictionary.doc2bow(text) for text in text_data]\n",
    "import pickle\n",
    "pickle.dump(corpus, open('corpus.pkl', 'wb'))\n",
    "dictionary.save('dictionary.gensim')"
   ]
  },
  {
   "cell_type": "code",
   "execution_count": 78,
   "metadata": {},
   "outputs": [
    {
     "name": "stdout",
     "output_type": "stream",
     "text": [
      "(0, '0.236*\"service\" + 0.236*\"printing\" + 0.055*\"audio\" + 0.055*\"visual\"')\n",
      "(1, '0.332*\"supply\" + 0.284*\"event\" + 0.087*\"office\" + 0.046*\"production\"')\n",
      "(2, '0.405*\"payroll\" + 0.384*\"phone\" + 0.047*\"shipping\" + 0.035*\"fee\"')\n",
      "(3, '0.746*\"travel\" + 0.074*\"subsistence\" + 0.042*\"catering\" + 0.042*\"food\"')\n"
     ]
    }
   ],
   "source": [
    "import gensim # package for topic modeling\n",
    "NUM_TOPICS = 4 # trial number based on understanding of the data file & research aims\n",
    "ldamodel = gensim.models.ldamodel.LdaModel(corpus, num_topics = NUM_TOPICS, id2word=dictionary, passes=20)\n",
    "ldamodel.save('model.gensim')\n",
    "topics = ldamodel.print_topics(num_words=4)\n",
    "for topic in topics:\n",
    "    print(topic)"
   ]
  },
  {
   "cell_type": "code",
   "execution_count": 79,
   "metadata": {
    "scrolled": false
   },
   "outputs": [
    {
     "data": {
      "text/html": [
       "\n",
       "<link rel=\"stylesheet\" type=\"text/css\" href=\"https://cdn.rawgit.com/bmabey/pyLDAvis/files/ldavis.v1.0.0.css\">\n",
       "\n",
       "\n",
       "<div id=\"ldavis_el1180914023801784971259409357\"></div>\n",
       "<script type=\"text/javascript\">\n",
       "\n",
       "var ldavis_el1180914023801784971259409357_data = {\"mdsDat\": {\"x\": [-0.06223258332094464, -0.14213864969530735, -0.19433974243336535, 0.3987109754496175], \"y\": [-0.09267642349628147, -0.2844761258895405, 0.33146811998182174, 0.04568442940400015], \"topics\": [1, 2, 3, 4], \"cluster\": [1, 1, 1, 1], \"Freq\": [13.124218940734863, 22.184730529785156, 24.59257698059082, 40.09846878051758]}, \"tinfo\": {\"Term\": [\"travel\", \"payroll\", \"phone\", \"supply\", \"event\", \"service\", \"printing\", \"office\", \"subsistence\", \"audio\", \"visual\", \"shipping\", \"production\", \"equipment\", \"videography\", \"mail\", \"catering\", \"food\", \"beverage\", \"fee\", \"processing\", \"revenue\", \"rent\", \"direct\", \"interpreting\", \"credit\", \"video\", \"photography\", \"payment\", \"card\", \"service\", \"printing\", \"audio\", \"visual\", \"videography\", \"mail\", \"direct\", \"interpreting\", \"payment\", \"card\", \"transcription\", \"translation\", \"planning\", \"moving\", \"technology\", \"advertsing\", \"advertising\", \"parking\", \"fulfillment\", \"merchandise\", \"benefit\", \"compliance\", \"polling\", \"transportation\", \"insurance\", \"security\", \"kind\", \"transfer\", \"print\", \"subscription\", \"credit\", \"travel\", \"phone\", \"venue\", \"software\", \"event\", \"payroll\", \"shipping\", \"subsistence\", \"supply\", \"event\", \"office\", \"production\", \"equipment\", \"rent\", \"video\", \"photography\", \"computer\", \"medium\", \"postage\", \"utility\", \"consulting\", \"rental\", \"strategic\", \"transfer\", \"kind\", \"transportation\", \"insurance\", \"polling\", \"security\", \"compliance\", \"advertising\", \"advertsing\", \"parking\", \"benefit\", \"fulfillment\", \"merchandise\", \"print\", \"subscription\", \"interpreting\", \"technology\", \"moving\", \"planning\", \"travel\", \"service\", \"payroll\", \"phone\", \"payroll\", \"phone\", \"shipping\", \"fee\", \"processing\", \"revenue\", \"time\", \"staff\", \"subscription\", \"benefit\", \"merchandise\", \"fulfillment\", \"parking\", \"compliance\", \"advertising\", \"advertsing\", \"security\", \"insurance\", \"polling\", \"transportation\", \"kind\", \"transfer\", \"print\", \"strategic\", \"technology\", \"moving\", \"planning\", \"transcription\", \"translation\", \"card\", \"consulting\", \"travel\", \"event\", \"credit\", \"supply\", \"subsistence\", \"printing\", \"production\", \"service\", \"utility\", \"venue\", \"software\", \"beverage\", \"travel\", \"subsistence\", \"catering\", \"food\", \"beverage\", \"software\", \"venue\", \"credit\", \"print\", \"advertising\", \"advertsing\", \"benefit\", \"merchandise\", \"fulfillment\", \"parking\", \"compliance\", \"security\", \"kind\", \"transfer\", \"polling\", \"transportation\", \"insurance\", \"staff\", \"time\", \"subscription\", \"strategic\", \"technology\", \"moving\", \"planning\", \"translation\", \"rental\", \"visual\", \"audio\", \"event\", \"supply\", \"service\", \"direct\", \"payroll\", \"equipment\", \"phone\", \"mail\", \"production\", \"revenue\", \"fee\", \"processing\"], \"Freq\": [471.0, 158.0, 149.0, 117.0, 100.0, 49.0, 49.0, 31.0, 48.0, 12.0, 12.0, 19.0, 17.0, 15.0, 9.0, 9.0, 27.0, 27.0, 27.0, 14.0, 14.0, 14.0, 11.0, 6.0, 6.0, 17.0, 7.0, 7.0, 4.0, 4.0, 48.68442916870117, 48.6790771484375, 11.308871269226074, 11.308175086975098, 8.672593116760254, 8.669499397277832, 5.998138427734375, 5.9553375244140625, 3.335533380508423, 3.3355276584625244, 3.335442304611206, 3.3354384899139404, 3.3294858932495117, 3.325695514678955, 3.3256337642669678, 0.6719232201576233, 0.6719173192977905, 0.672602653503418, 0.6695328950881958, 0.66953045129776, 0.6694995760917664, 0.6741853356361389, 0.6707214713096619, 0.6707194447517395, 0.6707189083099365, 0.6689918041229248, 0.6678805351257324, 0.6678788065910339, 0.6714351177215576, 0.6720019578933716, 3.563326835632324, 0.7368273735046387, 0.7089409232139587, 0.6761898994445801, 0.6761296391487122, 0.6806145906448364, 0.6803005933761597, 0.6721928119659424, 0.6721755862236023, 115.90009307861328, 99.02330780029297, 30.41362953186035, 15.953825950622559, 14.752604484558105, 9.935476303100586, 6.32330322265625, 6.323295593261719, 5.118460178375244, 5.118443489074707, 3.9128713607788086, 3.912268877029419, 3.9110324382781982, 3.879575729370117, 2.709336757659912, 1.50519859790802, 1.505195140838623, 1.5035330057144165, 1.5035326480865479, 1.5035263299942017, 1.4964901208877563, 0.9512985348701477, 0.3016822934150696, 0.30168041586875916, 0.3017708659172058, 0.3014202117919922, 0.30141758918762207, 0.3014172613620758, 0.30163368582725525, 0.3017176687717438, 0.3231569230556488, 0.30561357736587524, 0.3055829703807831, 0.30387529730796814, 0.31248560547828674, 0.3048778176307678, 0.3037530779838562, 0.3035258948802948, 156.8450927734375, 148.734375, 18.22566795349121, 13.726134300231934, 13.726133346557617, 13.72612476348877, 2.023858070373535, 2.023855209350586, 2.0225865840911865, 1.1240404844284058, 1.1240320205688477, 1.1240313053131104, 1.1226119995117188, 0.6365246176719666, 0.22531405091285706, 0.2253122329711914, 0.22514888644218445, 0.2252562940120697, 0.22525523602962494, 0.22525420784950256, 0.22508706152439117, 0.22508604824543, 0.22528880834579468, 0.22513151168823242, 0.2250705361366272, 0.22507227957248688, 0.22506742179393768, 0.22506870329380035, 0.22506777942180634, 0.22505870461463928, 0.22718429565429688, 0.24524807929992676, 0.2394818216562271, 0.23142282664775848, 0.23583197593688965, 0.23288993537425995, 0.23216304183006287, 0.22833754122257233, 0.22598695755004883, 0.22568346560001373, 0.22559650242328644, 0.22557763755321503, 0.22533296048641205, 470.277587890625, 46.8917236328125, 26.556745529174805, 26.556711196899414, 26.55665397644043, 3.951648235321045, 3.951587438583374, 12.926385879516602, 1.693342685699463, 0.9397224187850952, 0.939723551273346, 0.18841709196567535, 0.18841736018657684, 0.18841703236103058, 0.18849284946918488, 0.18852505087852478, 0.19344112277030945, 0.18837538361549377, 0.18837469816207886, 0.1884530484676361, 0.1884501874446869, 0.18844889104366302, 0.18879033625125885, 0.18878954648971558, 0.1888621300458908, 0.18839743733406067, 0.18836864829063416, 0.1883687973022461, 0.18836691975593567, 0.1883692890405655, 0.20978082716464996, 0.19771011173725128, 0.19751162827014923, 0.2041095495223999, 0.20206403732299805, 0.19010356068611145, 0.19002942740917206, 0.18980440497398376, 0.18979737162590027, 0.18965187668800354, 0.18924395740032196, 0.18917642533779144, 0.18892602622509003, 0.18892455101013184, 0.18891465663909912], \"Total\": [471.0, 158.0, 149.0, 117.0, 100.0, 49.0, 49.0, 31.0, 48.0, 12.0, 12.0, 19.0, 17.0, 15.0, 9.0, 9.0, 27.0, 27.0, 27.0, 14.0, 14.0, 14.0, 11.0, 6.0, 6.0, 17.0, 7.0, 7.0, 4.0, 4.0, 49.405399322509766, 49.401283264160156, 12.03262710571289, 12.032126426696777, 9.387231826782227, 9.385013580322266, 6.714432239532471, 6.691939830780029, 4.0501275062561035, 4.050124168395996, 4.050070285797119, 4.050067901611328, 4.04679536819458, 4.044719696044922, 4.044686317443848, 2.138639450073242, 2.1386361122131348, 2.285478353500366, 2.2833986282348633, 2.2833971977233887, 2.2833774089813232, 2.450533390045166, 2.587955951690674, 2.5879569053649902, 2.587956666946411, 2.5840721130371094, 2.586538314819336, 2.586538076400757, 2.891700267791748, 3.1851682662963867, 17.022838592529297, 471.5721435546875, 149.93649291992188, 5.155616283416748, 5.155552864074707, 100.14751434326172, 158.01895141601562, 19.388322830200195, 48.0987548828125, 117.00772094726562, 100.14751434326172, 31.495973587036133, 17.039897918701172, 15.835999488830566, 11.019515037536621, 7.40478515625, 7.404790878295898, 6.200481414794922, 6.200491428375244, 4.996799468994141, 4.9966654777526855, 4.995372295379639, 4.983276844024658, 3.7914254665374756, 2.586538076400757, 2.586538314819336, 2.5879569053649902, 2.587956666946411, 2.587955951690674, 2.5840721130371094, 2.450533390045166, 2.1386361122131348, 2.138639450073242, 2.285478353500366, 2.2833774089813232, 2.2833986282348633, 2.2833971977233887, 2.891700267791748, 3.1851682662963867, 6.691939830780029, 4.044686317443848, 4.044719696044922, 4.04679536819458, 471.5721435546875, 49.405399322509766, 158.01895141601562, 149.93649291992188, 158.01895141601562, 149.93649291992188, 19.388322830200195, 14.884875297546387, 14.884875297546387, 14.884881973266602, 3.1833198070526123, 3.1833250522613525, 3.1851682662963867, 2.2833774089813232, 2.2833971977233887, 2.2833986282348633, 2.285478353500366, 2.450533390045166, 2.1386361122131348, 2.138639450073242, 2.5840721130371094, 2.587956666946411, 2.587955951690674, 2.5879569053649902, 2.586538314819336, 2.586538076400757, 2.891700267791748, 3.7914254665374756, 4.044686317443848, 4.044719696044922, 4.04679536819458, 4.050070285797119, 4.050067901611328, 4.050124168395996, 4.995372295379639, 471.5721435546875, 100.14751434326172, 17.022838592529297, 117.00772094726562, 48.0987548828125, 49.401283264160156, 17.039897918701172, 49.405399322509766, 4.9966654777526855, 5.155616283416748, 5.155552864074707, 27.753395080566406, 471.5721435546875, 48.0987548828125, 27.753297805786133, 27.753341674804688, 27.753395080566406, 5.155552864074707, 5.155616283416748, 17.022838592529297, 2.891700267791748, 2.1386361122131348, 2.138639450073242, 2.2833774089813232, 2.2833971977233887, 2.2833986282348633, 2.285478353500366, 2.450533390045166, 2.5840721130371094, 2.586538314819336, 2.586538076400757, 2.587955951690674, 2.5879569053649902, 2.587956666946411, 3.1833250522613525, 3.1833198070526123, 3.1851682662963867, 3.7914254665374756, 4.044686317443848, 4.044719696044922, 4.04679536819458, 4.050067901611328, 4.983276844024658, 12.032126426696777, 12.03262710571289, 100.14751434326172, 117.00772094726562, 49.405399322509766, 6.714432239532471, 158.01895141601562, 15.835999488830566, 149.93649291992188, 9.385013580322266, 17.039897918701172, 14.884881973266602, 14.884875297546387, 14.884875297546387], \"Category\": [\"Default\", \"Default\", \"Default\", \"Default\", \"Default\", \"Default\", \"Default\", \"Default\", \"Default\", \"Default\", \"Default\", \"Default\", \"Default\", \"Default\", \"Default\", \"Default\", \"Default\", \"Default\", \"Default\", \"Default\", \"Default\", \"Default\", \"Default\", \"Default\", \"Default\", \"Default\", \"Default\", \"Default\", \"Default\", \"Default\", \"Topic1\", \"Topic1\", \"Topic1\", \"Topic1\", \"Topic1\", \"Topic1\", \"Topic1\", \"Topic1\", \"Topic1\", \"Topic1\", \"Topic1\", \"Topic1\", \"Topic1\", \"Topic1\", \"Topic1\", \"Topic1\", \"Topic1\", \"Topic1\", \"Topic1\", \"Topic1\", \"Topic1\", \"Topic1\", \"Topic1\", \"Topic1\", \"Topic1\", \"Topic1\", \"Topic1\", \"Topic1\", \"Topic1\", \"Topic1\", \"Topic1\", \"Topic1\", \"Topic1\", \"Topic1\", \"Topic1\", \"Topic1\", \"Topic1\", \"Topic1\", \"Topic1\", \"Topic2\", \"Topic2\", \"Topic2\", \"Topic2\", \"Topic2\", \"Topic2\", \"Topic2\", \"Topic2\", \"Topic2\", \"Topic2\", \"Topic2\", \"Topic2\", \"Topic2\", \"Topic2\", \"Topic2\", \"Topic2\", \"Topic2\", \"Topic2\", \"Topic2\", \"Topic2\", \"Topic2\", \"Topic2\", \"Topic2\", \"Topic2\", \"Topic2\", \"Topic2\", \"Topic2\", \"Topic2\", \"Topic2\", \"Topic2\", \"Topic2\", \"Topic2\", \"Topic2\", \"Topic2\", \"Topic2\", \"Topic2\", \"Topic2\", \"Topic2\", \"Topic3\", \"Topic3\", \"Topic3\", \"Topic3\", \"Topic3\", \"Topic3\", \"Topic3\", \"Topic3\", \"Topic3\", \"Topic3\", \"Topic3\", \"Topic3\", \"Topic3\", \"Topic3\", \"Topic3\", \"Topic3\", \"Topic3\", \"Topic3\", \"Topic3\", \"Topic3\", \"Topic3\", \"Topic3\", \"Topic3\", \"Topic3\", \"Topic3\", \"Topic3\", \"Topic3\", \"Topic3\", \"Topic3\", \"Topic3\", \"Topic3\", \"Topic3\", \"Topic3\", \"Topic3\", \"Topic3\", \"Topic3\", \"Topic3\", \"Topic3\", \"Topic3\", \"Topic3\", \"Topic3\", \"Topic3\", \"Topic3\", \"Topic4\", \"Topic4\", \"Topic4\", \"Topic4\", \"Topic4\", \"Topic4\", \"Topic4\", \"Topic4\", \"Topic4\", \"Topic4\", \"Topic4\", \"Topic4\", \"Topic4\", \"Topic4\", \"Topic4\", \"Topic4\", \"Topic4\", \"Topic4\", \"Topic4\", \"Topic4\", \"Topic4\", \"Topic4\", \"Topic4\", \"Topic4\", \"Topic4\", \"Topic4\", \"Topic4\", \"Topic4\", \"Topic4\", \"Topic4\", \"Topic4\", \"Topic4\", \"Topic4\", \"Topic4\", \"Topic4\", \"Topic4\", \"Topic4\", \"Topic4\", \"Topic4\", \"Topic4\", \"Topic4\", \"Topic4\", \"Topic4\", \"Topic4\", \"Topic4\"], \"logprob\": [30.0, 29.0, 28.0, 27.0, 26.0, 25.0, 24.0, 23.0, 22.0, 21.0, 20.0, 19.0, 18.0, 17.0, 16.0, 15.0, 14.0, 13.0, 12.0, 11.0, 10.0, 9.0, 8.0, 7.0, 6.0, 5.0, 4.0, 3.0, 2.0, 1.0, -1.444700002670288, -1.4448000192642212, -2.904400110244751, -2.9045000076293945, -3.1698999404907227, -3.1702001094818115, -3.538599967956543, -3.5457000732421875, -4.125400066375732, -4.125400066375732, -4.125400066375732, -4.125400066375732, -4.127200126647949, -4.128300189971924, -4.128399848937988, -5.72760009765625, -5.72760009765625, -5.726600170135498, -5.731200218200684, -5.731200218200684, -5.731299877166748, -5.724299907684326, -5.729400157928467, -5.729400157928467, -5.729400157928467, -5.73199987411499, -5.733699798583984, -5.733699798583984, -5.728400230407715, -5.727499961853027, -4.059299945831299, -5.63539981842041, -5.673999786376953, -5.72130012512207, -5.721399784088135, -5.714799880981445, -5.715199947357178, -5.727200031280518, -5.72730016708374, -1.1022000312805176, -1.259600043296814, -2.4400999546051025, -3.0852999687194824, -3.163599967956543, -3.5589001178741455, -4.010700225830078, -4.010700225830078, -4.222099781036377, -4.222099781036377, -4.490699768066406, -4.490900039672852, -4.491199970245361, -4.499199867248535, -4.85830020904541, -5.446000099182129, -5.446100234985352, -5.447199821472168, -5.447199821472168, -5.447199821472168, -5.451900005340576, -5.904900074005127, -7.053400039672852, -7.053400039672852, -7.053100109100342, -7.054200172424316, -7.054200172424316, -7.054200172424316, -7.053500175476074, -7.053199768066406, -6.984600067138672, -7.04040002822876, -7.040500164031982, -7.04610013961792, -7.018199920654297, -7.042799949645996, -7.046500205993652, -7.047299861907959, -0.9028000235557556, -0.9559000134468079, -3.0552000999450684, -3.33870005607605, -3.33870005607605, -3.33870005607605, -5.252999782562256, -5.252999782562256, -5.253600120544434, -5.841100215911865, -5.841100215911865, -5.841100215911865, -5.842400074005127, -6.4096999168396, -7.448299884796143, -7.448299884796143, -7.448999881744385, -7.448500156402588, -7.448500156402588, -7.448500156402588, -7.4492998123168945, -7.4492998123168945, -7.448400020599365, -7.449100017547607, -7.449399948120117, -7.4492998123168945, -7.449399948120117, -7.449399948120117, -7.449399948120117, -7.449399948120117, -7.440000057220459, -7.363500118255615, -7.38730001449585, -7.421500205993652, -7.402599811553955, -7.415200233459473, -7.418300151824951, -7.434899806976318, -7.445300102233887, -7.446599960327148, -7.447000026702881, -7.4471001625061035, -7.448200225830078, -0.2935999929904938, -2.599100112915039, -3.16759991645813, -3.16759991645813, -3.16759991645813, -5.072800159454346, -5.072800159454346, -3.8875999450683594, -5.920199871063232, -6.509099960327148, -6.509099960327148, -8.116000175476074, -8.116000175476074, -8.116000175476074, -8.115599632263184, -8.115400314331055, -8.089699745178223, -8.11620044708252, -8.11620044708252, -8.115799903869629, -8.115799903869629, -8.115799903869629, -8.11400032043457, -8.11400032043457, -8.11359977722168, -8.116100311279297, -8.116299629211426, -8.116299629211426, -8.116299629211426, -8.116299629211426, -8.008600234985352, -8.067899703979492, -8.068900108337402, -8.03600025177002, -8.046099662780762, -8.107099533081055, -8.107500076293945, -8.108699798583984, -8.108699798583984, -8.10949993133545, -8.111599922180176, -8.112000465393066, -8.113300323486328, -8.113300323486328, -8.11340045928955], \"loglift\": [30.0, 29.0, 28.0, 27.0, 26.0, 25.0, 24.0, 23.0, 22.0, 21.0, 20.0, 19.0, 18.0, 17.0, 16.0, 15.0, 14.0, 13.0, 12.0, 11.0, 10.0, 9.0, 8.0, 7.0, 6.0, 5.0, 4.0, 3.0, 2.0, 1.0, 2.0160000324249268, 2.0160000324249268, 1.9687000513076782, 1.9687000513076782, 1.9515000581741333, 1.9514000415802002, 1.9178999662399292, 1.9141000509262085, 1.8365999460220337, 1.8365999460220337, 1.8365999460220337, 1.8365999460220337, 1.8356000185012817, 1.8350000381469727, 1.8350000381469727, 0.8729000091552734, 0.8729000091552734, 0.8075000047683716, 0.8039000034332275, 0.8039000034332275, 0.8037999868392944, 0.7401999831199646, 0.680400013923645, 0.680400013923645, 0.680400013923645, 0.6794000267982483, 0.6766999959945679, 0.6766999959945679, 0.5705000162124634, 0.474700003862381, 0.4668000042438507, -4.430799961090088, -3.323499917984009, -0.000699999975040555, -0.000699999975040555, -2.960700035095215, -3.4172000885009766, -1.3312000036239624, -2.239799976348877, 1.4962999820709229, 1.4945000410079956, 1.4708000421524048, 1.4399000406265259, 1.4349000453948975, 1.4021999835968018, 1.3479000329971313, 1.3479000329971313, 1.3140000104904175, 1.3140000104904175, 1.261199951171875, 1.2611000537872314, 1.2611000537872314, 1.2553999423980713, 1.169700026512146, 0.9643999934196472, 0.9643999934196472, 0.9627000093460083, 0.9627000093460083, 0.9627000093460083, 0.9595000147819519, 0.559499979019165, -0.4528000056743622, -0.4528000056743622, -0.5188999772071838, -0.51910001039505, -0.5192000269889832, -0.5192000269889832, -0.7545999884605408, -0.8510000109672546, -1.5247999429702759, -1.0771000385284424, -1.0772000551223755, -1.083299994468689, -5.813499927520752, -3.5820999145507812, -4.748499870300293, -4.696700096130371, 1.395300030708313, 1.394700050354004, 1.34089994430542, 1.3216999769210815, 1.3216999769210815, 1.3216999769210815, 0.9498000144958496, 0.9498000144958496, 0.9485999941825867, 0.6940000057220459, 0.6940000057220459, 0.6940000057220459, 0.6917999982833862, 0.05469999834895134, -0.8476999998092651, -0.8476999998092651, -1.037600040435791, -1.038699984550476, -1.038699984550476, -1.038699984550476, -1.0389000177383423, -1.0389000177383423, -1.1495000123977661, -1.4211000204086304, -1.4859999418258667, -1.4859999418258667, -1.4866000413894653, -1.4874000549316406, -1.4874000549316406, -1.4874000549316406, -1.6878000497817993, -6.15880012512207, -4.633200168609619, -2.8952999114990234, -4.804200172424316, -3.9277000427246094, -3.9576001167297363, -2.9098000526428223, -3.984600067138672, -1.694700002670288, -1.7264000177383423, -1.7264000177383423, -3.410799980163574, 0.9110999703407288, 0.8884000182151794, 0.8697999715805054, 0.8697999715805054, 0.8697999715805054, 0.6478999853134155, 0.6478999853134155, 0.6384999752044678, 0.37869998812675476, 0.09149999916553497, 0.09149999916553497, -1.580899953842163, -1.580899953842163, -1.580899953842163, -1.5814000368118286, -1.6510000228881836, -1.6783000230789185, -1.7058000564575195, -1.7058000564575195, -1.705899953842163, -1.7059999704360962, -1.7059999704360962, -1.9112000465393066, -1.9112000465393066, -1.9113999605178833, -2.088099956512451, -2.152899980545044, -2.152899980545044, -2.1535000801086426, -2.1542999744415283, -2.2539000511169434, -3.194700002670288, -3.19569993019104, -5.281899929046631, -5.4475998878479, -4.646399974822998, -2.6510000228881836, -5.8105998039245605, -3.5102999210357666, -5.758900165557861, -2.990000009536743, -3.5868000984191895, -3.452899932861328, -3.452899932861328, -3.453000068664551]}, \"token.table\": {\"Topic\": [1, 4, 1, 4, 1, 1, 3, 1, 4, 1, 1, 4, 1, 2, 3, 1, 2, 1, 2, 1, 4, 1, 1, 2, 1, 2, 1, 3, 1, 4, 1, 3, 1, 2, 1, 1, 2, 1, 1, 2, 1, 3, 1, 1, 2, 1, 3, 1, 1, 3, 1, 3, 1, 2, 1, 1, 2, 1, 2, 1, 4, 1, 1, 3, 1, 2, 1, 2, 1, 2, 1, 3, 1, 2, 1, 1, 3, 1, 4, 1, 3, 1, 2, 1, 3, 1, 4, 1, 2, 1, 1, 3, 1, 1, 2, 1, 1, 2, 1, 4, 1, 2, 1, 4, 1, 2, 1, 1], \"Freq\": [0.46758773922920227, 0.46758773922920227, 0.4675869941711426, 0.4675869941711426, 0.9141810536384583, 0.43794775009155273, 0.43794775009155273, 0.03603162616491318, 0.97285395860672, 0.7407180070877075, 0.036031752824783325, 0.9728573560714722, 0.40807440876960754, 0.40807440876960754, 0.40807440876960754, 0.16127780079841614, 0.8063889741897583, 0.20018528401851654, 0.8007411360740662, 0.23497843742370605, 0.7636799216270447, 0.8935975432395935, 0.06314726173877716, 0.9472089409828186, 0.009985269978642464, 0.9885417819023132, 0.06718228757381439, 0.9405520558357239, 0.03603169694542885, 0.972855806350708, 0.4379436671733856, 0.4379436671733856, 0.38640522956848145, 0.7728104591369629, 0.8966010212898254, 0.38661712408065796, 0.7732342481613159, 0.9589757323265076, 0.16127753257751465, 0.806387722492218, 0.4379439651966095, 0.4379439651966095, 0.7417077422142029, 0.031750090420246124, 0.9525027275085449, 0.43754515051841736, 0.43754515051841736, 0.7407174110412598, 0.0063283550553023815, 0.9935517311096191, 0.006669490598142147, 0.9937540888786316, 0.13504770398139954, 0.8102862238883972, 0.7413273453712463, 0.386405348777771, 0.772810697555542, 0.20012810826301575, 0.800512433052063, 0.34581729769706726, 0.6916345953941345, 0.9918770790100098, 0.06718228757381439, 0.9405520558357239, 0.058685798197984695, 0.9389727711677551, 0.09074809402227402, 0.9074809551239014, 0.20067116618156433, 0.8026846647262573, 0.067182257771492, 0.9405516386032104, 0.38698610663414, 0.38698610663414, 0.9917944073677063, 0.05157743766903877, 0.9283938407897949, 0.1939656138420105, 0.775862455368042, 0.31413695216178894, 0.6282739043235779, 0.2637530565261841, 0.7912591099739075, 0.313955157995224, 0.627910315990448, 0.02079055830836296, 0.9771562814712524, 0.008546444587409496, 0.9913875460624695, 0.7417138814926147, 0.31413745880126953, 0.6282749176025391, 0.7407279014587402, 0.38661715388298035, 0.7732343077659607, 0.7407283186912537, 0.38640519976615906, 0.7728103995323181, 0.0021205663215368986, 0.9966661930084229, 0.20013347268104553, 0.8005338907241821, 0.19396322965621948, 0.7758529186248779, 0.1350478082895279, 0.810286819934845, 0.9587491154670715, 0.9142191410064697], \"Term\": [\"advertising\", \"advertising\", \"advertsing\", \"advertsing\", \"audio\", \"benefit\", \"benefit\", \"beverage\", \"beverage\", \"card\", \"catering\", \"catering\", \"compliance\", \"compliance\", \"compliance\", \"computer\", \"computer\", \"consulting\", \"consulting\", \"credit\", \"credit\", \"direct\", \"equipment\", \"equipment\", \"event\", \"event\", \"fee\", \"fee\", \"food\", \"food\", \"fulfillment\", \"fulfillment\", \"insurance\", \"insurance\", \"interpreting\", \"kind\", \"kind\", \"mail\", \"medium\", \"medium\", \"merchandise\", \"merchandise\", \"moving\", \"office\", \"office\", \"parking\", \"parking\", \"payment\", \"payroll\", \"payroll\", \"phone\", \"phone\", \"photography\", \"photography\", \"planning\", \"polling\", \"polling\", \"postage\", \"postage\", \"print\", \"print\", \"printing\", \"processing\", \"processing\", \"production\", \"production\", \"rent\", \"rent\", \"rental\", \"rental\", \"revenue\", \"revenue\", \"security\", \"security\", \"service\", \"shipping\", \"shipping\", \"software\", \"software\", \"staff\", \"staff\", \"strategic\", \"strategic\", \"subscription\", \"subscription\", \"subsistence\", \"subsistence\", \"supply\", \"supply\", \"technology\", \"time\", \"time\", \"transcription\", \"transfer\", \"transfer\", \"translation\", \"transportation\", \"transportation\", \"travel\", \"travel\", \"utility\", \"utility\", \"venue\", \"venue\", \"video\", \"video\", \"videography\", \"visual\"]}, \"R\": 30, \"lambda.step\": 0.01, \"plot.opts\": {\"xlab\": \"PC1\", \"ylab\": \"PC2\"}, \"topic.order\": [1, 2, 3, 4]};\n",
       "\n",
       "function LDAvis_load_lib(url, callback){\n",
       "  var s = document.createElement('script');\n",
       "  s.src = url;\n",
       "  s.async = true;\n",
       "  s.onreadystatechange = s.onload = callback;\n",
       "  s.onerror = function(){console.warn(\"failed to load library \" + url);};\n",
       "  document.getElementsByTagName(\"head\")[0].appendChild(s);\n",
       "}\n",
       "\n",
       "if(typeof(LDAvis) !== \"undefined\"){\n",
       "   // already loaded: just create the visualization\n",
       "   !function(LDAvis){\n",
       "       new LDAvis(\"#\" + \"ldavis_el1180914023801784971259409357\", ldavis_el1180914023801784971259409357_data);\n",
       "   }(LDAvis);\n",
       "}else if(typeof define === \"function\" && define.amd){\n",
       "   // require.js is available: use it to load d3/LDAvis\n",
       "   require.config({paths: {d3: \"https://cdnjs.cloudflare.com/ajax/libs/d3/3.5.5/d3.min\"}});\n",
       "   require([\"d3\"], function(d3){\n",
       "      window.d3 = d3;\n",
       "      LDAvis_load_lib(\"https://cdn.rawgit.com/bmabey/pyLDAvis/files/ldavis.v1.0.0.js\", function(){\n",
       "        new LDAvis(\"#\" + \"ldavis_el1180914023801784971259409357\", ldavis_el1180914023801784971259409357_data);\n",
       "      });\n",
       "    });\n",
       "}else{\n",
       "    // require.js not available: dynamically load d3 & LDAvis\n",
       "    LDAvis_load_lib(\"https://cdnjs.cloudflare.com/ajax/libs/d3/3.5.5/d3.min.js\", function(){\n",
       "         LDAvis_load_lib(\"https://cdn.rawgit.com/bmabey/pyLDAvis/files/ldavis.v1.0.0.js\", function(){\n",
       "                 new LDAvis(\"#\" + \"ldavis_el1180914023801784971259409357\", ldavis_el1180914023801784971259409357_data);\n",
       "            })\n",
       "         });\n",
       "}\n",
       "</script>"
      ],
      "text/plain": [
       "<IPython.core.display.HTML object>"
      ]
     },
     "execution_count": 79,
     "metadata": {},
     "output_type": "execute_result"
    }
   ],
   "source": [
    "import pyLDAvis.gensim \n",
    "dictionary = gensim.corpora.Dictionary.load('dictionary.gensim')\n",
    "corpus = pickle.load(open('corpus.pkl', 'rb'))\n",
    "lda = gensim.models.ldamodel.LdaModel.load('model.gensim')\n",
    "lda_display = pyLDAvis.gensim.prepare(lda, corpus, dictionary, sort_topics=False)\n",
    "pyLDAvis.display(lda_display) "
   ]
  },
  {
   "cell_type": "code",
   "execution_count": null,
   "metadata": {},
   "outputs": [],
   "source": []
  }
 ],
 "metadata": {
  "kernelspec": {
   "display_name": "Python 3",
   "language": "python",
   "name": "python3"
  },
  "language_info": {
   "codemirror_mode": {
    "name": "ipython",
    "version": 3
   },
   "file_extension": ".py",
   "mimetype": "text/x-python",
   "name": "python",
   "nbconvert_exporter": "python",
   "pygments_lexer": "ipython3",
   "version": "3.8.3"
  }
 },
 "nbformat": 4,
 "nbformat_minor": 4
}
